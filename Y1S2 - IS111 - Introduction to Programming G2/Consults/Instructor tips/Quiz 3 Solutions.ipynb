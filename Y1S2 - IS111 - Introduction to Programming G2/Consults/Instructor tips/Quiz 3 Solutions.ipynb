{
 "cells": [
  {
   "cell_type": "markdown",
   "id": "a3eb48c5-6a06-4c2d-9b54-57cfdd1f3957",
   "metadata": {
    "jp-MarkdownHeadingCollapsed": true,
    "tags": []
   },
   "source": [
    "## Question 1 [List slicing]\n",
    "\n",
    "You are provided with the following code snippet:\n",
    "```python\n",
    "def some_function():\n",
    "    a = [1, 2]\n",
    "    __________\n",
    "    print(a)\n",
    "\n",
    "some_function()\n",
    "```\n",
    "\n",
    "When the snippet is executed, the following output is printed to the console:\n",
    "```\n",
    "[1, 2, 1]\n",
    "```\n",
    "\n",
    "What code should be filled into the blank (i.e., in line `3` of the function definition of `some_function()`) to produce the output as shown?"
   ]
  },
  {
   "cell_type": "markdown",
   "id": "730830a1-4b12-490c-bb88-334d0d100b84",
   "metadata": {},
   "source": [
    "### Solution\n",
    "- `a.append(\"1\")` # wrong, appends a string\n",
    "- `a += a[0]` &nbsp;&nbsp;&nbsp;&nbsp;&nbsp;&nbsp;&nbsp; # indexing (i.e., `a[0]`) returns an `int` instead of a list, cannot concatenate `int` to `list`\n",
    "- <u>`a += a[:1]`</u> &nbsp;&nbsp;&nbsp;&nbsp;&nbsp; # correct, list slicing (i.e., `a[:1]`) always returns a list, which can be concatenated to `a` via list concatenation \n",
    "- None of the above"
   ]
  },
  {
   "cell_type": "markdown",
   "id": "dd4d7164-c5a9-4c8c-b38c-c1036f84c7d9",
   "metadata": {
    "jp-MarkdownHeadingCollapsed": true,
    "tags": []
   },
   "source": [
    "## Question 2 [Manipulating variables in for-loops]\n",
    "\n",
    "You are provided with the following code snippet:\n",
    "```python\n",
    "temp = ''\n",
    "my_list = ['a', 'b', 'c']\n",
    "for temp in range(len(my_list)):\n",
    "    temp = my_list[temp]  # assigns an element in `my_list` to `temp` based on the value of `temp` set above\n",
    "    temp = temp + temp    # string concatenation (e.g., temp = 'a' + 'a')\n",
    "```\n",
    "\n",
    "What is the value of `temp` after executing the code snippet?"
   ]
  },
  {
   "cell_type": "markdown",
   "id": "a4700436-2e11-4fff-8e2e-6b90ad618e27",
   "metadata": {},
   "source": [
    "### Solution\n",
    "- <u>`cc`</u> # correct; we replace the value of `temp` in each for-loop iteration via `temp = my_list[temp]` and `temp = temp + temp`\n",
    "- `4`\n",
    "- `'22'`\n",
    "- The code cannot be executed"
   ]
  },
  {
   "cell_type": "markdown",
   "id": "1a315185-02ec-4737-87d5-eb168ee4c709",
   "metadata": {
    "jp-MarkdownHeadingCollapsed": true,
    "tags": []
   },
   "source": [
    "## Question 3 [Memory state in for-loops]\n",
    "\n",
    "You are provided with the following code snippet:\n",
    "```python\n",
    "temp = ''\n",
    "my_list = ['a', 'b', 'c']\n",
    "for temp in range(len(my_list)):\n",
    "    temp = my_list[temp]\n",
    "    temp = temp + temp\n",
    "```\n",
    "\n",
    "What is the value of `my_list` after executing the code snippet?"
   ]
  },
  {
   "cell_type": "markdown",
   "id": "aba1e472-a954-4a09-8501-dbf52940384b",
   "metadata": {},
   "source": [
    "### Solution\n",
    "- <u>`['a', 'b', 'c']`</u> # correct; no new values are assigned to `my_list` (e.g., `my_list[0] = temp`)\n",
    "- `[1, 2, 3]`\n",
    "- `['1', '2', '3']`\n",
    "- The code cannot be executed\n",
    "\n",
    "Note: please review Memory State Diagrams if you got this question wrong."
   ]
  },
  {
   "cell_type": "markdown",
   "id": "966d6d82-f5c2-4ae9-932b-ddf04754d4f6",
   "metadata": {
    "jp-MarkdownHeadingCollapsed": true,
    "tags": []
   },
   "source": [
    "## Question 4\n",
    "\n",
    "Solution:\n",
    "```\n",
    "iter ('5'): [8, 8, 9]\n",
    "iter ('8'): [8, 8]\n",
    "```\n",
    "\n",
    "- 1 mark for having **both** iteration indices printed correctly \n",
    "    - e.g., if I see `iter (5):` and `iter (8):` somewhere in your solution.\n",
    "- 1 mark for correct list output for both lists"
   ]
  },
  {
   "cell_type": "code",
   "execution_count": null,
   "id": "b1087338-f5e4-4a9d-b123-74bce4013e12",
   "metadata": {},
   "outputs": [],
   "source": [
    "# Commented code\n",
    "\n",
    "def find_minimum_index(a_list):\n",
    "    result = -1  # placeholder variable, \n",
    "    if len(a_list) == 0:  # we return -1 if there are no elements within \"a_list\"\n",
    "        return result\n",
    "    minimum_value = int(a_list[0])           # notice that \"minimum_value\" is always the first element in \"a_list\"\n",
    "    for i in range(len(a_list)):             # so when we iterate through the position indices of \"a_list\"\n",
    "        if int(a_list[i]) <= minimum_value:  # \"result\" is always updated if the element at that position <= \"minimum_value\"\n",
    "            result = i\n",
    "    return result  # so this function actually returns the position index of the last element smaller than \"a_list[0]\"\n",
    "\n",
    "\n",
    "def shrink_list(to_shrink_list, shrink_index=-1):\n",
    "    \n",
    "    # First part: to_shrink_list[:shrink_index:3]\n",
    "    #     This slices \"to_shrink_list\", with a starting index of 0, ending index of \"shrink_index\", and step of 3\n",
    "    #     It is easier to do this in two steps; first write out the whole slice from positions 0 to \"shrink_index\",\n",
    "    #     and then remove every 2nd and 3rd number.\n",
    "    \n",
    "    # Second part: to_shrink_list[shrink_index+1::3]\n",
    "    #     This slices \"to_shrink_list\", with a starting index of \"shrink_index\"+1, ending index of \"len(to_shink_list)\", and step of 3\n",
    "    #     However, notice that \"shrink_index\" is a keyword argument with a default value of -1. \n",
    "    #     So if no \"shrink_index\" argument is given when \"shrink_list()\" is called, (Line 35)\n",
    "    #     it will actually slice \"to_shrink_list\" from the start (i.e., position index 0).\n",
    "    \n",
    "    # the result of this list concatenation is returned to the original function call (and not printed)!\n",
    "    return to_shrink_list[:shrink_index:3] + to_shrink_list[shrink_index+1::3]\n",
    "\n",
    "\n",
    "my_list = [8, 4, 1, 6, 3, 2, 7, 5, 0, 9]\n",
    "# my_list = [4, 1, 3, 2, 0]  # this is commented out, and does not update the value of \"my_list\"!\n",
    "for i in range(len(my_list)//2, len(my_list), 3):   # this iterates through range(10//2, 10, 3), which gives us (5, 8)\n",
    "    print('iter (\\'' + str(i) + '\\'): ', end='')    # this prints \"iter (5):\" on the first iteration (notice there is no new line being printed)\n",
    "    j = find_minimum_index(my_list)                 # assigns the returned position index to \"j\"\n",
    "    my_list = shrink_list(my_list, shrink_index=j)  # we remove the element at position j, and **update** the value of \"my_list\"\n",
    "    print(shrink_list(my_list))                     # we print the results of \"shrink_list()\", but DO NOT update the value of \"my_list\"\n",
    "\n",
    "\n",
    "\n",
    "    \n",
    "# CODE TRACING\n",
    "    \n",
    "# First iteration (starting from Line 33):\n",
    "# [Line 33] i := 5  (note: I am using := to denote \"the value of\", so this line tells you that the value of \"i\" is 5)\n",
    "# [Line 34] print \"iter (5):\" to the output\n",
    "# [Line 35] j := 8 (as the last element smaller than my_list[0] is the number 0, at position index 8)\n",
    "# [Line 36] First part: slice from 0 to 8 to give us [8, 4, 1, 6, 3, 2, 7, 5]. Then, take every 3rd element to give us [8, 6, 7]\n",
    "#           Second part: slice from 8+1 to the end to give us [9]. Taking every 3rd element gives us [9]\n",
    "#           Output of \"shrink_list()\" := [8, 6, 7] + [9]\n",
    "#           Hence, my_list := [8, 6, 7, 9]        (this IS NOT printed to the output, DO update \"my_list\")\n",
    "# [Line 37] First part: slice from 0 to -1 to give us [8, 6, 7]. Then, take every 3rd element to give us [8]\n",
    "#           Second part: slice from 0 to the end to give us [8, 6, 7, 9]. Taking every 3rd element gives us [8, 9]\n",
    "#           Output of \"shrink_list()\" := [8] + [8, 9]\n",
    "#           Hence, print ([8, 8, 9])           (this IS printed to the output, DO NOT update \"my_list\")\n",
    "\n",
    "\n",
    "# REMINDER: now, my_list := [8, 6, 7, 9]\n",
    "\n",
    "# Second iteration\n",
    "# [Line 33] i := 8\n",
    "# [Line 34] print \"iter (8):\" to the output\n",
    "# [Line 35] j := 2 (as the last element smaller than my_list[0] is the number 7, at position index 2)\n",
    "# [Line 36] First part: slice from 0 to 2 to give us [8, 6]. Then, take every 3rd element to give us [8]\n",
    "#           Second part: slice from 2+1 to the end to give us [9]. Taking every 3rd element gives us [9]\n",
    "#           Output of \"shrink_list()\" := [8] + [9]\n",
    "#           Hence, my_list := [8, 9]           (this IS NOT printed to the output, DO update \"my_list\")\n",
    "# [Line 37] First part: slice from 0 to -1 to give us [8]. Then, take every 3rd element to give us [8]\n",
    "#           Second part: slice from 0 to the end to give us [8, 9]. Taking every 3rd element gives us [8]\n",
    "#           Output of \"shrink_list()\" := [8] + [8]\n",
    "#           Hence, print ([8, 8])           (this IS printed to the output, DO NOT update \"my_list\")"
   ]
  },
  {
   "cell_type": "markdown",
   "id": "55558f34-8f5d-40a6-8735-96717c0a55a2",
   "metadata": {},
   "source": [
    "### Question Feedback\n",
    "\n",
    "- The crux of this question is on the list slicing in `shrink_list()`\n",
    "    - Take note of the two step process to simplify slicing with steps\n",
    "    - You should be able to read `find_minimum_index()` once and write out what this function does (see my comment in Line 11), instead of going back to it each time in Line 35, \n",
    "- Please be careful about what you are printing (e.g., \"inter (5):\")\n",
    "- Some solutions still show unfamiliarity of backslash-escaped characters in strings\n",
    "    - What should be the output of `print('iter (\\'')`?\n",
    "- Also unfamiliar with the positional argument of `end` in `print()`\n",
    "    - What is the difference between `print('hello')` and `print('hello', end=' world')`?\n",
    "\n",
    "Lastly, even if you are unsure about the solution, provide as much information as you can in your answer! I noticed some answers which start with `iter (5):` but missed out on the next part (i.e., `iter (8):`) which would have given them some method marks."
   ]
  },
  {
   "cell_type": "markdown",
   "id": "00d22b08-ce24-49a2-827d-d3061445e5dd",
   "metadata": {
    "jp-MarkdownHeadingCollapsed": true,
    "tags": []
   },
   "source": [
    "## Question 5\n",
    "\n",
    "Solution:\n",
    "```\n",
    "5 34 \n",
    "7 8 13 21 34\n",
    "```\n",
    "\n",
    "- 1 mark for having `i` and `target` in **both** lines printed correctly\n",
    "- 1 mark for correct list output for both lists"
   ]
  },
  {
   "cell_type": "code",
   "execution_count": null,
   "id": "05cb8bef-34b5-4b9f-bcad-4d45b733e6ca",
   "metadata": {},
   "outputs": [],
   "source": [
    "# Commented code\n",
    "\n",
    "a_list = [0, 1, 1, 2, 3, 5, 8, 13, 21, 34]\n",
    "b_list = [3, 1, 4, 1, 5, 9, 2, 6, 5]         # actually a list of \"target\" a_list indices (see comments in Line 7)\n",
    "\n",
    "for i in range(len(b_list)):                 # this iterates through range(9), which gives us [0, 1, 2, 3, 4, 5, 6, 7, 8]\n",
    "    target = a_list[b_list[i]]               # notice that we are using i as an index for b_list; identical elements in \"b_list\" will give the same output\n",
    "    mystery =  []\n",
    "    for j in a_list:                         # given the \"target\" value, we iterate through all elements \"j\" in a_list \n",
    "        if j > target:                       # and if j is larger than the target,\n",
    "            mystery.append(j)                # we append it to \"mystery\"\n",
    "    if len(mystery) <= 3:                    # if there are at most 3 elements in \"mystery\",\n",
    "        result = ''\n",
    "        for el in mystery:\n",
    "            result = result + str(el) + ' '  # we join each element in mystery using a space\n",
    "        print(i, target, result[:-1])        # and print \"i\", \"target\", and \"result\" joined by a space\n",
    "\n",
    "\n",
    "\n",
    "# STRATEGY\n",
    "\n",
    "# First, understand what the general idea of the code is:\n",
    "#   1) For some value \"target\" in \"a_list\" [Line 7]\n",
    "#   2) We add the elements in \"a_list\" that are larger than \"target\" to a list \"mystery\" [Lines 9-11]\n",
    "#   3) If there are at most 3 such elements in \"mystery\", we print some output [Lines 12 to 16]\n",
    "\n",
    "# Next, notice that \"a_list\" is arranged in ascending order. So, for there to be at most 3 elements,\n",
    "# \"target\" must be either 8, 13, 21, or 34 (i.e., position indices 6 to 9)\n",
    "\n",
    "# We know that the value of \"target\" is set by the value in \"b_list\" (i.e., element in b_list is a position index for a_list)\n",
    "# so we are only interested in the elements 9 and 6 in \"b_list\". \n",
    "# The position indices of these two elements are 5 and 7 respectively.\n",
    "\n",
    "\n",
    "# CODE TRACING\n",
    "\n",
    "# Skip i := 0 to i := 4 (as explained in STRATEGY)\n",
    "\n",
    "# [Line 6] i := 5\n",
    "# [Line 7] target := a_list[b_list[5]] := a_list[9] := 34 \n",
    "# [Lines 9-11] mystery := []  (all elements in \"a_list\" larger than \"target\")\n",
    "# [Line 13-15] result := \"\"\n",
    "# [Line 16] print(5, 34, \"\")\n",
    "\n",
    "# Skip i := 6 (as explained in STRATEGY)\n",
    "\n",
    "# [Line 6] i := 7\n",
    "# [Line 7] target := a_list[b_list[7]] := a_list[6] := 8\n",
    "# [Lines 9-11] mystery := [13, 21, 34]  (all elements in \"a_list\" larger than \"target\")\n",
    "# [Line 13-15] result := \"13 21 34\"\n",
    "# [Line 16] print(7, 8, \"13 21 34\")\n",
    "\n",
    "# Skip i := 8 to i := 9 (as explained in STRATEGY)"
   ]
  },
  {
   "cell_type": "markdown",
   "id": "7c22e764-6255-495b-94cf-c363e1cc3079",
   "metadata": {},
   "source": [
    "### Question Feedback\n",
    "\n",
    "- This question can still be done in the code tracing manner (as shown in Q4), it will just take longer\n",
    "    - By writing out the pseudocode, you can spot the general idea of the code (see `STRATEGY`), which will help you answer the question\n",
    "- Very few attempts for this question, as compared to Q4. \n",
    "    - If you are stuck on any question in the Lab Test or Finals, you can skip it first and attempt other questions.\n",
    "    - Questions _may not_ be ordered in ascending difficulty."
   ]
  }
 ],
 "metadata": {
  "kernelspec": {
   "display_name": "Python 3 (ipykernel)",
   "language": "python",
   "name": "python3"
  },
  "language_info": {
   "codemirror_mode": {
    "name": "ipython",
    "version": 3
   },
   "file_extension": ".py",
   "mimetype": "text/x-python",
   "name": "python",
   "nbconvert_exporter": "python",
   "pygments_lexer": "ipython3",
   "version": "3.9.15"
  }
 },
 "nbformat": 4,
 "nbformat_minor": 5
}
