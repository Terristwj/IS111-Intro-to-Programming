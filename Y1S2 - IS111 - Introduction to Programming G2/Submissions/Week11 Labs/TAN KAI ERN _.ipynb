{
 "cells": [
  {
   "cell_type": "markdown",
   "metadata": {},
   "source": [
    "<table class=\"table table-bordered\">\n",
    "    <tr>\n",
    "        <th style=\"text-align:center; width:35%\"><img src='https://drive.google.com/uc?export=view&id=1zIB3Nw_z8N2SJSSdd2yWQIsDS0MGPYKm' style=\"width: 300px; height: 90px; \"></th>\n",
    "        <th style=\"text-align:center;\"><h3>IS111 - Lab 8</h3><h3>Dictionaries</h3></th>\n",
    "    </tr>\n",
    "</table>"
   ]
  },
  {
   "cell_type": "markdown",
   "metadata": {},
   "source": [
    "## Q1: Substitution Cipher\n",
    "\n",
    "\"A __substitution cipher__ is a method of encoding by which units of plaintext are replaced with ciphertext, according to a fixed system.\" See https://en.wikipedia.org/wiki/Substitution_cipher.\n",
    "\n",
    "In this question, we consider a simple substitution cipher that replaces each letter in the original message with another letter.\n",
    "\n",
    "### Part (a) [ &bigstar; ]\n",
    "\n",
    "You are given a dictionary that stores the mappings from English lowercase letters to their replacements. Note that no two letters will be mapped to the same replacement.\n",
    "\n",
    "Define a function called `encrypt()` that takes in two parameters:\n",
    "\n",
    "- `my_dict` (type: `dict`): a dictionary as described above. \n",
    "- `msg` (type: `str`): a message consisting of only lowercase letters and spaces.\n",
    "\n",
    "The function returns the encrypted message using `my_dict` as the substitution cipher. Note that a space remains untouched in the encrypted message."
   ]
  },
  {
   "cell_type": "code",
   "execution_count": null,
   "metadata": {},
   "outputs": [],
   "source": [
    "# Write your function definition here.\n",
    "def encrypt(my_dict,msg):\n",
    "    newstr= ''\n",
    "    for i in msg:\n",
    "        if i !=' ':\n",
    "            ch=my_dict[i]\n",
    "        else: \n",
    "            ch=i\n",
    "        newstr+=ch\n",
    "    return newstr    "
   ]
  },
  {
   "cell_type": "code",
   "execution_count": null,
   "metadata": {},
   "outputs": [],
   "source": [
    "# Test cases used to test your function\n",
    "\n",
    "cipher_dict = {'a':'n', 'b':'o', 'c':'p',\n",
    "             'd':'q', 'e':'r', 'f':'s',\n",
    "             'g':'t','h':'u','i':'v',\n",
    "             'j':'w', 'k':'x','l':'y',\n",
    "             'm':'z','n':'a','o':'b',\n",
    "             'p':'c','q':'d','r':'e',\n",
    "             's':'f','t':'g','u':'h',\n",
    "             'v':'i', 'w':'j','x':'k',\n",
    "             'y':'l','z':'m'}\n",
    "\n",
    "print('\\nTestcase')\n",
    "print('-' * 10)\n",
    "print(\"Expected: v ybir clguba\")\n",
    "msg = 'i love python'\n",
    "print(\"Actual  : \" + encrypt(cipher_dict, msg))"
   ]
  },
  {
   "cell_type": "markdown",
   "metadata": {},
   "source": [
    "### Part (b) [ &bigstar;&bigstar; ]\n",
    "\n",
    "Now define a function called `decrypt()`. This function also takes in two parameters:\n",
    "\n",
    "- `my_dict` (type: `dict`): a dictionary as described above. \n",
    "- `encrypted_msg` (type: `str`): an __encrypted__ message.\n",
    "\n",
    "The function returns the original message, i.e., the message that has been encrypted into the string `encrypted_msg`."
   ]
  },
  {
   "cell_type": "code",
   "execution_count": 1,
   "metadata": {},
   "outputs": [],
   "source": [
    "# Write your function definition here.\n",
    "\n",
    "def reverse_dict(my_dict):\n",
    "    new_dict={}\n",
    "    for key in my_dict:\n",
    "        value=my_dict[key]\n",
    "        new_dict[value]=key \n",
    "    return new_dict\n",
    "\n",
    "def decrypt(my_dict, msg):\n",
    "    rev=reverse_dict(my_dict)\n",
    "    newstr= ''\n",
    "    for i in msg:\n",
    "        if i !=' ':\n",
    "            ch=rev[i]\n",
    "        else: \n",
    "            ch=i\n",
    "        newstr+=ch\n",
    "    return newstr    \n",
    "    \n",
    "    \n",
    " \n",
    "\n",
    "\n"
   ]
  },
  {
   "cell_type": "code",
   "execution_count": 2,
   "metadata": {},
   "outputs": [
    {
     "name": "stdout",
     "output_type": "stream",
     "text": [
      "\n",
      "Testcase\n",
      "----------\n",
      "Expected: i love python\n",
      "Actual  : i love python\n"
     ]
    }
   ],
   "source": [
    "cipher_dict = {'a':'n', 'b':'o', 'c':'p',\n",
    "             'd':'q', 'e':'r', 'f':'s',\n",
    "             'g':'t','h':'u','i':'v',\n",
    "             'j':'w', 'k':'x','l':'y',\n",
    "             'm':'z','n':'a','o':'b',\n",
    "             'p':'c','q':'d','r':'e',\n",
    "             's':'f','t':'g','u':'h',\n",
    "             'v':'i', 'w':'j','x':'k',\n",
    "             'y':'l','z':'m'}\n",
    "\n",
    "print('\\nTestcase')\n",
    "print('-' * 10)\n",
    "msg = 'v ybir clguba'\n",
    "print(\"Expected: i love python\")\n",
    "print(\"Actual  : \" + decrypt(cipher_dict, msg))"
   ]
  },
  {
   "cell_type": "markdown",
   "metadata": {},
   "source": [
    "## Q2: Prime Numbers [ &bigstar;&bigstar; ] \n",
    "\n",
    "\n",
    "Define a function called ```create_prime_dict()``` that takes in a list of integers greater than 1 (without any duplicates) as its parameter. The function creates a dictionary that maps each integer in the list to a boolean value that indicates whether or not this integer is a prime number.\n",
    "\n",
    "Recall that a prime number is a number that is divisible only by 1 and itself.\n",
    "\n",
    "For example, ```create_prime_dict([2, 3, 5, 10, 20, 23])``` returns a dictionary that looks like the following: ```{2:True, 3:True, 5:True, 10:False, 20:False, 23:True}```."
   ]
  },
  {
   "cell_type": "code",
   "execution_count": null,
   "metadata": {},
   "outputs": [],
   "source": [
    "# Put your code here:\n",
    "\n",
    "def prime_check(no):\n",
    "    if no%2!=0 or no==2:\n",
    "        return True\n",
    "    else:\n",
    "        return False\n",
    "    \n",
    "def create_prime_dict(my_list):\n",
    "    new_dict={}\n",
    "    for i in my_list:\n",
    "        value=prime_check(i)\n",
    "        new_dict[i]=value\n",
    "    return new_dict\n"
   ]
  },
  {
   "cell_type": "code",
   "execution_count": null,
   "metadata": {},
   "outputs": [],
   "source": [
    "print('\\nTestcase 1')\n",
    "print('-' * 10)\n",
    "my_list = [2, 3, 5, 10, 20, 23]\n",
    "print(\"Expected: {2: True, 3: True, 5: True, 10: False, 20: False, 23: True}\")\n",
    "print(\"Actual  : \" + str(create_prime_dict(my_list)))\n",
    "\n",
    "print('\\nTestcase 2')\n",
    "print('-' * 10)\n",
    "my_list = [4, 5, 6, 8, 11, 12]\n",
    "print(\"Expected: {4: False, 5: True, 6: False, 8: False, 11: True, 12: False}\")\n",
    "print(\"Actual  : \" + str(create_prime_dict(my_list)))"
   ]
  },
  {
   "cell_type": "markdown",
   "metadata": {},
   "source": [
    "## Q3: Facilities \n",
    "\n",
    "You are given a file called \"facilities.txt\" that stores the information of some facilities in SMU. Each line of the file contains the following columns of information, separated by tabs.\n",
    "\n",
    "```\n",
    "school    room_number    capacity    has_projector\n",
    "```\n",
    "\n",
    "Note that different schools may have the same room number. For example, both SIS and SOE may have an MR-5.1. But within each school the room numbers are unique.\n",
    "\n",
    "### Part (a) [ &bigstar;&bigstar; ]\n",
    "\n",
    "Write a program that allows a user to continuously check the details of a room until the user chooses to quit the program.\n",
    "\n",
    "A sample run of the program may look like the following:\n",
    "\n",
    "```\n",
    "Do you want to search for a facility? [Y|N] :Y\n",
    "Enter the school [LKCSB|SOE|SOL|SOA|SIS] :SOE\n",
    "Enter the room number :SR-3.1\n",
    "SOE SR-3.1 has a capacity of 50 and has a projector.\n",
    "\n",
    "Do you want to continue the search? [Y|N] :Y\n",
    "Enter the school [LKCSB|SOE|SOL|SOA|SIS] :SIS\n",
    "Enter the room number :MR-4.3\n",
    "SIS MR-4.3 has a capacity of 15 and does not have a projector.\n",
    "\n",
    "Do you want to continue the search? [Y|N] :Y\n",
    "Enter the school [LKCSB|SOE|SOL|SOA|SIS] :SIS\n",
    "Enter the room number :SR-3.1\n",
    "SIS SR-3.1 has a capacity of 60 and has a projector.\n",
    "\n",
    "Do you want to continue the search? [Y|N] :N\n",
    "Thanks for using our system!\n",
    "```"
   ]
  },
  {
   "cell_type": "code",
   "execution_count": 3,
   "metadata": {},
   "outputs": [
    {
     "name": "stdout",
     "output_type": "stream",
     "text": [
      "Do you want to search for a facility? [Y|N] :Y\n",
      "Enter the school [LKCSB|SOE|SOL|SOA|SIS] :SIS\n",
      "Enter the room number :SR-3.1\n",
      "SIS SR-3.1 has a capacity of 60 and has a projector.\n",
      "Do you want to continue the search? [Y|N] :N\n"
     ]
    },
    {
     "ename": "TypeError",
     "evalue": "'str' object is not callable",
     "output_type": "error",
     "traceback": [
      "\u001b[1;31m---------------------------------------------------------------------------\u001b[0m",
      "\u001b[1;31mTypeError\u001b[0m                                 Traceback (most recent call last)",
      "Input \u001b[1;32mIn [3]\u001b[0m, in \u001b[0;36m<cell line: 31>\u001b[1;34m()\u001b[0m\n\u001b[0;32m     27\u001b[0m     \u001b[38;5;28mprint\u001b[39m\u001b[38;5;241m=\u001b[39m\u001b[38;5;124m'\u001b[39m\u001b[38;5;124m'\u001b[39m\n\u001b[0;32m     28\u001b[0m     prompt\u001b[38;5;241m=\u001b[39m\u001b[38;5;28minput\u001b[39m(\u001b[38;5;124m'\u001b[39m\u001b[38;5;124mDo you want to continue the search? [Y|N] :\u001b[39m\u001b[38;5;124m'\u001b[39m)\n\u001b[1;32m---> 31\u001b[0m \u001b[38;5;28;43mprint\u001b[39;49m\u001b[43m(\u001b[49m\u001b[38;5;124;43m'\u001b[39;49m\u001b[38;5;124;43mThanks for using our system!\u001b[39;49m\u001b[38;5;124;43m'\u001b[39;49m\u001b[43m)\u001b[49m\n",
      "\u001b[1;31mTypeError\u001b[0m: 'str' object is not callable"
     ]
    }
   ],
   "source": [
    "# Put your code here:\n",
    "with open('facilities.txt','r') as my_file:\n",
    "    newdict={}\n",
    "    for line in my_file:\n",
    "        line=line.rstrip('\\n')\n",
    "        columns=line.split('\\t')\n",
    "        school=columns[0]\n",
    "        room_no=columns[1]\n",
    "        capacity=columns[2]\n",
    "        has_projector=columns[3]\n",
    "        newdict[(school,room_no)]=(capacity,has_projector)\n",
    "\n",
    "\n",
    "\n",
    "prompt=input('Do you want to search for a facility? [Y|N] :')\n",
    "\n",
    "while prompt=='Y':\n",
    "    school=input('Enter the school [LKCSB|SOE|SOL|SOA|SIS] :')\n",
    "    room_no=input('Enter the room number :')\n",
    "    info=newdict[(school,room_no)]\n",
    "    capacity=info[0]\n",
    "    has_projector=info[1]\n",
    "    if has_projector=='yes':\n",
    "        print(school,room_no,'has a capacity of',capacity,'and has a projector.')\n",
    "    else:\n",
    "        print(school,room_no,'has a capacity of',capacity,'and does not have a projector.')\n",
    "    print=''\n",
    "    prompt=input('Do you want to continue the search? [Y|N] :')\n",
    "\n",
    "\n",
    "print(\"Thanks for using our system!\")\n",
    "\n"
   ]
  },
  {
   "cell_type": "markdown",
   "metadata": {},
   "source": [
    "### Part (b) [ &bigstar;&bigstar;&bigstar; ]\n",
    "\n",
    "Write a program that allows a user to continuously search for all the facilities within a school until the user chooses to quit the program.\n",
    "\n",
    "A sample run of the program may look like the following:\n",
    "\n",
    "```\n",
    "Do you want to search for the facilities within a school? [Y|N]:Y\n",
    "Enter the school [LKCSB|SOE|SOL|SOA|SIS]:SIS\n",
    "The following facilities are in SIS:\n",
    "    Room #    Cap    Projector?\n",
    "    ------    ---    ----------\n",
    "    SR-3.1    60     yes\n",
    "    SR-3.2    50     yes\n",
    "    SR-3.3    50     yes\n",
    "    CR-3.1    20     no\n",
    "    CR-3.2    20     no\n",
    "    CR-3.3    15     no\n",
    "    MR-4.1    20     yes\n",
    "    MR-4.3    15     no\n",
    "    MR-4.4    30     yes\n",
    "\n",
    "Do you want to search for the facilities within a school? [Y|N]:Y\n",
    "Enter the school [LKCSB|SOE|SOL|SOA|SIS]:SOL\n",
    "The following facilities are in SOL:\n",
    "    Room #    Cap    Projector?\n",
    "    ------    ---    ----------\n",
    "    SR-2.1    60     yes\n",
    "    SR-2.2    70     yes\n",
    "    SR-2.3    65     yes\n",
    "    CR-3.1    20     yes\n",
    "    CR-3.2    20     yes\n",
    "    CR-3.3    15     no\n",
    "    MR-5.1    25     yes\n",
    "    MR-5.2    20     no\n",
    "\n",
    "Do you want to search for the facilities within a school? [Y|N]:N\n",
    "Good-bye!\n",
    "```\n",
    "\n",
    "__Hint:__ You should use a different dictionary than the one used in Part (a) for this question. Note that here the key is only a school name."
   ]
  },
  {
   "cell_type": "code",
   "execution_count": null,
   "metadata": {},
   "outputs": [],
   "source": [
    "# Put your code here:\n",
    "with open('facilities.txt','r') as my_file:\n",
    "    newdict={}\n",
    "    for line in my_file:\n",
    "        line=line.rstrip('\\n')\n",
    "        columns=line.split('\\t')\n",
    "        school=columns[0]\n",
    "        room_no=columns[1]\n",
    "        capacity=columns[2]\n",
    "        has_projector=columns[3]\n",
    "        values=(room_no, capacity, has_projector)\n",
    "        if school not in newdict:\n",
    "            newdict[school]=[values]\n",
    "        elif school in newdict:\n",
    "            values_list=newdict[school]\n",
    "            values_list.append(values)\n",
    "            newdict[school]=values_list\n",
    "        \n",
    "\n",
    "                    \n",
    "prompt=input('Do you want to search for the facilities within a school? [Y|N]:')\n",
    "\n",
    "while prompt=='Y':\n",
    "    school=input('Enter the school [LKCSB|SOE|SOL|SOA|SIS]:')\n",
    "    print('The following facilities are in '+ str(school)+':')\n",
    "    print('    Room #    Cap    Projector?')\n",
    "    print('    ------    ---    ----------')\n",
    "    values_list=newdict[school]\n",
    "    for t in values_list:\n",
    "        room_no=t[0]\n",
    "        capacity=t[1]\n",
    "        has_projector=t[2]\n",
    "        print('    '+room_no+'\\t'+capacity+'\\t'+has_projector)\n",
    "    print('')\n",
    "    prompt=input('Do you want to search for the facilities within a school? [Y|N]:')\n",
    "    \n",
    "print('Good-bye!')\n",
    "  \n",
    "\n",
    "\n"
   ]
  },
  {
   "cell_type": "markdown",
   "metadata": {},
   "source": [
    "### Part (c) [ &bigstar;&bigstar;&bigstar; ]\n",
    "\n",
    "Write a program that allows a user to continuously search for the facilities with a mininum capacity within a school until the user chooses to quit the program.\n",
    "\n",
    "A sample run of the program may look like the following:\n",
    "\n",
    "```\n",
    "Do you want to search for the facilities within a school? [Y|N]:Y\n",
    "Enter the school [LKCSB|SOE|SOL|SOA|SIS]:SIS\n",
    "Enter the minimum capacity you need:20\n",
    "The following facilities with a capacity of 20 or above are found in SIS:\n",
    "\tRoom #\tCap\tProjector?\n",
    "\t------\t---\t----------\n",
    "\tSR-3.1\t60\tyes\n",
    "\tSR-3.2\t50\tyes\n",
    "\tSR-3.3\t50\tyes\n",
    "\tCR-3.1\t20\tno\n",
    "\tCR-3.2\t20\tno\n",
    "\tMR-4.1\t20\tyes\n",
    "\tMR-4.4\t30\tyes\n",
    "\n",
    "Do you want to search for the facilities within a school? [Y|N]:Y\n",
    "Enter the school [LKCSB|SOE|SOL|SOA|SIS]:SOL\n",
    "Enter the minimum capacity you need:50\n",
    "The following facilities with a capacity of 50 or above are found in SOL:\n",
    "\tRoom #\tCap\tProjector?\n",
    "\t------\t---\t----------\n",
    "\tSR-2.1\t60\tyes\n",
    "\tSR-2.2\t70\tyes\n",
    "\tSR-2.3\t65\tyes\n",
    "\n",
    "Do you want to search for the facilities within a school? [Y|N]:N\n",
    "Good-bye!\n",
    "```\n",
    "\n",
    "__Hint:__ Do NOT include the capacity as part of a key. Here you should first retrieve all the facilities in the given school and then go through them one by one to find those satisfying the capacity requirement."
   ]
  },
  {
   "cell_type": "code",
   "execution_count": 1,
   "metadata": {},
   "outputs": [
    {
     "name": "stdout",
     "output_type": "stream",
     "text": [
      "Do you want to search for the facilities within a school? [Y|N]:Y\n",
      "Enter the school [LKCSB|SOE|SOL|SOA|SIS]:SIS\n",
      "Enter the minimum capacity you need:20\n",
      "The following facilities with a capacity of 20 or above are found in SIS:\n",
      "    Room #    Cap    Projector?\n",
      "    ------    ---    ----------\n",
      "    SR-3.1\t60\tyes\n",
      "    SR-3.2\t50\tyes\n",
      "    SR-3.3\t50\tyes\n",
      "    CR-3.1\t20\tno\n",
      "    CR-3.2\t20\tno\n",
      "    MR-4.1\t20\tyes\n",
      "    MR-4.4\t30\tyes\n",
      "Do you want to search for the facilities within a school? [Y|N]:N\n",
      "Good-bye!\n"
     ]
    }
   ],
   "source": [
    "# Put your code here:\n",
    "with open('facilities.txt','r') as my_file:\n",
    "    newdict={}\n",
    "    for line in my_file:\n",
    "        line=line.rstrip('\\n')\n",
    "        columns=line.split('\\t')\n",
    "        school=columns[0]\n",
    "        room_no=columns[1]\n",
    "        capacity=columns[2]\n",
    "        has_projector=columns[3]\n",
    "        values=(room_no, capacity, has_projector)\n",
    "        if school not in newdict:\n",
    "            newdict[school]=[values]\n",
    "        elif school in newdict:\n",
    "            values_list=newdict[school]\n",
    "            values_list.append(values)\n",
    "            newdict[school]=values_list\n",
    "        \n",
    "\n",
    "            \n",
    "        \n",
    "prompt=input('Do you want to search for the facilities within a school? [Y|N]:')\n",
    "\n",
    "while prompt=='Y':\n",
    "    school=input('Enter the school [LKCSB|SOE|SOL|SOA|SIS]:')\n",
    "    cap=int(input('Enter the minimum capacity you need:'))\n",
    "\n",
    "    print('The following facilities with a capacity of '+ str(cap)+' or above are found in '+school+':')\n",
    "    print('    Room #    Cap    Projector?')\n",
    "    print('    ------    ---    ----------')\n",
    "    values_list=newdict[school]\n",
    "    for t in values_list:\n",
    "        room_no=t[0]\n",
    "        capacity=int(t[1])\n",
    "        has_projector=t[2]\n",
    "        if capacity >=cap:\n",
    "            print('    '+room_no+'\\t'+str(capacity)+'\\t'+has_projector)\n",
    "    print('')\n",
    "    prompt=input('Do you want to search for the facilities within a school? [Y|N]:')\n",
    "    \n",
    "print('Good-bye!')\n",
    "\n"
   ]
  },
  {
   "cell_type": "markdown",
   "metadata": {},
   "source": [
    "## Q4: Students and Schools [ &bigstar;&bigstar;&bigstar; ]\n",
    "\n",
    "Define a function called ```get_students_by_school```. The function takes in a dictionary as its parameter. This dictionary stores mappings from students to their corresponding schools. For example, the dictionary may contain ```'Joe Tan':'SIS'``` as a (key, value) pair.\n",
    "\n",
    "The function returns a new dictionary that stores mappings from each school to a list of students in that school. For example, if in the original dictionary there are two students, \"Joe Tan\" and \"Wendy Li\", who are from SIS, then in the returned new dictionary, the value associated with the key ```'SIS'``` should be ```['Joe Tan', 'Wendy Li']```."
   ]
  },
  {
   "cell_type": "code",
   "execution_count": 8,
   "metadata": {},
   "outputs": [],
   "source": [
    "# Put your code here:\n",
    "def get_students_by_school(my_dict):\n",
    "    new_dict={}\n",
    "    for name in my_dict:\n",
    "        school=my_dict[name]\n",
    "        if school not in new_dict:\n",
    "            new_dict[school]=[name] \n",
    "        elif school in new_dict:\n",
    "            namelist=new_dict[school]\n",
    "            namelist.append(name)\n",
    "            new_dict[school]=namelist\n",
    "    return new_dict\n",
    "\n"
   ]
  },
  {
   "cell_type": "code",
   "execution_count": 9,
   "metadata": {},
   "outputs": [
    {
     "name": "stdout",
     "output_type": "stream",
     "text": [
      "\n",
      "Testcase\n",
      "----------\n",
      "Expected: \n",
      "SIS :\t['Joe Tan', 'Ng Yew Tung', 'Wendy Li']\n",
      "SOE :\t['Alan Lee']\n",
      "SOSS :\t['George Wong', 'Jerry Lim']\n",
      "SOL :\t['Liu Chee Hwa']\n",
      "\n",
      "Actual  : \n",
      "SIS :\t['Joe Tan', 'Ng Yew Tung', 'Wendy Li']\n",
      "SOE :\t['Alan Lee']\n",
      "SOSS :\t['George Wong', 'Jerry Lim']\n",
      "SOL :\t['Liu Chee Hwa']\n"
     ]
    }
   ],
   "source": [
    "print('\\nTestcase')\n",
    "print('-' * 10)\n",
    "student_to_school_dict = {'Joe Tan':'SIS', 'Alan Lee':'SOE', 'George Wong':'SOSS', 'Liu Chee Hwa':'SOL', 'Ng Yew Tung':'SIS', 'Wendy Li':'SIS', 'Jerry Lim':'SOSS'}\n",
    "print(\"Expected: \")\n",
    "print(\"SIS :\\t['Joe Tan', 'Ng Yew Tung', 'Wendy Li']\")\n",
    "print(\"SOE :\\t['Alan Lee']\")\n",
    "print(\"SOSS :\\t['George Wong', 'Jerry Lim']\")\n",
    "print(\"SOL :\\t['Liu Chee Hwa']\")\n",
    "print(\"\\nActual  : \")\n",
    "school_to_student_dict = get_students_by_school(student_to_school_dict)\n",
    "for key in school_to_student_dict:\n",
    "    print(key + \" :\\t\" + str(school_to_student_dict[key]))\n"
   ]
  },
  {
   "cell_type": "markdown",
   "metadata": {},
   "source": [
    "## Q5: Word Counts\n",
    "\n",
    "### Background\n",
    "\n",
    "In data analytics, in order to quickly get a gist of what a collection of articles is talking about, __word clouds__ have been popularly used. \n",
    "\n",
    "Below is an example word cloud:"
   ]
  },
  {
   "cell_type": "markdown",
   "metadata": {},
   "source": [
    "<img src=\"https://sebastianraschka.com/images/blog/2014/twitter-wordcloud/my_twitter_wordcloud_1.jpg\" width=\"500\">"
   ]
  },
  {
   "cell_type": "markdown",
   "metadata": {},
   "source": [
    "In a word cloud, a word shown in a bigger size has appeared more frequently inside the collection of articles being analyzed whereas a word shown in a smaller size has appeared less frequently.\n",
    "\n",
    "In order to draw a word cloud, we need to first count the frequencies of each unique word inside the collection of articles that we want to analyze.\n",
    "\n",
    "### The Question\n",
    "\n",
    "### Part (a) [ &bigstar;&bigstar;&bigstar; ]\n",
    "\n",
    "Define a function called ```count_words_in_file()```. The function takes in as its parameter the name of a file, where each line of the file is the content of one article.\n",
    "\n",
    "The function returns a dictionary that stores the mappings from all the unique words found in the file to their total counts in the file.\n",
    "\n",
    "For example, if the word \"the\" has appeared 10 times the file, then the mapping ```'the':10``` should be stored inside the dictionary.\n",
    "\n",
    "You need to turn everything into lowercases before counting. For example, \"The\" and \"the\" are both counted as ```'the'``` in the dictionary.\n",
    "\n",
    "Simply use ```line.split()``` to break down a line into a list of words. You do not need to handle punctuation marks for this question."
   ]
  },
  {
   "cell_type": "code",
   "execution_count": 20,
   "metadata": {},
   "outputs": [],
   "source": [
    "# Put your code here:\n",
    "def count_words_in_file(filename):\n",
    "    count_dict={}\n",
    "    with open(filename,'r') as my_file:\n",
    "        for line in my_file:\n",
    "            line=line.rstrip('\\n')\n",
    "            line=line.lower()\n",
    "            words=line.split()\n",
    "            for word in words:\n",
    "                if word not in count_dict:\n",
    "                    count_dict[word]=1\n",
    "                elif word in count_dict:\n",
    "                    wordcounter=count_dict[word]\n",
    "                    count_dict[word]=wordcounter+1\n",
    "    return count_dict\n",
    "\n"
   ]
  },
  {
   "cell_type": "code",
   "execution_count": 21,
   "metadata": {},
   "outputs": [
    {
     "name": "stdout",
     "output_type": "stream",
     "text": [
      "{'free': 171, 'entry': 26, 'in': 68, '2': 169, 'a': 375, 'wkly': 14, 'comp': 9, 'to': 684, 'win': 56, 'fa': 4, 'cup': 5, 'final': 14, 'tkts': 4, '21st': 2, 'may': 7, '2005.': 3, 'text': 110, '87121': 4, 'receive': 33, 'question(std': 2, 'txt': 136, \"rate)t&c's\": 2, 'apply': 11, \"08452810075over18's\": 2, '\"freemsg': 4, 'hey': 4, 'there': 10, 'darling': 2, \"it's\": 5, 'been': 43, '3': 16, \"week's\": 4, 'now': 93, 'and': 122, 'no': 32, 'word': 13, 'back!': 1, \"i'd\": 2, 'like': 13, 'some': 6, 'fun': 7, 'you': 237, 'up': 19, 'for': 196, 'it': 25, 'still?': 1, 'tb': 1, 'ok!': 1, 'xxx': 9, 'std': 2, 'chgs': 1, 'send,': 1, 'â£1.50': 16, 'rcv\"': 1, 'winner!!': 2, 'as': 30, 'valued': 11, 'network': 23, 'customer': 38, 'have': 135, 'selected': 25, 'receivea': 2, 'â£900': 7, 'prize': 58, 'reward!': 3, 'claim': 105, 'call': 336, '09061701461.': 2, 'code': 15, 'kl341.': 2, 'valid': 23, '12': 4, 'hours': 5, 'only.': 7, 'had': 13, 'your': 258, 'mobile': 109, '11': 4, 'months': 2, 'or': 188, 'more?': 2, 'u': 112, 'r': 22, 'entitled': 8, 'update': 19, 'the': 204, 'latest': 34, 'colour': 17, 'mobiles': 10, 'with': 108, 'camera': 25, 'free!': 19, 'co': 5, 'on': 142, '08002986030': 2, '\"six': 2, 'chances': 2, 'cash!': 2, 'from': 127, '100': 15, '20,000': 2, 'pounds': 17, 'txt>': 2, 'csh11': 2, 'send': 65, '87575.': 4, 'cost': 22, '150p/day,': 2, '6days,': 2, '16+': 21, 'tsandcs': 2, 'reply': 101, 'hl': 6, '4': 93, 'info\"': 2, '\"urgent!': 17, 'won': 64, '1': 30, 'week': 31, 'membership': 2, 'our': 83, 'â£100,000': 2, 'jackpot!': 2, 'word:': 9, 'no:': 17, '81010': 2, 't&c': 13, 'www.dbuk.net': 2, 'lccltd': 2, 'pobox': 16, '4403ldnw1a7rw18\"': 2, '\"xxxmobilemovieclub:': 1, 'use': 8, 'credit,': 1, 'click': 5, 'wap': 7, 'link': 6, 'next': 16, 'message': 23, 'here>>': 1, 'http://wap.': 1, 'xxxmobilemovieclub.com?n=qjkgighjjgcbl\"': 1, '\"england': 1, 'v': 2, 'macedonia': 1, '-': 55, 'dont': 11, 'miss': 7, 'goals/team': 1, 'news.': 1, 'ur': 143, 'national': 12, 'team': 1, '87077': 7, 'eg': 11, 'england': 6, 'try:wales,': 1, 'scotland': 1, '4txt/ãº1.20': 1, 'poboxox36504w45wq': 1, '16+\"': 1, 'thanks': 8, 'subscription': 4, 'ringtone': 24, 'uk': 8, 'will': 42, 'be': 50, 'charged': 11, 'â£5/month': 1, 'please': 52, 'confirm': 1, 'by': 36, 'replying': 6, 'yes': 11, 'no.': 9, 'if': 30, 'not': 23, '07732584351': 1, 'rodger': 1, 'burns': 1, 'msg': 18, '=': 5, 'we': 47, 'tried': 17, 're': 9, 'sms': 13, 'nokia': 64, '+': 18, 'camcorder.': 1, '08000930705': 14, 'delivery': 20, 'tomorrow': 7, 'sms.': 4, 'ac': 4, 'sptv:': 1, 'new': 67, 'jersey': 1, 'devils': 1, 'detroit': 1, 'red': 1, 'wings': 1, 'play': 17, 'ice': 1, 'hockey.': 1, 'correct': 4, 'incorrect?': 1, 'end?': 2, 'end': 9, 'sptv': 1, '\"congrats!': 6, 'year': 5, 'special': 7, 'cinema': 3, 'pass': 5, 'is': 152, 'yours.': 8, '09061209465': 3, 'now!': 70, 'c': 17, 'suprman': 3, 'v,': 3, 'matrix3,': 3, 'starwars3,': 3, 'etc': 4, 'all': 27, 'bx420-ip4-5we.': 3, '150pm.': 3, 'out!': 2, '\"': 10, '\"as': 4, 'customer,': 5, 'i': 35, 'am': 13, 'pleased': 3, 'advise': 3, 'that': 26, 'following': 5, 'recent': 3, 'review': 4, 'of': 95, 'mob': 17, 'are': 80, 'awarded': 38, 'â£1500': 3, 'bonus': 20, 'prize,': 4, '09066364589\"': 2, '\"urgent': 4, 'complimentary': 11, 'trip': 4, 'eurodisinc': 2, 'trav,': 2, 'aco&entry41': 2, 'â£1000.': 2, 'dis': 2, '18+6*â£1.50(morefrmmob.': 2, 'shracomorsglsuplt)10,': 2, 'ls1': 2, '3aj\"': 2, '\"did': 1, 'hear': 3, 'about': 7, '\"\"divorce': 1, 'barbie\"\"?': 1, 'comes': 3, \"ken's\": 1, 'stuff!\"': 1, 'service': 47, 'representative': 10, '0800': 13, '169': 2, '6031': 2, 'between': 10, '10am-9pm': 2, 'guaranteed': 29, 'â£1000': 33, 'cash': 56, 'â£5000': 19, 'prize!': 13, '\"your': 5, 'waiting': 17, 'collected.': 2, 'simply': 3, 'password': 3, '\"\"mix\"\"': 2, '85069': 2, 'verify.': 2, 'get': 80, 'usher': 2, 'britney.': 2, 'fml,': 2, 'po': 32, 'box': 33, '5249,': 2, 'mk17': 2, '92h.': 2, '450ppw': 2, '16\"': 7, 'gent!': 2, 'trying': 15, 'contact': 56, 'you.': 8, 'last': 11, 'weekends': 5, 'draw': 37, 'shows': 31, 'guaranteed.': 19, '09064012160.': 2, 'k52.': 2, '12hrs': 17, '150ppm': 23, 'winner': 11, 'specially': 9, '4*': 24, 'holiday': 31, '(flights': 4, 'inc)': 4, 'speak': 10, 'live': 26, 'operator': 14, '0871277810910p/min': 1, '(18+)': 3, 'private!': 16, '2004': 5, 'account': 19, 'statement': 16, '07742676969': 2, '786': 4, 'unredeemed': 4, 'points.': 16, '08719180248': 2, 'identifier': 16, 'code:': 14, '45239': 3, 'expires': 17, 'was': 9, 'â£2000': 20, 'caller': 12, '5/9/03': 1, 'this': 79, 'try': 6, 'u!': 6, 'landline': 11, '09064019788': 1, 'box42wr29c,': 1, '150ppm\"': 7, 'todays': 17, 'voda': 5, 'numbers': 9, 'ending': 8, '7548': 1, '$350': 1, 'award.': 11, 'match': 6, '08712300220': 6, 'quoting': 5, '4041': 1, 'standard': 6, 'rates': 9, 'app': 4, 'sunshine': 5, 'quiz': 9, 'q!': 4, 'top': 16, 'sony': 6, 'dvd': 6, 'player': 12, 'know': 22, 'which': 8, 'country': 4, 'algarve': 2, 'in?': 2, 'ansr': 4, '82277.': 5, 'sp:tyrone': 4, 'want': 27, 'laid': 3, 'tonight?': 2, 'real': 12, 'dogging': 11, 'locations': 5, 'sent': 9, 'direct': 10, 'mob?': 2, 'join': 15, \"uk's\": 7, 'largest': 4, 'bt': 5, 'txting': 10, 'gravel': 1, '69888!': 1, 'nt.': 1, 'ec2a.': 4, '31p.msg@150p': 2, \"you'll\": 1, 'rcv': 1, 'any': 25, 'more': 25, 'msgs': 5, 'chat': 39, 'svc.': 1, 'hardcore': 2, 'services': 13, 'go': 27, 'to:': 1, '69988': 1, 'nothing': 2, 'must': 5, 'age': 7, 'verify': 1, 'yr': 11, '&': 98, 'again': 1, 'why': 12, \"haven't\": 1, 'replied': 1, 'my': 10, 'text?': 4, \"i'm\": 8, 'randy,': 1, 'sexy,': 1, 'female': 1, 'local.': 1, 'luv': 5, 'u.': 18, 'netcollex': 4, 'ltd': 5, '08700621170150p': 2, 'per': 44, 'stop': 85, 'end\"': 1, 'annoncement.': 1, 'years': 6, '07046744435': 1, 'arrange': 2, '0871277810810': 2, '-pls': 1, 'bootydelious': 1, '(32/f)': 1, 'inviting': 6, 'her': 7, 'friend.': 6, 'yes-434': 1, 'no-434': 1, 'see': 18, 'her:': 5, 'www.sms.ac/u/bootydelious': 1, 'stop?': 8, 'frnd': 6, '62468': 6, '\"bangbabes': 1, 'order': 8, 'way.': 1, 'should': 7, 'download': 2, 'content.': 5, 'do': 21, 'not,': 1, 'goto': 6, 'wap.': 3, 'bangb.': 1, 'tv': 3, 'internet/service': 1, 'menu\"': 1, 'urgent!': 26, '09061701939.': 1, 's89.': 1, 'only': 66, 'freephone': 8, '0808': 4, '145': 4, '4742': 4, '9am-11pm': 4, 'unique': 2, 'enough?': 1, 'find': 23, 'out': 45, '30th': 1, 'august.': 1, 'www.areyouunique.co.uk': 1, '\"500': 2, '2004,': 3, 'go!': 3, 'txt:': 11, '89545': 3, 'collect': 22, 'yours': 7, 'today!from': 2, 'â£1': 2, 'www.4-tc.biz': 3, '2optout': 4, '087187262701.50gbp/mtmsg18\"': 1, '\"will': 1, 'meet': 5, 'dream': 3, 'partner': 4, 'soon?': 1, 'career': 1, 'off': 2, 'flyng': 1, 'start?': 1, 'free,': 3, 'horo': 2, 'followed': 3, 'star': 2, 'sign,': 1, 'e.': 2, 'g.': 3, 'aries\"': 1, 'someone': 11, 'sexy': 12, 'today.': 2, 'can': 29, 'date': 9, 'even': 6, 'flirt': 2, 'its': 6, 'just': 78, '10p.': 1, 'name': 12, 'sam': 3, '25.': 1, '18': 22, '-msg': 1, 'recd@thirtyeight': 1, 'pence': 3, '447801259231': 2, 'secret': 10, 'admirer': 8, 'who': 44, 'looking': 9, 'make': 13, 'u-find': 8, 'they': 16, 'r*reveal': 8, 'thinks': 10, 'so': 24, 'special-call': 8, '09058094597': 2, 'congratulations': 11, '500': 21, 'cd': 8, 'vouchers': 18, '125gift': 3, 'music': 15, '87066': 13, 'tncs': 6, 'www.ldew.com1win150ppmx3age16': 4, 'offer': 12, 'video': 28, 'handset?': 5, '750': 18, 'anytime': 12, 'networks': 2, 'mins?': 6, 'unlimited': 10, 'camcorder?': 4, 'really': 1, 'horny': 6, 'me': 21, 'naked': 1, 'hot': 9, '69698': 2, 'at': 26, '150pm': 1, 'unsubscribe': 16, 'has': 31, 'changed!': 1, '25': 2, 'credits!': 1, 'club4mobiles.com': 1, 'choose': 9, 'content': 8, 'club': 10, '87070.': 1, '150p/wk': 1, 'club4': 1, 'box1146': 1, 'mk45': 2, '2wt': 2, 'club:': 4, 'singles': 5, 'chart': 2, 'each': 7, 'quality': 2, 'ringtone!': 1, 'charge.': 6, 'hmv': 10, 'genuine': 3, 'won.': 4, 'answer': 8, 'easy': 3, 'questions.': 3, '86688': 19, 'info:www.100percent-real.com': 3, 't-mobile': 2, 'phone': 34, 'upgrade': 3, 'pay': 1, 'sim': 2, 'card': 4, 'loyalty.': 3, '0845': 3, '021': 2, '3680.offer': 1, 'ends': 4, \"28thfeb.t&c's\": 1, '\"sms.': 3, 'blind': 2, '4u!:': 1, 'rodds1': 1, '21/m': 1, 'aberdeen,': 1, 'united': 1, 'kingdom.': 1, 'check': 4, 'him': 1, 'http://img.': 1, 'ac/w/icmb3cktz8r7!-4': 1, 'dates': 2, 'hide\"': 1, '\"themob>': 1, 'newest': 3, 'selection': 5, 'content,': 1, 'games,': 7, 'tones,': 1, 'gossip,': 1, 'babes': 2, 'sport,': 2, 'keep': 6, 'fit': 1, 'funky': 1, '82468\"': 2, '\"think': 1, 'smart': 1, '?': 6, 'â£200': 9, 'weekly': 22, 'quiz,': 1, '85222': 1, 'now!t&cs': 1, 'winnersclub': 1, '84,': 1, 'm26': 3, '3uz.': 1, '16+.': 3, 'gbp1.50/week\"': 1, 'december': 5, 'only!': 5, '11mths+?': 5, '08002986906': 4, 'germany': 3, 'minute!': 2, 'fixed': 2, 'line': 18, 'via': 3, 'access': 5, 'number': 28, '0844': 2, '861': 2, '85': 2, '85.': 2, 'prepayment.': 2, 'access!': 2, 'valentines': 2, 'day': 8, 'special!': 2, 'over': 8, 'take': 14, 'lifetime!': 2, '83600': 3, 'now.': 22, '150p/msg': 7, 'rcvd.': 5, 'custcare:08718720201.': 1, 'fancy': 9, 'shag?': 1, 'do.interested?': 1, 'sextextuk.com': 1, 'xxuk': 1, 'suzy': 1, '69876.': 1, 'txts': 9, '1.50': 3, 'msg.': 4, 'website.': 1, 'x': 8, 'cash-balance': 7, 'currently': 10, 'maximize': 7, 'cash-in': 7, '150p/msg.': 7, 'cc:': 5, '08708800282': 1, 'hg/suite342/2lands': 8, 'row/w1j6hl': 4, '\"update_now': 1, 'xmas': 12, 'offer!': 5, 'motorola,': 6, 'sonyericsson': 5, 'bluetooth!': 1, 'double': 14, 'mins': 24, '1000': 4, 'orange.': 5, 'mobileupd8': 16, '08000839402': 15, 'call2optout/f4q=\"': 1, 'here': 4, 'discount': 9, 'rp176781.': 1, 'further': 3, 'messages': 8, 'stop.': 11, 'www.regalportfolio.co.uk.': 1, '08717205546': 1, '\"thanks': 6, 'order,': 6, 'reference': 4, 't91.': 1, 'gbp': 1, 'week.': 3, 'calling': 4, '09057039994\"': 1, '\"double': 3, '6months': 2, 'bluetooth': 8, 'available': 2, 'sony,': 2, 'motorola': 5, 'phones.': 2, 'call2optout/n9dx\"': 2, '4mths': 3, 'half': 13, 'price': 16, 'orange': 19, 'rental': 8, 'phones': 10, 'free.': 11, '11mths': 4, 'mobilesdirect': 3, '08000938767': 3, 'or2stoptxt': 3, '\"free': 9, 'first': 6, '87131': 3, 'poly': 14, 'true': 1, 'tone!': 1, 'help?': 4, '2814032': 1, '16': 19, 'after': 5, '1st': 26, 'tones': 24, '3xâ£150pw': 1, 'eâ£nd': 1, 'stop\"': 5, 'dating': 15, 'cal;l': 1, '09064012103': 1, 'box334sk38ch': 2, 'into': 6, 'â£250': 14, 'competition': 3, '80086': 2, 'www.txttowin.co.uk': 2, 'logo': 4, 'lover': 2, 'names': 2, 'joined': 2, 'heart.': 2, 'love': 10, 'name1': 2, 'name2': 2, 'mobno': 2, 'adam': 2, 'eve': 3, '07123456789': 2, 'yahoo!': 2, 'pobox36504w45wq': 5, 'txtno': 2, 'ads': 2, '150p': 14, 'contacted': 5, 'entered': 6, 'because': 2, 'you!': 24, '09111032124': 1, '.': 13, 'pobox12n146tf150p': 1, '09058094455': 1, 'land': 18, 'line.': 17, '3030.': 7, 'congrats!': 2, '3650': 2, '09066382422': 2, 'calls': 8, 'ave': 3, '3mins': 4, 'vary': 3, 'close': 2, '300603': 2, 'post': 3, 'bcm4284': 2, 'ldn': 6, 'wc1n3xx': 2, '\"loan': 3, 'purpose': 4, 'â£500': 18, 'â£75,000.': 3, 'homeowners': 3, 'tenants': 4, 'welcome.': 4, 'previously': 3, 'refused?': 3, 'still': 6, 'help.': 3, '1956669': 3, 'back': 20, '\\'help\\'\"': 3, '\"upgrdcentre': 1, '0207': 2, '153': 2, '9153.': 1, '26th': 1, 'july.': 1, \"t&c's\": 6, 'apply.': 9, 'opt-out': 4, 'available\"': 1, 'okmail:': 1, 'dear': 11, 'dave': 2, 'notice': 3, 'tenerife': 7, '#5000': 3, 'award!': 6, '09061743806': 2, 'landline.': 19, 'tcs': 2, 'sae': 15, 'box326': 2, 'cw25wx': 4, 'moan': 1, '69888nyt.': 1, 'activate': 4, 'terms': 7, 'conditions,': 2, 'visit': 7, 'www.07781482378.com\"': 2, 'out!\"': 2, '+123': 2, 'â£1450': 3, '09050002311': 2, 'b4280703.': 2, 't&cs/stop': 3, '08718727868.': 2, '\"you': 14, 'phone,': 4, '40gb': 6, 'ipod': 7, 'mp3': 5, '83355!': 3, 'ibhltd': 3, 'ldnw15h': 3, '150p/mtmsgrcvd18+\"': 1, 'boltblue': 1, 'poly#': 1, 'mono#': 1, 'poly3': 1, '1.': 2, 'cha': 2, 'slide': 1, '2.': 2, 'yeah': 1, '3.': 3, 'slow': 1, 'jamz': 1, '6.': 1, 'toxic': 1, '8.': 1, 'come': 2, 'credits': 4, 'topped': 1, 'http://www.bubbletext.com': 1, 'renewal': 1, 'pin': 1, 'tgxxrz': 1, '\"urgent!:': 1, 'â£2,000': 11, '02/09/03!': 2, '2nd': 20, 'attempt': 21, '0871-872-9755': 1, 'box95qu\"': 2, '\"today\\'s': 2, 'â£150': 9, 'worth': 13, 'vouchers!': 2, '85023': 7, 'savamob,': 7, 'member': 5, 'offers': 11, 'mobile!': 9, 't': 11, 'cs': 9, '08717898035.': 3, 'â£3.00': 7, 'sub.': 5, 'unsub': 5, 'x\"': 2, 'recieve': 1, 'tone': 40, 'within': 7, '24hrs.': 1, 'conditions': 2, 'channel': 1, 'teletext': 1, 'pg': 1, '2003': 13, '07815296484': 1, '800': 13, 'un-redeemed': 12, 's.i.m.': 3, '08718738001': 2, '41782': 1, '18/11/04': 1, 'www.applausestore.com': 1, 'monthlysubscription@50p/msg': 1, 'max6/month': 1, 't&csc': 1, 'web': 2, 'age16': 3, '2stop': 1, '?1,000': 2, '?2,000': 2, 'claim,': 4, 'call09050000327\"': 1, '\"our': 2, 'â£5000,': 1, 'us': 7, 'ring': 4, 'claims': 2, '09050005321.\"': 1, '150': 8, 'textand': 1, '08002988890': 1, '\"for': 6, 'chance': 23, 'shopping': 8, 'spree': 6, 'shop': 5, '80878.': 2, \"t's&c's\": 5, 'www.txt-2-shop.com': 2, 'custcare': 7, '08715705022,': 3, '1x150p/wk\"': 3, '2000': 1, 'pound': 6, '08712402050': 2, 'before': 5, 'lines': 2, 'close.': 2, '10ppm.': 2, 't&cs': 19, 'ag': 2, 'promo': 1, '07753741225': 1, 's.': 9, 'i.': 9, 'm.': 9, '08715203677': 1, '42478': 1, '24/10/04': 1, 'an': 22, 'important': 12, 'announcement.': 4, '542': 4, '0825': 2, 'xclusive@clubsaisai': 1, '2morow': 1, '28/5': 1, 'soiree': 1, 'speciale': 1, 'zouk': 1, 'nichols': 1, 'paris.free': 1, 'roses': 1, 'ladies': 2, '!!!': 1, 'info:': 1, '07946746291/07880867867': 1, '22': 1, 'days': 6, 'kick': 3, 'off!': 2, 'euro2004': 5, 'kept': 3, 'news': 6, 'results': 3, 'daily.': 4, 'removed': 1, '83222': 1, 'textbuddy': 2, 'guys': 3, 'area': 5, '25p': 6, 'search': 2, 'postcode': 2, 'gaytextbuddy.com.': 2, 'one': 8, '89693': 1, 'vodafone': 6, '4882': 2, 'â£350': 11, 'matches': 6, '09064019014': 2, '\"dear': 5, 'voucher': 13, 'holder,': 4, 'weeks': 8, 'offer,': 4, 'pc': 5, 'http://www.e-tlp.co.uk/expressoffer': 2, 'ts&cs': 10, 'apply.2': 1, 'texts': 15, '80062.\"': 1, '08715203694': 1, '40533': 2, '31/10/04': 2, 'call09050000327.': 1, 't&c:': 2, 'rstm,': 2, 'sw7': 2, '3ss.': 2, '88800': 1, '89034': 1, 'premium': 2, '08718711108': 1, 'sun0819': 1, 'posts': 1, 'hello:\"\"you': 1, 'seem': 1, 'cool,': 1, 'wanted': 1, 'say': 1, 'hi.': 2, 'hi!!!\"\"': 1, '62468\"': 1, 'tone.': 2, 'gr8': 6, '20': 3, 'every': 33, 'wk': 9, 'opt': 13, '08452810071': 1, 'hi': 6, 'sue.': 1, 'old': 2, 'work': 3, 'lapdancer.': 1, 'sex.': 1, 'bedroom': 1, 'sue': 1, '89555.': 1, 'textoperator': 3, 'g2': 1, '1da': 1, '150ppmsg': 1, '18+': 11, '<forwarded': 4, '448712404000>please': 1, '08712404000': 1, 'immediately': 5, 'urgent': 11, '\"to': 1, 'fantastic': 7, 'n-gage': 1, 'game': 5, 'deck': 1, 'nokia,': 1, 'www.cnupdates.com/newsletter.': 1, 'alerts': 1, 'out\"': 2, '08714712388': 1, '10am-7pm': 4, '10p': 13, '+449071512431': 1, 'u!u': 3, 'â£1250': 2, '09071512433': 2, 'b4': 6, '050703': 2, 't&csbcm4235wc1n3xx.': 2, 'callcost': 2, 'mobilesvary.': 2, 'maxâ£7.': 3, '50': 3, 'prize.': 17, '08714712394': 1, 'email': 2, 'alertfrom:': 1, 'jeri': 1, 'stewartsize:': 1, '2kbsubject:': 1, 'low-cost': 1, 'prescripiton': 1, 'drvgsto': 1, 'listen': 2, '123': 1, 'loyalty': 4, 'offer:the': 2, 'nokia6650': 2, 'â£10': 4, 'txtauction!': 2, 'start': 4, '81151': 2, '4t&ctxt': 2, 'tc': 6, '150p/mtmsg': 2, 'subscribed': 3, 'best': 5, 'â£3': 4, '10': 6, 'until': 5, '82324.': 1, 'helpline': 2, '08706091795': 1, '\"do': 2, 'realize': 1, '40': 2, 'years,': 1, \"we'll\": 2, 'thousands': 1, 'running': 1, 'around': 2, 'tattoos?\"': 1, 'announcement': 2, 'premier.': 2, '\"romantic': 1, 'paris.': 1, 'nights,': 1, 'flights': 2, 'â£79': 1, 'book': 3, 'year.': 1, '08704439680ts&cs': 1, 'apply.\"': 4, 'award': 11, 'unclaimed!': 1, '09066368327': 1, 'closingdate04/09/02': 1, 'claimcode': 1, 'm39m51': 1, 'â£1.50pmmorefrommobile2bremoved-mobypobox734ls27yf': 1, 'city': 3, 'break': 4, 'could': 7, 'summer': 8, 'wk.': 6, 'store': 8, '88039': 2, 'skilgme.': 3, 'tscs087147403231winawk!age16': 2, 'â£1.50perwksub': 2, '0578': 2, 'ever': 3, 'thought': 1, 'living': 1, 'good': 12, 'life': 3, 'perfect': 1, 'partner?': 1, 'community.': 1, '(100p/sms)': 1, '\"5': 1, 'polyphonic': 5, '087018728737,': 1, 'rate.': 1, 'toppoly': 1, 'tune': 1, 'week,': 1, 'subpoly': 3, '81618,': 1, 'pole.': 1, '08718727870.\"': 1, '\"orange': 2, '9996.': 1, '14thmarch.': 1, 'availa\"': 1, '\"last': 2, 'chance!': 4, 'today!': 7, 'savamob': 6, 'pobox84,': 5, 'm263uz.': 4, 'week!': 12, 'no1': 8, '8077': 2, 'tell': 16, 'mates.': 3, 'www.getzed.co.uk': 9, '36504': 7, 'w45wq': 6, 'norm150p/tone': 6, 'cashto': 2, '08000407165': 2, 'getstop': 2, '88222': 2, 'php.': 1, 'rg21': 1, '4jx': 1, 'either': 10, 'gift': 16, 'â£100': 22, '\"u': 5, 'were': 4, 'outbid': 1, 'simonwatson5120': 1, 'shinco': 1, 'plyr.': 1, 'bid': 6, 'again,': 1, 'ac/smsrewards': 1, 'notifications,': 1, '\"smsservices.': 1, 'yourinclusive': 1, 'credits,': 4, 'pls': 10, 'www.comuk.net': 5, 'login=': 4, '3qxj9': 4, 'stop,': 3, 'extra': 7, 'help': 7, '08702840625.comuk.': 3, '220-cm2': 3, '9ae\"': 3, 'alfie': 3, \"moon's\": 3, 'children': 3, 'need': 9, 'song': 3, 'mob.': 3, 'm8s.': 3, 'charity': 7, '8007': 20, 'nokias': 3, 'polys:': 2, 'zed': 5, '08701417012': 3, 'profit': 3, 'charity.': 2, 'admirer.': 2, 'reveal': 4, 'special.': 2, '09065174042.': 2, 'recd.': 2, 'cust': 4, 'care': 4, '07821230901': 2, 'texts,': 1, '80062\"': 1, 'five': 3, '08002888812': 2, 'camcorder': 10, 'wed': 1, 'vouchers-text': 1, 'now!savamob-member': 1, 'remove': 4, '09066350750': 2, 'ibiza': 4, '10,000': 2, 'await': 19, 'collection': 11, '434': 3, 'sk3': 3, '8wp': 3, 'ppm': 4, 'talk': 5, 'sexy!!': 1, 'friends': 1, 'fall': 1, 'worlds': 1, 'most': 2, 'discreet': 2, 'service.': 5, 'vip': 4, '83110': 1, 'meet.': 1, 'yrs': 3, 'supply': 3, 'cds': 5, 'virgin': 1, 'records': 3, 'mystery': 1, '09061104283': 1, 'www.smsco.net': 2, 'â£1.50pm': 1, 'approx': 1, '07808': 1, 'xxxxxx': 1, '08719899217': 1, '41685': 2, '07/11/04': 2, 'hello.': 1, 'posh': 1, 'birds': 1, 'chaps': 1, 'user': 5, 'trial': 1, 'prods': 1, 'champneys.': 1, 'put': 1, 'down?': 1, 'address': 4, 'dob': 1, 'asap.': 1, 'ta': 1, 'what': 16, 'xmas?': 1, 'how': 8, 'rental?': 3, '0721072': 1, 'more!': 1, '\"shop': 2, 'till': 3, 'drop,': 2, 'you,': 3, '10k,': 2, '5k,': 2, 'travel': 2, 'voucher,': 2, 'now,': 2, '09064011000.': 2, 'ntt': 10, 'cr01327bt': 2, 'fixedline': 2, 'vary\"': 2, 'liverpool': 3, 'played': 2, 'mid': 2, 'week?': 2, '09058094565': 2, '09065171142-stopsms-08': 1, 'reminder:': 1, 'downloaded': 1, 'already': 1, 'paid': 1, 'for.': 1, 'http://doit.': 1, 'mymoby.': 1, 'tv/': 1, '\"all': 1, 'lastest': 1, 'stereophonics,': 1, 'marley,': 1, 'dizzee': 1, 'racal,': 1, 'libertines': 1, 'strokes!': 1, 'nookii': 1, 'games': 8, 'flirt!!': 1, 'themob': 2, 'bookmark': 1, '\"january': 1, 'male': 3, 'sale!': 2, 'gay': 6, 'cheaper,': 2, '08709222922.': 2, 'rate': 12, '1.5p/min': 2, 'cheap': 4, '7.8p/min': 2, 'peak!': 2, '08712460324': 6, '(10p/min)\"': 3, 'money!!!': 1, 'lucky': 8, '!': 7, 'money': 3, '88600': 2, 'â£1million': 1, 'give': 8, 'away': 1, 'ppt150x3+normal': 1, 'box403': 1, 'w1t1jy': 1, 'matthew': 1, '09063440451': 1, 'landline,': 2, '4*lux': 1, 'collection.': 15, 'ppm150': 1, 'box334': 1, 'sk38xh.\"': 1, '09061749602': 1, 'â£10,000': 5, '528': 1, 'hp20': 1, '1yf': 1, '18+\"': 4, 'getting': 4, 'touch': 1, 'folks': 1, 'company?': 1, 'in!': 1, 'enjoy': 8, 'community': 1, '(150p/sms)': 1, '08718720201': 5, '114/14': 3, 'tcr/w1': 3, 'filthy': 2, 'stories': 1, 'girls': 5, 'â£800': 9, '09050001808': 2, 'm95.': 2, 'valid12hrs': 3, '3g': 5, 'videophones': 5, '09063458130': 3, 'videochat': 5, 'wid': 5, 'mates,': 5, 'java': 5, 'dload': 5, 'polyph': 3, 'music,': 5, 'noline': 5, 'rentl.\"': 1, 'panasonic': 1, 'bluetoothhdset': 1, 'doublemins': 1, 'doubletxt': 1, 'contract.': 1, 'mates': 5, 'guess': 7, 'what!': 2, 'somebody': 2, 'secretly': 2, 'fancies': 3, 'wanna': 10, 'is?': 2, '09065394514': 1, 'datebox1282essexcm61xn': 2, '150p/min': 4, '\"we': 1, '09058097218': 1, 'who.': 1, '6,': 2, 'ls15hb': 2, '150p\"': 6, '\"1000\\'s': 1, 'flirting': 1, 'girl': 4, 'bloke': 1, 'age,': 1, 'zoe': 1, 'chatting!\"': 1, 'kickoff!': 2, 'informed': 2, 'euro': 3, '83222.': 2, 'eastenders': 2, 'quiz.': 2, 'flower': 2, 'does': 3, 'dot': 2, 'compare': 2, 'herself': 2, 'to?': 2, 'd=': 2, 'violet': 2, 'e=': 2, 'tulip': 2, 'f=': 2, 'lily': 2, 'd': 2, 'e': 2, 'f': 3, '84025': 3, 'wkent/150p16+': 2, 'local': 4, 'lots': 2, 'people': 3, 'registered': 4, 'area.': 1, 'www.flirtparty.us': 1, 'replys150': 1, 'asked': 6, 'cant': 4, 'who?': 4, '09058091854': 2, 'revealed.': 5, 'box385': 2, 'm6': 2, '6wu': 2, '09050003091': 2, 'c52.': 2, \"u've\": 4, 'invited': 5, 'xchat.': 4, 'sipix': 6, 'digital': 8, 'camera!': 6, '09061221061': 2, '28days.': 2, 'box177.': 2, 'm221bp.': 2, '2yr': 2, 'warranty.': 2, '150ppm.': 4, 'p': 3, 'pâ£3.99': 2, '09061790121': 3, '3030': 1, 'subscriber': 3, 'b': 10, 'receipt': 3, 'ans.': 2, 'when': 12, 'elvis': 1, 'presleys': 1, 'birthday?': 1, '80062': 3, 'information': 7, 'o2': 4, 'user.': 3, 'today': 6, 'day!': 3, 'log': 7, 'onto': 7, 'http://www.urawinner.com': 6, 'surprise': 5, 'awaiting': 8, '\"449050000301': 1, 'price!': 1, '09050000301.\"': 1, '\"bored': 1, 'speed': 1, 'dating?': 1, 'speedchat,': 1, 'speedchat': 1, '80155,': 1, \"don't\": 9, 'em': 1, 'swap': 1, 'chatter!': 1, 'chat80155': 1, 'rcd': 1, '08000776320': 2, 'taking': 1, 'part': 8, 'survey': 1, 'yesterday!': 1, 'however': 1, 'wish.': 2, '80160': 1, 'www.txt43.com': 1, '1.50p': 1, 'hmv1': 1, 'forget': 2, 'place': 5, 'many': 3, 'requests': 1, '1stchoice.co.uk': 1, '08707808226.': 1, 'me.': 7, \"let's\": 4, 'other!': 3, 'hg/suite342/2lands/row/w1j6hl': 3, 'ldn.': 3, 'over.': 3, '\"thank': 1, 'notified': 1, 'luck!': 4, 'future': 4, 'marketing': 1, '84122': 1, '08450542832\"': 1, \"1000's\": 1, 'virgins': 1, 'ready': 5, '4fil': 2, 'sexual': 1, 'need.': 1, 'theirs?': 1, 'cute': 1, '69911(â£1.50p.': 1, 'm)': 1, '\"got': 2, 'takes': 4, 'wrc': 2, 'rally': 4, 'oz?': 2, 'lucozade': 2, 'energy!': 2, 'le': 2, '61200': 2, '(25p),': 2, 'packs': 2, 'lucozade.co.uk/wrc': 2, 'itcould': 2, 'u!\"': 2, 'sex': 10, 'pic': 8, 'jordan!': 1, 'babe': 6, '88600.': 1, 'then': 10, 'celeb!': 1, 'pocketbabe.co.uk': 3, 'pics.': 1, 'â£3/wk': 2, '087016248': 1, 'voicemail.': 3, '08719181503': 1, 'choice': 2, 'enter': 9, 'www.ldew.com.subs16+1win150ppmx3': 2, 'subscriber,': 1, 'bonus!': 1, 'delivered': 4, 'door,': 1, 'ok': 4, 'claim.': 3, '150p/msg,': 1, 'exp.': 1, '30apr\"': 1, '08719181513.': 2, 'nok': 2, '87021.': 3, 'txtin': 4, 'friends.': 4, '150p/tone.': 4, '4info': 4, 'completely': 1, 'accommodation': 1, 'various': 1, 'global': 1, 'www.phb1.com': 1, 'ph:08700435505150p': 1, '84128': 2, 'www.textcomp.com': 2, '08712405020.': 3, '08712402779': 1, '\"hungry': 1, 'feeling': 2, 'hungry': 1, 'it,': 1, '08718730555': 1, '10p/min.': 2, 'now?': 1, 'set': 1, '09096102316': 1, 'cum': 3, '2moro': 1, 'jane': 1, 'xx': 4, 'callsâ£1/minmoremobsemspobox45po139wa': 2, 'operator.': 1, \"c's\": 3, '80488.biz': 1, 'jamster': 1, 'videosound': 1, 'gold': 1, 'videosounds+2': 1, 'logos+musicnews!': 1, 'jamster.co.uk!': 1, '16+only': 1, 'call:': 1, '09701213186': 1, '\"get': 2, 'lions': 2, 'tone,': 5, 'lionm': 2, 'mono': 2, 'lionp': 2, 'poly.': 2, 'www.ringtones.co.uk,': 4, 'original': 4, 'n': 9, 'best.': 4, '3gbp': 4, 'apply\"': 4, '\"win': 2, 'â€œharry': 1, 'potter': 2, 'phoenix': 2, '(book': 2, '5)': 2, 'harry,': 2, '5': 5, 'questions': 2, 'among': 2, 'readers!\"': 2, 'balance': 2, 'â£500.': 1, 'question': 3, 'is:': 1, 'sang': 1, \"'uptown\": 1, \"girl'\": 1, \"80's\": 1, '83600.': 1, '\"free2day': 2, 'st': 2, \"george's\": 2, 'jordan!txt': 2, '89080': 2, 'out,': 2, 'saucy': 3, 'celeb!4': 2, 'pics': 10, '0870241182716': 2, 'â£3/wk\"': 2, '\"hot': 5, 'fantasies': 5, '08707509020': 6, '20p': 7, 'min': 12, 'ltd,': 8, '1327': 7, 'croydon': 7, 'cr9': 7, '5wb': 7, '0870..k\"': 2, '\"bears': 1, 'nick,': 1, 'tom,': 1, 'pete': 1, '...': 1, 'dick.': 1, 'fact,': 1, 'types': 1, 'photo': 3, 'upload': 2, '08718730666': 2, '(10p/min).': 2, '08712460324\"': 1, '087187262701.50gbp/mtmsg18': 2, 'txtauction\"': 1, '1/2': 4, 'linerental': 4, 'mobiles.': 2, 'very': 2, 'offers.': 2, 'call2optout/lf56': 2, '\"urgent,': 1, 'you\"': 1, '150p/msgrcvdhg/suite342/2lands/row/w1j6hl': 4, 'www.ldew.com': 2, 'win150ppmx3age16': 1, 'sale': 2, 'arsenal': 3, 'dartboard.': 1, 'condition': 1, 'but': 7, 'doubles': 1, 'trebles!': 1, 'textpod': 2, 'pod': 4, 'www.textpod.net': 2, 'optin': 1, 'ans': 4, 'whats': 1, 'bbc': 1, 'charts': 1, 'summers': 1, 'finally': 1, 'here!': 1, 'area?': 1, 'matched': 1, 'join.': 1, 'optout': 5, 'help08714742804': 1, 'claire': 2, 'havin': 1, 'borin': 1, 'time': 16, 'alone': 3, '2nite?': 2, '09099725823': 1, 'hope': 4, 'bought': 1, 'costing': 2, 'offering': 1, '\"09066362231': 1, '07xxxxxxxxx': 3, '02/06/03!': 4, 'reach': 5, '09066362231': 2, 'asap!\"': 1, '07801543489': 1, 'latests': 1, 'word:collect': 1, 'no:83355!': 1, 'tc-llc': 1, 'ny-usa': 1, '150p/mt': 1, 'msgrcvd18+\"': 1, 'lucy': 2, 'hubby': 1, 'meetins': 1, 'fri': 2, 'hotel': 2, 'cumin': 1, 'over?': 1, 'leave': 2, '2day': 4, '09099726395': 1, 'callsâ£1/minmobsmorelkpobox177hp51fl': 2, 'credited': 1, 'messages.': 2, 'activate,': 1, 'credit': 4, '80488': 2, 'www.80488.biz\"': 1, 'jsco:': 1, 'energy': 1, 'high,': 1, 'where': 2, '2channel': 1, 'it.': 1, 'leadership': 1, 'skills': 1, 'strong.': 1, 'psychic?': 1, 'w/question.': 1, 'jsco\"': 1, '0870': 6, 'call\"': 5, 'vote.': 1, 'sing': 2, 'along': 1, 'stars': 1, 'karaoke': 1, 'mobile.': 2, 'brand': 4, 'live.': 3, 'arrive': 6, 'shortly.': 2, 'install': 1, 'browse': 1, 'artists.': 1, '1/08/03!': 1, '0871-4719-523': 1, 'box95qu': 1, 'rate\"': 1, '7250i.': 4, 'auction.': 5, '86021': 6, 'row/w1jhl': 4, '\"hello': 2, \"month's\": 1, 'plus': 7, 'messages,': 1, 'yes.': 2, 'apply:': 1, 'www.orange.co.uk/ow\"': 1, 'cc': 1, 'auction': 10, '7250': 2, 'part!': 2, '08719899230': 1, 'olympics.': 1, 'rt-king': 1, 'pro': 1, 'club>>': 1, 'info@ringtoneking.co.uk': 1, '08701237397': 1, 'redeemable': 1, 'www.ringtoneking.co.uk!': 1, 'enjoy!': 2, '09058094599': 2, 'msgs.': 1, 'stay': 3, '250': 4, 'british': 2, 'hotels': 2, 'nothing!': 2, 'â£350!': 2, 'london': 4, '02072069400.': 1, 'bx': 1, '526,': 1, 'sw73ss\"': 2, '\"eerie': 2, '4u,': 2, 'rply': 5, 'title': 3, 'dracula': 2, 'titles:': 3, 'ghost,': 2, 'addamsfa,': 2, 'munsters,': 2, 'exorcist,': 2, 'twilight': 2, '\"0a$networks': 1, 'allow': 1, 'companies': 1, 'bill': 2, 'sms,': 1, 'responsible': 1, 'their': 1, '\"\"suppliers\"\",': 1, 'guarantee': 1, 'sell.': 1, 'b.': 2, 'g.\"': 1, 'freemsg:feelin': 1, 'kinda': 1, 'lnly': 1, 'company!': 1, 'jst': 1, 'got': 5, 'cam': 2, 'moby': 3, 'pic?txt': 1, '82242': 3, 'msg150p': 2, '2rcv': 2, 'hlp': 2, '08712317606': 2, 'action': 3, '80608.': 2, 'www.movietrivia.tv': 2, '08712405022,': 2, 'rgent!': 1, 'lookin': 1, 'daytime': 1, 'wiv': 2, 'busty': 1, 'married': 2, 'woman': 1, 'sort': 1, '09099726429': 1, 'janinexx': 1, '09050001295': 1, 'a21.': 1, 'monthly': 1, 'mobsi.com': 1, '391784.': 1, 'pc.': 1, '0089(my': 1, 'four': 1, 'digits)': 1, 'received': 2, '09063442151': 1, '-sub': 2, 'ringtone-get': 2, 'free-send': 2, '81618-?3': 2, 'week-stop': 2, 'sms-08718727870': 2, 'sorry,': 1, 'ordered': 3, '81303': 2, 'sufficient': 1, 'credit.': 2, 'service.\"': 1, 'hard': 2, '121': 3, '60p/min.': 4, 'connect': 2, '09094646899': 2, 'biggest': 3, 'vu': 2, 'bcm1896wc1n3xx': 2, 'wow!': 1, 'boys': 1, 'back.': 1, '2007': 2, 'tour.': 1, 'tickets': 3, 'pre-book': 1, 'club.': 1, '81303.': 1, 'trackmarque': 1, 'info@vipclub4u.': 1, '\"hi,': 2, 'mandy': 1, 'sullivan': 1, 'hotmix': 1, 'fm...you': 1, 'chosen': 3, 'â£5000.00': 1, 'easter': 1, 'draw.....please': 1, 'telephone': 1, '09041940223': 1, '29/03/05': 1, 'transferred': 1, 'else....\"': 1, 'going': 4, 'bahamas!': 2, 'callfreefone': 2, '08081560665': 2, 'bahamas': 2, 'cruise': 2, 'ofâ£2000': 2, '18+only.': 2, '07786200117': 2, 'conacted': 1, 'you!to': 1, '09111030116.': 1, 'pobox12n146tf15': 1, '07734396839': 2, 'ibh': 2, 'offer:': 2, 'nokia6600': 2, 'txtauction!txt': 2, 'word:start': 2, 'no:81151': 2, 'now!4t&': 2, 'buy': 3, 'space': 2, 'invaders': 2, 'orig': 2, 'arcade': 4, 'console.': 2, 'press': 3, '0': 3, '(std': 5, 'charge)': 2, 'o2.co.uk/games': 2, 'settings.': 3, 'purchase': 3, 'big': 1, 'brother': 1, 'alert!': 1, 'computer': 5, '10k': 1, '#150': 1, 'voucher.': 1, '09064018838.': 1, 'cro1327': 1, '\"win:': 2, 'winner!': 3, 'mr.': 2, 't.': 2, 'foley': 2, 'ipod!': 2, 'exciting': 4, 'prizes': 2, 'soon,': 2, 'eye': 2, 'www.win-82050.co.uk\"': 2, '1225': 1, 'â£50award.': 1, '3100': 2, '\"hottest': 1, 'straight': 2, 'phone!!': 1, 'wet': 2, 'wanting,': 1, '89555': 2, 'costs': 3, 'g696ga': 2, 'xxx\"': 1, '\"hack': 1, 'chat.': 1, 'backdoor': 1, 'rooms': 1, 'fraction': 1, 'cost.': 1, 'neo69': 1, '09050280520,': 1, 'subscribe': 1, 'pm.': 1, 'dps,': 1, 'bcm': 1, '8027': 1, 'ldn,': 1, 'wc1n3xx\"': 2, 'upto': 2, '12mths': 2, '1/2price': 1, 'linerental,': 1, 'x-net': 1, 'mins&100txt/mth': 1, \"b'tooth*.\": 1, '08001950382': 4, '2optout/d3wv\"': 1, '\"this': 7, 'easy,': 8, '08718726970': 1, 'min.': 4, 'bt-national-rate': 1, 'prize.to': 1, 'would': 4, 'nearly': 1, 'banned': 1, 'uk!': 1, '09058094594': 1, '0776xxxxxxx': 2, '18yrs': 2, '09061743811': 1, 'abta': 3, '326': 2, '09090900040': 1, 'extreme': 1, 'dirty': 1, 'office': 1, 'right': 3, 'total': 1, 'privacy': 1, 'knows': 1, '[sic]': 1, 'listening': 1, '60p': 1, '24/7mp': 1, '0870753331018+': 1, 'u,': 2, 'these': 3, 'video/pic': 1, 'fones,': 1, 'wild': 1, 'ill': 1, 'pics,': 1, 'hurry': 1, 'im': 5, 'bored': 3, '(18': 2, '150p/rcvd': 1, 'stop2stop)\"': 1, 'ipod.': 3, '80182': 3, 'rate)': 5, '08452810073': 3, 'details': 7, '89693.': 1, '08715500022': 1, 'rpl': 1, 'cnl': 1, '08702490080': 1, 'tells': 2, '09066358152': 2, 'personal': 2, '@': 5, 'prompts.': 2, 'careful!': 2, 'vpod': 1, '09090204448': 1, 'minded': 1, 'guys.': 3, 'yourself.': 1, \"there's\": 4, 'evening.': 1, 'aâ£1.50': 1, 'minapn': 1, 'ls278bb': 1, '\"well': 2, 'done!': 2, 'costa': 7, 'del': 9, 'sol': 7, '09050090044': 6, 'toclaim.': 6, 'sae,': 6, 'tcs,': 2, 'pobox334,': 6, 'stockport,': 6, 'sk38xh,': 6, 'costâ£1.50/pm,': 6, 'max10mins\"': 6, '09065394973': 1, '80488.': 1, '31': 1, 'php': 1, 'weekly!': 2, '2006': 1, 'fifa': 1, 'world': 1, 'held?': 1, '87239': 4, '09061743810': 1, 'enjoyed': 2, '61610': 2, 'unsubscribe.': 2, 'help:08712400602450p': 2, 'provided': 3, 'tones2you.co.uk': 2, 'themob>yo': 1, 'yo': 1, 'yo-here': 1, 'downloads': 3, 'members': 3, 'open': 1, 'fone...': 1, 'great': 10, 'news!': 3, 'freefone': 4, '08006344447': 2, 'gift.': 2, 'starting': 4, 'tscs': 3, 'skillgame,1winaweek,': 1, 'age16.150ppermesssubscription\"': 1, '\"call': 1, '09094100151': 1, 'mins!': 1, 'cast': 1, '10p/min': 3, '(mob': 1, 'vary).': 1, 'aom,': 1, 'gbp5/month.': 1, 'aom': 1, 'box61,m60': 1, '1er': 1, 'ages': 1, 'only!\"': 1, '***********': 3, '09066362220': 1, 'asap!': 4, 'box97n7qp,': 3, 'gender': 2, 'wither': 1, 'm': 1, 'e.g.23f.': 1, 'men': 1, 'e.g.23g.': 1, '\"freemsg:': 1, 'messages-text': 1, 'now!use': 1, 'web2mobile': 1, 'etc.': 3, 'txt250.com': 1, '1.50p/wk.': 1, 'box139,': 1, 'la32wu.': 1, 'txtx': 1, '85233': 1, 'free>ringtone!reply': 1, 'well': 3, 'done': 2, 'england!': 2, 'official': 5, 'flag': 9, 'yer': 4, '84199': 2, 'eng': 4, 'box39822': 4, 'w111wx': 4, '\"final': 2, 'subs': 3, '\"sms': 3, 'services.': 4, 'inclusive': 5, '*****': 1, 'help:08700469649.': 1, 'box420.': 1, 'ip4': 1, '5we\"': 1, '087123002209am-7pm.': 1, '\"sunshine': 2, 'hols.': 2, 'med': 2, 'stamped': 2, 'self': 2, 'envelope': 2, 'drinks': 2, 'uk,': 2, '113,': 2, 'bray,': 2, 'wicklow,': 2, 'eire.': 2, 'starts': 4, 'saturday!': 2, 'www.idew.com': 2, 'skillgame,': 2, '1winaweek,': 2, 'age16.': 2, '150ppermesssubscription\"': 2, 'b4u': 1, 'w/c': 1, '27/03': 1, 'marsms.': 1, 'www.b4utele.com': 1, '08717168528': 1, 'freemsg:': 5, 'buffy.': 1, 'satisfy': 2, 'men.': 1, 'home': 2, 'randy.': 1, 'pix!': 1, 'qlynnbv': 1, 'help08700621170150p': 1, '4.49/month': 1, 'cross': 3, 'ntwk': 4, 'mins.': 2, 'bundle': 1, 'deals': 1, 'also': 2, 'avble.': 1, 'call2optout/j': 1, 'mf': 1, '\"urgent!!': 2, 's,': 4, '08714712379': 1, 'ref': 2, 'k718.': 1, 'â£4.50.': 3, '09065069120\"': 1, '\"hi': 5, 'ya': 1, '4goten': 1, 'bout': 1, \"me?'\": 1, 'scammers': 1, 'smart..though': 1, 'regular': 1, 'no,': 1, 'respond': 1, 'prem': 1, 'msg/subscription.': 1, 'other': 1, 'nos': 1, 'used': 1, 'also.': 1, 'beware!\"': 1, '2morro': 1, 'term': 2, 'over!': 1, '2nite': 1, 'passion': 1, 'back?': 1, '09099726481': 1, 'dena': 1, 'â£1/minmobsmorelkpobox177hp51fl': 1, 'r836.': 1, '09065069154\"': 1, 'splashmobile:': 1, '1000s': 3, 'wk!': 1, 'subscrition': 1, '300p.': 1, 'heard': 3, 'u4': 3, 'while.': 3, 'rude': 3, 'private': 2, '01223585334': 2, 'cum.': 2, 'wan': 2, '2c': 2, 'gettin': 2, 'shagged': 2, 'pix': 2, '8552.': 2, '2end': 2, '8552': 2, '88877>free': 1, '88877': 1, '88066': 3, 'lost': 2, '3pound': 1, 'oranges': 2, 'weekend': 4, 'calls.': 3, 'upd8': 2, '2stoptx': 1, 'message.': 6, '08718738034.': 1, '21870000>hi': 2, 'mailbox': 2, 'messaging': 2, 'alert.': 3, '21': 1, 'matches.': 2, '09056242159': 2, 'retrieve': 2, 'pub': 2, 'quiz.win': 2, 'high': 2, 'street': 2, 'duchess': 2, 'cornwall': 2, 'be?': 2, '82277.unsub': 2, '008704050406': 2, 'sp': 3, 'arrow': 1, '\"congratulations!': 2, 'friend': 5, '08718726971': 1, 'minute.': 5, 'bt-national-rate.\"': 2, '\"tddnewsletter@emc1.co.uk': 1, '(more': 1, 'thedailydraw)': 1, 'helen,': 1, 'dozens': 1, 'prizeswith..\"': 1, '***************': 1, '10/06/03!': 1, '09066368753': 1, '97n7qp,': 1, 'b/tooth': 1, 'free-nokia': 1, 'or2optout/hv9d': 1, '\"download': 1, 'ringtones': 3, 'restrictions,': 1, 'choose.': 1, 'buddys.': 1, 'sir': 1, '80082': 3, '08712402902': 1, '\"spook': 2, 'halloween': 3, 'eerie': 3, 'spook': 3, '08701417012150p': 2, 'logo/pic\"': 1, '\"fantasy': 2, 'football': 2, 'tv.': 2, 'sky': 4, 'gamestar': 2, 'active': 2, 'â£250k': 2, 'team.': 2, 'scoring': 2, 'saturday,': 2, 'register': 2, 'now!sky': 2, '88088\"': 2, 'expired': 1, 're-sub': 1, 'monoc': 1, 'monos': 1, 'polyc': 1, 'polys': 4, 'stream': 1, '0871212025016': 1, 'draws!': 1, 'yes!': 2, 'town': 2, 'adult': 4, 'uk.': 4, '\"someone': 3, 'becausethey': 1, '09058098002.': 1, 'pobox1,': 1, 'w14rg': 1, 'babe:': 1, 'baby!': 1, 'nasty': 1, 'thing': 1, 'filthyguys.': 1, 'bitch.': 1, 'slo': 1, 'hard!': 1, 'slo(4msgs)': 1, 'gotto': 1, 'login': 1, 'charge': 2, '08702840625': 1, 'comuk.220cm2': 1, '9ae': 1, 'custcare:08718720201': 1, 'i?this': 1, 'created': 1, 'page': 1, 'www.asjesus.com': 1, 'read': 1, 'wrote.': 1, 'opinions.': 1, '1/1': 1, '83370.': 1, 'www.music-trivia.net': 1, '1x150p/wk.\"': 2, '\"sppok': 1, 'logo&pic': 1, '8007\"': 1, '09066612661': 3, 'complementary': 1, 'wa14': 1, '2px': 1, 'sender:': 1, 'hol': 1, 'offer\"': 1, 'hvae': 1, '09061701444.': 1, '24': 2, 'acl03530150pm': 2, '6230': 1, 'camera.': 1, '83383': 1, 'pobox114/14tcr/w1': 1, '\"text82228>>': 1, 'ringtones,': 1, 'logos': 1, 'www.txt82228.com.': 1, 'questions:': 1, 'info@txt82228.co.uk\"': 1, 'mini': 1, 'camera,': 1, 'snap': 1, '(quizclub': 1, 'out?': 1, '80122300p/wk': 1, 'sp:rwm': 1, 'ph:08704050406)\"': 1, 'brought': 2, 'gmw': 1, 'ltd.': 2, 'connected': 1, '\"congrats': 2, 'rentl.': 4, 'bx420.': 4, 'ip4.': 4, '5we.': 4, 'amazing': 3, 'picsfree1': 2, 'vid': 1, 'enough': 1, 'keyword': 1, 'video.': 1, 'ten': 1, '83435.': 1, '08706091795.': 1, '\"3': 1, 'tarot': 1, 'texts!': 1, '85555': 1, 'each\"': 1, 'horniest': 1, '2nite!.': 1, 'sign': 1, 'follow': 2, 'instructions.': 1, '69888': 1, 'nyt.ec2a.3lp.msg@150p': 1, 'knock': 2, 'whose': 1, 'choice.': 1, 'www.tkls.com': 1, 'stoptxtstopâ£1.50/week': 1, 'cc100p/min': 1, '\"\"polys\"\"': 1, '87131.': 1, '0870737910216yrs': 1, 'â£1.50/wk.\"': 1, '077xxx': 1, '09066362206': 1, '150p/mtmsgrcvd18\"': 2, 'today?': 1, 'chat,': 1, 'look': 3, 'sexy?\"': 1, 'w4': 1, '5wq': 1, 'norm': 2, '150p/tone': 1, 'mobile?': 2, 'network.': 2, 'park': 1, '69696': 2, 'nyt.': 1, '3lp': 2, 'â£1.50/msg': 1, 'response': 1, 'fone': 3, 'hit': 3, '\"new': 2, 'include:': 2, '1)mcfly-all': 1, 'ab..,': 1, '2)': 2, 'sara': 1, 'jorge-shock..': 1, '3)': 2, 'smith-switch..': 1, 'instructions': 1, 'message\"': 1, 'sports': 2, 'fans': 1, 'str*': 1, 'sport': 3, '0870141701216+': 1, '4txt/120p': 1, 'europe': 1, 'away,': 2, '10th': 1, 'sept': 3, '09050000555.': 1, 'ba128nnfwfly150ppm\"': 1, 'â£12': 1, 'flirt?': 1, 'uks': 3, 'fastest': 2, 'growing': 2, 'rcvd': 2, '83021.': 1, 'tariffs': 2, '2stoptxt': 3, 'luxury': 2, 'canary': 2, 'islands': 2, '20m12aq.': 1, 'â€œ': 1, 'lux': 1, 'james': 1, '28,': 1, 'eh74rr\"': 1, 'women': 1, 'instantly': 1, 'phone.': 1, '69969': 1, 'bcmsfwc1n3xx': 1, 'burger': 2, 'king': 3, 'footy': 1, 'stadium?': 1, 'large': 1, 'super': 3, 'coca-cola': 1, 'walk': 1, 'little': 3, 'child': 1, 'afraid': 1, 'dark': 1, 'become': 1, 'teenager': 1, 'wants': 1, 'night?': 1, 'uâ€™ve': 1, 'bin': 1, 'â£50': 1, 'instant': 1, 'cash.': 2, '08715203028': 1, '9th': 1, 'wins': 1, 'â£50-â£500.': 1, '08718727870': 1, 'freemsg>fav': 1, 'tones!reply': 1, '\"gr8': 1, 'mobs': 1, '2u': 1, 'breathe1': 1, 'crazyin,': 1, 'sleepingwith,': 1, 'finest,': 1, 'ymca': 1, ':getzed.co.uk': 1, 'pobox365o4w45wq': 1, '300p\"': 1, 'interflora': 2, \"â“it's\": 1, 'too': 1, 'late': 1, 'flowers': 1, 'christmas': 1, '505060': 1, 'midnight': 1, 'tomorrow.': 1, 'romcapspam': 1, 'everyone': 2, 'responding': 1, 'presence': 1, 'since': 2, 'warm': 2, 'outgoing.': 1, 'bringing': 1, 'breath': 1, 'sunshine.': 1, '\"congratulations': 1, '08712103738': 1, 'bt-national-rate\"': 5, '150p.': 2, '\"you\\'ve': 2, 'cash,': 2, '09058099801': 2, 'b4190604,': 2, '7876150ppm\"': 2, '\"free-message:': 1, 'jamster!get': 1, 'crazy': 4, 'frog': 1, 'sound': 1, 'mad1,': 1, 'mad2': 1, '88888.': 1, '6': 3, 'sounds': 1, 'gbp/week!': 1, '16+only!': 1, 'reality': 2, 'fantasy': 3, 'show': 4, 'shortly': 1, 'call.\"': 1, '\"hey': 1, 'boys.': 1, 'phone?': 3, 'porn': 3, '69855,': 1, '24hrs': 1, '50p': 3, 'day.': 2, 'stopbcm': 1, 'sf': 1, '\"pdate_now': 1, 'tariffs.': 4, 'call2optout/!yhl\"': 1, '09058094454': 1, 'sorry!': 1, 'yet.': 1, 'package': 1, '54': 1, 'weeks>': 1, 'resubmit': 1, 'request': 1, 'expiry.': 1, 'info': 4, '08712400200.': 1, '08718723815.': 1, 'â£1,500': 1, '27/6/03.': 1, '08714714011\"': 1, \"you're\": 2, 'driving,': 1, 'anyone': 1, 'slower': 1, 'than': 2, 'idiot': 1, 'driving': 1, 'faster': 1, 'maniac?\"': 1, '\"xmas': 2, 'dvd!': 1, 'call2optout/4qf2\"': 1, 'professional': 1, 'tiger': 1, 'woods': 1, 'play?': 1, 'pt2': 2, 'welcome': 3, 'improved': 2, 'club!': 2, 'msgs@150p': 2, '18+only': 1, 'update_now': 1, 'rental:': 1, '400mins...call': 1, 'call2optout=j5q': 1, '69200': 1, 'hrs': 1, 'chrgd@50p': 1, '2exit.': 1, 'unsubscribed': 1, 'tons': 1, 'hunks': 1, 'phone!': 2, 'http://gotbabes.co.uk.': 1, 'subscriptions.': 1, 'jordan,': 1, 'u?': 2, 'abroad': 1, 'lonely,': 1, 'xxsp': 1, 'visionsms.com': 2, 'stopcost': 1, '08712400603\"': 1, 'being': 6, 'agent': 1, 'mob!': 1, 'loads': 1, 'goodies!': 1, 'mat': 1, 'lord': 1, 'rings:return': 1, 'now!reply': 1, 'lotr': 2, 'june': 1, 'soundtrack': 1, 'stdtxtrate.': 1, '28th': 1, 'feb': 1, '06.': 1, 'removal': 2, '08708034412': 2, 'str8': 1, 'classic': 1, 'polys.': 1, 'nokia/150p': 1, 'poly/200p': 1, '\"lookatme!:': 1, 'clip': 1, 'lookatme!,': 1, \"you've\": 2, '35p.': 1, 'think': 2, 'better?': 1, 'mmsto': 1, '32323.\"': 1, 'porn!': 1, 'fun?': 1, 'recd': 1, 'inc': 4, 'vat': 1, 'cancel': 4, '09053750005': 1, '310303.': 1, '08718725756.': 1, '140ppm': 1, 'http://www.e-tlp.co.uk/reward.': 1, '08712101358': 2, '88039.skilgme.tscs087147403231winawk!age16+â£1.50perwksub': 1, '09066358361': 1, 'y87.': 1, 'x29.': 1, '4.50.': 3, '09065989180\"': 1, '08718726978': 1, '\"44': 1, '7732584351,': 1, '3510i': 5, 'deliveredtomorrow?': 3, '300': 3, 'minutes': 5, '08000930705.\"': 1, '09058097189': 1, '09061221066': 4, 'fromm': 4, '28': 4, '5226': 1, '?350': 1, 'hava': 1, '1131': 1, \"rct'\": 1, 'thnq': 1, 'adrian': 1, 'text.': 3, 'rgds': 1, 'vatian': 1, 'know!': 3, 'is,': 3, '09050000928.': 1, 'pobox45w2tg150p\"': 2, 'sorry': 1, 'missed': 2, 'time.': 3, '07090201529': 1, '\"complimentary': 1, 'needs': 1, '09066364349': 1, 'lose': 1, 'box434sk38wp150ppm18+\"': 1, 'msg:we': 1, 'billed': 3, 'mistake': 1, 'shortcode': 1, '83332.please': 1, '08081263000': 1, 'charges': 2, 'refunded.this': 1, '08712402972': 1, '09058095201': 1, 'never': 1, 'much': 1, 'came': 1, 'in.': 1, 'made': 1, 'truly': 3, \"won't\": 3, 'gbp/sms': 1, '600': 1, '400': 1, 'deltomorrow': 1, '09066368470\"': 1, 'welcome!': 1, 'begin.': 1, 'e.g': 1, '24m': 1, '1-month': 1, 'calls!': 1, 'smartcall': 1, '68866.': 1, 'subscriptn3gbp/wk': 1, 'help:': 1, '08448714184': 1, 'stop?txt': 1, 'landlineonly': 1, 'mths?': 2, 'camera/video': 2, 'save': 3, 'â£s': 1, 'texts/weekend': 1, 'callback': 1, 'orno': 1, 'fink': 1, 'met': 1, 'yet': 1, '09099726553': 1, 'promised': 1, 'carlie': 1, 'callsâ£1/minmobsmore': 1, 'lkpobox177hp51fl': 1, 'days.': 5, 'movie.': 1, '89105.': 1, 'films': 2, \"t's\": 3, 'wedding': 1, 'lingerie': 1, 'www.bridal.petticoatdreams.co.uk': 1, 'superb': 1, 'delivery.': 1, 'weddingfriend': 1, 'night': 3, 'knickers': 1, 'on.': 1, 'beg': 1, 'did': 1, '01223585236': 1, 'nikiyu4.net': 1, 'bloomberg': 2, '-message': 2, 'center': 2, '+447797706009': 2, 'wait?': 2, 'http://careers.': 2, 'bloomberg.com': 2, 'phone750': 1, '09050000878.': 1, '\"wan2': 2, 'meet+greet': 2, 'westlife': 2, 'm8?': 2, 'tour?': 2, '1)unbreakable,': 2, '2)untamed,': 2, '3)unkempt.': 2, '1,2': 2, '83049.': 2, '+std': 2, 'text\"': 2, 'dorothy@kiefer.com': 1, '(bank': 2, 'granite': 2, 'issues': 2, 'strong-buy)': 2, 'explosive': 2, 'pick': 2, '*****up': 2, '300%': 2, 'nasdaq': 2, 'symbol': 2, 'cdgt': 2, '$5.00': 2, 'per..': 2, '09071517866': 1, '150ppmpobox10183bhamb64xe\"': 1, 'club,': 1, 'during': 1, '10am': 1, '8pm,': 1, 'thurs,': 1, 'sat': 2, \"they're\": 1, 'selling': 1, 'fast!\"': 1, '\"rock': 1, 'chik.': 1, \"100's\": 1, '&xxx': 1, 'filth': 1, '69669.': 1, 'saristar': 1, 'e14': 1, '9yt': 1, '08701752560.': 1, '450p': 1, 'stop2': 1, 'cancel\"': 1, 'month': 1, '50%': 1, '9061100010': 1, 'wire3.net': 1, '1st4terms': 1, 'pobox84': 1, '3uz': 2, 'mobcudb': 1, '09050000460': 1, 'j89.': 1, 'box245c2150pm': 1, 'banneduk': 1, 'see!': 1, '\"auction': 1, 'round': 1, '4.': 2, 'highest': 1, 'â£54.': 1, 'maximum': 1, 'â£71.': 1, 'bid,': 1, 'bids': 1, '(to': 1, 'â£10)': 1, '83383.': 1, 'luck.\"': 1, \"valentine's\": 1, 'paris': 2, 'flight': 1, 'guaranteed!': 2, 'text:': 1, '69101.': 1, 'www.rtf.sphosting.com': 1, 'believe': 2, 'true.': 2, 'incredible': 2, 'txts!': 2, 'g': 2, 'learn': 2, 'things': 2, 'blow': 2, 'mind.': 2, 'o2fwd': 2, '18p/txt': 2, 'willing': 1, 'strt': 1, 'ltdhelpdesk:': 1, '02085076972': 1, 'tomorrow?': 2, '200': 3, 'august': 1, 'draw.': 1, '09066660100': 1, '2309.': 1, ':zed': 1, 'tonights': 2, 'game!': 2, '84199.': 2, '\"customer': 2, 'recently': 2, 'unable': 2, 'so,': 2, '07090298926': 1, 're-schedule.': 2, 'ref:9307622\"': 1, '\"\"stop': 1, 'mix\"\"': 1, 'my-tone.com/enjoy.': 1, 'html': 1, 'terms.': 1, 'gbp4.50/week.': 1, 'mfl,': 1, '1146': 1, '(2/3)\"': 1, 'wamma': 1, 'laid?want': 1, 'doggin': 1, 'dogs': 1, 'now!nyt.': 1, 'â£1.50/msg.': 1, 'promotion': 1, 'number:': 1, '8714714': 1, '087147123779am-7pm.': 1, 'x49.': 1, '09065989182.': 1, 'from:': 1, '[colour=red]text[/colour]txtstar\"': 1, 'there,': 1, '2nights': 1, 'night!': 1, 'uve': 1, 'xchat,': 1, 'wildest': 1, 'chat!': 1, '18yrs\"': 1, '2/2': 1, '146tf150p': 1, 'holder': 2, 'class': 2, 'airport': 1, 'lounge': 1, 'passes': 1, 'using': 2, '08704439680.': 1, 'booking': 1, 'quote': 1, '09058095107': 1, '7,': 1, 's3xy': 1, '\"mila,': 2, 'age23,': 2, 'blonde,': 2, 'mtalk': 2, '69866.18': 2, '30pp/txt': 2, '5free.': 2, 'increments.': 2, 'help08718728876\"': 2, '\"claim': 1, 'spree,': 1, '08717895698': 1, 'won!': 5, 'mobstorequiz10ppm\"': 1, '\"want': 2, 'funk': 2, 'tones2u': 2, '\"twinks,': 1, 'bears,': 1, 'scallies,': 1, 'skins': 1, 'jocks': 1, \"weekend's\": 2, 'fun.': 1, '08712466669': 1, '08712460324(nat': 1, 'rate)\"': 1, '09061701851.': 1, 'k61.': 1, '12hours': 1, '74355': 1, 'iscoming': 2, 'tnc': 2, 'row': 1, 'blu': 2, 'concert': 1, 'november': 1, '09061104276': 1, 'costâ£3.75max': 1, 'msg:': 3, 'single?': 1, 'area!': 1, 'now!send': 1, '62220cncl': 1, 'stopcs': 1, '08717890890â£1.50': 1, 'â“harry': 1, 'ringtone!from:': 1, 'http://tms.': 1, 'widelive.com/index.': 2, 'wml?id=1b6a5ecef91ff9*37819&first=true18:0430-jul-05': 1, '\"oh': 1, 'god!': 1, \"i've\": 1, 'found': 1, 'again!': 1, 'glad,': 1, 'xafter': 1, 'cst': 1, 'chg': 1, 'â£1.50\"': 1, 'picture': 1, 'sent.': 1, 'http://alto18.co.uk/wave/wave.asp?o=44345': 1, 'call2optout/hf8\"': 1, 'yesterday': 2, '09061702893.': 1, '08719181259': 1, 'xxxxx': 1, '26.03.05': 1, 'free>ringtone!': 1, 'real1': 1, 'pushbutton': 1, 'dontcha': 1, 'babygoodbye': 1, 'golddigger': 1, '5.': 1, 'webeburnin': 1, 'gnarls': 1, 'barkleys': 1, '\"\"crazy\"\"': 1, 'totally': 1, 'now!\"': 1, 'refused': 1, 'loan?': 1, 'secured': 1, 'unsecured?': 1, \"can't\": 1, 'credit?': 1, '195': 1, '6669': 1, \"'help'\": 1, 'will!': 1, '\"\"3000': 1, 'promo\"': 1, 'picked': 4, 'easy.': 2, '09061743386': 2, 'mths': 2, 'txts.': 2, 'call2optout/674&': 1, 'ringtoneking': 1, '84484': 1, 'housewives!': 2, '0871750.77.11!': 2, 'bt-national': 2, 'landlines!': 2, 'thurs': 1, 'â£400': 5, '087104711148': 1, 'receiving': 2, 'triple': 1, 'echo': 1, 'it!': 1, '\"u\\'ve': 1, 'dial': 1, 'call.': 1, 'bx526,': 1, '09066364311': 2, 'customer.': 4, 'x49.your': 1, '09065989182\"': 1, 'accessible.': 1, '08709501522': 1, 'details!': 1, '139,': 1, 'la3': 1, '2wu.': 1, 'â£1.50/week.': 1, 'mobile!\"': 1, '09064017305': 1, 'pobox75ldns7': 1, 'tbs/persolvo.': 1, 'chasing': 1, 'forâ£38': 1, 'definitely': 1, 'paying': 1, 'information.': 1, 'ignore': 1, 'them.': 2, 'kath.': 1, 'manchester.': 1, 'loans': 1, 'bad': 1, 'credit!': 1, 'noworriesloans.com': 1, '08717111821': 1, '87077:': 1, 'season': 1, '2wks': 1, 'goals': 1, 'villa': 1, 'brings': 1, 'heroes,': 1, 'tips': 1, 'stop.\"': 1, '07973788240': 1, '08715203649': 1, 'gsoh?': 1, 'spam': 1, 'ladies?u': 1, 'gigolo?': 1, 'mens': 1, 'oncall.': 1, 'mjzgroup.': 1, '08714342399.2stop': 1, 'msg@â£1.50rcvd': 1, '08707500020': 1, '<ukp>2000': 1, '09061790125': 1, '\"spjanuary': 1, 'freemsg': 2, \"today's\": 1, 'ready!': 1, 'town.': 1, 'games!': 1, '\"in': 1, 'simpsons': 1, 'movie': 1, 'released': 1, 'july': 1, 'band': 1, 'died': 1, 'film?': 1, 'a-green': 1, 'day,': 2, 'b-blue': 1, 'c-red': 1, '(send': 1, 'a,': 2, 'c)\"': 1, 'amanda': 1, 'regard': 1, 'renewing': 1, 'upgrading': 1, 'current': 2, 'handset': 1, 'tel': 1, '3680': 1, 'subject': 1, 'months?': 1, 'http://www.wtlp.co.uk/text.': 1, '0906346330.': 1, 'spanish': 2, '47': 1, 'po19': 1, '2ez': 1, '\"cmon': 1, 'babe,': 1, 'horny,': 1, '*turn*': 1, 'on!': 1, '-)': 1, 'hot,': 1, 'sticky': 1, 'replies': 1, 'â£1.50.': 1, '0796xxxxxx.': 1, 'day!2': 1, 'prizeawaiting': 1, 'called': 1, 'left': 1, '07008009200': 1, 'indicate': 2, '3750': 1, 'accident': 2, 'had.': 2, 'colours!': 1, '2-4-1': 1, '3lions': 1, 'info!': 1, '69669': 1, 'ringtones.': 1, 'normal': 1, 'gprs': 1, '\"accordingly.': 1, 'repeat,': 1, 'send\"': 1, 'block': 1, 'breaker': 1, 'deluxe': 1, 'format': 1, 'features': 1, 'graphics': 1, 't-mobile.': 1, 'â£5': 1, 'bbdeluxe': 1, 'challenge': 1, 'day!2find': 2, 'natalja': 2, '(25/f)': 2, 'yes-440': 2, 'no-440': 2, 'www.sms.ac/u/nat27081980': 2, '\"urgent.': 1, '02': 1, ',': 1, '!\"': 1, 'kit': 1, 'strip': 1, '1013': 1, 'ig11': 1, 'oja': 1, '08712402578': 1, 'thesmszone.com': 1, 'lets': 1, 'anonymous': 1, 'masked': 1, 'messages..im': 1, 'sending': 2, 'there..do': 1, 'potential': 1, 'abuse???': 1, '09061744553': 2, 'polyh': 2, '150pm\"': 2, '0789xxxxxxx.': 1, 'shy!': 1, '09058091870': 1, '\"ur': 1, 'â£600.': 1, 'question:': 1, 'complete': 1, 'landmark,': 1, 'big,': 1, 'a.': 1, 'bob,': 1, 'barry': 1, 'c.': 1, 'ben': 1, '?.': 1, '83738.': 1, 'luck!\"': 1, 'tonexs': 1, 'renewed': 1, 'month.': 1, 'www.clubzed.co.uk': 1, '*billing': 1, 'msg*': 1, '\"if': 2, \"don't,\": 2, 'another': 2, 'www.t-c.biz': 2, 'polo': 2, 'suite': 2, '373': 2, 'w1j': 2, '6hl': 2, 'busy\"': 1, '8000930705': 1, 'recpt': 1, '1/3.': 1, 'ringtone.': 1, 'processed...': 1, 'subscribers': 1, 'g.b.': 1, 'enter.': 1, 'headset': 1, '\"\"adp\"\"\"': 1, 'floppy...': 1, 'snappy': 1, 'happy!': 1, '\"welcome': 2, 'uk-mobile-date': 1, 'giving': 1, '08719839835.': 1, 'mgs': 1, '\"\"go': 1, 'stop\"\"': 1, '89123\"': 1, 'explicit': 2, '30': 2, 'secs?': 2, '02073162414': 2, '20p/min': 2, '\"latest': 2, '+â£400': 1, 'proze': 1, 'with:': 1, '83355': 1, 'norcorp': 1, 'ltd.â£1,50/mtmsgrcvd18+\"': 1, 'items': 1, '7cfca1a': 1, 'wining': 1, '946': 1, 'wot': 1, '\"i': 1, 'cock!': 1, \"hubby's\": 1, 'man': 1, 'wife': 1, '89938': 1, 'strings': 1, 'action.': 1, '(txt': 1, 'end,': 1, 'rec': 1, 'â£1.50ea.': 1, 'otbox': 1, '731': 1, 'la1': 1, '7ws.': 1, ')\"': 1, 'sexiest': 1, 'dirtiest': 1, '89070': 2, 'baby': 1, 'wow': 1, 'moby.': 1, 'pic?': 1, 'chat?im': 1, 'w8in': 1, '4utxt': 1, '/': 1, 'laugh?': 1, 'chit-chat': 1, 'logon': 1, '8883': 1, 'cm': 1, '4217': 1, 'w1a': 1, '6zf': 1, '118p/msg': 1, 'â£1000call': 1, '09071512432': 1, '300603t&csbcm4235wc1n3xx.callcost150ppmmobilesvary.': 1, '\"had': 3, 'contract': 3, 'mnths?': 2, 'callback,': 2, 'records\"': 1, '09065171142-stopsms-08718727870150ppm': 1, '86888': 2, 'reward': 4, 'subscribe6gbp/mnth': 2, '3hrs': 2, 'stop?txtstop': 2, 'quiz!': 1, 'recorder': 1, 'canname': 1, 'capital': 1, 'australia?': 1, 'mquiz': 1, '7634': 1, 'reward.': 3, '7684': 1, 'ripped': 1, 'www.clubmoby.com': 1, '08717509990': 1, 'poly/true/pix/ringtones/games': 1, 'six': 1, 'randomly': 2, 'loyal': 2, 'customers': 2, '09066380611': 2, '08718738002': 1, '48922': 1, '21/11/04': 1, '07099833605': 1, 'ref:9280114\"': 1, 'chloe,': 1, 'smashed': 1, 'saturday': 1, 'night,': 1, 'great!': 1, 'weekend?': 1, 'missing': 1, 'me?': 1, '150p/text\"': 1, '07808726822': 1, '0871-872-9758': 1, 'game.': 1, 'rayman': 1, 'golf': 1, 'arcade.': 2, 'post,': 1, 'activ8.': 1, 'key': 1, 'termsapply\"': 1, 'same': 1, 'number,': 1, 'mins/texts.': 1, 'cool-mob': 1, '!this': 1, '1)': 1, 'frog-axel': 1, 'f>>>': 1, 'akon-lonely>>>': 1, 'black': 1, 'eyed-dont': 1, '>>>more': 1, 'cashbin.co.uk': 1, '(get': 1, 'weekend!)': 1, 'www.cashbin.co.uk': 1, 'away!!': 1, 'these..': 1, 'continued': 1, 'support': 2, 'in2': 1, 'president?': 1, 'id': 1, '1172.': 1, '-call': 1, '09066649731from': 1, '09061702893': 1, 'santa': 4, 'calling!': 2, 'ones': 2, 'eve?': 2, '09077818151': 1, 'calls1.50ppm': 1, '30s': 1, 'www.santacalling.com': 1, '078498****7': 1, '08719180219': 1, '06.05.05': 1, 'videos': 1, 'sms.shsex.netun': 1, 'fgkslpopw': 1, 'fgkslpo': 1, '0871277810710p/min': 1, ')': 1, 'â£1.': 1, 'txtauction.\"': 1, '08715203652': 1, '42810': 1, '29/10/0': 1, '**free': 1, 'message**thanks': 1, '150p/msgrcvd': 1, 'skip': 1, 'out.': 2, 'customercare': 1, '08718726270': 2, 'lyricalladie(21/f)': 1, 'yes-910': 1, 'no-910.': 1, 'www.sms.ac/u/hmmross': 1, '\"ou': 1, '*': 1, 'free*': 1, 'sn': 1, 'pobox202': 1, 'nr31': 1, '7zs': 1, '450pw': 1, 'warner': 1, 'village': 2, '83118': 1, 'colin': 1, 'farrell': 1, 'swat': 1, 'wkend': 1, '@warner': 1, 'med.': 1, 'popcorn!just': 1, 'msg+ticket@kiosk.valid': 1, '4-7/12.': 1, '@kiosk.': 1, 'mre': 1, 'film': 1, '\"goal!': 1, '(henry,': 1, '7': 1, 'henry': 1, 'scores': 1, 'simple': 1, 'shot': 1, 'yards': 1, 'bergkamp': 1, 'goal': 1, 'margin': 1, '78': 1, 'mins.\"': 1, 'sexychat': 1, 'chatting.': 1, 'service\"': 1, 'amy,': 1, 'couple': 1, 'days,': 1, 'parties...\"': 1, 'select,': 1, 'added': 2, 'benefits.': 1, 'trained': 1, 'advisors': 1, 'dialling': 1, '402.\"': 1, 'meal': 1, 'us.': 1, 'dining': 1, 'experiencehttp://www.vouch4me.com/etlp/dining.asp': 1, '09058094507': 1, 'donate': 2, 'â£2.50': 2, \"unicef's\": 1, 'asian': 1, 'tsunami': 1, 'disaster': 1, 'fund': 1, 'texting': 1, '864233.': 1, 'goldviking': 1, '(29/m)': 1, 'his': 1, 'yes-762': 1, 'no-762': 1, 'him:': 1, 'www.sms.ac/u/goldviking': 1, 'phony': 1, 'xxxx': 1, '4u:': 1, 'â£125': 1, 'freeentry': 1, 'xt': 1, '08714712412': 1, '150p/meg.': 1, '08715203685': 1, 'code:4xx26': 1, '13/10/04': 1, 'deepest': 1, 'darkest': 1, 'fantasies.': 1, '09094646631': 1, '(nat': 2, 'natalie': 1, '(20/f)': 1, 'yes-165': 1, 'no-165': 1, 'www.sms.ac/u/natalie2k9': 1, 'jamster!': 1, 'wallpaper': 2, 'heart': 1, '88888': 1, '08701213186.': 1, 'call2optout/674': 1, '83039': 1, '62735=â£450': 1, 'accommodationvouchers': 1, 'mustprovide': 1, '15541': 1, '5p': 1, '88039.': 1, 'tscs08714740323': 1, '1winawk!': 1, 'â£1.50perweeksub.': 1, '09066361921\"': 1, '08000930705.': 1, '\"themob>hit': 1, 'pink': 1, 'panther': 1, 'game,': 1, 'sugababes,': 1, 'zebra': 1, 'animation': 1, 'badass': 1, 'hoody': 1, 'wallpaper-all': 1, 'free!\"': 1, 'resent': 1, 'previous': 1, 'failed': 1, 'due': 2, 'error': 1, 'queries': 1, 'customersqueries@netvision.uk.com': 1, '08715205273': 1, 'vco': 1, '078': 1, 've': 2, 'garden': 2, 'bulbs': 2, 'seeds': 2, 'â£33:50': 2, 'scotsman': 2, 'saturday.': 2, 'go2': 2, 'notxt.co.uk': 2, 'ree': 1, 'maybe': 2, '5000': 1, 'compensation': 1, 'logo/pic': 1, 'www.telediscount.co.uk': 1, '<fone': 1, 'no>': 1, '08715203656': 1, '42049': 1, '26/10/04': 1, 'someonone': 1, 'service!': 1, '09064015307': 1, '09061213237': 2, '&cs': 1, '177': 1, 'm227xy.': 2, 'busy': 1, '09061790126': 1, '177.': 1, 'www.ldew.com1win150ppmx3age16subscription': 1, 'textcomp': 1, 'comp.': 1, 'wk?s': 1, 'follows,': 1, 'subsequent': 1, 'wks': 1, 'charged@150p/msg.2': 1, '84128,custcare': 1, '08712405020\"': 1, '09095350301': 1, 'erotic': 1, 'ecstacy.': 1, 'attempt.': 1, 'dept.': 1, '13/4/04.': 1, '08717507382': 1, 'dating:i': 1, 'two': 1, 'these.': 1, 'started': 1, 'radio': 1, 'connection': 1, 'coincidence?': 1, 'leading': 1, '151.': 1, 'pause': 1, 'care:': 1, 'gr8prizes': 1, '8800,': 1, 'psp': 1, 'wk.txt': 1, '80878': 1, 'http//www.gr8prizes.com': 1, '08715705022\"': 1, '0207-083-6089': 1, '09058094583': 1, '32000': 1, '.....': 1, '(18+).': 1, 'legitimat': 1, 'efreefone': 1, 'wat': 1, 'think???': 1, 'police': 1, 'station': 1, 'toilet': 1, 'stolen,': 1, 'cops': 1, 'on!\"': 1, 'sparkling': 1, 'breaks': 1, '45': 1, 'person;': 1, '0121': 1, '2025050': 1, 'www.shortbreaks.org.uk': 1, 'www.gamb.tv': 1, 'http//tms.': 1, 'wml?id=820554ad0a1705572711&first=trueâ¡c': 1, 'ringtoneâ¡': 1, 'holiday!': 1, '09050000332': 1, '09064017295': 1, 'k52': 1, 'pm': 1, '2p': 2, '08448350055': 1, 'planettalkinstant.com': 1, \"c's.\": 1, 'marvel': 1, 'ultimate': 1, 'spider-man': 1, '(â£4.50)': 1, 'spider': 1, '83338': 1, 'll': 1, '8ball': 1, '07808247860': 1, '08719899229': 1, '40411': 1, '06/11/04': 1, '49557': 1, '26/11/04': 1, 'gsex': 1, '2667': 1, 'wc1n': 1, '3xx': 1, '3mobile': 1, 'chatlines': 1, 'inclu': 1, 'india': 1, 'servs': 1, 'sed': 1, 'l8er': 1, 'mega': 1, 'bill.': 1, 'giv': 1, 'shit.': 1, 'bailiff': 1, 'o': 1, 'records.\"': 1, '\"reminder': 1, 'o2:': 1, '2.50': 1, 'name,': 1, 'house': 1, 'postcode\"': 1, 'â£750': 1, '087187272008': 1, 'now1!': 1}\n"
     ]
    }
   ],
   "source": [
    "file = 'spam_sms.txt'\n",
    "my_dict = count_words_in_file(file)\n",
    "print(my_dict)"
   ]
  },
  {
   "cell_type": "markdown",
   "metadata": {},
   "source": [
    "We will now test your function with a file called \"spam_sms.txt\". This file stores many spam SMS messages. The data is obtained from the following link: https://www.kaggle.com/uciml/sms-spam-collection-dataset . Details about the data can be found here: http://www.dt.fee.unicamp.br/~tiago/smsspamcollection/ .\n",
    "\n"
   ]
  },
  {
   "cell_type": "code",
   "execution_count": 22,
   "metadata": {},
   "outputs": [
    {
     "name": "stdout",
     "output_type": "stream",
     "text": [
      "\n",
      "Testcase 1\n",
      "----------\n",
      "Expected: 204\n",
      "Actual  : 204\n",
      "\n",
      "Testcase 2\n",
      "----------\n",
      "Expected: 58\n",
      "Actual  : 58\n",
      "\n",
      "Testcase 3\n",
      "----------\n",
      "Expected: 1\n",
      "Actual  : 1\n"
     ]
    }
   ],
   "source": [
    "# Test Cases:\n",
    "\n",
    "file = 'spam_sms.txt'\n",
    "my_dict = count_words_in_file(file)\n",
    "\n",
    "print('\\nTestcase 1')\n",
    "print('-' * 10)\n",
    "print(\"Expected: 204\")\n",
    "print(\"Actual  : \" + str(my_dict['the']))\n",
    "\n",
    "print('\\nTestcase 2')\n",
    "print('-' * 10)\n",
    "print(\"Expected: 58\")\n",
    "print(\"Actual  : \" + str(my_dict['prize']))\n",
    "\n",
    "print('\\nTestcase 3')\n",
    "print('-' * 10)\n",
    "print(\"Expected: 1\")\n",
    "print(\"Actual  : \" + str(my_dict['presleys']))\n"
   ]
  },
  {
   "cell_type": "markdown",
   "metadata": {},
   "source": [
    "### Part (b) [ &bigstar;&bigstar; ]\n",
    "\n",
    "Now display all the words in the dictionary whose lengths are at least 4 and whose frequencies are above 50. \n",
    "\n",
    "Do you think these words can tell you something about a common theme in all these spam SMS messages?"
   ]
  },
  {
   "cell_type": "markdown",
   "metadata": {},
   "source": [
    "You should get the following output:\n",
    "\n",
    "```\n",
    "free : 171\n",
    "text : 110\n",
    "have : 135\n",
    "prize : 58\n",
    "claim : 105\n",
    "call : 336\n",
    "your : 258\n",
    "mobile : 109\n",
    "with : 108\n",
    "from : 127\n",
    "send : 65\n",
    "reply : 101\n",
    "please : 52\n",
    "nokia : 64\n",
    "now! : 70\n",
    "cash : 56\n",
    "contact : 56\n",
    "this : 79\n",
    "stop : 85\n",
    "only : 66\n",
    "just : 78\n",
    "```"
   ]
  },
  {
   "cell_type": "code",
   "execution_count": 23,
   "metadata": {},
   "outputs": [
    {
     "name": "stdout",
     "output_type": "stream",
     "text": [
      "free : 171\n",
      "text : 110\n",
      "have : 135\n",
      "prize : 58\n",
      "claim : 105\n",
      "call : 336\n",
      "your : 258\n",
      "mobile : 109\n",
      "with : 108\n",
      "from : 127\n",
      "send : 65\n",
      "reply : 101\n",
      "please : 52\n",
      "nokia : 64\n",
      "now! : 70\n",
      "cash : 56\n",
      "contact : 56\n",
      "this : 79\n",
      "stop : 85\n",
      "only : 66\n",
      "just : 78\n"
     ]
    }
   ],
   "source": [
    "# Put your code here:\n",
    "\n",
    "file = 'spam_sms.txt'\n",
    "my_dict = count_words_in_file(file)\n",
    "\n",
    "for word in my_dict:\n",
    "    if len(word)>=4 and my_dict[word]>50:\n",
    "        print(word+' '+':'+' '+str(my_dict[word]))"
   ]
  },
  {
   "cell_type": "markdown",
   "metadata": {},
   "source": [
    "### Part (c) [ &bigstar;&bigstar;&bigstar; ]\n",
    "\n",
    "Are you able to find the top-10 frequent words inside the dictionary? You're expected to get the following top words and their frequencies:\n",
    "\n",
    "\n",
    "```\n",
    "[('to', 684), ('a', 375), ('call', 336), ('your', 258), ('you', 237), ('the', 204), ('for', 196), ('or', 188), ('free', 171), ('2', 169)]\n",
    "```"
   ]
  },
  {
   "cell_type": "code",
   "execution_count": 30,
   "metadata": {},
   "outputs": [
    {
     "name": "stdout",
     "output_type": "stream",
     "text": [
      "[('to', 684), ('a', 375), ('call', 336), ('your', 258), ('you', 237), ('the', 204), ('for', 196), ('or', 188), ('free', 171), ('2', 169)]\n"
     ]
    }
   ],
   "source": [
    "# Put your code here:\n",
    "file = 'spam_sms.txt'\n",
    "my_dict = count_words_in_file(file)\n",
    "\n",
    "new_list=[]\n",
    "for i in range(10):\n",
    "    topword=''\n",
    "    maxfrequency=0\n",
    "    for key in my_dict:\n",
    "        frequency = my_dict[key]\n",
    "        info = (key, frequency)\n",
    "        if info not in new_list and frequency > maxfrequency:\n",
    "            maxfrequency = frequency\n",
    "            top_word = key\n",
    "    new_list.append( (top_word, maxfrequency) )\n",
    "\n",
    "print(new_list)\n",
    "\n",
    "    \n",
    "\n",
    "\n"
   ]
  },
  {
   "cell_type": "markdown",
   "metadata": {},
   "source": [
    "## Q6: Employees [ &bigstar;&bigstar;&bigstar;]\n",
    "\n",
    "You are given a file called \"employees.txt\" that stores the information of some employees inside an organization. Each line of the file is about a single employee. For each employee, there are several pieces of information given. However, different employees may have different pieces of information given in the file. Take a look at the file to understand its structure.\n",
    "\n",
    "__You can assume that each line always contains the ID and name of an employee.__\n",
    "\n",
    "Write a prgram that allows a user to check the details of any employee. The user needs to first enter the employee's ID. If the ID is found, the name of the employee should be displayed first. After that, the program asks what information the user wants to know about the employee and displays the information accordingly. If the ID is not found or the requested information is not found, the program should display \"Not found!\"\n",
    "\n",
    "See a sample run of the program below:\n",
    "\n",
    "```\n",
    "Enter an employee ID: 3\n",
    "This employee is Peter Ng.\n",
    "    Enter a field name or 'S' to stop: title\n",
    "    The title is manager.\n",
    "    Enter a field name or 'S' to stop: marriage status\n",
    "    The marriage status is married.\n",
    "    Enter a field name or 'S' to stop: phone\n",
    "    Not found!\n",
    "    Enter a field name or 'S' to stop: S\n",
    "\n",
    "Do you want to search for another employee? [Y|N]:Y\n",
    "Enter an employee ID: 4\n",
    "Not found!\n",
    "\n",
    "Do you want to search for another employee? [Y|N]:Y\n",
    "Enter an employee ID: 10\n",
    "This employee is George Khoo.\n",
    "    Enter a field name or 'S' to stop: title\n",
    "    Not found!\n",
    "    Enter a field name or 'S' to stop: phone\n",
    "    The phone is 67893456.\n",
    "    Enter a field name or 'S' to stop: S\n",
    "\n",
    "Do you want to search for another employee? [Y|N]:N\n",
    "\n",
    "Good-bye!\n",
    "```\n",
    "\n",
    "__Hint:__ You should store the data in an appropriate dictionary such that when you search for the information of an employee, you only need to do dictionary lookup and no for-loops."
   ]
  },
  {
   "cell_type": "code",
   "execution_count": 13,
   "metadata": {},
   "outputs": [
    {
     "ename": "TypeError",
     "evalue": "'str' object is not callable",
     "output_type": "error",
     "traceback": [
      "\u001b[1;31m---------------------------------------------------------------------------\u001b[0m",
      "\u001b[1;31mTypeError\u001b[0m                                 Traceback (most recent call last)",
      "Input \u001b[1;32mIn [13]\u001b[0m, in \u001b[0;36m<cell line: 21>\u001b[1;34m()\u001b[0m\n\u001b[0;32m     17\u001b[0m             new_dict[emp_id] \u001b[38;5;241m=\u001b[39m emp_dict\n\u001b[0;32m     18\u001b[0m     \u001b[38;5;28;01mreturn\u001b[39;00m new_dict\n\u001b[1;32m---> 21\u001b[0m my_dict \u001b[38;5;241m=\u001b[39m \u001b[43mget_dictionary\u001b[49m\u001b[43m(\u001b[49m\u001b[38;5;124;43m'\u001b[39;49m\u001b[38;5;124;43memployees.txt\u001b[39;49m\u001b[38;5;124;43m'\u001b[39;49m\u001b[43m)\u001b[49m\n\u001b[0;32m     24\u001b[0m continue_search \u001b[38;5;241m=\u001b[39m \u001b[38;5;124m'\u001b[39m\u001b[38;5;124mY\u001b[39m\u001b[38;5;124m'\u001b[39m\n\u001b[0;32m     25\u001b[0m \u001b[38;5;28;01mwhile\u001b[39;00m continue_search \u001b[38;5;241m==\u001b[39m \u001b[38;5;124m'\u001b[39m\u001b[38;5;124mY\u001b[39m\u001b[38;5;124m'\u001b[39m:\n",
      "Input \u001b[1;32mIn [13]\u001b[0m, in \u001b[0;36mget_dictionary\u001b[1;34m(filename)\u001b[0m\n\u001b[0;32m      2\u001b[0m \u001b[38;5;28;01mdef\u001b[39;00m \u001b[38;5;21mget_dictionary\u001b[39m(filename):\n\u001b[0;32m      4\u001b[0m     new_dict \u001b[38;5;241m=\u001b[39m {\u001b[38;5;241m2\u001b[39m:\u001b[38;5;241m2\u001b[39m}\n\u001b[1;32m----> 5\u001b[0m     \u001b[38;5;28;43mprint\u001b[39;49m\u001b[43m(\u001b[49m\u001b[43mnew_dict\u001b[49m\u001b[43m)\u001b[49m\n\u001b[0;32m      6\u001b[0m     \u001b[38;5;28;01mwith\u001b[39;00m \u001b[38;5;28mopen\u001b[39m(filename, \u001b[38;5;124m'\u001b[39m\u001b[38;5;124mr\u001b[39m\u001b[38;5;124m'\u001b[39m) \u001b[38;5;28;01mas\u001b[39;00m my_file:\n\u001b[0;32m      7\u001b[0m         \u001b[38;5;28;01mfor\u001b[39;00m line \u001b[38;5;129;01min\u001b[39;00m my_file:\n",
      "\u001b[1;31mTypeError\u001b[0m: 'str' object is not callable"
     ]
    }
   ],
   "source": [
    "# Put your code here:\n",
    "def get_dictionary(filename):\n",
    "    \n",
    "    new_dict = {2:2}\n",
    "    print(new_dict)\n",
    "    with open(filename, 'r') as my_file:\n",
    "        for line in my_file:\n",
    "            line = line.rstrip('\\n')\n",
    "            line_details = line.split('\\t')\n",
    "            emp_id = int(line_details[0][3:])\n",
    "            emp_dict = {}\n",
    "            for item in line_details[1:]:\n",
    "                item_list = item.split(':')\n",
    "                key = item_list[0]\n",
    "                value = item_list[1]\n",
    "                emp_dict[key] = value\n",
    "            new_dict[emp_id] = emp_dict\n",
    "    return new_dict\n",
    "\n",
    "\n",
    "my_dict = get_dictionary('employees.txt')\n",
    "\n",
    "\n",
    "continue_search = 'Y'\n",
    "while continue_search == 'Y':\n",
    "    \n",
    "    emp_id = int(input('Enter an employee ID :'))\n",
    "    \n",
    "    if emp_id not in my_dict:\n",
    "        print('Not found!')\n",
    "    else:\n",
    "        emp_dict = my_dict[emp_id]\n",
    "        print('This employee is ' + emp_dict['name'])\n",
    "        field_name = input(\"Enter a field name or 'S' to stop :\")\n",
    "        while field_name != 'S':\n",
    "            if field_name in emp_dict:\n",
    "                print('The', field_name, 'is', emp_dict[field_name] + '.')\n",
    "            else:\n",
    "                print('Not found!')\n",
    "            field_name = input(\"Enter a field name or 'S' to stop :\")\n",
    "    \n",
    "    continue_search = input('\\nDo you want to search for another employee? [Y|N] :')\n",
    "\n",
    "print('Good-bye!')   \n",
    "\n"
   ]
  },
  {
   "cell_type": "code",
   "execution_count": null,
   "metadata": {},
   "outputs": [],
   "source": []
  },
  {
   "cell_type": "code",
   "execution_count": null,
   "metadata": {},
   "outputs": [],
   "source": []
  }
 ],
 "metadata": {
  "kernelspec": {
   "display_name": "Python 3 (ipykernel)",
   "language": "python",
   "name": "python3"
  },
  "language_info": {
   "codemirror_mode": {
    "name": "ipython",
    "version": 3
   },
   "file_extension": ".py",
   "mimetype": "text/x-python",
   "name": "python",
   "nbconvert_exporter": "python",
   "pygments_lexer": "ipython3",
   "version": "3.9.12"
  }
 },
 "nbformat": 4,
 "nbformat_minor": 2
}
