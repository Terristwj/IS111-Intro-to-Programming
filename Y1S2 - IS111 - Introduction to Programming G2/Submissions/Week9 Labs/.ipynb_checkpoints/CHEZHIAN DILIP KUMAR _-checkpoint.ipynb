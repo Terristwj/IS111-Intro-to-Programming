{
 "cells": [
  {
   "cell_type": "markdown",
   "metadata": {},
   "source": [
    "<table class=\"table table-bordered\">\n",
    "    <tr>\n",
    "        <th style=\"text-align:center; width:35%\"><img src='https://drive.google.com/uc?export=view&id=1zIB3Nw_z8N2SJSSdd2yWQIsDS0MGPYKm' style=\"width: 300px; height: 90px; \"></th>\n",
    "        <th style=\"text-align:center;\"><h3>IS111 - Lab 6</h3><h3>while-Loops</h3></th>\n",
    "    </tr>\n",
    "</table>"
   ]
  },
  {
   "cell_type": "markdown",
   "metadata": {},
   "source": [
    "### Q1: [ &bigstar; ] Gender\n",
    "\n",
    "Prompt the user for his/her gender. The user has to enter one of the following options: 'M' or 'F'. The program keeps prompting the user until the user enters a valid option.\n",
    "\n",
    "A sample run of the code can be found below:\n",
    "\n",
    "    What's your gender? Please enter M or F :T\n",
    "    Wrong input!\n",
    "    \n",
    "    What's your gender? Please enter M or F :f\n",
    "    Wrong input!\n",
    "    \n",
    "    What's your gender? Please enter M or F :F\n",
    "    \n",
    "    Thanks! Your gender is female."
   ]
  },
  {
   "cell_type": "code",
   "execution_count": 4,
   "metadata": {},
   "outputs": [
    {
     "name": "stdout",
     "output_type": "stream",
     "text": [
      "What's your gender? Please enter M or F :M\n",
      "\n",
      "Thanks! Your gender is male.\n"
     ]
    }
   ],
   "source": [
    "# Put your code below\n",
    "gender = input(\"What's your gender? Please enter M or F :\")\n",
    "while not(gender==\"M\" or gender==\"F\"):\n",
    "    print(\"Wrong input!\")\n",
    "    gender = input(\"\\nWhat's your gender? Please enter M or F :\")\n",
    "if gender == \"F\":\n",
    "    print(\"\\n Thanks! Your gender is female.\")\n",
    "elif gender ==\"M\":\n",
    "    print(\"\\nThanks! Your gender is male.\")"
   ]
  },
  {
   "cell_type": "markdown",
   "metadata": {},
   "source": [
    "### Q2: [ &bigstar; ] Two Numbers\n",
    "\n",
    "Write a program that prompts the user for two numbers. The program keeps prompting the user until  __both numbers are positive__ and __the sum of the two numbers is strictly smaller than 100__.\n",
    "\n",
    "A sample run of the program can be found below:\n",
    "\n",
    "```\n",
    "Enter the first number: 90.5\n",
    "Enter the second number: 0\n",
    "Conditions not satisfied!\n",
    "\n",
    "Enter the first number: 90.5\n",
    "Enter the second number: 10.5\n",
    "Conditions not satisfied!\n",
    "\n",
    "Enter the first number: -5\n",
    "Enter the second number: 50\n",
    "Conditions not satisfied!\n",
    "\n",
    "Enter the first number: 5.5\n",
    "Enter the second number: 6.5\n",
    "\n",
    "Thanks!\n",
    "```"
   ]
  },
  {
   "cell_type": "code",
   "execution_count": 6,
   "metadata": {},
   "outputs": [
    {
     "name": "stdout",
     "output_type": "stream",
     "text": [
      "Enter the first number: -5\n",
      "Enter the second number: 50\n",
      "Conditions not satisfied!\n",
      "\n",
      "Enter the first number: 5.5\n",
      "Enter the second number: 6.5\n",
      "\n",
      "Thanks!\n"
     ]
    }
   ],
   "source": [
    "# Put your code below\n",
    "first_number = float(input(\"Enter the first number: \"))\n",
    "second_number = float(input(\"Enter the second number: \"))\n",
    "num_sum = first_number + second_number\n",
    "while not(first_number>0 and second_number>0 and num_sum <100):\n",
    "    print(\"Conditions not satisfied!\")\n",
    "    first_number = float(input(\"\\nEnter the first number: \"))\n",
    "    second_number = float(input(\"Enter the second number: \"))\n",
    "    num_sum = first_number + second_number\n",
    "print(\"\\nThanks!\")"
   ]
  },
  {
   "cell_type": "markdown",
   "metadata": {},
   "source": [
    "### Q3: [ &bigstar;&bigstar; ] Number Guessing Game\n",
    "\n",
    "Write a piece of code that does the following:\n",
    "\n",
    "- The program first generates a random number between 1 and 100 (both inclusive). \n",
    "  <br />You can use the `randrange()` or `randint()` function from the `random` module to generate the number.\n",
    "- The program then keeps prompting the user to guess the random number generated until the user's guess is correct. When the guess is wrong, the program gives a hint about whether the guess is too low or too high.\n",
    "\n",
    "A sample run of the program can be found below. Note that in this sample run 95 is the random number generated in the beginning.\n",
    "\n",
    "    Enter your guess (between 1 and 100) :34\n",
    "    Your guess is too low!\n",
    "    \n",
    "    Enter your guess (between 1 and 100) :58\n",
    "    Your guess is too low!\n",
    "    \n",
    "    Enter your guess (between 1 and 100) :73\n",
    "    Your guess is too low!\n",
    "    \n",
    "    Enter your guess (between 1 and 100) :86\n",
    "    Your guess is too low!\n",
    "    \n",
    "    Enter your guess (between 1 and 100) :99\n",
    "    Your guess is too high!\n",
    "    \n",
    "    Enter your guess (between 1 and 100) :90\n",
    "    Your guess is too low!\n",
    "    \n",
    "    Enter your guess (between 1 and 100) :95\n",
    "    \n",
    "    Bingo!\n",
    "\n",
    "Another sample run is below. This time 47 is the random number generated in the beginning.\n",
    "\n",
    "    Enter your guess (between 1 and 100):50\n",
    "    Your guess is too high!\n",
    "    \n",
    "    Enter your guess (between 1 and 100):25\n",
    "    Your guess is too low!\n",
    "    \n",
    "    Enter your guess (between 1 and 100):37\n",
    "    Your guess is too low!\n",
    "    \n",
    "    Enter your guess (between 1 and 100):43\n",
    "    Your guess is too low!\n",
    "    \n",
    "    Enter your guess (between 1 and 100):47\n",
    "    \n",
    "    Bingo!\n",
    "    \n",
    "__Note:__ You cannot reproduce the same output as shown above because your program will likely generate a different random number."
   ]
  },
  {
   "cell_type": "code",
   "execution_count": 7,
   "metadata": {},
   "outputs": [
    {
     "name": "stdout",
     "output_type": "stream",
     "text": [
      "Enter your guess (between 1 and 100):45\n",
      "Your guess is too high!\n",
      "\n",
      "Enter your guess (between 1 and 100):23\n",
      "Your guess is too low!\n",
      "\n",
      "Enter yuor guess (between 1 and 100):35\n",
      "Your guess is too low!\n",
      "\n",
      "Enter yuor guess (between 1 and 100):39\n",
      "Your guess is too low!\n",
      "\n",
      "Enter yuor guess (between 1 and 100):42\n",
      "Your guess is too low!\n",
      "\n",
      "Enter yuor guess (between 1 and 100):44\n",
      "\n",
      "Bingo!\n",
      "44\n"
     ]
    }
   ],
   "source": [
    "# Put your code below\n",
    "import random\n",
    "random_number = random.randint(1,100)\n",
    "guess = int(input(\"Enter your guess (between 1 and 100):\"))\n",
    "while random_number < guess or random_number > guess:\n",
    "    if random_number<guess:\n",
    "        print(\"Your guess is too high!\")\n",
    "        guess = int(input(\"\\nEnter your guess (between 1 and 100):\"))\n",
    "    elif random_number > guess:\n",
    "        print(\"Your guess is too low!\")\n",
    "        guess = int(input(\"\\nEnter yuor guess (between 1 and 100):\"))\n",
    "\n",
    "print(\"\\nBingo!\")\n",
    "\n",
    "print(random_number)"
   ]
  },
  {
   "cell_type": "markdown",
   "metadata": {
    "collapsed": true
   },
   "source": [
    "### Q4: [ &bigstar;&bigstar; ] Shopping Cart\n",
    "\n",
    "#### Part I\n",
    "\n",
    "Write a program that prompts the user for the items in his/her shopping cart. The program keeps prompting the user until there's no more item in the shopping cart. The program displays the total price of all the items in the shopping cart.\n",
    "\n",
    "A sample run of the code can be found below:\n",
    "\n",
    "```\n",
    "    Do you have any item left in your shopping cart? Please enter Y or N :Y\n",
    "    Please enter the name of the item : bread\n",
    "    Please enter the price of the item : $2.2\n",
    "    Please enter the quantity of the item : 2\n",
    "    \n",
    "    Do you have any item left in your shopping cart? Please enter Y or N :Y\n",
    "    Please enter the name of the item : apples\n",
    "    Please enter the price of the item : $0.5\n",
    "    Please enter the quantity of the item : 6\n",
    "    \n",
    "    Do you have any item left in your shopping cart? Please enter Y or N :Y\n",
    "    Please enter the name of the item : milk\n",
    "    Please enter the price of the item : $5.3\n",
    "    Please enter the quantity of the item : 1\n",
    "    \n",
    "    Do you have any item left in your shopping cart? Please enter Y or N :N\n",
    "    \n",
    "    Total price: $12.7\n",
    "```"
   ]
  },
  {
   "cell_type": "code",
   "execution_count": 8,
   "metadata": {},
   "outputs": [
    {
     "name": "stdout",
     "output_type": "stream",
     "text": [
      "Do you have any item left in your shopping cart? Please enter Y or N: Y\n",
      "Please enter the name of the item: apples\n",
      "Please enter the price of the item : $0.5\n",
      "Please enter the quantity of the item: 6\n",
      "\n",
      "Do you have any item left in your shopping cart? Please enter Y or N: Y\n",
      "Please enter the name of the item: milk\n",
      "Please enter the price of the item : $5.4\n",
      "Please enter the quantity of the item: 1\n",
      "\n",
      "Do you have any item left in your shopping cart? Please enter Y or N: Y\n",
      "Please enter the name of the item: bread\n",
      "Please enter the price of the item : $2.2\n",
      "Please enter the quantity of the item: 2\n",
      "\n",
      "Do you have any item left in your shopping cart? Please enter Y or N: N\n",
      "\n",
      "Total price: $12.8\n"
     ]
    }
   ],
   "source": [
    "# Put your code below\n",
    "item_confirmation = input(\"Do you have any item left in your shopping cart? Please enter Y or N: \")\n",
    "item_name = input(\"Please enter the name of the item: \")\n",
    "item_price = float(input(\"Please enter the price of the item : $\"))\n",
    "item_quantity = int(input(\"Please enter the quantity of the item: \"))\n",
    "indiv_price = item_price*item_quantity\n",
    "total_price = indiv_price\n",
    "\n",
    "while item_confirmation == \"Y\":\n",
    "    item_confirmation = input(\"\\nDo you have any item left in your shopping cart? Please enter Y or N: \")\n",
    "    if item_confirmation == \"Y\":\n",
    "        item_name = input(\"Please enter the name of the item: \")\n",
    "        item_price = float(input(\"Please enter the price of the item : $\"))\n",
    "        item_quantity = int(input(\"Please enter the quantity of the item: \"))\n",
    "        indiv_price = item_price*item_quantity\n",
    "        total_price += indiv_price\n",
    "    elif item_confirmation == \"N\": \n",
    "            print(\"\\nTotal price: $\" + str(round(total_price,2)))\n"
   ]
  },
  {
   "cell_type": "markdown",
   "metadata": {},
   "source": [
    "#### Part II\n",
    "\n",
    "Now modify your code such that in the end the program prints out not only the total price but also all the items in the shopping cart.\n",
    "\n",
    "A sample run of the program can be found below:\n",
    "\n",
    "```\n",
    "    Do you have any item left in your shopping cart? Please enter Y or N: Y\n",
    "    Please enter the name of the item: bread\n",
    "    Please enter the price of the item: $2.2\n",
    "    Please enter the quantity of the item: 2\n",
    "    \n",
    "    Do you have any item left in your shopping cart? Please enter Y or N: Y\n",
    "    Please enter the name of the item: apples\n",
    "    Please enter the price of the item: $0.5\n",
    "    Please enter the quantity of the item: 6\n",
    "    \n",
    "    Do you have any item left in your shopping cart? Please enter Y or N: Y\n",
    "    Please enter the name of the item: milk\n",
    "    Please enter the price of the item: $5.3\n",
    "    Please enter the quantity of the item: 1\n",
    "    \n",
    "    Do you have any item left in your shopping cart? Please enter Y or N: N\n",
    "\n",
    "    You've entered the following items:\n",
    "        bread   $2.2\t2\n",
    "        apples  $0.5\t6\n",
    "        milk    $5.3\t1\n",
    "\n",
    "    Total price: $12.7\n",
    "```"
   ]
  },
  {
   "cell_type": "code",
   "execution_count": 4,
   "metadata": {},
   "outputs": [
    {
     "name": "stdout",
     "output_type": "stream",
     "text": [
      "Do you have any item left in your shopping cart? Please enter Y or N: Y\n",
      "Please enter the name of the item: n\n",
      "Please enter the price of the item : $1\n",
      "Please enter the quantity of the item: 2\n",
      "\n",
      "Do you have any item left in your shopping cart? Please enter Y or N: Y\n",
      "Please enter the name of the item: a\n",
      "Please enter the price of the item : $2\n",
      "Please enter the quantity of the item: 4\n"
     ]
    },
    {
     "ename": "TypeError",
     "evalue": "list.append() takes exactly one argument (3 given)",
     "output_type": "error",
     "traceback": [
      "\u001b[1;31m---------------------------------------------------------------------------\u001b[0m",
      "\u001b[1;31mTypeError\u001b[0m                                 Traceback (most recent call last)",
      "Input \u001b[1;32mIn [4]\u001b[0m, in \u001b[0;36m<cell line: 10>\u001b[1;34m()\u001b[0m\n\u001b[0;32m     17\u001b[0m     total_price \u001b[38;5;241m+\u001b[39m\u001b[38;5;241m=\u001b[39m indiv_price\n\u001b[0;32m     18\u001b[0m     \u001b[38;5;28;01mfor\u001b[39;00m value \u001b[38;5;129;01min\u001b[39;00m shopping_cart:\n\u001b[1;32m---> 19\u001b[0m         \u001b[43mshopping_cart\u001b[49m\u001b[38;5;241;43m.\u001b[39;49m\u001b[43mappend\u001b[49m\u001b[43m(\u001b[49m\u001b[43mitem_name\u001b[49m\u001b[43m,\u001b[49m\u001b[43m \u001b[49m\u001b[43mitem_price\u001b[49m\u001b[43m,\u001b[49m\u001b[43m \u001b[49m\u001b[43mitem_quantity\u001b[49m\u001b[43m)\u001b[49m\n\u001b[0;32m     20\u001b[0m \u001b[38;5;28;01melif\u001b[39;00m item_confirmation \u001b[38;5;241m==\u001b[39m \u001b[38;5;124m\"\u001b[39m\u001b[38;5;124mN\u001b[39m\u001b[38;5;124m\"\u001b[39m:\n\u001b[0;32m     21\u001b[0m     \u001b[38;5;28mprint\u001b[39m(\u001b[38;5;124m\"\u001b[39m\u001b[38;5;124mYou\u001b[39m\u001b[38;5;124m'\u001b[39m\u001b[38;5;124mve entered the following items:\u001b[39m\u001b[38;5;130;01m\\n\u001b[39;00m\u001b[38;5;124m\"\u001b[39m)\n",
      "\u001b[1;31mTypeError\u001b[0m: list.append() takes exactly one argument (3 given)"
     ]
    }
   ],
   "source": [
    "# Put your code below\n",
    "item_confirmation = input(\"Do you have any item left in your shopping cart? Please enter Y or N: \")\n",
    "item_name = input(\"Please enter the name of the item: \")\n",
    "item_price = float(input(\"Please enter the price of the item : $\"))\n",
    "item_quantity = int(input(\"Please enter the quantity of the item: \"))\n",
    "indiv_price = item_price*item_quantity\n",
    "total_price = indiv_price\n",
    "shopping_cart  = [item_name, item_price, item_quantity]\n",
    "\n",
    "while item_confirmation == \"Y\":\n",
    "    item_confirmation = input(\"\\nDo you have any item left in your shopping cart? Please enter Y or N: \")\n",
    "    if item_confirmation == \"Y\":\n",
    "        item_name = input(\"Please enter the name of the item: \")\n",
    "        item_price = float(input(\"Please enter the price of the item : $\"))\n",
    "        item_quantity = int(input(\"Please enter the quantity of the item: \"))\n",
    "        indiv_price = item_price*item_quantity\n",
    "        total_price += indiv_price\n",
    "        for value in shopping_cart:\n",
    "            shopping_cart.append(item_name, item_price, item_quantity)\n",
    "    elif item_confirmation == \"N\":\n",
    "        print(\"You've entered the following items:\\n\")\n",
    "        print(shopping_cart)\n",
    "        print(\"\\nTotal price: $\" + str(round(total_price,2)))"
   ]
  },
  {
   "cell_type": "code",
   "execution_count": 3,
   "metadata": {},
   "outputs": [
    {
     "ename": "KeyboardInterrupt",
     "evalue": "Interrupted by user",
     "output_type": "error",
     "traceback": [
      "\u001b[1;31m---------------------------------------------------------------------------\u001b[0m",
      "\u001b[1;31mKeyboardInterrupt\u001b[0m                         Traceback (most recent call last)",
      "Input \u001b[1;32mIn [3]\u001b[0m, in \u001b[0;36m<cell line: 2>\u001b[1;34m()\u001b[0m\n\u001b[0;32m      1\u001b[0m \u001b[38;5;66;03m# Put your code below\u001b[39;00m\n\u001b[1;32m----> 2\u001b[0m str_1 \u001b[38;5;241m=\u001b[39m \u001b[38;5;28;43minput\u001b[39;49m\u001b[43m(\u001b[49m\u001b[38;5;124;43m\"\u001b[39;49m\u001b[38;5;124;43mEnter the first string: \u001b[39;49m\u001b[38;5;124;43m\"\u001b[39;49m\u001b[43m)\u001b[49m\n\u001b[0;32m      3\u001b[0m str_2 \u001b[38;5;241m=\u001b[39m \u001b[38;5;28minput\u001b[39m(\u001b[38;5;124m\"\u001b[39m\u001b[38;5;124mEnter the second string: \u001b[39m\u001b[38;5;124m\"\u001b[39m)\n\u001b[0;32m      5\u001b[0m \u001b[38;5;28;01mdef\u001b[39;00m \u001b[38;5;21mcharacters_in_str2\u001b[39m(str_1, str_2):\n",
      "File \u001b[1;32m~\\anaconda3\\lib\\site-packages\\ipykernel\\kernelbase.py:1075\u001b[0m, in \u001b[0;36mKernel.raw_input\u001b[1;34m(self, prompt)\u001b[0m\n\u001b[0;32m   1071\u001b[0m \u001b[38;5;28;01mif\u001b[39;00m \u001b[38;5;129;01mnot\u001b[39;00m \u001b[38;5;28mself\u001b[39m\u001b[38;5;241m.\u001b[39m_allow_stdin:\n\u001b[0;32m   1072\u001b[0m     \u001b[38;5;28;01mraise\u001b[39;00m StdinNotImplementedError(\n\u001b[0;32m   1073\u001b[0m         \u001b[38;5;124m\"\u001b[39m\u001b[38;5;124mraw_input was called, but this frontend does not support input requests.\u001b[39m\u001b[38;5;124m\"\u001b[39m\n\u001b[0;32m   1074\u001b[0m     )\n\u001b[1;32m-> 1075\u001b[0m \u001b[38;5;28;01mreturn\u001b[39;00m \u001b[38;5;28;43mself\u001b[39;49m\u001b[38;5;241;43m.\u001b[39;49m\u001b[43m_input_request\u001b[49m\u001b[43m(\u001b[49m\n\u001b[0;32m   1076\u001b[0m \u001b[43m    \u001b[49m\u001b[38;5;28;43mstr\u001b[39;49m\u001b[43m(\u001b[49m\u001b[43mprompt\u001b[49m\u001b[43m)\u001b[49m\u001b[43m,\u001b[49m\n\u001b[0;32m   1077\u001b[0m \u001b[43m    \u001b[49m\u001b[38;5;28;43mself\u001b[39;49m\u001b[38;5;241;43m.\u001b[39;49m\u001b[43m_parent_ident\u001b[49m\u001b[43m[\u001b[49m\u001b[38;5;124;43m\"\u001b[39;49m\u001b[38;5;124;43mshell\u001b[39;49m\u001b[38;5;124;43m\"\u001b[39;49m\u001b[43m]\u001b[49m\u001b[43m,\u001b[49m\n\u001b[0;32m   1078\u001b[0m \u001b[43m    \u001b[49m\u001b[38;5;28;43mself\u001b[39;49m\u001b[38;5;241;43m.\u001b[39;49m\u001b[43mget_parent\u001b[49m\u001b[43m(\u001b[49m\u001b[38;5;124;43m\"\u001b[39;49m\u001b[38;5;124;43mshell\u001b[39;49m\u001b[38;5;124;43m\"\u001b[39;49m\u001b[43m)\u001b[49m\u001b[43m,\u001b[49m\n\u001b[0;32m   1079\u001b[0m \u001b[43m    \u001b[49m\u001b[43mpassword\u001b[49m\u001b[38;5;241;43m=\u001b[39;49m\u001b[38;5;28;43;01mFalse\u001b[39;49;00m\u001b[43m,\u001b[49m\n\u001b[0;32m   1080\u001b[0m \u001b[43m\u001b[49m\u001b[43m)\u001b[49m\n",
      "File \u001b[1;32m~\\anaconda3\\lib\\site-packages\\ipykernel\\kernelbase.py:1120\u001b[0m, in \u001b[0;36mKernel._input_request\u001b[1;34m(self, prompt, ident, parent, password)\u001b[0m\n\u001b[0;32m   1117\u001b[0m             \u001b[38;5;28;01mbreak\u001b[39;00m\n\u001b[0;32m   1118\u001b[0m \u001b[38;5;28;01mexcept\u001b[39;00m \u001b[38;5;167;01mKeyboardInterrupt\u001b[39;00m:\n\u001b[0;32m   1119\u001b[0m     \u001b[38;5;66;03m# re-raise KeyboardInterrupt, to truncate traceback\u001b[39;00m\n\u001b[1;32m-> 1120\u001b[0m     \u001b[38;5;28;01mraise\u001b[39;00m \u001b[38;5;167;01mKeyboardInterrupt\u001b[39;00m(\u001b[38;5;124m\"\u001b[39m\u001b[38;5;124mInterrupted by user\u001b[39m\u001b[38;5;124m\"\u001b[39m) \u001b[38;5;28;01mfrom\u001b[39;00m \u001b[38;5;28mNone\u001b[39m\n\u001b[0;32m   1121\u001b[0m \u001b[38;5;28;01mexcept\u001b[39;00m \u001b[38;5;167;01mException\u001b[39;00m:\n\u001b[0;32m   1122\u001b[0m     \u001b[38;5;28mself\u001b[39m\u001b[38;5;241m.\u001b[39mlog\u001b[38;5;241m.\u001b[39mwarning(\u001b[38;5;124m\"\u001b[39m\u001b[38;5;124mInvalid Message:\u001b[39m\u001b[38;5;124m\"\u001b[39m, exc_info\u001b[38;5;241m=\u001b[39m\u001b[38;5;28;01mTrue\u001b[39;00m)\n",
      "\u001b[1;31mKeyboardInterrupt\u001b[0m: Interrupted by user"
     ]
    }
   ],
   "source": [
    "# Put your code below\n",
    "str_1 = input(\"Enter the first string: \")\n",
    "str_2 = input(\"Enter the second string: \")\n",
    "\n",
    "def characters_in_str2(str_1, str_2):\n",
    "    for ch in str_1:\n",
    "        if ch not in str_2:\n",
    "            return False\n",
    "\n",
    "while not(\" \" not in str_1 and \" \" not in str_2 and len(str_2)>len(str_1) and characters_in_str2(str_1,str_2) != False):\n",
    "    print(\"Conditions not satisfied!\")\n",
    "    str_1 = input(\"\\nEnter the first string: \")\n",
    "    str_2 = input(\"Enter the second string: \")\n",
    "    characters_in_str2(str_1,str_2)\n",
    "    \n",
    "print(\"\\nBingo!\")"
   ]
  },
  {
   "cell_type": "markdown",
   "metadata": {},
   "source": [
    "# Q5: [ &bigstar;&bigstar; ] Two Strings\n",
    "\n",
    "Prompt the user for two strings. Keep prompting the user until the following conditions are satisfied:\n",
    "\n",
    "1. Neither string contains a space.\n",
    "2. The second string is longer than the first string.\n",
    "3. Every character in the first string can be found in the second string.\n",
    "\n",
    "A sample run of the program can be found below:\n",
    "\n",
    "```\n",
    "Enter the first string: SMU SIS\n",
    "Enter the second string: SMUSIS\n",
    "Conditions not satisfied!\n",
    "\n",
    "Enter the first string: SMUSIS\n",
    "Enter the second string: SMUSIS\n",
    "Conditions not satisfied!\n",
    "\n",
    "Enter the first string: SMUSIS\n",
    "Enter the second string: SMUSMUSMU\n",
    "Conditions not satisfied!\n",
    "\n",
    "Enter the first string: SMUSIS\n",
    "Enter the second string: SMUSISS\n",
    "\n",
    "Bingo!\n",
    "```"
   ]
  },
  {
   "cell_type": "code",
   "execution_count": 67,
   "metadata": {},
   "outputs": [
    {
     "name": "stdout",
     "output_type": "stream",
     "text": [
      "Enter the first string: SMUSIS\n",
      "Enter the second string: SMUSMUSMU\n",
      "False\n"
     ]
    }
   ],
   "source": [
    "str_1 = input(\"Enter the first string: \")\n",
    "str_2 = input(\"Enter the second string: \")\n",
    "\n",
    "def characters_in_str2(str_1, str_2):\n",
    "    for ch in str_1:\n",
    "        if ch not in str_2:\n",
    "            return False\n",
    "            \n",
    "        \n",
    "print(characters_in_str2(str_1,str_2))"
   ]
  },
  {
   "cell_type": "markdown",
   "metadata": {},
   "source": [
    "### Q6: [ &bigstar;&bigstar;&bigstar; ] Multiplication Table\n",
    "\n",
    "Write a program that helps the user to practice multiplication table. The program keeps asking whether the user wants to continue practicing until the user decides to quite. If the user wants to continue, the program randomly picks two numbers between 1 and 9 (both inclusive) and asks the user for his/her answer. If the answer is wrong, the program keeps prompting until the answer is correct.\n",
    "\n",
    "A sample run of the program can be found below:\n",
    "\n",
    "```\n",
    "    Do you want to practice multiplication table? Please enter Y or N: Y\n",
    "    \n",
    "    What's the result of 4 times 9? 27\n",
    "    Wrong answer! Please try again: 36\n",
    "    You are right!\n",
    "\n",
    "    Do you want to continue your practice? Please enter Y or N: Y\n",
    "    \n",
    "    What's the result of 4 times 2? 10\n",
    "    Wrong answer! Please try again: 9\n",
    "    Wrong answer! Please try again: 8\n",
    "    You are right!\n",
    "\n",
    "    Do you want to continue your practice? Please enter Y or N: Y\n",
    "    \n",
    "    What's the result of 3 times 4? 12\n",
    "    You are right!\n",
    "\n",
    "    Do you want to continue your practice? Please enter Y or N: N\n",
    "\n",
    "    Good-bye!\n",
    "```"
   ]
  },
  {
   "cell_type": "code",
   "execution_count": 78,
   "metadata": {},
   "outputs": [
    {
     "name": "stdout",
     "output_type": "stream",
     "text": [
      "Do you want to practice multiplication table? Please enter Y or N: Y\n",
      "\n",
      "What's the result of 1 times 3? 3\n",
      "You are right!\n",
      "\n",
      "Do you want to continue your practice? Please enter Y or N: Y\n",
      "\n",
      "What's the result of 9 times 8? 56\n",
      "Wrong answer! Please try again: 72\n",
      "You are right!\n",
      "\n",
      "Do you want to continue your practice? Please enter Y or N: N\n",
      "Good-bye!\n"
     ]
    }
   ],
   "source": [
    "# Put your code below\"\n",
    "import random \n",
    "first_num = random.randint(1,10)\n",
    "second_num = random.randint(1,10)\n",
    "product = first_num*second_num\n",
    "\n",
    "question = input(\"Do you want to practice multiplication table? Please enter Y or N: \")\n",
    "while question ==\"Y\":\n",
    "    answer = int(input(\"\\nWhat's the result of \"+ str(first_num) + \" times \" + str(second_num)+ \"? \"))\n",
    "    while answer != product:\n",
    "        answer = int(input(\"Wrong answer! Please try again: \"))\n",
    "    print(\"You are right!\")\n",
    "    first_num = random.randint(1,10)\n",
    "    second_num = random.randint(1,10)\n",
    "    product = first_num*second_num\n",
    "    question = input(\"\\nDo you want to continue your practice? Please enter Y or N: \")\n",
    "print(\"Good-bye!\")"
   ]
  },
  {
   "cell_type": "markdown",
   "metadata": {},
   "source": [
    "### Q7: [ &bigstar;&bigstar;&bigstar; ] Line-up\n",
    "\n",
    "A group of students need to line up for the procession of an event. We only have the information about every pair of students who are next to each other. We use a list of tuples to represent this line-up information: Each element of the list is a tuple that contains the name of a student (call him/her A) and the name of the student behind A. \n",
    "\n",
    "For example, ```(\"Alice\", \"Bob\")``` means Bob is behind Alice. The list ```[(\"Alice\", \"Bob\"), (\"Bob\", \"Chris\")]``` means Bob is behind Alice and Chris behind Bob. \n",
    "\n",
    "For the student who's at the very end of the line-up, we use an empty string to indicate that there's nobody behind this student. E.g., ```(\"Darren\", \"\")``` means there's nobody behind Darren, i.e., Darren is at the end of the line-up.\n",
    "\n",
    "Given a list of tuples that contains the line-up information of every pair of students who are next to each other, implement a function that returns the students in a list based on their order in the line-up.\n",
    "\n",
    "__Example 1:__ ```get_lineup([(\"Chris\", \"Darren\"), (\"Alice\", \"Bob\"), (\"Darren\", \"\"), (\"Bob\", \"Chris\")])``` should return ```[\"Alice\", \"Bob\", \"Chris\", \"Darren\"]```.\n",
    "\n",
    "\n",
    "__Example 2:__\n",
    "\n",
    "Given the following code,\n",
    "\n",
    "```\n",
    "info = [(\"Mary\", \"Jason\"), (\"John\", \"Alan\"), (\"Jason\", \"George\"), (\"Alan\", \"Christie\"), (\"Christie\", \"Mary\"), (\"George\", \"\")]\n",
    "print(get_lineup(info))\n",
    "```\n",
    "\n",
    "we should see the following output:\n",
    "\n",
    "```\n",
    "['John', 'Alan', 'Christie', 'Mary', 'Jason', 'George']\n",
    "```\n",
    "\n",
    "\n",
    "__Note:__ If the list passed to the function is empty, the function returns an empty list."
   ]
  },
  {
   "cell_type": "code",
   "execution_count": 42,
   "metadata": {},
   "outputs": [],
   "source": [
    "# Put your code below"
   ]
  },
  {
   "cell_type": "code",
   "execution_count": 43,
   "metadata": {},
   "outputs": [
    {
     "data": {
      "text/plain": [
       "['Alice', 'Bob', 'Chris', 'Darren']"
      ]
     },
     "execution_count": 43,
     "metadata": {},
     "output_type": "execute_result"
    }
   ],
   "source": [
    "# Test Case 1\n",
    "get_lineup([(\"Chris\", \"Darren\"), (\"Alice\", \"Bob\"), (\"Darren\", \"\"), (\"Bob\", \"Chris\")]) "
   ]
  },
  {
   "cell_type": "code",
   "execution_count": 44,
   "metadata": {},
   "outputs": [
    {
     "name": "stdout",
     "output_type": "stream",
     "text": [
      "['John', 'Alan', 'Christie', 'Mary', 'Jason', 'George']\n"
     ]
    }
   ],
   "source": [
    "# Test Case 2\n",
    "info = [(\"Mary\", \"Jason\"), (\"John\", \"Alan\"), (\"Jason\", \"George\"), (\"Alan\", \"Christie\"), (\"Christie\", \"Mary\"), (\"George\", \"\")]\n",
    "print(get_lineup(info))"
   ]
  },
  {
   "cell_type": "code",
   "execution_count": null,
   "metadata": {},
   "outputs": [],
   "source": []
  }
 ],
 "metadata": {
  "kernelspec": {
   "display_name": "Python 3 (ipykernel)",
   "language": "python",
   "name": "python3"
  },
  "language_info": {
   "codemirror_mode": {
    "name": "ipython",
    "version": 3
   },
   "file_extension": ".py",
   "mimetype": "text/x-python",
   "name": "python",
   "nbconvert_exporter": "python",
   "pygments_lexer": "ipython3",
   "version": "3.9.12"
  }
 },
 "nbformat": 4,
 "nbformat_minor": 2
}
