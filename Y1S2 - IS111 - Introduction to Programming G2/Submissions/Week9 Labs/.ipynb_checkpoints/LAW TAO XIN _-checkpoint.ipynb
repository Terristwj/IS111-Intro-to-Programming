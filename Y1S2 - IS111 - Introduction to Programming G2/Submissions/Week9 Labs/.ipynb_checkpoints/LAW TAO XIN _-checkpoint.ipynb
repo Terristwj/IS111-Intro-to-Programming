{
 "cells": [
  {
   "cell_type": "markdown",
   "metadata": {},
   "source": [
    "<table class=\"table table-bordered\">\n",
    "    <tr>\n",
    "        <th style=\"text-align:center; width:35%\"><img src='https://drive.google.com/uc?export=view&id=1zIB3Nw_z8N2SJSSdd2yWQIsDS0MGPYKm' style=\"width: 300px; height: 90px; \"></th>\n",
    "        <th style=\"text-align:center;\"><h3>IS111 - Lab 6</h3><h3>while-Loops</h3></th>\n",
    "    </tr>\n",
    "</table>"
   ]
  },
  {
   "cell_type": "markdown",
   "metadata": {},
   "source": [
    "### Q1: [ &bigstar; ] Gender\n",
    "\n",
    "Prompt the user for his/her gender. The user has to enter one of the following options: 'M' or 'F'. The program keeps prompting the user until the user enters a valid option.\n",
    "\n",
    "A sample run of the code can be found below:\n",
    "\n",
    "    What's your gender? Please enter M or F :T\n",
    "    Wrong input!\n",
    "    \n",
    "    What's your gender? Please enter M or F :f\n",
    "    Wrong input!\n",
    "    \n",
    "    What's your gender? Please enter M or F :F\n",
    "    \n",
    "    Thanks! Your gender is female."
   ]
  },
  {
   "cell_type": "code",
   "execution_count": 3,
   "metadata": {},
   "outputs": [
    {
     "name": "stdout",
     "output_type": "stream",
     "text": [
      "What's your gender? Please enter M or F :T\n",
      "Wrong input!\n",
      "\n",
      "What's your gender? Please enter M or F :f\n",
      "Wrong input!\n",
      "\n",
      "What's your gender? Please enter M or F :F\n",
      "\n",
      "Thanks! Your gender is female \n"
     ]
    }
   ],
   "source": [
    "# Put your code below\n",
    "gender= input('What\\'s your gender? Please enter M or F :')\n",
    "\n",
    "while not(gender=='F' or gender=='M'):\n",
    "    print('Wrong input!')\n",
    "    print()\n",
    "    gender= input('What\\'s your gender? Please enter M or F :')\n",
    "\n",
    "if gender=='F':\n",
    "    sex= 'female'\n",
    "elif gender=='M':\n",
    "    sex='male'\n",
    "print()\n",
    "print(f'Thanks! Your gender is {sex} ')"
   ]
  },
  {
   "cell_type": "markdown",
   "metadata": {},
   "source": [
    "### Q2: [ &bigstar; ] Two Numbers\n",
    "\n",
    "Write a program that prompts the user for two numbers. The program keeps prompting the user until  __both numbers are positive__ and __the sum of the two numbers is strictly smaller than 100__.\n",
    "\n",
    "A sample run of the program can be found below:\n",
    "\n",
    "```\n",
    "Enter the first number: 90.5\n",
    "Enter the second number: 0\n",
    "Conditions not satisfied!\n",
    "\n",
    "Enter the first number: 90.5\n",
    "Enter the second number: 10.5\n",
    "Conditions not satisfied!\n",
    "\n",
    "Enter the first number: -5\n",
    "Enter the second number: 50\n",
    "Conditions not satisfied!\n",
    "\n",
    "Enter the first number: 5.5\n",
    "Enter the second number: 6.5\n",
    "\n",
    "Thanks!\n",
    "```"
   ]
  },
  {
   "cell_type": "code",
   "execution_count": 1,
   "metadata": {},
   "outputs": [
    {
     "name": "stdout",
     "output_type": "stream",
     "text": [
      "Enter the first number: 90.5\n",
      "Enter the second number: 0\n",
      "Conditions not satisfied!\n",
      "\n",
      "Enter the first number: 90.5\n",
      "Enter the second number: 10.5\n",
      "Conditions not satisfied!\n",
      "\n",
      "Enter the first number: -5\n",
      "Enter the second number: 50\n",
      "Conditions not satisfied!\n",
      "\n",
      "Enter the first number: 5.5\n",
      "Enter the second number: 6.5\n",
      "\n",
      "Thanks!\n"
     ]
    }
   ],
   "source": [
    "# Put your code below\n",
    "\n",
    "first_num= float(input('Enter the first number: '))\n",
    "sec_num= float(input('Enter the second number: '))\n",
    "condition1= first_num>0 and sec_num>0\n",
    "condition2= (first_num+sec_num)<100\n",
    "\n",
    "while condition1==False or condition2==False:\n",
    "    print('Conditions not satisfied!')\n",
    "    print()\n",
    "    first_num= float(input('Enter the first number: '))\n",
    "    sec_num= float(input('Enter the second number: '))\n",
    "    condition1= first_num>0 and sec_num>0\n",
    "    condition2= (first_num+sec_num)<100\n",
    "print()\n",
    "print('Thanks!')"
   ]
  },
  {
   "cell_type": "markdown",
   "metadata": {},
   "source": [
    "### Q3: [ &bigstar;&bigstar; ] Number Guessing Game\n",
    "\n",
    "Write a piece of code that does the following:\n",
    "\n",
    "- The program first generates a random number between 1 and 100 (both inclusive). \n",
    "  <br />You can use the `randrange()` or `randint()` function from the `random` module to generate the number.\n",
    "- The program then keeps prompting the user to guess the random number generated until the user's guess is correct. When the guess is wrong, the program gives a hint about whether the guess is too low or too high.\n",
    "\n",
    "A sample run of the program can be found below. Note that in this sample run 95 is the random number generated in the beginning.\n",
    "\n",
    "    Enter your guess (between 1 and 100) :34\n",
    "    Your guess is too low!\n",
    "    \n",
    "    Enter your guess (between 1 and 100) :58\n",
    "    Your guess is too low!\n",
    "    \n",
    "    Enter your guess (between 1 and 100) :73\n",
    "    Your guess is too low!\n",
    "    \n",
    "    Enter your guess (between 1 and 100) :86\n",
    "    Your guess is too low!\n",
    "    \n",
    "    Enter your guess (between 1 and 100) :99\n",
    "    Your guess is too high!\n",
    "    \n",
    "    Enter your guess (between 1 and 100) :90\n",
    "    Your guess is too low!\n",
    "    \n",
    "    Enter your guess (between 1 and 100) :95\n",
    "    \n",
    "    Bingo!\n",
    "\n",
    "Another sample run is below. This time 47 is the random number generated in the beginning.\n",
    "\n",
    "    Enter your guess (between 1 and 100):50\n",
    "    Your guess is too high!\n",
    "    \n",
    "    Enter your guess (between 1 and 100):25\n",
    "    Your guess is too low!\n",
    "    \n",
    "    Enter your guess (between 1 and 100):37\n",
    "    Your guess is too low!\n",
    "    \n",
    "    Enter your guess (between 1 and 100):43\n",
    "    Your guess is too low!\n",
    "    \n",
    "    Enter your guess (between 1 and 100):47\n",
    "    \n",
    "    Bingo!\n",
    "    \n",
    "__Note:__ You cannot reproduce the same output as shown above because your program will likely generate a different random number."
   ]
  },
  {
   "cell_type": "code",
   "execution_count": 4,
   "metadata": {},
   "outputs": [
    {
     "name": "stdout",
     "output_type": "stream",
     "text": [
      "Enter your guess (between 1 and 100):45\n",
      "Your guess is too high!\n",
      "\n",
      "Enter your guess (between 1 and 100):32\n",
      "Your guess is too high!\n",
      "\n",
      "Enter your guess (between 1 and 100):25\n",
      "Your guess is too high!\n",
      "\n",
      "Enter your guess (between 1 and 100):18\n",
      "Your guess is too high!\n",
      "\n",
      "Enter your guess (between 1 and 100):11\n",
      "Your guess is too high!\n",
      "\n",
      "Enter your guess (between 1 and 100):7\n",
      "\n",
      "Bingo!\n"
     ]
    }
   ],
   "source": [
    "# Put your code below\n",
    "import random\n",
    "number= random.randint(1,100)\n",
    "guess= int(input('Enter your guess (between 1 and 100):'))\n",
    "\n",
    "while guess!= number:\n",
    "    if guess>number:\n",
    "        print('Your guess is too high!')\n",
    "    elif guess<number:\n",
    "        print('Your guess is too low!')\n",
    "    guess= int(input('\\nEnter your guess (between 1 and 100):'))\n",
    "\n",
    "print('\\nBingo!')"
   ]
  },
  {
   "cell_type": "markdown",
   "metadata": {
    "collapsed": true
   },
   "source": [
    "### Q4: [ &bigstar;&bigstar; ] Shopping Cart\n",
    "\n",
    "#### Part I\n",
    "\n",
    "Write a program that prompts the user for the items in his/her shopping cart. The program keeps prompting the user until there's no more item in the shopping cart. The program displays the total price of all the items in the shopping cart.\n",
    "\n",
    "A sample run of the code can be found below:\n",
    "\n",
    "```\n",
    "    Do you have any item left in your shopping cart? Please enter Y or N :Y\n",
    "    Please enter the name of the item : bread\n",
    "    Please enter the price of the item : $2.2\n",
    "    Please enter the quantity of the item : 2\n",
    "    \n",
    "    Do you have any item left in your shopping cart? Please enter Y or N :Y\n",
    "    Please enter the name of the item : apples\n",
    "    Please enter the price of the item : $0.5\n",
    "    Please enter the quantity of the item : 6\n",
    "    \n",
    "    Do you have any item left in your shopping cart? Please enter Y or N :Y\n",
    "    Please enter the name of the item : milk\n",
    "    Please enter the price of the item : $5.3\n",
    "    Please enter the quantity of the item : 1\n",
    "    \n",
    "    Do you have any item left in your shopping cart? Please enter Y or N :N\n",
    "    \n",
    "    Total price: $12.7\n",
    "```"
   ]
  },
  {
   "cell_type": "code",
   "execution_count": 1,
   "metadata": {},
   "outputs": [
    {
     "name": "stdout",
     "output_type": "stream",
     "text": [
      "Do you have any item left in your shopping cart? Please enter Y or N :Y\n",
      "Please enter the name of the item : bread\n",
      "Please enter the price of the item : $2.2\n",
      "Please enter the quantity of the item : 2\n",
      "\n",
      "Do you have any item left in your shopping cart? Please enter Y or N :Y\n",
      "Please enter the name of the item : apples\n",
      "Please enter the price of the item : $0.5\n",
      "Please enter the quantity of the item : 6\n",
      "\n",
      "Do you have any item left in your shopping cart? Please enter Y or N :Y\n",
      "Please enter the name of the item : milk\n",
      "Please enter the price of the item : $5.3\n",
      "Please enter the quantity of the item : 1\n",
      "\n",
      "Do you have any item left in your shopping cart? Please enter Y or N :N\n",
      "\n",
      "Total price: $12.7\n"
     ]
    }
   ],
   "source": [
    "# Put your code below\n",
    "got_items= input('Do you have any item left in your shopping cart? Please enter Y or N :')\n",
    "total_price=0\n",
    "while got_items=='Y':\n",
    "    item_name= input('Please enter the name of the item : ')\n",
    "    item_price= float(input('Please enter the price of the item : $'))\n",
    "    item_qty= int(input('Please enter the quantity of the item : '))\n",
    "    total_price+=item_price*item_qty\n",
    "    \n",
    "    got_items= input('\\nDo you have any item left in your shopping cart? Please enter Y or N :')\n",
    "\n",
    "print(f'\\nTotal price: ${total_price}')  "
   ]
  },
  {
   "cell_type": "markdown",
   "metadata": {},
   "source": [
    "#### Part II\n",
    "\n",
    "Now modify your code such that in the end the program prints out not only the total price but also all the items in the shopping cart.\n",
    "\n",
    "A sample run of the program can be found below:\n",
    "\n",
    "```\n",
    "    Do you have any item left in your shopping cart? Please enter Y or N: Y\n",
    "    Please enter the name of the item: bread\n",
    "    Please enter the price of the item: $2.2\n",
    "    Please enter the quantity of the item: 2\n",
    "    \n",
    "    Do you have any item left in your shopping cart? Please enter Y or N: Y\n",
    "    Please enter the name of the item: apples\n",
    "    Please enter the price of the item: $0.5\n",
    "    Please enter the quantity of the item: 6\n",
    "    \n",
    "    Do you have any item left in your shopping cart? Please enter Y or N: Y\n",
    "    Please enter the name of the item: milk\n",
    "    Please enter the price of the item: $5.3\n",
    "    Please enter the quantity of the item: 1\n",
    "    \n",
    "    Do you have any item left in your shopping cart? Please enter Y or N: N\n",
    "\n",
    "    You've entered the following items:\n",
    "        bread   $2.2\t2\n",
    "        apples  $0.5\t6\n",
    "        milk    $5.3\t1\n",
    "\n",
    "    Total price: $12.7\n",
    "```"
   ]
  },
  {
   "cell_type": "code",
   "execution_count": 4,
   "metadata": {},
   "outputs": [
    {
     "name": "stdout",
     "output_type": "stream",
     "text": [
      "Do you have any item left in your shopping cart? Please enter Y or N :Y\n",
      "Please enter the name of the item : bread\n",
      "Please enter the price of the item : $2.2\n",
      "Please enter the quantity of the item : 2\n",
      "\n",
      "Do you have any item left in your shopping cart? Please enter Y or N :Y\n",
      "Please enter the name of the item : apples\n",
      "Please enter the price of the item : $0.5\n",
      "Please enter the quantity of the item : 6\n",
      "\n",
      "Do you have any item left in your shopping cart? Please enter Y or N :Y\n",
      "Please enter the name of the item : milk\n",
      "Please enter the price of the item : $5.3\n",
      "Please enter the quantity of the item : 1\n",
      "\n",
      "Do you have any item left in your shopping cart? Please enter Y or N :N\n",
      "You've entered the following items:\n",
      "\tbread\t$2.2\t2\n",
      "\tapples\t$0.5\t6\n",
      "\tmilk\t$5.3\t1\n",
      "\n",
      "Total price: $12.7\n"
     ]
    }
   ],
   "source": [
    "# Put your code below\n",
    "\n",
    "got_items= input('Do you have any item left in your shopping cart? Please enter Y or N :')\n",
    "total_price=0\n",
    "item_list=[]\n",
    "while got_items=='Y':\n",
    "    item_name= input('Please enter the name of the item : ')\n",
    "    item_price= float(input('Please enter the price of the item : $'))\n",
    "    item_qty= int(input('Please enter the quantity of the item : '))\n",
    "    item_list.append((item_name, item_price, item_qty))\n",
    "    total_price+=item_price*item_qty\n",
    "    \n",
    "    got_items= input('\\nDo you have any item left in your shopping cart? Please enter Y or N :')\n",
    "\n",
    "print('You\\'ve entered the following items:')\n",
    "for item in item_list:\n",
    "    item_name, item_price, item_qty= item\n",
    "    print(f'\\t{item_name}\\t${item_price}\\t{item_qty}')\n",
    "    \n",
    "print(f'\\nTotal price: ${total_price}')\n"
   ]
  },
  {
   "cell_type": "markdown",
   "metadata": {},
   "source": [
    "### Q5: [ &bigstar;&bigstar; ] Two Strings\n",
    "\n",
    "Prompt the user for two strings. Keep prompting the user until the following conditions are satisfied:\n",
    "\n",
    "1. Neither string contains a space.\n",
    "2. The second string is longer than the first string.\n",
    "3. Every character in the first string can be found in the second string.\n",
    "\n",
    "A sample run of the program can be found below:\n",
    "\n",
    "```\n",
    "Enter the first string: SMU SIS\n",
    "Enter the second string: SMUSIS\n",
    "Conditions not satisfied!\n",
    "\n",
    "Enter the first string: SMUSIS\n",
    "Enter the second string: SMUSIS\n",
    "Conditions not satisfied!\n",
    "\n",
    "Enter the first string: SMUSIS\n",
    "Enter the second string: SMUSMUSMU\n",
    "Conditions not satisfied!\n",
    "\n",
    "Enter the first string: SMUSIS\n",
    "Enter the second string: SMUSISS\n",
    "\n",
    "Bingo!\n",
    "```"
   ]
  },
  {
   "cell_type": "code",
   "execution_count": 2,
   "metadata": {},
   "outputs": [
    {
     "name": "stdout",
     "output_type": "stream",
     "text": [
      "Enter the first string: SMU SIS\n",
      "Enter the second string: SMUSIS\n",
      "Conditions not satisfied!\n",
      "\n",
      "Enter the first string: SMUSIS\n",
      "Enter the second string: SMUSIS\n",
      "Conditions not satisfied!\n",
      "\n",
      "Enter the first string: SMUSIS\n",
      "Enter the second string: SMUSMUSMU\n",
      "Conditions not satisfied!\n",
      "\n",
      "Enter the first string: SMUSIS\n",
      "Enter the second string: SMUSISS\n",
      "\n",
      "Bingo!\n"
     ]
    }
   ],
   "source": [
    "# Put your code below\n",
    "string1= input('Enter the first string: ')\n",
    "string2= input('Enter the second string: ')\n",
    "\n",
    "condition1= (' ' not in string1) or (' ' not in string2)\n",
    "condition2= len(string2)> len(string1)\n",
    "\n",
    "def condition3(string1,string2):\n",
    "    for ch in string1:\n",
    "        if ch not in string2:\n",
    "            return False\n",
    "    return True\n",
    "\n",
    "while condition1==False or condition2==False or condition3(string1,string2)==False:\n",
    "    print('Conditions not satisfied!')\n",
    "    print()\n",
    "    string1= input('Enter the first string: ')\n",
    "    string2= input('Enter the second string: ')\n",
    "    condition1= (' ' not in string1) or (' ' not in string2)\n",
    "    condition2= len(string2)> len(string1)\n",
    "    \n",
    "print('\\nBingo!')"
   ]
  },
  {
   "cell_type": "markdown",
   "metadata": {},
   "source": [
    "### Q6: [ &bigstar;&bigstar;&bigstar; ] Multiplication Table\n",
    "\n",
    "Write a program that helps the user to practice multiplication table. The program keeps asking whether the user wants to continue practicing until the user decides to quite. If the user wants to continue, the program randomly picks two numbers between 1 and 9 (both inclusive) and asks the user for his/her answer. If the answer is wrong, the program keeps prompting until the answer is correct.\n",
    "\n",
    "A sample run of the program can be found below:\n",
    "\n",
    "```\n",
    "    Do you want to practice multiplication table? Please enter Y or N: Y\n",
    "    \n",
    "    What's the result of 4 times 9? 27\n",
    "    Wrong answer! Please try again: 36\n",
    "    You are right!\n",
    "\n",
    "    Do you want to continue your practice? Please enter Y or N: Y\n",
    "    \n",
    "    What's the result of 4 times 2? 10\n",
    "    Wrong answer! Please try again: 9\n",
    "    Wrong answer! Please try again: 8\n",
    "    You are right!\n",
    "\n",
    "    Do you want to continue your practice? Please enter Y or N: Y\n",
    "    \n",
    "    What's the result of 3 times 4? 12\n",
    "    You are right!\n",
    "\n",
    "    Do you want to continue your practice? Please enter Y or N: N\n",
    "\n",
    "    Good-bye!\n",
    "```"
   ]
  },
  {
   "cell_type": "code",
   "execution_count": 8,
   "metadata": {},
   "outputs": [
    {
     "name": "stdout",
     "output_type": "stream",
     "text": [
      "Do you want to practice multiplication table? Please enter Y or N: Y\n",
      "\n",
      "What's the result of 5 times 4? 21\n",
      "Wrong answer! Please try again: 20\n",
      "You are right!\n",
      "\n",
      "Do you want to continue your practice? Please enter Y or N: Y\n",
      "\n",
      "What's the result of 7 times 6? 42\n",
      "You are right!\n",
      "\n",
      "Do you want to continue your practice? Please enter Y or N: Y\n",
      "\n",
      "What's the result of 6 times 8? 32\n",
      "Wrong answer! Please try again: 31\n",
      "Wrong answer! Please try again: 48\n",
      "You are right!\n",
      "\n",
      "Do you want to continue your practice? Please enter Y or N: N\n",
      "\n",
      "Good-bye!\n"
     ]
    }
   ],
   "source": [
    "# Put your code below\n",
    "import random\n",
    "practice= input('Do you want to practice multiplication table? Please enter Y or N: ')\n",
    "\n",
    "while practice=='Y':\n",
    "    num1= random.randint(1,9)\n",
    "    num2= random.randint(1,9)\n",
    "    correct_ans= num1*num2\n",
    "    ans= int(input(f'\\nWhat\\'s the result of {num1} times {num2}? ' ))\n",
    "    while ans!= correct_ans:\n",
    "        ans= int(input('Wrong answer! Please try again: '))\n",
    "    print('You are right!')\n",
    "    practice= input('\\nDo you want to continue your practice? Please enter Y or N: ')\n",
    "print('\\nGood-bye!')"
   ]
  },
  {
   "cell_type": "markdown",
   "metadata": {},
   "source": [
    "### Q7: [ &bigstar;&bigstar;&bigstar; ] Line-up\n",
    "\n",
    "A group of students need to line up for the procession of an event. We only have the information about every pair of students who are next to each other. We use a list of tuples to represent this line-up information: Each element of the list is a tuple that contains the name of a student (call him/her A) and the name of the student behind A. \n",
    "\n",
    "For example, ```(\"Alice\", \"Bob\")``` means Bob is behind Alice. The list ```[(\"Alice\", \"Bob\"), (\"Bob\", \"Chris\")]``` means Bob is behind Alice and Chris behind Bob. \n",
    "\n",
    "For the student who's at the very end of the line-up, we use an empty string to indicate that there's nobody behind this student. E.g., ```(\"Darren\", \"\")``` means there's nobody behind Darren, i.e., Darren is at the end of the line-up.\n",
    "\n",
    "Given a list of tuples that contains the line-up information of every pair of students who are next to each other, implement a function that returns the students in a list based on their order in the line-up.\n",
    "\n",
    "__Example 1:__ ```get_lineup([(\"Chris\", \"Darren\"), (\"Alice\", \"Bob\"), (\"Darren\", \"\"), (\"Bob\", \"Chris\")])``` should return ```[\"Alice\", \"Bob\", \"Chris\", \"Darren\"]```.\n",
    "\n",
    "\n",
    "__Example 2:__\n",
    "\n",
    "Given the following code,\n",
    "\n",
    "```\n",
    "info = [(\"Mary\", \"Jason\"), (\"John\", \"Alan\"), (\"Jason\", \"George\"), (\"Alan\", \"Christie\"), (\"Christie\", \"Mary\"), (\"George\", \"\")]\n",
    "print(get_lineup(info))\n",
    "```\n",
    "\n",
    "we should see the following output:\n",
    "\n",
    "```\n",
    "['John', 'Alan', 'Christie', 'Mary', 'Jason', 'George']\n",
    "```\n",
    "\n",
    "\n",
    "__Note:__ If the list passed to the function is empty, the function returns an empty list."
   ]
  },
  {
   "cell_type": "code",
   "execution_count": 4,
   "metadata": {},
   "outputs": [],
   "source": [
    "# Put your code below\n",
    "def get_lineup(info_list):\n",
    "    queue_info=[]\n",
    "    #identify the last person\n",
    "    for tup in info_list:\n",
    "        front, back= tup\n",
    "        if back=='':\n",
    "            queue_info.append(front) #george\n",
    "    \n",
    "    #add in the front person, based on the back person\n",
    "    i=0\n",
    "    while i<len(info_list):\n",
    "        front= info_list[i][0]\n",
    "        back= info_list[i][1]\n",
    "        \n",
    "        if back==queue_info[len(queue_info)-1]:\n",
    "            queue_info.append(front)\n",
    "            i=0 \n",
    "        else:\n",
    "            i+=1\n",
    "    return queue_info[::-1]"
   ]
  },
  {
   "cell_type": "code",
   "execution_count": 5,
   "metadata": {},
   "outputs": [
    {
     "data": {
      "text/plain": [
       "['Alice', 'Bob', 'Chris', 'Darren']"
      ]
     },
     "execution_count": 5,
     "metadata": {},
     "output_type": "execute_result"
    }
   ],
   "source": [
    "# Test Case 1\n",
    "get_lineup([(\"Chris\", \"Darren\"), (\"Alice\", \"Bob\"), (\"Darren\", \"\"), (\"Bob\", \"Chris\")]) "
   ]
  },
  {
   "cell_type": "code",
   "execution_count": 6,
   "metadata": {},
   "outputs": [
    {
     "name": "stdout",
     "output_type": "stream",
     "text": [
      "['John', 'Alan', 'Christie', 'Mary', 'Jason', 'George']\n"
     ]
    }
   ],
   "source": [
    "# Test Case 2\n",
    "info = [(\"Mary\", \"Jason\"), (\"John\", \"Alan\"), (\"Jason\", \"George\"), (\"Alan\", \"Christie\"), (\"Christie\", \"Mary\"), (\"George\", \"\")]\n",
    "print(get_lineup(info))"
   ]
  }
 ],
 "metadata": {
  "kernelspec": {
   "display_name": "Python 3 (ipykernel)",
   "language": "python",
   "name": "python3"
  },
  "language_info": {
   "codemirror_mode": {
    "name": "ipython",
    "version": 3
   },
   "file_extension": ".py",
   "mimetype": "text/x-python",
   "name": "python",
   "nbconvert_exporter": "python",
   "pygments_lexer": "ipython3",
   "version": "3.9.12"
  }
 },
 "nbformat": 4,
 "nbformat_minor": 2
}
