{
 "cells": [
  {
   "cell_type": "markdown",
   "metadata": {},
   "source": [
    "<table class=\"table table-bordered\">\n",
    "    <tr>\n",
    "        <th style=\"text-align:center; width:35%\"><img src='https://drive.google.com/uc?export=view&id=1zIB3Nw_z8N2SJSSdd2yWQIsDS0MGPYKm' style=\"width: 300px; height: 90px; \"></th>\n",
    "        <th style=\"text-align:center;\"><h3>IS111 - Lab 6</h3><h3>while-Loops</h3></th>\n",
    "    </tr>\n",
    "</table>"
   ]
  },
  {
   "cell_type": "markdown",
   "metadata": {},
   "source": [
    "### Q1: [ &bigstar; ] Gender\n",
    "\n",
    "Prompt the user for his/her gender. The user has to enter one of the following options: 'M' or 'F'. The program keeps prompting the user until the user enters a valid option.\n",
    "\n",
    "A sample run of the code can be found below:\n",
    "\n",
    "    What's your gender? Please enter M or F :T\n",
    "    Wrong input!\n",
    "    \n",
    "    What's your gender? Please enter M or F :f\n",
    "    Wrong input!\n",
    "    \n",
    "    What's your gender? Please enter M or F :F\n",
    "    \n",
    "    Thanks! Your gender is female."
   ]
  },
  {
   "cell_type": "code",
   "execution_count": null,
   "metadata": {},
   "outputs": [],
   "source": [
    "# Put your code below\n",
    "\n",
    "gender = input(\"What's your gender? Please enter M or F :\")\n",
    "\n",
    "correct_gender = (gender == \"F\") or (gender == \"M\")\n",
    "\n",
    "while not correct_gender:\n",
    "    print(\"Wrong input!\")\n",
    "    gender = input(\"What's your gender? Please enter M or F :\")\n",
    "print(\"Thanks! Your gender is \" + str(gender))\n"
   ]
  },
  {
   "cell_type": "markdown",
   "metadata": {},
   "source": [
    "### Q2: [ &bigstar; ] Two Numbers\n",
    "\n",
    "Write a program that prompts the user for two numbers. The program keeps prompting the user until  __both numbers are positive__ and __the sum of the two numbers is strictly smaller than 100__.\n",
    "\n",
    "A sample run of the program can be found below:\n",
    "\n",
    "```\n",
    "Enter the first number: 90.5\n",
    "Enter the second number: 0\n",
    "Conditions not satisfied!\n",
    "\n",
    "Enter the first number: 90.5\n",
    "Enter the second number: 10.5\n",
    "Conditions not satisfied!\n",
    "\n",
    "Enter the first number: -5\n",
    "Enter the second number: 50\n",
    "Conditions not satisfied!\n",
    "\n",
    "Enter the first number: 5.5\n",
    "Enter the second number: 6.5\n",
    "\n",
    "Thanks!\n",
    "```"
   ]
  },
  {
   "cell_type": "code",
   "execution_count": 1,
   "metadata": {},
   "outputs": [
    {
     "name": "stdout",
     "output_type": "stream",
     "text": [
      "Enter the first number: 2\n",
      "Enter the second number: 4\n",
      "Thanks!\n"
     ]
    }
   ],
   "source": [
    "# Put your code below\n",
    "\n",
    "first=float(input(\"Enter the first number: \"))\n",
    "second=float(input(\"Enter the second number: \"))\n",
    "\n",
    "sum_num = (first + second) < 100\n",
    "positive = (first >= 0) and (second >= 0)\n",
    "\n",
    "while not(sum_num == True and positive == True):\n",
    "    print(\"Conditions not satisfied!\")\n",
    "    first=float(input(\"Enter the first number: \"))\n",
    "    second=float(input(\"Enter the second number: \"))\n",
    "print(\"Thanks!\")\n",
    "    \n",
    "  "
   ]
  },
  {
   "cell_type": "markdown",
   "metadata": {},
   "source": [
    "### Q3: [ &bigstar;&bigstar; ] Number Guessing Game\n",
    "\n",
    "Write a piece of code that does the following:\n",
    "\n",
    "- The program first generates a random number between 1 and 100 (both inclusive). \n",
    "  <br />You can use the `randrange()` or `randint()` function from the `random` module to generate the number.\n",
    "- The program then keeps prompting the user to guess the random number generated until the user's guess is correct. When the guess is wrong, the program gives a hint about whether the guess is too low or too high.\n",
    "\n",
    "A sample run of the program can be found below. Note that in this sample run 95 is the random number generated in the beginning.\n",
    "\n",
    "    Enter your guess (between 1 and 100) :34\n",
    "    Your guess is too low!\n",
    "    \n",
    "    Enter your guess (between 1 and 100) :58\n",
    "    Your guess is too low!\n",
    "    \n",
    "    Enter your guess (between 1 and 100) :73\n",
    "    Your guess is too low!\n",
    "    \n",
    "    Enter your guess (between 1 and 100) :86\n",
    "    Your guess is too low!\n",
    "    \n",
    "    Enter your guess (between 1 and 100) :99\n",
    "    Your guess is too high!\n",
    "    \n",
    "    Enter your guess (between 1 and 100) :90\n",
    "    Your guess is too low!\n",
    "    \n",
    "    Enter your guess (between 1 and 100) :95\n",
    "    \n",
    "    Bingo!\n",
    "\n",
    "Another sample run is below. This time 47 is the random number generated in the beginning.\n",
    "\n",
    "    Enter your guess (between 1 and 100):50\n",
    "    Your guess is too high!\n",
    "    \n",
    "    Enter your guess (between 1 and 100):25\n",
    "    Your guess is too low!\n",
    "    \n",
    "    Enter your guess (between 1 and 100):37\n",
    "    Your guess is too low!\n",
    "    \n",
    "    Enter your guess (between 1 and 100):43\n",
    "    Your guess is too low!\n",
    "    \n",
    "    Enter your guess (between 1 and 100):47\n",
    "    \n",
    "    Bingo!\n",
    "    \n",
    "__Note:__ You cannot reproduce the same output as shown above because your program will likely generate a different random number."
   ]
  },
  {
   "cell_type": "code",
   "execution_count": null,
   "metadata": {},
   "outputs": [],
   "source": [
    "# Put your code below\n",
    "\n",
    "import random\n",
    "\n",
    "random.seed(6)\n",
    "\n",
    "number_generated=random.randint(1,101)\n",
    "\n",
    "print(number_generated)\n",
    "guess=input(\"Enter your guess (between 1 and 100): \")\n",
    "\n",
    "while int(guess) != number_generated:\n",
    "    if int(guess) > number_generated:\n",
    "        print(\"Your guess is too high!\\n\")\n",
    "        guess=input(\"Enter your guess (between 1 and 100): \")\n",
    "    elif int(guess) < number_generated:\n",
    "        print(\"Your guess is too low\\n\")\n",
    "        guess=input(\"Enter your guess (between 1 and 100): \")\n",
    "print(\"\\nBingo!\")\n"
   ]
  },
  {
   "cell_type": "markdown",
   "metadata": {
    "collapsed": true
   },
   "source": [
    "### Q4: [ &bigstar;&bigstar; ] Shopping Cart\n",
    "\n",
    "#### Part I\n",
    "\n",
    "Write a program that prompts the user for the items in his/her shopping cart. The program keeps prompting the user until there's no more item in the shopping cart. The program displays the total price of all the items in the shopping cart.\n",
    "\n",
    "A sample run of the code can be found below:\n",
    "\n",
    "```\n",
    "    Do you have any item left in your shopping cart? Please enter Y or N :Y\n",
    "    Please enter the name of the item : bread\n",
    "    Please enter the price of the item : $2.2\n",
    "    Please enter the quantity of the item : 2\n",
    "    \n",
    "    Do you have any item left in your shopping cart? Please enter Y or N :Y\n",
    "    Please enter the name of the item : apples\n",
    "    Please enter the price of the item : $0.5\n",
    "    Please enter the quantity of the item : 6\n",
    "    \n",
    "    Do you have any item left in your shopping cart? Please enter Y or N :Y\n",
    "    Please enter the name of the item : milk\n",
    "    Please enter the price of the item : $5.3\n",
    "    Please enter the quantity of the item : 1\n",
    "    \n",
    "    Do you have any item left in your shopping cart? Please enter Y or N :N\n",
    "    \n",
    "    Total price: $12.7\n",
    "```"
   ]
  },
  {
   "cell_type": "code",
   "execution_count": 1,
   "metadata": {},
   "outputs": [
    {
     "name": "stdout",
     "output_type": "stream",
     "text": [
      "Do you have any item left in your shopping cart? Please enter Y or N\n",
      " :Y\n",
      "Please enter the name of the items : apple\n",
      "Please enter the price of the item : 4\n",
      "Please enter the quantity of the item : 5\n",
      "Do you have any item left in your shopping cart? Please enter Y or N\n",
      " :Y\n",
      "Please enter the name of the items : 4\n",
      "Please enter the price of the item : 3\n",
      "Please enter the quantity of the item : 3\n",
      "Do you have any item left in your shopping cart? Please enter Y or N\n",
      " :N\n",
      "Total price: $29.0\n"
     ]
    }
   ],
   "source": [
    "# Put your code below\n",
    "\n",
    "cart=input(\"Do you have any item left in your shopping cart? Please enter Y or N\\n :\")\n",
    "\n",
    "total = 0\n",
    "\n",
    "while cart == \"Y\":\n",
    "    name=input(\"Please enter the name of the items : \")\n",
    "    price=float(input(\"Please enter the price of the item : \"))\n",
    "    quantity=int(input(\"Please enter the quantity of the item : \"))\n",
    "    cost = price*quantity\n",
    "    total = total + cost\n",
    "    cart=input(\"Do you have any item left in your shopping cart? Please enter Y or N\\n :\")\n",
    "print(\"Total price: $\" + str(total))\n",
    "    \n"
   ]
  },
  {
   "cell_type": "markdown",
   "metadata": {},
   "source": [
    "#### Part II\n",
    "\n",
    "Now modify your code such that in the end the program prints out not only the total price but also all the items in the shopping cart.\n",
    "\n",
    "A sample run of the program can be found below:\n",
    "\n",
    "```\n",
    "    Do you have any item left in your shopping cart? Please enter Y or N: Y\n",
    "    Please enter the name of the item: bread\n",
    "    Please enter the price of the item: $2.2\n",
    "    Please enter the quantity of the item: 2\n",
    "    \n",
    "    Do you have any item left in your shopping cart? Please enter Y or N: Y\n",
    "    Please enter the name of the item: apples\n",
    "    Please enter the price of the item: $0.5\n",
    "    Please enter the quantity of the item: 6\n",
    "    \n",
    "    Do you have any item left in your shopping cart? Please enter Y or N: Y\n",
    "    Please enter the name of the item: milk\n",
    "    Please enter the price of the item: $5.3\n",
    "    Please enter the quantity of the item: 1\n",
    "    \n",
    "    Do you have any item left in your shopping cart? Please enter Y or N: N\n",
    "\n",
    "    You've entered the following items:\n",
    "        bread   $2.2\t2\n",
    "        apples  $0.5\t6\n",
    "        milk    $5.3\t1\n",
    "\n",
    "    Total price: $12.7\n",
    "```"
   ]
  },
  {
   "cell_type": "code",
   "execution_count": 5,
   "metadata": {},
   "outputs": [
    {
     "name": "stdout",
     "output_type": "stream",
     "text": [
      "Do you have any item left in your shopping cart? Please enter Y or N :Y\n",
      "Please enter the name of the items : 1\n",
      "Please enter the price of the item : 1\n",
      "Please enter the quantity of the item : 1\n",
      "Do you have any item left in your shopping cart? Please enter Y or N :Y\n",
      "Please enter the name of the items : 2\n",
      "Please enter the price of the item : 2\n",
      "Please enter the quantity of the item : 2\n",
      "Do you have any item left in your shopping cart? Please enter Y or N :Y\n",
      "Please enter the name of the items : 3\n",
      "Please enter the price of the item : 3\n",
      "Please enter the quantity of the item : 3\n",
      "Do you have any item left in your shopping cart? Please enter Y or N :N\n",
      "You've entered the following items:\n",
      "\n",
      "1 $1.0 1\n",
      "2 $2.0 2\n",
      "3 $3.0 3\n",
      "\n",
      "Total price: $14.0\n"
     ]
    }
   ],
   "source": [
    "## Put your code below\n",
    "\n",
    "cart=input(\"Do you have any item left in your shopping cart? Please enter Y or N :\")\n",
    "\n",
    "total = 0\n",
    "\n",
    "name_list=[]\n",
    "price_list=[]\n",
    "quantity_list=[]\n",
    "while cart == \"Y\":\n",
    "\n",
    "    name=input(\"Please enter the name of the items : \")\n",
    "    price=float(input(\"Please enter the price of the item : \"))\n",
    "    quantity=int(input(\"Please enter the quantity of the item : \"))\n",
    "    name_list.append(name)\n",
    "    price_list.append(price)\n",
    "    quantity_list.append(quantity)\n",
    "    cost = price*quantity\n",
    "    total = total + cost\n",
    "    cart=input(\"Do you have any item left in your shopping cart? Please enter Y or N :\")\n",
    "\n",
    "    \n",
    "print(\"You've entered the following items:\\n\")\n",
    "\n",
    "for i in range(len(name_list)):\n",
    "    print(name_list[i], str(\"$\") + str(price_list[i]), quantity_list[i])\n",
    "\n",
    "    \n",
    "    \n",
    "print(\"\\nTotal price: $\" + str(total))\n",
    "    "
   ]
  },
  {
   "cell_type": "markdown",
   "metadata": {},
   "source": [
    "### Q5: [ &bigstar;&bigstar; ] Two Strings\n",
    "\n",
    "Prompt the user for two strings. Keep prompting the user until the following conditions are satisfied:\n",
    "\n",
    "1. Neither string contains a space.\n",
    "2. The second string is longer than the first string.\n",
    "3. Every character in the first string can be found in the second string.\n",
    "\n",
    "A sample run of the program can be found below:\n",
    "\n",
    "```\n",
    "Enter the first string: SMU SIS\n",
    "Enter the second string: SMUSIS\n",
    "Conditions not satisfied!\n",
    "\n",
    "Enter the first string: SMUSIS\n",
    "Enter the second string: SMUSIS\n",
    "Conditions not satisfied!\n",
    "\n",
    "Enter the first string: SMUSIS\n",
    "Enter the second string: SMUSMUSMU\n",
    "Conditions not satisfied!\n",
    "\n",
    "Enter the first string: SMUSIS\n",
    "Enter the second string: SMUSISS\n",
    "\n",
    "Bingo!\n",
    "```"
   ]
  },
  {
   "cell_type": "code",
   "execution_count": 1,
   "metadata": {},
   "outputs": [
    {
     "name": "stdout",
     "output_type": "stream",
     "text": [
      "Enter the first string: yes\n",
      "Enter the second string: nooo\n"
     ]
    }
   ],
   "source": [
    "# Put your code below\n",
    "\n",
    "# Prompt the user for two strings. Keep prompting the user until the following conditions are satisfied:\n",
    "\n",
    "#     Neither string contains a space.\n",
    "#     The second string is longer than the first string.\n",
    "#     Every character in the first string can be found in the second string.\n",
    "\n",
    "while True:\n",
    "    first_string = input(\"Enter the first string: \")\n",
    "    second_string = input(\"Enter the second string: \")\n",
    "\n",
    "    if ' ' in first_string or ' ' in second_string:\n",
    "        print(\"Neither string can contain a space!\")\n",
    "    elif len(second_string) <= len(first_string):\n",
    "        print(\"The second string must be longer than the first string!\")\n",
    "    elif not set(first_string).issubset(set(second_string)):\n",
    "        print(\"Every character in the first string must be in the second string!\")\n",
    "    else:\n",
    "        print(\"Bingo!\")\n",
    "        break\n"
   ]
  },
  {
   "cell_type": "markdown",
   "metadata": {},
   "source": [
    "### Q6: [ &bigstar;&bigstar;&bigstar; ] Multiplication Table\n",
    "\n",
    "Write a program that helps the user to practice multiplication table. The program keeps asking whether the user wants to continue practicing until the user decides to quite. If the user wants to continue, the program randomly picks two numbers between 1 and 9 (both inclusive) and asks the user for his/her answer. If the answer is wrong, the program keeps prompting until the answer is correct.\n",
    "\n",
    "A sample run of the program can be found below:\n",
    "\n",
    "```\n",
    "    Do you want to practice multiplication table? Please enter Y or N: Y\n",
    "    \n",
    "    What's the result of 4 times 9? 27\n",
    "    Wrong answer! Please try again: 36\n",
    "    You are right!\n",
    "\n",
    "    Do you want to continue your practice? Please enter Y or N: Y\n",
    "    \n",
    "    What's the result of 4 times 2? 10\n",
    "    Wrong answer! Please try again: 9\n",
    "    Wrong answer! Please try again: 8\n",
    "    You are right!\n",
    "\n",
    "    Do you want to continue your practice? Please enter Y or N: Y\n",
    "    \n",
    "    What's the result of 3 times 4? 12\n",
    "    You are right!\n",
    "\n",
    "    Do you want to continue your practice? Please enter Y or N: N\n",
    "\n",
    "    Good-bye!\n",
    "```"
   ]
  },
  {
   "cell_type": "code",
   "execution_count": 8,
   "metadata": {},
   "outputs": [
    {
     "name": "stdout",
     "output_type": "stream",
     "text": [
      "Do you want to practice multiplication table? Please enter Y or N: Y\n",
      "What's the result of 4 times 1? 6\n",
      "Wrong answer! Please try again: 8\n",
      "Wrong answer! Please try again: 9\n",
      "Wrong answer! Please try again: 6\n",
      "Wrong answer! Please try again: 6\n",
      "Wrong answer! Please try again: 4\n",
      "You are right!\n",
      "Do you want to continue your practice? Please enter Y or N: N\n",
      "Good-bye!\n"
     ]
    }
   ],
   "source": [
    "#### Put your code below\n",
    "\n",
    "import random\n",
    "\n",
    "practice = input(\"Do you want to practice multiplication table? Please enter Y or N: \")\n",
    "while practice == \"Y\":\n",
    "    num1 = random.randint(1, 9)\n",
    "    num2 = random.randint(1, 9)\n",
    "    answer = int(input(\"What's the result of \" + str(num1) + \" times \" + str(num2) + \"? \"))\n",
    "    while answer != num1 * num2:\n",
    "        answer = int(input(\"Wrong answer! Please try again: \"))\n",
    "    print(\"You are right!\")\n",
    "    practice = input(\"Do you want to continue your practice? Please enter Y or N: \")\n",
    "print(\"Good-bye!\")\n"
   ]
  },
  {
   "cell_type": "markdown",
   "metadata": {},
   "source": [
    "### Q7: [ &bigstar;&bigstar;&bigstar; ] Line-up\n",
    "\n",
    "A group of students need to line up for the procession of an event. We only have the information about every pair of students who are next to each other. We use a list of tuples to represent this line-up information: Each element of the list is a tuple that contains the name of a student (call him/her A) and the name of the student behind A. \n",
    "\n",
    "For example, ```(\"Alice\", \"Bob\")``` means Bob is behind Alice. The list ```[(\"Alice\", \"Bob\"), (\"Bob\", \"Chris\")]``` means Bob is behind Alice and Chris behind Bob. \n",
    "\n",
    "For the student who's at the very end of the line-up, we use an empty string to indicate that there's nobody behind this student. E.g., ```(\"Darren\", \"\")``` means there's nobody behind Darren, i.e., Darren is at the end of the line-up.\n",
    "\n",
    "Given a list of tuples that contains the line-up information of every pair of students who are next to each other, implement a function that returns the students in a list based on their order in the line-up.\n",
    "\n",
    "__Example 1:__ ```get_lineup([(\"Chris\", \"Darren\"), (\"Alice\", \"Bob\"), (\"Darren\", \"\"), (\"Bob\", \"Chris\")])``` should return ```[\"Alice\", \"Bob\", \"Chris\", \"Darren\"]```.\n",
    "\n",
    "\n",
    "__Example 2:__\n",
    "\n",
    "Given the following code,\n",
    "\n",
    "```\n",
    "info = [(\"Mary\", \"Jason\"), (\"John\", \"Alan\"), (\"Jason\", \"George\"), (\"Alan\", \"Christie\"), (\"Christie\", \"Mary\"), (\"George\", \"\")]\n",
    "print(get_lineup(info))\n",
    "```\n",
    "\n",
    "we should see the following output:\n",
    "\n",
    "```\n",
    "['John', 'Alan', 'Christie', 'Mary', 'Jason', 'George']\n",
    "```\n",
    "\n",
    "\n",
    "__Note:__ If the list passed to the function is empty, the function returns an empty list."
   ]
  },
  {
   "cell_type": "code",
   "execution_count": 9,
   "metadata": {},
   "outputs": [],
   "source": [
    "# Put your code below\n",
    "\n",
    "\n",
    "def get_lineup(info):\n",
    "    lineup = []\n",
    "    # Create a dictionary to store the pairs of students\n",
    "    pairs = {}\n",
    "    for pair in info:\n",
    "        pairs[pair[0]] = pair[1]\n",
    "    # Find the first student in the line-up\n",
    "    for student in pairs.keys():\n",
    "        if student not in pairs.values():\n",
    "            lineup.append(student)\n",
    "            break\n",
    "    # Find the rest of the students in the line-up\n",
    "    while lineup[-1] in pairs.keys():\n",
    "        lineup.append(pairs[lineup[-1]])\n",
    "    return lineup\n",
    "\n"
   ]
  },
  {
   "cell_type": "code",
   "execution_count": 10,
   "metadata": {},
   "outputs": [
    {
     "data": {
      "text/plain": [
       "['Alice', 'Bob', 'Chris', 'Darren', '']"
      ]
     },
     "execution_count": 10,
     "metadata": {},
     "output_type": "execute_result"
    }
   ],
   "source": [
    "# Test Case 1\n",
    "get_lineup([(\"Chris\", \"Darren\"), (\"Alice\", \"Bob\"), (\"Darren\", \"\"), (\"Bob\", \"Chris\")]) "
   ]
  },
  {
   "cell_type": "code",
   "execution_count": 11,
   "metadata": {},
   "outputs": [
    {
     "name": "stdout",
     "output_type": "stream",
     "text": [
      "['John', 'Alan', 'Christie', 'Mary', 'Jason', 'George', '']\n"
     ]
    }
   ],
   "source": [
    "# Test Case 2\n",
    "info = [(\"Mary\", \"Jason\"), (\"John\", \"Alan\"), (\"Jason\", \"George\"), (\"Alan\", \"Christie\"), (\"Christie\", \"Mary\"), (\"George\", \"\")]\n",
    "print(get_lineup(info))"
   ]
  },
  {
   "cell_type": "code",
   "execution_count": null,
   "metadata": {},
   "outputs": [],
   "source": []
  }
 ],
 "metadata": {
  "kernelspec": {
   "display_name": "Python 3 (ipykernel)",
   "language": "python",
   "name": "python3"
  },
  "language_info": {
   "codemirror_mode": {
    "name": "ipython",
    "version": 3
   },
   "file_extension": ".py",
   "mimetype": "text/x-python",
   "name": "python",
   "nbconvert_exporter": "python",
   "pygments_lexer": "ipython3",
   "version": "3.9.12"
  }
 },
 "nbformat": 4,
 "nbformat_minor": 2
}
