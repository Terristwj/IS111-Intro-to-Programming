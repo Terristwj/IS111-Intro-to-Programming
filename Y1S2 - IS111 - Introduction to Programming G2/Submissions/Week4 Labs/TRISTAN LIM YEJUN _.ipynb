{
 "cells": [
  {
   "cell_type": "markdown",
   "metadata": {},
   "source": [
    "<table class=\"table table-bordered\">\n",
    "    <tr>\n",
    "        <th style=\"text-align:center; width:35%\"><img src='https://drive.google.com/uc?export=view&id=1zIB3Nw_z8N2SJSSdd2yWQIsDS0MGPYKm' style=\"width: 300px; height: 90px; \"></th>\n",
    "        <th style=\"text-align:center;\"><h3>IS111 - Lab 4</h3><h3>More on Conditions, Strings and for-Loops</h3></th>\n",
    "    </tr>\n",
    "</table>"
   ]
  },
  {
   "cell_type": "markdown",
   "metadata": {},
   "source": [
    "### Q1: Number of Days in a Month [ \\* ]\n",
    "\n",
    "Write a piece of Python code that prompts the user for a month number (1 for January, 2 for February, etc.) The program then displays the number of days in that month. You can ignore leap years and assume that February always has 28 days.\n",
    "\n",
    "You can assume that the user is always going to enter an integer value. If the value is outside of the range between 1 and 12, you should display an error message.\n",
    "\n",
    "Two sample runs of the code look as follows:"
   ]
  },
  {
   "cell_type": "markdown",
   "metadata": {},
   "source": [
    "<img align=\"left\" src='https://drive.google.com/uc?export=view&id=0B3N0YMArBdSBbjdBZTI1SXJ5OVk' style=\"width: 350px\">"
   ]
  },
  {
   "cell_type": "markdown",
   "metadata": {},
   "source": [
    "<img align=\"left\" src='https://drive.google.com/uc?export=view&id=0B3N0YMArBdSBRURXWGNuejBrMHc' style=\"width: 250px\">"
   ]
  },
  {
   "cell_type": "code",
   "execution_count": 3,
   "metadata": {},
   "outputs": [
    {
     "name": "stdout",
     "output_type": "stream",
     "text": [
      "Enter month: 9\n",
      "The are 30 in this month\n"
     ]
    }
   ],
   "source": [
    "# Write your code below:\n",
    "\n",
    "month = int(input(\"Enter month: \"))\n",
    "\n",
    "day_dict = {\n",
    "    1: 31,\n",
    "    2: 28,\n",
    "    3: 31,\n",
    "    4: 30,\n",
    "    5: 31,\n",
    "    6: 30,\n",
    "    7: 31,\n",
    "    8: 31,\n",
    "    9: 30,\n",
    "    10: 31,\n",
    "    11: 30,\n",
    "    12: 31,\n",
    "}\n",
    "\n",
    "if month > 12:\n",
    "    print(\"Enter a number between 1 & 12 only\")\n",
    "else:\n",
    "    print(f\"The are days {day_dict[month]} in this month\")\n",
    "\n",
    "        \n",
    "\n"
   ]
  },
  {
   "cell_type": "markdown",
   "metadata": {},
   "source": [
    "### Q2: Jackpot [ \\* ]\n",
    "\n",
    "You are given a piece of code below that generates and displays three random numbers between 0 and 9 (both included). This is to simulate a Jackpot machine.\n",
    "\n",
    "Complete the program to display one of the following messages:\n",
    "\n",
    "<ul>\n",
    "<li><b>\"Try again!\"</b> if the three numbers are all different.</li>\n",
    "<li><b>\"Two of a kind!\"</b> if there are two numbers that are the same.</li>\n",
    "<li><b>\"Jackpot!\"</b> if all three numbers are the same.</li>\n",
    "</ul>\n",
    "\n",
    "Three sample runs of the code are shown below:"
   ]
  },
  {
   "cell_type": "markdown",
   "metadata": {},
   "source": [
    "<img align=\"left\" src='https://drive.google.com/uc?export=view&id=0B3N0YMArBdSBMnhZeV9zNF8xWjA' style=\"width: 160px\">"
   ]
  },
  {
   "cell_type": "markdown",
   "metadata": {},
   "source": [
    "<img align=\"left\" src='https://drive.google.com/uc?export=view&id=0B3N0YMArBdSBalAxaUVHWWw5cFE' style=\"width: 160px\">"
   ]
  },
  {
   "cell_type": "code",
   "execution_count": 7,
   "metadata": {},
   "outputs": [
    {
     "name": "stdout",
     "output_type": "stream",
     "text": [
      "*****************\n",
      "** 4 ** 1 ** 7 **\n",
      "*****************\n",
      "Try again!\n"
     ]
    }
   ],
   "source": [
    "# ################################################################################\n",
    "# The following code is provided to you.\n",
    "\n",
    "import random\n",
    "num1 = random.randrange(0, 10) \n",
    "num2 = random.randrange(0, 10)\n",
    "num3 = random.randrange(0, 10)\n",
    "\n",
    "print('*****************')\n",
    "print('**', num1, '**', num2, '**', num3,'**')\n",
    "print('*****************')\n",
    "\n",
    "# ################################################################################\n",
    "# Write your code here:\n",
    "num_set = {num1,num2,num3}\n",
    "\n",
    "if len(num_set) == 1:\n",
    "    print(\"Jackpot!\")\n",
    "elif len(num_set) == 2:\n",
    "    print(\"Two of a kind!\")\n",
    "else:\n",
    "    print(\"Try again!\")\n",
    "\n",
    "\n",
    "\n",
    "\n",
    "\n"
   ]
  },
  {
   "cell_type": "markdown",
   "metadata": {
    "collapsed": true
   },
   "source": [
    "### Q3: Mobile Plans [ \\*\\* ]\n",
    "\n",
    "A telco company offers the following postpaid mobile plans:\n",
    "\n",
    "| plan | monthly charge | outgoing calls (mins) | local SMS/MMS | local data |\n",
    "| --- | --- | --- | --- | --- |\n",
    "| Combo 1 | \\$25.50 | 80 | 300 | 100MB |\n",
    "| Combo 2 | \\$39.50 | 200 | 500 | 2GB |\n",
    "| Combo 3 | \\$59.50 | 300 | 1000 | 3GB |\n",
    "| Combo 4 | \\$79.50 | 400 | 1500 | 4GB |\n",
    "| Combo 5 | \\$109.50 | 800 | 2000 | 10GB |\n",
    "\n",
    "What's shown on each row is the montly charge of each plan and the maximum amount of usage covered by the plan.\n",
    "\n",
    "Prompt the user for his/her requirements and help him/her find the most cost-effective postpaid plan. The recommended plan should satisfy all his/her needs.\n",
    "\n",
    "Three sample runs of the program can be found below:"
   ]
  },
  {
   "cell_type": "markdown",
   "metadata": {},
   "source": [
    "<img align=\"left\" src='https://drive.google.com/uc?export=view&id=0B3N0YMArBdSBb0toZjltbGtBZkU' style=\"width: 500px\">"
   ]
  },
  {
   "cell_type": "markdown",
   "metadata": {},
   "source": [
    "<img align=\"left\" src='https://drive.google.com/uc?export=view&id=0B3N0YMArBdSBN1BBLU5ZUEZ2UUE' style=\"width: 500px\">"
   ]
  },
  {
   "cell_type": "markdown",
   "metadata": {},
   "source": [
    "<img align=\"left\" src='https://drive.google.com/uc?export=view&id=0B3N0YMArBdSBV0FEdUI5cjZ3eVk' style=\"width: 560px\">"
   ]
  },
  {
   "cell_type": "code",
   "execution_count": 13,
   "metadata": {},
   "outputs": [
    {
     "name": "stdout",
     "output_type": "stream",
     "text": [
      "What's the minimum outgoing calls (in mins) you need? 50\n",
      "What's the minimum number of SMS/MMS you need? 300\n",
      "What's the minimum amount of data you need? 0.5\n",
      "We recommend Combo 2\n"
     ]
    }
   ],
   "source": [
    "# Write your code below:\n",
    "\n",
    "mins = int(input(\"What's the minimum outgoing calls (in mins) you need? \"))\n",
    "sms = int(input(\"What's the minimum number of SMS/MMS you need? \"))\n",
    "data = float(input(\"What's the minimum amount of data you need? \"))\n",
    "\n",
    "\n",
    "return_list = [\n",
    "    [80, 3000, 0.1],\n",
    "    [200, 500, 2],\n",
    "    [300, 1000, 3],\n",
    "    [400, 1500, 4],\n",
    "    [109.5,800,2000, 10],\n",
    "]\n",
    "\n",
    "best_combo_index = None\n",
    "\n",
    "for index in range(len(return_list)):\n",
    "    if mins > return_list[index][0]:\n",
    "        continue\n",
    "    if sms > return_list[index][1]:\n",
    "        continue\n",
    "    if data > return_list[index][2]:\n",
    "        continue\n",
    "        \n",
    "    best_combo_index = index\n",
    "    \n",
    "    break\n",
    "else:\n",
    "    print(\"Sorry! We don't have any plan that satisfies your requirments.\")\n",
    "\n",
    "\n",
    "print(f\"We recommend Combo {best_combo_index + 1}\")\n",
    "    \n",
    "\n",
    "\n",
    "\n"
   ]
  },
  {
   "cell_type": "markdown",
   "metadata": {},
   "source": [
    "### Q4: Message Encryption\n",
    "\n",
    "#### Part I [ \\*\\* ]\n",
    "\n",
    "Write a program that encrypts a message as follows:\n",
    "\n",
    "- All the occurrences of letter 'a' in the message are replaced by 'e'\n",
    "- All the occurrences of letter 'e' in the message are replaced by 'i'\n",
    "- All the occurrences of letter 'i' in the message are replaced by 'o'\n",
    "- All the occurrences of letter 'o' in the messsge are replaced by 'u'\n",
    "- All the occurrences of letter 'u' in the messsge are replaced by 'a'\n",
    "\n",
    "For example, suppose the original message is\n",
    "\n",
    "    This is the original message used.\n",
    "\n",
    "Then the encrypted message becomes\n",
    "\n",
    "    Thos os thi urogonel missegi asid.\n",
    "\n",
    "A sample run of the program is shown below:"
   ]
  },
  {
   "cell_type": "markdown",
   "metadata": {},
   "source": [
    "<img align=\"left\" src='https://drive.google.com/uc?export=view&id=0B3N0YMArBdSBZ2doZ3Z4T3NGYzA' style=\"width: 500px\">"
   ]
  },
  {
   "cell_type": "code",
   "execution_count": 6,
   "metadata": {},
   "outputs": [
    {
     "name": "stdout",
     "output_type": "stream",
     "text": [
      "What's the orginal message? This is the orignal message used\n",
      "Thos os thi urognel missegi asid\n"
     ]
    }
   ],
   "source": [
    "# Write your code below:\n",
    "\n",
    "\n",
    "msg = input(\"What's the orginal message? \")\n",
    "vowels = ['a','e','i', 'o', 'u']\n",
    "new_msg = \"\"\n",
    "\n",
    "for char in msg:\n",
    "    input_str = char\n",
    "    \n",
    "    if char == 'a':\n",
    "        input_str = 'e'\n",
    "    elif char == 'e':\n",
    "        input_str = 'i'\n",
    "    elif char == 'i':\n",
    "        input_str = 'o'\n",
    "    elif char == 'o':\n",
    "        input_str = 'u'\n",
    "    elif char == 'u':\n",
    "        input_str = 'a'\n",
    "        \n",
    "    new_msg += input_str\n",
    "        \n",
    "    \n",
    "    \n",
    "print(new_msg)\n",
    "\n",
    "\n"
   ]
  },
  {
   "cell_type": "markdown",
   "metadata": {},
   "source": [
    "#### Part II [ \\*\\* ]\n",
    "\n",
    "Can you modify the program above such that the message is not only encrypted as described above but also reversed character by character?\n",
    "\n",
    "For example, suppose the original message is\n",
    "\n",
    "    This is the original message used.\n",
    "\n",
    "Then the final output is the following:\n",
    "\n",
    "    .disa igessim lenogoru iht so sohT\n",
    "    \n",
    "A sample run of the modified program is as follows:"
   ]
  },
  {
   "cell_type": "markdown",
   "metadata": {},
   "source": [
    "<img align=\"left\" src='https://drive.google.com/uc?export=view&id=0B3N0YMArBdSBclhuYzNfTWs1ZE0' style=\"width: 700px\">"
   ]
  },
  {
   "cell_type": "code",
   "execution_count": 7,
   "metadata": {},
   "outputs": [
    {
     "name": "stdout",
     "output_type": "stream",
     "text": [
      "What's the orginal message? This is the original message used.\n",
      ".disa igessim lenogoru iht so sohT\n"
     ]
    }
   ],
   "source": [
    "# Write your code below:\n",
    "\n",
    "msg = input(\"What's the orginal message? \")\n",
    "vowels = ['a','e','i', 'o', 'u']\n",
    "new_msg = \"\"\n",
    "\n",
    "for char in msg:\n",
    "    input_str = char\n",
    "    \n",
    "    if char == 'a':\n",
    "        input_str = 'e'\n",
    "    elif char == 'e':\n",
    "        input_str = 'i'\n",
    "    elif char == 'i':\n",
    "        input_str = 'o'\n",
    "    elif char == 'o':\n",
    "        input_str = 'u'\n",
    "    elif char == 'u':\n",
    "        input_str = 'a'\n",
    "        \n",
    "    new_msg += input_str\n",
    "        \n",
    "    \n",
    "    \n",
    "print(new_msg[::-1])\n",
    "\n",
    "\n",
    "\n"
   ]
  },
  {
   "cell_type": "markdown",
   "metadata": {},
   "source": [
    "### Q5: Message Padding [ \\*\\*\\* ]"
   ]
  },
  {
   "cell_type": "markdown",
   "metadata": {},
   "source": [
    "Define a function called `pad_message`.\n",
    "\n",
    "The function takes in two parameters:\n",
    "\n",
    "    msg (type: str): This is a string representing a message.\n",
    "    width (type: int): This is a number indicating the final length of the returned padded message.\n",
    "\n",
    "The function <b>returns</b> a new string whose length is `width`, the second parameter. If the original message is shorter than `width`, then spaces are padded to the left of the message . If the original message is longer than `width`, then the original message is truncated on the right hand side to fit into the specified `width`.\n",
    "\n",
    "For example, if the message is `\"IS111 Lab 5\"`, which contains 11 characters, and if the specified width is `20`, then this function returns `\"         IS111 Lab 5\"`.\n",
    "If the message is the same but the specified width is `8`, then this function returns `\"IS111 La\"`, which consists of the first 8 characters of the original message."
   ]
  },
  {
   "cell_type": "code",
   "execution_count": 20,
   "metadata": {},
   "outputs": [],
   "source": [
    "# Write your function definition below:\n",
    "def pad_message(msg, width):\n",
    "    new_msg = msg\n",
    "    msg_len = len(msg)\n",
    "    \n",
    "    if msg_len < width:\n",
    "        new_msg = (\" \" * (width - msg_len)) + msg\n",
    "    elif msg_len > width:\n",
    "        new_msg = msg[:width]\n",
    "    \n",
    "    print(new_msg)\n",
    "    \n",
    "\n",
    "\n",
    "\n"
   ]
  },
  {
   "cell_type": "markdown",
   "metadata": {},
   "source": [
    "Run the code below to see if you get the following expected output:\n",
    "\n",
    "\n",
    "             IS111 Lab 5\n",
    "    IS111 La\n",
    "\n",
    "                   hello\n",
    "      python programming\n",
    "    Hello World! I enjoy\n"
   ]
  },
  {
   "cell_type": "code",
   "execution_count": 21,
   "metadata": {},
   "outputs": [
    {
     "name": "stdout",
     "output_type": "stream",
     "text": [
      "         IS111 Lab 5\n",
      "None\n",
      "IS111 Lab 5\n",
      "IS111 La\n",
      "None\n",
      "               hello\n",
      "None\n",
      "  python programming\n",
      "None\n",
      "Hello World! I enjoy programming in Python.\n",
      "Hello World! I enjoy\n",
      "None\n"
     ]
    }
   ],
   "source": [
    "# This is the test code provided to you.\n",
    "# DO NOT MODIFY THE CODE!\n",
    "\n",
    "print(pad_message(\"IS111 Lab 5\", 20))\n",
    "print(pad_message(\"IS111 Lab 5\", 8))\n",
    "print(pad_message(\"hello\", 20))\n",
    "print(pad_message(\"python programming\", 20))\n",
    "print(pad_message(\"Hello World! I enjoy programming in Python.\", 20))"
   ]
  },
  {
   "cell_type": "markdown",
   "metadata": {},
   "source": [
    "### Q6: Shopping Cart\n",
    "\n",
    "#### Part A [ \\*\\* ]\n",
    "\n",
    "Recall that in Lab 2 there was a question related to discounted items. In that exercise, you have implemented the following function:"
   ]
  },
  {
   "cell_type": "code",
   "execution_count": null,
   "metadata": {},
   "outputs": [],
   "source": [
    "# This code is provided to you. DO NOT MODIFY THE CODE!\n",
    "def calculate_price_after_discount(unit_price, quantity, discount_rate):\n",
    "    \"\"\"\n",
    "    This function takes in the unit price, quantity and discount rate of an item.\n",
    "    It returns the total price after discount for the item.\n",
    "    Parameters:\n",
    "        - unit_price (float): The unit price of the item.\n",
    "        - quantity (int): The quantity of the item being purchased.\n",
    "        - discount_rate (float): The percentage of discount. E.g., if there's a 10% discount, \n",
    "                then discount_rate is set to 10.\n",
    "    Return:\n",
    "        - The total price of the item with the specified quantity after discount.\n",
    "    \"\"\"\n",
    "    return (unit_price * quantity * (1 - discount_rate/100))"
   ]
  },
  {
   "cell_type": "markdown",
   "metadata": {},
   "source": [
    "Now we will make use of the function above and write a program that helps a customer to check out her items in her shopping cart at a self-checkout counter in a supermarket.\n",
    "\n",
    "The program first asks the customer how many items the customer wants to check out. The program then prompts the user for the details of each item, including its unit price, its quantity being purchased, whether or not it has a discount, and how much the discount is if there's a discount.\n",
    "\n",
    "For example, suppose the customer's shopping cart contains the following items:\n",
    "\n",
    "description | unit_price | quantity | discount \n",
    "--- | --- | --- | ---\n",
    "milk | \\$5.95 | 2 | 10%\n",
    "rice | \\$6.50 | 1 | 5%\n",
    "eggs |  \\$2.40 | 2 | 0%\n",
    "kaya |  \\$3.95 | 3 | 15%\n",
    "\n",
    "The program will run as follows:"
   ]
  },
  {
   "cell_type": "markdown",
   "metadata": {},
   "source": [
    "<img align=\"left\" src='https://drive.google.com/uc?export=view&id=0B3N0YMArBdSBWHVWd2xNVEVwSW8' style=\"width: 500px\">"
   ]
  },
  {
   "cell_type": "markdown",
   "metadata": {},
   "source": [
    "<b>Note:</b>\n",
    "\n",
    "- You may wish to use `round(x, 2)` to round the number `x` to contain two decimal places after the decimal point when you display the final total amount.\n",
    "\n",
    "- The shopping cart may change and your program should be able to handle a different shopping cart. I.e., you should not hard code any information such as the number of items, unit prices, quantities, discount rates, etc."
   ]
  },
  {
   "cell_type": "code",
   "execution_count": null,
   "metadata": {},
   "outputs": [],
   "source": [
    "# Write your solution below:\n",
    "\n",
    "# I don't know how to do. \n",
    "\n",
    "\n",
    "\n"
   ]
  },
  {
   "cell_type": "markdown",
   "metadata": {},
   "source": [
    "#### Part B [ \\*\\*\\* ]\n",
    "\n",
    "Modify your code above to also display the total amount of savings the customer has got, i.e., the difference between the original total price and the total price after discount.\n",
    "\n",
    "<b>Note</b>:\n",
    "\n",
    "- You may wish to write a second version of the function we give you earlier (call it `calculate_price_after_discount2`) such that it returns both the price after discount and the savings.\n",
    "\n",
    "A sample run of the modified program can be found below:"
   ]
  },
  {
   "cell_type": "markdown",
   "metadata": {},
   "source": [
    "<img align=\"left\" src='https://drive.google.com/uc?export=view&id=0B3N0YMArBdSBdTNnNmIzSVhQZG8' style=\"width: 500px\">"
   ]
  },
  {
   "cell_type": "code",
   "execution_count": null,
   "metadata": {},
   "outputs": [],
   "source": [
    "# Write your solution below:\n",
    "\n",
    "\n",
    "# Sorry but i really don't get what is going on\n"
   ]
  }
 ],
 "metadata": {
  "kernelspec": {
   "display_name": "Python 3 (ipykernel)",
   "language": "python",
   "name": "python3"
  },
  "language_info": {
   "codemirror_mode": {
    "name": "ipython",
    "version": 3
   },
   "file_extension": ".py",
   "mimetype": "text/x-python",
   "name": "python",
   "nbconvert_exporter": "python",
   "pygments_lexer": "ipython3",
   "version": "3.9.12"
  }
 },
 "nbformat": 4,
 "nbformat_minor": 2
}
