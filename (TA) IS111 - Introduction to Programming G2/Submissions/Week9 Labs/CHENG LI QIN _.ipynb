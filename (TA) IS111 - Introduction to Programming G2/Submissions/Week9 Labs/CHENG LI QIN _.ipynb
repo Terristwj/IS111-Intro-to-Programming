{
 "cells": [
  {
   "cell_type": "markdown",
   "metadata": {},
   "source": [
    "<table class=\"table table-bordered\">\n",
    "    <tr>\n",
    "        <th style=\"text-align:center; width:35%\"><img src='https://drive.google.com/uc?export=view&id=1zIB3Nw_z8N2SJSSdd2yWQIsDS0MGPYKm' style=\"width: 300px; height: 90px; \"></th>\n",
    "        <th style=\"text-align:center;\"><h3>IS111 - Lab 6</h3><h3>while-Loops</h3></th>\n",
    "    </tr>\n",
    "</table>"
   ]
  },
  {
   "cell_type": "markdown",
   "metadata": {},
   "source": [
    "### Q1: [ &bigstar; ] Gender\n",
    "\n",
    "Prompt the user for his/her gender. The user has to enter one of the following options: 'M' or 'F'. The program keeps prompting the user until the user enters a valid option.\n",
    "\n",
    "A sample run of the code can be found below:\n",
    "\n",
    "    What's your gender? Please enter M or F :T\n",
    "    Wrong input!\n",
    "    \n",
    "    What's your gender? Please enter M or F :f\n",
    "    Wrong input!\n",
    "    \n",
    "    What's your gender? Please enter M or F :F\n",
    "    \n",
    "    Thanks! Your gender is female."
   ]
  },
  {
   "cell_type": "code",
   "execution_count": 6,
   "metadata": {},
   "outputs": [
    {
     "name": "stdout",
     "output_type": "stream",
     "text": [
      "What's your gender? Please enter M or F :T\n",
      "Wrong input!\n",
      "What's your gender? Please enter M or F :f\n",
      "Wrong input!\n",
      "What's your gender? Please enter M or F :F\n",
      "\n",
      "Thanks! Your gender is female.\n"
     ]
    }
   ],
   "source": [
    "# Put your code below\n",
    "\n",
    "gender=input(\"What's your gender? Please enter M or F :\")\n",
    "\n",
    "while not(gender==\"M\" or gender==\"F\"):\n",
    "    print(\"Wrong input!\")\n",
    "    gender=input(\"What's your gender? Please enter M or F :\")\n",
    "    \n",
    "if gender==\"M\":\n",
    "    print(\"\\nThanks! Your gender is male.\")\n",
    "    \n",
    "elif gender==\"F\":\n",
    "    print(\"\\nThanks! Your gender is female.\")"
   ]
  },
  {
   "cell_type": "markdown",
   "metadata": {},
   "source": [
    "### Q2: [ &bigstar; ] Two Numbers\n",
    "\n",
    "Write a program that prompts the user for two numbers. The program keeps prompting the user until  __both numbers are positive__ and __the sum of the two numbers is strictly smaller than 100__.\n",
    "\n",
    "A sample run of the program can be found below:\n",
    "\n",
    "```\n",
    "Enter the first number: 90.5\n",
    "Enter the second number: 0\n",
    "Conditions not satisfied!\n",
    "\n",
    "Enter the first number: 90.5\n",
    "Enter the second number: 10.5\n",
    "Conditions not satisfied!\n",
    "\n",
    "Enter the first number: -5\n",
    "Enter the second number: 50\n",
    "Conditions not satisfied!\n",
    "\n",
    "Enter the first number: 5.5\n",
    "Enter the second number: 6.5\n",
    "\n",
    "Thanks!\n",
    "```"
   ]
  },
  {
   "cell_type": "code",
   "execution_count": 11,
   "metadata": {},
   "outputs": [
    {
     "name": "stdout",
     "output_type": "stream",
     "text": [
      "Enter the first number: 90.5\n",
      "Enter the second number: 0\n",
      "Conditions not satisfied!\n",
      "\n",
      "Enter the first number: 90.5\n",
      "Enter the second number: 10.5\n",
      "Conditions not satisfied!\n",
      "\n",
      "Enter the first number: -5\n",
      "Enter the second number: 50\n",
      "Conditions not satisfied!\n",
      "\n",
      "Enter the first number: 5.5\n",
      "Enter the second number: 6.5\n",
      "\n",
      "Thanks!\n"
     ]
    }
   ],
   "source": [
    "# Put your code below\n",
    "\n",
    "first_num=float(input(\"Enter the first number: \"))\n",
    "second_num=float(input(\"Enter the second number: \"))\n",
    "sum_num=first_num+second_num\n",
    "\n",
    "while not(first_num>0 and second_num > 0 and sum_num<100):\n",
    "    print(\"Conditions not satisfied!\\n\")\n",
    "    first_num=float(input(\"Enter the first number: \"))\n",
    "    second_num=float(input(\"Enter the second number: \"))\n",
    "    sum_num=first_num+second_num\n",
    "print(\"\\nThanks!\")"
   ]
  },
  {
   "cell_type": "markdown",
   "metadata": {},
   "source": [
    "### Q3: [ &bigstar;&bigstar; ] Number Guessing Game\n",
    "\n",
    "Write a piece of code that does the following:\n",
    "\n",
    "- The program first generates a random number between 1 and 100 (both inclusive). \n",
    "  <br />You can use the `randrange()` or `randint()` function from the `random` module to generate the number.\n",
    "- The program then keeps prompting the user to guess the random number generated until the user's guess is correct. When the guess is wrong, the program gives a hint about whether the guess is too low or too high.\n",
    "\n",
    "A sample run of the program can be found below. Note that in this sample run 95 is the random number generated in the beginning.\n",
    "\n",
    "    Enter your guess (between 1 and 100) :34\n",
    "    Your guess is too low!\n",
    "    \n",
    "    Enter your guess (between 1 and 100) :58\n",
    "    Your guess is too low!\n",
    "    \n",
    "    Enter your guess (between 1 and 100) :73\n",
    "    Your guess is too low!\n",
    "    \n",
    "    Enter your guess (between 1 and 100) :86\n",
    "    Your guess is too low!\n",
    "    \n",
    "    Enter your guess (between 1 and 100) :99\n",
    "    Your guess is too high!\n",
    "    \n",
    "    Enter your guess (between 1 and 100) :90\n",
    "    Your guess is too low!\n",
    "    \n",
    "    Enter your guess (between 1 and 100) :95\n",
    "    \n",
    "    Bingo!\n",
    "\n",
    "Another sample run is below. This time 47 is the random number generated in the beginning.\n",
    "\n",
    "    Enter your guess (between 1 and 100):50\n",
    "    Your guess is too high!\n",
    "    \n",
    "    Enter your guess (between 1 and 100):25\n",
    "    Your guess is too low!\n",
    "    \n",
    "    Enter your guess (between 1 and 100):37\n",
    "    Your guess is too low!\n",
    "    \n",
    "    Enter your guess (between 1 and 100):43\n",
    "    Your guess is too low!\n",
    "    \n",
    "    Enter your guess (between 1 and 100):47\n",
    "    \n",
    "    Bingo!\n",
    "    \n",
    "__Note:__ You cannot reproduce the same output as shown above because your program will likely generate a different random number."
   ]
  },
  {
   "cell_type": "code",
   "execution_count": 29,
   "metadata": {},
   "outputs": [
    {
     "name": "stdout",
     "output_type": "stream",
     "text": [
      "84\n",
      "Enter your guess (between 1 and 100):12\n",
      "Your guess is too low!\n",
      "\n",
      "Enter your guess (between 1 and 100):90\n",
      "Your guess is too high!\n",
      "\n",
      "Enter your guess (between 1 and 100):63\n",
      "Your guess is too low!\n",
      "\n",
      "Enter your guess (between 1 and 100):100\n",
      "Your guess is too high!\n",
      "\n",
      "Enter your guess (between 1 and 100):84\n",
      "\n",
      "Bingo!\n"
     ]
    }
   ],
   "source": [
    "# Put your code below\n",
    "\n",
    "import random\n",
    "num_generated=random.randint(1,100) \n",
    "\n",
    "# print(num_generated)\n",
    "\n",
    "num_user_guess=int(input(\"Enter your guess (between 1 and 100):\"))\n",
    "\n",
    "while not num_user_guess==num_generated:\n",
    "    if num_user_guess > num_generated:\n",
    "        print(\"Your guess is too high!\\n\")\n",
    "    elif num_user_guess < num_generated:\n",
    "        print(\"Your guess is too low!\\n\")\n",
    "    num_user_guess=int(input(\"Enter your guess (between 1 and 100):\"))\n",
    "    \n",
    "print(\"\\nBingo!\")\n"
   ]
  },
  {
   "cell_type": "markdown",
   "metadata": {
    "collapsed": true
   },
   "source": [
    "### Q4: [ &bigstar;&bigstar; ] Shopping Cart\n",
    "\n",
    "#### Part I\n",
    "\n",
    "Write a program that prompts the user for the items in his/her shopping cart. The program keeps prompting the user until there's no more item in the shopping cart. The program displays the total price of all the items in the shopping cart.\n",
    "\n",
    "A sample run of the code can be found below:\n",
    "\n",
    "```\n",
    "    Do you have any item left in your shopping cart? Please enter Y or N :Y\n",
    "    Please enter the name of the item : bread\n",
    "    Please enter the price of the item : $2.2\n",
    "    Please enter the quantity of the item : 2\n",
    "    \n",
    "    Do you have any item left in your shopping cart? Please enter Y or N :Y\n",
    "    Please enter the name of the item : apples\n",
    "    Please enter the price of the item : $0.5\n",
    "    Please enter the quantity of the item : 6\n",
    "    \n",
    "    Do you have any item left in your shopping cart? Please enter Y or N :Y\n",
    "    Please enter the name of the item : milk\n",
    "    Please enter the price of the item : $5.3\n",
    "    Please enter the quantity of the item : 1\n",
    "    \n",
    "    Do you have any item left in your shopping cart? Please enter Y or N :N\n",
    "    \n",
    "    Total price: $12.7\n",
    "```"
   ]
  },
  {
   "cell_type": "code",
   "execution_count": 47,
   "metadata": {},
   "outputs": [
    {
     "name": "stdout",
     "output_type": "stream",
     "text": [
      "Do you have any item left in your shopping cart? Please enter Y or N :Y\n",
      "Please enter the name of the item : bread\n",
      "Please enter the price of the item : $2.2\n",
      "Please enter the quantity of the item : 2\n",
      "\n",
      "Do you have any item left in your shopping cart? Please enter Y or N :Y\n",
      "Please enter the name of the item : apples\n",
      "Please enter the price of the item : $0.5\n",
      "Please enter the quantity of the item : 6\n",
      "\n",
      "Do you have any item left in your shopping cart? Please enter Y or N :Y\n",
      "Please enter the name of the item : milk\n",
      "Please enter the price of the item : $5.3\n",
      "Please enter the quantity of the item : 1\n",
      "\n",
      "Do you have any item left in your shopping cart? Please enter Y or N :N\n",
      "\n",
      "Total price: $12.7\n"
     ]
    }
   ],
   "source": [
    "# Put your code below\n",
    "\n",
    "\n",
    "check_items=input(\"Do you have any item left in your shopping cart? Please enter Y or N :\")\n",
    "total_price=0\n",
    "\n",
    "while check_items==\"Y\":\n",
    "    item=input(\"Please enter the name of the item : \")\n",
    "    price=float(input(\"Please enter the price of the item : $\"))\n",
    "    quantity=int(input(\"Please enter the quantity of the item : \"))\n",
    "    total_price+=price*quantity\n",
    "    check_items=input(\"\\nDo you have any item left in your shopping cart? Please enter Y or N :\")\n",
    "    \n",
    "print(\"\\nTotal price: ${}\".format(total_price))\n"
   ]
  },
  {
   "cell_type": "markdown",
   "metadata": {},
   "source": [
    "### Part II\n",
    "\n",
    "Now modify your code such that in the end the program prints out not only the total price but also all the items in the shopping cart.\n",
    "\n",
    "A sample run of the program can be found below:\n",
    "\n",
    "```\n",
    "    Do you have any item left in your shopping cart? Please enter Y or N: Y\n",
    "    Please enter the name of the item: bread\n",
    "    Please enter the price of the item: $2.2\n",
    "    Please enter the quantity of the item: 2\n",
    "    \n",
    "    Do you have any item left in your shopping cart? Please enter Y or N: Y\n",
    "    Please enter the name of the item: apples\n",
    "    Please enter the price of the item: $0.5\n",
    "    Please enter the quantity of the item: 6\n",
    "    \n",
    "    Do you have any item left in your shopping cart? Please enter Y or N: Y\n",
    "    Please enter the name of the item: milk\n",
    "    Please enter the price of the item: $5.3\n",
    "    Please enter the quantity of the item: 1\n",
    "    \n",
    "    Do you have any item left in your shopping cart? Please enter Y or N: N\n",
    "\n",
    "    You've entered the following items:\n",
    "        bread   $2.2\t2\n",
    "        apples  $0.5\t6\n",
    "        milk    $5.3\t1\n",
    "\n",
    "    Total price: $12.7\n",
    "```"
   ]
  },
  {
   "cell_type": "code",
   "execution_count": 23,
   "metadata": {},
   "outputs": [
    {
     "name": "stdout",
     "output_type": "stream",
     "text": [
      "Do you have any item left in your shopping cart? Please enter Y or N :Y\n",
      "Please enter the name of the item : bread\n",
      "Please enter the price of the item : $2.2\n",
      "Please enter the quantity of the item : 2\n",
      "\n",
      "Do you have any item left in your shopping cart? Please enter Y or N :Y\n",
      "Please enter the name of the item : apples\n",
      "Please enter the price of the item : $0.5\n",
      "Please enter the quantity of the item : 6\n",
      "\n",
      "Do you have any item left in your shopping cart? Please enter Y or N :Y\n",
      "Please enter the name of the item : milk\n",
      "Please enter the price of the item : $5.3\n",
      "Please enter the quantity of the item : 1\n",
      "\n",
      "Do you have any item left in your shopping cart? Please enter Y or N :N\n",
      "\n",
      "You have entered the following items:\n",
      "\tbread\t$2.2\t2\n",
      "\tapples\t$0.5\t6\n",
      "\tmilk\t$5.3\t1\n",
      "\n",
      "\n",
      "Total price: $12.7\n"
     ]
    }
   ],
   "source": [
    "# Put your code below\n",
    "    \n",
    "check_items=input(\"Do you have any item left in your shopping cart? Please enter Y or N :\")\n",
    "total_price=0\n",
    "items_purchased=\"\"\n",
    "\n",
    "while check_items==\"Y\":\n",
    "    item=input(\"Please enter the name of the item : \")\n",
    "    price=float(input(\"Please enter the price of the item : $\"))\n",
    "    quantity=int(input(\"Please enter the quantity of the item : \"))\n",
    "    total_price+=price*quantity\n",
    "    items_purchased+=\"\\t\"+item+\"\\t$\"+str(price)+\"\\t\"+str(quantity)+\"\\n\"\n",
    "    check_items=input(\"\\nDo you have any item left in your shopping cart? Please enter Y or N :\")\n",
    "\n",
    "print(\"\\nYou have entered the following items:\")\n",
    "print(items_purchased)\n",
    "print(\"\\nTotal price: ${}\".format(total_price))\n",
    "\n"
   ]
  },
  {
   "cell_type": "markdown",
   "metadata": {},
   "source": [
    "### Q5: [ &bigstar;&bigstar; ] Two Strings\n",
    "\n",
    "Prompt the user for two strings. Keep prompting the user until the following conditions are satisfied:\n",
    "\n",
    "1. Neither string contains a space.\n",
    "2. The second string is longer than the first string.\n",
    "3. Every character in the first string can be found in the second string.\n",
    "\n",
    "A sample run of the program can be found below:\n",
    "\n",
    "```\n",
    "Enter the first string: SMU SIS\n",
    "Enter the second string: SMUSIS\n",
    "Conditions not satisfied!\n",
    "\n",
    "Enter the first string: SMUSIS\n",
    "Enter the second string: SMUSIS\n",
    "Conditions not satisfied!\n",
    "\n",
    "Enter the first string: SMUSIS\n",
    "Enter the second string: SMUSMUSMU\n",
    "Conditions not satisfied!\n",
    "\n",
    "Enter the first string: SMUSIS\n",
    "Enter the second string: SMUSISS\n",
    "\n",
    "Bingo!\n",
    "```"
   ]
  },
  {
   "cell_type": "code",
   "execution_count": 9,
   "metadata": {},
   "outputs": [
    {
     "name": "stdout",
     "output_type": "stream",
     "text": [
      "Enter the first string: SMU SIS\n",
      "Enter the second string: SMUSIS\n",
      "Conditions not satisfied!\n",
      "\n",
      "Enter the first string: SMUSIS\n",
      "Enter the second string: SMUSIS\n",
      "Conditions not satisfied!\n",
      "\n",
      "Enter the first string: SMUSIS\n",
      "Enter the second string: SMUSMUSMU\n",
      "Conditions not satisfied!\n",
      "\n",
      "Enter the first string: SMUSIS\n",
      "Enter the second string: SMUSISS\n",
      "\n",
      "Bingo!\n"
     ]
    }
   ],
   "source": [
    "# Put your code below\n",
    "\n",
    "str_1=input(\"Enter the first string: \")\n",
    "str_2=input(\"Enter the second string: \")\n",
    "\n",
    "\n",
    "def check_character(str_1, str_2):\n",
    "    for ch in str_1:\n",
    "        if ch not in str_2:\n",
    "            return False\n",
    "    return True\n",
    "\n",
    "\n",
    "while not (\" \" not in str_1 and \" \" not in str_2 and len(str_2)>len(str_1) and check_character(str_1,str_2)):\n",
    "    print(\"Conditions not satisfied!\\n\")\n",
    "    str_1=input(\"Enter the first string: \")\n",
    "    str_2=input(\"Enter the second string: \")\n",
    "    check_character(str_1, str_2)\n",
    "\n",
    "print(\"\\nBingo!\")\n"
   ]
  },
  {
   "cell_type": "markdown",
   "metadata": {},
   "source": [
    "### Q6: [ &bigstar;&bigstar;&bigstar; ] Multiplication Table\n",
    "\n",
    "Write a program that helps the user to practice multiplication table. The program keeps asking whether the user wants to continue practicing until the user decides to quite. If the user wants to continue, the program randomly picks two numbers between 1 and 9 (both inclusive) and asks the user for his/her answer. If the answer is wrong, the program keeps prompting until the answer is correct.\n",
    "\n",
    "A sample run of the program can be found below:\n",
    "\n",
    "```\n",
    "    Do you want to practice multiplication table? Please enter Y or N: Y\n",
    "    \n",
    "    What's the result of 4 times 9? 27\n",
    "    Wrong answer! Please try again: 36\n",
    "    You are right!\n",
    "\n",
    "    Do you want to continue your practice? Please enter Y or N: Y\n",
    "    \n",
    "    What's the result of 4 times 2? 10\n",
    "    Wrong answer! Please try again: 9\n",
    "    Wrong answer! Please try again: 8\n",
    "    You are right!\n",
    "\n",
    "    Do you want to continue your practice? Please enter Y or N: Y\n",
    "    \n",
    "    What's the result of 3 times 4? 12\n",
    "    You are right!\n",
    "\n",
    "    Do you want to continue your practice? Please enter Y or N: N\n",
    "\n",
    "    Good-bye!\n",
    "```"
   ]
  },
  {
   "cell_type": "code",
   "execution_count": 18,
   "metadata": {},
   "outputs": [
    {
     "name": "stdout",
     "output_type": "stream",
     "text": [
      "Do you want to practice multiplication table? Please enter Y or N: Y\n",
      "\n",
      "What is the result of 7 times 7? 48\n",
      "Wrong answer! please try again: 29\n",
      "Wrong answer! please try again: 0\n",
      "Wrong answer! please try again: 49\n",
      "You are right!\n",
      "\n",
      "Do you want to continue your practice? Please enter Y or N: Y\n",
      "\n",
      "What is the result of 6 times 4? 29\n",
      "Wrong answer! please try again: 24\n",
      "You are right!\n",
      "\n",
      "Do you want to continue your practice? Please enter Y or N: N\n",
      "\n",
      "Good-bye!\n"
     ]
    }
   ],
   "source": [
    "# Put your code below\n",
    "\n",
    "practice_multiplication=input(\"Do you want to practice multiplication table? Please enter Y or N: \")\n",
    "\n",
    "while practice_multiplication==\"Y\":\n",
    "    import random\n",
    "    random_num_1=random.randint(1,9)\n",
    "    random_num_2=random.randint(1,9)\n",
    "    multiplication=random_num_1*random_num_2\n",
    "    user_answer=int(input(\"\\nWhat is the result of {} times {}? \".format(random_num_1,random_num_2)))\n",
    "\n",
    "    while not user_answer==multiplication:\n",
    "        user_answer=int(input(\"Wrong answer! please try again: \"))\n",
    "    print(\"You are right!\")\n",
    "\n",
    "    practice_multiplication=input(\"\\nDo you want to continue your practice? Please enter Y or N: \")\n",
    "\n",
    "print(\"\\nGood-bye!\")"
   ]
  },
  {
   "cell_type": "markdown",
   "metadata": {},
   "source": [
    "### Q7: [ &bigstar;&bigstar;&bigstar; ] Line-up\n",
    "\n",
    "A group of students need to line up for the procession of an event. We only have the information about every pair of students who are next to each other. We use a list of tuples to represent this line-up information: Each element of the list is a tuple that contains the name of a student (call him/her A) and the name of the student behind A. \n",
    "\n",
    "For example, ```(\"Alice\", \"Bob\")``` means Bob is behind Alice. The list ```[(\"Alice\", \"Bob\"), (\"Bob\", \"Chris\")]``` means Bob is behind Alice and Chris behind Bob. \n",
    "\n",
    "For the student who's at the very end of the line-up, we use an empty string to indicate that there's nobody behind this student. E.g., ```(\"Darren\", \"\")``` means there's nobody behind Darren, i.e., Darren is at the end of the line-up.\n",
    "\n",
    "Given a list of tuples that contains the line-up information of every pair of students who are next to each other, implement a function that returns the students in a list based on their order in the line-up.\n",
    "\n",
    "__Example 1:__ ```get_lineup([(\"Chris\", \"Darren\"), (\"Alice\", \"Bob\"), (\"Darren\", \"\"), (\"Bob\", \"Chris\")])``` should return ```[\"Alice\", \"Bob\", \"Chris\", \"Darren\"]```.\n",
    "\n",
    "\n",
    "__Example 2:__\n",
    "\n",
    "Given the following code,\n",
    "\n",
    "```\n",
    "info = [(\"Mary\", \"Jason\"), (\"John\", \"Alan\"), (\"Jason\", \"George\"), (\"Alan\", \"Christie\"), (\"Christie\", \"Mary\"), (\"George\", \"\")]\n",
    "print(get_lineup(info))\n",
    "```\n",
    "\n",
    "we should see the following output:\n",
    "\n",
    "```\n",
    "['John', 'Alan', 'Christie', 'Mary', 'Jason', 'George']\n",
    "```\n",
    "\n",
    "\n",
    "__Note:__ If the list passed to the function is empty, the function returns an empty list."
   ]
  },
  {
   "cell_type": "code",
   "execution_count": 6,
   "metadata": {},
   "outputs": [],
   "source": [
    "# Put your code below\n",
    "\n",
    "def get_lineup(tuple_list):\n",
    "    if tuple_list==\"\":\n",
    "        return []\n",
    "    \n",
    "    lineup_list=[]\n",
    "    \n",
    "    #get last student\n",
    "    for student_pairs in tuple_list:\n",
    "        if student_pairs[1]==\"\":\n",
    "            lineup_list.append(student_pairs[0])\n",
    "            \n",
    "    #find student infront of last student\n",
    "    while len(lineup_list)<len(tuple_list): #will continue to iterate through the for loop until len of the lineup list = length of tuples\n",
    "        for student_pairs in tuple_list:    #without the while statement, the code will only iterate through the for loop once -> some people will be missing. e.g. bob only gets added to the list on the last tuple, and since it's the end of the for loop, alice won't be added to the list unless the for loop is run again\n",
    "            if student_pairs[1]==lineup_list[0]:\n",
    "                lineup_list=[student_pairs[0]]+lineup_list\n",
    "    return lineup_list "
   ]
  },
  {
   "cell_type": "code",
   "execution_count": 7,
   "metadata": {},
   "outputs": [
    {
     "data": {
      "text/plain": [
       "['Alice', 'Bob', 'Chris', 'Darren']"
      ]
     },
     "execution_count": 7,
     "metadata": {},
     "output_type": "execute_result"
    }
   ],
   "source": [
    "# Test Case 1\n",
    "get_lineup([(\"Chris\", \"Darren\"), (\"Alice\", \"Bob\"), (\"Darren\", \"\"), (\"Bob\", \"Chris\")]) "
   ]
  },
  {
   "cell_type": "code",
   "execution_count": 8,
   "metadata": {},
   "outputs": [
    {
     "name": "stdout",
     "output_type": "stream",
     "text": [
      "['John', 'Alan', 'Christie', 'Mary', 'Jason', 'George']\n"
     ]
    }
   ],
   "source": [
    "# Test Case 2\n",
    "info = [(\"Mary\", \"Jason\"), (\"John\", \"Alan\"), (\"Jason\", \"George\"), (\"Alan\", \"Christie\"), (\"Christie\", \"Mary\"), (\"George\", \"\")]\n",
    "print(get_lineup(info))"
   ]
  },
  {
   "cell_type": "code",
   "execution_count": null,
   "metadata": {},
   "outputs": [],
   "source": []
  }
 ],
 "metadata": {
  "kernelspec": {
   "display_name": "Python 3 (ipykernel)",
   "language": "python",
   "name": "python3"
  },
  "language_info": {
   "codemirror_mode": {
    "name": "ipython",
    "version": 3
   },
   "file_extension": ".py",
   "mimetype": "text/x-python",
   "name": "python",
   "nbconvert_exporter": "python",
   "pygments_lexer": "ipython3",
   "version": "3.9.12"
  }
 },
 "nbformat": 4,
 "nbformat_minor": 2
}
