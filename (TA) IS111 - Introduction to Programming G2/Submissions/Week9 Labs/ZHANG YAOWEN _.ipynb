{
 "cells": [
  {
   "cell_type": "markdown",
   "metadata": {},
   "source": [
    "<table class=\"table table-bordered\">\n",
    "    <tr>\n",
    "        <th style=\"text-align:center; width:35%\"><img src='https://drive.google.com/uc?export=view&id=1zIB3Nw_z8N2SJSSdd2yWQIsDS0MGPYKm' style=\"width: 300px; height: 90px; \"></th>\n",
    "        <th style=\"text-align:center;\"><h3>IS111 - Lab 6</h3><h3>while-Loops</h3></th>\n",
    "    </tr>\n",
    "</table>"
   ]
  },
  {
   "cell_type": "markdown",
   "metadata": {},
   "source": [
    "### Q1: [ &bigstar; ] Gender\n",
    "\n",
    "Prompt the user for his/her gender. The user has to enter one of the following options: 'M' or 'F'. The program keeps prompting the user until the user enters a valid option.\n",
    "\n",
    "A sample run of the code can be found below:\n",
    "\n",
    "    What's your gender? Please enter M or F :T\n",
    "    Wrong input!\n",
    "    \n",
    "    What's your gender? Please enter M or F :f\n",
    "    Wrong input!\n",
    "    \n",
    "    What's your gender? Please enter M or F :F\n",
    "    \n",
    "    Thanks! Your gender is female."
   ]
  },
  {
   "cell_type": "code",
   "execution_count": 3,
   "metadata": {},
   "outputs": [
    {
     "name": "stdout",
     "output_type": "stream",
     "text": [
      "What's your gender? Please enter M or F :T\n",
      "Wrong input!\n",
      "\n",
      "What's your gender? Please enter M or F :f\n",
      "Wrong input!\n",
      "\n",
      "What's your gender? Please enter M or F :F\n",
      "\n",
      "Thanks! Your gender is female.\n"
     ]
    }
   ],
   "source": [
    "# Put your code below\n",
    "\n",
    "gender = input(\"What's your gender? Please enter M or F :\")\n",
    "\n",
    "while not(gender == \"M\" or gender == \"F\"):\n",
    "    print(\"Wrong input!\")\n",
    "    gender = input(\"\\nWhat's your gender? Please enter M or F :\") \n",
    "    \n",
    "if gender == \"M\":\n",
    "    print(\"\\nThanks! Your gender is male.\")\n",
    "else:\n",
    "    print(\"\\nThanks! Your gender is female.\")\n",
    "\n",
    "\n",
    "\n",
    "\n"
   ]
  },
  {
   "cell_type": "markdown",
   "metadata": {},
   "source": [
    "### Q2: [ &bigstar; ] Two Numbers\n",
    "\n",
    "Write a program that prompts the user for two numbers. The program keeps prompting the user until  __both numbers are positive__ and __the sum of the two numbers is strictly smaller than 100__.\n",
    "\n",
    "A sample run of the program can be found below:\n",
    "\n",
    "```\n",
    "Enter the first number: 90.5\n",
    "Enter the second number: 0\n",
    "Conditions not satisfied!\n",
    "\n",
    "Enter the first number: 90.5\n",
    "Enter the second number: 10.5\n",
    "Conditions not satisfied!\n",
    "\n",
    "Enter the first number: -5\n",
    "Enter the second number: 50\n",
    "Conditions not satisfied!\n",
    "\n",
    "Enter the first number: 5.5\n",
    "Enter the second number: 6.5\n",
    "\n",
    "Thanks!\n",
    "```"
   ]
  },
  {
   "cell_type": "code",
   "execution_count": 6,
   "metadata": {},
   "outputs": [
    {
     "name": "stdout",
     "output_type": "stream",
     "text": [
      "Enter the first number: 90.5\n",
      "Enter the second number: 0\n",
      "Conditions not satisfied!\n",
      "\n",
      "Enter the first number: 90.5\n",
      "Enter the second number: 10.5\n",
      "Conditions not satisfied!\n",
      "\n",
      "Enter the first number: -5\n",
      "Enter the second number: 50\n",
      "Conditions not satisfied!\n",
      "\n",
      "Enter the first number: 5.5\n",
      "Enter the second number: 6.5\n",
      "Thanks!\n"
     ]
    }
   ],
   "source": [
    "# Put your code below\n",
    "\n",
    "first_number = float(input(\"Enter the first number: \"))\n",
    "second_number = float(input(\"Enter the second number: \"))\n",
    "\n",
    "while not(first_number > 0 and second_number >0 and first_number + second_number <100):\n",
    "    print(\"Conditions not satisfied!\")\n",
    "    first_number = float(input(\"\\nEnter the first number: \"))\n",
    "    second_number = float(input(\"Enter the second number: \"))\n",
    "print(\"\\nThanks!\")\n",
    "\n",
    "\n",
    "\n",
    "    "
   ]
  },
  {
   "cell_type": "markdown",
   "metadata": {},
   "source": [
    "### Q3: [ &bigstar;&bigstar; ] Number Guessing Game\n",
    "\n",
    "Write a piece of code that does the following:\n",
    "\n",
    "- The program first generates a random number between 1 and 100 (both inclusive). \n",
    "  <br />You can use the `randrange()` or `randint()` function from the `random` module to generate the number.\n",
    "- The program then keeps prompting the user to guess the random number generated until the user's guess is correct. When the guess is wrong, the program gives a hint about whether the guess is too low or too high.\n",
    "\n",
    "A sample run of the program can be found below. Note that in this sample run 95 is the random number generated in the beginning.\n",
    "\n",
    "    Enter your guess (between 1 and 100) :34\n",
    "    Your guess is too low!\n",
    "    \n",
    "    Enter your guess (between 1 and 100) :58\n",
    "    Your guess is too low!\n",
    "    \n",
    "    Enter your guess (between 1 and 100) :73\n",
    "    Your guess is too low!\n",
    "    \n",
    "    Enter your guess (between 1 and 100) :86\n",
    "    Your guess is too low!\n",
    "    \n",
    "    Enter your guess (between 1 and 100) :99\n",
    "    Your guess is too high!\n",
    "    \n",
    "    Enter your guess (between 1 and 100) :90\n",
    "    Your guess is too low!\n",
    "    \n",
    "    Enter your guess (between 1 and 100) :95\n",
    "    \n",
    "    Bingo!\n",
    "\n",
    "Another sample run is below. This time 47 is the random number generated in the beginning.\n",
    "\n",
    "    Enter your guess (between 1 and 100):50\n",
    "    Your guess is too high!\n",
    "    \n",
    "    Enter your guess (between 1 and 100):25\n",
    "    Your guess is too low!\n",
    "    \n",
    "    Enter your guess (between 1 and 100):37\n",
    "    Your guess is too low!\n",
    "    \n",
    "    Enter your guess (between 1 and 100):43\n",
    "    Your guess is too low!\n",
    "    \n",
    "    Enter your guess (between 1 and 100):47\n",
    "    \n",
    "    Bingo!\n",
    "    \n",
    "__Note:__ You cannot reproduce the same output as shown above because your program will likely generate a different random number."
   ]
  },
  {
   "cell_type": "code",
   "execution_count": 7,
   "metadata": {},
   "outputs": [
    {
     "name": "stdout",
     "output_type": "stream",
     "text": [
      "Enter your guess (between 1 and 100) :90\n",
      "Your guess is too high!\n",
      "\n",
      "Enter your guess (between 1 and 100) :40\n",
      "Your guess is too high!\n",
      "\n",
      "Enter your guess (between 1 and 100) :20\n",
      "Your guess is too low!\n",
      "\n",
      "Enter your guess (between 1 and 100) :27\n",
      "Your guess is too high!\n",
      "\n",
      "Enter your guess (between 1 and 100) :25\n",
      "Your guess is too high!\n",
      "\n",
      "Enter your guess (between 1 and 100) :23\n",
      "Your guess is too high!\n",
      "\n",
      "Enter your guess (between 1 and 100) :22\n",
      "Your guess is too high!\n",
      "\n",
      "Enter your guess (between 1 and 100) :21\n",
      "\n",
      "Bingo!\n"
     ]
    }
   ],
   "source": [
    "# Put your code below\n",
    "\n",
    "import random\n",
    "\n",
    "random_num = random.randrange(1, 101)\n",
    "guess = int(input('Enter your guess (between 1 and 100) :'))\n",
    "\n",
    "while not(guess == random_num):\n",
    "    if guess < random_num:\n",
    "        print(\"Your guess is too low!\")\n",
    "    else:\n",
    "        print(\"Your guess is too high!\")\n",
    "    guess = int(input('\\nEnter your guess (between 1 and 100) :'))\n",
    "print(\"\\nBingo!\")\n",
    "\n"
   ]
  },
  {
   "cell_type": "markdown",
   "metadata": {
    "collapsed": true
   },
   "source": [
    "### Q4: [ &bigstar;&bigstar; ] Shopping Cart\n",
    "\n",
    "#### Part I\n",
    "\n",
    "Write a program that prompts the user for the items in his/her shopping cart. The program keeps prompting the user until there's no more item in the shopping cart. The program displays the total price of all the items in the shopping cart.\n",
    "\n",
    "A sample run of the code can be found below:\n",
    "\n",
    "```\n",
    "    Do you have any item left in your shopping cart? Please enter Y or N :Y\n",
    "    Please enter the name of the item : bread\n",
    "    Please enter the price of the item : $2.2\n",
    "    Please enter the quantity of the item : 2\n",
    "    \n",
    "    Do you have any item left in your shopping cart? Please enter Y or N :Y\n",
    "    Please enter the name of the item : apples\n",
    "    Please enter the price of the item : $0.5\n",
    "    Please enter the quantity of the item : 6\n",
    "    \n",
    "    Do you have any item left in your shopping cart? Please enter Y or N :Y\n",
    "    Please enter the name of the item : milk\n",
    "    Please enter the price of the item : $5.3\n",
    "    Please enter the quantity of the item : 1\n",
    "    \n",
    "    Do you have any item left in your shopping cart? Please enter Y or N :N\n",
    "    \n",
    "    Total price: $12.7\n",
    "```"
   ]
  },
  {
   "cell_type": "code",
   "execution_count": 9,
   "metadata": {},
   "outputs": [
    {
     "name": "stdout",
     "output_type": "stream",
     "text": [
      "Do you have any item left in your shopping cart? Please enter Y or N :Y\n",
      "Please enter the name of the item : bread\n",
      "Please enter the price of the item : $2.2\n",
      "Please enter the quantity of the item : 2\n",
      "\n",
      "Do you have any item left in your shopping cart? Please enter Y or N :Y\n",
      "Please enter the name of the item : apples\n",
      "Please enter the price of the item : $0.5\n",
      "Please enter the quantity of the item : 6\n",
      "\n",
      "Do you have any item left in your shopping cart? Please enter Y or N :Y\n",
      "Please enter the name of the item : milk\n",
      "Please enter the price of the item : $5.3\n",
      "Please enter the quantity of the item : 1\n",
      "\n",
      "Do you have any item left in your shopping cart? Please enter Y or N :N\n",
      "\n",
      "Total price: $12.7\n"
     ]
    }
   ],
   "source": [
    "# Put your code below\n",
    "item_left = input(\"Do you have any item left in your shopping cart? Please enter Y or N :\")\n",
    "total_price = 0\n",
    "while not(item_left == \"N\"):\n",
    "    name = input(\"Please enter the name of the item : \")\n",
    "    price = float(input(\"Please enter the price of the item : $\"))\n",
    "    quantity = float(input(\"Please enter the quantity of the item : \"))\n",
    "    total_price = quantity * price + total_price\n",
    "    \n",
    "    item_left = input(\"\\nDo you have any item left in your shopping cart? Please enter Y or N :\")\n",
    "    \n",
    "print(\"\\nTotal price: $\" + str(total_price))\n",
    "\n",
    "\n",
    "\n"
   ]
  },
  {
   "cell_type": "markdown",
   "metadata": {},
   "source": [
    "#### Part II\n",
    "\n",
    "Now modify your code such that in the end the program prints out not only the total price but also all the items in the shopping cart.\n",
    "\n",
    "A sample run of the program can be found below:\n",
    "\n",
    "```\n",
    "    Do you have any item left in your shopping cart? Please enter Y or N: Y\n",
    "    Please enter the name of the item: bread\n",
    "    Please enter the price of the item: $2.2\n",
    "    Please enter the quantity of the item: 2\n",
    "    \n",
    "    Do you have any item left in your shopping cart? Please enter Y or N: Y\n",
    "    Please enter the name of the item: apples\n",
    "    Please enter the price of the item: $0.5\n",
    "    Please enter the quantity of the item: 6\n",
    "    \n",
    "    Do you have any item left in your shopping cart? Please enter Y or N: Y\n",
    "    Please enter the name of the item: milk\n",
    "    Please enter the price of the item: $5.3\n",
    "    Please enter the quantity of the item: 1\n",
    "    \n",
    "    Do you have any item left in your shopping cart? Please enter Y or N: N\n",
    "\n",
    "    You've entered the following items:\n",
    "        bread   $2.2\t2\n",
    "        apples  $0.5\t6\n",
    "        milk    $5.3\t1\n",
    "\n",
    "    Total price: $12.7\n",
    "```"
   ]
  },
  {
   "cell_type": "code",
   "execution_count": 12,
   "metadata": {},
   "outputs": [
    {
     "ename": "KeyboardInterrupt",
     "evalue": "Interrupted by user",
     "output_type": "error",
     "traceback": [
      "\u001b[1;31m---------------------------------------------------------------------------\u001b[0m",
      "\u001b[1;31mKeyboardInterrupt\u001b[0m                         Traceback (most recent call last)",
      "\u001b[1;32m~\\AppData\\Local\\Temp\\ipykernel_21544\\149357277.py\u001b[0m in \u001b[0;36m<module>\u001b[1;34m\u001b[0m\n\u001b[0;32m      1\u001b[0m \u001b[1;31m# Put your code below\u001b[0m\u001b[1;33m\u001b[0m\u001b[1;33m\u001b[0m\u001b[0m\n\u001b[0;32m      2\u001b[0m \u001b[1;33m\u001b[0m\u001b[0m\n\u001b[1;32m----> 3\u001b[1;33m \u001b[0mitem_left\u001b[0m \u001b[1;33m=\u001b[0m \u001b[0minput\u001b[0m\u001b[1;33m(\u001b[0m\u001b[1;34m\"Do you have any item left in your shopping cart? Please enter Y or N :\"\u001b[0m\u001b[1;33m)\u001b[0m\u001b[1;33m\u001b[0m\u001b[1;33m\u001b[0m\u001b[0m\n\u001b[0m\u001b[0;32m      4\u001b[0m \u001b[0mtotal_price\u001b[0m \u001b[1;33m=\u001b[0m \u001b[1;36m0\u001b[0m\u001b[1;33m\u001b[0m\u001b[1;33m\u001b[0m\u001b[0m\n\u001b[0;32m      5\u001b[0m \u001b[0mitem_list\u001b[0m \u001b[1;33m=\u001b[0m \u001b[1;33m[\u001b[0m\u001b[1;33m]\u001b[0m\u001b[1;33m\u001b[0m\u001b[1;33m\u001b[0m\u001b[0m\n",
      "\u001b[1;32m~\\anaconda3\\lib\\site-packages\\ipykernel\\kernelbase.py\u001b[0m in \u001b[0;36mraw_input\u001b[1;34m(self, prompt)\u001b[0m\n\u001b[0;32m   1175\u001b[0m                 \u001b[1;34m\"raw_input was called, but this frontend does not support input requests.\"\u001b[0m\u001b[1;33m\u001b[0m\u001b[1;33m\u001b[0m\u001b[0m\n\u001b[0;32m   1176\u001b[0m             )\n\u001b[1;32m-> 1177\u001b[1;33m         return self._input_request(\n\u001b[0m\u001b[0;32m   1178\u001b[0m             \u001b[0mstr\u001b[0m\u001b[1;33m(\u001b[0m\u001b[0mprompt\u001b[0m\u001b[1;33m)\u001b[0m\u001b[1;33m,\u001b[0m\u001b[1;33m\u001b[0m\u001b[1;33m\u001b[0m\u001b[0m\n\u001b[0;32m   1179\u001b[0m             \u001b[0mself\u001b[0m\u001b[1;33m.\u001b[0m\u001b[0m_parent_ident\u001b[0m\u001b[1;33m[\u001b[0m\u001b[1;34m\"shell\"\u001b[0m\u001b[1;33m]\u001b[0m\u001b[1;33m,\u001b[0m\u001b[1;33m\u001b[0m\u001b[1;33m\u001b[0m\u001b[0m\n",
      "\u001b[1;32m~\\anaconda3\\lib\\site-packages\\ipykernel\\kernelbase.py\u001b[0m in \u001b[0;36m_input_request\u001b[1;34m(self, prompt, ident, parent, password)\u001b[0m\n\u001b[0;32m   1217\u001b[0m             \u001b[1;32mexcept\u001b[0m \u001b[0mKeyboardInterrupt\u001b[0m\u001b[1;33m:\u001b[0m\u001b[1;33m\u001b[0m\u001b[1;33m\u001b[0m\u001b[0m\n\u001b[0;32m   1218\u001b[0m                 \u001b[1;31m# re-raise KeyboardInterrupt, to truncate traceback\u001b[0m\u001b[1;33m\u001b[0m\u001b[1;33m\u001b[0m\u001b[0m\n\u001b[1;32m-> 1219\u001b[1;33m                 \u001b[1;32mraise\u001b[0m \u001b[0mKeyboardInterrupt\u001b[0m\u001b[1;33m(\u001b[0m\u001b[1;34m\"Interrupted by user\"\u001b[0m\u001b[1;33m)\u001b[0m \u001b[1;32mfrom\u001b[0m \u001b[1;32mNone\u001b[0m\u001b[1;33m\u001b[0m\u001b[1;33m\u001b[0m\u001b[0m\n\u001b[0m\u001b[0;32m   1220\u001b[0m             \u001b[1;32mexcept\u001b[0m \u001b[0mException\u001b[0m\u001b[1;33m:\u001b[0m\u001b[1;33m\u001b[0m\u001b[1;33m\u001b[0m\u001b[0m\n\u001b[0;32m   1221\u001b[0m                 \u001b[0mself\u001b[0m\u001b[1;33m.\u001b[0m\u001b[0mlog\u001b[0m\u001b[1;33m.\u001b[0m\u001b[0mwarning\u001b[0m\u001b[1;33m(\u001b[0m\u001b[1;34m\"Invalid Message:\"\u001b[0m\u001b[1;33m,\u001b[0m \u001b[0mexc_info\u001b[0m\u001b[1;33m=\u001b[0m\u001b[1;32mTrue\u001b[0m\u001b[1;33m)\u001b[0m\u001b[1;33m\u001b[0m\u001b[1;33m\u001b[0m\u001b[0m\n",
      "\u001b[1;31mKeyboardInterrupt\u001b[0m: Interrupted by user"
     ]
    }
   ],
   "source": [
    "# Put your code below\n",
    "\n",
    "item_left = input(\"Do you have any item left in your shopping cart? Please enter Y or N :\")\n",
    "total_price = 0\n",
    "item_list = []\n",
    "\n",
    "while not(item_left == \"N\"):\n",
    "    name = input(\"Please enter the name of the item : \")\n",
    "    price = float(input(\"Please enter the price of the item : $\"))\n",
    "    quantity = int(input(\"Please enter the quantity of the item : \"))\n",
    "    total_price = quantity * price + total_price\n",
    "    item_list.append((name, price, quantity))\n",
    "    \n",
    "    item_left = input(\"\\nDo you have any item left in your shopping cart? Please enter Y or N :\")\n",
    "\n",
    "print(\"\\nYou've entered the following items:\")\n",
    "for item in item_list:\n",
    "    print('\\t' + str(item[0]) + '\\t$' + str(item[1]) + '\\t' + str(item[2]))\n",
    "    \n",
    "print(\"\\nTotal price: $\" + str(total_price))\n",
    "\n"
   ]
  },
  {
   "cell_type": "markdown",
   "metadata": {},
   "source": [
    "### Q5: [ &bigstar;&bigstar; ] Two Strings\n",
    "\n",
    "Prompt the user for two strings. Keep prompting the user until the following conditions are satisfied:\n",
    "\n",
    "1. Neither string contains a space.\n",
    "2. The second string is longer than the first string.\n",
    "3. Every character in the first string can be found in the second string.\n",
    "\n",
    "A sample run of the program can be found below:\n",
    "\n",
    "```\n",
    "Enter the first string: SMU SIS\n",
    "Enter the second string: SMUSIS\n",
    "Conditions not satisfied!\n",
    "\n",
    "Enter the first string: SMUSIS\n",
    "Enter the second string: SMUSIS\n",
    "Conditions not satisfied!\n",
    "\n",
    "Enter the first string: SMUSIS\n",
    "Enter the second string: SMUSMUSMU\n",
    "Conditions not satisfied!\n",
    "\n",
    "Enter the first string: SMUSIS\n",
    "Enter the second string: SMUSISS\n",
    "\n",
    "Bingo!\n",
    "```"
   ]
  },
  {
   "cell_type": "code",
   "execution_count": 13,
   "metadata": {},
   "outputs": [
    {
     "name": "stdout",
     "output_type": "stream",
     "text": [
      "Enter the first string :SMU SIS\n",
      "Enter the second string :SMUSIS\n",
      "Conditions not satisfied!\n",
      "\n",
      "Enter the first string :SMUSIS\n",
      "Enter the second string :SMUSIS\n",
      "Conditions not satisfied!\n",
      "\n",
      "Enter the first string :SMUSIS\n",
      "Enter the second string :SMUSISS\n",
      "\n",
      "Bingo!\n"
     ]
    }
   ],
   "source": [
    "# Put your code below\n",
    "\n",
    "def validate_conditions(first_str, second_str):\n",
    "    if ' ' in first_str or ' ' in second_str:\n",
    "        return False\n",
    "    if len(second_str) <= len(first_str):\n",
    "        return False\n",
    "    for ch in first_str:\n",
    "        if ch not in second_str:\n",
    "            return False\n",
    "    return True\n",
    "\n",
    "first_str = input('Enter the first string :')\n",
    "second_str = input('Enter the second string :')\n",
    "\n",
    "while not validate_conditions(first_str, second_str):\n",
    "    print('Conditions not satisfied!')\n",
    "    \n",
    "    first_str = input('\\nEnter the first string :')\n",
    "    second_str = input('Enter the second string :')\n",
    "    \n",
    "print('\\nBingo!')\n",
    "\n"
   ]
  },
  {
   "cell_type": "markdown",
   "metadata": {},
   "source": [
    "### Q6: [ &bigstar;&bigstar;&bigstar; ] Multiplication Table\n",
    "\n",
    "Write a program that helps the user to practice multiplication table. The program keeps asking whether the user wants to continue practicing until the user decides to quite. If the user wants to continue, the program randomly picks two numbers between 1 and 9 (both inclusive) and asks the user for his/her answer. If the answer is wrong, the program keeps prompting until the answer is correct.\n",
    "\n",
    "A sample run of the program can be found below:\n",
    "\n",
    "```\n",
    "    Do you want to practice multiplication table? Please enter Y or N: Y\n",
    "    \n",
    "    What's the result of 4 times 9? 27\n",
    "    Wrong answer! Please try again: 36\n",
    "    You are right!\n",
    "\n",
    "    Do you want to continue your practice? Please enter Y or N: Y\n",
    "    \n",
    "    What's the result of 4 times 2? 10\n",
    "    Wrong answer! Please try again: 9\n",
    "    Wrong answer! Please try again: 8\n",
    "    You are right!\n",
    "\n",
    "    Do you want to continue your practice? Please enter Y or N: Y\n",
    "    \n",
    "    What's the result of 3 times 4? 12\n",
    "    You are right!\n",
    "\n",
    "    Do you want to continue your practice? Please enter Y or N: N\n",
    "\n",
    "    Good-bye!\n",
    "```"
   ]
  },
  {
   "cell_type": "code",
   "execution_count": 16,
   "metadata": {},
   "outputs": [
    {
     "name": "stdout",
     "output_type": "stream",
     "text": [
      "Do you want to practice multiplication table? Please enter Y or N :Y\n",
      "\n",
      "What's the result of 6 times 5? 11\n",
      "Wrong answer! Please try again :30\n",
      "You are right!\n",
      "\n",
      "Do you want to continue your practice? Please enter Y or N :Y\n",
      "\n",
      "What's the result of 1 times 7? 7\n",
      "You are right!\n",
      "\n",
      "Do you want to continue your practice? Please enter Y or N :N'\n",
      "\n",
      "What's the result of 7 times 1? 7\n",
      "You are right!\n",
      "\n",
      "Do you want to continue your practice? Please enter Y or N :N\n",
      "Good-bye!\n"
     ]
    }
   ],
   "source": [
    "# Put your code below\n",
    "import random\n",
    "\n",
    "multiplication_table = input('Do you want to practice multiplication table? Please enter Y or N :')\n",
    "\n",
    "while not(multiplication_table == 'N'):\n",
    "    num1 = random.randrange(1, 10)\n",
    "    num2 = random.randrange(1, 10)\n",
    "    \n",
    "    ans = int(input(\"\\nWhat's the result of \" + str(num1) + \" times \" + str(num2) + \"? \"))\n",
    "    while not(ans == (num1 * num2)):\n",
    "        ans = int(input('Wrong answer! Please try again :'))\n",
    "    print('You are right!')\n",
    "    \n",
    "    multiplication_table = input('\\nDo you want to continue your practice? Please enter Y or N :')\n",
    "\n",
    "print('\\nGood-bye!')\n",
    "\n",
    "\n",
    "\n"
   ]
  },
  {
   "cell_type": "markdown",
   "metadata": {},
   "source": [
    "### Q7: [ &bigstar;&bigstar;&bigstar; ] Line-up\n",
    "\n",
    "A group of students need to line up for the procession of an event. We only have the information about every pair of students who are next to each other. We use a list of tuples to represent this line-up information: Each element of the list is a tuple that contains the name of a student (call him/her A) and the name of the student behind A. \n",
    "\n",
    "For example, ```(\"Alice\", \"Bob\")``` means Bob is behind Alice. The list ```[(\"Alice\", \"Bob\"), (\"Bob\", \"Chris\")]``` means Bob is behind Alice and Chris behind Bob. \n",
    "\n",
    "For the student who's at the very end of the line-up, we use an empty string to indicate that there's nobody behind this student. E.g., ```(\"Darren\", \"\")``` means there's nobody behind Darren, i.e., Darren is at the end of the line-up.\n",
    "\n",
    "Given a list of tuples that contains the line-up information of every pair of students who are next to each other, implement a function that returns the students in a list based on their order in the line-up.\n",
    "\n",
    "__Example 1:__ ```get_lineup([(\"Chris\", \"Darren\"), (\"Alice\", \"Bob\"), (\"Darren\", \"\"), (\"Bob\", \"Chris\")])``` should return ```[\"Alice\", \"Bob\", \"Chris\", \"Darren\"]```.\n",
    "\n",
    "\n",
    "__Example 2:__\n",
    "\n",
    "Given the following code,\n",
    "\n",
    "```\n",
    "info = [(\"Mary\", \"Jason\"), (\"John\", \"Alan\"), (\"Jason\", \"George\"), (\"Alan\", \"Christie\"), (\"Christie\", \"Mary\"), (\"George\", \"\")]\n",
    "print(get_lineup(info))\n",
    "```\n",
    "\n",
    "we should see the following output:\n",
    "\n",
    "```\n",
    "['John', 'Alan', 'Christie', 'Mary', 'Jason', 'George']\n",
    "```\n",
    "\n",
    "\n",
    "__Note:__ If the list passed to the function is empty, the function returns an empty list."
   ]
  },
  {
   "cell_type": "code",
   "execution_count": 20,
   "metadata": {},
   "outputs": [],
   "source": [
    "# Put your code below\n",
    "\n",
    "\n",
    "def search_for_person_in_front(people_list, person_behind):\n",
    "    for tup in people_list:\n",
    "        if tup[1] == person_behind:\n",
    "            return tup[0]\n",
    "        \n",
    "        \n",
    "def get_lineup(people_list):\n",
    "    list_to_return = []\n",
    "    person_behind = ''\n",
    "    \n",
    "    for tup in people_list:\n",
    "        if tup[1] == '':\n",
    "            person_behind = tup[0]\n",
    "            list_to_return.append(person_behind)\n",
    "            \n",
    "\n",
    "    person_in_front = search_for_person_in_front(people_list, person_behind)\n",
    "    \n",
    "    while person_in_front != None:\n",
    "        list_to_return.append(person_in_front)\n",
    "        person_behind = person_in_front\n",
    "        person_in_front = search_for_person_in_front(people_list, person_behind)\n",
    "    \n",
    "    return list_to_return[::-1]\n",
    "\n"
   ]
  },
  {
   "cell_type": "code",
   "execution_count": 21,
   "metadata": {},
   "outputs": [
    {
     "data": {
      "text/plain": [
       "['Alice', 'Bob', 'Chris', 'Darren']"
      ]
     },
     "execution_count": 21,
     "metadata": {},
     "output_type": "execute_result"
    }
   ],
   "source": [
    "# Test Case 1\n",
    "get_lineup([(\"Chris\", \"Darren\"), (\"Alice\", \"Bob\"), (\"Darren\", \"\"), (\"Bob\", \"Chris\")]) "
   ]
  },
  {
   "cell_type": "code",
   "execution_count": 22,
   "metadata": {},
   "outputs": [
    {
     "name": "stdout",
     "output_type": "stream",
     "text": [
      "['John', 'Alan', 'Christie', 'Mary', 'Jason', 'George']\n"
     ]
    }
   ],
   "source": [
    "# Test Case 2\n",
    "info = [(\"Mary\", \"Jason\"), (\"John\", \"Alan\"), (\"Jason\", \"George\"), (\"Alan\", \"Christie\"), (\"Christie\", \"Mary\"), (\"George\", \"\")]\n",
    "print(get_lineup(info))"
   ]
  },
  {
   "cell_type": "code",
   "execution_count": null,
   "metadata": {},
   "outputs": [],
   "source": []
  }
 ],
 "metadata": {
  "kernelspec": {
   "display_name": "Python 3 (ipykernel)",
   "language": "python",
   "name": "python3"
  },
  "language_info": {
   "codemirror_mode": {
    "name": "ipython",
    "version": 3
   },
   "file_extension": ".py",
   "mimetype": "text/x-python",
   "name": "python",
   "nbconvert_exporter": "python",
   "pygments_lexer": "ipython3",
   "version": "3.9.13"
  }
 },
 "nbformat": 4,
 "nbformat_minor": 2
}
