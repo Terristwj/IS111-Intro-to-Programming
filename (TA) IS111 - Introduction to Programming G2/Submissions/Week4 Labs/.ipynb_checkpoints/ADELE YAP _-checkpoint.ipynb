{
 "cells": [
  {
   "cell_type": "markdown",
   "metadata": {},
   "source": [
    "<table class=\"table table-bordered\">\n",
    "    <tr>\n",
    "        <th style=\"text-align:center; width:35%\"><img src='https://drive.google.com/uc?export=view&id=1zIB3Nw_z8N2SJSSdd2yWQIsDS0MGPYKm' style=\"width: 300px; height: 90px; \"></th>\n",
    "        <th style=\"text-align:center;\"><h3>IS111 - Lab 4</h3><h3>More on Conditions, Strings and for-Loops</h3></th>\n",
    "    </tr>\n",
    "</table>"
   ]
  },
  {
   "cell_type": "markdown",
   "metadata": {},
   "source": [
    "### Q1: Number of Days in a Month [ \\* ]\n",
    "\n",
    "Write a piece of Python code that prompts the user for a month number (1 for January, 2 for February, etc.) The program then displays the number of days in that month. You can ignore leap years and assume that February always has 28 days.\n",
    "\n",
    "You can assume that the user is always going to enter an integer value. If the value is outside of the range between 1 and 12, you should display an error message.\n",
    "\n",
    "Two sample runs of the code look as follows:"
   ]
  },
  {
   "cell_type": "markdown",
   "metadata": {},
   "source": [
    "<img align=\"left\" src='https://drive.google.com/uc?export=view&id=0B3N0YMArBdSBbjdBZTI1SXJ5OVk' style=\"width: 350px\">"
   ]
  },
  {
   "cell_type": "markdown",
   "metadata": {},
   "source": [
    "<img align=\"left\" src='https://drive.google.com/uc?export=view&id=0B3N0YMArBdSBRURXWGNuejBrMHc' style=\"width: 250px\">"
   ]
  },
  {
   "cell_type": "code",
   "execution_count": 127,
   "metadata": {},
   "outputs": [
    {
     "name": "stdout",
     "output_type": "stream",
     "text": [
      "Enter month: 9\n",
      "There are 30 in this month.\n"
     ]
    }
   ],
   "source": [
    "# input the month\n",
    "month = int(input(\"Enter month: \"))\n",
    "print (\"Enter month: \" + str(month))\n",
    "\n",
    "# check if month is btwn 1-12, if month is <1 or >12, print error msg\n",
    "if month <1 or month >12: \n",
    "    print (\"Enter a number between 1 and 12 only!\")\n",
    "\n",
    "# if month == 2, print '28 days'\n",
    "if month == 2:\n",
    "    print (\"There are 28 in this month.\")\n",
    "\n",
    "# if month_2 == month, print '31 days' \n",
    "month_2 = [1,3,5,7,8,10,12]\n",
    "if month_2 == month:\n",
    "    print (\"There are 31 in this month.\")\n",
    "\n",
    "# if month == 6 or month == 9, print '30 days' \n",
    "if month == 6 or month == 9:\n",
    "    print (\"There are 30 in this month.\")"
   ]
  },
  {
   "cell_type": "code",
   "execution_count": 129,
   "metadata": {},
   "outputs": [
    {
     "name": "stdout",
     "output_type": "stream",
     "text": [
      "Enter month: 15\n",
      "Enter a number between 1 and 12 only!\n"
     ]
    }
   ],
   "source": [
    "month1 = int(input(\"Enter month: \"))\n",
    "print (\"Enter month: \" + str(month1))\n",
    "\n",
    "# check if month is btwn 1-12, if month is <1 or >12, print error msg\n",
    "if month1 <1 or month1 >12: \n",
    "    print (\"Enter a number between 1 and 12 only!\")\n",
    "\n",
    "# if month == 2, print '28 days'\n",
    "if month1 == 2:\n",
    "    print (\"There are 28 in this month.\")\n",
    "\n",
    "# if month_2 == month, print '31 days' \n",
    "month_2 = [1,3,5,7,8,10,12]\n",
    "if month_2 == month1:\n",
    "    print (\"There are 31 in this month.\")\n",
    "\n",
    "# if month == 6 or month == 9, print '30 days' \n",
    "if month1 == 6 or month1 == 9:\n",
    "    print (\"There are 30 in this month.\")"
   ]
  },
  {
   "cell_type": "markdown",
   "metadata": {},
   "source": [
    "print(\"Enter month: \" + str(month)) --> no need \n",
    "\n",
    "global = all the addresses that py has but it also cannot affect the local scope\n",
    "local = if define function inside, there is diff variables --> it is limited and cannot change the global scope \n",
    "\n",
    "print or return \n",
    "return is to bring local scope out "
   ]
  },
  {
   "cell_type": "markdown",
   "metadata": {},
   "source": [
    "### Q2: Jackpot [ \\* ]\n",
    "\n",
    "You are given a piece of code below that generates and displays three random numbers between 0 and 9 (both included). This is to simulate a Jackpot machine.\n",
    "\n",
    "Complete the program to display one of the following messages:\n",
    "\n",
    "<ul>\n",
    "<li><b>\"Try again!\"</b> if the three numbers are all different.</li>\n",
    "<li><b>\"Two of a kind!\"</b> if there are two numbers that are the same.</li>\n",
    "<li><b>\"Jackpot!\"</b> if all three numbers are the same.</li>\n",
    "</ul>\n",
    "\n",
    "Three sample runs of the code are shown below:"
   ]
  },
  {
   "cell_type": "markdown",
   "metadata": {},
   "source": [
    "<img align=\"left\" src='https://drive.google.com/uc?export=view&id=0B3N0YMArBdSBMnhZeV9zNF8xWjA' style=\"width: 160px\">"
   ]
  },
  {
   "cell_type": "markdown",
   "metadata": {},
   "source": [
    "<img align=\"left\" src='https://drive.google.com/uc?export=view&id=0B3N0YMArBdSBalAxaUVHWWw5cFE' style=\"width: 160px\">"
   ]
  },
  {
   "cell_type": "code",
   "execution_count": 99,
   "metadata": {},
   "outputs": [
    {
     "name": "stdout",
     "output_type": "stream",
     "text": [
      "*****************\n",
      "** 5 ** 5 ** 3 **\n",
      "*****************\n",
      "Two of a kind!\n"
     ]
    }
   ],
   "source": [
    "# ################################################################################\n",
    "# The following code is provided to you.\n",
    "\n",
    "import random\n",
    "num1 = random.randrange(0, 10) \n",
    "num2 = random.randrange(0, 10)\n",
    "num3 = random.randrange(0, 10)\n",
    "\n",
    "print('*****************')\n",
    "print('**', num1, '**', num2, '**', num3,'**')\n",
    "print('*****************')\n",
    "\n",
    "# ################################################################################\n",
    "# Write your code here:\n",
    "if num1 == num2 == num3:\n",
    "    print ('Jackpot!')\n",
    "    \n",
    "if num1 != num2 != num3:\n",
    "    print ('Try Again!')\n",
    "\n",
    "else:\n",
    "    print('Two of a kind!')"
   ]
  },
  {
   "cell_type": "code",
   "execution_count": 161,
   "metadata": {},
   "outputs": [
    {
     "name": "stdout",
     "output_type": "stream",
     "text": [
      "*****************\n",
      "** 6 ** 5 ** 8 **\n",
      "*****************\n",
      "Try Again!\n"
     ]
    }
   ],
   "source": [
    "import random\n",
    "num1 = random.randrange(0, 10) \n",
    "num2 = random.randrange(0, 10)\n",
    "num3 = random.randrange(0, 10)\n",
    "\n",
    "print('*****************')\n",
    "print('**', num1, '**', num2, '**', num3,'**')\n",
    "print('*****************')\n",
    "\n",
    "# ################################################################################\n",
    "# Write your code here:\n",
    "#if num1 = num2 = num3, print jackpot \n",
    "# if num1 != num2 != num3, print try again \n",
    "# if num1 = num2 or num1 = num3 or num2 = num3, print two of a kind \n",
    "\n",
    "if num1 == num2 == num3:\n",
    "    print ('Jackpot!')\n",
    "    \n",
    "if num1 != num2 != num3:\n",
    "    print ('Try Again!')\n",
    "\n",
    "else:\n",
    "    print('Two of a kind!')"
   ]
  },
  {
   "cell_type": "markdown",
   "metadata": {
    "collapsed": true
   },
   "source": [
    "### Q3: Mobile Plans [ \\*\\* ]\n",
    "\n",
    "A telco company offers the following postpaid mobile plans:\n",
    "\n",
    "| plan | monthly charge | outgoing calls (mins) | local SMS/MMS | local data |\n",
    "| --- | --- | --- | --- | --- |\n",
    "| Combo 1 | \\$25.50 | 80 | 300 | 100MB |\n",
    "| Combo 2 | \\$39.50 | 200 | 500 | 2GB |\n",
    "| Combo 3 | \\$59.50 | 300 | 1000 | 3GB |\n",
    "| Combo 4 | \\$79.50 | 400 | 1500 | 4GB |\n",
    "| Combo 5 | \\$109.50 | 800 | 2000 | 10GB |\n",
    "\n",
    "What's shown on each row is the montly charge of each plan and the maximum amount of usage covered by the plan.\n",
    "\n",
    "Prompt the user for his/her requirements and help him/her find the most cost-effective postpaid plan. The recommended plan should satisfy all his/her needs.\n",
    "\n",
    "Three sample runs of the program can be found below:"
   ]
  },
  {
   "cell_type": "markdown",
   "metadata": {},
   "source": [
    "<img align=\"left\" src='https://drive.google.com/uc?export=view&id=0B3N0YMArBdSBb0toZjltbGtBZkU' style=\"width: 500px\">"
   ]
  },
  {
   "cell_type": "markdown",
   "metadata": {},
   "source": [
    "<img align=\"left\" src='https://drive.google.com/uc?export=view&id=0B3N0YMArBdSBN1BBLU5ZUEZ2UUE' style=\"width: 500px\">"
   ]
  },
  {
   "cell_type": "markdown",
   "metadata": {},
   "source": [
    "<img align=\"left\" src='https://drive.google.com/uc?export=view&id=0B3N0YMArBdSBV0FEdUI5cjZ3eVk' style=\"width: 560px\">"
   ]
  },
  {
   "cell_type": "code",
   "execution_count": 19,
   "metadata": {},
   "outputs": [],
   "source": [
    "# Write your code below:\n",
    "\n",
    "def monthly_usuage_requirements(min_outoging_calls, min_msgs, min_data):\n",
    "    min_outoging_calls = int(input(\"Min outgoing calls in minutes?\"))\n",
    "    min_msgs = int(input(\"Min msgs needed?\"))\n",
    "    min_data = int(input(\"Min data needed (in GB)?\"))\n",
    "\n",
    "\n",
    "    if min_outoging_calls <= 80 and min_msgs <= 300 and min_data <=0.1:\n",
    "        print (\"We recommend Combo 1\") \n",
    "\n",
    "        print('Please tell us your monthly usage requirements.' + ' \\n ')\n"
   ]
  },
  {
   "cell_type": "markdown",
   "metadata": {},
   "source": [
    "### Q4: Message Encryption\n",
    "\n",
    "#### Part I [ \\*\\* ]\n",
    "\n",
    "Write a program that encrypts a message as follows:\n",
    "\n",
    "- All the occurrences of letter 'a' in the message are replaced by 'e'\n",
    "- All the occurrences of letter 'e' in the message are replaced by 'i'\n",
    "- All the occurrences of letter 'i' in the message are replaced by 'o'\n",
    "- All the occurrences of letter 'o' in the messsge are replaced by 'u'\n",
    "- All the occurrences of letter 'u' in the messsge are replaced by 'a'\n",
    "\n",
    "For example, suppose the original message is\n",
    "\n",
    "    This is the original message used.\n",
    "\n",
    "Then the encrypted message becomes\n",
    "\n",
    "    Thos os thi urogonel missegi asid.\n",
    "\n",
    "A sample run of the program is shown below:"
   ]
  },
  {
   "cell_type": "markdown",
   "metadata": {},
   "source": [
    "<img align=\"left\" src='https://drive.google.com/uc?export=view&id=0B3N0YMArBdSBZ2doZ3Z4T3NGYzA' style=\"width: 500px\">"
   ]
  },
  {
   "cell_type": "code",
   "execution_count": 20,
   "metadata": {},
   "outputs": [
    {
     "name": "stdout",
     "output_type": "stream",
     "text": [
      "What's the original message? This is the original message used.\n",
      "The encrypted message is 'Thos os thi urogonel missegi asid.'\n"
     ]
    }
   ],
   "source": [
    "# Write your code below:\n",
    "# print out the original message \n",
    "# write out the different replacements in the original message --> ie. 'a' will be replaced by 'e'\n",
    "\n",
    "\n",
    "original_message = 'This is the original message used.'\n",
    "print(\"What's the original message? \" + original_message)\n",
    "encrypted_message = ''\n",
    "\n",
    "for ch in original_message: \n",
    "    if ch == 'a':\n",
    "        encrypted_message += 'e'\n",
    "    elif ch == 'e':\n",
    "        encrypted_message += 'i'\n",
    "    elif ch == 'i':\n",
    "       encrypted_message += 'o'\n",
    "    elif ch == 'o':\n",
    "        encrypted_message += 'u'\n",
    "    elif ch == 'u':\n",
    "        encrypted_message += 'a'\n",
    "    else: \n",
    "        encrypted_message += ch \n",
    "\n",
    "print(\"The encrypted message is '\" + encrypted_message + \"'\")"
   ]
  },
  {
   "cell_type": "markdown",
   "metadata": {},
   "source": [
    "#### Part II [ \\*\\* ]\n",
    "\n",
    "Can you modify the program above such that the message is not only encrypted as described above but also reversed character by character?\n",
    "\n",
    "For example, suppose the original message is\n",
    "\n",
    "    This is the original message used.\n",
    "\n",
    "Then the final output is the following:\n",
    "\n",
    "    .disa igessim lenogoru iht so sohT\n",
    "    \n",
    "A sample run of the modified program is as follows:"
   ]
  },
  {
   "cell_type": "markdown",
   "metadata": {},
   "source": [
    "<img align=\"left\" src='https://drive.google.com/uc?export=view&id=0B3N0YMArBdSBclhuYzNfTWs1ZE0' style=\"width: 700px\">"
   ]
  },
  {
   "cell_type": "code",
   "execution_count": 19,
   "metadata": {},
   "outputs": [
    {
     "name": "stdout",
     "output_type": "stream",
     "text": [
      "What's the original message? This is the original message used.\n",
      "The encrypted message after being reversed is '.disa igessim lenogoru iht so sohT'\n"
     ]
    }
   ],
   "source": [
    "# Write your code below:\n",
    "original_message = 'This is the original message used.'\n",
    "print(\"What's the original message? \" + original_message)\n",
    "encrypted_message = ''\n",
    "\n",
    "for ch in original_message: \n",
    "    if ch == 'a':\n",
    "        encrypted_message += 'e'\n",
    "        # encrypted_message = encrypted_message + 'e' same meaning as ^\n",
    "\n",
    "    elif ch == 'e':\n",
    "        encrypted_message += 'i'\n",
    "    elif ch == 'i':\n",
    "       encrypted_message += 'o'\n",
    "    elif ch == 'o':\n",
    "        encrypted_message += 'u'\n",
    "    elif ch == 'u':\n",
    "        encrypted_message += 'a'\n",
    "    else: \n",
    "        encrypted_message += ch \n",
    "\n",
    "print(\"The encrypted message after being reversed is '\" + encrypted_message[::-1] + \"'\")"
   ]
  },
  {
   "cell_type": "markdown",
   "metadata": {},
   "source": [
    "### Q5: Message Padding [ \\*\\*\\* ]"
   ]
  },
  {
   "cell_type": "markdown",
   "metadata": {},
   "source": [
    "Define a function called `pad_message`.\n",
    "\n",
    "The function takes in two parameters:\n",
    "\n",
    "    msg (type: str): This is a string representing a message.\n",
    "    width (type: int): This is a number indicating the final length of the returned padded message.\n",
    "\n",
    "The function <b>returns</b> a new string whose length is `width`, the second parameter. If the original message is shorter than `width`, then spaces are padded to the left of the message . If the original message is longer than `width`, then the original message is truncated on the right hand side to fit into the specified `width`.\n",
    "\n",
    "For example, if the message is `\"IS111 Lab 5\"`, which contains 11 characters, and if the specified width is `20`, then this function returns `\"         IS111 Lab 5\"`.\n",
    "If the message is the same but the specified width is `8`, then this function returns `\"IS111 La\"`, which consists of the first 8 characters of the original message."
   ]
  },
  {
   "cell_type": "code",
   "execution_count": 24,
   "metadata": {},
   "outputs": [],
   "source": [
    "# Write your function definition below:\n",
    "def pad_message(msg, width): \n",
    "    # if original message is shorter than width, spaces are padded to left of the message\n",
    "    if len(msg) < width:\n",
    "        num_spaces = width - len(msg)\n",
    "        new_string = \"\"\n",
    "        for i in range(num_spaces):\n",
    "            new_string = new_string + \" \"\n",
    "        return new_string + msg \n",
    "    \n",
    "    # if original message is longer than width, it is truncated on the right to fit into specified width \n",
    "    # return new_string whose length = width --> when you define a function, rem to return it, not PRINT \n",
    "    elif len(msg) >= width: \n",
    "        return (msg[0:width])"
   ]
  },
  {
   "cell_type": "markdown",
   "metadata": {},
   "source": [
    "Run the code below to see if you get the following expected output:\n",
    "\n",
    "\n",
    "             IS111 Lab 5\n",
    "    IS111 La\n",
    "\n",
    "                   hello\n",
    "      python programming\n",
    "    Hello World! I enjoy\n"
   ]
  },
  {
   "cell_type": "code",
   "execution_count": 25,
   "metadata": {},
   "outputs": [
    {
     "name": "stdout",
     "output_type": "stream",
     "text": [
      "         IS111 Lab 5\n",
      "IS111 La\n",
      "               hello\n",
      "  python programming\n",
      "Hello World! I enjoy\n"
     ]
    }
   ],
   "source": [
    "# This is the test code provided to you.\n",
    "# DO NOT MODIFY THE CODE!\n",
    "\n",
    "print(pad_message(\"IS111 Lab 5\", 20))\n",
    "print(pad_message(\"IS111 Lab 5\", 8))\n",
    "print(pad_message(\"hello\", 20))\n",
    "print(pad_message(\"python programming\", 20))\n",
    "print(pad_message(\"Hello World! I enjoy programming in Python.\", 20))"
   ]
  },
  {
   "cell_type": "markdown",
   "metadata": {},
   "source": [
    "### Q6: Shopping Cart\n",
    "\n",
    "#### Part A [ \\*\\* ]\n",
    "\n",
    "Recall that in Lab 2 there was a question related to discounted items. In that exercise, you have implemented the following function:"
   ]
  },
  {
   "cell_type": "code",
   "execution_count": 1,
   "metadata": {},
   "outputs": [],
   "source": [
    "# This code is provided to you. DO NOT MODIFY THE CODE!\n",
    "def calculate_price_after_discount(unit_price, quantity, discount_rate):\n",
    "    \"\"\"\n",
    "    This function takes in the unit price, quantity and discount rate of an item.\n",
    "    It returns the total price after discount for the item.\n",
    "    Parameters:\n",
    "        - unit_price (float): The unit price of the item.\n",
    "        - quantity (int): The quantity of the item being purchased.\n",
    "        - discount_rate (float): The percentage of discount. E.g., if there's a 10% discount, \n",
    "                then discount_rate is set to 10.\n",
    "    Return:\n",
    "        - The total price of the item with the specified quantity after discount.\n",
    "    \"\"\"\n",
    "    return (unit_price * quantity * (1 - discount_rate/100))"
   ]
  },
  {
   "cell_type": "markdown",
   "metadata": {},
   "source": [
    "Now we will make use of the function above and write a program that helps a customer to check out her items in her shopping cart at a self-checkout counter in a supermarket.\n",
    "\n",
    "The program first asks the customer how many items the customer wants to check out. The program then prompts the user for the details of each item, including its unit price, its quantity being purchased, whether or not it has a discount, and how much the discount is if there's a discount.\n",
    "\n",
    "For example, suppose the customer's shopping cart contains the following items:\n",
    "\n",
    "description | unit_price | quantity | discount \n",
    "--- | --- | --- | ---\n",
    "milk | \\$5.95 | 2 | 10%\n",
    "rice | \\$6.50 | 1 | 5%\n",
    "eggs |  \\$2.40 | 2 | 0%\n",
    "kaya |  \\$3.95 | 3 | 15%\n",
    "\n",
    "The program will run as follows:"
   ]
  },
  {
   "cell_type": "markdown",
   "metadata": {},
   "source": [
    "<img align=\"left\" src='https://drive.google.com/uc?export=view&id=0B3N0YMArBdSBWHVWd2xNVEVwSW8' style=\"width: 500px\">"
   ]
  },
  {
   "cell_type": "markdown",
   "metadata": {},
   "source": [
    "<b>Note:</b>\n",
    "\n",
    "- You may wish to use `round(x, 2)` to round the number `x` to contain two decimal places after the decimal point when you display the final total amount.\n",
    "\n",
    "- The shopping cart may change and your program should be able to handle a different shopping cart. I.e., you should not hard code any information such as the number of items, unit prices, quantities, discount rates, etc."
   ]
  },
  {
   "cell_type": "code",
   "execution_count": 30,
   "metadata": {},
   "outputs": [
    {
     "name": "stdout",
     "output_type": "stream",
     "text": [
      "How many items do you want to check out? 4\n",
      "Enter the details of Item 1:\n",
      "\t What's this item? milk\n",
      "\t What's the unit price of this item? 5.95\n",
      "\t What's the quantity of this item? 2\n",
      "Does this item have any discount? [yes|no] yes\n",
      "What's the percentage of discount (%)? 10.0\n",
      "The total amount you have to pay is $10.71\n",
      "Enter the details of Item 2:\n",
      "\t What's this item? rice\n",
      "\t What's the unit price of this item? 6.5\n",
      "\t What's the quantity of this item? 1\n",
      "Does this item have any discount? [yes|no] yes\n",
      "What's the percentage of discount (%)? 5.0\n",
      "The total amount you have to pay is $6.17\n",
      "Enter the details of Item 3:\n",
      "\t What's this item? eggs\n",
      "\t What's the unit price of this item? 2.4\n",
      "\t What's the quantity of this item? 2\n",
      "Does this item have any discount? [yes|no] no\n",
      "The total amount you have to pay is $4.8\n",
      "Enter the details of Item 4:\n",
      "\t What's this item? kaya\n",
      "\t What's the unit price of this item? 3.95\n",
      "\t What's the quantity of this item? 3\n",
      "Does this item have any discount? [yes|no] yes\n",
      "What's the percentage of discount (%)? 15.0\n",
      "The total amount you have to pay is $10.07\n"
     ]
    }
   ],
   "source": [
    "# def calculate_price_after_discount(unit_price, quantity, discount_rate):\n",
    "#         return (unit_price * quantity * (1 - discount_rate/100))\n",
    "\n",
    "check_out = int(input(\"How many items do you want to check out? \"))\n",
    "print(\"How many items do you want to check out? \" + str(check_out))\n",
    "\n",
    "for i in range(0,check_out):\n",
    "    print (\"Enter the details of Item \" + str(i+1) + \":\")\n",
    "    item = input(\"type of item?\")\n",
    "    print (\"\\t What's this item? \" + item )\n",
    "\n",
    "    unit_price = float(input(\"Price?\"))\n",
    "    print (\"\\t What's the unit price of this item? \" + str(unit_price))\n",
    "\n",
    "    quantity = int(input(\"quantity?\"))\n",
    "    print(\"\\t What's the quantity of this item? \" + str(quantity))\n",
    "\n",
    "    discount = input(\"discount present? [yes|no]\")\n",
    "    discount_rate = 0.0\n",
    "    if discount == 'yes':\n",
    "        print (\"Does this item have any discount? [yes|no] \" + 'yes')\n",
    "        discount_rate = float(input(\"Discount in percentage?\"))\n",
    "        print (\"What's the percentage of discount (%)? \" + str(discount_rate))\n",
    "        # discount_rate = float(discount_rate)\n",
    "\n",
    "    else:\n",
    "        print (\"Does this item have any discount? [yes|no] \" + 'no')\n",
    "\n",
    "\n",
    "    amount_payable = calculate_price_after_discount(unit_price, quantity, float(discount_rate))\n",
    "\n",
    "# the total amount payable is the amount payable for all items combined \n",
    "# total amount payable = amount payable 1 + ... amount payable 4 \n",
    "\n",
    "    print(\"The total amount you have to pay is $\" + str(round(amount_payable,2)))\n",
    "    \n",
    "    #how to combine the total amount payable and only print it once? "
   ]
  },
  {
   "cell_type": "markdown",
   "metadata": {},
   "source": [
    "#### Part B [ \\*\\*\\* ]\n",
    "\n",
    "Modify your code above to also display the total amount of savings the customer has got, i.e., the difference between the original total price and the total price after discount.\n",
    "\n",
    "<b>Note</b>:\n",
    "\n",
    "- You may wish to write a second version of the function we give you earlier (call it `calculate_price_after_discount2`) such that it returns both the price after discount and the savings.\n",
    "\n",
    "A sample run of the modified program can be found below:"
   ]
  },
  {
   "cell_type": "markdown",
   "metadata": {},
   "source": [
    "<img align=\"left\" src='https://drive.google.com/uc?export=view&id=0B3N0YMArBdSBdTNnNmIzSVhQZG8' style=\"width: 500px\">"
   ]
  },
  {
   "cell_type": "code",
   "execution_count": 31,
   "metadata": {},
   "outputs": [],
   "source": [
    "# Write your solution below:\n",
    "# calculate total original unit price \n",
    "# find the difference between the original total price and total price after discount --> savings \n",
    "# ie. def calculate_price_after_discount2 with parameters: price after discount and savings \n",
    "\n",
    "def calculate_price_after_discount2 (discount, savings):\n",
    "    unit_price1 = 5.95\n",
    "    unit_price2 = 6.50\n",
    "    unit_price3 = 2.40\n",
    "    unit_price4 = 3.95\n",
    "    total_original_price = float(unit_price1 + unit_price2 + unit_price3 + unit_price4)\n",
    "\n",
    "    savings = total_original_price - float(discount)\n",
    "\n",
    "    return (discount, total_original_price - float(discount))\n",
    "#need to use the combined total discounted price from above in line13 "
   ]
  }
 ],
 "metadata": {
  "kernelspec": {
   "display_name": "Python 3 (ipykernel)",
   "language": "python",
   "name": "python3"
  },
  "language_info": {
   "codemirror_mode": {
    "name": "ipython",
    "version": 3
   },
   "file_extension": ".py",
   "mimetype": "text/x-python",
   "name": "python",
   "nbconvert_exporter": "python",
   "pygments_lexer": "ipython3",
   "version": "3.9.12"
  },
  "vscode": {
   "interpreter": {
    "hash": "31f2aee4e71d21fbe5cf8b01ff0e069b9275f58929596ceb00d14d90e3e16cd6"
   }
  }
 },
 "nbformat": 4,
 "nbformat_minor": 2
}
