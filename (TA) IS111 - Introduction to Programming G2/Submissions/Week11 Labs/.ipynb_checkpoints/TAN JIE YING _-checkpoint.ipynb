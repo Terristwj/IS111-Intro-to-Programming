{
 "cells": [
  {
   "cell_type": "markdown",
   "metadata": {},
   "source": [
    "<table class=\"table table-bordered\">\n",
    "    <tr>\n",
    "        <th style=\"text-align:center; width:35%\"><img src='https://drive.google.com/uc?export=view&id=1zIB3Nw_z8N2SJSSdd2yWQIsDS0MGPYKm' style=\"width: 300px; height: 90px; \"></th>\n",
    "        <th style=\"text-align:center;\"><h3>IS111 - Lab 8</h3><h3>Dictionaries</h3></th>\n",
    "    </tr>\n",
    "</table>"
   ]
  },
  {
   "cell_type": "markdown",
   "metadata": {},
   "source": [
    "## Q1: Substitution Cipher\n",
    "\n",
    "\"A __substitution cipher__ is a method of encoding by which units of plaintext are replaced with ciphertext, according to a fixed system.\" See https://en.wikipedia.org/wiki/Substitution_cipher.\n",
    "\n",
    "In this question, we consider a simple substitution cipher that replaces each letter in the original message with another letter.\n",
    "\n",
    "### Part (a) [ &bigstar; ]\n",
    "\n",
    "You are given a dictionary that stores the mappings from English lowercase letters to their replacements. Note that no two letters will be mapped to the same replacement.\n",
    "\n",
    "Define a function called `encrypt()` that takes in two parameters:\n",
    "\n",
    "- `my_dict` (type: `dict`): a dictionary as described above. \n",
    "- `msg` (type: `str`): a message consisting of only lowercase letters and spaces.\n",
    "\n",
    "The function returns the encrypted message using `my_dict` as the substitution cipher. Note that a space remains untouched in the encrypted message."
   ]
  },
  {
   "cell_type": "code",
   "execution_count": 4,
   "metadata": {},
   "outputs": [],
   "source": [
    "# Write your function definition here.\n",
    "\n",
    "def encrypt(my_dict, msg):\n",
    "    encrypted_msg = \"\"\n",
    "    for ch in msg:\n",
    "        if ch == \" \":\n",
    "            encrypted_ch = ch\n",
    "        else: \n",
    "            encrypted_ch = my_dict[ch]\n",
    "        \n",
    "        encrypted_msg += encrypted_ch\n",
    "    \n",
    "    return encrypted_msg\n"
   ]
  },
  {
   "cell_type": "code",
   "execution_count": 5,
   "metadata": {},
   "outputs": [
    {
     "name": "stdout",
     "output_type": "stream",
     "text": [
      "\n",
      "Testcase\n",
      "----------\n",
      "Expected: v ybir clguba\n",
      "Actual  : v ybir clguba\n"
     ]
    }
   ],
   "source": [
    "# Test cases used to test your function\n",
    "\n",
    "cipher_dict = {'a':'n', 'b':'o', 'c':'p',\n",
    "             'd':'q', 'e':'r', 'f':'s',\n",
    "             'g':'t','h':'u','i':'v',\n",
    "             'j':'w', 'k':'x','l':'y',\n",
    "             'm':'z','n':'a','o':'b',\n",
    "             'p':'c','q':'d','r':'e',\n",
    "             's':'f','t':'g','u':'h',\n",
    "             'v':'i', 'w':'j','x':'k',\n",
    "             'y':'l','z':'m'}\n",
    "\n",
    "print('\\nTestcase')\n",
    "print('-' * 10)\n",
    "print(\"Expected: v ybir clguba\")\n",
    "msg = 'i love python'\n",
    "print(\"Actual  : \" + encrypt(cipher_dict, msg))"
   ]
  },
  {
   "cell_type": "markdown",
   "metadata": {},
   "source": [
    "### Part (b) [ &bigstar;&bigstar; ]\n",
    "\n",
    "Now define a function called `decrypt()`. This function also takes in two parameters:\n",
    "\n",
    "- `my_dict` (type: `dict`): a dictionary as described above. \n",
    "- `encrypted_msg` (type: `str`): an __encrypted__ message.\n",
    "\n",
    "The function returns the original message, i.e., the message that has been encrypted into the string `encrypted_msg`."
   ]
  },
  {
   "cell_type": "code",
   "execution_count": 8,
   "metadata": {},
   "outputs": [],
   "source": [
    "# Write your function definition here.\n",
    "\n",
    "def decrypt(my_dict, encrypted_msg):\n",
    "    decrypt_msg = \"\"\n",
    "    for ch in encrypted_msg:\n",
    "        if ch == \" \":\n",
    "            decrypt_ch = ch\n",
    "        else:\n",
    "            decrypt_ch = my_dict[ch]\n",
    "       \n",
    "        decrypt_msg += decrypt_ch\n",
    "    return decrypt_msg\n"
   ]
  },
  {
   "cell_type": "code",
   "execution_count": 9,
   "metadata": {},
   "outputs": [
    {
     "name": "stdout",
     "output_type": "stream",
     "text": [
      "\n",
      "Testcase\n",
      "----------\n",
      "Expected: i love python\n",
      "Actual  : i love python\n"
     ]
    }
   ],
   "source": [
    "cipher_dict = {'a':'n', 'b':'o', 'c':'p',\n",
    "             'd':'q', 'e':'r', 'f':'s',\n",
    "             'g':'t','h':'u','i':'v',\n",
    "             'j':'w', 'k':'x','l':'y',\n",
    "             'm':'z','n':'a','o':'b',\n",
    "             'p':'c','q':'d','r':'e',\n",
    "             's':'f','t':'g','u':'h',\n",
    "             'v':'i', 'w':'j','x':'k',\n",
    "             'y':'l','z':'m'}\n",
    "\n",
    "print('\\nTestcase')\n",
    "print('-' * 10)\n",
    "msg = 'v ybir clguba'\n",
    "print(\"Expected: i love python\")\n",
    "print(\"Actual  : \" + decrypt(cipher_dict, msg))"
   ]
  },
  {
   "cell_type": "markdown",
   "metadata": {},
   "source": [
    "## Q2: Prime Numbers [ &bigstar;&bigstar; ] \n",
    "\n",
    "\n",
    "Define a function called ```create_prime_dict()``` that takes in a list of integers greater than 1 (without any duplicates) as its parameter. The function creates a dictionary that maps each integer in the list to a boolean value that indicates whether or not this integer is a prime number.\n",
    "\n",
    "Recall that a prime number is a number that is divisible only by 1 and itself.\n",
    "\n",
    "For example, ```create_prime_dict([2, 3, 5, 10, 20, 23])``` returns a dictionary that looks like the following: ```{2:True, 3:True, 5:True, 10:False, 20:False, 23:True}```."
   ]
  },
  {
   "cell_type": "code",
   "execution_count": 12,
   "metadata": {},
   "outputs": [],
   "source": [
    "# Put your code here:\n",
    "\n",
    "def is_prime(num):\n",
    "    for i in range (2, num):\n",
    "        if num % i == 0:\n",
    "            return False\n",
    "    return True\n",
    "\n",
    "def create_prime_dict(num_list):\n",
    "    my_dict = {}\n",
    "    \n",
    "    for num in num_list:\n",
    "#         if is_prime(num) == True:\n",
    "        my_dict[num] = is_prime(num)\n",
    "#         else:\n",
    "#             my_dict[num] = is_prime(num)\n",
    "    return my_dict\n"
   ]
  },
  {
   "cell_type": "code",
   "execution_count": 13,
   "metadata": {},
   "outputs": [
    {
     "name": "stdout",
     "output_type": "stream",
     "text": [
      "\n",
      "Testcase 1\n",
      "----------\n",
      "Expected: {2: True, 3: True, 5: True, 10: False, 20: False, 23: True}\n",
      "Actual  : {2: True, 3: True, 5: True, 10: False, 20: False, 23: True}\n",
      "\n",
      "Testcase 2\n",
      "----------\n",
      "Expected: {4: False, 5: True, 6: False, 8: False, 11: True, 12: False}\n",
      "Actual  : {4: False, 5: True, 6: False, 8: False, 11: True, 12: False}\n"
     ]
    }
   ],
   "source": [
    "print('\\nTestcase 1')\n",
    "print('-' * 10)\n",
    "my_list = [2, 3, 5, 10, 20, 23]\n",
    "print(\"Expected: {2: True, 3: True, 5: True, 10: False, 20: False, 23: True}\")\n",
    "print(\"Actual  : \" + str(create_prime_dict(my_list)))\n",
    "\n",
    "print('\\nTestcase 2')\n",
    "print('-' * 10)\n",
    "my_list = [4, 5, 6, 8, 11, 12]\n",
    "print(\"Expected: {4: False, 5: True, 6: False, 8: False, 11: True, 12: False}\")\n",
    "print(\"Actual  : \" + str(create_prime_dict(my_list)))"
   ]
  },
  {
   "cell_type": "markdown",
   "metadata": {},
   "source": [
    "## Q3: Facilities \n",
    "\n",
    "You are given a file called \"facilities.txt\" that stores the information of some facilities in SMU. Each line of the file contains the following columns of information, separated by tabs.\n",
    "\n",
    "```\n",
    "school    room_number    capacity    has_projector\n",
    "```\n",
    "\n",
    "Note that different schools may have the same room number. For example, both SIS and SOE may have an MR-5.1. But within each school the room numbers are unique.\n",
    "\n",
    "### Part (a) [ &bigstar;&bigstar; ]\n",
    "\n",
    "Write a program that allows a user to continuously check the details of a room until the user chooses to quit the program.\n",
    "\n",
    "A sample run of the program may look like the following:\n",
    "\n",
    "```\n",
    "Do you want to search for a facility? [Y|N] :Y\n",
    "Enter the school [LKCSB|SOE|SOL|SOA|SIS] :SOE\n",
    "Enter the room number :SR-3.1\n",
    "SOE SR-3.1 has a capacity of 50 and has a projector.\n",
    "\n",
    "Do you want to continue the search? [Y|N] :Y\n",
    "Enter the school [LKCSB|SOE|SOL|SOA|SIS] :SIS\n",
    "Enter the room number :MR-4.3\n",
    "SIS MR-4.3 has a capacity of 15 and does not have a projector.\n",
    "\n",
    "Do you want to continue the search? [Y|N] :Y\n",
    "Enter the school [LKCSB|SOE|SOL|SOA|SIS] :SIS\n",
    "Enter the room number :SR-3.1\n",
    "SIS SR-3.1 has a capacity of 60 and has a projector.\n",
    "\n",
    "Do you want to continue the search? [Y|N] :N\n",
    "Thanks for using our system!\n",
    "```"
   ]
  },
  {
   "cell_type": "code",
   "execution_count": 2,
   "metadata": {},
   "outputs": [
    {
     "name": "stdout",
     "output_type": "stream",
     "text": [
      "Do you want to search for a facility? [Y/N] :Y\n",
      "Enter the school [LKCSB|SOE|SOL|SOA|SIS] :SOE\n",
      "Enter the room number :SR-3.1\n",
      "SOE SR-3.1 has a capacity of 50 and has a projector.\n",
      "\n",
      "Do you want to search for a facility? [Y/N] :Y\n",
      "Enter the school [LKCSB|SOE|SOL|SOA|SIS] :SIS\n",
      "Enter the room number :MR-4.3\n",
      "SIS MR-4.3 has a capacity of 15 and does not has a projector.\n",
      "\n",
      "Do you want to search for a facility? [Y/N] :Y\n",
      "Enter the school [LKCSB|SOE|SOL|SOA|SIS] :SIS\n",
      "Enter the room number :SR-3.1\n",
      "SIS SR-3.1 has a capacity of 60 and has a projector.\n",
      "\n",
      "Do you want to search for a facility? [Y/N] :N\n",
      "Thanks for using our system!\n"
     ]
    }
   ],
   "source": [
    "# Put your code here:\n",
    "\n",
    "facilities_dict = {}\n",
    "\n",
    "with open (\"facilities.txt\", \"r\") as my_file:\n",
    "    for line in my_file:\n",
    "        line = line.rstrip(\"\\n\")\n",
    "        column = line.split(\"\\t\")\n",
    "        \n",
    "        school = column[0]\n",
    "        room_number = column[1]\n",
    "        capacity = column[2]\n",
    "        has_projector = column[3]\n",
    "        \n",
    "        key = (school, room_number)\n",
    "        value = (capacity, has_projector)\n",
    "        \n",
    "        facilities_dict[key] = value\n",
    "    \n",
    "#     print(facilities_dict.items())\n",
    "\n",
    "continue_search = input(\"Do you want to search for a facility? [Y/N] :\")\n",
    "\n",
    "while continue_search == \"Y\":\n",
    "    school = input(\"Enter the school [LKCSB|SOE|SOL|SOA|SIS] :\")\n",
    "    room_number = input(\"Enter the room number :\")\n",
    "    \n",
    "    key = (school, room_number)\n",
    "    value = facilities_dict[key]\n",
    "    \n",
    "    capacity = value[0]\n",
    "    has_projector = value[1]\n",
    "    \n",
    "    if has_projector == \"yes\":\n",
    "        projector_existence = \" and has a projector.\"\n",
    "    else:\n",
    "        projector_existence = \" and does not has a projector.\"\n",
    "    \n",
    "    print(school , room_number + \" has a capacity of \" + capacity + projector_existence)\n",
    "\n",
    "    continue_search = input(\"\\nDo you want to search for a facility? [Y/N] :\")\n",
    "    \n",
    "print(\"Thanks for using our system!\")\n"
   ]
  },
  {
   "cell_type": "markdown",
   "metadata": {},
   "source": [
    "### Part (b) [ &bigstar;&bigstar;&bigstar; ]\n",
    "\n",
    "Write a program that allows a user to continuously search for all the facilities within a school until the user chooses to quit the program.\n",
    "\n",
    "A sample run of the program may look like the following:\n",
    "\n",
    "```\n",
    "Do you want to search for the facilities within a school? [Y|N]:Y\n",
    "Enter the school [LKCSB|SOE|SOL|SOA|SIS]:SIS\n",
    "The following facilities are in SIS:\n",
    "    Room #    Cap    Projector?\n",
    "    ------    ---    ----------\n",
    "    SR-3.1    60     yes\n",
    "    SR-3.2    50     yes\n",
    "    SR-3.3    50     yes\n",
    "    CR-3.1    20     no\n",
    "    CR-3.2    20     no\n",
    "    CR-3.3    15     no\n",
    "    MR-4.1    20     yes\n",
    "    MR-4.3    15     no\n",
    "    MR-4.4    30     yes\n",
    "\n",
    "Do you want to search for the facilities within a school? [Y|N]:Y\n",
    "Enter the school [LKCSB|SOE|SOL|SOA|SIS]:SOL\n",
    "The following facilities are in SOL:\n",
    "    Room #    Cap    Projector?\n",
    "    ------    ---    ----------\n",
    "    SR-2.1    60     yes\n",
    "    SR-2.2    70     yes\n",
    "    SR-2.3    65     yes\n",
    "    CR-3.1    20     yes\n",
    "    CR-3.2    20     yes\n",
    "    CR-3.3    15     no\n",
    "    MR-5.1    25     yes\n",
    "    MR-5.2    20     no\n",
    "\n",
    "Do you want to search for the facilities within a school? [Y|N]:N\n",
    "Good-bye!\n",
    "```\n",
    "\n",
    "__Hint:__ You should use a different dictionary than the one used in Part (a) for this question. Note that here the key is only a school name."
   ]
  },
  {
   "cell_type": "code",
   "execution_count": null,
   "metadata": {},
   "outputs": [
    {
     "name": "stdout",
     "output_type": "stream",
     "text": [
      "Do you want to search for the facilities within a school? [Y/N] :Y\n",
      "Enter the school [LKCSB|SOE|SOL|SOA|SIS] :SIS\n",
      "['\\tMR-4.4\\t30\\tyes']\n",
      "['\\tMR-4.4\\t30\\tyes', '\\tMR-4.4\\t30\\tyes']\n",
      "['\\tMR-4.4\\t30\\tyes', '\\tMR-4.4\\t30\\tyes', '\\tMR-4.4\\t30\\tyes']\n",
      "The following facilities are in SIS:\n",
      "\tRoom #\tCap\tProjector?\n",
      "\t------\t---\t----------\n",
      "['\\tMR-4.4\\t30\\tyes', '\\tMR-4.4\\t30\\tyes', '\\tMR-4.4\\t30\\tyes']\n"
     ]
    }
   ],
   "source": [
    "# Put your code here:\n",
    "\n",
    "school_dict = {}\n",
    "\n",
    "with open (\"facilities.txt\", \"r\") as my_file:\n",
    "    for line in my_file:\n",
    "        line = line.rstrip(\"\\n\")\n",
    "        column = line.split(\"\\t\")\n",
    "        \n",
    "        school = column[0]\n",
    "        room_number = column[1]\n",
    "        capacity = column[2]\n",
    "        has_projector = column[3]\n",
    "        \n",
    "        key = (school)\n",
    "        value = (room_number, capacity, has_projector)\n",
    "        \n",
    "        school_dict[key] = value\n",
    "    \n",
    "#     print(schoo_dict.items())\n",
    "\n",
    "continue_search = input(\"Do you want to search for the facilities within a school? [Y/N] :\")\n",
    "\n",
    "while continue_search == \"Y\":\n",
    "    school = input(\"Enter the school [LKCSB|SOE|SOL|SOA|SIS] :\")\n",
    "    \n",
    "    key = (school)\n",
    "    value = school_dict[key]\n",
    "    \n",
    "    facility_list = []\n",
    "    \n",
    "    for facility_info in value:\n",
    "        room_number = value[0]\n",
    "        capacity = value[1]\n",
    "        has_projector = value[2] \n",
    "        \n",
    "        facility_line = (\"\\t\" + room_number + \"\\t\" + capacity + \"\\t\" + has_projector)\n",
    "        facility_list.append(facility_line)\n",
    "        \n",
    "        print(facility_list)\n",
    "        \n",
    "    \n",
    "    print(\"The following facilities are in \" + school + \":\" )\n",
    "    print(\"\\tRoom #\\tCap\\tProjector?\")\n",
    "    print(\"\\t\" + (\"-\" * len(\"Room #\")) + \"\\t\" + (\"-\" * len(\"Cap\")) + \"\\t\" + (\"-\" * len(\"Projector?\")))\n",
    "    print(facility_list)\n",
    "    \n",
    "#     print(room_number + \"\\t\" + capacity + \"\\t\" + projector_existence)\n",
    "\n",
    "    continue_search = input(\"\\nDo you want to search for the facilities within a school? [Y/N] :\")\n",
    "    \n",
    "print(\"Good-bye!\")\n",
    "\n",
    "### i still trying to solve\n"
   ]
  },
  {
   "cell_type": "markdown",
   "metadata": {},
   "source": [
    "### Part (c) [ &bigstar;&bigstar;&bigstar; ]\n",
    "\n",
    "Write a program that allows a user to continuously search for the facilities with a mininum capacity within a school until the user chooses to quit the program.\n",
    "\n",
    "A sample run of the program may look like the following:\n",
    "\n",
    "```\n",
    "Do you want to search for the facilities within a school? [Y|N]:Y\n",
    "Enter the school [LKCSB|SOE|SOL|SOA|SIS]:SIS\n",
    "Enter the minimum capacity you need:20\n",
    "The following facilities with a capacity of 20 or above are found in SIS:\n",
    "\tRoom #\tCap\tProjector?\n",
    "\t------\t---\t----------\n",
    "\tSR-3.1\t60\tyes\n",
    "\tSR-3.2\t50\tyes\n",
    "\tSR-3.3\t50\tyes\n",
    "\tCR-3.1\t20\tno\n",
    "\tCR-3.2\t20\tno\n",
    "\tMR-4.1\t20\tyes\n",
    "\tMR-4.4\t30\tyes\n",
    "\n",
    "Do you want to search for the facilities within a school? [Y|N]:Y\n",
    "Enter the school [LKCSB|SOE|SOL|SOA|SIS]:SOL\n",
    "Enter the minimum capacity you need:50\n",
    "The following facilities with a capacity of 50 or above are found in SOL:\n",
    "\tRoom #\tCap\tProjector?\n",
    "\t------\t---\t----------\n",
    "\tSR-2.1\t60\tyes\n",
    "\tSR-2.2\t70\tyes\n",
    "\tSR-2.3\t65\tyes\n",
    "\n",
    "Do you want to search for the facilities within a school? [Y|N]:N\n",
    "Good-bye!\n",
    "```\n",
    "\n",
    "__Hint:__ Do NOT include the capacity as part of a key. Here you should first retrieve all the facilities in the given school and then go through them one by one to find those satisfying the capacity requirement."
   ]
  },
  {
   "cell_type": "code",
   "execution_count": null,
   "metadata": {},
   "outputs": [],
   "source": [
    "# Put your code here:\n",
    "\n",
    "\n"
   ]
  },
  {
   "cell_type": "markdown",
   "metadata": {},
   "source": [
    "## Q4: Students and Schools [ &bigstar;&bigstar;&bigstar; ]\n",
    "\n",
    "Define a function called ```get_students_by_school```. The function takes in a dictionary as its parameter. This dictionary stores mappings from students to their corresponding schools. For example, the dictionary may contain ```'Joe Tan':'SIS'``` as a (key, value) pair.\n",
    "\n",
    "The function returns a new dictionary that stores mappings from each school to a list of students in that school. For example, if in the original dictionary there are two students, \"Joe Tan\" and \"Wendy Li\", who are from SIS, then in the returned new dictionary, the value associated with the key ```'SIS'``` should be ```['Joe Tan', 'Wendy Li']```."
   ]
  },
  {
   "cell_type": "code",
   "execution_count": 3,
   "metadata": {},
   "outputs": [],
   "source": [
    "# Put your code here:\n",
    "\n",
    "def get_students_by_school(stud_sch_dict):\n",
    "    results_dict = {}\n",
    "    \n",
    "    for student in stud_sch_dict:\n",
    "        school = stud_sch_dict[student]\n",
    "        \n",
    "        if school in results_dict:\n",
    "            student_list = results_dict[school]\n",
    "            student_list.append(student)\n",
    "        else: \n",
    "            results_dict[school] = [student]\n",
    "    return results_dict\n"
   ]
  },
  {
   "cell_type": "code",
   "execution_count": 4,
   "metadata": {},
   "outputs": [
    {
     "name": "stdout",
     "output_type": "stream",
     "text": [
      "\n",
      "Testcase\n",
      "----------\n",
      "Expected: \n",
      "SIS :\t['Joe Tan', 'Ng Yew Tung', 'Wendy Li']\n",
      "SOE :\t['Alan Lee']\n",
      "SOSS :\t['George Wong', 'Jerry Lim']\n",
      "SOL :\t['Liu Chee Hwa']\n",
      "\n",
      "Actual  : \n",
      "SIS :\t['Joe Tan', 'Ng Yew Tung', 'Wendy Li']\n",
      "SOE :\t['Alan Lee']\n",
      "SOSS :\t['George Wong', 'Jerry Lim']\n",
      "SOL :\t['Liu Chee Hwa']\n"
     ]
    }
   ],
   "source": [
    "print('\\nTestcase')\n",
    "print('-' * 10)\n",
    "student_to_school_dict = {'Joe Tan':'SIS', 'Alan Lee':'SOE', 'George Wong':'SOSS', 'Liu Chee Hwa':'SOL', 'Ng Yew Tung':'SIS', 'Wendy Li':'SIS', 'Jerry Lim':'SOSS'}\n",
    "print(\"Expected: \")\n",
    "print(\"SIS :\\t['Joe Tan', 'Ng Yew Tung', 'Wendy Li']\")\n",
    "print(\"SOE :\\t['Alan Lee']\")\n",
    "print(\"SOSS :\\t['George Wong', 'Jerry Lim']\")\n",
    "print(\"SOL :\\t['Liu Chee Hwa']\")\n",
    "print(\"\\nActual  : \")\n",
    "school_to_student_dict = get_students_by_school(student_to_school_dict)\n",
    "for key in school_to_student_dict:\n",
    "    print(key + \" :\\t\" + str(school_to_student_dict[key]))\n"
   ]
  },
  {
   "cell_type": "markdown",
   "metadata": {},
   "source": [
    "## Q5: Word Counts\n",
    "\n",
    "### Background\n",
    "\n",
    "In data analytics, in order to quickly get a gist of what a collection of articles is talking about, __word clouds__ have been popularly used. \n",
    "\n",
    "Below is an example word cloud:"
   ]
  },
  {
   "cell_type": "markdown",
   "metadata": {},
   "source": [
    "<img src=\"https://sebastianraschka.com/images/blog/2014/twitter-wordcloud/my_twitter_wordcloud_1.jpg\" width=\"500\">"
   ]
  },
  {
   "cell_type": "markdown",
   "metadata": {},
   "source": [
    "In a word cloud, a word shown in a bigger size has appeared more frequently inside the collection of articles being analyzed whereas a word shown in a smaller size has appeared less frequently.\n",
    "\n",
    "In order to draw a word cloud, we need to first count the frequencies of each unique word inside the collection of articles that we want to analyze.\n",
    "\n",
    "### The Question\n",
    "\n",
    "### Part (a) [ &bigstar;&bigstar;&bigstar; ]\n",
    "\n",
    "Define a function called ```count_words_in_file()```. The function takes in as its parameter the name of a file, where each line of the file is the content of one article.\n",
    "\n",
    "The function returns a dictionary that stores the mappings from all the unique words found in the file to their total counts in the file.\n",
    "\n",
    "For example, if the word \"the\" has appeared 10 times the file, then the mapping ```'the':10``` should be stored inside the dictionary.\n",
    "\n",
    "You need to turn everything into lowercases before counting. For example, \"The\" and \"the\" are both counted as ```'the'``` in the dictionary.\n",
    "\n",
    "Simply use ```line.split()``` to break down a line into a list of words. You do not need to handle punctuation marks for this question."
   ]
  },
  {
   "cell_type": "code",
   "execution_count": 6,
   "metadata": {},
   "outputs": [],
   "source": [
    "# Put your code here:\n",
    "\n",
    "def count_words_in_file(file_name):\n",
    "    \n",
    "    result_dict = {}\n",
    "    \n",
    "    with open (file_name, \"r\") as my_file:\n",
    "        for line in my_file:\n",
    "            line = line.rstrip(\"\\n\")\n",
    "            line = line.lower()\n",
    "            line_words = line.split()\n",
    "\n",
    "            for word in line_words:\n",
    "                if word not in result_dict:\n",
    "                    result_dict[word] = 1\n",
    "                else:\n",
    "                    result_dict[word] += 1\n",
    "        return result_dict\n"
   ]
  },
  {
   "cell_type": "markdown",
   "metadata": {},
   "source": [
    "We will now test your function with a file called \"spam_sms.txt\". This file stores many spam SMS messages. The data is obtained from the following link: https://www.kaggle.com/uciml/sms-spam-collection-dataset . Details about the data can be found here: http://www.dt.fee.unicamp.br/~tiago/smsspamcollection/ .\n",
    "\n"
   ]
  },
  {
   "cell_type": "code",
   "execution_count": 7,
   "metadata": {},
   "outputs": [
    {
     "name": "stdout",
     "output_type": "stream",
     "text": [
      "\n",
      "Testcase 1\n",
      "----------\n",
      "Expected: 204\n",
      "Actual  : 204\n",
      "\n",
      "Testcase 2\n",
      "----------\n",
      "Expected: 58\n",
      "Actual  : 58\n",
      "\n",
      "Testcase 3\n",
      "----------\n",
      "Expected: 1\n",
      "Actual  : 1\n"
     ]
    }
   ],
   "source": [
    "# Test Cases:\n",
    "\n",
    "file = 'spam_sms.txt'\n",
    "my_dict = count_words_in_file(file)\n",
    "\n",
    "print('\\nTestcase 1')\n",
    "print('-' * 10)\n",
    "print(\"Expected: 204\")\n",
    "print(\"Actual  : \" + str(my_dict['the']))\n",
    "\n",
    "print('\\nTestcase 2')\n",
    "print('-' * 10)\n",
    "print(\"Expected: 58\")\n",
    "print(\"Actual  : \" + str(my_dict['prize']))\n",
    "\n",
    "print('\\nTestcase 3')\n",
    "print('-' * 10)\n",
    "print(\"Expected: 1\")\n",
    "print(\"Actual  : \" + str(my_dict['presleys']))\n"
   ]
  },
  {
   "cell_type": "markdown",
   "metadata": {},
   "source": [
    "### Part (b) [ &bigstar;&bigstar; ]\n",
    "\n",
    "Now display all the words in the dictionary whose lengths are at least 4 and whose frequencies are above 50. \n",
    "\n",
    "Do you think these words can tell you something about a common theme in all these spam SMS messages?"
   ]
  },
  {
   "cell_type": "markdown",
   "metadata": {},
   "source": [
    "You should get the following output:\n",
    "\n",
    "```\n",
    "free : 171\n",
    "text : 110\n",
    "have : 135\n",
    "prize : 58\n",
    "claim : 105\n",
    "call : 336\n",
    "your : 258\n",
    "mobile : 109\n",
    "with : 108\n",
    "from : 127\n",
    "send : 65\n",
    "reply : 101\n",
    "please : 52\n",
    "nokia : 64\n",
    "now! : 70\n",
    "cash : 56\n",
    "contact : 56\n",
    "this : 79\n",
    "stop : 85\n",
    "only : 66\n",
    "just : 78\n",
    "```"
   ]
  },
  {
   "cell_type": "code",
   "execution_count": 9,
   "metadata": {},
   "outputs": [
    {
     "name": "stdout",
     "output_type": "stream",
     "text": [
      "prize:58\n",
      "claim:105\n",
      "mobile:109\n",
      "reply:101\n",
      "please:52\n",
      "nokia:64\n",
      "contact:56\n"
     ]
    }
   ],
   "source": [
    "# Put your code here:\n",
    "\n",
    "for key in my_dict:\n",
    "    frequency = my_dict[key]\n",
    "    if len(key) > 4 and frequency > 50:\n",
    "        print(key + \":\" + str(frequency))\n"
   ]
  },
  {
   "cell_type": "markdown",
   "metadata": {},
   "source": [
    "### Part (c) [ &bigstar;&bigstar;&bigstar; ]\n",
    "\n",
    "Are you able to find the top-10 frequent words inside the dictionary? You're expected to get the following top words and their frequencies:\n",
    "\n",
    "\n",
    "```\n",
    "[('to', 684), ('a', 375), ('call', 336), ('your', 258), ('you', 237), ('the', 204), ('for', 196), ('or', 188), ('free', 171), ('2', 169)]\n",
    "```"
   ]
  },
  {
   "cell_type": "code",
   "execution_count": 10,
   "metadata": {},
   "outputs": [
    {
     "name": "stdout",
     "output_type": "stream",
     "text": [
      "[('to', 684), ('a', 375), ('call', 336), ('your', 258), ('you', 237), ('the', 204), ('for', 196), ('or', 188), ('free', 171), ('2', 169)]\n"
     ]
    }
   ],
   "source": [
    "# Put your code here:\n",
    "\n",
    "top_words_list = []\n",
    "\n",
    "for i in range (10):\n",
    "    \n",
    "    top_word = \"\"\n",
    "    highest_freq = 0\n",
    "    for word in my_dict:\n",
    "        frequency = my_dict[word]\n",
    "        word_tuple = (word, frequency)\n",
    "        \n",
    "        if word_tuple not in top_words_list and frequency > highest_freq:\n",
    "            highest_freq = frequency\n",
    "            top_word = word\n",
    "    top_words_list.append((top_word, highest_freq))\n",
    "\n",
    "print(top_words_list)\n"
   ]
  },
  {
   "cell_type": "markdown",
   "metadata": {},
   "source": [
    "## Q6: Employees [ &bigstar;&bigstar;&bigstar;]\n",
    "\n",
    "You are given a file called \"employees.txt\" that stores the information of some employees inside an organization. Each line of the file is about a single employee. For each employee, there are several pieces of information given. However, different employees may have different pieces of information given in the file. Take a look at the file to understand its structure.\n",
    "\n",
    "__You can assume that each line always contains the ID and name of an employee.__\n",
    "\n",
    "Write a prgram that allows a user to check the details of any employee. The user needs to first enter the employee's ID. If the ID is found, the name of the employee should be displayed first. After that, the program asks what information the user wants to know about the employee and displays the information accordingly. If the ID is not found or the requested information is not found, the program should display \"Not found!\"\n",
    "\n",
    "See a sample run of the program below:\n",
    "\n",
    "```\n",
    "Enter an employee ID: 3\n",
    "This employee is Peter Ng.\n",
    "    Enter a field name or 'S' to stop: title\n",
    "    The title is manager.\n",
    "    Enter a field name or 'S' to stop: marriage status\n",
    "    The marriage status is married.\n",
    "    Enter a field name or 'S' to stop: phone\n",
    "    Not found!\n",
    "    Enter a field name or 'S' to stop: S\n",
    "\n",
    "Do you want to search for another employee? [Y|N]:Y\n",
    "Enter an employee ID: 4\n",
    "Not found!\n",
    "\n",
    "Do you want to search for another employee? [Y|N]:Y\n",
    "Enter an employee ID: 10\n",
    "This employee is George Khoo.\n",
    "    Enter a field name or 'S' to stop: title\n",
    "    Not found!\n",
    "    Enter a field name or 'S' to stop: phone\n",
    "    The phone is 67893456.\n",
    "    Enter a field name or 'S' to stop: S\n",
    "\n",
    "Do you want to search for another employee? [Y|N]:N\n",
    "\n",
    "Good-bye!\n",
    "```\n",
    "\n",
    "__Hint:__ You should store the data in an appropriate dictionary such that when you search for the information of an employee, you only need to do dictionary lookup and no for-loops."
   ]
  },
  {
   "cell_type": "code",
   "execution_count": null,
   "metadata": {},
   "outputs": [],
   "source": [
    "# Put your code here:\n",
    "\n",
    "with open(\"employees.txt\", \"r\") as my_file:\n",
    "    emp = line.rstrip(\"\\n\")\n",
    "    emp_column = line.split(\"\\t\")\n",
    "    emp_id = column[0[3:]]\n",
    "    emp_name = column[1[5:]]\n",
    "    emp_other = column[2:]\n",
    "    for emp_detail in emp_other:\n",
    "        emp_detail_list = emp_detail.split(\":\")\n",
    "        \n",
    "    \n",
    "\n",
    "employee_id = int(input(\"Enter an employee ID: \"))\n",
    "\n",
    "\n",
    "### still trying to solve"
   ]
  },
  {
   "cell_type": "code",
   "execution_count": null,
   "metadata": {},
   "outputs": [],
   "source": []
  }
 ],
 "metadata": {
  "kernelspec": {
   "display_name": "Python 3 (ipykernel)",
   "language": "python",
   "name": "python3"
  },
  "language_info": {
   "codemirror_mode": {
    "name": "ipython",
    "version": 3
   },
   "file_extension": ".py",
   "mimetype": "text/x-python",
   "name": "python",
   "nbconvert_exporter": "python",
   "pygments_lexer": "ipython3",
   "version": "3.9.12"
  }
 },
 "nbformat": 4,
 "nbformat_minor": 2
}
