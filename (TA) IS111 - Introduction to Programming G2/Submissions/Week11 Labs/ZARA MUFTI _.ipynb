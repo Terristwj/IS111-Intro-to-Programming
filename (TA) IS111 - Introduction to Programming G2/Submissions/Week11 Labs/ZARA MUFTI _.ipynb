{
 "cells": [
  {
   "cell_type": "markdown",
   "metadata": {},
   "source": [
    "<table class=\"table table-bordered\">\n",
    "    <tr>\n",
    "        <th style=\"text-align:center; width:35%\"><img src='https://drive.google.com/uc?export=view&id=1zIB3Nw_z8N2SJSSdd2yWQIsDS0MGPYKm' style=\"width: 300px; height: 90px; \"></th>\n",
    "        <th style=\"text-align:center;\"><h3>IS111 - Lab 8</h3><h3>Dictionaries</h3></th>\n",
    "    </tr>\n",
    "</table>"
   ]
  },
  {
   "cell_type": "markdown",
   "metadata": {},
   "source": [
    "## Q1: Substitution Cipher\n",
    "\n",
    "\"A __substitution cipher__ is a method of encoding by which units of plaintext are replaced with ciphertext, according to a fixed system.\" See https://en.wikipedia.org/wiki/Substitution_cipher.\n",
    "\n",
    "In this question, we consider a simple substitution cipher that replaces each letter in the original message with another letter.\n",
    "\n",
    "### Part (a) [ &bigstar; ]\n",
    "\n",
    "You are given a dictionary that stores the mappings from English lowercase letters to their replacements. Note that no two letters will be mapped to the same replacement.\n",
    "\n",
    "Define a function called `encrypt()` that takes in two parameters:\n",
    "\n",
    "- `my_dict` (type: `dict`): a dictionary as described above. \n",
    "- `msg` (type: `str`): a message consisting of only lowercase letters and spaces.\n",
    "\n",
    "The function returns the encrypted message using `my_dict` as the substitution cipher. Note that a space remains untouched in the encrypted message."
   ]
  },
  {
   "cell_type": "code",
   "execution_count": 5,
   "metadata": {},
   "outputs": [],
   "source": [
    "# Write your function definition here.\n",
    "def encrypt(my_dict, msg):\n",
    "    encrypted_string = \"\"\n",
    "    for ch in msg:\n",
    "        if ch in my_dict:\n",
    "            for key, value in my_dict.items():\n",
    "                if ch == key:\n",
    "                    encrypted_string += value\n",
    "        else:\n",
    "            encrypted_string += ch\n",
    "    return encrypted_string\n"
   ]
  },
  {
   "cell_type": "code",
   "execution_count": 6,
   "metadata": {},
   "outputs": [
    {
     "name": "stdout",
     "output_type": "stream",
     "text": [
      "\n",
      "Testcase\n",
      "----------\n",
      "Expected: v ybir clguba\n",
      "Actual  : v ybir clguba\n"
     ]
    }
   ],
   "source": [
    "# Test cases used to test your function\n",
    "\n",
    "cipher_dict = {'a':'n', 'b':'o', 'c':'p',\n",
    "             'd':'q', 'e':'r', 'f':'s',\n",
    "             'g':'t','h':'u','i':'v',\n",
    "             'j':'w', 'k':'x','l':'y',\n",
    "             'm':'z','n':'a','o':'b',\n",
    "             'p':'c','q':'d','r':'e',\n",
    "             's':'f','t':'g','u':'h',\n",
    "             'v':'i', 'w':'j','x':'k',\n",
    "             'y':'l','z':'m'}\n",
    "\n",
    "print('\\nTestcase')\n",
    "print('-' * 10)\n",
    "print(\"Expected: v ybir clguba\")\n",
    "msg = 'i love python'\n",
    "print(\"Actual  : \" + encrypt(cipher_dict, msg))"
   ]
  },
  {
   "cell_type": "markdown",
   "metadata": {},
   "source": [
    "### Part (b) [ &bigstar;&bigstar; ]\n",
    "\n",
    "Now define a function called `decrypt()`. This function also takes in two parameters:\n",
    "\n",
    "- `my_dict` (type: `dict`): a dictionary as described above. \n",
    "- `encrypted_msg` (type: `str`): an __encrypted__ message.\n",
    "\n",
    "The function returns the original message, i.e., the message that has been encrypted into the string `encrypted_msg`."
   ]
  },
  {
   "cell_type": "code",
   "execution_count": 22,
   "metadata": {},
   "outputs": [],
   "source": [
    "# Write your function definition here.\n",
    "def decrypt(my_dict, encrypted_msg):\n",
    "#using .items() \n",
    "    decrypted_string = \"\"\n",
    "    \n",
    "    for ch in encrypted_msg:\n",
    "        if ch in my_dict:\n",
    "            for key, value in my_dict.items():\n",
    "                if ch == key:\n",
    "                    decrypted_string += value\n",
    "        else:\n",
    "            decrypted_string += ch\n",
    "    \n",
    "    return decrypted_string\n",
    "\n",
    "# using .keys()\n",
    "\n",
    "    # decrypted_string = \"\"\n",
    "    \n",
    "    # for ch in encrypted_msg:\n",
    "    #     if ch in my_dict:\n",
    "    #         for key in my_dict.keys():\n",
    "    #             if ch == key:\n",
    "    #                 decrypted_string += my_dict[key]\n",
    "    #     else:\n",
    "    #         decrypted_string += ch\n",
    "    \n",
    "    # return decrypted_string\n"
   ]
  },
  {
   "cell_type": "code",
   "execution_count": 23,
   "metadata": {},
   "outputs": [
    {
     "name": "stdout",
     "output_type": "stream",
     "text": [
      "\n",
      "Testcase\n",
      "----------\n",
      "Expected: i love python\n",
      "Actual  : i love python\n"
     ]
    }
   ],
   "source": [
    "cipher_dict = {'a':'n', 'b':'o', 'c':'p',\n",
    "             'd':'q', 'e':'r', 'f':'s',\n",
    "             'g':'t','h':'u','i':'v',\n",
    "             'j':'w', 'k':'x','l':'y',\n",
    "             'm':'z','n':'a','o':'b',\n",
    "             'p':'c','q':'d','r':'e',\n",
    "             's':'f','t':'g','u':'h',\n",
    "             'v':'i', 'w':'j','x':'k',\n",
    "             'y':'l','z':'m'}\n",
    "\n",
    "print('\\nTestcase')\n",
    "print('-' * 10)\n",
    "msg = 'v ybir clguba'\n",
    "print(\"Expected: i love python\")\n",
    "print(\"Actual  : \" + decrypt(cipher_dict, msg))"
   ]
  },
  {
   "cell_type": "markdown",
   "metadata": {},
   "source": [
    "## Q2: Prime Numbers [ &bigstar;&bigstar; ] \n",
    "\n",
    "\n",
    "Define a function called ```create_prime_dict()``` that takes in a list of integers greater than 1 (without any duplicates) as its parameter. The function creates a dictionary that maps each integer in the list to a boolean value that indicates whether or not this integer is a prime number.\n",
    "\n",
    "Recall that a prime number is a number that is divisible only by 1 and itself.\n",
    "\n",
    "For example, ```create_prime_dict([2, 3, 5, 10, 20, 23])``` returns a dictionary that looks like the following: ```{2:True, 3:True, 5:True, 10:False, 20:False, 23:True}```."
   ]
  },
  {
   "cell_type": "code",
   "execution_count": 43,
   "metadata": {},
   "outputs": [],
   "source": [
    "# Put your code here:\n",
    "def create_prime_dict(int_list):\n",
    "    is_prime_dict = {}\n",
    "    for num in int_list:\n",
    "        is_prime_dict[num] = True\n",
    "        for i in range(2, num):\n",
    "            if num % i == 0:\n",
    "                is_prime_dict[num] = False\n",
    "                break\n",
    "    \n",
    "    return is_prime_dict\n"
   ]
  },
  {
   "cell_type": "code",
   "execution_count": 44,
   "metadata": {},
   "outputs": [
    {
     "name": "stdout",
     "output_type": "stream",
     "text": [
      "\n",
      "Testcase 1\n",
      "----------\n",
      "Expected: {2: True, 3: True, 5: True, 10: False, 20: False, 23: True}\n",
      "Actual  : {2: True, 3: True, 5: True, 10: False, 20: False, 23: True}\n",
      "\n",
      "Testcase 2\n",
      "----------\n",
      "Expected: {4: False, 5: True, 6: False, 8: False, 11: True, 12: False}\n",
      "Actual  : {4: False, 5: True, 6: False, 8: False, 11: True, 12: False}\n"
     ]
    }
   ],
   "source": [
    "print('\\nTestcase 1')\n",
    "print('-' * 10)\n",
    "my_list = [2, 3, 5, 10, 20, 23]\n",
    "print(\"Expected: {2: True, 3: True, 5: True, 10: False, 20: False, 23: True}\")\n",
    "print(\"Actual  : \" + str(create_prime_dict(my_list)))\n",
    "\n",
    "print('\\nTestcase 2')\n",
    "print('-' * 10)\n",
    "my_list = [4, 5, 6, 8, 11, 12]\n",
    "print(\"Expected: {4: False, 5: True, 6: False, 8: False, 11: True, 12: False}\")\n",
    "print(\"Actual  : \" + str(create_prime_dict(my_list)))"
   ]
  },
  {
   "cell_type": "markdown",
   "metadata": {},
   "source": [
    "## Q3: Facilities \n",
    "\n",
    "You are given a file called \"facilities.txt\" that stores the information of some facilities in SMU. Each line of the file contains the following columns of information, separated by tabs.\n",
    "\n",
    "```\n",
    "school    room_number    capacity    has_projector\n",
    "```\n",
    "\n",
    "Note that different schools may have the same room number. For example, both SIS and SOE may have an MR-5.1. But within each school the room numbers are unique.\n",
    "\n",
    "### Part (a) [ &bigstar;&bigstar; ]\n",
    "\n",
    "Write a program that allows a user to continuously check the details of a room until the user chooses to quit the program.\n",
    "\n",
    "A sample run of the program may look like the following:\n",
    "\n",
    "```\n",
    "Do you want to search for a facility? [Y|N] :Y\n",
    "Enter the school [LKCSB|SOE|SOL|SOA|SIS] :SOE\n",
    "Enter the room number :SR-3.1\n",
    "SOE SR-3.1 has a capacity of 50 and has a projector.\n",
    "\n",
    "Do you want to continue the search? [Y|N] :Y\n",
    "Enter the school [LKCSB|SOE|SOL|SOA|SIS] :SIS\n",
    "Enter the room number :MR-4.3\n",
    "SIS MR-4.3 has a capacity of 15 and does not have a projector.\n",
    "\n",
    "Do you want to continue the search? [Y|N] :Y\n",
    "Enter the school [LKCSB|SOE|SOL|SOA|SIS] :SIS\n",
    "Enter the room number :SR-3.1\n",
    "SIS SR-3.1 has a capacity of 60 and has a projector.\n",
    "\n",
    "Do you want to continue the search? [Y|N] :N\n",
    "Thanks for using our system!\n",
    "```"
   ]
  },
  {
   "cell_type": "code",
   "execution_count": 4,
   "metadata": {},
   "outputs": [
    {
     "name": "stdout",
     "output_type": "stream",
     "text": [
      "SOE SR-3.1 has a capacity of 50 and has a projector.\n",
      "SIS MR-4.3 has a capacity of 15 and does not have a projector.\n",
      "SIS SR-3.1 has a capacity of 60 and has a projector.\n",
      "Thanks for using our system!\n"
     ]
    }
   ],
   "source": [
    "# Put your code here:\n",
    "\n",
    "def get_facility_info(filename):\n",
    "    facility_dict = {}\n",
    "    with open(filename, 'r') as my_file:\n",
    "        for line in my_file:\n",
    "            line = line.rstrip('\\n')\n",
    "            columns = line.split('\\t')\n",
    "            school = columns[0]\n",
    "            room, capacity, has_projector = columns[1], columns[2], columns[3]\n",
    "\n",
    "            if school not in facility_dict:\n",
    "                facility_dict[school] = {room: (capacity, has_projector)} #makes room another key for the key (makes getting info easier)\n",
    "            else:\n",
    "                facility_dict[school][room] = (capacity, has_projector) #since room is also a key for the dict\n",
    "    \n",
    "    return facility_dict\n",
    "\n",
    "facility_dict = get_facility_info('facilities.txt')\n",
    "\n",
    "user_search = input(\"Do you want to search for a facility? [Y|N] :\")\n",
    "\n",
    "while user_search !=\"N\":\n",
    "    school_search = input(\"Enter the school [LKCSB|SOE|SOL|SOA|SIS] :\")\n",
    "    room_number = input(\"Enter the room number :\")\n",
    "    \n",
    "    if facility_dict[school_search][room_number][1] == 'yes':\n",
    "        has_projector = 'has a projector.'\n",
    "    else:\n",
    "        has_projector = 'does not have a projector.'\n",
    "    \n",
    "    print(school_search, room_number, 'has a capacity of', facility_dict[school_search][room_number][0], 'and', has_projector)\n",
    "\n",
    "    user_search = input(\"Do you want to continue the search [Y|N] :\")\n",
    "print(\"Thanks for using our system!\")\n"
   ]
  },
  {
   "cell_type": "markdown",
   "metadata": {},
   "source": [
    "### Part (b) [ &bigstar;&bigstar;&bigstar; ]\n",
    "\n",
    "Write a program that allows a user to continuously search for all the facilities within a school until the user chooses to quit the program.\n",
    "\n",
    "A sample run of the program may look like the following:\n",
    "\n",
    "```\n",
    "Do you want to search for the facilities within a school? [Y|N]:Y\n",
    "Enter the school [LKCSB|SOE|SOL|SOA|SIS]:SIS\n",
    "The following facilities are in SIS:\n",
    "    Room #    Cap    Projector?\n",
    "    ------    ---    ----------\n",
    "    SR-3.1    60     yes\n",
    "    SR-3.2    50     yes\n",
    "    SR-3.3    50     yes\n",
    "    CR-3.1    20     no\n",
    "    CR-3.2    20     no\n",
    "    CR-3.3    15     no\n",
    "    MR-4.1    20     yes\n",
    "    MR-4.3    15     no\n",
    "    MR-4.4    30     yes\n",
    "\n",
    "Do you want to search for the facilities within a school? [Y|N]:Y\n",
    "Enter the school [LKCSB|SOE|SOL|SOA|SIS]:SOL\n",
    "The following facilities are in SOL:\n",
    "    Room #    Cap    Projector?\n",
    "    ------    ---    ----------\n",
    "    SR-2.1    60     yes\n",
    "    SR-2.2    70     yes\n",
    "    SR-2.3    65     yes\n",
    "    CR-3.1    20     yes\n",
    "    CR-3.2    20     yes\n",
    "    CR-3.3    15     no\n",
    "    MR-5.1    25     yes\n",
    "    MR-5.2    20     no\n",
    "\n",
    "Do you want to search for the facilities within a school? [Y|N]:N\n",
    "Good-bye!\n",
    "```\n",
    "\n",
    "__Hint:__ You should use a different dictionary than the one used in Part (a) for this question. Note that here the key is only a school name."
   ]
  },
  {
   "cell_type": "code",
   "execution_count": 8,
   "metadata": {},
   "outputs": [
    {
     "name": "stdout",
     "output_type": "stream",
     "text": [
      "The following facilities are in SOL:\n",
      "\tRoom # \t Cap \t Projector?\n",
      "\t------ \t --- \t ----------\n",
      "\tSR-2.1 \t 60 \t yes\n",
      "\tSR-2.2 \t 70 \t yes\n",
      "\tSR-2.3 \t 65 \t yes\n",
      "\tCR-3.1 \t 20 \t yes\n",
      "\tCR-3.2 \t 20 \t yes\n",
      "\tCR-3.3 \t 15 \t no\n",
      "\tMR-5.1 \t 25 \t yes\n",
      "\tMR-5.2 \t 20 \t no\n",
      "Good-bye!\n"
     ]
    }
   ],
   "source": [
    "# Put your code here:\n",
    "\n",
    "def get_all_facilities(filename):\n",
    "    info_dict = {}\n",
    "    \n",
    "    with open(filename, 'r') as my_file:\n",
    "        for line in my_file:\n",
    "            line = line.rstrip('\\n')\n",
    "            columns = line.split('\\t')\n",
    "            school = columns[0]\n",
    "            room, capacity, projector = columns[1], columns[2], columns[3] \n",
    "            \n",
    "            if school not in info_dict:\n",
    "                info_dict[school] = {room: (capacity, projector)} #create a dictionary with room as the key\n",
    "            else:\n",
    "                info_dict[school][room] = (capacity, projector) #this will create a tuple. Tuple[0] = capacity, tuple[1] = projector\n",
    "    return info_dict\n",
    "    \n",
    "facility_dict = get_all_facilities('facilities.txt')\n",
    "    \n",
    "facility_search = input(\"Do you want to search for the facilities within a school? [Y|N]:\")\n",
    "while facility_search != \"N\":\n",
    "    school_search = input(\"Enter the school [LKCSB|SOE|SOL|SOA|SIS]:\")\n",
    "    print(\"The following facilities are in\", school_search + ':')\n",
    "    print('\\tRoom #','\\t Cap','\\t Projector?')\n",
    "    print('\\t'+'-'*6,'\\t','-'*3,'\\t','-'*10)\n",
    "        \n",
    "    for room, details in facility_dict[school_search].items():\n",
    "            print('\\t'+room,'\\t',details[0],'\\t',details[1])\n",
    "\n",
    "\n",
    "    facility_search = input(\"\\nDo you want to search for the facilities within a school? [Y|N]:\")\n",
    "\n",
    "print(\"Good-bye!\")"
   ]
  },
  {
   "cell_type": "markdown",
   "metadata": {},
   "source": [
    "### Part (c) [ &bigstar;&bigstar;&bigstar; ]\n",
    "\n",
    "Write a program that allows a user to continuously search for the facilities with a mininum capacity within a school until the user chooses to quit the program.\n",
    "\n",
    "A sample run of the program may look like the following:\n",
    "\n",
    "```\n",
    "Do you want to search for the facilities within a school? [Y|N]:Y\n",
    "Enter the school [LKCSB|SOE|SOL|SOA|SIS]:SIS\n",
    "Enter the minimum capacity you need:20\n",
    "The following facilities with a capacity of 20 or above are found in SIS:\n",
    "\tRoom #\tCap\tProjector?\n",
    "\t------\t---\t----------\n",
    "\tSR-3.1\t60\tyes\n",
    "\tSR-3.2\t50\tyes\n",
    "\tSR-3.3\t50\tyes\n",
    "\tCR-3.1\t20\tno\n",
    "\tCR-3.2\t20\tno\n",
    "\tMR-4.1\t20\tyes\n",
    "\tMR-4.4\t30\tyes\n",
    "\n",
    "Do you want to search for the facilities within a school? [Y|N]:Y\n",
    "Enter the school [LKCSB|SOE|SOL|SOA|SIS]:SOL\n",
    "Enter the minimum capacity you need:50\n",
    "The following facilities with a capacity of 50 or above are found in SOL:\n",
    "\tRoom #\tCap\tProjector?\n",
    "\t------\t---\t----------\n",
    "\tSR-2.1\t60\tyes\n",
    "\tSR-2.2\t70\tyes\n",
    "\tSR-2.3\t65\tyes\n",
    "\n",
    "Do you want to search for the facilities within a school? [Y|N]:N\n",
    "Good-bye!\n",
    "```\n",
    "\n",
    "__Hint:__ Do NOT include the capacity as part of a key. Here you should first retrieve all the facilities in the given school and then go through them one by one to find those satisfying the capacity requirement."
   ]
  },
  {
   "cell_type": "code",
   "execution_count": 45,
   "metadata": {},
   "outputs": [
    {
     "name": "stdout",
     "output_type": "stream",
     "text": [
      "Do you want to search for the facilities within a school? [Y|N]:SIS\n",
      "Enter the school [LKCSB|SOE|SOL|SOA|SIS]:SIS\n",
      "Enter the minimum capacity you need:20\n",
      "The following facilities with a capacity of 20 or above are found in SIS:\n",
      "\tRoom # \tCap \tProjector?\n",
      "\t------ \t--- \t----------\n",
      "\tSR-3.1\t60\tyes\n",
      "\tSR-3.2\t50\tyes\n",
      "\tSR-3.3\t50\tyes\n",
      "\tCR-3.1\t20\tno\n",
      "\tCR-3.2\t20\tno\n",
      "\tMR-4.1\t20\tyes\n",
      "\tMR-4.4\t30\tyes\n"
     ]
    },
    {
     "ename": "KeyboardInterrupt",
     "evalue": "Interrupted by user",
     "output_type": "error",
     "traceback": [
      "\u001b[1;31m---------------------------------------------------------------------------\u001b[0m",
      "\u001b[1;31mKeyboardInterrupt\u001b[0m                         Traceback (most recent call last)",
      "Input \u001b[1;32mIn [45]\u001b[0m, in \u001b[0;36m<cell line: 22>\u001b[1;34m()\u001b[0m\n\u001b[0;32m     31\u001b[0m           \u001b[38;5;28;01mif\u001b[39;00m \u001b[38;5;28mint\u001b[39m(details[\u001b[38;5;241m0\u001b[39m]) \u001b[38;5;241m>\u001b[39m\u001b[38;5;241m=\u001b[39m minimum_capacity:\n\u001b[0;32m     32\u001b[0m                \u001b[38;5;28mprint\u001b[39m(\u001b[38;5;124m\"\u001b[39m\u001b[38;5;130;01m\\t\u001b[39;00m\u001b[38;5;124m\"\u001b[39m \u001b[38;5;241m+\u001b[39m room\u001b[38;5;241m+\u001b[39m \u001b[38;5;124m\"\u001b[39m\u001b[38;5;130;01m\\t\u001b[39;00m\u001b[38;5;124m\"\u001b[39m \u001b[38;5;241m+\u001b[39m details[\u001b[38;5;241m0\u001b[39m] \u001b[38;5;241m+\u001b[39m \u001b[38;5;124m\"\u001b[39m\u001b[38;5;130;01m\\t\u001b[39;00m\u001b[38;5;124m\"\u001b[39m \u001b[38;5;241m+\u001b[39m details[\u001b[38;5;241m1\u001b[39m])\n\u001b[1;32m---> 34\u001b[0m      school_search \u001b[38;5;241m=\u001b[39m \u001b[38;5;28;43minput\u001b[39;49m\u001b[43m(\u001b[49m\u001b[38;5;124;43m\"\u001b[39;49m\u001b[38;5;130;43;01m\\n\u001b[39;49;00m\u001b[38;5;124;43mDo you want to search for the facilities within a school? [Y|N]:\u001b[39;49m\u001b[38;5;124;43m\"\u001b[39;49m\u001b[43m)\u001b[49m\n\u001b[0;32m     35\u001b[0m \u001b[38;5;28mprint\u001b[39m(\u001b[38;5;124m\"\u001b[39m\u001b[38;5;124mGood-bye!\u001b[39m\u001b[38;5;124m\"\u001b[39m)\n",
      "File \u001b[1;32m~\\anaconda3\\lib\\site-packages\\ipykernel\\kernelbase.py:1075\u001b[0m, in \u001b[0;36mKernel.raw_input\u001b[1;34m(self, prompt)\u001b[0m\n\u001b[0;32m   1071\u001b[0m \u001b[38;5;28;01mif\u001b[39;00m \u001b[38;5;129;01mnot\u001b[39;00m \u001b[38;5;28mself\u001b[39m\u001b[38;5;241m.\u001b[39m_allow_stdin:\n\u001b[0;32m   1072\u001b[0m     \u001b[38;5;28;01mraise\u001b[39;00m StdinNotImplementedError(\n\u001b[0;32m   1073\u001b[0m         \u001b[38;5;124m\"\u001b[39m\u001b[38;5;124mraw_input was called, but this frontend does not support input requests.\u001b[39m\u001b[38;5;124m\"\u001b[39m\n\u001b[0;32m   1074\u001b[0m     )\n\u001b[1;32m-> 1075\u001b[0m \u001b[38;5;28;01mreturn\u001b[39;00m \u001b[38;5;28;43mself\u001b[39;49m\u001b[38;5;241;43m.\u001b[39;49m\u001b[43m_input_request\u001b[49m\u001b[43m(\u001b[49m\n\u001b[0;32m   1076\u001b[0m \u001b[43m    \u001b[49m\u001b[38;5;28;43mstr\u001b[39;49m\u001b[43m(\u001b[49m\u001b[43mprompt\u001b[49m\u001b[43m)\u001b[49m\u001b[43m,\u001b[49m\n\u001b[0;32m   1077\u001b[0m \u001b[43m    \u001b[49m\u001b[38;5;28;43mself\u001b[39;49m\u001b[38;5;241;43m.\u001b[39;49m\u001b[43m_parent_ident\u001b[49m\u001b[43m[\u001b[49m\u001b[38;5;124;43m\"\u001b[39;49m\u001b[38;5;124;43mshell\u001b[39;49m\u001b[38;5;124;43m\"\u001b[39;49m\u001b[43m]\u001b[49m\u001b[43m,\u001b[49m\n\u001b[0;32m   1078\u001b[0m \u001b[43m    \u001b[49m\u001b[38;5;28;43mself\u001b[39;49m\u001b[38;5;241;43m.\u001b[39;49m\u001b[43mget_parent\u001b[49m\u001b[43m(\u001b[49m\u001b[38;5;124;43m\"\u001b[39;49m\u001b[38;5;124;43mshell\u001b[39;49m\u001b[38;5;124;43m\"\u001b[39;49m\u001b[43m)\u001b[49m\u001b[43m,\u001b[49m\n\u001b[0;32m   1079\u001b[0m \u001b[43m    \u001b[49m\u001b[43mpassword\u001b[49m\u001b[38;5;241;43m=\u001b[39;49m\u001b[38;5;28;43;01mFalse\u001b[39;49;00m\u001b[43m,\u001b[49m\n\u001b[0;32m   1080\u001b[0m \u001b[43m\u001b[49m\u001b[43m)\u001b[49m\n",
      "File \u001b[1;32m~\\anaconda3\\lib\\site-packages\\ipykernel\\kernelbase.py:1120\u001b[0m, in \u001b[0;36mKernel._input_request\u001b[1;34m(self, prompt, ident, parent, password)\u001b[0m\n\u001b[0;32m   1117\u001b[0m             \u001b[38;5;28;01mbreak\u001b[39;00m\n\u001b[0;32m   1118\u001b[0m \u001b[38;5;28;01mexcept\u001b[39;00m \u001b[38;5;167;01mKeyboardInterrupt\u001b[39;00m:\n\u001b[0;32m   1119\u001b[0m     \u001b[38;5;66;03m# re-raise KeyboardInterrupt, to truncate traceback\u001b[39;00m\n\u001b[1;32m-> 1120\u001b[0m     \u001b[38;5;28;01mraise\u001b[39;00m \u001b[38;5;167;01mKeyboardInterrupt\u001b[39;00m(\u001b[38;5;124m\"\u001b[39m\u001b[38;5;124mInterrupted by user\u001b[39m\u001b[38;5;124m\"\u001b[39m) \u001b[38;5;28;01mfrom\u001b[39;00m \u001b[38;5;28mNone\u001b[39m\n\u001b[0;32m   1121\u001b[0m \u001b[38;5;28;01mexcept\u001b[39;00m \u001b[38;5;167;01mException\u001b[39;00m:\n\u001b[0;32m   1122\u001b[0m     \u001b[38;5;28mself\u001b[39m\u001b[38;5;241m.\u001b[39mlog\u001b[38;5;241m.\u001b[39mwarning(\u001b[38;5;124m\"\u001b[39m\u001b[38;5;124mInvalid Message:\u001b[39m\u001b[38;5;124m\"\u001b[39m, exc_info\u001b[38;5;241m=\u001b[39m\u001b[38;5;28;01mTrue\u001b[39;00m)\n",
      "\u001b[1;31mKeyboardInterrupt\u001b[0m: Interrupted by user"
     ]
    }
   ],
   "source": [
    "# Put your code here:\n",
    "def get_facility_info(filename):\n",
    "     facility_dict = {}\n",
    "     with open(filename, 'r') as my_file:\n",
    "          for line in my_file:\n",
    "               line = line.rstrip('\\n')\n",
    "               columns = line.split('\\t')\n",
    "               school = columns[0] \n",
    "               capacity= columns[2]\n",
    "               room = columns[1]\n",
    "               projector = columns[3]\n",
    "               if school not in facility_dict:\n",
    "                    facility_dict[school]= {room: (capacity, projector)} #HAVE to use room NOT capacity as the key because every time the capacity is the same, the room would just be updated. ROOM is UNIQUE!!!!!!!!!\n",
    "               \n",
    "               else:\n",
    "                    facility_dict[school][room] = (capacity, projector)\n",
    "     \n",
    "     return facility_dict\n",
    "\n",
    "facility_dict = get_facility_info('facilities.txt')\n",
    "school_search = input(\"Do you want to search for the facilities within a school? [Y|N]:\")\n",
    "while school_search != \"N\":\n",
    "     school_name = input(\"Enter the school [LKCSB|SOE|SOL|SOA|SIS]:\")\n",
    "     minimum_capacity = int(input(\"Enter the minimum capacity you need:\"))\n",
    "     #print(f\"The following facilities with a capacity of {minimum_capacity} or above are found in {school_name}:\") USE F STRINGS!!!!!!!!!\n",
    "     print(\"The following facilities with a capacity of\", str(minimum_capacity), 'or above are found in', school_name +':')\n",
    "     print(\"\\tRoom #\", '\\tCap', '\\tProjector?')\n",
    "     print(\"\\t\"+\"-\"*6, \"\\t\"+\"-\"*3,\"\\t\"+\"-\"*10)\n",
    "\n",
    "     for room, details in facility_dict[school_name].items():\n",
    "          if int(details[0]) >= minimum_capacity:\n",
    "               print(\"\\t\" + room+ \"\\t\" + details[0] + \"\\t\" + details[1])\n",
    "\n",
    "     school_search = input(\"\\nDo you want to search for the facilities within a school? [Y|N]:\")\n",
    "print(\"Good-bye!\")\n"
   ]
  },
  {
   "cell_type": "markdown",
   "metadata": {},
   "source": [
    "## Q4: Students and Schools [ &bigstar;&bigstar;&bigstar; ]\n",
    "\n",
    "Define a function called ```get_students_by_school```. The function takes in a dictionary as its parameter. This dictionary stores mappings from students to their corresponding schools. For example, the dictionary may contain ```'Joe Tan':'SIS'``` as a (key, value) pair.\n",
    "\n",
    "The function returns a new dictionary that stores mappings from each school to a list of students in that school. For example, if in the original dictionary there are two students, \"Joe Tan\" and \"Wendy Li\", who are from SIS, then in the returned new dictionary, the value associated with the key ```'SIS'``` should be ```['Joe Tan', 'Wendy Li']```."
   ]
  },
  {
   "cell_type": "code",
   "execution_count": 46,
   "metadata": {},
   "outputs": [],
   "source": [
    "# Put your code here:\n",
    "\n",
    "def get_students_by_school(dictionary): #this is the same as the reverse dictionary, only with a list this time\n",
    "    school_dict = {}\n",
    "\n",
    "    for key, values in dictionary.items():\n",
    "        if values not in school_dict:\n",
    "            school_dict[values] = [key]\n",
    "        else:\n",
    "            school_dict[values].append(key)\n",
    "    return school_dict"
   ]
  },
  {
   "cell_type": "code",
   "execution_count": 47,
   "metadata": {},
   "outputs": [
    {
     "name": "stdout",
     "output_type": "stream",
     "text": [
      "\n",
      "Testcase\n",
      "----------\n",
      "Expected: \n",
      "SIS :\t['Joe Tan', 'Ng Yew Tung', 'Wendy Li']\n",
      "SOE :\t['Alan Lee']\n",
      "SOSS :\t['George Wong', 'Jerry Lim']\n",
      "SOL :\t['Liu Chee Hwa']\n",
      "\n",
      "Actual  : \n",
      "SIS :\t['Joe Tan', 'Ng Yew Tung', 'Wendy Li']\n",
      "SOE :\t['Alan Lee']\n",
      "SOSS :\t['George Wong', 'Jerry Lim']\n",
      "SOL :\t['Liu Chee Hwa']\n"
     ]
    }
   ],
   "source": [
    "print('\\nTestcase')\n",
    "print('-' * 10)\n",
    "student_to_school_dict = {'Joe Tan':'SIS', 'Alan Lee':'SOE', 'George Wong':'SOSS', 'Liu Chee Hwa':'SOL', 'Ng Yew Tung':'SIS', 'Wendy Li':'SIS', 'Jerry Lim':'SOSS'}\n",
    "print(\"Expected: \")\n",
    "print(\"SIS :\\t['Joe Tan', 'Ng Yew Tung', 'Wendy Li']\")\n",
    "print(\"SOE :\\t['Alan Lee']\")\n",
    "print(\"SOSS :\\t['George Wong', 'Jerry Lim']\")\n",
    "print(\"SOL :\\t['Liu Chee Hwa']\")\n",
    "print(\"\\nActual  : \")\n",
    "school_to_student_dict = get_students_by_school(student_to_school_dict)\n",
    "for key in school_to_student_dict:\n",
    "    print(key + \" :\\t\" + str(school_to_student_dict[key]))\n"
   ]
  },
  {
   "cell_type": "markdown",
   "metadata": {},
   "source": [
    "## Q5: Word Counts\n",
    "\n",
    "### Background\n",
    "\n",
    "In data analytics, in order to quickly get a gist of what a collection of articles is talking about, __word clouds__ have been popularly used. \n",
    "\n",
    "Below is an example word cloud:"
   ]
  },
  {
   "cell_type": "markdown",
   "metadata": {},
   "source": [
    "<img src=\"https://sebastianraschka.com/images/blog/2014/twitter-wordcloud/my_twitter_wordcloud_1.jpg\" width=\"500\">"
   ]
  },
  {
   "cell_type": "markdown",
   "metadata": {},
   "source": [
    "In a word cloud, a word shown in a bigger size has appeared more frequently inside the collection of articles being analyzed whereas a word shown in a smaller size has appeared less frequently.\n",
    "\n",
    "In order to draw a word cloud, we need to first count the frequencies of each unique word inside the collection of articles that we want to analyze.\n",
    "\n",
    "### The Question\n",
    "\n",
    "### Part (a) [ &bigstar;&bigstar;&bigstar; ]\n",
    "\n",
    "Define a function called ```count_words_in_file()```. The function takes in as its parameter the name of a file, where each line of the file is the content of one article.\n",
    "\n",
    "The function returns a dictionary that stores the mappings from all the unique words found in the file to their total counts in the file.\n",
    "\n",
    "For example, if the word \"the\" has appeared 10 times the file, then the mapping ```'the':10``` should be stored inside the dictionary.\n",
    "\n",
    "You need to turn everything into lowercases before counting. For example, \"The\" and \"the\" are both counted as ```'the'``` in the dictionary.\n",
    "\n",
    "Simply use ```line.split()``` to break down a line into a list of words. You do not need to handle punctuation marks for this question."
   ]
  },
  {
   "cell_type": "code",
   "execution_count": 59,
   "metadata": {},
   "outputs": [],
   "source": [
    "# Put your code here:\n",
    "def count_words_in_file(filename):\n",
    "    words_dict = {}\n",
    "    with open(filename, 'r') as my_file:\n",
    "        for line in my_file:\n",
    "            line = line.rstrip('\\n')\n",
    "            columns = line.split( )\n",
    "            for ch in columns: \n",
    "                ch = ch.lower() #since 'the' and 'The' are both counted as 'the'\n",
    "                if ch.isalpha()==True:\n",
    "                    if ch not in words_dict:\n",
    "                        words_dict[ch] = 1\n",
    "                    else:\n",
    "                        words_dict[ch]+=1\n",
    "    return words_dict\n"
   ]
  },
  {
   "cell_type": "markdown",
   "metadata": {},
   "source": [
    "We will now test your function with a file called \"spam_sms.txt\". This file stores many spam SMS messages. The data is obtained from the following link: https://www.kaggle.com/uciml/sms-spam-collection-dataset . Details about the data can be found here: http://www.dt.fee.unicamp.br/~tiago/smsspamcollection/ .\n",
    "\n"
   ]
  },
  {
   "cell_type": "code",
   "execution_count": 60,
   "metadata": {},
   "outputs": [
    {
     "name": "stdout",
     "output_type": "stream",
     "text": [
      "\n",
      "Testcase 1\n",
      "----------\n",
      "Expected: 204\n",
      "Actual  : 204\n",
      "\n",
      "Testcase 2\n",
      "----------\n",
      "Expected: 58\n",
      "Actual  : 58\n",
      "\n",
      "Testcase 3\n",
      "----------\n",
      "Expected: 1\n",
      "Actual  : 1\n"
     ]
    }
   ],
   "source": [
    "# Test Cases:\n",
    "\n",
    "file = 'spam_sms.txt'\n",
    "my_dict = count_words_in_file(file)\n",
    "\n",
    "print('\\nTestcase 1')\n",
    "print('-' * 10)\n",
    "print(\"Expected: 204\")\n",
    "print(\"Actual  : \" + str(my_dict['the']))\n",
    "\n",
    "print('\\nTestcase 2')\n",
    "print('-' * 10)\n",
    "print(\"Expected: 58\")\n",
    "print(\"Actual  : \" + str(my_dict['prize']))\n",
    "\n",
    "print('\\nTestcase 3')\n",
    "print('-' * 10)\n",
    "print(\"Expected: 1\")\n",
    "print(\"Actual  : \" + str(my_dict['presleys']))\n"
   ]
  },
  {
   "cell_type": "markdown",
   "metadata": {},
   "source": [
    "### Part (b) [ &bigstar;&bigstar; ]\n",
    "\n",
    "Now display all the words in the dictionary whose lengths are at least 4 and whose frequencies are above 50. \n",
    "\n",
    "Do you think these words can tell you something about a common theme in all these spam SMS messages?"
   ]
  },
  {
   "cell_type": "markdown",
   "metadata": {},
   "source": [
    "You should get the following output:\n",
    "\n",
    "```\n",
    "free : 171\n",
    "text : 110\n",
    "have : 135\n",
    "prize : 58\n",
    "claim : 105\n",
    "call : 336\n",
    "your : 258\n",
    "mobile : 109\n",
    "with : 108\n",
    "from : 127\n",
    "send : 65\n",
    "reply : 101\n",
    "please : 52\n",
    "nokia : 64\n",
    "now! : 70\n",
    "cash : 56\n",
    "contact : 56\n",
    "this : 79\n",
    "stop : 85\n",
    "only : 66\n",
    "just : 78\n",
    "```"
   ]
  },
  {
   "cell_type": "code",
   "execution_count": 64,
   "metadata": {},
   "outputs": [
    {
     "name": "stdout",
     "output_type": "stream",
     "text": [
      "free : 171\n",
      "text : 110\n",
      "have : 135\n",
      "prize : 58\n",
      "claim : 105\n",
      "call : 336\n",
      "your : 258\n",
      "mobile : 109\n",
      "with : 108\n",
      "from : 127\n",
      "send : 65\n",
      "reply : 101\n",
      "please : 52\n",
      "nokia : 64\n",
      "cash : 56\n",
      "contact : 56\n",
      "this : 79\n",
      "stop : 85\n",
      "only : 66\n",
      "just : 78\n"
     ]
    }
   ],
   "source": [
    "# Put your code here:\n",
    "file = 'spam_sms.txt'\n",
    "words_dict = count_words_in_file(file)\n",
    "for key, values in words_dict.items():\n",
    "    if len(key)>=4 and values >50:\n",
    "        print(key, ':', values)"
   ]
  },
  {
   "cell_type": "markdown",
   "metadata": {},
   "source": [
    "### Part (c) [ &bigstar;&bigstar;&bigstar; ]\n",
    "\n",
    "Are you able to find the top-10 frequent words inside the dictionary? You're expected to get the following top words and their frequencies:\n",
    "\n",
    "\n",
    "```\n",
    "[('to', 684), ('a', 375), ('call', 336), ('your', 258), ('you', 237), ('the', 204), ('for', 196), ('or', 188), ('free', 171), ('2', 169)]\n",
    "```"
   ]
  },
  {
   "cell_type": "code",
   "execution_count": 102,
   "metadata": {},
   "outputs": [
    {
     "name": "stdout",
     "output_type": "stream",
     "text": [
      "[('to', 684), ('a', 375), ('call', 336), ('your', 258), ('you', 237), ('the', 204), ('for', 196), ('or', 188), ('free', 171), ('is', 152)]\n"
     ]
    }
   ],
   "source": [
    "# Put your code here:\n",
    "my_list= []\n",
    "file = \"spam_sms.txt\"\n",
    "mydict = count_words_in_file(file)\n",
    "\n",
    "highest = sorted(my_dict.values())[::-1] #how do you solve this Q without sorted()??\n",
    "for i in range(len(highest)):\n",
    "    for key, values in my_dict.items():\n",
    "        if int(values) == highest[i]:\n",
    "            my_list.append((key, values))\n",
    "\n",
    "my_list = my_list[0:10]\n",
    "\n",
    "print(my_list)\n"
   ]
  },
  {
   "cell_type": "markdown",
   "metadata": {},
   "source": [
    "## Q6: Employees [ &bigstar;&bigstar;&bigstar;]\n",
    "\n",
    "You are given a file called \"employees.txt\" that stores the information of some employees inside an organization. Each line of the file is about a single employee. For each employee, there are several pieces of information given. However, different employees may have different pieces of information given in the file. Take a look at the file to understand its structure.\n",
    "\n",
    "__You can assume that each line always contains the ID and name of an employee.__\n",
    "\n",
    "Write a prgram that allows a user to check the details of any employee. The user needs to first enter the employee's ID. If the ID is found, the name of the employee should be displayed first. After that, the program asks what information the user wants to know about the employee and displays the information accordingly. If the ID is not found or the requested information is not found, the program should display \"Not found!\"\n",
    "\n",
    "See a sample run of the program below:\n",
    "\n",
    "```\n",
    "Enter an employee ID: 3\n",
    "This employee is Peter Ng.\n",
    "    Enter a field name or 'S' to stop: title\n",
    "    The title is manager.\n",
    "    Enter a field name or 'S' to stop: marriage status\n",
    "    The marriage status is married.\n",
    "    Enter a field name or 'S' to stop: phone\n",
    "    Not found!\n",
    "    Enter a field name or 'S' to stop: S\n",
    "\n",
    "Do you want to search for another employee? [Y|N]:Y\n",
    "Enter an employee ID: 4\n",
    "Not found!\n",
    "\n",
    "Do you want to search for another employee? [Y|N]:Y\n",
    "Enter an employee ID: 10\n",
    "This employee is George Khoo.\n",
    "    Enter a field name or 'S' to stop: title\n",
    "    Not found!\n",
    "    Enter a field name or 'S' to stop: phone\n",
    "    The phone is 67893456.\n",
    "    Enter a field name or 'S' to stop: S\n",
    "\n",
    "Do you want to search for another employee? [Y|N]:N\n",
    "\n",
    "Good-bye!\n",
    "```\n",
    "\n",
    "__Hint:__ You should store the data in an appropriate dictionary such that when you search for the information of an employee, you only need to do dictionary lookup and no for-loops."
   ]
  },
  {
   "cell_type": "code",
   "execution_count": 47,
   "metadata": {},
   "outputs": [
    {
     "name": "stdout",
     "output_type": "stream",
     "text": [
      "['ID:1', 'name:Jason Wong', 'title:assistant manager', 'age:32', 'phone:94354893', 'address:Blk 10 #10-09, Jurong East Ave 3, S201425', 'marriage status:single']\n"
     ]
    },
    {
     "ename": "TypeError",
     "evalue": "'set' object does not support item assignment",
     "output_type": "error",
     "traceback": [
      "\u001b[1;31m---------------------------------------------------------------------------\u001b[0m",
      "\u001b[1;31mTypeError\u001b[0m                                 Traceback (most recent call last)",
      "Input \u001b[1;32mIn [47]\u001b[0m, in \u001b[0;36m<cell line: 3>\u001b[1;34m()\u001b[0m\n\u001b[0;32m     18\u001b[0m     employee_info_dict[\u001b[38;5;28mid\u001b[39m][name] \u001b[38;5;241m=\u001b[39m columns[i][\u001b[38;5;241m6\u001b[39m:]\n\u001b[0;32m     19\u001b[0m \u001b[38;5;28;01mif\u001b[39;00m \u001b[38;5;124m\"\u001b[39m\u001b[38;5;124mtitle\u001b[39m\u001b[38;5;124m\"\u001b[39m \u001b[38;5;129;01min\u001b[39;00m columns[i]:\n\u001b[1;32m---> 20\u001b[0m     employee_info_dict[\u001b[38;5;28mid\u001b[39m][name] \u001b[38;5;241m=\u001b[39m columns[i][\u001b[38;5;241m6\u001b[39m:]\n\u001b[0;32m     21\u001b[0m \u001b[38;5;28;01mif\u001b[39;00m \u001b[38;5;124m\"\u001b[39m\u001b[38;5;124maddress\u001b[39m\u001b[38;5;124m\"\u001b[39m \u001b[38;5;129;01min\u001b[39;00m columns[i]:\n\u001b[0;32m     22\u001b[0m     employee_info_dict[\u001b[38;5;28mid\u001b[39m] [name] \u001b[38;5;241m=\u001b[39m columns[i][\u001b[38;5;241m7\u001b[39m:]\n",
      "\u001b[1;31mTypeError\u001b[0m: 'set' object does not support item assignment"
     ]
    }
   ],
   "source": [
    "# Put your code here:\n",
    "\n",
    "with open('employees.txt', 'r') as my_file:\n",
    "    employee_info_dict = {}\n",
    "    for line in my_file:\n",
    "        line = line.rstrip('\\n')\n",
    "        columns = line.split('\\t')\n",
    "        id = columns[0][3:]\n",
    "        name = columns[1][5:]\n",
    "    \n",
    "        employee_info_dict[id] = {name}\n",
    "        print(columns)\n",
    "        \n",
    "        for i in range(1, len(columns)):\n",
    "            if \"age:\" in columns[i]:\n",
    "                employee_info_dict[id][name] = columns[i][4:]\n",
    "            if \"phone\" in columns[i]:\n",
    "                employee_info_dict[id][name] = columns[i][6:]\n",
    "            if \"title\" in columns[i]:\n",
    "                employee_info_dict[id][name] = columns[i][6:]\n",
    "            if \"address\" in columns[i]:\n",
    "                employee_info_dict[id] [name] = columns[i][7:]\n",
    "            if \"marriage status\" in columns[i]:\n",
    "                employee_info_dict[id][name]= (columns[i][16:])\n",
    "\n",
    "\n",
    "search = input(\"Enter an employee ID:\")\n",
    "if search in employee_info_dict:\n",
    "    for key, value in employee_info_dict.items():\n",
    "        if search == key:\n",
    "            print(\"This employee is\", name)\n",
    "\n",
    "field = input(\"Enter a field name or 'S' to stop: \")\n",
    "\n",
    "while field != 'S':\n",
    "    if field in employee_info_dict[id]:\n",
    "        print(field)\n",
    "    else:\n",
    "        print(\"Not Found!\")\n",
    "    field = input(\"Enter a field name or 'S' to stop: \")\n",
    "   \n",
    "   #I gave up here :(( Is there no simpler way to do it?\n",
    "        \n"
   ]
  },
  {
   "cell_type": "code",
   "execution_count": null,
   "metadata": {},
   "outputs": [],
   "source": []
  }
 ],
 "metadata": {
  "kernelspec": {
   "display_name": "Python 3 (ipykernel)",
   "language": "python",
   "name": "python3"
  },
  "language_info": {
   "codemirror_mode": {
    "name": "ipython",
    "version": 3
   },
   "file_extension": ".py",
   "mimetype": "text/x-python",
   "name": "python",
   "nbconvert_exporter": "python",
   "pygments_lexer": "ipython3",
   "version": "3.9.12"
  }
 },
 "nbformat": 4,
 "nbformat_minor": 2
}
