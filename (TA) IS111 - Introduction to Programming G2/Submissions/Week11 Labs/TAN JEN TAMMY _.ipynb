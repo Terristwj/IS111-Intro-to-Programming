{
 "cells": [
  {
   "cell_type": "markdown",
   "metadata": {},
   "source": [
    "<table class=\"table table-bordered\">\n",
    "    <tr>\n",
    "        <th style=\"text-align:center; width:35%\"><img src='https://drive.google.com/uc?export=view&id=1zIB3Nw_z8N2SJSSdd2yWQIsDS0MGPYKm' style=\"width: 300px; height: 90px; \"></th>\n",
    "        <th style=\"text-align:center;\"><h3>IS111 - Lab 8</h3><h3>Dictionaries</h3></th>\n",
    "    </tr>\n",
    "</table>"
   ]
  },
  {
   "cell_type": "markdown",
   "metadata": {},
   "source": [
    "## Q1: Substitution Cipher\n",
    "\n",
    "\"A __substitution cipher__ is a method of encoding by which units of plaintext are replaced with ciphertext, according to a fixed system.\" See https://en.wikipedia.org/wiki/Substitution_cipher.\n",
    "\n",
    "In this question, we consider a simple substitution cipher that replaces each letter in the original message with another letter.\n",
    "\n",
    "### Part (a) [ &bigstar; ]\n",
    "\n",
    "You are given a dictionary that stores the mappings from English lowercase letters to their replacements. Note that no two letters will be mapped to the same replacement.\n",
    "\n",
    "Define a function called `encrypt()` that takes in two parameters:\n",
    "\n",
    "- `my_dict` (type: `dict`): a dictionary as described above. \n",
    "- `msg` (type: `str`): a message consisting of only lowercase letters and spaces.\n",
    "\n",
    "The function returns the encrypted message using `my_dict` as the substitution cipher. Note that a space remains untouched in the encrypted message."
   ]
  },
  {
   "cell_type": "code",
   "execution_count": 1,
   "metadata": {},
   "outputs": [],
   "source": [
    "# Write your function definition here.\n",
    "def encrypt(dict, str):\n",
    "    encrypted_msg = \"\"\n",
    "\n",
    "    for ch in str:\n",
    "        if ch == \" \":\n",
    "            encrypted_msg += \" \"\n",
    "            \n",
    "        else:\n",
    "            encrypted_msg += dict[ch]\n",
    "            \n",
    "    return encrypted_msg\n"
   ]
  },
  {
   "cell_type": "code",
   "execution_count": 2,
   "metadata": {},
   "outputs": [
    {
     "name": "stdout",
     "output_type": "stream",
     "text": [
      "\n",
      "Testcase\n",
      "----------\n",
      "Expected: v ybir clguba\n",
      "Actual  : v ybir clguba\n"
     ]
    }
   ],
   "source": [
    "# Test cases used to test your function\n",
    "\n",
    "cipher_dict = {'a':'n', 'b':'o', 'c':'p',\n",
    "             'd':'q', 'e':'r', 'f':'s',\n",
    "             'g':'t','h':'u','i':'v',\n",
    "             'j':'w', 'k':'x','l':'y',\n",
    "             'm':'z','n':'a','o':'b',\n",
    "             'p':'c','q':'d','r':'e',\n",
    "             's':'f','t':'g','u':'h',\n",
    "             'v':'i', 'w':'j','x':'k',\n",
    "             'y':'l','z':'m'}\n",
    "\n",
    "print('\\nTestcase')\n",
    "print('-' * 10)\n",
    "print(\"Expected: v ybir clguba\")\n",
    "msg = 'i love python'\n",
    "print(\"Actual  : \" + encrypt(cipher_dict, msg))"
   ]
  },
  {
   "cell_type": "markdown",
   "metadata": {},
   "source": [
    "### Part (b) [ &bigstar;&bigstar; ]\n",
    "\n",
    "Now define a function called `decrypt()`. This function also takes in two parameters:\n",
    "\n",
    "- `my_dict` (type: `dict`): a dictionary as described above. \n",
    "- `encrypted_msg` (type: `str`): an __encrypted__ message.\n",
    "\n",
    "The function returns the original message, i.e., the message that has been encrypted into the string `encrypted_msg`."
   ]
  },
  {
   "cell_type": "code",
   "execution_count": 3,
   "metadata": {},
   "outputs": [],
   "source": [
    "# Write your function definition here.\n",
    "\n",
    "def decrypt(dict, str):\n",
    "    encrypted_msg = \"\"\n",
    "\n",
    "    for ch in str:\n",
    "        if ch == \" \":\n",
    "            encrypted_msg += \" \"\n",
    "            \n",
    "        else:\n",
    "            encrypted_msg += dict[ch]\n",
    "            \n",
    "    return encrypted_msg\n",
    "    \n"
   ]
  },
  {
   "cell_type": "code",
   "execution_count": 4,
   "metadata": {},
   "outputs": [
    {
     "name": "stdout",
     "output_type": "stream",
     "text": [
      "\n",
      "Testcase\n",
      "----------\n",
      "Expected: i love python\n",
      "Actual  : i love python\n"
     ]
    }
   ],
   "source": [
    "cipher_dict = {'a':'n', 'b':'o', 'c':'p',\n",
    "             'd':'q', 'e':'r', 'f':'s',\n",
    "             'g':'t','h':'u','i':'v',\n",
    "             'j':'w', 'k':'x','l':'y',\n",
    "             'm':'z','n':'a','o':'b',\n",
    "             'p':'c','q':'d','r':'e',\n",
    "             's':'f','t':'g','u':'h',\n",
    "             'v':'i', 'w':'j','x':'k',\n",
    "             'y':'l','z':'m'}\n",
    "\n",
    "print('\\nTestcase')\n",
    "print('-' * 10)\n",
    "msg = 'v ybir clguba'\n",
    "print(\"Expected: i love python\")\n",
    "print(\"Actual  : \" + decrypt(cipher_dict, msg))"
   ]
  },
  {
   "cell_type": "markdown",
   "metadata": {},
   "source": [
    "## Q2: Prime Numbers [ &bigstar;&bigstar; ] \n",
    "\n",
    "\n",
    "Define a function called ```create_prime_dict()``` that takes in a list of integers greater than 1 (without any duplicates) as its parameter. The function creates a dictionary that maps each integer in the list to a boolean value that indicates whether or not this integer is a prime number.\n",
    "\n",
    "Recall that a prime number is a number that is divisible only by 1 and itself.\n",
    "\n",
    "For example, ```create_prime_dict([2, 3, 5, 10, 20, 23])``` returns a dictionary that looks like the following: ```{2:True, 3:True, 5:True, 10:False, 20:False, 23:True}```."
   ]
  },
  {
   "cell_type": "code",
   "execution_count": null,
   "metadata": {},
   "outputs": [],
   "source": [
    "# Put your code here:\n",
    "\n",
    "def create_prime_dict(integer):\n",
    "    \n"
   ]
  },
  {
   "cell_type": "code",
   "execution_count": null,
   "metadata": {},
   "outputs": [],
   "source": [
    "print('\\nTestcase 1')\n",
    "print('-' * 10)\n",
    "my_list = [2, 3, 5, 10, 20, 23]\n",
    "print(\"Expected: {2: True, 3: True, 5: True, 10: False, 20: False, 23: True}\")\n",
    "print(\"Actual  : \" + str(create_prime_dict(my_list)))\n",
    "\n",
    "print('\\nTestcase 2')\n",
    "print('-' * 10)\n",
    "my_list = [4, 5, 6, 8, 11, 12]\n",
    "print(\"Expected: {4: False, 5: True, 6: False, 8: False, 11: True, 12: False}\")\n",
    "print(\"Actual  : \" + str(create_prime_dict(my_list)))"
   ]
  },
  {
   "cell_type": "markdown",
   "metadata": {},
   "source": [
    "## Q3: Facilities \n",
    "\n",
    "You are given a file called \"facilities.txt\" that stores the information of some facilities in SMU. Each line of the file contains the following columns of information, separated by tabs.\n",
    "\n",
    "```\n",
    "school    room_number    capacity    has_projector\n",
    "```\n",
    "\n",
    "Note that different schools may have the same room number. For example, both SIS and SOE may have an MR-5.1. But within each school the room numbers are unique.\n",
    "\n",
    "### Part (a) [ &bigstar;&bigstar; ]\n",
    "\n",
    "Write a program that allows a user to continuously check the details of a room until the user chooses to quit the program.\n",
    "\n",
    "A sample run of the program may look like the following:\n",
    "\n",
    "```\n",
    "Do you want to search for a facility? [Y|N] :Y\n",
    "Enter the school [LKCSB|SOE|SOL|SOA|SIS] :SOE\n",
    "Enter the room number :SR-3.1\n",
    "SOE SR-3.1 has a capacity of 50 and has a projector.\n",
    "\n",
    "Do you want to continue the search? [Y|N] :Y\n",
    "Enter the school [LKCSB|SOE|SOL|SOA|SIS] :SIS\n",
    "Enter the room number :MR-4.3\n",
    "SIS MR-4.3 has a capacity of 15 and does not have a projector.\n",
    "\n",
    "Do you want to continue the search? [Y|N] :Y\n",
    "Enter the school [LKCSB|SOE|SOL|SOA|SIS] :SIS\n",
    "Enter the room number :SR-3.1\n",
    "SIS SR-3.1 has a capacity of 60 and has a projector.\n",
    "\n",
    "Do you want to continue the search? [Y|N] :N\n",
    "Thanks for using our system!\n",
    "```"
   ]
  },
  {
   "cell_type": "code",
   "execution_count": 1,
   "metadata": {},
   "outputs": [
    {
     "ename": "IndentationError",
     "evalue": "expected an indented block (769374818.py, line 23)",
     "output_type": "error",
     "traceback": [
      "\u001b[1;36m  Input \u001b[1;32mIn [1]\u001b[1;36m\u001b[0m\n\u001b[1;33m    if room_details['projector'] == \"yes\":\u001b[0m\n\u001b[1;37m    ^\u001b[0m\n\u001b[1;31mIndentationError\u001b[0m\u001b[1;31m:\u001b[0m expected an indented block\n"
     ]
    }
   ],
   "source": [
    "# Put your code here:\n",
    "\n",
    "with open ('facilities.txt', 'r') as f:\n",
    "    room_details = {}\n",
    "    for line in f:\n",
    "        line = line.rstrip('\\n')\n",
    "        column = line.split('\\t')\n",
    "        room_details['school'] = column[0]\n",
    "        room_details['room'] = column[1]\n",
    "        room_details['capacity'] = column[2]\n",
    "        room_details['projector'] = column[3]\n",
    "        \n",
    "    \n",
    "    search = input(\"Do you want to search for a facility? [Y|N] :\")\n",
    "    while search == \"Y\":\n",
    "        school = input(\"Enter the school [LKCSB|SOE|SOL|SOA|SIS] :\")\n",
    "        room_num = input(\"Enter the room number :\")\n",
    "        details = school + \" \" + room_num\n",
    "        \n",
    "        for item in line:\n",
    "            if details in line:\n",
    "                \n",
    "            if room_details['projector'] == \"yes\":\n",
    "                room_details['projector'] = \"has a projector.\"\n",
    "                \n",
    "            else:\n",
    "                room_details['projector'] = \"does not have a projector.\"\n",
    "        \n",
    "        print(details + \" has a capacity of \" + room_details['capacity'] + \" and \" + room_details['projector'])\n",
    "            \n",
    "        \n",
    "        \n",
    "        \n",
    "        \n",
    "        \n",
    "        print()\n",
    "        search = input(\"Do you want to continue the search? [Y|N] :\")\n",
    "    \n",
    "    print(\"Thanks for using our system!\")\n",
    "        \n"
   ]
  },
  {
   "cell_type": "markdown",
   "metadata": {},
   "source": [
    "### Part (b) [ &bigstar;&bigstar;&bigstar; ]\n",
    "\n",
    "Write a program that allows a user to continuously search for all the facilities within a school until the user chooses to quit the program.\n",
    "\n",
    "A sample run of the program may look like the following:\n",
    "\n",
    "```\n",
    "Do you want to search for the facilities within a school? [Y|N]:Y\n",
    "Enter the school [LKCSB|SOE|SOL|SOA|SIS]:SIS\n",
    "The following facilities are in SIS:\n",
    "    Room #    Cap    Projector?\n",
    "    ------    ---    ----------\n",
    "    SR-3.1    60     yes\n",
    "    SR-3.2    50     yes\n",
    "    SR-3.3    50     yes\n",
    "    CR-3.1    20     no\n",
    "    CR-3.2    20     no\n",
    "    CR-3.3    15     no\n",
    "    MR-4.1    20     yes\n",
    "    MR-4.3    15     no\n",
    "    MR-4.4    30     yes\n",
    "\n",
    "Do you want to search for the facilities within a school? [Y|N]:Y\n",
    "Enter the school [LKCSB|SOE|SOL|SOA|SIS]:SOL\n",
    "The following facilities are in SOL:\n",
    "    Room #    Cap    Projector?\n",
    "    ------    ---    ----------\n",
    "    SR-2.1    60     yes\n",
    "    SR-2.2    70     yes\n",
    "    SR-2.3    65     yes\n",
    "    CR-3.1    20     yes\n",
    "    CR-3.2    20     yes\n",
    "    CR-3.3    15     no\n",
    "    MR-5.1    25     yes\n",
    "    MR-5.2    20     no\n",
    "\n",
    "Do you want to search for the facilities within a school? [Y|N]:N\n",
    "Good-bye!\n",
    "```\n",
    "\n",
    "__Hint:__ You should use a different dictionary than the one used in Part (a) for this question. Note that here the key is only a school name."
   ]
  },
  {
   "cell_type": "code",
   "execution_count": null,
   "metadata": {},
   "outputs": [],
   "source": [
    "# Put your code here:\n",
    "\n",
    "\n"
   ]
  },
  {
   "cell_type": "markdown",
   "metadata": {},
   "source": [
    "### Part (c) [ &bigstar;&bigstar;&bigstar; ]\n",
    "\n",
    "Write a program that allows a user to continuously search for the facilities with a mininum capacity within a school until the user chooses to quit the program.\n",
    "\n",
    "A sample run of the program may look like the following:\n",
    "\n",
    "```\n",
    "Do you want to search for the facilities within a school? [Y|N]:Y\n",
    "Enter the school [LKCSB|SOE|SOL|SOA|SIS]:SIS\n",
    "Enter the minimum capacity you need:20\n",
    "The following facilities with a capacity of 20 or above are found in SIS:\n",
    "\tRoom #\tCap\tProjector?\n",
    "\t------\t---\t----------\n",
    "\tSR-3.1\t60\tyes\n",
    "\tSR-3.2\t50\tyes\n",
    "\tSR-3.3\t50\tyes\n",
    "\tCR-3.1\t20\tno\n",
    "\tCR-3.2\t20\tno\n",
    "\tMR-4.1\t20\tyes\n",
    "\tMR-4.4\t30\tyes\n",
    "\n",
    "Do you want to search for the facilities within a school? [Y|N]:Y\n",
    "Enter the school [LKCSB|SOE|SOL|SOA|SIS]:SOL\n",
    "Enter the minimum capacity you need:50\n",
    "The following facilities with a capacity of 50 or above are found in SOL:\n",
    "\tRoom #\tCap\tProjector?\n",
    "\t------\t---\t----------\n",
    "\tSR-2.1\t60\tyes\n",
    "\tSR-2.2\t70\tyes\n",
    "\tSR-2.3\t65\tyes\n",
    "\n",
    "Do you want to search for the facilities within a school? [Y|N]:N\n",
    "Good-bye!\n",
    "```\n",
    "\n",
    "__Hint:__ Do NOT include the capacity as part of a key. Here you should first retrieve all the facilities in the given school and then go through them one by one to find those satisfying the capacity requirement."
   ]
  },
  {
   "cell_type": "code",
   "execution_count": null,
   "metadata": {},
   "outputs": [],
   "source": [
    "# Put your code here:\n",
    "\n",
    "\n"
   ]
  },
  {
   "cell_type": "markdown",
   "metadata": {},
   "source": [
    "## Q4: Students and Schools [ &bigstar;&bigstar;&bigstar; ]\n",
    "\n",
    "Define a function called ```get_students_by_school```. The function takes in a dictionary as its parameter. This dictionary stores mappings from students to their corresponding schools. For example, the dictionary may contain ```'Joe Tan':'SIS'``` as a (key, value) pair.\n",
    "\n",
    "The function returns a new dictionary that stores mappings from each school to a list of students in that school. For example, if in the original dictionary there are two students, \"Joe Tan\" and \"Wendy Li\", who are from SIS, then in the returned new dictionary, the value associated with the key ```'SIS'``` should be ```['Joe Tan', 'Wendy Li']```."
   ]
  },
  {
   "cell_type": "code",
   "execution_count": null,
   "metadata": {},
   "outputs": [],
   "source": [
    "# Put your code here:\n",
    "\n",
    "\n"
   ]
  },
  {
   "cell_type": "code",
   "execution_count": null,
   "metadata": {},
   "outputs": [],
   "source": [
    "print('\\nTestcase')\n",
    "print('-' * 10)\n",
    "student_to_school_dict = {'Joe Tan':'SIS', 'Alan Lee':'SOE', 'George Wong':'SOSS', 'Liu Chee Hwa':'SOL', 'Ng Yew Tung':'SIS', 'Wendy Li':'SIS', 'Jerry Lim':'SOSS'}\n",
    "print(\"Expected: \")\n",
    "print(\"SIS :\\t['Joe Tan', 'Ng Yew Tung', 'Wendy Li']\")\n",
    "print(\"SOE :\\t['Alan Lee']\")\n",
    "print(\"SOSS :\\t['George Wong', 'Jerry Lim']\")\n",
    "print(\"SOL :\\t['Liu Chee Hwa']\")\n",
    "print(\"\\nActual  : \")\n",
    "school_to_student_dict = get_students_by_school(student_to_school_dict)\n",
    "for key in school_to_student_dict:\n",
    "    print(key + \" :\\t\" + str(school_to_student_dict[key]))\n"
   ]
  },
  {
   "cell_type": "markdown",
   "metadata": {},
   "source": [
    "## Q5: Word Counts\n",
    "\n",
    "### Background\n",
    "\n",
    "In data analytics, in order to quickly get a gist of what a collection of articles is talking about, __word clouds__ have been popularly used. \n",
    "\n",
    "Below is an example word cloud:"
   ]
  },
  {
   "cell_type": "markdown",
   "metadata": {},
   "source": [
    "<img src=\"https://sebastianraschka.com/images/blog/2014/twitter-wordcloud/my_twitter_wordcloud_1.jpg\" width=\"500\">"
   ]
  },
  {
   "cell_type": "markdown",
   "metadata": {},
   "source": [
    "In a word cloud, a word shown in a bigger size has appeared more frequently inside the collection of articles being analyzed whereas a word shown in a smaller size has appeared less frequently.\n",
    "\n",
    "In order to draw a word cloud, we need to first count the frequencies of each unique word inside the collection of articles that we want to analyze.\n",
    "\n",
    "### The Question\n",
    "\n",
    "### Part (a) [ &bigstar;&bigstar;&bigstar; ]\n",
    "\n",
    "Define a function called ```count_words_in_file()```. The function takes in as its parameter the name of a file, where each line of the file is the content of one article.\n",
    "\n",
    "The function returns a dictionary that stores the mappings from all the unique words found in the file to their total counts in the file.\n",
    "\n",
    "For example, if the word \"the\" has appeared 10 times the file, then the mapping ```'the':10``` should be stored inside the dictionary.\n",
    "\n",
    "You need to turn everything into lowercases before counting. For example, \"The\" and \"the\" are both counted as ```'the'``` in the dictionary.\n",
    "\n",
    "Simply use ```line.split()``` to break down a line into a list of words. You do not need to handle punctuation marks for this question."
   ]
  },
  {
   "cell_type": "code",
   "execution_count": null,
   "metadata": {},
   "outputs": [],
   "source": [
    "# Put your code here:\n",
    "def count_words_in_file(file_name):\n",
    "    with open(file_name, 'r') as f:\n",
    "        for line in f:\n",
    "            line = line.rstrip('\\n')\n",
    "            column = line.split(' ')\n",
    "\n"
   ]
  },
  {
   "cell_type": "markdown",
   "metadata": {},
   "source": [
    "We will now test your function with a file called \"spam_sms.txt\". This file stores many spam SMS messages. The data is obtained from the following link: https://www.kaggle.com/uciml/sms-spam-collection-dataset . Details about the data can be found here: http://www.dt.fee.unicamp.br/~tiago/smsspamcollection/ .\n",
    "\n"
   ]
  },
  {
   "cell_type": "code",
   "execution_count": null,
   "metadata": {},
   "outputs": [],
   "source": [
    "# Test Cases:\n",
    "\n",
    "file = 'spam_sms.txt'\n",
    "my_dict = count_words_in_file(file)\n",
    "\n",
    "print('\\nTestcase 1')\n",
    "print('-' * 10)\n",
    "print(\"Expected: 204\")\n",
    "print(\"Actual  : \" + str(my_dict['the']))\n",
    "\n",
    "print('\\nTestcase 2')\n",
    "print('-' * 10)\n",
    "print(\"Expected: 58\")\n",
    "print(\"Actual  : \" + str(my_dict['prize']))\n",
    "\n",
    "print('\\nTestcase 3')\n",
    "print('-' * 10)\n",
    "print(\"Expected: 1\")\n",
    "print(\"Actual  : \" + str(my_dict['presleys']))\n"
   ]
  },
  {
   "cell_type": "markdown",
   "metadata": {},
   "source": [
    "### Part (b) [ &bigstar;&bigstar; ]\n",
    "\n",
    "Now display all the words in the dictionary whose lengths are at least 4 and whose frequencies are above 50. \n",
    "\n",
    "Do you think these words can tell you something about a common theme in all these spam SMS messages?"
   ]
  },
  {
   "cell_type": "markdown",
   "metadata": {},
   "source": [
    "You should get the following output:\n",
    "\n",
    "```\n",
    "free : 171\n",
    "text : 110\n",
    "have : 135\n",
    "prize : 58\n",
    "claim : 105\n",
    "call : 336\n",
    "your : 258\n",
    "mobile : 109\n",
    "with : 108\n",
    "from : 127\n",
    "send : 65\n",
    "reply : 101\n",
    "please : 52\n",
    "nokia : 64\n",
    "now! : 70\n",
    "cash : 56\n",
    "contact : 56\n",
    "this : 79\n",
    "stop : 85\n",
    "only : 66\n",
    "just : 78\n",
    "```"
   ]
  },
  {
   "cell_type": "code",
   "execution_count": null,
   "metadata": {},
   "outputs": [],
   "source": [
    "# Put your code here:\n",
    "\n",
    "\n"
   ]
  },
  {
   "cell_type": "markdown",
   "metadata": {},
   "source": [
    "### Part (c) [ &bigstar;&bigstar;&bigstar; ]\n",
    "\n",
    "Are you able to find the top-10 frequent words inside the dictionary? You're expected to get the following top words and their frequencies:\n",
    "\n",
    "\n",
    "```\n",
    "[('to', 684), ('a', 375), ('call', 336), ('your', 258), ('you', 237), ('the', 204), ('for', 196), ('or', 188), ('free', 171), ('2', 169)]\n",
    "```"
   ]
  },
  {
   "cell_type": "code",
   "execution_count": null,
   "metadata": {},
   "outputs": [],
   "source": [
    "# Put your code here:\n",
    "\n",
    "\n"
   ]
  },
  {
   "cell_type": "markdown",
   "metadata": {},
   "source": [
    "## Q6: Employees [ &bigstar;&bigstar;&bigstar;]\n",
    "\n",
    "You are given a file called \"employees.txt\" that stores the information of some employees inside an organization. Each line of the file is about a single employee. For each employee, there are several pieces of information given. However, different employees may have different pieces of information given in the file. Take a look at the file to understand its structure.\n",
    "\n",
    "__You can assume that each line always contains the ID and name of an employee.__\n",
    "\n",
    "Write a prgram that allows a user to check the details of any employee. The user needs to first enter the employee's ID. If the ID is found, the name of the employee should be displayed first. After that, the program asks what information the user wants to know about the employee and displays the information accordingly. If the ID is not found or the requested information is not found, the program should display \"Not found!\"\n",
    "\n",
    "See a sample run of the program below:\n",
    "\n",
    "```\n",
    "Enter an employee ID: 3\n",
    "This employee is Peter Ng.\n",
    "    Enter a field name or 'S' to stop: title\n",
    "    The title is manager.\n",
    "    Enter a field name or 'S' to stop: marriage status\n",
    "    The marriage status is married.\n",
    "    Enter a field name or 'S' to stop: phone\n",
    "    Not found!\n",
    "    Enter a field name or 'S' to stop: S\n",
    "\n",
    "Do you want to search for another employee? [Y|N]:Y\n",
    "Enter an employee ID: 4\n",
    "Not found!\n",
    "\n",
    "Do you want to search for another employee? [Y|N]:Y\n",
    "Enter an employee ID: 10\n",
    "This employee is George Khoo.\n",
    "    Enter a field name or 'S' to stop: title\n",
    "    Not found!\n",
    "    Enter a field name or 'S' to stop: phone\n",
    "    The phone is 67893456.\n",
    "    Enter a field name or 'S' to stop: S\n",
    "\n",
    "Do you want to search for another employee? [Y|N]:N\n",
    "\n",
    "Good-bye!\n",
    "```\n",
    "\n",
    "__Hint:__ You should store the data in an appropriate dictionary such that when you search for the information of an employee, you only need to do dictionary lookup and no for-loops."
   ]
  },
  {
   "cell_type": "code",
   "execution_count": null,
   "metadata": {},
   "outputs": [],
   "source": [
    "# Put your code here:\n",
    "\n",
    "\n"
   ]
  },
  {
   "cell_type": "code",
   "execution_count": null,
   "metadata": {},
   "outputs": [],
   "source": []
  }
 ],
 "metadata": {
  "kernelspec": {
   "display_name": "Python 3 (ipykernel)",
   "language": "python",
   "name": "python3"
  },
  "language_info": {
   "codemirror_mode": {
    "name": "ipython",
    "version": 3
   },
   "file_extension": ".py",
   "mimetype": "text/x-python",
   "name": "python",
   "nbconvert_exporter": "python",
   "pygments_lexer": "ipython3",
   "version": "3.9.12"
  }
 },
 "nbformat": 4,
 "nbformat_minor": 2
}
