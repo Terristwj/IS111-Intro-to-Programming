{
 "cells": [
  {
   "cell_type": "markdown",
   "metadata": {
    "id": "P9yanKZ0y_rL"
   },
   "source": [
    "<table class=\"table table-bordered\">\n",
    "    <tr>\n",
    "        <th style=\"text-align:center; width:35%\"><img src='https://drive.google.com/uc?export=view&id=1zIB3Nw_z8N2SJSSdd2yWQIsDS0MGPYKm' style=\"width: 300px; height: 90px; \"></th>\n",
    "        <th style=\"text-align:center;\"><h3>IS111 - Lab 2</h3><h3>Functions (Part I)</h3></th>\n",
    "    </tr>\n",
    "</table>"
   ]
  },
  {
   "cell_type": "markdown",
   "metadata": {
    "id": "tcXUl16my_rN"
   },
   "source": [
    "### Q1 [ \\* ]: Code Tracing\n",
    "\n",
    "Given the following code, could you <b>predict</b> what is going to be the <b>output</b> of the code without running the code?\n",
    "\n",
    "You may want to use a <b>sheet of paper</b> to note down the various <b>values</b> of the <b>variables</b> stored in memory as well as what is <b>displayed</b> on the <b>screen</b> (if applicable).<br />\n",
    "\n",
    "Now run the code to <b>check</b> whether your guess is correct."
   ]
  },
  {
   "cell_type": "code",
   "execution_count": 5,
   "metadata": {
    "colab": {
     "base_uri": "https://localhost:8080/"
    },
    "executionInfo": {
     "elapsed": 404,
     "status": "ok",
     "timestamp": 1674715084309,
     "user": {
      "displayName": "Shen Jie",
      "userId": "04851799714295893002"
     },
     "user_tz": -480
    },
    "id": "FJSg2AW1y_rO",
    "outputId": "e651e97c-ea22-4eb2-9623-8fae5d5691d0"
   },
   "outputs": [
    {
     "ename": "SyntaxError",
     "evalue": "EOF while scanning triple-quoted string literal (2001927521.py, line 51)",
     "output_type": "error",
     "traceback": [
      "\u001b[0;36m  File \u001b[0;32m\"/var/folders/1r/v2jqmj6d2bd1k19cchvkg_sw0000gp/T/ipykernel_15848/2001927521.py\"\u001b[0;36m, line \u001b[0;32m51\u001b[0m\n\u001b[0;31m    z = 15\u001b[0m\n\u001b[0m          \n^\u001b[0m\n\u001b[0;31mSyntaxError\u001b[0m\u001b[0;31m:\u001b[0m EOF while scanning triple-quoted string literal\n"
     ]
    }
   ],
   "source": [
    "# lab2_Q1\n",
    "\n",
    "# ###########################################\n",
    "# The code below is given. Guess the output.\n",
    "# ###########################################\n",
    "\n",
    "def perform_magic_1(x):\n",
    "    x = x + 1\n",
    "    \n",
    "def perform_magic_2(x):\n",
    "    x = x + 10\n",
    "    return x\n",
    "    \n",
    "def perform_magic_3(y):\n",
    "    return (y + 3)\n",
    "\n",
    "def perform_magic_4(z):\n",
    "    z = z + 1 \n",
    "    z = perform_magic_2(z) \n",
    "    return (z + 1) \n",
    "\n",
    "x = 0 # hence everything will be zero\n",
    "print(x) # 0\n",
    "\n",
    "perform_magic_1(x)\n",
    "print(x) # 0\n",
    "\n",
    "perform_magic_2(x)\n",
    "print(x) # 0\n",
    "\n",
    "x = perform_magic_3(x) # reassigned x to another value\n",
    "print(f'''\n",
    ">> x = perform_magic_3(x)\n",
    ">> print(x)\n",
    "x = {x} # This is the new x. So x = 3. x = 0 is overrided by the new value\n",
    "''') # 3\n",
    "\n",
    "x = perform_magic_4(x)\n",
    "print(f'''\n",
    ">> x = perform_magic_4(x)\n",
    ">> print(x)\n",
    "x = {x} # Since x = 3. The new calculation for the new x is as follows:\n",
    "\n",
    ">> z = 3 + 1 \n",
    "z = 4\n",
    ">> z = perform_magic_2(4)\n",
    "z = 4 + 10\n",
    "z = 14 \n",
    ">> return (z + 1)\n",
    "z = 14 + 1 \n",
    "z = 15"
   ]
  },
  {
   "cell_type": "markdown",
   "metadata": {
    "id": "RlG_kI4Iy_rP"
   },
   "source": [
    "### Q2 [ \\* ]: Function Documentation and Function Call\n",
    "\n",
    "You are given the following function that displays all the integers ranging from $m$ to $n$. \n",
    "\n",
    "<b>Note:</b> You do not need to understand how the function is implemented. In other words, you can ignore Line 20 to Line 22 of the function below, but you should read the description of the function, i.e., the docstring."
   ]
  },
  {
   "cell_type": "code",
   "execution_count": null,
   "metadata": {
    "id": "WmGKQv0Jy_rQ"
   },
   "outputs": [],
   "source": [
    "# lab2_Q2\n",
    "\n",
    "# ##################################################\n",
    "# The code below is given. \n",
    "# We will study for-loop and range function later.\n",
    "# The focus of this exercise is to know how to use \n",
    "# or to call a given function.\n",
    "# ##################################################\n",
    "\n",
    "def display_numbers(m, n):\n",
    "    \"\"\"\n",
    "    This function displays all the integers between m and n sequentially in one row, with\n",
    "    a space between each two consecutive numbers.\n",
    "    For example, if m is 3 and n is 5, then this function prints out \"3 4 5\".\n",
    "    \n",
    "    Parameter:\n",
    "        - m: The starting number.\n",
    "        - n: The end number.\n",
    "    \"\"\"\n",
    "    for i in range(m, n + 1):\n",
    "        print(i, end=' ')\n",
    "    print()"
   ]
  },
  {
   "cell_type": "markdown",
   "metadata": {
    "id": "ymo0LuUAy_rQ"
   },
   "source": [
    "You can use the <b>help()</b> function to get the <b>description</b> of a function (which is in the triple quotes and which is called <b>docstring</b>). <br />\n",
    "Run the following code to see what happens:"
   ]
  },
  {
   "cell_type": "code",
   "execution_count": null,
   "metadata": {
    "id": "Nu-5KCgBy_rR",
    "outputId": "b3d8fe7f-d322-4281-efbd-59c8dd17b88c"
   },
   "outputs": [
    {
     "name": "stdout",
     "output_type": "stream",
     "text": [
      "Help on function display_numbers in module __main__:\n",
      "\n",
      "display_numbers(m, n)\n",
      "    This function displays all the integers between m and n sequentially in one row, with\n",
      "    a space between each two consecutive numbers.\n",
      "    For example, if m is 3 and n is 5, then this function prints out \"3 4 5\".\n",
      "    \n",
      "    Parameter:\n",
      "        - m: The starting number.\n",
      "        - n: The end number.\n",
      "\n"
     ]
    }
   ],
   "source": [
    "help(display_numbers)"
   ]
  },
  {
   "cell_type": "markdown",
   "metadata": {
    "id": "JGzu0siLy_rR"
   },
   "source": [
    "Now you know how to get the <font color = 'green'><b>docstring</b></font> of a function!\n",
    "\n",
    "Run the following code to see what happens. Is the actual output the same as you have expected?"
   ]
  },
  {
   "cell_type": "code",
   "execution_count": null,
   "metadata": {
    "id": "qOmqUdGty_rS",
    "outputId": "df45d7e4-d0fd-4923-de0e-ab3492a6a0f0"
   },
   "outputs": [
    {
     "name": "stdout",
     "output_type": "stream",
     "text": [
      "3 4 5 \n"
     ]
    }
   ],
   "source": [
    "# ##########################################################\n",
    "# The code below is given. Try it to see what happens \n",
    "# when we invoke the given function with the values 3 and 5.\n",
    "# ##########################################################\n",
    "\n",
    "display_numbers(3, 5)"
   ]
  },
  {
   "cell_type": "markdown",
   "metadata": {
    "id": "WI7EIXN_y_rS"
   },
   "source": [
    "Now your turn! <br />\n",
    "Write a piece of Python code that displays the following output:<br />\n",
    "<img align=\"left\" src='https://drive.google.com/uc?export=view&id=0B08uY8vosNfobm1NcFMySzRMN3c' style=\"width: 190px; height: 50px;\">"
   ]
  },
  {
   "cell_type": "code",
   "execution_count": null,
   "metadata": {
    "id": "0xtQNeUxy_rS",
    "outputId": "115c36e3-d3e4-454d-f7e6-d5f6865b9dce"
   },
   "outputs": [
    {
     "name": "stdout",
     "output_type": "stream",
     "text": [
      "0 1 2 3 4 5 6 7 8 9 10 \n",
      "5 6 7 8 9 \n"
     ]
    }
   ],
   "source": [
    "# ########################\n",
    "# Write your code below:\n",
    "# ########################\n",
    "\n",
    "def display_numbers(m, n):\n",
    "    for i in range(m, n + 1):\n",
    "        print(i, end=' ')\n",
    "    print()\n",
    "    \n",
    "display_numbers(0,10)\n",
    "display_numbers(5,9)\n"
   ]
  },
  {
   "cell_type": "markdown",
   "metadata": {
    "id": "7-aqypj0y_rT"
   },
   "source": [
    "### Q3 [ \\*\\* ]: Pattern Printer\n",
    "\n",
    "You are given a function called `print_pattern` as defined below. <br />\n",
    "Note that you <b>do not need to understand how the function is implemented</b>, (i.e., you do not need to understand Line 19 to Line 23 below). We will study it a bit later.\n",
    "\n",
    "Write a piece of <b>Python code</b> that uses this function to display the following output:\n",
    "\n",
    "<img align=\"left\" src='https://drive.google.com/uc?export=view&id=0B08uY8vosNfodWZMUUdTRFhBU1k' style=\"width: 500px; height: 150px;\">"
   ]
  },
  {
   "cell_type": "code",
   "execution_count": null,
   "metadata": {
    "id": "eE549B_4y_rT"
   },
   "outputs": [],
   "source": [
    "# lab2_Q3\n",
    "\n",
    "# ################################\n",
    "# The code below is given!!!\n",
    "# ################################\n",
    "\n",
    "def print_pattern(my_str, delimiter_str, n):\n",
    "    \"\"\"\n",
    "    This function prints the specified my_str for n times, where every two\n",
    "    consecutive my_str are separated by the specified delimiter_str. \n",
    "    For example, if my_str is \"abc\", delimiter_str is \"-\" and n is 3, then the\n",
    "    pattern being printed is \"abc-abc-abc\".\n",
    "    \n",
    "    Parameters:\n",
    "        - my_str: The string that's being repeatedly printed.\n",
    "        - delimiter_str: A string that serves as a delimiter.\n",
    "        - n: An integer indicating how many times my_str is being printed.\n",
    "    \"\"\"\n",
    "    print(my_str, end='')\n",
    "    for i in range(n-1):\n",
    "        print(delimiter_str, end='')\n",
    "        print(my_str, end='')\n",
    "    print()\n"
   ]
  },
  {
   "cell_type": "code",
   "execution_count": null,
   "metadata": {
    "id": "nBrWP0K2y_rT",
    "outputId": "68a13c32-efb8-4897-b1ac-cf20a449ce4a"
   },
   "outputs": [
    {
     "name": "stdout",
     "output_type": "stream",
     "text": [
      "SMU * SMU * SMU * SMU * SMU * SMU * SMU * SMU * SMU * SMU\n",
      "* PYTHON *** PYTHON *** PYTHON *** PYTHON *** PYTHON *\n",
      " \n",
      "* * * * \n",
      " * * * \n",
      "* * * * \n",
      " * * * \n",
      "* * * * \n"
     ]
    }
   ],
   "source": [
    "# ########################\n",
    "# Write your code below:\n",
    "# ########################\n",
    "\n",
    "def print_pattern(my_str, delimiter_str, n):\n",
    "    print(my_str, end='')\n",
    "    for i in range(n-1):\n",
    "        print(delimiter_str, end='')\n",
    "        print(my_str, end='')\n",
    "    print()\n",
    "\n",
    "print_pattern(\"SMU\", \" * \", 10)\n",
    "print_pattern(\"* PYTHON *\", \"*\", 5)\n",
    "print(\" \")\n",
    "print_pattern(\"\", \"* \", 5)\n",
    "print_pattern(\" \", \"*\", 4)\n",
    "print_pattern(\"\", \"* \", 5)\n",
    "print_pattern(\" \", \"*\", 4)\n",
    "print_pattern(\"\", \"* \", 5)"
   ]
  },
  {
   "cell_type": "markdown",
   "metadata": {
    "id": "DDcNgvRgy_rT"
   },
   "source": [
    "### Q4 [ \\*\\* ]: Interest Calculator\n",
    "\n",
    "So far you have practiced how to use a given function. In this exercise you will practice <b>how to define</b> your <b>own function</b>.\n",
    "\n",
    "Please refer back to Lab1 - Q5 and define a function called `calculate_interest` that takes in 4 parameters:\n",
    "<ul>\n",
    "    <li><code>principal</code>: the amount of principal that's deposited.</li>\n",
    "    <li><code>annual_interest_rate</code>: the annual interest rate.</li>\n",
    "    <li><code>frequency_of_compounding</code>: the number of times the interest is compounded per year.</li>\n",
    "    <li><code>deposit_period</code>: the deposit time (in years)</li>\n",
    "</ul>\n",
    "\n",
    "and returns the <b>total interest</b> earned by the end of the deposit period, <b>rounded</b> with 2 decimal places. (Use the built-in function `round(x, 2)` to round `x` to 2 decimal places.)\n",
    "\n",
    "Write a piece of code that prompts the user for his/her <b>principal</b> and the <b>deposit time</b>, and use the function to help you <b>calculate</b> and <b>display</b> the <b>interest earned</b> at the end of the deposit period.\n",
    "\n",
    "Your code should produce the following output (similar to previous lab1):<br />\n",
    "<img align=\"left\" src='https://drive.google.com/uc?export=view&id=0B08uY8vosNfoa0l1RHd5V0xEQkU' style=\"width: 390px; height: 90px;\">\n"
   ]
  },
  {
   "cell_type": "code",
   "execution_count": null,
   "metadata": {
    "id": "2dwUPohUy_rU"
   },
   "outputs": [],
   "source": [
    "# lab2_Q4\n",
    "\n",
    "# First, define the function calculate_interest():\n",
    "\n",
    "# ########################\n",
    "# Write your code below:\n",
    "# ########################\n",
    "\n",
    "def calculate_interest():\n",
    "    Accrued amount = ((1+annual_interest_rate/frequency_of_compounding)**(frequency_of_compounding*deposit_period))*principal\n",
    "    interest = accrued amount - principal\n",
    "    print ()\n",
    "    \n"
   ]
  },
  {
   "cell_type": "code",
   "execution_count": 1,
   "metadata": {
    "id": "RVxLhm4ay_rU",
    "outputId": "e43cbe52-a790-4b4b-8bb3-b2ec2ae72d87"
   },
   "outputs": [
    {
     "name": "stdout",
     "output_type": "stream",
     "text": [
      "What's the amount of your principal? 50000\n",
      "How many years do you want to deposit the money? 3.5\n",
      "\n",
      "The interest you will earn is $882.52\n"
     ]
    }
   ],
   "source": [
    "# Next, write code that prompts the user and displays the interest earned.\n",
    "# Use the default annual interest rate of 0.5%, compounded monthly.\n",
    "\n",
    "# ################################\n",
    "# The code below is given!!!\n",
    "# ################################\n",
    "\n",
    "# Annual interest rate (which is fixed)\n",
    "ANNUAL_INTEREST_RATE = 0.005\n",
    "# Number of times the interest is compounded per year\n",
    "FREQUENCY_OF_COMPOUNDING = 12\n",
    "\n",
    "# ########################\n",
    "# Write your code below:\n",
    "# ########################\n",
    "\n",
    "principal = float(input(\"What's the amount of your principal? \"))\n",
    "deposit_period = float(input(\"How many years do you want to deposit the money? \"))\n",
    "\n",
    "def calculate_interest():\n",
    "    accrued_amount = ((1+ ANNUAL_INTEREST_RATE / FREQUENCY_OF_COMPOUNDING)**(FREQUENCY_OF_COMPOUNDING * deposit_period) * principal)\n",
    "    interest = round(accrued_amount - principal, 2)\n",
    "    print(f\"The interest you will earn is ${interest}\")\n",
    "\n",
    "print(\"\")\n",
    "calculate_interest()"
   ]
  },
  {
   "cell_type": "markdown",
   "metadata": {
    "id": "p98a5Tu3y_rU"
   },
   "source": [
    "### Q5: Shopping Cart\n",
    "\n",
    "<b>Part 1 [ \\*\\* ]</b>: Implement a function called `calculate_price_after_discount` that takes in the following parameters:\n",
    "\n",
    "<ul>\n",
    "    <li><code>unit_price</code>: the unit price of an item</li>\n",
    "    <li><code>quantity</code>: the quantity of that item</li>\n",
    "    <li><code>discount</code>: the discount rate offered by the store for that item (e.g. 10 % off...)</li>\n",
    "</ul>\n",
    "\n",
    "and returns how much the customer has to pay for buying that particular quantity of items (after discount).\n",
    "\n",
    "For example, if the unit price of a ruler is <b>&dollar;1.50</b>, the quantity is <b>5</b> and the discount is <b>10&percnt;</b>, then the final price to pay will be $1.5 \\times 5 \\times (1 - 10/100)$, which is <b>&dollar;6.75</b>."
   ]
  },
  {
   "cell_type": "code",
   "execution_count": null,
   "metadata": {
    "id": "zhx_fc1py_rU"
   },
   "outputs": [],
   "source": [
    "# lab2_Q5_part1\n",
    "\n",
    "# ########################\n",
    "# Write your code below:\n",
    "# ########################\n",
    "\n",
    "def calculate_price_after_discount(unit_price, quantity, discount)\n",
    "    discount_percentage = (1 - discount/100)\n",
    "    final_price = unit_price * quantity * discount_percentage\n",
    "    print()\n",
    "\n",
    "\n"
   ]
  },
  {
   "cell_type": "markdown",
   "metadata": {
    "id": "LVmzdJmAy_rV"
   },
   "source": [
    "<b>Part 2 [ \\* ]</b>: Given the following items in the shopping cart with their unit price, quantity and discount, calculate the value of the <b>total payment after discount</b>:\n",
    "\n",
    "<ul>\n",
    "<li>milk: &dollar;5.95, 2, 10&percnt;</li>\n",
    "<li>rice: &dollar;6.50, 1, 5&percnt;</li>\n",
    "<li>eggs: &dollar;2.40, 2, 0&percnt;</li>\n",
    "<li>kaya: &dollar;3.95, 3, 15&percnt;</li>\n",
    "</ul>\n",
    "\n",
    "Your code should produce the following sample output: <br />\n",
    "<img align=\"left\" src='https://drive.google.com/uc?export=view&id=0B08uY8vosNfoYVdZbmF6VUlYN0E' style=\"width: 400px; height: 50px;\">"
   ]
  },
  {
   "cell_type": "code",
   "execution_count": null,
   "metadata": {
    "id": "LMKsHeIoy_rV",
    "outputId": "4e7e5ca8-047e-4142-8f76-e6b04916a198"
   },
   "outputs": [
    {
     "name": "stdout",
     "output_type": "stream",
     "text": [
      "The total of your shopping cart after discount is $31.76\n"
     ]
    }
   ],
   "source": [
    "# lab2_Q5_part2\n",
    "\n",
    "# ########################\n",
    "# Write your code below:\n",
    "# ########################\n",
    "\n",
    "def calculate_price_after_discount(unit_price, quantity, discount):\n",
    "    final_price = unit_price * quantity * (1 - discount/100)\n",
    "    return float(final_price)\n",
    "\n",
    "total_price = round(calculate_price_after_discount(5.95,2,10)+calculate_price_after_discount(6.50,1,5)+ calculate_price_after_discount(2.40,2,0)+calculate_price_after_discount(3.95,3,15),2)\n",
    "print(f\"The total of your shopping cart after discount is ${total_price}\")"
   ]
  },
  {
   "cell_type": "markdown",
   "metadata": {
    "id": "m3v2qG-gy_rV"
   },
   "source": [
    "### Q6 [ \\* ]:  Phone Bill\n",
    "\n",
    "You're given the function `compute_phone_bill` that computes the <b>amount on a monthly mobile phone bill</b>.<br />\n",
    "The function takes the following parameters:\n",
    "\n",
    "<ul>\n",
    "    <li><code>base</code>: the base premium</li>\n",
    "    <li><code>data_limit</code> (in Gb): the monthly limit of data usage</li>\n",
    "    <li><code>amount_data</code> (in Mb): the actual amount of data used for the month</li>\n",
    "    <li><code>num_extra_sms</code>: the number of extra SMS sent, with default set to 0</li>\n",
    "    <li><code>num_minutes_extra_calls</code>: the number of minutes of extra outgoing local calls, with default set to 0</li>\n",
    "</ul>\n",
    "\n",
    "Now the business rules for computing the monthly bills are as follows:\n",
    "<ul>\n",
    "<li>For each 1Mb of extra data usage, the charge is &dollar;4.5</li>\n",
    "<li>For each extra SMS, the charge is &dollar;0.05</li>\n",
    "<li>For each extra minute, the charge is &dollar;0.15</li>\n",
    "</ul>\n",
    "\n",
    "An implementation of the function is given below.<br />"
   ]
  },
  {
   "cell_type": "code",
   "execution_count": 13,
   "metadata": {
    "executionInfo": {
     "elapsed": 328,
     "status": "ok",
     "timestamp": 1674715411351,
     "user": {
      "displayName": "Shen Jie",
      "userId": "04851799714295893002"
     },
     "user_tz": -480
    },
    "id": "JNGvfMluy_rV"
   },
   "outputs": [],
   "source": [
    "# lab2_Q6\n",
    "\n",
    "# ################################\n",
    "# The code below is given!!!\n",
    "# ################################\n",
    "\n",
    "def compute_phone_bill(base, data_limit, amount_data=0.0, num_extra_sms=0, num_minutes_extra_calls=0):\n",
    "    return base + max(0.0, (amount_data - data_limit * 1024)) * 4.5 + num_extra_sms * 0.05 + num_minutes_extra_calls * 0.15\n"
   ]
  },
  {
   "cell_type": "markdown",
   "metadata": {
    "id": "INf6YQf2y_rV"
   },
   "source": [
    "Can you figure out the returned <b>values</b> of the following <b>function calls</b> without running the code?<br />\n",
    "Then run the code to <b>check</b> your answers.\n",
    "<ol>\n",
    "<li>compute_phone_bill(35.5, 2, 800)</li> \n",
    "<li>compute_phone_bill(35.5, 3)</li>\n",
    "<li>compute_phone_bill(22.5)</li>\n",
    "<li>compute_phone_bill(35.5, data_limit=2, amount_data=800)</li>\n",
    "<li>compute_phone_bill(base=35.5, data_limit=2, amount_data=800)</li>\n",
    "<li>compute_phone_bill(data_limit=2, amount_data=800, base=20)</li>\n",
    "<li>compute_phone_bill(35.5, amount_data=800, data_limit=2)</li>\n",
    "<li>compute_phone_bill(amount_data=800, data_limit=2)</li>\n",
    "<li>compute_phone_bill(32, 2, 800)</li>\n",
    "<li>compute_phone_bill(35.5, 2, 2050)</li>\n",
    "<li>compute_phone_bill(35.5, 2, 1900, 10, 20)</li>\n",
    "<li>compute_phone_bill(35.5, 2, num_minutes_extra_calls=100)</li>\n",
    "<li>compute_phone_bill(35.5, 2, num_minutes_extra_calls=0=100, num_extra_sms=100)</li>\n",
    "</ol>"
   ]
  },
  {
   "cell_type": "code",
   "execution_count": 11,
   "metadata": {
    "executionInfo": {
     "elapsed": 327,
     "status": "ok",
     "timestamp": 1674715194100,
     "user": {
      "displayName": "Shen Jie",
      "userId": "04851799714295893002"
     },
     "user_tz": -480
    },
    "id": "F2pr8ug7y_rW"
   },
   "outputs": [],
   "source": [
    "def compute_phone_bill(base, data_limit, amount_data=0.0, num_extra_sms=0, num_minutes_extra_calls=0):\n",
    "    return base + max(0.0, (amount_data - data_limit * 1024)) * 4.5 + num_extra_sms * 0.05 + num_minutes_extra_calls * 0.15\n"
   ]
  },
  {
   "cell_type": "code",
   "execution_count": 1,
   "metadata": {
    "colab": {
     "base_uri": "https://localhost:8080/"
    },
    "executionInfo": {
     "elapsed": 350,
     "status": "ok",
     "timestamp": 1674715857244,
     "user": {
      "displayName": "Shen Jie",
      "userId": "04851799714295893002"
     },
     "user_tz": -480
    },
    "id": "lGiEYyYE0PZs",
    "outputId": "1eecef88-549e-4953-e342-adc4d18c4ef8"
   },
   "outputs": [
    {
     "data": {
      "text/plain": [
       "35.5"
      ]
     },
     "execution_count": 1,
     "metadata": {},
     "output_type": "execute_result"
    }
   ],
   "source": [
    "def compute_phone_bill(base, data_limit, amount_data=0.0, num_extra_sms=0, num_minutes_extra_calls=0):\n",
    "    return base + max(0.0, (amount_data - data_limit * 1024)) * 4.5 + num_extra_sms * 0.05 + num_minutes_extra_calls * 0.15\n",
    "\n",
    "\n",
    "compute_phone_bill(35.5, 2, 800)\n",
    "compute_phone_bill(35.5, 3)\n",
    "# compute_phone_bill(22.5) No value for data limit\n",
    "compute_phone_bill(35.5, data_limit=2, amount_data=800)\n",
    "compute_phone_bill(base=35.5, data_limit=2, amount_data=800)\n",
    "compute_phone_bill(data_limit=2, amount_data=800, base=20)\n",
    "compute_phone_bill(35.5, amount_data=800, data_limit=2)\n",
    "# compute_phone_bill(amount_data=800, data_limit=2) No value for base and data limit \n",
    "compute_phone_bill(32, 2, 800)\n",
    "compute_phone_bill(35.5, 2, 2050)\n",
    "compute_phone_bill(35.5, 2, 1900, 10, 20)\n",
    "compute_phone_bill(35.5, 2, num_minutes_extra_calls=100)\n",
    "compute_phone_bill(35.5, 2, num_minutes_extra_calls=100, num_extra_sms=100)"
   ]
  },
  {
   "cell_type": "code",
   "execution_count": null,
   "metadata": {},
   "outputs": [],
   "source": [
    "# i have no idea tbh :\")"
   ]
  }
 ],
 "metadata": {
  "colab": {
   "provenance": []
  },
  "kernelspec": {
   "display_name": "Python 3 (ipykernel)",
   "language": "python",
   "name": "python3"
  },
  "language_info": {
   "codemirror_mode": {
    "name": "ipython",
    "version": 3
   },
   "file_extension": ".py",
   "mimetype": "text/x-python",
   "name": "python",
   "nbconvert_exporter": "python",
   "pygments_lexer": "ipython3",
   "version": "3.9.12"
  }
 },
 "nbformat": 4,
 "nbformat_minor": 1
}
