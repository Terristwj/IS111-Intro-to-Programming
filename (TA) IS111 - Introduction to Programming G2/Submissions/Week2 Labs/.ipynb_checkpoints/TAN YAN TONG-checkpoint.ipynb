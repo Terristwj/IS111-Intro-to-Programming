{
 "cells": [
  {
   "cell_type": "markdown",
   "metadata": {},
   "source": [
    "<table class=\"table table-bordered\">\n",
    "    <tr>\n",
    "        <th style=\"text-align:center; width:35%\"><img src='https://drive.google.com/uc?export=view&id=1zIB3Nw_z8N2SJSSdd2yWQIsDS0MGPYKm' style=\"width: 300px; height: 90px; \"></th>\n",
    "        <th style=\"text-align:center;\"><h3>IS111 - Lab 2</h3><h3>Functions (Part I)</h3></th>\n",
    "    </tr>\n",
    "</table>"
   ]
  },
  {
   "cell_type": "markdown",
   "metadata": {},
   "source": [
    "### Q1 [ \\* ]: Code Tracing\n",
    "\n",
    "Given the following code, could you <b>predict</b> what is going to be the <b>output</b> of the code without running the code?\n",
    "\n",
    "You may want to use a <b>sheet of paper</b> to note down the various <b>values</b> of the <b>variables</b> stored in memory as well as what is <b>displayed</b> on the <b>screen</b> (if applicable).<br />\n",
    "\n",
    "Now run the code to <b>check</b> whether your guess is correct."
   ]
  },
  {
   "cell_type": "code",
   "execution_count": 8,
   "metadata": {},
   "outputs": [
    {
     "name": "stdout",
     "output_type": "stream",
     "text": [
      "0\n",
      "0\n",
      "0\n",
      "3\n",
      "15\n"
     ]
    }
   ],
   "source": [
    "# lab2_Q1\n",
    "\n",
    "# ###########################################\n",
    "# The code below is given. Guess the output.\n",
    "# ###########################################\n",
    "\n",
    "def perform_magic_1(x):\n",
    "    x = x + 1\n",
    "    \n",
    "def perform_magic_2(x):\n",
    "    x = x + 10\n",
    "    return x\n",
    "    \n",
    "def perform_magic_3(y):\n",
    "    return (y + 3)\n",
    "\n",
    "def perform_magic_4(z):\n",
    "    x = z + 1\n",
    "    x = perform_magic_2(z)\n",
    "    return (z + 1)\n",
    "\n",
    "x = 0\n",
    "print(x) #answer: 0 --based on line 22\n",
    "\n",
    "perform_magic_1(x)\n",
    "print(x) #answer: 1\n",
    "# correct answer: 0 --> overwrites line 25? so 0?\n",
    "\n",
    "perform_magic_2(x)\n",
    "print(x) #answer: 10\n",
    "#correct answer: 0 --> overwrites line 29? so 0?\n",
    "\n",
    "x = perform_magic_3(x)\n",
    "print(x) #answer: 3\n",
    "\n",
    "x = perform_magic_4(x)\n",
    "print(x) #answer: ??\n",
    "#correct answer: 15 --> ?"
   ]
  },
  {
   "cell_type": "markdown",
   "metadata": {},
   "source": [
    "### Q2 [ \\* ]: Function Documentation and Function Call\n",
    "\n",
    "You are given the following function that displays all the integers ranging from $m$ to $n$. \n",
    "\n",
    "<b>Note:</b> You do not need to understand how the function is implemented. In other words, you can ignore Line 20 to Line 22 of the function below, but you should read the description of the function, i.e., the docstring."
   ]
  },
  {
   "cell_type": "code",
   "execution_count": 11,
   "metadata": {},
   "outputs": [],
   "source": [
    "# lab2_Q2\n",
    "\n",
    "# ##################################################\n",
    "# The code below is given. \n",
    "# We will study for-loop and range function later.\n",
    "# The focus of this exercise is to know how to use \n",
    "# or to call a given function.\n",
    "# ##################################################\n",
    "\n",
    "def display_numbers(m, n):\n",
    "    \"\"\"\n",
    "    This function displays all the integers between m and n sequentially in one row, with\n",
    "    a space between each two consecutive numbers.\n",
    "    For example, if m is 3 and n is 5, then this function prints out \"3 4 5\".\n",
    "    \n",
    "    Parameter:\n",
    "        - m: The starting number.\n",
    "        - n: The end number.\n",
    "    \"\"\"\n",
    "    for i in range(m, n + 1):\n",
    "        print(i, end=' ')\n",
    "    print()"
   ]
  },
  {
   "cell_type": "markdown",
   "metadata": {},
   "source": [
    "You can use the <b>help()</b> function to get the <b>description</b> of a function (which is in the triple quotes and which is called <b>docstring</b>). <br />\n",
    "Run the following code to see what happens:"
   ]
  },
  {
   "cell_type": "code",
   "execution_count": 15,
   "metadata": {},
   "outputs": [
    {
     "name": "stdout",
     "output_type": "stream",
     "text": [
      "Help on function display_numbers in module __main__:\n",
      "\n",
      "display_numbers(m, n)\n",
      "\n"
     ]
    }
   ],
   "source": [
    "help(display_numbers)"
   ]
  },
  {
   "cell_type": "markdown",
   "metadata": {},
   "source": [
    "Now you know how to get the <font color = 'green'><b>docstring</b></font> of a function!\n",
    "\n",
    "Run the following code to see what happens. Is the actual output the same as you have expected?"
   ]
  },
  {
   "cell_type": "code",
   "execution_count": 16,
   "metadata": {},
   "outputs": [
    {
     "name": "stdout",
     "output_type": "stream",
     "text": [
      "3 4 5 \n"
     ]
    }
   ],
   "source": [
    "# ##########################################################\n",
    "# The code below is given. Try it to see what happens \n",
    "# when we invoke the given function with the values 3 and 5.\n",
    "# ##########################################################\n",
    "\n",
    "display_numbers(3, 5)"
   ]
  },
  {
   "cell_type": "markdown",
   "metadata": {},
   "source": [
    "Now your turn! <br />\n",
    "Write a piece of Python code that displays the following output:<br />\n",
    "<img align=\"left\" src='https://drive.google.com/uc?export=view&id=0B08uY8vosNfobm1NcFMySzRMN3c' style=\"width: 190px; height: 50px;\">"
   ]
  },
  {
   "cell_type": "code",
   "execution_count": 21,
   "metadata": {
    "scrolled": true
   },
   "outputs": [
    {
     "name": "stdout",
     "output_type": "stream",
     "text": [
      "0 1 2 3 4 5 6 7 8 9 10 \n",
      "5 6 7 8 9 \n"
     ]
    }
   ],
   "source": [
    "# ########################\n",
    "# Write your code below:\n",
    "# ########################\n",
    "\n",
    "def display_numbers(m, n):\n",
    "    for i in range(m, n + 1):\n",
    "        print(i, end=' ')\n",
    "    print()\n",
    "    \n",
    "display_numbers(0,10)\n",
    "display_numbers(5,9)"
   ]
  },
  {
   "cell_type": "markdown",
   "metadata": {},
   "source": [
    "### Q3 [ \\*\\* ]: Pattern Printer\n",
    "\n",
    "You are given a function called `print_pattern` as defined below. <br />\n",
    "Note that you <b>do not need to understand how the function is implemented</b>, (i.e., you do not need to understand Line 19 to Line 23 below). We will study it a bit later.\n",
    "\n",
    "Write a piece of <b>Python code</b> that uses this function to display the following output:\n",
    "\n",
    "<img align=\"left\" src='https://drive.google.com/uc?export=view&id=0B08uY8vosNfodWZMUUdTRFhBU1k' style=\"width: 500px; height: 150px;\">"
   ]
  },
  {
   "cell_type": "code",
   "execution_count": 176,
   "metadata": {},
   "outputs": [
    {
     "name": "stdout",
     "output_type": "stream",
     "text": [
      "SMU * SMU * SMU * SMU * SMU * SMU * SMU * SMU * SMU * SMU\n",
      "*PYTHON *** PYTHON *** PYTHON *** PYTHON *** PYTHON\n",
      " \n",
      "* * * *\n",
      " * * *\n",
      "* * * *\n",
      " * * *\n",
      "* * * *\n"
     ]
    }
   ],
   "source": [
    "# lab2_Q3\n",
    "\n",
    "# ################################\n",
    "# The code below is given!!!\n",
    "# ################################\n",
    "\n",
    "def print_pattern(my_str, delimiter_str, n):\n",
    "    \"\"\"\n",
    "    This function prints the specified my_str for n times, where every two\n",
    "    consecutive my_str are separated by the specified delimiter_str. \n",
    "    For example, if my_str is \"abc\", delimiter_str is \"-\" and n is 3, then the\n",
    "    pattern being printed is \"abc-abc-abc\".\n",
    "    \n",
    "    Parameters:\n",
    "        - my_str: The string that's being repeatedly printed.\n",
    "        - delimiter_str: A string that serves as a delimiter.\n",
    "        - n: An integer indicating how many times my_str is being printed.\n",
    "    \"\"\"\n",
    "    print(my_str, end='')\n",
    "    for i in range(n-1):\n",
    "        print(delimiter_str, end='')\n",
    "        print(my_str, end='')\n",
    "    print()\n",
    "\n",
    "print_pattern(\"SMU\",\" * \",10)\n",
    "print(end= '*'), str(print_pattern(\"PYTHON\", \" *** \",5)) #not sure how to get the another astrict at the end\n",
    "print (\" \")\n",
    "print_pattern(\"*\",\" \",4)\n",
    "print_pattern(\" *\",\"\",3)\n",
    "print_pattern(\"*\",\" \",4)\n",
    "print_pattern(\" *\",\"\",3)\n",
    "print_pattern(\"*\",\" \",4)"
   ]
  },
  {
   "cell_type": "code",
   "execution_count": null,
   "metadata": {},
   "outputs": [],
   "source": [
    "# ########################\n",
    "# Write your code below:\n",
    "# ########################\n",
    "\n",
    "\n",
    "\n",
    "\n"
   ]
  },
  {
   "cell_type": "markdown",
   "metadata": {},
   "source": [
    "### Q4 [ \\*\\* ]: Interest Calculator\n",
    "\n",
    "So far you have practiced how to use a given function. In this exercise you will practice <b>how to define</b> your <b>own function</b>.\n",
    "\n",
    "Please refer back to Lab1 - Q5 and define a function called `calculate_interest` that takes in 4 parameters:\n",
    "<ul>\n",
    "    <li><code>principal</code>: the amount of principal that's deposited.</li>\n",
    "    <li><code>annual_interest_rate</code>: the annual interest rate.</li>\n",
    "    <li><code>frequency_of_compounding</code>: the number of times the interest is compounded per year.</li>\n",
    "    <li><code>deposit_period</code>: the deposit time (in years)</li>\n",
    "</ul>\n",
    "\n",
    "and returns the <b>total interest</b> earned by the end of the deposit period, <b>rounded</b> with 2 decimal places. (Use the built-in function `round(x, 2)` to round `x` to 2 decimal places.)\n",
    "\n",
    "Write a piece of code that prompts the user for his/her <b>principal</b> and the <b>deposit time</b>, and use the function to help you <b>calculate</b> and <b>display</b> the <b>interest earned</b> at the end of the deposit period.\n",
    "\n",
    "Your code should produce the following output (similar to previous lab1):<br />\n",
    "<img align=\"left\" src='https://drive.google.com/uc?export=view&id=0B08uY8vosNfoa0l1RHd5V0xEQkU' style=\"width: 390px; height: 90px;\">\n"
   ]
  },
  {
   "cell_type": "code",
   "execution_count": 243,
   "metadata": {},
   "outputs": [
    {
     "data": {
      "text/plain": [
       "882.52"
      ]
     },
     "execution_count": 243,
     "metadata": {},
     "output_type": "execute_result"
    }
   ],
   "source": [
    "# lab2_Q4\n",
    "\n",
    "# First, define the function calculate_interest():\n",
    "def calculate_interest():\n",
    "# ########################\n",
    "# Write your code below:\n",
    "# ########################\n",
    "#how do you calculate interest - the formula\n",
    "    interest_amount = (principal*((1 + (ANNUAL_INTEREST_RATE/FREQUENCY_OF_COMPOUNDING))**(FREQUENCY_OF_COMPOUNDING*years))) - 50000\n",
    "    round_up_interest_amount = round (interest_amount, 2)\n",
    "    return (round_up_interest_amount)\n",
    "\n",
    "calculate_interest()"
   ]
  },
  {
   "cell_type": "code",
   "execution_count": 250,
   "metadata": {},
   "outputs": [
    {
     "name": "stdout",
     "output_type": "stream",
     "text": [
      "What's the amount of your principal? 50000\n",
      "How many years do you want to deposit the money? 3.5\n",
      "The interest you will earn is $882.52\n",
      "The interest you will earn is $ 882.52\n"
     ]
    }
   ],
   "source": [
    "# Next, write code that prompts the user and displays the interest earned.\n",
    "# Use the default annual interest rate of 0.5%, compounded monthly.\n",
    "\n",
    "# ################################\n",
    "# The code below is given!!!\n",
    "# ################################\n",
    "\n",
    "# Annual interest rate (which is fixed)\n",
    "ANNUAL_INTEREST_RATE = 0.005\n",
    "# Number of times the interest is compounded per year\n",
    "FREQUENCY_OF_COMPOUNDING = 12\n",
    "\n",
    "# ########################\n",
    "# Write your code below:\n",
    "# ########################\n",
    "principal = float(input(\"What's the amount of your principal? \"))\n",
    "years= float(input(\"How many years do you want to deposit the money? \"))\n",
    "    \n",
    "print (\"The interest you will earn is $\" + str(calculate_interest())) \n",
    "# print(\"The interest you will earn is $\", calculate_interest()) --> why cannot use comma??"
   ]
  },
  {
   "cell_type": "markdown",
   "metadata": {},
   "source": [
    "### Q5: Shopping Cart\n",
    "\n",
    "<b>Part 1 [ \\*\\* ]</b>: Implement a function called `calculate_price_after_discount` that takes in the following parameters:\n",
    "\n",
    "<ul>\n",
    "    <li><code>unit_price</code>: the unit price of an item</li>\n",
    "    <li><code>quantity</code>: the quantity of that item</li>\n",
    "    <li><code>discount</code>: the discount rate offered by the store for that item (e.g. 10 % off...)</li>\n",
    "</ul>\n",
    "\n",
    "and returns how much the customer has to pay for buying that particular quantity of items (after discount).\n",
    "\n",
    "For example, if the unit price of a ruler is <b>&dollar;1.50</b>, the quantity is <b>5</b> and the discount is <b>10&percnt;</b>, then the final price to pay will be $1.5 \\times 5 \\times (1 - 10/100)$, which is <b>&dollar;6.75</b>."
   ]
  },
  {
   "cell_type": "code",
   "execution_count": 302,
   "metadata": {},
   "outputs": [
    {
     "data": {
      "text/plain": [
       "6.75"
      ]
     },
     "execution_count": 302,
     "metadata": {},
     "output_type": "execute_result"
    }
   ],
   "source": [
    "# lab2_Q5_part1\n",
    "\n",
    "# ########################\n",
    "# Write your code below:\n",
    "# ########################\n",
    "#define a function that calculates the price after discount\n",
    "#know the total price (unit price x quantity)\n",
    "# calculate the discounted rates\n",
    "\n",
    "def calculate_price_after_discount (unit_price,quantity,discount):\n",
    "    discounted_price = (unit_price*quantity)*(1-discount)\n",
    "    return discounted_price\n",
    "\n",
    "calculate_price_after_discount(1.5,5,0.1)\n"
   ]
  },
  {
   "cell_type": "markdown",
   "metadata": {},
   "source": [
    "<b>Part 2 [ \\* ]</b>: Given the following items in the shopping cart with their unit price, quantity and discount, calculate the value of the <b>total payment after discount</b>:\n",
    "\n",
    "<ul>\n",
    "<li>milk: &dollar;5.95, 2, 10&percnt;</li>\n",
    "<li>rice: &dollar;6.50, 1, 5&percnt;</li>\n",
    "<li>eggs: &dollar;2.40, 2, 0&percnt;</li>\n",
    "<li>kaya: &dollar;3.95, 3, 15&percnt;</li>\n",
    "</ul>\n",
    "\n",
    "Your code should produce the following sample output: <br />\n",
    "<img align=\"left\" src='https://drive.google.com/uc?export=view&id=0B08uY8vosNfoYVdZbmF6VUlYN0E' style=\"width: 400px; height: 50px;\">"
   ]
  },
  {
   "cell_type": "code",
   "execution_count": 326,
   "metadata": {},
   "outputs": [
    {
     "name": "stdout",
     "output_type": "stream",
     "text": [
      "The total of your shopping cart after discount is $31.76\n"
     ]
    }
   ],
   "source": [
    "# lab2_Q5_part2\n",
    "\n",
    "# ########################\n",
    "# Write your code below:\n",
    "# ########################\n",
    "\n",
    "def calculate_price_after_discount (unit_price,quantity,discount):\n",
    "    discounted_price = (unit_price*quantity)*(1-discount)\n",
    "    return discounted_price\n",
    "    \n",
    "print (\"The total of your shopping cart after discount is $\" + str (round ((calculate_price_after_discount(5.95,2,0.1)+ calculate_price_after_discount(6.5,1,0.05) + calculate_price_after_discount(2.4,2,0) + calculate_price_after_discount(3.95,3,0.15)),2)))\n",
    "    # +(calculate_price_after_discount(2.4,2,0))+(calculate_price_after_discount(3.95,3,0.15))\n",
    "\n"
   ]
  },
  {
   "cell_type": "markdown",
   "metadata": {},
   "source": [
    "### Q6 [ \\* ]:  Phone Bill\n",
    "\n",
    "You're given the function `compute_phone_bill` that computes the <b>amount on a monthly mobile phone bill</b>.<br />\n",
    "The function takes the following parameters:\n",
    "\n",
    "<ul>\n",
    "    <li><code>base</code>: the base premium</li>\n",
    "    <li><code>data_limit</code> (in Gb): the monthly limit of data usage</li>\n",
    "    <li><code>amount_data</code> (in Mb): the actual amount of data used for the month</li>\n",
    "    <li><code>num_extra_sms</code>: the number of extra SMS sent, with default set to 0</li>\n",
    "    <li><code>num_minutes_extra_calls</code>: the number of minutes of extra outgoing local calls, with default set to 0</li>\n",
    "</ul>\n",
    "\n",
    "Now the business rules for computing the monthly bills are as follows:\n",
    "<ul>\n",
    "<li>For each 1Mb of extra data usage, the charge is &dollar;4.5</li>\n",
    "<li>For each extra SMS, the charge is &dollar;0.05</li>\n",
    "<li>For each extra minute, the charge is &dollar;0.15</li>\n",
    "</ul>\n",
    "\n",
    "An implementation of the function is given below.<br />"
   ]
  },
  {
   "cell_type": "code",
   "execution_count": null,
   "metadata": {},
   "outputs": [],
   "source": [
    "# lab2_Q6\n",
    "\n",
    "# ################################\n",
    "# The code below is given!!!\n",
    "# ################################\n",
    "\n",
    "def compute_phone_bill(base, data_limit, amount_data=0.0, num_extra_sms=0, num_minutes_extra_calls=0):\n",
    "    return base + max(0.0, (amount_data - data_limit * 1024)) * 4.5 + num_extra_sms * 0.05 + num_minutes_extra_calls * 0.15\n"
   ]
  },
  {
   "cell_type": "markdown",
   "metadata": {},
   "source": [
    "Can you figure out the returned <b>values</b> of the following <b>function calls</b> without running the code?<br />\n",
    "Then run the code to <b>check</b> your answers.\n",
    "<ol>\n",
    "<li>compute_phone_bill(35.5, 2, 800)</li>\n",
    "<li>compute_phone_bill(35.5, 3)</li>\n",
    "<li>compute_phone_bill(22.5)</li>\n",
    "<li>compute_phone_bill(35.5, data_limit=2, amount_data=800)</li>\n",
    "<li>compute_phone_bill(base=35.5, data_limit=2, amount_data=800)</li>\n",
    "<li>compute_phone_bill(data_limit=2, amount_data=800, base=20)</li>\n",
    "<li>compute_phone_bill(35.5, amount_data=800, data_limit=2)</li>\n",
    "<li>compute_phone_bill(amount_data=800, data_limit=2)</li>\n",
    "<li>compute_phone_bill(32, 2, 800)</li>\n",
    "<li>compute_phone_bill(35.5, 2, 2050)</li>\n",
    "<li>compute_phone_bill(35.5, 2, 1900, 10, 20)</li>\n",
    "<li>compute_phone_bill(35.5, 2, num_minutes_extra_calls=100)</li>\n",
    "<li>compute_phone_bill(35.5, 2, num_minutes_extra_calls=0=100, num_extra_sms=100)</li>\n",
    "</ol>"
   ]
  },
  {
   "cell_type": "code",
   "execution_count": 337,
   "metadata": {},
   "outputs": [
    {
     "data": {
      "text/plain": [
       "50.5"
      ]
     },
     "execution_count": 337,
     "metadata": {},
     "output_type": "execute_result"
    }
   ],
   "source": [
    "def compute_phone_bill(base, data_limit, amount_data=0.0, num_extra_sms=0, num_minutes_extra_calls=0):\n",
    "    return base + max(0.0, (amount_data - data_limit * 1024)) * 4.5 + num_extra_sms * 0.05 + num_minutes_extra_calls * 0.15\n",
    "\n",
    "\n",
    "compute_phone_bill(35.5, 2, 800) #answer: 35.5\n",
    "compute_phone_bill(35.5, 3) #answer: 35.5\n",
    "# compute_phone_bill(22.5) #missing 1 required positional argument, \"data_limit\"\n",
    "compute_phone_bill(35.5, data_limit=2, amount_data=800) #answer: 35.5\n",
    "compute_phone_bill(base=35.5, data_limit=2, amount_data=800) #answer: 35.5\n",
    "compute_phone_bill(data_limit=2, amount_data=800, base=20) #answer: 20.0 --> why is this expressed in float?\n",
    "compute_phone_bill(35.5, amount_data=800, data_limit=2)\n",
    "# compute_phone_bill(amount_data=800, data_limit=2) #missing base\n",
    "compute_phone_bill(32, 2, 800) #answer: 32.0 --> expressed in float?\n",
    "compute_phone_bill(35.5, 2, 2050) #answer: 44.5\n",
    "compute_phone_bill(35.5, 2, 1900, 10, 20) #answer: 39.0\n",
    "compute_phone_bill(35.5, 2, num_minutes_extra_calls=100) #answer:50.5\n",
    "# compute_phone_bill(35.5, 2, num_minutes_extra_calls=0=100, num_extra_sms=100) #invalid syntax cannot be num_minutes_extra_calls = 0 = 100\n",
    "# must follow exactly to the functions' variable stated"
   ]
  },
  {
   "cell_type": "code",
   "execution_count": 351,
   "metadata": {},
   "outputs": [
    {
     "data": {
      "text/plain": [
       "39.0"
      ]
     },
     "execution_count": 351,
     "metadata": {},
     "output_type": "execute_result"
    }
   ],
   "source": [
    "def compute_phone_bill(base, data_limit, amount_data=0.0, num_extra_sms=0, num_minutes_extra_calls=0):\n",
    "    return base + max(0.0, (amount_data - data_limit * 1024)) * 4.5 + num_extra_sms * 0.05 + num_minutes_extra_calls * 0.15\n",
    "\n",
    "compute_phone_bill(35.5, 2, 1900, 10, 20)"
   ]
  },
  {
   "cell_type": "code",
   "execution_count": 345,
   "metadata": {},
   "outputs": [
    {
     "ename": "SyntaxError",
     "evalue": "invalid syntax (1767374927.py, line 13)",
     "output_type": "error",
     "traceback": [
      "\u001b[1;36m  File \u001b[1;32m\"C:\\Users\\Yan Tong\\AppData\\Local\\Temp\\ipykernel_25900\\1767374927.py\"\u001b[1;36m, line \u001b[1;32m13\u001b[0m\n\u001b[1;33m    compute_phone_bill(35.5, 2, num_minutes_extra_calls=0=100, num_extra_sms=100) #40.5\u001b[0m\n\u001b[1;37m                                                         ^\u001b[0m\n\u001b[1;31mSyntaxError\u001b[0m\u001b[1;31m:\u001b[0m invalid syntax\n"
     ]
    }
   ],
   "source": [
    "#personal answers\n",
    "compute_phone_bill(35.5, 2, 800) #35.5\n",
    "compute_phone_bill(35.5, 3) #35.5\n",
    "compute_phone_bill(22.5) #error?\n",
    "compute_phone_bill(35.5, data_limit=2, amount_data=800) #35.5\n",
    "compute_phone_bill(base=35.5, data_limit=2, amount_data=800) #35.5\n",
    "compute_phone_bill(data_limit=2, amount_data=800, base=20) #20\n",
    "compute_phone_bill(35.5, amount_data=800, data_limit=2) #35.5\n",
    "compute_phone_bill(amount_data=800, data_limit=2) #0\n",
    "compute_phone_bill(32, 2, 800) #32\n",
    "compute_phone_bill(35.5, 2, 2050) #44.5\n",
    "compute_phone_bill(35.5, 2, 1900, 10, 20) #167.75\n",
    "compute_phone_bill(35.5, 2, num_minutes_extra_calls=100) #50.5\n",
    "compute_phone_bill(35.5, 2, num_minutes_extra_calls=0=100, num_extra_sms=100) #40.5"
   ]
  },
  {
   "cell_type": "code",
   "execution_count": null,
   "metadata": {},
   "outputs": [],
   "source": []
  }
 ],
 "metadata": {
  "kernelspec": {
   "display_name": "Python 3 (ipykernel)",
   "language": "python",
   "name": "python3"
  },
  "language_info": {
   "codemirror_mode": {
    "name": "ipython",
    "version": 3
   },
   "file_extension": ".py",
   "mimetype": "text/x-python",
   "name": "python",
   "nbconvert_exporter": "python",
   "pygments_lexer": "ipython3",
   "version": "3.9.12"
  }
 },
 "nbformat": 4,
 "nbformat_minor": 2
}
