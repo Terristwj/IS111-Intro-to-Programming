{
 "cells": [
  {
   "cell_type": "markdown",
   "id": "f0561a9e",
   "metadata": {},
   "source": [
    "# Week 12"
   ]
  },
  {
   "cell_type": "markdown",
   "id": "b1ea4584",
   "metadata": {},
   "source": [
    "## Reflections\n",
    "\n",
    "### My Weekly Reflection reflections\n",
    "\n",
    "```\n",
    "- \"In your own words, what did you LEARN in class this week?\"\n",
    "    - i dont know lmao\n",
    "    - nothing much...\n",
    "    - everything is tough, is111 is hard\n",
    "- \"Which topic/activity did you ENJOY the most?\"\n",
    "    - Enjoy????\n",
    "    - at this point, nothing is enjoyable anymore... :(\n",
    "    - nothing :(\n",
    "    - :\")\n",
    "    - nah\n",
    "    - questioning my existence\n",
    "- \"Which topic/activity did you find the most CHALLENGING?\"\n",
    "    - Is it too late do drop?\n",
    "    - deciding if the question requires helper function\n",
    "    - this whole mod is a challenge\n",
    "    - lol the trial lab test made me question my existence\n",
    "```\n",
    "- Learning to program is hard, and it is especially stressful when there is a graded exam coming up\n",
    "- But, like with many things, it can get easier with practice\n",
    "\n",
    "![Flow](https://assets.website-files.com/602c0d03c082d985980c0fdd/60c3eb66f951c18b8b4b4969_ux-expert-flow-channel-01.png)\n",
    "- With standardized exams, the level of challenge is fixed.\n",
    "- To improve skill level: thoughtful practice. \n",
    "    - Understanding Python syntax: revise the concepts in Pre-Class Readings, practice doing ICE (\\* questions)\n",
    "    - Coming up with solution: practice ICE (\\*\\*/\\*\\*\\* questions), sample papers. Compare your answer logic to the provided solutions, see if there is a better way of solving the question.\n",
    "\n",
    "### Problem-Solving Strategies\n",
    "\n",
    "1) I realised that sometimes the solutions I think of doing are more complciated than the actual solutions\n",
    "    - Coming up with the solution algorithm is hard, and is something you get better at with practice.\n",
    "    - Personally, using the correct data types will get you halfway there. Also, a strong understanding of the syntax (i.e., revisit the Pre-Class Readings / ICEs and being able to write the solutions without referring to the Jupyter Notebook).\n",
    "\n",
    "2) not sure how to manage my time well for the test/finals, takes me very long while to think before executing the python; any tips on how to be more quick and efficient pls?\n",
    "    - Practice thoughtfully. Familiarity with the syntax enables you to focus on the problem.\n",
    "    - Memorize the code for common patterns\n",
    "        - Iterating over an [iterable](https://docs.python.org/3/glossary.html#term-iterable), and obtaining a single value (min/max/average)\n",
    "        - Iterating over an iterable, and returning an object (e.g., dictionary, list)\n",
    "        - Reading contents of a file into a list\n",
    "        - Writing lines to a file\n",
    "    - [When programming] Practice using the keyboard shortcuts (e.g., the `tab` key in Jupyter/Notepad++, up/down arrows in Anaconda Prompt).\n",
    "    - [When programming] Learn to read the error codes and understand what the compiler is telling you.\n",
    "        - Note: Finals will be typed into a text box (i.e., similar to Quiz, on eLearn, not in Jupyter). No syntax highlighting or autocomplete. Use (4) spaces instead of tab for indentation.\n",
    "\n",
    "### (Admin) Study week consultations:\n",
    "1. Consultations will be held on Tuesday (11th), Thursday (13th) afternoon, and the following Friday (21st), please try to come in groups if possible.\n",
    "2. (Interest check) Recap class (~1h) on Friday (14th) for Python syntax and concepts (e.g., memory state diagram, loops).\n",
    "    - Not compulsory, slides will be released after the class.\n",
    "\n",
    "### Trial Lab 2 - Question 3\n",
    "Comment:\n",
    "- mock q3 as it depends the accuracy of the smaller definitions, if the definitions are wrong, itll affect the output\n",
    "\n",
    "Strategy:\n",
    "- What patten do we need here? \n",
    "- Where is the question logic inserted?\n",
    "- What are the inputs (and their data types)?\n",
    "- What are the outputs (and their data types)? \n",
    "- What are the cases you need to deal with (hint: usually stated in the question)"
   ]
  }
 ],
 "metadata": {
  "kernelspec": {
   "display_name": "Python 3 (ipykernel)",
   "language": "python",
   "name": "python3"
  },
  "language_info": {
   "codemirror_mode": {
    "name": "ipython",
    "version": 3
   },
   "file_extension": ".py",
   "mimetype": "text/x-python",
   "name": "python",
   "nbconvert_exporter": "python",
   "pygments_lexer": "ipython3",
   "version": "3.9.15"
  }
 },
 "nbformat": 4,
 "nbformat_minor": 5
}
