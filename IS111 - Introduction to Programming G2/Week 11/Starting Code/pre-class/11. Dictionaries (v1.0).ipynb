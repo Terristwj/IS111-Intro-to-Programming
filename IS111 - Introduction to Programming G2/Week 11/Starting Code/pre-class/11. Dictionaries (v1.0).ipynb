{
 "cells": [
  {
   "cell_type": "markdown",
   "metadata": {},
   "source": [
    "<table class=\"table table-bordered\">\n",
    "    <tr>\n",
    "        <th style=\"text-align:center; width:35%\"><img src='https://drive.google.com/uc?export=view&id=1zIB3Nw_z8N2SJSSdd2yWQIsDS0MGPYKm' style=\"width: 300px; height: 90px; \"></th>\n",
    "        <th style=\"text-align:center;\"><h3>IS111 - Notebook 11</h3><h2>Dictionaries</h2></th>\n",
    "    </tr>\n",
    "</table>"
   ]
  },
  {
   "cell_type": "markdown",
   "metadata": {},
   "source": [
    "## Learning Outcomes\n",
    "\n",
    "After going through this notebook, you should be able to \n",
    "\n",
    "- Create a dictionary with some key/value pairs inside.\n",
    "- Retrieve the value associated with a specified key in a dictionary.\n",
    "- Check if a key exists in a dictionary.\n",
    "- Insert a key/value pair into a dictionary.\n",
    "- Update the value of a specified key in a dictionary.\n",
    "- Use ```keys()``` to retrieve all the keys inside a dictionary.\n",
    "- Understand when to use dictionaries."
   ]
  },
  {
   "cell_type": "markdown",
   "metadata": {},
   "source": [
    "## I. Introduction\n",
    "\n",
    "We have learned a number of data types that are sequences of values: \n",
    "\n",
    "- __str__: Strings, which are sequences of characters.\n",
    "- __list__: Lists, which are mutable sequences of values.\n",
    "- __tuple__: Tuples, which are immutable sequences of values.\n",
    "\n",
    "For all these data types that are sequences, to access a single element, we can use an __index__, which is an integer indicating the position of the element to be retrieved.\n",
    "\n",
    "In this notebook, we will introduce another data type called __dictionary__ (```dict``` in Python). Dictionaries are another kind of compound type to store a collection of elements. However, instead of storing a __sequence__ of elements, dictionaries are used to store __mappings__ from __keys__ to __values__.\n",
    "\n",
    "To understand this concept, think about the name __dictionary__. What is a dictionary? What do you use a dictionary for?\n",
    "\n",
    "A \"dictionary\" is essentially a book that stores __mappings__ from words to their definitions. When we use an English dictionary such as the Webster's Dictionary, for example, do we usually read it __sequentially__ as if it were a fiction? No! Instead, we use it for __lookup__, i.e., we use it to look up the definition of a particular word.\n",
    "\n",
    "Similarly, in Python a dictionary is also used for __lookup__. A dictionary in Python stores mappings between keys (analogous to words in a real dictionary) and values (analogous to definitions of words in a real dictionary). When we use a dictionary in Python, we usually use it to quickly look up the value of a particular key."
   ]
  },
  {
   "cell_type": "markdown",
   "metadata": {},
   "source": [
    "## II. Creating a Dictionary\n",
    "\n",
    "Assume we want to store the GPAs of all students in a class, and assume we want to be able to __quickly__ find the GPA of any student. In the past, we would likely use a list of tuples to store such information, and every time to get the GPA of a student, we would need to use a for-loop to go through the list in order to find the specified student and his/her GPA.\n",
    "\n",
    "Now let us see how we can use a dictionary to store this information and perform much faster lookup.\n",
    "\n",
    "The following code creates such a dictionary:"
   ]
  },
  {
   "cell_type": "code",
   "execution_count": null,
   "metadata": {},
   "outputs": [],
   "source": [
    "student_gpas = {'Mary': 3.41, 'Roy': 3.27, 'Jason': 3.75}\n",
    "print(type(student_gpas))"
   ]
  },
  {
   "cell_type": "markdown",
   "metadata": {},
   "source": [
    "If we run the code above, we can see that the type of the variable ```student_gpas``` is ```dict```, i.e., dictionary.\n",
    "\n",
    "To create a dictionary, we can see from the code above that we need to use a pair of curly braces ```{``` and ```}``` to enclose the content of a dictionary. The elements of a dictionary are still separated by commas, just like when we create a list. But each element of a dictionary contains two items separated by a ```:```, where the item before ```:``` is a key and the item after ```:``` is the value associated with that key.\n",
    "\n",
    "In the dcitionary above, each key is a student's name and the value associated with a key is the GPA of that student. For example, ```'Mary'``` is a key, and the value associated with ```'Mary'``` is ```3.41```."
   ]
  },
  {
   "cell_type": "markdown",
   "metadata": {},
   "source": [
    "<img align=\"left\" src='https://drive.google.com/uc?export=view&id=0B08uY8vosNfoeUJ4NUxtMlVNNnM' style=\"width: 55px; height: 55px;\">\n",
    "Hmm, is the <b>order</b> in which we place the key/value pairs in a dictionary important?<br />\n",
    "Not at all! <br />The <b>values</b> in a dictionary are accessed with <b>keys</b>, not with <b>indices</b> (i.e., positions)!"
   ]
  },
  {
   "cell_type": "markdown",
   "metadata": {},
   "source": [
    "## III. Looking up a Value inside a Dictionary\n",
    "\n",
    "Why is it useful to store the information above in a dictionary? It is because we can look up the value associated with a key very quickly, as shown below:"
   ]
  },
  {
   "cell_type": "code",
   "execution_count": null,
   "metadata": {},
   "outputs": [],
   "source": [
    "print(student_gpas['Mary'])\n",
    "print(student_gpas['Jason'])"
   ]
  },
  {
   "cell_type": "markdown",
   "metadata": {},
   "source": [
    "What the code above does is to directly retrieve the GPA of ```'Mary'``` and the GPA of ```'Jason'```, and to print them out. \n",
    "\n",
    "Generally, to retrieve the value associated with a key inside a dictionary, we use the following code:\n",
    "\n",
    "```\n",
    "    my_dict[key]\n",
    "```\n",
    "\n",
    "Here ```my_dict``` is the dictionary, and ```key``` is the key for the value we are looking for.\n"
   ]
  },
  {
   "cell_type": "markdown",
   "metadata": {},
   "source": [
    "<img align=\"left\" src='https://drive.google.com/uc?export=view&id=0B08uY8vosNfobDBuOXVXQWVxMFE' style=\"width: 55px; height: 55px;\">"
   ]
  },
  {
   "cell_type": "markdown",
   "metadata": {},
   "source": [
    "Given the following dictionary, could you write __just two lines of code__ that prompts the user for a person's name and then display the phone number of that person?\n",
    "\n",
    "Your program should run like the following, where ```Linda``` is a user input:\n",
    "\n",
    "```\n",
    "Enter a person's name: Linda\n",
    "+60 458734723\n",
    "```"
   ]
  },
  {
   "cell_type": "code",
   "execution_count": null,
   "metadata": {},
   "outputs": [],
   "source": [
    "phone_book = {'Jason':'+65 23455432', 'Mary':'99227744', 'Linda':'+60 458734723', 'Zack':'89456732'}\n",
    "\n",
    "# Write only two lines of code below:\n",
    "\n",
    "\n"
   ]
  },
  {
   "cell_type": "markdown",
   "metadata": {},
   "source": [
    "## IV. Check for Existence of a Key\n",
    "\n",
    "Run the code you have written above again but this time enter a name that is not contained in the dictionary, e.g., enter ```Jack``` as the person's name. What do you get? Likely you'll see a ```KeyError```.\n",
    "\n",
    "A ```KeyError``` occurs when you try to access the value of a key that does not exist in the given dictionary. \n",
    "\n",
    "How do we prevent a ```KeyError```? We can check whether a key exists in the dictionary before we attempt to access the value associated with the key. To check whether a key exists or not, we can simply use ```key in my_dict```, where ```key``` is a key and ```my_dict``` is a dictionary.\n",
    "\n",
    "See the example below. Without running the code, what do you expect the code to print to the screen? Now run the code to verify your guess."
   ]
  },
  {
   "cell_type": "code",
   "execution_count": null,
   "metadata": {},
   "outputs": [],
   "source": [
    "my_dict = {'Monday':'red', 'Tuesday':'blue', 'Wednesday':'green'}\n",
    "\n",
    "print('Monday' in my_dict)\n",
    "print('Thursday' in my_dict)"
   ]
  },
  {
   "cell_type": "markdown",
   "metadata": {},
   "source": [
    "So in general, if we are not sure whether a key exists or not in a dictionary, we'd better check the existence of the key first. The code below is an example:"
   ]
  },
  {
   "cell_type": "code",
   "execution_count": null,
   "metadata": {},
   "outputs": [],
   "source": [
    "my_dict = {'pen':0.45, 'ruler':1.25, 'eraser':0.35, 'notebook':1.45}\n",
    "\n",
    "item = input(\"What do you want to buy? \")\n",
    "if item in my_dict:\n",
    "    print(\"The price for \" + item + \" is $\" + str(my_dict[item]))\n",
    "else:\n",
    "    print(\"The item cannot be found!\")"
   ]
  },
  {
   "cell_type": "markdown",
   "metadata": {},
   "source": [
    "<img align=\"left\" src='https://drive.google.com/uc?export=view&id=0B08uY8vosNfoaXhScW13azZmTVk' style=\"width: 60px; height: 60px;\">\n",
    "\n",
    "It is important to note that the syntax above is to check the existence of a __key__, __NOT__ the existence of a __value__.\n",
    "\n",
    "Run the code below to understand this:"
   ]
  },
  {
   "cell_type": "code",
   "execution_count": null,
   "metadata": {},
   "outputs": [],
   "source": [
    "my_dict = {'Monday':'red', 'Tuesday':'blue', 'Wednesday':'green'}\n",
    "\n",
    "print('Monday' in my_dict)\n",
    "print('red' in my_dict)"
   ]
  },
  {
   "cell_type": "markdown",
   "metadata": {},
   "source": [
    "## V. Insert and Update Key/Value Pairs\n",
    "\n",
    "We can insert new key/value pairs into a dictionary. We can also change the value associated with an existing key in a dictionary. The same syntax is used for both insertion and modification, as shown below: "
   ]
  },
  {
   "cell_type": "code",
   "execution_count": null,
   "metadata": {},
   "outputs": [],
   "source": [
    "my_dict = {'Monday':'red', 'Tuesday':'blue', 'Wednesday':'green'}\n",
    "print(\"Original dictionary:\")\n",
    "print('\\t' + str(my_dict))\n",
    "\n",
    "my_dict['Thursday'] = 'yellow'\n",
    "print(\"After insertion:\")\n",
    "print('\\t' + str(my_dict))\n",
    "\n",
    "my_dict['Tuesday'] = 'orange'\n",
    "print(\"After modification:\")\n",
    "print('\\t' + str(my_dict))"
   ]
  },
  {
   "cell_type": "markdown",
   "metadata": {},
   "source": [
    "You can see that Line 5 above inserts a new key/value pair, where the key is ```'Thursday'``` and the value is ```'yellow'```.\n",
    "\n",
    "Line 9 above looks very similar to Line 5. However, because the key ```'Tuesday'``` already exists in the dictionary, the effect of Line 9 is to __replace__ the old value associated with ```'Tuesday'``` with a __new value__."
   ]
  },
  {
   "cell_type": "markdown",
   "metadata": {},
   "source": [
    "<img align=\"left\" src='https://drive.google.com/uc?export=view&id=0B08uY8vosNfoaXhScW13azZmTVk' style=\"width: 60px; height: 60px;\">\n",
    "\n",
    "It is important to note that a dictionary __cannot have duplicate keys__."
   ]
  },
  {
   "cell_type": "markdown",
   "metadata": {},
   "source": [
    "In the code above, we can see that ```my_dict['Tuesday'] = 'orange'``` replaces the old value associated with ```'Tuesday'```, which is ```'blue'```, with the new value ```'orange'```. A dictionary cannot store two different values for the same key."
   ]
  },
  {
   "cell_type": "markdown",
   "metadata": {},
   "source": [
    "<img align=\"left\" src='https://drive.google.com/uc?export=view&id=0B08uY8vosNfobDBuOXVXQWVxMFE' style=\"width: 60px; height: 60px;\"><br />Let's do an exercise !"
   ]
  },
  {
   "cell_type": "markdown",
   "metadata": {},
   "source": [
    "You are given an empty dictionary called ```courses```. Insert the following information into this dictionary:\n",
    "\n",
    "```\n",
    "'IS111':'Introduction to Programming'\n",
    "'IS112':'Data Management'\n",
    "```"
   ]
  },
  {
   "cell_type": "code",
   "execution_count": null,
   "metadata": {},
   "outputs": [],
   "source": [
    "courses = {}\n",
    "\n",
    "# Write your code below to insert two key/value pairs into courses:\n",
    "\n",
    "\n"
   ]
  },
  {
   "cell_type": "markdown",
   "metadata": {},
   "source": [
    "After your modification to the code above, you should see the following output for the test code below:\n",
    "\n",
    "```\n",
    "The title of IS111 is Introduction to Programming\n",
    "The title of IS111 is Data Management\n",
    "```"
   ]
  },
  {
   "cell_type": "code",
   "execution_count": null,
   "metadata": {},
   "outputs": [],
   "source": [
    "# Test code:\n",
    "print(\"The title of IS111 is \" + courses['IS111'])\n",
    "print(\"The title of IS111 is \" + courses['IS112'])"
   ]
  },
  {
   "cell_type": "markdown",
   "metadata": {
    "collapsed": true
   },
   "source": [
    "## VI. Dictionary Methods\n",
    "\n",
    "There are some methods for dictionaries that you may find useful.\n",
    "\n",
    "### (a) Retrieving all the keys\n",
    "\n",
    "Given a dictionary, if we'd like to get all the keys, we can use the ```keys()``` method as shown below:"
   ]
  },
  {
   "cell_type": "code",
   "execution_count": null,
   "metadata": {},
   "outputs": [],
   "source": [
    "my_dict = {'Monday':'red', 'Tuesday':'blue', 'Wednesday':'green', 'Thursday':'yellow'}\n",
    "\n",
    "my_keys = my_dict.keys()"
   ]
  },
  {
   "cell_type": "markdown",
   "metadata": {},
   "source": [
    "Here ```my_keys``` is of a special data type called ```dict_keys```, as you can verify using the code below:"
   ]
  },
  {
   "cell_type": "code",
   "execution_count": null,
   "metadata": {},
   "outputs": [],
   "source": [
    "print(type(my_keys))"
   ]
  },
  {
   "cell_type": "markdown",
   "metadata": {},
   "source": [
    "If you'd like to go through all the elements inside ```my_keys```, you can use a for-loop as if ```my_keys``` were a list (but remember that it is __not__ a list):"
   ]
  },
  {
   "cell_type": "code",
   "execution_count": null,
   "metadata": {},
   "outputs": [],
   "source": [
    "for key in my_keys:\n",
    "    print(key)"
   ]
  },
  {
   "cell_type": "markdown",
   "metadata": {},
   "source": [
    "If you want, you can cast ```my_keys``` into a list by using the ```list()``` function, as shown below:"
   ]
  },
  {
   "cell_type": "code",
   "execution_count": null,
   "metadata": {},
   "outputs": [],
   "source": [
    "my_key_list = list(my_keys)\n",
    "print(my_key_list)"
   ]
  },
  {
   "cell_type": "markdown",
   "metadata": {},
   "source": [
    "### (b) Retrieving all the values\n",
    "\n",
    "There is a similar method called ``values()`` for us to retrieve all the values of a dictionary, as shown below:"
   ]
  },
  {
   "cell_type": "code",
   "execution_count": null,
   "metadata": {},
   "outputs": [],
   "source": [
    "my_dict = {'Monday':'red', 'Tuesday':'blue', 'Wednesday':'green', 'Thursday':'yellow'}\n",
    "\n",
    "my_values = my_dict.values()\n",
    "print(my_values)"
   ]
  },
  {
   "cell_type": "markdown",
   "metadata": {},
   "source": [
    "### (c) Retrieving all the key/values pairs\n",
    "\n",
    "There is also a method called ```items()``` for us to retrieve all the key/value pairs in a dictionary:"
   ]
  },
  {
   "cell_type": "code",
   "execution_count": null,
   "metadata": {},
   "outputs": [],
   "source": [
    "my_dict = {'Monday':'red', 'Tuesday':'blue', 'Wednesday':'green', 'Thursday':'yellow'}\n",
    "\n",
    "my_items = my_dict.items()\n",
    "print(my_items)"
   ]
  },
  {
   "cell_type": "markdown",
   "metadata": {},
   "source": [
    "<img align=\"left\" src='https://drive.google.com/uc?export=view&id=0B08uY8vosNfoaXhScW13azZmTVk' style=\"width: 60px; height: 60px;\">\n",
    "\n",
    "Do not abuse the use of the ```keys()```, ```values()``` and ```items()```! Remember that dictionaries are usually used for quick lookup of values. We usually do not need to retrieve all the keys, all the values, or all the key/value pairs."
   ]
  },
  {
   "cell_type": "markdown",
   "metadata": {},
   "source": [
    "<img align=\"left\" src='https://drive.google.com/uc?export=view&id=0B08uY8vosNfobDBuOXVXQWVxMFE' style=\"width: 60px; height: 60px;\"><br />Let's do an exercise !"
   ]
  },
  {
   "cell_type": "markdown",
   "metadata": {},
   "source": [
    "You are given a file called \"email_IDs.txt\" that contains a list of students with their email IDs, separated by tabs in each line.\n",
    "\n",
    "Write a program that first reads the file and stores the information into a dictionary.\n",
    "\n",
    "Then the program prompts the user for a student ID. It then displays the name of the student with that student ID. If the email ID cannot be found, the program displays \"Not found!\"\n",
    "\n",
    "Two sample runs of the program can be found below:\n",
    "\n",
    "- Sample Run #1\n",
    "\n",
    "```\n",
    "Enter an email ID: ng.yh.2015\n",
    "Ng Yin Hui\n",
    "```\n",
    "\n",
    "- Sample Run #2\n",
    "\n",
    "```\n",
    "Enter an email ID: peter.liu.2017\n",
    "Not found!\n",
    "```\n",
    "\n",
    "- Sample Run #3\n",
    "\n",
    "```\n",
    "Enter an email ID: liu.peter.2017\n",
    "Peter Liu\n",
    "```"
   ]
  },
  {
   "cell_type": "code",
   "execution_count": null,
   "metadata": {},
   "outputs": [],
   "source": [
    "# Write your code below:\n",
    "\n",
    "\n",
    "\n"
   ]
  },
  {
   "cell_type": "code",
   "execution_count": null,
   "metadata": {},
   "outputs": [],
   "source": []
  }
 ],
 "metadata": {
  "kernelspec": {
   "display_name": "Python 3",
   "language": "python",
   "name": "python3"
  },
  "language_info": {
   "codemirror_mode": {
    "name": "ipython",
    "version": 3
   },
   "file_extension": ".py",
   "mimetype": "text/x-python",
   "name": "python",
   "nbconvert_exporter": "python",
   "pygments_lexer": "ipython3",
   "version": "3.8.8"
  }
 },
 "nbformat": 4,
 "nbformat_minor": 2
}
