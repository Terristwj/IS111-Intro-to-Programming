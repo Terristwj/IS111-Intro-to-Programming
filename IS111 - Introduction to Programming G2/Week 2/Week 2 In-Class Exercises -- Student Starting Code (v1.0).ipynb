{
 "cells": [
  {
   "cell_type": "markdown",
   "metadata": {},
   "source": [
    "<table class=\"table table-bordered\">\n",
    "    <tr>\n",
    "        <th style=\"text-align:center; width:35%\"><img src='https://drive.google.com/uc?export=view&id=1zIB3Nw_z8N2SJSSdd2yWQIsDS0MGPYKm' style=\"width: 300px; height: 90px; \"></th>\n",
    "        <th style=\"text-align:center;\"><h3>IS111 - In-Class Exercises</h3><h3>Week 2</h3></th>\n",
    "    </tr>\n",
    "</table>"
   ]
  },
  {
   "cell_type": "markdown",
   "metadata": {},
   "source": [
    "### Q1: Functions for Numbers [ &#9733; ]"
   ]
  },
  {
   "cell_type": "markdown",
   "metadata": {},
   "source": [
    "#### (a)"
   ]
  },
  {
   "cell_type": "code",
   "execution_count": null,
   "metadata": {},
   "outputs": [],
   "source": [
    "# ################################################################################\n",
    "# The following code is given to you.\n",
    "def compute_average(a, b, c):\n",
    "    \"\"\"\n",
    "    This function returns the average of the three numbers a, b and c.\n",
    "    \"\"\"\n",
    "    return (a + b + c)/3\n",
    "\n",
    "# ################################################################################    \n",
    "# Write your code below:\n",
    "\n",
    "\n",
    "\n",
    "\n",
    "\n"
   ]
  },
  {
   "cell_type": "markdown",
   "metadata": {},
   "source": [
    "#### (b)"
   ]
  },
  {
   "cell_type": "code",
   "execution_count": null,
   "metadata": {},
   "outputs": [],
   "source": [
    "# ################################################################################\n",
    "# Implement the function below:\n",
    "def compute_geometric_mean(x, y, z):\n",
    "    \"\"\"\n",
    "    This function returns the geometric mean of the three numbers x, y and z.\n",
    "    \"\"\"\n",
    "    # Write your code here:\n",
    "    \n",
    "    \n",
    "    \n",
    "    \n",
    "\n",
    "# ################################################################################    \n",
    "# The code below is to test your implementation above.\n",
    "# DO NOT MODIFY THE CODE BELOW!\n",
    "\n",
    "print(\"The geometric mean of 2, 4 and 6 is:\", compute_geometric_mean(2, 4, 6))"
   ]
  },
  {
   "cell_type": "markdown",
   "metadata": {},
   "source": [
    "### Q2: Message Printer [ &#9733; ]"
   ]
  },
  {
   "cell_type": "code",
   "execution_count": null,
   "metadata": {},
   "outputs": [],
   "source": [
    "# ################################################################################\n",
    "# The following code is given to you.\n",
    "def print_a_line():\n",
    "    \"\"\"\n",
    "    This function displays a line of 20 dashes.\n",
    "    \"\"\"\n",
    "    print(\"--------------------\")\n",
    "    \n",
    "def print_a_message(msg, symbol):\n",
    "    \"\"\"\n",
    "    This function displays a given text message enclosed in a pair of the specified symbols.\n",
    "    For example, if msg is \"Welcome\" and symbol is \"#\", then the function displays \"# Welcome #\".\n",
    "    \n",
    "    Parameters:\n",
    "      - msg: A string that represents the text message to be displayed.\n",
    "      - symbol: A single character that is used to enclose the text message.\n",
    "    \"\"\"\n",
    "    print(symbol + \" \" + msg + \" \" + symbol)\n",
    "    \n",
    "# ################################################################################    \n",
    "# Write your code below:\n",
    "\n",
    "\n",
    "\n",
    "\n",
    "\n",
    "\n",
    "\n",
    "# ################################################################################"
   ]
  },
  {
   "cell_type": "markdown",
   "metadata": {},
   "source": [
    "### Q3: Signage Printer [ &#9733;&#9733; ]"
   ]
  },
  {
   "cell_type": "code",
   "execution_count": null,
   "metadata": {},
   "outputs": [],
   "source": [
    "# ################################################################################\n",
    "# The following code is given to you.\n",
    "def print_a_customized_line(symbol, n):\n",
    "    \"\"\"\n",
    "    This function prints the specified symbol n times in the same row.\n",
    "    For example, if symbol is '*' and n is 5, the function prints '*****'.\n",
    "    \n",
    "    Parameters:\n",
    "        - symbol: The symbol to be repeated.\n",
    "        - n: The number of times the symbol is to be repeated.\n",
    "    \"\"\"\n",
    "    for i in range(n):\n",
    "        print(symbol, end='')\n",
    "    print()\n",
    "# ################################################################################\n",
    "    \n",
    "\n",
    "# ################################################################################\n",
    "# This function is for you to implement!\n",
    "def print_signage(msg, symbol):\n",
    "    pass\n",
    "    # Write your code below to print out the correct output.\n",
    "    \n",
    "   \n",
    "\n",
    "\n",
    "    \n",
    "    \n",
    "# ################################################################################\n",
    "\n",
    "\n",
    "# ################################################################################\n",
    "# The code below is to test your implementation above.\n",
    "# DO NOT MODIFY THE CODE BELOW!\n",
    "\n",
    "print_signage(\"Hello!\", \"*\")\n",
    "print()\n",
    "print_signage(\"Welcome to SMU\", \"#\")\n",
    "# ################################################################################"
   ]
  },
  {
   "cell_type": "markdown",
   "metadata": {},
   "source": [
    "### Q4: Banknotes and Coins [ &#9733; ]"
   ]
  },
  {
   "cell_type": "code",
   "execution_count": null,
   "metadata": {},
   "outputs": [],
   "source": [
    "# ################################################################################\n",
    "# The following code is given to you.\n",
    "def calculate_total_amount(fifty_note, ten_note, five_note=0, two_note=0, one_coin=0):\n",
    "    \"\"\"\n",
    "    This function takes in five parameters representing the numbers of banknotes and coin of\n",
    "    different denominations received. The function returns the total amount of money.\n",
    "    Parameters:\n",
    "        - fifty_note: The number of fifty-dollar notes.\n",
    "        - ten_note: The number of ten-dollar notes.\n",
    "        - five_note: The number of five-dollar notes.\n",
    "        - two_note: The number of two-dollar notes.\n",
    "        - one_coin: The number of one-dollar coins.\n",
    "    Return:\n",
    "        The total amount in dollars of the notes and coins passed in.\n",
    "    \"\"\"\n",
    "    return fifty_note * 50 + ten_note * 10 + five_note * 5 + two_note * 2 + one_coin\n",
    "# ################################################################################\n",
    "\n",
    "\n",
    "# You can verify your answers to Q4 by printing out the values of the function calls below.\n",
    "\n",
    "print(calculate_total_amount(2, 3))\n",
    "print(calculate_total_amount(2, 3, 4))\n",
    "print(calculate_total_amount(2, 3, 4, 1))\n",
    "print(calculate_total_amount(2, 3, 4, 1, 3))\n",
    "print(calculate_total_amount(2, 3, two_note=4))\n",
    "print(calculate_total_amount(2, 3, two_note=4, five_note=1))\n",
    "print(calculate_total_amount(3, two_note=4, five_note=1))\n"
   ]
  },
  {
   "cell_type": "markdown",
   "metadata": {},
   "source": [
    "### Q5: Python Standard Libraries [ &#9733; ]\n",
    "\n",
    "#### a) Square"
   ]
  },
  {
   "cell_type": "code",
   "execution_count": null,
   "metadata": {},
   "outputs": [],
   "source": [
    "# Write your code below.\n",
    "\n",
    "\n",
    "\n",
    "\n",
    "\n"
   ]
  },
  {
   "cell_type": "markdown",
   "metadata": {},
   "source": [
    "#### b) Random number"
   ]
  },
  {
   "cell_type": "code",
   "execution_count": null,
   "metadata": {},
   "outputs": [],
   "source": [
    "# Write your code below.\n",
    "\n",
    "\n",
    "\n",
    "\n",
    "\n"
   ]
  },
  {
   "cell_type": "markdown",
   "metadata": {},
   "source": [
    "### Q6\n",
    "\n",
    "Please use Notepad++ and Anaconda Prompt for this question."
   ]
  },
  {
   "cell_type": "markdown",
   "metadata": {},
   "source": [
    "### Q7: System Time [ &#9733;&#9733; ]"
   ]
  },
  {
   "cell_type": "code",
   "execution_count": null,
   "metadata": {},
   "outputs": [],
   "source": [
    "# This line of code prompts the user for a system time.\n",
    "input_str = input('Please enter the system time (in seconds): ')\n",
    "\n",
    "################################################################################\n",
    "# Complete the code below to get the correct numbers of days, hours, minutes and seconds.\n",
    "\n",
    "num_days = 0\n",
    "num_hours = 0\n",
    "num_minutes = 0\n",
    "num_seconds = 0\n",
    "\n",
    "# Put your code below\n",
    "\n",
    "\n",
    "\n",
    "\n",
    "\n",
    "\n",
    "\n",
    "\n",
    "\n",
    "\n",
    "################################################################################\n",
    "# DO NOT MODIFY THE CODE BELOW!!!\n",
    "\n",
    "# This line of code displays the results.\n",
    "print('Based on this system time, ' + str(num_days) + ' days, ' + str(num_hours) + ' hours, ' + str(num_minutes) + ' minutes and ' + str(num_seconds) + ' seconds have passed since 1 January 1970 00:00:00 UT.') \n"
   ]
  },
  {
   "cell_type": "markdown",
   "metadata": {},
   "source": [
    "### Q8: Tax Calculator\n",
    "\n",
    "#### a) [ &#9733; ]"
   ]
  },
  {
   "cell_type": "code",
   "execution_count": null,
   "metadata": {},
   "outputs": [],
   "source": [
    "# ################################################################################\n",
    "# This function is for you to implement!\n",
    "def calculate_tax_1(income):\n",
    "    \"\"\"\n",
    "    This function assumes that the income is between $20,000 and $30,000.\n",
    "    \"\"\"\n",
    "    \n",
    "    # Modify the code below to return the right amount of tax.\n",
    "    \n",
    "    return 0.0\n",
    "    \n",
    "    \n",
    "    \n",
    "# ################################################################################\n",
    "\n",
    "# Call the function above to test whether it works.\n",
    "print(calculate_tax_1(25000.0))\n"
   ]
  },
  {
   "cell_type": "markdown",
   "metadata": {},
   "source": [
    "#### b) [ &#9733;&#9733; ]"
   ]
  },
  {
   "cell_type": "code",
   "execution_count": null,
   "metadata": {},
   "outputs": [],
   "source": [
    "# ################################################################################\n",
    "# This function is for you to implement!\n",
    "def calculate_tax_2(income):\n",
    "    \"\"\"\n",
    "    This function assumes that the income is between $0 and $30,000.\n",
    "    \"\"\"\n",
    "    \n",
    "    # Modify the code below to return the right amount of tax.\n",
    "    \n",
    "    return 0\n",
    "\n",
    "   \n",
    "\n",
    "\n",
    "\n",
    "\n",
    "\n",
    "\n",
    "# ################################################################################\n",
    "\n",
    "# Call the function above to test whether it works.\n",
    "print(calculate_tax_2(25000.0))\n",
    "print(calculate_tax_2(10000.0))\n"
   ]
  },
  {
   "cell_type": "markdown",
   "metadata": {},
   "source": [
    "#### c) [ &#9733;&#9733;&#9733; ]"
   ]
  },
  {
   "cell_type": "code",
   "execution_count": null,
   "metadata": {},
   "outputs": [],
   "source": [
    "# ################################################################################\n",
    "# This function is for you to implement!\n",
    "def calculate_tax_3(income):\n",
    "    \"\"\"\n",
    "    This function assumes that the income is between $0 and $40,000.\n",
    "    \"\"\"\n",
    "    \n",
    "    # Modify the code below to return the right amount of tax.\n",
    "    \n",
    "    return 0\n",
    "\n",
    "# ################################################################################\n",
    "\n",
    "# Call the function above to test whether it works.\n",
    "print(calculate_tax_3(25000.0))\n",
    "print(calculate_tax_3(10000.0))\n",
    "print(calculate_tax_3(35000.0))\n"
   ]
  },
  {
   "cell_type": "code",
   "execution_count": null,
   "metadata": {},
   "outputs": [],
   "source": [
    "def calculate_tax_4(income):\n",
    "    \"\"\"\n",
    "    This function assumes any amount of taxable income\n",
    "    \"\"\"\n",
    "    \n",
    "    # Modify the code below to return the right amount of tax.\n",
    "    \n",
    "    return 0\n",
    "\n",
    "\n",
    "\n",
    "\n",
    "# ################################################################################\n",
    "\n",
    "# Call the function above to test whether it works.\n",
    "print(calculate_tax_4(25000.0))   # 100\n",
    "print(calculate_tax_4(10000.0))   # 0\n",
    "print(calculate_tax_4(35000.0))   # 375\n",
    "print(calculate_tax_4(45000.0))   # 900\n",
    "print(calculate_tax_4(85000.0))   # 3925\n",
    "print(calculate_tax_4(125000.0))  # 8700\n",
    "print(calculate_tax_4(165000.0))  # 14850\n",
    "print(calculate_tax_4(205000.0))  # 22100\n",
    "print(calculate_tax_4(245000.0))  # 29725\n",
    "print(calculate_tax_4(285000.0))  # 37550\n",
    "print(calculate_tax_4(325000.0))  # 45650\n"
   ]
  },
  {
   "cell_type": "code",
   "execution_count": null,
   "metadata": {},
   "outputs": [],
   "source": []
  }
 ],
 "metadata": {
  "kernelspec": {
   "display_name": "Python 3 (ipykernel)",
   "language": "python",
   "name": "python3"
  },
  "language_info": {
   "codemirror_mode": {
    "name": "ipython",
    "version": 3
   },
   "file_extension": ".py",
   "mimetype": "text/x-python",
   "name": "python",
   "nbconvert_exporter": "python",
   "pygments_lexer": "ipython3",
   "version": "3.7.4"
  }
 },
 "nbformat": 4,
 "nbformat_minor": 2
}
