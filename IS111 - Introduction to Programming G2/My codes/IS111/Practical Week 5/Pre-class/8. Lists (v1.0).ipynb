{
 "cells": [
  {
   "cell_type": "markdown",
   "metadata": {},
   "source": [
    "<table class=\"table table-bordered\">\n",
    "    <tr>\n",
    "        <th style=\"text-align:center; width:35%\"><img src='https://drive.google.com/uc?export=view&id=1zIB3Nw_z8N2SJSSdd2yWQIsDS0MGPYKm' style=\"width: 300px; height: 90px; \"></th>\n",
    "        <th style=\"text-align:center;\"><h3>IS111 - Notebook 8</h3><h2>Lists</h2></th>\n",
    "    </tr>\n",
    "</table>"
   ]
  },
  {
   "cell_type": "markdown",
   "metadata": {},
   "source": [
    "## Learning Outcomes\n",
    "\n",
    "At the end of this lesson, you should be able to:\n",
    "<ul>\n",
    "    <li>Know how to create a list.</li>\n",
    "    <li>Access an element of a list using <code>[]</code>.</li>\n",
    "    <li>Get the length of a list using <code>len()</code>.</li>\n",
    "    <li>Use the slice operator to get multiple elements of a list.</li>\n",
    "    <li>Update a single element of a list.</li>\n",
    "    <li>Use <code>+</code> to concatenate two lists.</li>\n",
    "    <li>Use a <code>for</code>-loop to traverse a list.</li>\n",
    "    <li>Add an element to a list.</li>\n",
    "    <li>Understand how list is passed as an argument to a function.</li>\n",
    "</ul>\n",
    "\n",
    "Like strings, lists are sequences of elements. While strings are sequences of characters, lists are sequences of any type of data. Like strings, lists also provide sequential storage through an index offset and access to single or consecutive elements through slices.\n",
    "\n",
    "## I. List Creation\n",
    "\n",
    "Creating lists is as simple as assigning a value to a variable.\n",
    "\n",
    "<b>Lists</b> are comma-separated values <b>delimited</b> by square brackets `[` and `]`.\n",
    "\n",
    "See the following example code:"
   ]
  },
  {
   "cell_type": "code",
   "execution_count": null,
   "metadata": {},
   "outputs": [],
   "source": [
    "a_list = [5, 10, 15, 20, 25]\n",
    "print(a_list)\n",
    "\n",
    "b_list = ['a', 'bc', 'def']\n",
    "print(b_list)"
   ]
  },
  {
   "cell_type": "markdown",
   "metadata": {},
   "source": [
    "The first example is a list with five integers, whereas the second example is a list with three strings.\n",
    "\n",
    "A list with <b>no element</b> is called an empty list and is denoted `[ ]`."
   ]
  },
  {
   "cell_type": "code",
   "execution_count": null,
   "metadata": {},
   "outputs": [],
   "source": [
    "c_list = []\n",
    "print(c_list)"
   ]
  },
  {
   "cell_type": "markdown",
   "metadata": {},
   "source": [
    "## II. Accessing Elements of a List"
   ]
  },
  {
   "cell_type": "markdown",
   "metadata": {},
   "source": [
    "Similar to how we can access a single character in a string, we can access a single element in a list using `[]` with an index.\n",
    "\n",
    "Remember that the first index is `0` and the last index is `n - 1`, where `n` is the length of the list.\n",
    "\n",
    "Try to run the code below and check whether the output is what you've expected:"
   ]
  },
  {
   "cell_type": "code",
   "execution_count": null,
   "metadata": {},
   "outputs": [],
   "source": [
    "print(a_list[0])\n",
    "print(b_list[2])"
   ]
  },
  {
   "cell_type": "markdown",
   "metadata": {},
   "source": [
    "### Length of a List and IndexError\n",
    "\n",
    "The function `len()` that we use to get the length of a string can also be applied to a list."
   ]
  },
  {
   "cell_type": "code",
   "execution_count": null,
   "metadata": {},
   "outputs": [],
   "source": [
    "print(len(a_list))\n",
    "print(len(b_list))\n",
    "print(len(c_list))"
   ]
  },
  {
   "cell_type": "markdown",
   "metadata": {},
   "source": [
    "Also similar to strings, if we try to access an element of a list with an index greater than or equal to the length of the list, we will get an `IndexError`."
   ]
  },
  {
   "cell_type": "code",
   "execution_count": null,
   "metadata": {},
   "outputs": [],
   "source": [
    "# This code generates an IndexError!\n",
    "print(b_list[7])"
   ]
  },
  {
   "cell_type": "markdown",
   "metadata": {},
   "source": [
    "## IV. Accessing Multiple Elements of a List\n",
    "\n",
    "The <b>slice operator</b> we saw previously for strings works similarly with <b>lists</b>: "
   ]
  },
  {
   "cell_type": "code",
   "execution_count": null,
   "metadata": {},
   "outputs": [],
   "source": [
    "print(a_list[0:3])\n",
    "print(b_list[0:3:2])"
   ]
  },
  {
   "cell_type": "markdown",
   "metadata": {},
   "source": [
    "We can see that by slicing a list, we get a new list that consists of selected elements from the original list.\n",
    "\n",
    "In general, given a list `my_list`, using `my_list[m:n:s]`, we get a new list that consists of the elements from `my_list` with indices `m`, `m + s`, `m + 2s`, etc., until `n-1` is reached. See the example below:"
   ]
  },
  {
   "cell_type": "code",
   "execution_count": null,
   "metadata": {},
   "outputs": [],
   "source": [
    "n_list = [1, 2, 3, 4, 5, 6, 7, 8, 9, 10]\n",
    "print(n_list[0:9:3])"
   ]
  },
  {
   "cell_type": "markdown",
   "metadata": {},
   "source": [
    "We can see that in the example above, since the starting index is `0`, the end index is `9` and the step is `3`, we will get the elements in `n_list` with indices of `0`, `3` and `6`, resulting in `[1, 4, 7]`. The resulting list doesn't include the element in `n_list` with the index `9`."
   ]
  },
  {
   "cell_type": "markdown",
   "metadata": {},
   "source": [
    "## V. Updating an Element of a List\n",
    "\n",
    "Unlike tuples and strings, <b>lists</b> are <b>mutable</b>, which means we can <b>change</b> the elements of a list.\n",
    "\n",
    "Run the code below to see the change made to the list <b>fruits</b>."
   ]
  },
  {
   "cell_type": "code",
   "execution_count": null,
   "metadata": {},
   "outputs": [],
   "source": [
    "fruits = ['orange', 'mango', 'lemon']\n",
    "print(fruits)\n",
    "fruits[2] = 'kiwi'\n",
    "print(fruits)"
   ]
  },
  {
   "cell_type": "markdown",
   "metadata": {},
   "source": [
    "## VI. List Concatenation\n",
    "\n",
    "Just like we can concatenate two strings using `+`, we can use `+` to concatenate two lists as well."
   ]
  },
  {
   "cell_type": "code",
   "execution_count": null,
   "metadata": {},
   "outputs": [],
   "source": [
    "list1 = [1, 2, 3, 4]\n",
    "list2 = [5, 6, 7]\n",
    "\n",
    "new_list = list1 + list2\n",
    "print(new_list)"
   ]
  },
  {
   "cell_type": "markdown",
   "metadata": {},
   "source": [
    "Note that the `+` operator creates a new list. The old lists, `list1` and `list2`, have not been affected."
   ]
  },
  {
   "cell_type": "code",
   "execution_count": null,
   "metadata": {},
   "outputs": [],
   "source": [
    "print(list1)\n",
    "print(list2)"
   ]
  },
  {
   "cell_type": "markdown",
   "metadata": {},
   "source": [
    "## VII. Traversing a List\n",
    "\n",
    "Oftentimes, we need to process the elements inside a list one by one. For example, given a list of numbers, if we want to add them up, we need to go through these numbers one by one. Going through all the elements in a sequence one by one is called <b>traversing</b> the sequence or <b>iterating through</b> the sequence.\n",
    "\n",
    "There is a very easy way to traverse a list. The code below shows an example:"
   ]
  },
  {
   "cell_type": "code",
   "execution_count": null,
   "metadata": {},
   "outputs": [],
   "source": [
    "for number in list1:\n",
    "    print(number)"
   ]
  },
  {
   "cell_type": "markdown",
   "metadata": {},
   "source": [
    "<img align=\"left\" src='https://drive.google.com/uc?export=view&id=0B08uY8vosNfobDBuOXVXQWVxMFE' style=\"width: 60px; height: 60px;\"><br />Let's do an exercise !"
   ]
  },
  {
   "cell_type": "markdown",
   "metadata": {},
   "source": [
    "Given the following list of numbers, use a for-loop to traverse the list to compute the sum of all the <b>positive</b> numbers inside the list.\n",
    "\n",
    "For the code below, you should see \n",
    "\n",
    "    42.7\n",
    "    \n",
    "as the output if your code is implemented correctly."
   ]
  },
  {
   "cell_type": "code",
   "execution_count": 4,
   "metadata": {},
   "outputs": [
    {
     "name": "stdout",
     "output_type": "stream",
     "text": [
      "42.7\n"
     ]
    }
   ],
   "source": [
    "my_list = [4.5, -0.9, 23.5, -78.9, 14.7]\n",
    "\n",
    "sum_of_positive_numbers = 0.0\n",
    "\n",
    "# Write your code below\n",
    "for num in my_list:\n",
    "    if num > 0:\n",
    "        sum_of_positive_numbers += num\n",
    "\n",
    "print(sum_of_positive_numbers)"
   ]
  },
  {
   "cell_type": "markdown",
   "metadata": {},
   "source": [
    "## VIII. Adding an Element to a List"
   ]
  },
  {
   "cell_type": "markdown",
   "metadata": {},
   "source": [
    "To add a new element to a list, we can use the `append()` method."
   ]
  },
  {
   "cell_type": "code",
   "execution_count": null,
   "metadata": {},
   "outputs": [],
   "source": [
    "my_list = ['a', 'b', 'c']\n",
    "print(my_list)\n",
    "\n",
    "my_list.append('d')\n",
    "print(my_list)"
   ]
  },
  {
   "cell_type": "markdown",
   "metadata": {},
   "source": [
    "We can see that the new element `'d'` is added to the end of the original list."
   ]
  },
  {
   "cell_type": "markdown",
   "metadata": {},
   "source": [
    "## IX. Passing a List as an Argument to a Function"
   ]
  },
  {
   "cell_type": "markdown",
   "metadata": {},
   "source": [
    "In a function, when a <b>list</b> is <b>passed as argument</b>, it is in fact a <b>reference</b> to the list which is passed. This means the caller of the function has one <b>variable referencing the list</b>, and the function being called has <b>another variable referencing the same list</b>. There is <u>only one underlying list</u>.\n",
    "\n",
    "<img align=\"left\" src='https://drive.google.com/uc?export=view&id=0B08uY8vosNfocWktY01HVTlyMGs' style=\"width: 60px; height: 60px;\"><br />If the <b>function modifies</b> the elements of the <b>list</b> passed as argument, then the <b>caller</b> will also <b>see those changes</b>."
   ]
  },
  {
   "cell_type": "code",
   "execution_count": 5,
   "metadata": {},
   "outputs": [
    {
     "name": "stdout",
     "output_type": "stream",
     "text": [
      "[4, 5, 6]\n",
      "[5, 6, 7]\n"
     ]
    }
   ],
   "source": [
    "def do_something(my_list):\n",
    "    my_list[0] = 5\n",
    "    my_list[1] = 6\n",
    "    my_list[2] = 7\n",
    "\n",
    "a_list = [4, 5, 6]\n",
    "print(a_list)\n",
    "\n",
    "do_something(a_list)\n",
    "print(a_list)"
   ]
  },
  {
   "cell_type": "markdown",
   "metadata": {},
   "source": [
    "In this code, `a_list` is passed as an <b>argument</b> to the function `do_something()`. In the function, the parameter `my_list` <b>refers</b> to the <b>same list</b> as the one refered by `a_list`.\n",
    "\n",
    "Since the list referred by `my_list` is modified in the function, `a_list` will see the <b>same change</b>, as shown in the memory state diagram below:"
   ]
  },
  {
   "cell_type": "markdown",
   "metadata": {},
   "source": [
    "<img align=\"left\" src='https://drive.google.com/uc?export=view&id=0B08uY8vosNfoaTdsSk9oYi15RDQ' style=\"width: 410px; height: 100px;\">"
   ]
  },
  {
   "cell_type": "markdown",
   "metadata": {},
   "source": [
    "<u>In summary</u>: If a <font color = 'red'><b>function modifies</b></font> the elements of a list parameter, the <font color = 'red'><b>caller sees</b></font> the changes!"
   ]
  },
  {
   "cell_type": "markdown",
   "metadata": {
    "collapsed": true
   },
   "source": [
    "### References\n",
    "Contentis inspired from the following resources:\n",
    "<ul>\n",
    "<li>Core Python Programming, Second Edition, Wesley J. Chun, Prentice Hall</li>\n",
    "<li>https://www.tutorialspoint.com/python3/python3_tutorial.pdf</li>\n",
    "<li>https://media.readthedocs.org/pdf/howtothink/latest/howtothink.pdf</li>\n",
    "<ul>"
   ]
  },
  {
   "cell_type": "code",
   "execution_count": null,
   "metadata": {},
   "outputs": [],
   "source": []
  }
 ],
 "metadata": {
  "kernelspec": {
   "display_name": "Python 3 (ipykernel)",
   "language": "python",
   "name": "python3"
  },
  "language_info": {
   "codemirror_mode": {
    "name": "ipython",
    "version": 3
   },
   "file_extension": ".py",
   "mimetype": "text/x-python",
   "name": "python",
   "nbconvert_exporter": "python",
   "pygments_lexer": "ipython3",
   "version": "3.9.12"
  }
 },
 "nbformat": 4,
 "nbformat_minor": 2
}
