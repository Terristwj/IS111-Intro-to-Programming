{
 "cells": [
  {
   "cell_type": "markdown",
   "metadata": {},
   "source": [
    "<table class=\"table table-bordered\">\n",
    "    <tr>\n",
    "        <th style=\"text-align:center; width:35%\"><img src='https://drive.google.com/uc?export=view&id=1zIB3Nw_z8N2SJSSdd2yWQIsDS0MGPYKm' style=\"width: 300px; height: 90px; \"></th>\n",
    "        <th style=\"text-align:center;\"><h3>IS111 - Lab 5 (Part I)</h3><h3>Lists</h3></th>\n",
    "    </tr>\n",
    "</table>"
   ]
  },
  {
   "cell_type": "markdown",
   "metadata": {},
   "source": [
    "### Q1 - Initials"
   ]
  },
  {
   "cell_type": "code",
   "execution_count": 1,
   "metadata": {},
   "outputs": [
    {
     "name": "stdout",
     "output_type": "stream",
     "text": [
      "How many people will attend the meeting? 5\n",
      "Participant 1: John Smith\n",
      "Participant 2: Jerry Lee Xiong Yi\n",
      "Participant 3: Eric Wong Kee Wei\n",
      "Participant 4: Felecia Koh\n",
      "Participant 5: Julia Chan\n",
      "\n",
      "The initials of the participants are as follows:\n",
      "JS\n",
      "JLXY\n",
      "EWKW\n",
      "FK\n",
      "JC\n"
     ]
    }
   ],
   "source": [
    "# Put your code below\n",
    "num_people = input(\"How many people will attend the meeting? \")\n",
    "initials_list = []\n",
    "for i in range(int(num_people)):\n",
    "    name = input(\"Participant \" + str(i+1) + \": \")\n",
    "    initials = \"\"\n",
    "    for word in name.split(\" \"):\n",
    "        initials += word[0].upper()\n",
    "    initials_list.append(initials)\n",
    "    \n",
    "print()\n",
    "print(\"The initials of the participants are as follows:\")\n",
    "for initials in initials_list:\n",
    "    print(initials)"
   ]
  },
  {
   "cell_type": "markdown",
   "metadata": {},
   "source": [
    "### Q2: List of Numbers"
   ]
  },
  {
   "cell_type": "markdown",
   "metadata": {},
   "source": [
    "#### Part (a)"
   ]
  },
  {
   "cell_type": "code",
   "execution_count": 2,
   "metadata": {},
   "outputs": [],
   "source": [
    "# Put your code below\n",
    "def get_leap_years(years):\n",
    "    leap_years = []\n",
    "    for year in years:\n",
    "        if year % 4 == 0:\n",
    "            if year % 100 != 0:\n",
    "                leap_years.append(year)\n",
    "            if year % 400 == 0:\n",
    "                leap_years.append(year)\n",
    "    return leap_years"
   ]
  },
  {
   "cell_type": "code",
   "execution_count": 3,
   "metadata": {},
   "outputs": [
    {
     "name": "stdout",
     "output_type": "stream",
     "text": [
      "Test Case 1\n",
      "-----------\n",
      "Expected: [2000, 2020]\n",
      "Actual:   [2000, 2020]\n",
      "\n",
      "Test Case 2\n",
      "-----------\n",
      "Expected: []\n",
      "Actual:   []\n"
     ]
    }
   ],
   "source": [
    "# Test cases used to test your function\n",
    "\n",
    "print('Test Case 1')\n",
    "print('-' * 11)\n",
    "print('Expected: [2000, 2020]')\n",
    "print('Actual:   ' + str(get_leap_years([2018, 2000, 1800, 1900, 2011, 2020])))\n",
    "\n",
    "print('\\nTest Case 2')\n",
    "print('-' * 11)\n",
    "print('Expected: []')\n",
    "print('Actual:   ' + str(get_leap_years([2018, 2001, 1800, 1900, 2011, 2100])))\n"
   ]
  },
  {
   "cell_type": "markdown",
   "metadata": {},
   "source": [
    "#### Part (b)"
   ]
  },
  {
   "cell_type": "code",
   "execution_count": 4,
   "metadata": {},
   "outputs": [],
   "source": [
    "# Put your code below\n",
    "def all_older_than(age_list, n):\n",
    "    older = True\n",
    "    if age_list:\n",
    "        for age in age_list:\n",
    "            if age < n:\n",
    "                older = False\n",
    "    return older"
   ]
  },
  {
   "cell_type": "code",
   "execution_count": 5,
   "metadata": {},
   "outputs": [
    {
     "name": "stdout",
     "output_type": "stream",
     "text": [
      "Test Case 1\n",
      "-----------\n",
      "Expected: True\n",
      "Actual:   True\n",
      "\n",
      "Test Case 2\n",
      "-----------\n",
      "Expected: False\n",
      "Actual:   False\n"
     ]
    }
   ],
   "source": [
    "# Test cases used to test your function\n",
    "\n",
    "print('Test Case 1')\n",
    "print('-' * 11)\n",
    "print('Expected: True')\n",
    "print('Actual:   ' + str(all_older_than([24, 36, 45, 21], 20)))\n",
    "\n",
    "print('\\nTest Case 2')\n",
    "print('-' * 11)\n",
    "print('Expected: False')\n",
    "print('Actual:   ' + str(all_older_than([24, 36, 45, 21], 23)))"
   ]
  },
  {
   "cell_type": "markdown",
   "metadata": {},
   "source": [
    "#### Part (c)"
   ]
  },
  {
   "cell_type": "code",
   "execution_count": 6,
   "metadata": {},
   "outputs": [],
   "source": [
    "# Put your code below\n",
    "def get_sum_multiples(int_list, n):\n",
    "    sum = 0\n",
    "    for num in int_list:\n",
    "        if num % n == 0:\n",
    "            sum += num\n",
    "    return sum"
   ]
  },
  {
   "cell_type": "code",
   "execution_count": 7,
   "metadata": {},
   "outputs": [
    {
     "name": "stdout",
     "output_type": "stream",
     "text": [
      "Test Case 1\n",
      "-----------\n",
      "Expected: 24\n",
      "Actual:   24\n",
      "\n",
      "Test Case 2\n",
      "-----------\n",
      "Expected: 20\n",
      "Actual:   20\n"
     ]
    }
   ],
   "source": [
    "# Test cases used to test your function\n",
    "\n",
    "print('Test Case 1')\n",
    "print('-' * 11)\n",
    "print('Expected: 24')\n",
    "print('Actual:   ' + str(get_sum_multiples([2, 4, 5, 9, 13, 15], 3)))\n",
    "\n",
    "print('\\nTest Case 2')\n",
    "print('-' * 11)\n",
    "print('Expected: 20')\n",
    "print('Actual:   ' + str(get_sum_multiples([2, 4, 5, 9, 13, 15], 5)))\n"
   ]
  },
  {
   "cell_type": "markdown",
   "metadata": {},
   "source": [
    "#### Part (d)"
   ]
  },
  {
   "cell_type": "code",
   "execution_count": 8,
   "metadata": {},
   "outputs": [],
   "source": [
    "# Put your code below\n",
    "def get_prime_numbers(num_list, sep):\n",
    "    prime_num = \"\"\n",
    "    for num in num_list:\n",
    "        is_prime = True\n",
    "        for i in range(2, num):\n",
    "            if num % i == 0:\n",
    "                is_prime = False\n",
    "        if is_prime:\n",
    "            prime_num += str(num) + sep\n",
    "    return prime_num[:-1]"
   ]
  },
  {
   "cell_type": "code",
   "execution_count": 9,
   "metadata": {},
   "outputs": [
    {
     "name": "stdout",
     "output_type": "stream",
     "text": [
      "Test Case 1\n",
      "-----------\n",
      "Expected: 2-7-11-19\n",
      "Actual:   2-7-11-19\n",
      "\n",
      "Test Case 2\n",
      "-----------\n",
      "Expected: 3\n",
      "Actual:   3\n"
     ]
    }
   ],
   "source": [
    "# Test cases used to test your function\n",
    "\n",
    "print('Test Case 1')\n",
    "print('-' * 11)\n",
    "print('Expected: 2-7-11-19')\n",
    "print('Actual:   ' + str(get_prime_numbers([2, 4, 7, 9, 11, 16, 19, 21], '-')))\n",
    "\n",
    "print('\\nTest Case 2')\n",
    "print('-' * 11)\n",
    "print('Expected: 3')\n",
    "print('Actual:   ' + str(get_prime_numbers([3, 4, 8, 9, 12, 16], '*')))\n"
   ]
  },
  {
   "cell_type": "markdown",
   "metadata": {},
   "source": [
    "#### Part (e)"
   ]
  },
  {
   "cell_type": "code",
   "execution_count": 10,
   "metadata": {},
   "outputs": [],
   "source": [
    "# Put your code below\n",
    "def calculate_sums(num_list):\n",
    "    other_num_list = []\n",
    "    if num_list:\n",
    "        for i in range(len(num_list)):\n",
    "            if i == 0:\n",
    "                other_num_list.append(num_list[i])\n",
    "            else:\n",
    "                other_num_list.append(num_list[i] + other_num_list[i-1])\n",
    "    return other_num_list"
   ]
  },
  {
   "cell_type": "code",
   "execution_count": 11,
   "metadata": {},
   "outputs": [
    {
     "name": "stdout",
     "output_type": "stream",
     "text": [
      "Test Case 1\n",
      "-----------\n",
      "Expected: [2, 5, 11, 12, 17]\n",
      "Actual:   [2, 5, 11, 12, 17]\n",
      "\n",
      "Test Case 2\n",
      "-----------\n",
      "Expected: []\n",
      "Actual:   []\n"
     ]
    }
   ],
   "source": [
    "# Test cases used to test your function\n",
    "\n",
    "print('Test Case 1')\n",
    "print('-' * 11)\n",
    "print('Expected: [2, 5, 11, 12, 17]')\n",
    "print('Actual:   ' + str(calculate_sums([2, 3, 6, 1, 5])))\n",
    "\n",
    "print('\\nTest Case 2')\n",
    "print('-' * 11)\n",
    "print('Expected: []')\n",
    "print('Actual:   ' + str(calculate_sums([])))"
   ]
  },
  {
   "cell_type": "markdown",
   "metadata": {},
   "source": [
    "### Q3: Shopping Cart"
   ]
  },
  {
   "cell_type": "markdown",
   "metadata": {},
   "source": [
    "#### Part (a)"
   ]
  },
  {
   "cell_type": "code",
   "execution_count": 12,
   "metadata": {},
   "outputs": [],
   "source": [
    "# Put your code below\n",
    "# Tuple = [item, u_price, qty]\n",
    "def calculate_total_price(item_list):\n",
    "    total_price = 0\n",
    "    for item in item_list:\n",
    "        total_price += item[1] * item[2]\n",
    "    return total_price"
   ]
  },
  {
   "cell_type": "code",
   "execution_count": 13,
   "metadata": {},
   "outputs": [
    {
     "name": "stdout",
     "output_type": "stream",
     "text": [
      "Test Case 1\n",
      "-----------\n",
      "Expected: 31.15\n",
      "Actual:   31.15\n"
     ]
    }
   ],
   "source": [
    "# Test cases used to test your function\n",
    "\n",
    "print('Test Case 1')\n",
    "print('-' * 11)\n",
    "item_list = [(\"milk\", 5.45, 2), (\"eggs\", 2.45, 1), (\"shampoo\", 8.90, 2)]\n",
    "print('Expected: 31.15')\n",
    "print('Actual:   ' + str(round(calculate_total_price(item_list),2)))"
   ]
  },
  {
   "cell_type": "markdown",
   "metadata": {},
   "source": [
    "#### Part (b)"
   ]
  },
  {
   "cell_type": "code",
   "execution_count": 14,
   "metadata": {},
   "outputs": [],
   "source": [
    "# Put your code below\n",
    "def get_items(item_list):\n",
    "    name_list = []\n",
    "    for item in item_list:\n",
    "        name_list.append(item[0])\n",
    "    return name_list"
   ]
  },
  {
   "cell_type": "code",
   "execution_count": 15,
   "metadata": {},
   "outputs": [
    {
     "name": "stdout",
     "output_type": "stream",
     "text": [
      "Test Case 1\n",
      "-----------\n",
      "Expected: ['milk', 'eggs', 'shampoo']\n",
      "Actual:   ['milk', 'eggs', 'shampoo']\n",
      "\n",
      "Test Case 2\n",
      "-----------\n",
      "Expected: []\n",
      "Actual:   []\n"
     ]
    }
   ],
   "source": [
    "# Test cases used to test your function\n",
    "\n",
    "print('Test Case 1')\n",
    "print('-' * 11)\n",
    "item_list = [(\"milk\", 5.45, 2), (\"eggs\", 2.45, 1), (\"shampoo\", 8.90, 2)]\n",
    "print(\"Expected: ['milk', 'eggs', 'shampoo']\")\n",
    "print('Actual:   ' + str(get_items(item_list)))\n",
    "\n",
    "print('\\nTest Case 2')\n",
    "print('-' * 11)\n",
    "item_list = []\n",
    "print(\"Expected: []\")\n",
    "print('Actual:   ' + str(get_items(item_list)))"
   ]
  },
  {
   "cell_type": "markdown",
   "metadata": {},
   "source": [
    "#### Part (c)"
   ]
  },
  {
   "cell_type": "code",
   "execution_count": 18,
   "metadata": {},
   "outputs": [],
   "source": [
    "# Put your code below\n",
    "def get_items_more_expensive_than(item_list, min_price):\n",
    "    exp_items = []\n",
    "#     (1) - Solution for Word Doc\n",
    "#     for item in item_list:\n",
    "#         if item[1] > min_price:\n",
    "#             exp_items.append(item)\n",
    "#     return exp_items\n",
    "\n",
    "#     (2) - Solution for Jupyter\n",
    "    for item in item_list:\n",
    "        if item[1] > min_price:\n",
    "            temp_item = (item[0], item[1])\n",
    "            exp_items.append(temp_item)\n",
    "    return exp_items\n",
    "\n",
    "# There is an error in the question word doc.\n",
    "# Expected output is \"[(\"milk\", 5.45, 2), (\"shampoo\", 8.90, 2)]\" in the qn.\n",
    "# But expected output in Jupyter is \"[('milk', 5.45), ('shampoo', 8.9)]\""
   ]
  },
  {
   "cell_type": "code",
   "execution_count": 19,
   "metadata": {},
   "outputs": [
    {
     "name": "stdout",
     "output_type": "stream",
     "text": [
      "Test Case 1\n",
      "-----------\n",
      "Expected: [('milk', 5.45), ('shampoo', 8.9)]\n",
      "Actual:   [('milk', 5.45), ('shampoo', 8.9)]\n",
      "\n",
      "Test Case 2\n",
      "-----------\n",
      "Expected: []\n",
      "Actual:   []\n"
     ]
    }
   ],
   "source": [
    "# Test cases used to test your function\n",
    "\n",
    "print('Test Case 1')\n",
    "print('-' * 11)\n",
    "item_list = [(\"milk\", 5.45, 2), (\"eggs\", 2.45, 1), (\"shampoo\", 8.90, 2)]\n",
    "print(\"Expected: [('milk', 5.45), ('shampoo', 8.9)]\")\n",
    "print('Actual:   ' + str(get_items_more_expensive_than(item_list, 3.0)))\n",
    "\n",
    "print('\\nTest Case 2')\n",
    "print('-' * 11)\n",
    "item_list = []\n",
    "print(\"Expected: []\")\n",
    "print('Actual:   ' + str(get_items_more_expensive_than(item_list, 3.0)))\n"
   ]
  },
  {
   "cell_type": "code",
   "execution_count": null,
   "metadata": {},
   "outputs": [],
   "source": []
  },
  {
   "cell_type": "code",
   "execution_count": null,
   "metadata": {},
   "outputs": [],
   "source": []
  }
 ],
 "metadata": {
  "kernelspec": {
   "display_name": "Python 3 (ipykernel)",
   "language": "python",
   "name": "python3"
  },
  "language_info": {
   "codemirror_mode": {
    "name": "ipython",
    "version": 3
   },
   "file_extension": ".py",
   "mimetype": "text/x-python",
   "name": "python",
   "nbconvert_exporter": "python",
   "pygments_lexer": "ipython3",
   "version": "3.9.12"
  }
 },
 "nbformat": 4,
 "nbformat_minor": 2
}
