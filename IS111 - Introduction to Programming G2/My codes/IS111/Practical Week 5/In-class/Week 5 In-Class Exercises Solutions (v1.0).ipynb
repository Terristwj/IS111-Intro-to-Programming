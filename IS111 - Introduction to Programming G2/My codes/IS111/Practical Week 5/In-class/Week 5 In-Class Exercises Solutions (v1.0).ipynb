{
 "cells": [
  {
   "cell_type": "markdown",
   "metadata": {},
   "source": [
    "<table class=\"table table-bordered\">\n",
    "    <tr>\n",
    "        <th style=\"text-align:center; width:35%\"><img src='https://dl.dropbox.com/s/qtzukmzqavebjd2/icon_smu.jpg' style=\"width: 300px; height: 90px; \"></th>\n",
    "        <th style=\"text-align:center;\"><h3>IS111 - In-Class Exercises</h3><h3>Week 5</h3></th>\n",
    "    </tr>\n",
    "</table>"
   ]
  },
  {
   "cell_type": "markdown",
   "metadata": {},
   "source": [
    "### Q1: Code Tracing [ &#9733;&#9733; ]"
   ]
  },
  {
   "cell_type": "code",
   "execution_count": null,
   "metadata": {},
   "outputs": [],
   "source": [
    "def modify_list(my_list):\n",
    "    for index in range(len(my_list)):\n",
    "        x = my_list[index]\n",
    "        if (len(x) > 5):\n",
    "            my_list[index] = x[0:5]\n",
    "\n",
    "str_list = [\"IS111\", \"Python\", \"Programming\", \"Course\"]\n",
    "\n",
    "modify_list(str_list)\n",
    "print(str_list)"
   ]
  },
  {
   "cell_type": "code",
   "execution_count": null,
   "metadata": {},
   "outputs": [],
   "source": [
    "def modify_list(my_list):\n",
    "    for element in my_list:\n",
    "        if len(element) > 5:\n",
    "            element = element[0:5]\n",
    "\n",
    "str_list = [\"IS111\", \"Python\", \"Programming\", \"List\"]\n",
    "\n",
    "modify_list(str_list)\n",
    "print(str_list)\n"
   ]
  },
  {
   "cell_type": "markdown",
   "metadata": {},
   "source": [
    "### Q2: Email Extractor [ &#9733;&#9733; ]\n",
    "#### Part I"
   ]
  },
  {
   "cell_type": "code",
   "execution_count": null,
   "metadata": {},
   "outputs": [],
   "source": [
    "# Solution 1\n",
    "\n",
    "def extract_email_id(email_address):\n",
    "    for i in range(len(email_address)):\n",
    "        ch = email_address[i]\n",
    "        if (ch == '@'):\n",
    "            return email_address[0:i]\n",
    "    \n",
    "    return ''"
   ]
  },
  {
   "cell_type": "code",
   "execution_count": null,
   "metadata": {},
   "outputs": [],
   "source": [
    "# Solution 2\n",
    "\n",
    "def extract_email_id(email_address):\n",
    "    # find where @ symbol is\n",
    "    index_of_symbol = email_address.find('@')\n",
    "    # capture scenario where email address doesn't contain '@' symbol\n",
    "    if(index_of_symbol == -1):\n",
    "        return ''\n",
    "    # use slicing to get email_id\n",
    "    return email_address[:index_of_symbol]\n",
    "   "
   ]
  },
  {
   "cell_type": "code",
   "execution_count": null,
   "metadata": {},
   "outputs": [],
   "source": [
    "# Solution 3\n",
    "\n",
    "def extract_email_id(email_address):\n",
    "    # use split() to separate addess into parts\n",
    "    parts_list = email_address.split('@')\n",
    "    if (len(parts_list) == 2):\n",
    "        return parts_list[0]\n",
    "    else:\n",
    "        return ''\n",
    "   "
   ]
  },
  {
   "cell_type": "code",
   "execution_count": null,
   "metadata": {},
   "outputs": [],
   "source": [
    "# This code is given to test your code\n",
    "\n",
    "print(extract_email_id(\"jerry.lee@sis.smu.edu.sg\"))\n",
    "print(extract_email_id(\"alan_wong.com\"))\n",
    "print(extract_email_id(\"\"))\n",
    "print(extract_email_id(\"alan_wong@gmail.com\"))\n"
   ]
  },
  {
   "cell_type": "markdown",
   "metadata": {},
   "source": [
    "  #### Part II"
   ]
  },
  {
   "cell_type": "code",
   "execution_count": null,
   "metadata": {},
   "outputs": [],
   "source": [
    "# Solution\n",
    "\n",
    "def extract_multiple_email_ids(email_addesses):\n",
    "    # split the long string into a list of email addresses, using ';' as delimiter\n",
    "    address_list = email_addesses.split(';')\n",
    "    \n",
    "    # iterate through the list and for each email, extract the email id, using the function of Part I\n",
    "    for email_address in address_list:\n",
    "        email_id = extract_email_id(email_address)\n",
    "        print(email_id)\n",
    "        "
   ]
  },
  {
   "cell_type": "code",
   "execution_count": null,
   "metadata": {},
   "outputs": [],
   "source": [
    "# This code is given to test your code\n",
    "\n",
    "extract_multiple_email_ids(\"jerry.lee@sis.smu.edu.sg;alan_wong@gmail.com;george_tan@yahoo.com\")\n",
    "extract_multiple_email_ids(\"\")\n",
    "extract_multiple_email_ids(\"jerry.lee@sis.smu.edu.sg\")"
   ]
  },
  {
   "cell_type": "markdown",
   "metadata": {},
   "source": [
    "### Q3: Check Username [ &#9733;&#9733;&#9733; ]"
   ]
  },
  {
   "cell_type": "code",
   "execution_count": null,
   "metadata": {},
   "outputs": [],
   "source": [
    "# Solution 1\n",
    "\n",
    "def is_valid_username(username):\n",
    "    \n",
    "    if len(username) == 0 or len(username) > 8:\n",
    "        return False\n",
    "    \n",
    "    # Note that we don't need to check whether ' ' appears in username because the code below\n",
    "    # will make sure that every character in username is a valid symbol, and ' ' is not a \n",
    "    # valid symbol.\n",
    "    \n",
    "    # Define the set of valid characters.\n",
    "    authorised_symbols = '_.!#$%?abcdefghijklmnopqrstuvwxyz0123456789'\n",
    "\n",
    "    for ch in username:\n",
    "        if ch not in authorised_symbols:\n",
    "            return False\n",
    "        # if ch is a valid character, we shouldn't return True here because we need to check\n",
    "        # the subsequent characters in username.\n",
    "        \n",
    "    # If we reach this line, it means no invalid character is found. So username is valid.\n",
    "    return True"
   ]
  },
  {
   "cell_type": "code",
   "execution_count": null,
   "metadata": {},
   "outputs": [],
   "source": [
    "# Solution 2\n",
    "\n",
    "def is_valid_username(username):\n",
    "    \n",
    "    if len(username) == 0 or len(username) > 8:\n",
    "        return False\n",
    "    \n",
    "    special_symbols = '_.!#$%?'\n",
    "    for ch in username:\n",
    "        if not( (ch in special_symbols) or ch.islower() or ch.isdigit() ):\n",
    "            return False\n",
    "    return True"
   ]
  },
  {
   "cell_type": "code",
   "execution_count": null,
   "metadata": {},
   "outputs": [],
   "source": [
    "# Solution 3\n",
    "\n",
    "def is_valid_username(username):\n",
    "    \n",
    "    if len(username) == 0 or len(username) > 8:\n",
    "        return False\n",
    "    \n",
    "    special_symbols = '_.!#$%?'\n",
    "    for ch in username:\n",
    "        is_valid = (ch in special_symbols) or ('a' <= ch and ch <= 'z') or ('0' <= ch and ch <='9')\n",
    "        if not is_valid:\n",
    "            return False\n",
    "    return True"
   ]
  },
  {
   "cell_type": "code",
   "execution_count": null,
   "metadata": {},
   "outputs": [],
   "source": [
    "# Solution 4\n",
    "\n",
    "def is_valid_character(char):\n",
    "    if char in '0123456789':\n",
    "        return True\n",
    "    if char in 'abcdefghijklmnopqrstuvwxyz':\n",
    "        return True\n",
    "    if char in '_.!#$%?':\n",
    "        return True\n",
    "    return False\n",
    "\n",
    "def is_valid_username(username):\n",
    "    \n",
    "    if len(username) == 0 or len(username) > 8:\n",
    "        return False\n",
    "    \n",
    "    special_symbols = '_.!#$%?'\n",
    "    for ch in username:\n",
    "        if not is_valid_character(ch):\n",
    "            return False\n",
    "    return True"
   ]
  },
  {
   "cell_type": "code",
   "execution_count": null,
   "metadata": {},
   "outputs": [],
   "source": [
    "# This code is given to test your code\n",
    "\n",
    "username_list = ['abcdefgh','abcdefghi','ab$cd','ab_cd','ab-cd','ab:cd','','ab cd','abcDef','abc8ef']\n",
    "for username in username_list:\n",
    "    print(\"The username '\" + username +\"' is valid : \" + str(is_valid_username(username)))"
   ]
  },
  {
   "cell_type": "markdown",
   "metadata": {},
   "source": [
    "### Q4: List of Strings\n",
    "#### a) [ &#9733;&#9733; ]"
   ]
  },
  {
   "cell_type": "code",
   "execution_count": null,
   "metadata": {},
   "outputs": [],
   "source": [
    "# Solution\n",
    "\n",
    "def get_avg_len(my_list):\n",
    "    # if list empty --> 0\n",
    "    if len(my_list) == 0:\n",
    "    # if my_list == []:\n",
    "        return 0\n",
    "    \n",
    "    my_sum = 0\n",
    "    for s in my_list:\n",
    "        my_sum = my_sum + len(s)\n",
    "        \n",
    "    return my_sum / len(my_list)\n"
   ]
  },
  {
   "cell_type": "code",
   "execution_count": null,
   "metadata": {},
   "outputs": [],
   "source": [
    "# Code provided to test your function\n",
    "\n",
    "print(get_avg_len([\"C\", \"Java\", \"Python\", \"PHP\"]))\n",
    "print(get_avg_len([]))"
   ]
  },
  {
   "cell_type": "markdown",
   "metadata": {},
   "source": [
    "#### b) [ &#9733;&#9733; ]"
   ]
  },
  {
   "cell_type": "code",
   "execution_count": null,
   "metadata": {},
   "outputs": [],
   "source": [
    "# Solution\n",
    "\n",
    "def get_longest_str(my_list):\n",
    "    # handle empty list first\n",
    "    if len(my_list) == 0:\n",
    "        return \"\"\n",
    "    \n",
    "    # list is not empty\n",
    "    longest_str = my_list[0]\n",
    "    for s in my_list:\n",
    "        if len(s) > len(longest_str):\n",
    "            longest_str = s\n",
    "\n",
    "    return longest_str"
   ]
  },
  {
   "cell_type": "code",
   "execution_count": null,
   "metadata": {},
   "outputs": [],
   "source": [
    "# Code provided to test your function\n",
    "\n",
    "print(get_longest_str([\"C\", \"Java\", \"Python\", \"PHP\"]))\n",
    "print(get_longest_str([]))\n",
    "print(get_longest_str([\"C\", \"Java\", \"HTML\", \"PHP\"])) \n"
   ]
  },
  {
   "cell_type": "markdown",
   "metadata": {},
   "source": [
    "#### c) [ between &#9733;&#9733; and &#9733;&#9733;&#9733; ]"
   ]
  },
  {
   "cell_type": "code",
   "execution_count": null,
   "metadata": {},
   "outputs": [],
   "source": [
    "# Solution\n",
    "\n",
    "def is_email_address(my_str):\n",
    "    if (' ' in my_str):\n",
    "        return False\n",
    "    \n",
    "    parts = my_str.split('@')\n",
    "    if (len(parts) != 2):\n",
    "        return False\n",
    "    \n",
    "    return True\n",
    "\n",
    "\n",
    "# '@abc'.split('@') ==> ['', 'abc']\n",
    "# 'abc@@def'.split('@') ==> ['abc', '', 'def']\n",
    "\n",
    "def concatenate_emails(my_list):\n",
    "    # handle empty list\n",
    "    if len(my_list) == 0:\n",
    "        return ''\n",
    "    \n",
    "    # grow a string outside of for loop\n",
    "    s_to_return = \"\"\n",
    "    for s in my_list:\n",
    "        if is_email_address(s):\n",
    "            s_to_return += s + ';'\n",
    "\n",
    "    # if there's no valid email address in my_list, s_to_return will be an empty string\n",
    "    if s_to_return != '':\n",
    "        # if s_to_return is not empty, there is an extra ';' at the end that needs to \n",
    "        # be removed\n",
    "        return s_to_return[0:len(s_to_return)-1]\n",
    "    else:\n",
    "        return ''\n",
    " "
   ]
  },
  {
   "cell_type": "code",
   "execution_count": null,
   "metadata": {},
   "outputs": [],
   "source": [
    "my_list1 = [\"tommy.goh@sis.smu.edu.sg\",\"alan_wong@gmail.com\"]\n",
    "print(concatenate_emails(my_list1))\n",
    "my_list2 = []\n",
    "print(concatenate_emails(my_list2))\n",
    "my_list3 = [\"IS111\", \"a @ b\", \"jerry.lee@sis.smu.edu.sg\", \"@@@\", \"alan_wong@gmail.com\", \"Python\", \"george_tan@yahoo.com\"]\n",
    "print(concatenate_emails(my_list3))\n"
   ]
  },
  {
   "cell_type": "markdown",
   "metadata": {},
   "source": [
    "#### d) [ between &#9733;&#9733; and &#9733;&#9733;&#9733; ]"
   ]
  },
  {
   "cell_type": "code",
   "execution_count": null,
   "metadata": {},
   "outputs": [],
   "source": [
    "# Solution\n",
    "\n",
    "def is_hashtag(s):\n",
    "    if ' ' in s:\n",
    "        return False\n",
    "    \n",
    "    if s == '':\n",
    "        return False\n",
    "    \n",
    "    if s[0] == '#':\n",
    "        return True\n",
    "    else:\n",
    "        return False\n",
    "\n",
    "def check_hashtags(my_list):\n",
    "    if len(my_list) == 0:\n",
    "        return False\n",
    "\n",
    "    for s in my_list:\n",
    "        if not is_hashtag(s):\n",
    "        # if is_hastag(s) == False:\n",
    "            return False\n",
    "        \n",
    "    return True"
   ]
  },
  {
   "cell_type": "code",
   "execution_count": null,
   "metadata": {},
   "outputs": [],
   "source": [
    "# Code provided to test your code\n",
    "\n",
    "print(check_hashtags([\"#singapore\", \"#music\", \"#travel\"]))\n",
    "print(check_hashtags([]))\n",
    "print(check_hashtags([\"#singapore\", \"#music album\", \"#travel\"]))\n",
    "print(check_hashtags([\"singapore\", \"#music\", \"#travel\"]))"
   ]
  },
  {
   "cell_type": "code",
   "execution_count": null,
   "metadata": {},
   "outputs": [],
   "source": []
  }
 ],
 "metadata": {
  "kernelspec": {
   "display_name": "Python 3 (ipykernel)",
   "language": "python",
   "name": "python3"
  },
  "language_info": {
   "codemirror_mode": {
    "name": "ipython",
    "version": 3
   },
   "file_extension": ".py",
   "mimetype": "text/x-python",
   "name": "python",
   "nbconvert_exporter": "python",
   "pygments_lexer": "ipython3",
   "version": "3.9.12"
  }
 },
 "nbformat": 4,
 "nbformat_minor": 2
}
