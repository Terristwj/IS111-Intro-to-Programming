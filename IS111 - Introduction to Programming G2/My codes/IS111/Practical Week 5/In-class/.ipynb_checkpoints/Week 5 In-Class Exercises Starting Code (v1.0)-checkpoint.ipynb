{
 "cells": [
  {
   "cell_type": "markdown",
   "metadata": {},
   "source": [
    "<table class=\"table table-bordered\">\n",
    "    <tr>\n",
    "        <th style=\"text-align:center; width:35%\"><img src='https://dl.dropbox.com/s/qtzukmzqavebjd2/icon_smu.jpg' style=\"width: 300px; height: 90px; \"></th>\n",
    "        <th style=\"text-align:center;\"><h3>IS111 - In-Class Exercises</h3><h3>Week 5 - Starting Code</h3></th>\n",
    "    </tr>\n",
    "</table>"
   ]
  },
  {
   "cell_type": "markdown",
   "metadata": {},
   "source": [
    "### Q1: Code Tracing [ &#9733; &#9733; ]"
   ]
  },
  {
   "cell_type": "code",
   "execution_count": 1,
   "metadata": {},
   "outputs": [
    {
     "name": "stdout",
     "output_type": "stream",
     "text": [
      "['IS111', 'Pytho', 'Progr', 'List']\n"
     ]
    }
   ],
   "source": [
    "def modify_list(my_list):\n",
    "    for index in range(len(my_list)):\n",
    "        x = my_list[index]\n",
    "        if (len(x) > 5):\n",
    "            my_list[index] = x[0:5]\n",
    "\n",
    "str_list = [\"IS111\", \"Python\", \"Programming\", \"List\"]\n",
    "\n",
    "modify_list(str_list)\n",
    "print(str_list)\n",
    "\n",
    "# [\"IS111\", \"Pytho\", \"Progr\", \"List\"]"
   ]
  },
  {
   "cell_type": "code",
   "execution_count": 2,
   "metadata": {},
   "outputs": [
    {
     "name": "stdout",
     "output_type": "stream",
     "text": [
      "['IS111', 'Python', 'Programming', 'List']\n"
     ]
    }
   ],
   "source": [
    "def modify_list(my_list):\n",
    "#     Scope of the element is within this for-loop\n",
    "    for element in my_list:\n",
    "        if len(element) > 5:\n",
    "            element = element[0:5]\n",
    "\n",
    "str_list = [\"IS111\", \"Python\", \"Programming\", \"List\"]\n",
    "\n",
    "modify_list(str_list)\n",
    "print(str_list)\n",
    "\n",
    "# [\"IS111\", \"Python\", \"Programming\", \"List\"]"
   ]
  },
  {
   "cell_type": "markdown",
   "metadata": {},
   "source": [
    "### Q2: Email Extractor [ &#9733; &#9733; ]\n",
    "#### Part I"
   ]
  },
  {
   "cell_type": "code",
   "execution_count": 1,
   "metadata": {},
   "outputs": [],
   "source": [
    "# Write your code below\n",
    "# *********************\n",
    "def extract_email_id(email):\n",
    "    email_id = \"\"\n",
    "    if \"@\" in email:\n",
    "        email_id = email[:email.find(\"@\")]\n",
    "    return email_id"
   ]
  },
  {
   "cell_type": "code",
   "execution_count": 2,
   "metadata": {},
   "outputs": [
    {
     "name": "stdout",
     "output_type": "stream",
     "text": [
      "jerry.lee\n",
      "\n",
      "\n",
      "alan_wong\n"
     ]
    }
   ],
   "source": [
    "# This code is given to test your code\n",
    "\n",
    "print(extract_email_id(\"jerry.lee@sis.smu.edu.sg\"))\n",
    "print(extract_email_id(\"alan_wong.com\"))\n",
    "print(extract_email_id(\"\"))\n",
    "print(extract_email_id(\"alan_wong@gmail.com\"))\n"
   ]
  },
  {
   "cell_type": "markdown",
   "metadata": {},
   "source": [
    "  #### Part II"
   ]
  },
  {
   "cell_type": "code",
   "execution_count": 5,
   "metadata": {},
   "outputs": [],
   "source": [
    "# Write your code below\n",
    "# *********************\n",
    "def extract_multiple_email_ids(emails):\n",
    "    if \"@\" in emails:\n",
    "        for email in emails.split(\";\"):\n",
    "            print(email[:email.find(\"@\")])\n",
    "    else:\n",
    "        print(\"\")\n"
   ]
  },
  {
   "cell_type": "code",
   "execution_count": 6,
   "metadata": {},
   "outputs": [
    {
     "name": "stdout",
     "output_type": "stream",
     "text": [
      "jerry.lee\n",
      "alan_wong\n",
      "george_tan\n",
      "\n",
      "jerry.lee\n"
     ]
    }
   ],
   "source": [
    "# This code is given to test your code\n",
    "\n",
    "extract_multiple_email_ids(\"jerry.lee@sis.smu.edu.sg;alan_wong@gmail.com;george_tan@yahoo.com\")\n",
    "extract_multiple_email_ids(\"\")\n",
    "extract_multiple_email_ids(\"jerry.lee@sis.smu.edu.sg\")"
   ]
  },
  {
   "cell_type": "markdown",
   "metadata": {},
   "source": [
    "### Q3: Check Username [ &#9733;&#9733;&#9733; ]"
   ]
  },
  {
   "cell_type": "code",
   "execution_count": 24,
   "metadata": {},
   "outputs": [],
   "source": [
    "# Write your code below\n",
    "# *********************\n",
    "def is_valid_username(username):\n",
    "    is_valid = True\n",
    "    if username == \"\" or \" \" in username or len(username) > 8:\n",
    "        is_valid = False\n",
    "    else:\n",
    "        special_chars = (\"_\", \".\", \"!\", \"#\", \"$\", \"%\", \"?\")\n",
    "        for char in username:\n",
    "            if not(char.isnumeric() or char.islower() or char in special_chars):\n",
    "                is_valid = False\n",
    "    return is_valid"
   ]
  },
  {
   "cell_type": "code",
   "execution_count": 25,
   "metadata": {},
   "outputs": [
    {
     "name": "stdout",
     "output_type": "stream",
     "text": [
      "The username 'abcdefgh' is valid : True\n",
      "The username 'abcdefghi' is valid : False\n",
      "The username 'ab$cd' is valid : True\n",
      "The username 'ab_cd' is valid : True\n",
      "The username 'ab-cd' is valid : False\n",
      "The username 'ab:cd' is valid : False\n",
      "The username '' is valid : False\n",
      "The username 'ab cd' is valid : False\n",
      "The username 'abcDef' is valid : False\n",
      "The username 'abc8ef' is valid : True\n"
     ]
    }
   ],
   "source": [
    "# This code is given to test your code\n",
    "\n",
    "username_list = ['abcdefgh','abcdefghi','ab$cd','ab_cd','ab-cd','ab:cd','','ab cd','abcDef','abc8ef']\n",
    "for username in username_list:\n",
    "    print(\"The username '\" + username +\"' is valid : \" + str(is_valid_username(username)))"
   ]
  },
  {
   "cell_type": "markdown",
   "metadata": {},
   "source": [
    "### Q4: List of Strings\n",
    "#### a) [ &#9733;&#9733; ]"
   ]
  },
  {
   "cell_type": "code",
   "execution_count": 28,
   "metadata": {},
   "outputs": [],
   "source": [
    "# Write your code below\n",
    "# *********************\n",
    "def get_avg_len(strings):\n",
    "    avg_length = 0\n",
    "    if strings:\n",
    "        for string in strings:\n",
    "            avg_length += len(string)\n",
    "        avg_length = avg_length / len(strings)\n",
    "    return avg_length\n"
   ]
  },
  {
   "cell_type": "code",
   "execution_count": 29,
   "metadata": {},
   "outputs": [
    {
     "name": "stdout",
     "output_type": "stream",
     "text": [
      "3.5\n",
      "0\n"
     ]
    }
   ],
   "source": [
    "# Code provided to test your function\n",
    "\n",
    "print(get_avg_len([\"C\", \"Java\", \"Python\", \"PHP\"]))\n",
    "print(get_avg_len([]))"
   ]
  },
  {
   "cell_type": "markdown",
   "metadata": {},
   "source": [
    "#### b) [ &#9733;&#9733; ]"
   ]
  },
  {
   "cell_type": "code",
   "execution_count": 32,
   "metadata": {},
   "outputs": [],
   "source": [
    "# Write your code below\n",
    "# *********************\n",
    "def get_longest_str(strings):\n",
    "    long_string = \"\"\n",
    "    if strings:\n",
    "        for string in strings:\n",
    "            if len(string) > len(long_string):\n",
    "                long_string = string\n",
    "    return long_string"
   ]
  },
  {
   "cell_type": "code",
   "execution_count": 33,
   "metadata": {},
   "outputs": [
    {
     "name": "stdout",
     "output_type": "stream",
     "text": [
      "Python\n",
      "\n",
      "Java\n"
     ]
    }
   ],
   "source": [
    "# Code provided to test your function\n",
    "\n",
    "print(get_longest_str([\"C\", \"Java\", \"Python\", \"PHP\"]))\n",
    "print(get_longest_str([]))\n",
    "print(get_longest_str([\"C\", \"Java\", \"HTML\", \"PHP\"])) \n"
   ]
  },
  {
   "cell_type": "markdown",
   "metadata": {},
   "source": [
    "#### c) [ &#9733;&#9733;&#9733; ]"
   ]
  },
  {
   "cell_type": "code",
   "execution_count": 41,
   "metadata": {},
   "outputs": [],
   "source": [
    "# Write your code below\n",
    "# *********************\n",
    "def concatenate_emails(strings):\n",
    "    emails = []\n",
    "    emails_str = \"\"\n",
    "    \n",
    "    if strings:\n",
    "        for string in strings:\n",
    "            if \" \" not in string:\n",
    "                counter = 0\n",
    "                for char in string:\n",
    "                    if char == \"@\":\n",
    "                        counter += 1\n",
    "                if counter == 1:\n",
    "                    emails.append(string)\n",
    "        emails_str = emails[0]\n",
    "        if len(emails) > 1:\n",
    "            for i in range(1, len(emails)):\n",
    "                emails_str += \";\" + emails[i]\n",
    "                \n",
    "    return emails_str\n"
   ]
  },
  {
   "cell_type": "code",
   "execution_count": 44,
   "metadata": {},
   "outputs": [
    {
     "name": "stdout",
     "output_type": "stream",
     "text": [
      "tommy.goh@sis.smu.edu.sg;alan_wong@gmail.com\n",
      "\n",
      "jerry.lee@sis.smu.edu.sg;alan_wong@gmail.com;george_tan@yahoo.com\n"
     ]
    }
   ],
   "source": [
    "# Code provided to test your code\n",
    "\n",
    "my_list1 = [\"tommy.goh@sis.smu.edu.sg\",\"alan_wong@gmail.com\"]\n",
    "print(concatenate_emails(my_list1))\n",
    "my_list2 = []\n",
    "print(concatenate_emails(my_list2))\n",
    "my_list3 = [\"IS111\", \"a @ b\", \"jerry.lee@sis.smu.edu.sg\", \"@@@\", \"alan_wong@gmail.com\", \"Python\", \"george_tan@yahoo.com\"]\n",
    "print(concatenate_emails(my_list3))\n"
   ]
  },
  {
   "cell_type": "markdown",
   "metadata": {},
   "source": [
    "#### d) [ &#9733;&#9733;&#9733; ]"
   ]
  },
  {
   "cell_type": "code",
   "execution_count": 53,
   "metadata": {},
   "outputs": [],
   "source": [
    "# Write your code below\n",
    "# *********************\n",
    "def check_hashtags(strings):\n",
    "    all_hashtag = True\n",
    "    \n",
    "    if not strings:\n",
    "        all_hashtag = False\n",
    "    \n",
    "    for string in strings:\n",
    "        if string[0] != \"#\" or \" \" in string:\n",
    "            all_hashtag = False\n",
    "        \n",
    "    return all_hashtag"
   ]
  },
  {
   "cell_type": "code",
   "execution_count": 54,
   "metadata": {},
   "outputs": [
    {
     "name": "stdout",
     "output_type": "stream",
     "text": [
      "True\n",
      "False\n",
      "False\n",
      "False\n"
     ]
    }
   ],
   "source": [
    "# Code provided to test your code\n",
    "\n",
    "print(check_hashtags([\"#singapore\", \"#music\", \"#travel\"]))\n",
    "print(check_hashtags([]))\n",
    "print(check_hashtags([\"#singapore\", \"#music album\", \"#travel\"]))\n",
    "print(check_hashtags([\"singapore\", \"#music\", \"#travel\"]))"
   ]
  },
  {
   "cell_type": "code",
   "execution_count": null,
   "metadata": {},
   "outputs": [],
   "source": []
  }
 ],
 "metadata": {
  "kernelspec": {
   "display_name": "Python 3 (ipykernel)",
   "language": "python",
   "name": "python3"
  },
  "language_info": {
   "codemirror_mode": {
    "name": "ipython",
    "version": 3
   },
   "file_extension": ".py",
   "mimetype": "text/x-python",
   "name": "python",
   "nbconvert_exporter": "python",
   "pygments_lexer": "ipython3",
   "version": "3.9.12"
  }
 },
 "nbformat": 4,
 "nbformat_minor": 2
}
