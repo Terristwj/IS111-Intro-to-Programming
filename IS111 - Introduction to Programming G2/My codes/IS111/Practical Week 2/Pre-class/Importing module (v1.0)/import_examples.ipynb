{
 "cells": [
  {
   "cell_type": "code",
   "execution_count": null,
   "metadata": {},
   "outputs": [],
   "source": [
    "import greet\n",
    "\n",
    "name = input('Enter your name :')\n",
    "greet.say_hello(name)\n",
    "greet.say_bye(name)"
   ]
  },
  {
   "cell_type": "code",
   "execution_count": null,
   "metadata": {},
   "outputs": [],
   "source": [
    "import math\n",
    "\n",
    "# prompt the user for a number\n",
    "num = float(input('Enter a number :'))\n",
    "# Calculate the square root of num\n",
    "result = math.sqrt(num) \n",
    "# display the result\n",
    "print('Square root of',num,'is :',result)\n"
   ]
  },
  {
   "cell_type": "code",
   "execution_count": null,
   "metadata": {},
   "outputs": [],
   "source": []
  }
 ],
 "metadata": {
  "kernelspec": {
   "display_name": "Python 3",
   "language": "python",
   "name": "python3"
  },
  "language_info": {
   "codemirror_mode": {
    "name": "ipython",
    "version": 3
   },
   "file_extension": ".py",
   "mimetype": "text/x-python",
   "name": "python",
   "nbconvert_exporter": "python",
   "pygments_lexer": "ipython3",
   "version": "3.7.3"
  }
 },
 "nbformat": 4,
 "nbformat_minor": 2
}
