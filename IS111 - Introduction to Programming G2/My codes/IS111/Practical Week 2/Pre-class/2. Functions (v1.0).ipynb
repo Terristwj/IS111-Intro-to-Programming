{
 "cells": [
  {
   "cell_type": "markdown",
   "metadata": {},
   "source": [
    "<table class=\"table table-bordered\">\n",
    "    <tr>\n",
    "        <th style=\"text-align:center; width:35%\"><img src='https://drive.google.com/uc?export=view&id=1zIB3Nw_z8N2SJSSdd2yWQIsDS0MGPYKm' style=\"width: 300px; height: 90px; \"></th>\n",
    "        <th style=\"text-align:center;\"><h3>IS111 - Notebook 2</h3><h2>Functions</h2></th>\n",
    "    </tr>\n",
    "</table>"
   ]
  },
  {
   "cell_type": "markdown",
   "metadata": {},
   "source": [
    "### Learning Outcomes\n",
    "\n",
    "At the end of this lesson, you should be able to:\n",
    "<ul>\n",
    "<li> Define a function in Python.</li>\n",
    "<li> Call a defined function in Python.</li>\n",
    "<li> Understand parameters and arguments of functions.</li>\n",
    "<li> Understand return values of functions and how to use them.</li>\n",
    "<li> Understand the scope of variables within a function.</li>\n",
    "<li> Know the use of docstrings to add documentations to functions.</li>\n",
    "</ul>"
   ]
  },
  {
   "cell_type": "markdown",
   "metadata": {},
   "source": [
    "In this notebook, we introduce functions in Python in more detail. You have seen some Python built-in functions earlier, such as `print()` and `input()`. Functions provide a structured way to organize the logic of a program.\n",
    "\n",
    "To put it in a simply way, a function is a <b>group of statements</b> that is given a name and that <b>fulfills a mission or purpose</b> in a program. For example, the built-in function `print()` fulfills the mission of printing out one or multiple values to the screen.\n",
    "\n",
    "We can define our own functions to facilitate the organization of our code. Let's see the following example, which is a function that draws a stick figure."
   ]
  },
  {
   "cell_type": "code",
   "execution_count": 1,
   "metadata": {},
   "outputs": [],
   "source": [
    "def draw_stick_figure():\n",
    "    print(' O ')\n",
    "    print('/|\\\\')\n",
    "    print('/ \\\\')"
   ]
  },
  {
   "cell_type": "markdown",
   "metadata": {},
   "source": [
    "The code above defines a function called `draw_stick_figure`. Once the function is defined, we can use it. The way to <b>execute</b> the code in a function is to <b>call</b> that function. Run the code below to see what happens."
   ]
  },
  {
   "cell_type": "code",
   "execution_count": null,
   "metadata": {},
   "outputs": [],
   "source": [
    "draw_stick_figure()"
   ]
  },
  {
   "cell_type": "markdown",
   "metadata": {},
   "source": [
    "You can see that the code above displays a stick figure to the screen. If we call the function multiple times, it will be executed mutliple times:"
   ]
  },
  {
   "cell_type": "code",
   "execution_count": 2,
   "metadata": {},
   "outputs": [
    {
     "name": "stdout",
     "output_type": "stream",
     "text": [
      " O \n",
      "/|\\\n",
      "/ \\\n",
      " O \n",
      "/|\\\n",
      "/ \\\n",
      " O \n",
      "/|\\\n",
      "/ \\\n"
     ]
    }
   ],
   "source": [
    "draw_stick_figure()\n",
    "draw_stick_figure()\n",
    "draw_stick_figure()"
   ]
  },
  {
   "cell_type": "markdown",
   "metadata": {},
   "source": [
    "Let us now see more details about how functions are defined and called."
   ]
  },
  {
   "cell_type": "markdown",
   "metadata": {},
   "source": [
    "## I. Function Definition\n",
    "\n",
    "The following picture shows the right syntax to define a function in Python:\n",
    "\n",
    "<img align=\"left\" src='https://drive.google.com/uc?export=view&id=0B08uY8vosNfoenhIZE02Zm0wSGc' style=\"width: 400px; height: 150px;\">"
   ]
  },
  {
   "cell_type": "markdown",
   "metadata": {},
   "source": [
    "From the picture we can see that to define a function we need the following:\n",
    "\n",
    "<ul>\n",
    "    <li>The <code>def</code> keyword : This keyword marks the <b>start</b> of the function definition or declaration.</li>\n",
    "<li>Function <b>name</b>: Each function needs to have a name. You should choose a meaningful name, which tells what the mission of the function is.</li>\n",
    "<li><b>Parentheses</b>: After the name of a function, you need to place a pair of parentheses. Although in the example above it is empty inside the parentheses, soon you will see that <b>parameters</b> can be defined inside the parentheses. The parentheses are always required even if there is no parameter.</li>\n",
    "<li><b>Colon</b>: The colon sign indicates the start of the function body. </li>\n",
    "    <li>The <code>return</code> statement: Upon completion of a function, a result can be <b>returned</b> by the function. In that case you can use a <b>return statement</b>.</li>\n",
    "</ul>\n",
    "\n",
    "The first line of a function definition is also called the <b>header line</b>.\n",
    "\n",
    "### Indentation\n",
    "\n",
    "It is very important to note that the body of a function needs to be <b>indented</b>. If a function is not indented correctly, the code cannot be understood by the computer and thus cannot be executed. \n",
    "\n",
    "Try to run the following cell and see what happens. Can you fix the error?"
   ]
  },
  {
   "cell_type": "code",
   "execution_count": null,
   "metadata": {},
   "outputs": [],
   "source": [
    "# a function definition\n",
    "def print_welcome_msg():\n",
    "print(\"Welcome to\")\n",
    "print(\"     SMU SIS!\")\n",
    "\n",
    "# a function call\n",
    "print_welcome_msg()"
   ]
  },
  {
   "cell_type": "markdown",
   "metadata": {},
   "source": [
    "### Function Naming Rules and Conventions\n",
    "\n",
    "Just like variable names, function names also need to follow a set of rules. These rules are actually the same as the rules for variable names. \n",
    "\n",
    "Similar to variable names, for functions we should also use lowercase letters and use underscores to separate multiple words. E.g., `print_message`, `compute_interest`.\n",
    "\n",
    "Different from variable names, function names often start with a verb. This is because functions represent actions."
   ]
  },
  {
   "cell_type": "markdown",
   "metadata": {},
   "source": [
    "## II. Function Call\n",
    "\n",
    "To execute the code inside a function, we can simply use the name of the function together with a pair of parentheses, as you have seen earlier.\n",
    "\n"
   ]
  },
  {
   "cell_type": "markdown",
   "metadata": {},
   "source": [
    "### Order of Function Definition and Function Call\n",
    "\n",
    "It is also important to note that a function needs to be defined before it is called. Try to run the code below to see what happens. Can you fix the error?"
   ]
  },
  {
   "cell_type": "code",
   "execution_count": null,
   "metadata": {},
   "outputs": [],
   "source": [
    "# a function call\n",
    "print_hello()\n",
    "\n",
    "# a function definition\n",
    "def print_hello():\n",
    "    print(\"Hello!\")"
   ]
  },
  {
   "cell_type": "markdown",
   "metadata": {},
   "source": [
    "## III. Parameters\n",
    "\n",
    "Let's look at a simple function below that displays a greeting message:"
   ]
  },
  {
   "cell_type": "code",
   "execution_count": null,
   "metadata": {},
   "outputs": [],
   "source": [
    "# function definition\n",
    "def greet():\n",
    "    print('Hi IS111 class!')\n",
    "    \n",
    "# function call\n",
    "greet()"
   ]
  },
  {
   "cell_type": "markdown",
   "metadata": {},
   "source": [
    "Now, suppose that you want to greet a particular person, Tom for example. How should we modify the code?\n",
    "\n",
    "Well, one way would be the following:"
   ]
  },
  {
   "cell_type": "code",
   "execution_count": null,
   "metadata": {},
   "outputs": [],
   "source": [
    "def greet2():\n",
    "    print('Hi Tom')\n",
    "    \n",
    "greet2()"
   ]
  },
  {
   "cell_type": "markdown",
   "metadata": {},
   "source": [
    "<img align=\"left\" src='https://drive.google.com/uc?export=view&id=0B08uY8vosNfoeUJ4NUxtMlVNNnM' style=\"width: 60px; height: 60px;\">\n",
    "But what if we want to greet somebody else? We can see that the function defined above is not very useful, because the name of the person to greet is <b>hard coded</b>, meaning embedded into the code. What we'd like to have is a flexible function that can greet different people.\n",
    "\n",
    "This is where parameters can be used to help. A parameter is a placeholder that can be used to store a value. When a function is defined with a parameter, the body of the function can use the parameter to define a generic behavior without knowing the value stored in the parameter. When we call the function, we need to <b>pass a value</b> to the parameter. This value is then assigned to the parameter and used inside the body of the function.\n",
    "\n",
    "Let's use the following example to see how it works:"
   ]
  },
  {
   "cell_type": "code",
   "execution_count": null,
   "metadata": {},
   "outputs": [],
   "source": [
    "def greet3(name):\n",
    "    print(\"Hi\", name)\n",
    "    \n",
    "greet3(\"Tom\")\n",
    "greet3(\"Jerry\")"
   ]
  },
  {
   "cell_type": "markdown",
   "metadata": {},
   "source": [
    "We can see that in the definition of `greet3`, the parameter `name` is used in the `print()` statement. The `print()` statement prints `\"Hi\"` followed by `name`. Depending on what value is stored inside `name`, the actual string to be printed out will be different.\n",
    "\n",
    "When we call the function `greet3`, we need to pass an actual value to the function to be used as the value of `name`. We can see that in the first function call, the string `\"Tom\"` is passed to the parameter `name`, and therefore we see `\"Hi Tom\"` printed on the screen. In the second function call, a different string `\"Jerry\"` is passed to the parameter `name`, and we now see `\"Hi Jerry\"` printed on the screen.\n",
    "\n",
    "As you can see, the `greet3` function is more flexible and therefore more useful than `greet2`, because we can customize its behavior by passing in different values, without having to change the definition of the function!"
   ]
  },
  {
   "cell_type": "markdown",
   "metadata": {},
   "source": [
    "### Number of parameters\n",
    "\n",
    "A function can have zero, one or multiple parameters. All parameters must be specified inside the pair of parentheses in the header line of a function definition. If there are multiple parameters, they must be separated by commas.\n",
    "\n",
    "The code below shows a function with two parameters:"
   ]
  },
  {
   "cell_type": "code",
   "execution_count": null,
   "metadata": {},
   "outputs": [],
   "source": [
    "def print_addition(a, b):\n",
    "    result = a + b\n",
    "    print(a, \"+\", b, \"=\", result)\n",
    "    \n",
    "print_addition(3, 5)\n",
    "print_addition(10, 35)"
   ]
  },
  {
   "cell_type": "markdown",
   "metadata": {},
   "source": [
    "### Parameters vs. arguments\n",
    "\n",
    "When people talk about function calls, there is another term <b>argument</b> that is often used. Some people think arguments and parameters are the same. There is actually a difference here.\n",
    "\n",
    "We use <b>parameter</b> to refer to a placeholder in a <b>function definition</b>.\n",
    "\n",
    "We use <b>argument</b> to refer to the value that is passed to the function in a <b>function call</b>.\n",
    "\n",
    "So in the function `print_addition` above, the variables `a` and `b` are the parameters of this function. When we call the function the first time in Line 5, `3` and `5` are the arguments. When we call it the second time in Line 6, `10` and `35` are the arguments.\n",
    "\n",
    "### Matching arguments with parameters\n",
    "\n",
    "When calling a function, we must first check how many parameters a function takes. The number of arguments we pass to the function must be exactly the same as the number of parameters of that function. In addition, we must understand what types of data are expected as arguments. If a function expects to take a number and a string, we must pass in a number and a string in that order."
   ]
  },
  {
   "cell_type": "markdown",
   "metadata": {},
   "source": [
    "<img align=\"left\" src='https://drive.google.com/uc?export=view&id=0B08uY8vosNfobDBuOXVXQWVxMFE' style=\"width: 60px; height: 60px;\"><br />Let's do an exercise !"
   ]
  },
  {
   "cell_type": "markdown",
   "metadata": {},
   "source": [
    "The code in the cell below has some errors. Can you fix them?"
   ]
  },
  {
   "cell_type": "code",
   "execution_count": 4,
   "metadata": {},
   "outputs": [
    {
     "name": "stdout",
     "output_type": "stream",
     "text": [
      "101\n",
      "I\n",
      "love\n",
      "Singapore\n",
      "11\n",
      "Hello Jack\n"
     ]
    }
   ],
   "source": [
    "# first function definition\n",
    "def do_trick_1(x, y):\n",
    "    print(x + y)\n",
    "\n",
    "# second function definition\n",
    "def do_trick_2(a, b, c):\n",
    "    print(a)\n",
    "    print(b)\n",
    "    print(c)\n",
    "\n",
    "# third function definition\n",
    "def do_trick_3(a_number, a_string):\n",
    "    print(a_number + 1)\n",
    "    print(\"Hello \" + a_string)\n",
    "\n",
    "# function calls\n",
    "do_trick_1(100, 1)\n",
    "do_trick_2(\"I\", \"love\", \"Singapore\")\n",
    "do_trick_3(10, \"Jack\")"
   ]
  },
  {
   "cell_type": "markdown",
   "metadata": {},
   "source": [
    "### Keyword Arguments\n",
    "\n",
    "For the last function above, `do_trick_3()`, we see that when we call the function, if we pass a string followed by a number, we encounter an error. This is because we do not follow the expected positions of the two arguments.\n",
    "\n",
    "Most programming languages match arguments and parameters by positions in this way. In other words, <b>positional arguments</b> must be passed in the exact order in which they are defined for the functions that are called.\n",
    "\n",
    "In Python, in addition to this traditional way of passing arguments, there is also another way of passing arguments by specifying the parameter names. These are called <b>keyword arguments</b>.\n",
    "\n",
    "See the example code below:"
   ]
  },
  {
   "cell_type": "code",
   "execution_count": 5,
   "metadata": {},
   "outputs": [
    {
     "name": "stdout",
     "output_type": "stream",
     "text": [
      "11\n",
      "Hello Jack\n"
     ]
    }
   ],
   "source": [
    "def do_trick_4(a_number, a_string):\n",
    "    print(a_number + 1)\n",
    "    print(\"Hello \" + a_string)\n",
    "\n",
    "\n",
    "do_trick_4(a_string = \"Jack\", a_number = 10)"
   ]
  },
  {
   "cell_type": "markdown",
   "metadata": {},
   "source": [
    "As we can see, although in the function definition the first parameter is expected to be a number and the second parameter is expected to be a string, when calling the function in Line 6, we use the names of the two parameters to pass in the arguments `\"Jack\"` and `10`, and we use a different order to pass in the two arguments."
   ]
  },
  {
   "cell_type": "markdown",
   "metadata": {},
   "source": [
    "### Default Arguments\n",
    "\n",
    "<b>Default arguments</b> provide <b>default values</b> for certain parameters, in a <b>function definition</b>.\n",
    "\n",
    "When calling the function, we have the <b>choice of providing or not providing</b> a value for those parameters.\n",
    "\n",
    "If we don't provide any value, then the <b>default value</b> is used, but if we do provide a different value than the one by default, then it is the value that we have provided that is used.\n",
    "\n",
    "Let's see an example below that can be very handy in e-commerce applications:"
   ]
  },
  {
   "cell_type": "code",
   "execution_count": 6,
   "metadata": {},
   "outputs": [],
   "source": [
    "def print_cost_with_tax(cost, tax_rate = 0.07):\n",
    "    print(\"Total cost: \", cost * (1 + tax_rate))"
   ]
  },
  {
   "cell_type": "markdown",
   "metadata": {},
   "source": [
    "When calling the function above, if we don't specify the tax rate, `0.07` will be used:"
   ]
  },
  {
   "cell_type": "code",
   "execution_count": 7,
   "metadata": {},
   "outputs": [
    {
     "name": "stdout",
     "output_type": "stream",
     "text": [
      "Total cost:  107.0\n"
     ]
    }
   ],
   "source": [
    "print_cost_with_tax(100)"
   ]
  },
  {
   "cell_type": "markdown",
   "metadata": {},
   "source": [
    "But if we want to specify a different tax rate, we can do so as well:"
   ]
  },
  {
   "cell_type": "code",
   "execution_count": 8,
   "metadata": {},
   "outputs": [
    {
     "name": "stdout",
     "output_type": "stream",
     "text": [
      "Total cost:  108.5\n"
     ]
    }
   ],
   "source": [
    "print_cost_with_tax(100, tax_rate = 0.085)"
   ]
  },
  {
   "cell_type": "markdown",
   "metadata": {},
   "source": [
    "Another example of a function that has a default argument is the function `print()`. Usually we call this function by specifying the values to be printed. There is a parameter called `end`, whose default value is a new line character. Usually we do not pass any argument to this parameter, and its default value is used. With this default value of `end`, after a `print()` statement the cursor moves to the next line. However, we can use a different value of `end`. Run the code below and compare the different outputs."
   ]
  },
  {
   "cell_type": "code",
   "execution_count": 9,
   "metadata": {},
   "outputs": [
    {
     "name": "stdout",
     "output_type": "stream",
     "text": [
      "abc\n",
      "def\n",
      "==========\n",
      "abcdef\n",
      "==========\n",
      "abc/def\n",
      "==========\n",
      "abc*****def\n",
      "==========\n"
     ]
    }
   ],
   "source": [
    "print(\"abc\")\n",
    "print(\"def\")\n",
    "print(\"==========\")\n",
    "\n",
    "print(\"abc\", end='')\n",
    "print(\"def\")\n",
    "print(\"==========\")\n",
    "\n",
    "print(\"abc\", end='/')\n",
    "print(\"def\")\n",
    "print(\"==========\")\n",
    "\n",
    "print(\"abc\", end='*****')\n",
    "print(\"def\")\n",
    "print(\"==========\")"
   ]
  },
  {
   "cell_type": "markdown",
   "metadata": {},
   "source": [
    "<img align=\"left\" src='https://drive.google.com/uc?export=view&id=0B08uY8vosNfobDBuOXVXQWVxMFE' style=\"width: 60px; height: 60px;\"><br />Let's do an exercise !"
   ]
  },
  {
   "cell_type": "markdown",
   "metadata": {},
   "source": [
    "Given the following function definition,"
   ]
  },
  {
   "cell_type": "code",
   "execution_count": 11,
   "metadata": {},
   "outputs": [],
   "source": [
    "def print_profit(revenue, expense1=200, expense2=500):\n",
    "    print(\"profit: \", revenue - expense1 - expense2)"
   ]
  },
  {
   "cell_type": "code",
   "execution_count": 13,
   "metadata": {},
   "outputs": [
    {
     "name": "stdout",
     "output_type": "stream",
     "text": [
      "profit:  9300\n",
      "profit:  9000\n",
      "profit:  8700\n",
      "profit:  9400\n"
     ]
    }
   ],
   "source": [
    "print_profit(10000)\n",
    "print_profit(10000, 500)\n",
    "print_profit(10000, 800, 500)\n",
    "print_profit(expense1=100, revenue=10000, expense2=500)\n",
    "# print_profit(expense2=400, reveune=10000, 500) # error"
   ]
  },
  {
   "cell_type": "markdown",
   "metadata": {},
   "source": [
    "what should be the output of the following function call?\n",
    "\n",
    "<ol>\n",
    "    <li><code>print_profit(10000)</code></li>\n",
    "    <li><code>print_profit(10000, 500)</code></li>\n",
    "    <li><code>print_profit(10000, 800, 100)</code></li>\n",
    "    <li><code>print_profit(expense1=100, revenue=10000, expense2=500)</code></li>\n",
    "    <li><code>print_profit(expense2=400, revenue=10000, 500)</code></li>\n",
    "</ol>"
   ]
  },
  {
   "cell_type": "markdown",
   "metadata": {},
   "source": [
    "## IV. Functions with a Return Statement"
   ]
  },
  {
   "cell_type": "markdown",
   "metadata": {},
   "source": [
    "In all the example functions above, a function performs some actions and then finishes.\n",
    "\n",
    "You may recall that we have seen a built-in function `input()` that <b>returns</b> a string, which is the string entered by the user through keyboard.\n",
    "\n",
    "When we define a function, we can also let it return a value if it makes sense to do so. We use a <b>return statement</b> to do so.\n",
    "\n",
    "The example below is a function that returns a value:"
   ]
  },
  {
   "cell_type": "code",
   "execution_count": 14,
   "metadata": {},
   "outputs": [],
   "source": [
    "def add_numbers(a, b, c):\n",
    "    result = a + b + c\n",
    "    return result"
   ]
  },
  {
   "cell_type": "markdown",
   "metadata": {},
   "source": [
    "We can see that the function adds up the values of the three parameters and then resturns the sum.\n",
    "\n",
    "When such a function is called, we generally should capture the returned value. This is usually done by assigning the returned value to a variable, as seen below:"
   ]
  },
  {
   "cell_type": "code",
   "execution_count": 15,
   "metadata": {},
   "outputs": [
    {
     "name": "stdout",
     "output_type": "stream",
     "text": [
      "60\n"
     ]
    }
   ],
   "source": [
    "total = add_numbers(10, 20, 30)\n",
    "print(total)"
   ]
  },
  {
   "cell_type": "markdown",
   "metadata": {},
   "source": [
    "<img align=\"left\" src='https://drive.google.com/uc?export=view&id=0B08uY8vosNfoa2dncC1mOFdhSFU' style=\"width: 60px; height: 60px;\"><br />\n",
    "Now what happens if we call the function `add_numbers()` <b>without</b> assigning its returned value to a variable? "
   ]
  },
  {
   "cell_type": "code",
   "execution_count": 16,
   "metadata": {},
   "outputs": [
    {
     "data": {
      "text/plain": [
       "9"
      ]
     },
     "execution_count": 16,
     "metadata": {},
     "output_type": "execute_result"
    }
   ],
   "source": [
    "add_numbers(1, 3, 5)"
   ]
  },
  {
   "cell_type": "markdown",
   "metadata": {},
   "source": [
    "We do not see any error. However, the returned value from the function is <b>lost</b> because if we want to refer to the value in the code subsequently, we cannot do it.\n",
    "\n",
    "So in general, if a function returns a value, we should try to assign the returned value to a variable in order to keep the value.\n",
    "\n",
    "### Missing Return Statement\n",
    "\n",
    "A return statement is optional. When a return statement is missing, the function returns a special value called `None`. Run the code below to verify it."
   ]
  },
  {
   "cell_type": "code",
   "execution_count": 17,
   "metadata": {},
   "outputs": [
    {
     "name": "stdout",
     "output_type": "stream",
     "text": [
      "None\n"
     ]
    }
   ],
   "source": [
    "def do_nothing():\n",
    "    a = 1\n",
    "    b = 0\n",
    "\n",
    "x = do_nothing()\n",
    "print(x)"
   ]
  },
  {
   "cell_type": "markdown",
   "metadata": {},
   "source": [
    "Note that `None` here is <b>not</b> a string. It is a special value. You can use the `type()` function to check its type."
   ]
  },
  {
   "cell_type": "code",
   "execution_count": 18,
   "metadata": {},
   "outputs": [
    {
     "name": "stdout",
     "output_type": "stream",
     "text": [
      "<class 'NoneType'>\n"
     ]
    }
   ],
   "source": [
    "print(type(x))"
   ]
  },
  {
   "cell_type": "markdown",
   "metadata": {},
   "source": [
    "### Parameters and return statement\n",
    "\n",
    "Note that whether or not a function has any parameter is independent of whether or not a function has a return statement. A function with zero parameter may or may not have a return statement. Similarly, a function with parameters also may or may not have a return statement."
   ]
  },
  {
   "cell_type": "markdown",
   "metadata": {},
   "source": [
    "## V. Flow of Execution\n",
    "\n",
    "To better understand functions and function calls, let's talk about flow of execution. \n",
    "\n",
    "In a program, statements are generally executed <b>sequentially</b>, one at a time and from top to bottom.\n",
    "\n",
    "However, when there is a function call, it is like a <b>detour</b> in the flow of execution. When a function is called, the flow <b>jumps</b> to the first line of the <b>called function</b>, executes all the statements of the <b>function body</b> and then <b>comes back</b> to pick up where it <b>left off</b>.\n",
    "\n",
    "Let's look at the following code:"
   ]
  },
  {
   "cell_type": "code",
   "execution_count": 19,
   "metadata": {},
   "outputs": [
    {
     "name": "stdout",
     "output_type": "stream",
     "text": [
      " O\n",
      "/|\\\n",
      "/ \\\n"
     ]
    }
   ],
   "source": [
    "# function definitions\n",
    "def draw_head():\n",
    "    print(' O')\n",
    "    \n",
    "def draw_legs():\n",
    "    print('/ \\\\')\n",
    "\n",
    "def draw_arms():\n",
    "    print('/|\\\\')\n",
    "    \n",
    "# function calls\n",
    "draw_head()\n",
    "draw_arms()\n",
    "draw_legs()"
   ]
  },
  {
   "cell_type": "markdown",
   "metadata": {},
   "source": [
    "<img align=\"left\" src='https://drive.google.com/uc?export=view&id=0B08uY8vosNfoa2dncC1mOFdhSFU' style=\"width: 60px; height: 60px;\"><br />What is the flow of execution in this code?"
   ]
  },
  {
   "cell_type": "markdown",
   "metadata": {},
   "source": [
    "<ul>\n",
    "    <li>The Python interpreter starts reading the script from the Line 1. However, because Line 1 through Line 9 are function definitions, the Python interpreter does not perform any action.</li>\n",
    "    <li>The Python interpreter continues and reaches Line 12 that calls <code>draw_head()</code>. At this point of time, the interpreter jumps back to the definition of <code>draw_head()</code> at Line 2 and starts executing the code in the body of this function.</li>\n",
    "    <li>When <code>draw_head()</code> is finished at Line 3, the interpreter comes back to Line 12 to finish the function call.</li>\n",
    "    <li>Then the interpreter moves on to Line 13, where it sees another function call. It therefore jumps to the definition of <code>draw_arms()</code> at Line 8 and executes the code inside the function. </li>\n",
    "    <li>When Line 9 is finished, the interpreter jumps back to Line 13 to finish the function call and then moves on to Line 14. Again, it sees a function call and jumps to Line 5 to execute the function.</li>\n",
    "    <li>Finally, the flow returns to Line 14 and the code finishes.</li>\n",
    "</ul>"
   ]
  },
  {
   "cell_type": "markdown",
   "metadata": {},
   "source": [
    "## VI. Lifetime or Scope of a Variable"
   ]
  },
  {
   "cell_type": "markdown",
   "metadata": {},
   "source": [
    "Take a look at the following code example:"
   ]
  },
  {
   "cell_type": "code",
   "execution_count": 20,
   "metadata": {},
   "outputs": [
    {
     "name": "stdout",
     "output_type": "stream",
     "text": [
      "2\n",
      "3\n"
     ]
    },
    {
     "ename": "NameError",
     "evalue": "name 'p' is not defined",
     "output_type": "error",
     "traceback": [
      "\u001b[1;31m---------------------------------------------------------------------------\u001b[0m",
      "\u001b[1;31mNameError\u001b[0m                                 Traceback (most recent call last)",
      "Input \u001b[1;32mIn [20]\u001b[0m, in \u001b[0;36m<cell line: 7>\u001b[1;34m()\u001b[0m\n\u001b[0;32m      3\u001b[0m     \u001b[38;5;28mprint\u001b[39m(q)\n\u001b[0;32m      5\u001b[0m do_trick_5(\u001b[38;5;241m2\u001b[39m, \u001b[38;5;241m3\u001b[39m)\n\u001b[1;32m----> 7\u001b[0m \u001b[38;5;28mprint\u001b[39m(\u001b[43mp\u001b[49m)\n\u001b[0;32m      8\u001b[0m \u001b[38;5;28mprint\u001b[39m(q)\n",
      "\u001b[1;31mNameError\u001b[0m: name 'p' is not defined"
     ]
    }
   ],
   "source": [
    "def do_trick_5(p, q):\n",
    "    print(p)\n",
    "    print(q)\n",
    "\n",
    "do_trick_5(2, 3)\n",
    "\n",
    "print(p)\n",
    "print(q)"
   ]
  },
  {
   "cell_type": "markdown",
   "metadata": {},
   "source": [
    "When you run the code above, you'll get an error when the computer reaches Line 7. The error message says name `'p'` is not defined. Why? Let us now look at the lifetime or scope of a variable.\n",
    "\n",
    "If a function has parameters, those parameters are called <b>local variables</b> inside the function, and the <b>lifetime</b> (or also called the <b>scope</b>) of those parameters is <b>within the function</b> itself."
   ]
  },
  {
   "cell_type": "markdown",
   "metadata": {},
   "source": [
    " <img align=\"left\" src='https://drive.google.com/uc?export=view&id=0B08uY8vosNfoa2dncC1mOFdhSFU' style=\"width: 60px; height: 60px;\"><br />\n",
    "        What does <b>local variable</b> mean?<br />\n",
    "        What is this <b>lifetime</b> or <b>scope</b> of a variable that your are talking about?"
   ]
  },
  {
   "cell_type": "markdown",
   "metadata": {},
   "source": [
    "We can explain these concepts using the example above. The two parameters, `p` and `q`, are local variables of the function `do_trick_5()`. While they can be used inside `do_trick_5()`, they no longer exist outside of the body of the function.\n",
    "\n",
    "If we trace the flow of control of the code, we understand that when the computer starts from Line 1 of the code, it does not perform any action until Line 5 because Line 1 to Line 4 are just a function definition. When the interpreter sees Line 5, it jumps to Line 1 and creates two variables, `p` and `q`. It also passes the values `2` and `3` to `p` and `q`, respectively. When Line 2 and Line 3 are executed, the values of `p` and `q` are printed out one by one. After that, the interpreter jumps back to Line 5 and at this point of time, the two variables `p` and `q` do not exist anymore. Therefore, when we reach Line 7 and try to print the value of `p`, we get an error."
   ]
  },
  {
   "cell_type": "markdown",
   "metadata": {},
   "source": [
    "## VII. Use docstrings to Add Documentations\n",
    "\n",
    "One of the benefits of using functions is that it facilitates teamwork. A function can be defined (written) by one person and called (used) by another person. However, in this case it is important that the person who has created the function documents the usage of the function well so that other people can easily understand the usage without having to read the entire code.\n",
    "\n",
    "It is a good habit to document the usage of a function at the beginning of its definition. This is usually done by writing a \"docstring\". See the sample code below:"
   ]
  },
  {
   "cell_type": "code",
   "execution_count": 21,
   "metadata": {},
   "outputs": [],
   "source": [
    "def compute_product(a, b):\n",
    "    \"\"\"This function computes and returns the product of the two parameters.\"\"\"\n",
    "    return a * b"
   ]
  },
  {
   "cell_type": "markdown",
   "metadata": {},
   "source": [
    "Here Line 2 is a docstring that explains what the function does. A docstring is essentially a string literal. (Besides using single quotes and double quotes, we can also enclose a string using a pair of three single quotes or a pair of three double quotes.) We should place it right below the header line of the function. \n",
    "\n",
    "A docstring can have multiple lines:"
   ]
  },
  {
   "cell_type": "code",
   "execution_count": null,
   "metadata": {},
   "outputs": [],
   "source": [
    "def compute_product_2(a, b, c=1):\n",
    "    \"\"\"\n",
    "    This function takes in three numbers, computes their product, and returns it.\n",
    "    \n",
    "    Args:\n",
    "        a (int or float): the first number to be multiplied\n",
    "        b (int or float): the second number to be multiplied\n",
    "        c (int or float): the third number to be multiplied (default: 1)\n",
    "    \n",
    "    Returns:\n",
    "        The product of a, b and c.\n",
    "    \"\"\"\n",
    "    return a * b * c"
   ]
  },
  {
   "cell_type": "markdown",
   "metadata": {},
   "source": [
    "We can see that the docstring above consists of multiple lines. It also clearly explains the parameters of the function, their expected data types, and the expected return value of the function. With this explanation of the function, a person does not need to read the actual implementation of the function in order to use the function."
   ]
  },
  {
   "cell_type": "code",
   "execution_count": null,
   "metadata": {},
   "outputs": [],
   "source": []
  }
 ],
 "metadata": {
  "kernelspec": {
   "display_name": "Python 3 (ipykernel)",
   "language": "python",
   "name": "python3"
  },
  "language_info": {
   "codemirror_mode": {
    "name": "ipython",
    "version": 3
   },
   "file_extension": ".py",
   "mimetype": "text/x-python",
   "name": "python",
   "nbconvert_exporter": "python",
   "pygments_lexer": "ipython3",
   "version": "3.9.12"
  }
 },
 "nbformat": 4,
 "nbformat_minor": 2
}
