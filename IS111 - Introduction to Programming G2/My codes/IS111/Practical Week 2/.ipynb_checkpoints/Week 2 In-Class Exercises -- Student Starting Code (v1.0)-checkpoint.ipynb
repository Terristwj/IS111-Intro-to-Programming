{
 "cells": [
  {
   "cell_type": "markdown",
   "metadata": {},
   "source": [
    "<table class=\"table table-bordered\">\n",
    "    <tr>\n",
    "        <th style=\"text-align:center; width:35%\"><img src='https://drive.google.com/uc?export=view&id=1zIB3Nw_z8N2SJSSdd2yWQIsDS0MGPYKm' style=\"width: 300px; height: 90px; \"></th>\n",
    "        <th style=\"text-align:center;\"><h3>IS111 - In-Class Exercises</h3><h3>Week 2</h3></th>\n",
    "    </tr>\n",
    "</table>"
   ]
  },
  {
   "cell_type": "markdown",
   "metadata": {},
   "source": [
    "### Q1: Functions for Numbers [ &#9733; ]"
   ]
  },
  {
   "cell_type": "markdown",
   "metadata": {},
   "source": [
    "#### (a)"
   ]
  },
  {
   "cell_type": "code",
   "execution_count": 2,
   "metadata": {},
   "outputs": [
    {
     "name": "stdout",
     "output_type": "stream",
     "text": [
      "Enter 1st number: 23.9\n",
      "Enter 2nd number: 198.3\n",
      "Enter 3rd number: -95.7\n",
      "Average: 42.16666666666667\n"
     ]
    }
   ],
   "source": [
    "# ################################################################################\n",
    "# The following code is given to you.\n",
    "def compute_average(a, b, c):\n",
    "    \"\"\"\n",
    "    This function returns the average of the three numbers a, b and c.\n",
    "    \"\"\"\n",
    "    return (a + b + c)/3\n",
    "\n",
    "# ################################################################################    \n",
    "# Write your code below:\n",
    "a = float(input(\"Enter 1st number: \"))\n",
    "b = float(input(\"Enter 2nd number: \"))\n",
    "c = float(input(\"Enter 3rd number: \"))\n",
    "\n",
    "\n",
    "print(\"Average:\", compute_average(a, b, c))"
   ]
  },
  {
   "cell_type": "markdown",
   "metadata": {},
   "source": [
    "# (b)"
   ]
  },
  {
   "cell_type": "code",
   "execution_count": 3,
   "metadata": {},
   "outputs": [
    {
     "name": "stdout",
     "output_type": "stream",
     "text": [
      "The geometric mean of 2, 4 and 6 is: 3.634241185664279\n"
     ]
    }
   ],
   "source": [
    "# ################################################################################\n",
    "# Implement the function below:\n",
    "def compute_geometric_mean(x, y, z):\n",
    "    \"\"\"\n",
    "    This function returns the geometric mean of the three numbers x, y and z.\n",
    "    \"\"\"\n",
    "    # Write your code here:\n",
    "    return (x*y*z)**(1/3)\n",
    "    \n",
    "    \n",
    "    \n",
    "\n",
    "# ################################################################################    \n",
    "# The code below is to test your implementation above.\n",
    "# DO NOT MODIFY THE CODE BELOW!\n",
    "\n",
    "print(\"The geometric mean of 2, 4 and 6 is:\", compute_geometric_mean(2, 4, 6))"
   ]
  },
  {
   "cell_type": "markdown",
   "metadata": {},
   "source": [
    "### Q2: Message Printer [ &#9733; ]"
   ]
  },
  {
   "cell_type": "code",
   "execution_count": 6,
   "metadata": {},
   "outputs": [
    {
     "name": "stdout",
     "output_type": "stream",
     "text": [
      "--------------------\n",
      "| Hello SIS! |\n",
      "--------------------\n",
      "--------------------\n",
      "* Hello Python! *\n",
      "$ Hello Functions! $\n",
      "--------------------\n"
     ]
    }
   ],
   "source": [
    "# ################################################################################\n",
    "# The following code is given to you.\n",
    "def print_a_line():\n",
    "    \"\"\"\n",
    "    This function displays a line of 20 dashes.\n",
    "    \"\"\"\n",
    "    print(\"--------------------\")\n",
    "    \n",
    "def print_a_message(msg, symbol):\n",
    "    \"\"\"\n",
    "    This function displays a given text message enclosed in a pair of the specified symbols.\n",
    "    For example, if msg is \"Welcome\" and symbol is \"#\", then the function displays \"# Welcome #\".\n",
    "    \n",
    "    Parameters:\n",
    "      - msg: A string that represents the text message to be displayed.\n",
    "      - symbol: A single character that is used to enclose the text message.\n",
    "    \"\"\"\n",
    "    print(symbol + \" \" + msg + \" \" + symbol)\n",
    "    \n",
    "# ################################################################################    \n",
    "# Write your code below:\n",
    "\n",
    "print_a_line()\n",
    "print_a_message(\"Hello SIS!\", \"|\")\n",
    "print_a_line()\n",
    "print_a_line()\n",
    "print_a_message(\"Hello Python!\", \"*\")\n",
    "print_a_message(\"Hello Functions!\", \"$\")\n",
    "print_a_line()\n",
    "\n",
    "# ################################################################################"
   ]
  },
  {
   "cell_type": "markdown",
   "metadata": {},
   "source": [
    "### Q3: Signage Printer [ &#9733;&#9733; ]"
   ]
  },
  {
   "cell_type": "code",
   "execution_count": 12,
   "metadata": {},
   "outputs": [
    {
     "name": "stdout",
     "output_type": "stream",
     "text": [
      "**********\n",
      "* Hello! *\n",
      "**********\n",
      "\n",
      "##################\n",
      "# Welcome to SMU #\n",
      "##################\n"
     ]
    }
   ],
   "source": [
    "# ################################################################################\n",
    "# The following code is given to you.\n",
    "def print_a_customized_line(symbol, n):\n",
    "    \"\"\"\n",
    "    This function prints the specified symbol n times in the same row.\n",
    "    For example, if symbol is '*' and n is 5, the function prints '*****'.\n",
    "    \n",
    "    Parameters:\n",
    "        - symbol: The symbol to be repeated.\n",
    "        - n: The number of times the symbol is to be repeated.\n",
    "    \"\"\"\n",
    "    for i in range(n):\n",
    "        print(symbol, end='')\n",
    "    print()\n",
    "# ################################################################################\n",
    "    \n",
    "\n",
    "# ################################################################################\n",
    "# This function is for you to implement!\n",
    "def print_signage(msg, symbol):\n",
    "#     pass\n",
    "    # Write your code below to print out the correct output.\n",
    "    print_a_customized_line(symbol, len(msg) + 4)\n",
    "    print(symbol, msg, symbol)\n",
    "    print_a_customized_line(symbol, len(msg) + 4)\n",
    "    \n",
    "# ################################################################################\n",
    "\n",
    "\n",
    "# ################################################################################\n",
    "# The code below is to test your implementation above.\n",
    "# DO NOT MODIFY THE CODE BELOW!\n",
    "\n",
    "print_signage(\"Hello!\", \"*\")\n",
    "print()\n",
    "print_signage(\"Welcome to SMU\", \"#\")\n",
    "# ################################################################################"
   ]
  },
  {
   "cell_type": "markdown",
   "metadata": {},
   "source": [
    "### Q4: Banknotes and Coins [ &#9733; ]"
   ]
  },
  {
   "cell_type": "code",
   "execution_count": 13,
   "metadata": {},
   "outputs": [
    {
     "name": "stdout",
     "output_type": "stream",
     "text": [
      "130\n",
      "150\n",
      "152\n",
      "155\n",
      "138\n",
      "143\n"
     ]
    },
    {
     "ename": "TypeError",
     "evalue": "calculate_total_amount() missing 1 required positional argument: 'ten_note'",
     "output_type": "error",
     "traceback": [
      "\u001b[1;31m---------------------------------------------------------------------------\u001b[0m",
      "\u001b[1;31mTypeError\u001b[0m                                 Traceback (most recent call last)",
      "Input \u001b[1;32mIn [13]\u001b[0m, in \u001b[0;36m<cell line: 28>\u001b[1;34m()\u001b[0m\n\u001b[0;32m     26\u001b[0m \u001b[38;5;28mprint\u001b[39m(calculate_total_amount(\u001b[38;5;241m2\u001b[39m, \u001b[38;5;241m3\u001b[39m, two_note\u001b[38;5;241m=\u001b[39m\u001b[38;5;241m4\u001b[39m))\n\u001b[0;32m     27\u001b[0m \u001b[38;5;28mprint\u001b[39m(calculate_total_amount(\u001b[38;5;241m2\u001b[39m, \u001b[38;5;241m3\u001b[39m, two_note\u001b[38;5;241m=\u001b[39m\u001b[38;5;241m4\u001b[39m, five_note\u001b[38;5;241m=\u001b[39m\u001b[38;5;241m1\u001b[39m))\n\u001b[1;32m---> 28\u001b[0m \u001b[38;5;28mprint\u001b[39m(\u001b[43mcalculate_total_amount\u001b[49m\u001b[43m(\u001b[49m\u001b[38;5;241;43m3\u001b[39;49m\u001b[43m,\u001b[49m\u001b[43m \u001b[49m\u001b[43mtwo_note\u001b[49m\u001b[38;5;241;43m=\u001b[39;49m\u001b[38;5;241;43m4\u001b[39;49m\u001b[43m,\u001b[49m\u001b[43m \u001b[49m\u001b[43mfive_note\u001b[49m\u001b[38;5;241;43m=\u001b[39;49m\u001b[38;5;241;43m1\u001b[39;49m\u001b[43m)\u001b[49m)\n\u001b[0;32m     30\u001b[0m \u001b[38;5;124;03m\"\"\"\u001b[39;00m\n\u001b[0;32m     31\u001b[0m \u001b[38;5;124;03mMy answers before running:\u001b[39;00m\n\u001b[0;32m     32\u001b[0m \u001b[38;5;124;03m130\u001b[39;00m\n\u001b[1;32m   (...)\u001b[0m\n\u001b[0;32m     38\u001b[0m \u001b[38;5;124;03merror\u001b[39;00m\n\u001b[0;32m     39\u001b[0m \u001b[38;5;124;03m\"\"\"\u001b[39;00m\n",
      "\u001b[1;31mTypeError\u001b[0m: calculate_total_amount() missing 1 required positional argument: 'ten_note'"
     ]
    }
   ],
   "source": [
    "# ################################################################################\n",
    "# The following code is given to you.\n",
    "def calculate_total_amount(fifty_note, ten_note, five_note=0, two_note=0, one_coin=0):\n",
    "    \"\"\"\n",
    "    This function takes in five parameters representing the numbers of banknotes and coin of\n",
    "    different denominations received. The function returns the total amount of money.\n",
    "    Parameters:\n",
    "        - fifty_note: The number of fifty-dollar notes.\n",
    "        - ten_note: The number of ten-dollar notes.\n",
    "        - five_note: The number of five-dollar notes.\n",
    "        - two_note: The number of two-dollar notes.\n",
    "        - one_coin: The number of one-dollar coins.\n",
    "    Return:\n",
    "        The total amount in dollars of the notes and coins passed in.\n",
    "    \"\"\"\n",
    "    return fifty_note * 50 + ten_note * 10 + five_note * 5 + two_note * 2 + one_coin\n",
    "# ################################################################################\n",
    "\n",
    "\n",
    "# You can verify your answers to Q4 by printing out the values of the function calls below.\n",
    "\n",
    "print(calculate_total_amount(2, 3))\n",
    "print(calculate_total_amount(2, 3, 4))\n",
    "print(calculate_total_amount(2, 3, 4, 1))\n",
    "print(calculate_total_amount(2, 3, 4, 1, 3))\n",
    "print(calculate_total_amount(2, 3, two_note=4))\n",
    "print(calculate_total_amount(2, 3, two_note=4, five_note=1))\n",
    "print(calculate_total_amount(3, two_note=4, five_note=1))\n",
    "\n",
    "\"\"\"\n",
    "My answers before running:\n",
    "130\n",
    "150\n",
    "152\n",
    "155\n",
    "138\n",
    "143\n",
    "error\n",
    "\"\"\""
   ]
  },
  {
   "cell_type": "markdown",
   "metadata": {},
   "source": [
    "### Q5: Python Standard Libraries [ &#9733; ]\n",
    "\n",
    "#### a) Square"
   ]
  },
  {
   "cell_type": "code",
   "execution_count": 1,
   "metadata": {},
   "outputs": [
    {
     "name": "stdout",
     "output_type": "stream",
     "text": [
      "What's the size of the square (in square centimeters)? 4\n",
      "Each side of this square is 2.0 centimeters.\n"
     ]
    }
   ],
   "source": [
    "# Write your code below.\n",
    "import math\n",
    "\n",
    "area = float(input(\"What's the size of the square (in square centimeters)? \"))\n",
    "\n",
    "print(\"Each side of this square is\", area**(1/2), \"centimeters.\")"
   ]
  },
  {
   "cell_type": "markdown",
   "metadata": {},
   "source": [
    "#### b) Random number"
   ]
  },
  {
   "cell_type": "code",
   "execution_count": 18,
   "metadata": {},
   "outputs": [
    {
     "name": "stdout",
     "output_type": "stream",
     "text": [
      "Enter a positive integer: 10\n",
      "1\n"
     ]
    }
   ],
   "source": [
    "# Write your code below.\n",
    "import random\n",
    "\n",
    "num = int(input(\"Enter a positive integer: \"))\n",
    "print(random.randrange(1, num))"
   ]
  },
  {
   "cell_type": "markdown",
   "metadata": {},
   "source": [
    "### Q6\n",
    "\n",
    "Please use Notepad++ and Anaconda Prompt for this question."
   ]
  },
  {
   "cell_type": "markdown",
   "metadata": {},
   "source": [
    "### Q7: System Time [ &#9733;&#9733; ]"
   ]
  },
  {
   "cell_type": "code",
   "execution_count": 3,
   "metadata": {},
   "outputs": [
    {
     "name": "stdout",
     "output_type": "stream",
     "text": [
      "Please enter the system time (in seconds): 266460\n",
      "Based on this system time, 3 days, 2 hours, 1 minutes and 0 seconds have passed since 1 January 1970 00:00:00 UT.\n"
     ]
    }
   ],
   "source": [
    "# This line of code prompts the user for a system time.\n",
    "input_str = input('Please enter the system time (in seconds): ')\n",
    "\n",
    "################################################################################\n",
    "# Complete the code below to get the correct numbers of days, hours, minutes and seconds.\n",
    "\n",
    "num_days = 0\n",
    "num_hours = 0\n",
    "num_minutes = 0\n",
    "num_seconds = 0\n",
    "\n",
    "# Put your code below\n",
    "\n",
    "num = int(input_str)    # User input (total seconds)\n",
    "num_seconds = num % 60  # Get excess seconds by modulus (1min = 60s)\n",
    "num = num // 60         # User input (total minutes)\n",
    "num_minutes = num % 60  # Get excess minutes by modulus (1hr = 60min)\n",
    "\n",
    "num = num // 60         # User input (total hours)\n",
    "num_hours = num % 24    # Get excess hours by modulus 24 hours(1day = 24hr)\n",
    "num_days = num // 24    # Get days by dividing 24 hours (1day = 24hr)\n",
    "\n",
    "\"\"\"\n",
    "NUM_SECONDS_PER_MINUTE = 60\n",
    "NUM_SECONDS_PER_HOUR = 60 * 60\n",
    "NUM_SECONDS_PER_DAY = 60 * 60 * 24\n",
    "\n",
    "total_num_seconds = int(input_str)\n",
    "\n",
    "num_days = total_num_seconds // NUM_SECONDS_PER_DAY # Make sure you use floor division operator\n",
    "num_seconds_left = total_num_seconds % NUM_SECONDS_PER_DAY # Make sure you use modulo operator\n",
    "\n",
    "num_hours = num_seconds_left // NUM_SECONDS_PER_HOUR\n",
    "num_seconds_left = num_seconds_left % NUM_SECONDS_PER_HOUR\n",
    "\n",
    "num_minutes = num_seconds_left // NUM_SECONDS_PER_MINUTE\n",
    "num_seconds = num_seconds_left % NUM_SECONDS_PER_MINUTE\n",
    "\"\"\"\n",
    "\n",
    "\n",
    "################################################################################\n",
    "# DO NOT MODIFY THE CODE BELOW!!!\n",
    "\n",
    "# This line of code displays the results.\n",
    "print('Based on this system time, ' + str(num_days) + ' days, ' + str(num_hours) + ' hours, ' + str(num_minutes) + ' minutes and ' + str(num_seconds) + ' seconds have passed since 1 January 1970 00:00:00 UT.') \n"
   ]
  },
  {
   "cell_type": "markdown",
   "metadata": {},
   "source": [
    "### Q8: Tax Calculator\n",
    "\n",
    "#### a) [ &#9733; ]"
   ]
  },
  {
   "cell_type": "code",
   "execution_count": 25,
   "metadata": {},
   "outputs": [
    {
     "name": "stdout",
     "output_type": "stream",
     "text": [
      "100.0\n"
     ]
    }
   ],
   "source": [
    "# ################################################################################\n",
    "# This function is for you to implement!\n",
    "def calculate_tax_1(income):\n",
    "    \"\"\"\n",
    "    This function assumes that the income is between $20,000 and $30,000.\n",
    "    \"\"\"\n",
    "    \n",
    "    # Modify the code below to return the right amount of tax.\n",
    "    charge_income = income - 20000\n",
    "    tax_rate = charge_income * 0.02\n",
    "    return tax_rate\n",
    "    \n",
    "# ################################################################################\n",
    "\n",
    "# Call the function above to test whether it works.\n",
    "print(calculate_tax_1(25000.0))\n"
   ]
  },
  {
   "cell_type": "markdown",
   "metadata": {},
   "source": [
    "#### b) [ &#9733;&#9733; ]"
   ]
  },
  {
   "cell_type": "code",
   "execution_count": 30,
   "metadata": {},
   "outputs": [
    {
     "name": "stdout",
     "output_type": "stream",
     "text": [
      "100.0\n",
      "0\n"
     ]
    }
   ],
   "source": [
    "# ################################################################################\n",
    "# This function is for you to implement!\n",
    "def calculate_tax_2(income):\n",
    "    \"\"\"\n",
    "    This function assumes that the income is between $0 and $30,000.\n",
    "    \"\"\"\n",
    "    \n",
    "    # Modify the code below to return the right amount of tax\n",
    "    tax_rate_1 = 0\n",
    "    \n",
    "    charge_income = income - 20000\n",
    "    tax_rate_2 = charge_income * 0.02\n",
    "    \n",
    "    return max(tax_rate_1, tax_rate_2)\n",
    "\n",
    "# ################################################################################\n",
    "\n",
    "# Call the function above to test whether it works.\n",
    "print(calculate_tax_2(25000.0))\n",
    "print(calculate_tax_2(10000.0))\n"
   ]
  },
  {
   "cell_type": "markdown",
   "metadata": {},
   "source": [
    "#### c) [ &#9733;&#9733;&#9733; ]"
   ]
  },
  {
   "cell_type": "code",
   "execution_count": 33,
   "metadata": {},
   "outputs": [
    {
     "name": "stdout",
     "output_type": "stream",
     "text": [
      "100.0\n",
      "0\n",
      "300.0\n"
     ]
    }
   ],
   "source": [
    "# ################################################################################\n",
    "# This function is for you to implement!\n",
    "def calculate_tax_3(income):\n",
    "    \"\"\"\n",
    "    This function assumes that the income is between $0 and $40,000.\n",
    "    \"\"\"\n",
    "    \n",
    "    tax_rate_1 = 0\n",
    "    \n",
    "    charge_income = income - 20000\n",
    "    tax_rate_2 = charge_income * 0.02\n",
    "    \n",
    "    charge_income = income - 30000\n",
    "    tax_rate_3 = charge_income * 0.035\n",
    "    \n",
    "    return max(tax_rate_1, tax_rate_2, tax_rate_2)\n",
    "\n",
    "# ################################################################################\n",
    "\n",
    "# Call the function above to test whether it works.\n",
    "print(calculate_tax_3(25000.0))\n",
    "print(calculate_tax_3(10000.0))\n",
    "print(calculate_tax_3(35000.0))\n"
   ]
  },
  {
   "cell_type": "code",
   "execution_count": 35,
   "metadata": {},
   "outputs": [
    {
     "name": "stdout",
     "output_type": "stream",
     "text": [
      "100.0\n",
      "0\n",
      "375.0\n",
      "900.0\n",
      "3925.0\n",
      "8700.0\n",
      "14850.0\n",
      "22100.0\n",
      "29725.0\n",
      "37550.0\n",
      "45650.0\n"
     ]
    }
   ],
   "source": [
    "def calculate_tax_4(income):\n",
    "    \"\"\"\n",
    "    This function assumes any amount of taxable income\n",
    "    \"\"\"\n",
    "    \n",
    "    # Modify the code below to return the right amount of tax.\n",
    "    tax_rate_1 = 0\n",
    "    \n",
    "    charge_income = income - 20000\n",
    "    tax_rate_2 = charge_income * 0.02\n",
    "    \n",
    "    charge_income = income - 30000\n",
    "    tax_rate_3 = charge_income * 0.035 + 200\n",
    "    \n",
    "    charge_income = income - 40000\n",
    "    tax_rate_4 = charge_income * 0.07 + 550\n",
    "    \n",
    "    charge_income = income - 80000\n",
    "    tax_rate_5 = charge_income * 0.115 + 3350\n",
    "    \n",
    "    charge_income = income - 120000\n",
    "    tax_rate_6 = charge_income * 0.15 + 7950\n",
    "    \n",
    "    charge_income = income - 160000\n",
    "    tax_rate_7 = charge_income * 0.18 + 13950\n",
    "    \n",
    "    charge_income = income - 200000\n",
    "    tax_rate_8 = charge_income * 0.19 + 21150\n",
    "    \n",
    "    charge_income = income - 240000\n",
    "    tax_rate_9 = charge_income * 0.195 + 28750\n",
    "    \n",
    "    charge_income = income - 280000\n",
    "    tax_rate_10 = charge_income * 0.20 + 36550\n",
    "    \n",
    "    charge_income = income - 320000\n",
    "    tax_rate_11 = charge_income * 0.22 + 44550\n",
    "    \n",
    "    return max(tax_rate_1, tax_rate_2, tax_rate_2, tax_rate_3, tax_rate_4, tax_rate_5, tax_rate_6, tax_rate_7, tax_rate_8, tax_rate_9, tax_rate_10, tax_rate_11)\n",
    "\n",
    "# ################################################################################\n",
    "\n",
    "# Call the function above to test whether it works.\n",
    "print(calculate_tax_4(25000.0))   # 100\n",
    "print(calculate_tax_4(10000.0))   # 0\n",
    "print(calculate_tax_4(35000.0))   # 375\n",
    "print(calculate_tax_4(45000.0))   # 900\n",
    "print(calculate_tax_4(85000.0))   # 3925\n",
    "print(calculate_tax_4(125000.0))  # 8700\n",
    "print(calculate_tax_4(165000.0))  # 14850\n",
    "print(calculate_tax_4(205000.0))  # 22100\n",
    "print(calculate_tax_4(245000.0))  # 29725\n",
    "print(calculate_tax_4(285000.0))  # 37550\n",
    "print(calculate_tax_4(325000.0))  # 45650\n"
   ]
  },
  {
   "cell_type": "code",
   "execution_count": null,
   "metadata": {},
   "outputs": [],
   "source": []
  }
 ],
 "metadata": {
  "kernelspec": {
   "display_name": "Python 3 (ipykernel)",
   "language": "python",
   "name": "python3"
  },
  "language_info": {
   "codemirror_mode": {
    "name": "ipython",
    "version": 3
   },
   "file_extension": ".py",
   "mimetype": "text/x-python",
   "name": "python",
   "nbconvert_exporter": "python",
   "pygments_lexer": "ipython3",
   "version": "3.9.12"
  }
 },
 "nbformat": 4,
 "nbformat_minor": 2
}
