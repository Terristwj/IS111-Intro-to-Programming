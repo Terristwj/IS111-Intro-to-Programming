{
 "cells": [
  {
   "cell_type": "markdown",
   "metadata": {},
   "source": [
    "<table class=\"table table-bordered\">\n",
    "    <tr>\n",
    "        <th style=\"text-align:center; width:35%\"><img src='https://drive.google.com/uc?export=view&id=1zIB3Nw_z8N2SJSSdd2yWQIsDS0MGPYKm' style=\"width: 300px; height: 90px; \"></th>\n",
    "        <th style=\"text-align:center;\"><h3>IS111 - Notebook 1</h3><h2>Fundamentals</h2></th>\n",
    "    </tr>\n",
    "</table>"
   ]
  },
  {
   "cell_type": "markdown",
   "metadata": {},
   "source": [
    "## Learning Outcomes\n",
    "\n",
    "At the end of this lesson, you should be able to:\n",
    "<ul>\n",
    "<li> Declare and initialise <b>variables</b>.</li>\n",
    "    <li> Know some basic data types in Python (<code>int</code>, <code>float</code>, <code>str</code>).</li>\n",
    "<li> Perform <b>type conversion</b>.</li>\n",
    "<li> Remember and apply the rules and naming conventions of variables.</li>\n",
    "<li> Use <b>print</b> to display something to the screen and use <b>input</b> to prompt the user.</li>\n",
    "<li> Use effectively the various arithmetic operators in Python, and to apply proper operator precedence and associativity laws.</li>\n",
    "<li> Understand and apply Python naming conventions for variables. </li>\n",
    "<li> Include comments in your code.</li>\n",
    "</ul>"
   ]
  },
  {
   "cell_type": "markdown",
   "metadata": {},
   "source": [
    "## I. Variables\n",
    "\n",
    "When we write computer applications, we are almost always dealing with data. \n",
    "\n",
    "For example, suppose we are building an online retail store selling mobile phones. For each phone model we are selling, we need to store its brand, specs, price, etc. so that we can display such information to online shoppers. Internally we also need to store the quantity of each model we have in stock, online transaction data such as buyers' names, email addresses, purchase dates, etc.\n",
    "\n",
    "You can see from this example that computer applications need to store data, and there are different types of data that we need to handle such as numbers, text, dates, etc. We will now learn about variables, which are used to store data and are building blocks of any computer program. One of the most powerful features of programming languages is the ability to manipulate variables.\n",
    "\n",
    "Just like what you have learned in your algebra class, a <b>variable</b> is a <b>name</b> (or symbol) that <b>refers to a value</b>. In algebra, variables refer to numbers only. In programming languages, variables can refer to numbers, text and other types of data.\n",
    "\n",
    "Variable <b>creation</b> or <b>declaration</b> happens automatically when you <b>assign</b> a value to a variable.\n",
    "\n",
    "Take a look at the following example code:"
   ]
  },
  {
   "cell_type": "code",
   "execution_count": null,
   "metadata": {},
   "outputs": [],
   "source": [
    "quantity = 2\n",
    "price = 1548.0\n",
    "model = \"Galaxy Z\"\n",
    "customer_name = \"John Tan\""
   ]
  },
  {
   "cell_type": "markdown",
   "metadata": {},
   "source": [
    "Each of the lines above is an <b>assignment statement</b>. An assignment statement binds a name, on the left-hand side of the equal sign, to a value, on the right-hand side.\n",
    "\n",
    "So the above example code creates four variables and assigns a value to each of them. The first line assigns the integer 2 to a variable named `quantity`. The second assigns the decimal number 1548.0 to a variable named `price`. The third assigns the text `\"Galaxy Z\"` to a variable named `model`. Finally the last line assigns the text `\"John Tan\"` to a variable named `customer_name`."
   ]
  },
  {
   "cell_type": "markdown",
   "metadata": {},
   "source": [
    "<img align=\"left\" src='https://drive.google.com/uc?export=view&id=0B08uY8vosNfobDBuOXVXQWVxMFE' style=\"width: 60px; height: 60px;\"><br />Let's do an exercise !"
   ]
  },
  {
   "cell_type": "markdown",
   "metadata": {},
   "source": [
    "In the cell below, create a variable called `name` and assign the value `\"Steve Jobs\"` to it. Create another variable called `age` and assign the value `24` to it. Run the cell."
   ]
  },
  {
   "cell_type": "code",
   "execution_count": 1,
   "metadata": {},
   "outputs": [],
   "source": [
    "# Write you code below\n",
    "name = \"Steve Jobs\"\n",
    "age = 24\n"
   ]
  },
  {
   "cell_type": "markdown",
   "metadata": {},
   "source": [
    "Now run the following cell to print out the values of the variables `name` and `age`. If you see an error message, that means you have not properly created your variable `name` or `age`.\n",
    "\n",
    "Note that `print()` used in the code below is a <b>function</b> that we will talk about later."
   ]
  },
  {
   "cell_type": "code",
   "execution_count": 2,
   "metadata": {},
   "outputs": [
    {
     "name": "stdout",
     "output_type": "stream",
     "text": [
      "Steve Jobs\n",
      "24\n"
     ]
    }
   ],
   "source": [
    "print(name)\n",
    "print(age)"
   ]
  },
  {
   "cell_type": "markdown",
   "metadata": {},
   "source": [
    "## II. Data Types\n",
    "\n",
    "You must have noticed from the example above that a variable can store a number or a piece of text. These are just some examples of <b>data types</b> in Python.\n",
    "\n",
    "Python has some built-in (or standard) data types. In this notebook, we will briefly introduce a few. We will gradually introduce more later on.\n",
    "\n",
    "#### Numeric Types\n",
    "\n",
    "While there are quite a few numeric types in Python, we will only introduce the following two, which are the most commonly used ones:\n",
    "\n",
    "<br/>\n",
    "\n",
    "<li><code>int</code>: This data type stores integers (i.e., whole numbers).</li>\n",
    "<li><code>float</code>: This data type stores real numbers (i.e., decimal numbers, or numbers that may have decimal points).</li>\n",
    "\n",
    "We can see that the variable `quantity` above stores an int value while the variable `price` above stores a float value.\n",
    "\n",
    "#### Sequences\n",
    "\n",
    "There are a number of sequence types in Python. We will only introduce `str` for now. We will introduce other ones gradually later.\n",
    "\n",
    "<br>\n",
    "<li><code>str</code>: This data type is used to store a piece of text, which is essentially a sequence of characters. The variables <code>model</code> and <code>customer_name</code> above are examples of string variables. Strings are usually written inside a pair of single quotes or a pair of double quotes.</li>\n",
    "\n",
    "For example,"
   ]
  },
  {
   "cell_type": "code",
   "execution_count": null,
   "metadata": {},
   "outputs": [],
   "source": [
    "string1 = 'SMU'\n",
    "string2 = \"SIS\"\n",
    "\n",
    "print(string1)\n",
    "print(string2)"
   ]
  },
  {
   "cell_type": "markdown",
   "metadata": {},
   "source": [
    "<img align=\"left\" src='https://drive.google.com/uc?export=view&id=0B08uY8vosNfoa2dncC1mOFdhSFU' style=\"width: 70px; height: 70px;\"><br/>\n",
    "Why do we have both ways to define strings?"
   ]
  },
  {
   "cell_type": "markdown",
   "metadata": {},
   "source": [
    "<ul>\n",
    "<li><b>Double quoted</b> strings can contain <b>single quotes</b> inside them.\n",
    "<li><b>Single quoted</b> strings can contain <b>double quotes</b> inside them.\n",
    "</ul>\n",
    "\n",
    "See the code below for some examples:"
   ]
  },
  {
   "cell_type": "code",
   "execution_count": null,
   "metadata": {},
   "outputs": [],
   "source": [
    "s1 = \"Today is Cindy's birthday!\"\n",
    "s2 = 'The title of the book is: \"Fun with Python!\"'\n",
    "\n",
    "print(s1)\n",
    "print(s2)"
   ]
  },
  {
   "cell_type": "markdown",
   "metadata": {},
   "source": [
    "Note that Python doesn't care whether you use single quotes or double quotes to define a string."
   ]
  },
  {
   "cell_type": "markdown",
   "metadata": {},
   "source": [
    "## III. Operators\n",
    "\n",
    "We have learned about variables and some data types. A natural question to ask is what we can do with variables, or what we can do with the different types of values stored in variables. An immediate answer is that we can perform operations on them using <b>operators</b>.\n",
    "\n",
    "Operators are special tokens that represent <b>computations</b> like addition, multiplication and division. The <b>values</b> an operator operates on are called <b>operands</b>.\n",
    "\n",
    "For example, in the expression `a + b`, `a` and `b` are called the <b>operands</b> and `+` is the <b>operator</b>.\n",
    "\n",
    "### Arithmetic Operators:\n",
    "\n",
    "The table below shows some commonly used arithmetic operators in Python:\n",
    "\n",
    "<table class=\"table table-bordered\">\n",
    "<tr>\n",
    "<th style=\"width:10%\">Operator</th>\n",
    "<th style=\"width:20%\">Operation</th>\n",
    "<th>Description</th>\n",
    "</tr>\n",
    "<tr>\n",
    "<td>+</td>\n",
    "<td>Addition</td>\n",
    "<td>Adds values of the two operands.</td>\n",
    "</tr>\n",
    "<tr>\n",
    "<td>-</td>\n",
    "<td>Subtraction</td>\n",
    "<td>Subtracts the operand on the right from the operand on the left.</td>\n",
    "</tr>\n",
    "<tr>\n",
    "<td>*</td>\n",
    "<td>Multiplication</td>\n",
    "<td>Multiplies the operand on the left by the operand on the right.</td>\n",
    "</tr>\n",
    "<tr>\n",
    "<td>/</td>\n",
    "<td>Division</td>\n",
    "<td>Divides the operand on the left by the operand on the right.</td>\n",
    "</tr>\n",
    "<tr>\n",
    "<td>%</td>\n",
    "<td>Modulo</td>\n",
    "<td>Divides the operand on the left by the operand on the right and returns the remainder.</td>\n",
    "</tr>\n",
    "<tr>\n",
    "<td>**</td>\n",
    "<td>Exponent</td>\n",
    "<td>Returns the left operand raised to the power of the right operand.</td>\n",
    "</tr>\n",
    "<tr>\n",
    "<td>//</td>\n",
    "<td>Floor Division</td>\n",
    "<td>Divides the left operand by the right operand but returns only the integer part with any fractional part truncated. For example, 3//2 gives 1 instead of 1.5.</td>\n",
    "</tr>\n",
    "</table>\n",
    "\n",
    "To see how these operators work, run the following code and observe the results:"
   ]
  },
  {
   "cell_type": "code",
   "execution_count": 3,
   "metadata": {},
   "outputs": [
    {
     "name": "stdout",
     "output_type": "stream",
     "text": [
      "8\n",
      "2\n",
      "15\n",
      "1.6666666666666667\n",
      "2\n",
      "125\n",
      "1\n"
     ]
    }
   ],
   "source": [
    "a = 3\n",
    "b = 5\n",
    "\n",
    "print(a + b)\n",
    "print(b - a)\n",
    "print(a * b)\n",
    "print(b / a)\n",
    "print(b % a)\n",
    "print(b ** a)\n",
    "print(b // a)"
   ]
  },
  {
   "cell_type": "markdown",
   "metadata": {},
   "source": [
    "We can see that `b % a` gives `2`. This is because when we divide `5` by `3`, the remainder is `2`. We also see that `b ** a` is `125`. This is because `5` raised to the power of `3`, or in other words, `5 * 5 * 5`, is `125`. Finally, we see that `b // a` gives `1`. This because when we keep only the integer part of the result of `5 / `3 and ignore the fractional part, we get `1`.\n",
    "\n",
    "Besides the arithmetic operators above, there are also many other operators in Python, which we will introduce gradually."
   ]
  },
  {
   "cell_type": "markdown",
   "metadata": {},
   "source": [
    "It is worth noting that when you mix `int` type and `float` type of values in an arithmetic expression, the result will be a `float` type of value.\n",
    "\n",
    "For example, for the following code, do you expect the output to be `1.0` or `1`? You can run the code to check the output."
   ]
  },
  {
   "cell_type": "code",
   "execution_count": 4,
   "metadata": {},
   "outputs": [
    {
     "name": "stdout",
     "output_type": "stream",
     "text": [
      "1.0\n"
     ]
    }
   ],
   "source": [
    "a = 0.5\n",
    "b = 2\n",
    "print(a * b)"
   ]
  },
  {
   "cell_type": "markdown",
   "metadata": {},
   "source": [
    "You will see that `0.5 * 2` gives `1.0` instead of `1`. Similarly, run the code below and check the types of the output values:"
   ]
  },
  {
   "cell_type": "code",
   "execution_count": 5,
   "metadata": {},
   "outputs": [
    {
     "name": "stdout",
     "output_type": "stream",
     "text": [
      "3.0\n",
      "1.0\n",
      "2.0\n",
      "3.0\n",
      "4.0\n"
     ]
    }
   ],
   "source": [
    "print(2.0 + 1)\n",
    "print(2.0 / 2)\n",
    "print(11.0 % 3)\n",
    "print(11 // 3.0)\n",
    "print(2 ** 2.0)"
   ]
  },
  {
   "cell_type": "markdown",
   "metadata": {},
   "source": [
    "Another thing to note is that for division, no matter what the types of the operands are, the result is always represented as a `float`. Run the code below and observe the output:"
   ]
  },
  {
   "cell_type": "code",
   "execution_count": 6,
   "metadata": {},
   "outputs": [
    {
     "name": "stdout",
     "output_type": "stream",
     "text": [
      "2.0\n"
     ]
    }
   ],
   "source": [
    "print(4 / 2)"
   ]
  },
  {
   "cell_type": "markdown",
   "metadata": {},
   "source": [
    "<img align=\"left\" src='https://drive.google.com/uc?export=view&id=0B08uY8vosNfobDBuOXVXQWVxMFE' style=\"width: 60px; height: 60px;\"><br />Let's do an exercise !"
   ]
  },
  {
   "cell_type": "markdown",
   "metadata": {},
   "source": [
    "Can you find out the values of the following mathematical expressions using Python?\n",
    "\n",
    "$4.57 \\times 3.29 + 3.5894$\n",
    "\n",
    "$\\frac{9.5489}{2.46}$\n",
    "\n",
    "$3^{20}$\n",
    "\n",
    "Use the code cell below to write the expressions above in Python and run your code."
   ]
  },
  {
   "cell_type": "code",
   "execution_count": 7,
   "metadata": {},
   "outputs": [
    {
     "name": "stdout",
     "output_type": "stream",
     "text": [
      "18.6247\n",
      "3.881666666666667\n",
      "3486784401\n"
     ]
    }
   ],
   "source": [
    "# Write your code below:\n",
    "print(4.57*3.29+3.5894)\n",
    "print(9.5489/2.46)\n",
    "print(3**20)"
   ]
  },
  {
   "cell_type": "markdown",
   "metadata": {},
   "source": [
    "You should get the following values:\n",
    "\n",
    "18.6247\n",
    "\n",
    "3.881666666666667\n",
    "\n",
    "3486784401"
   ]
  },
  {
   "cell_type": "markdown",
   "metadata": {},
   "source": [
    "### String Concatenation\n",
    "\n",
    "The operators above are used with numbers.\n",
    "\n",
    "There is a special usage of the operator `+` when it is used with strings. We can use `+` to <b>concatenate</b> two strings, meaning to combine them into a single string, as shown below:"
   ]
  },
  {
   "cell_type": "code",
   "execution_count": 8,
   "metadata": {},
   "outputs": [
    {
     "name": "stdout",
     "output_type": "stream",
     "text": [
      "Singapore Management University\n"
     ]
    }
   ],
   "source": [
    "string1 = \"Singapore \"\n",
    "string2 = \"Management \"\n",
    "string3 = \"University\"\n",
    "name = string1 + string2 + string3\n",
    "print(name)"
   ]
  },
  {
   "cell_type": "markdown",
   "metadata": {},
   "source": [
    "### Operator Precedence\n",
    "\n",
    "When more than one operator appears in an expression, the <b>order</b> of evaluation depends on the <b>rules of precedence</b>.\n",
    "\n",
    "Python follows the <b>same precedence rules</b> for its mathematical operators that <b>mathematics</b> does.\n",
    "\n",
    "The acronym <b>PEMDAS</b> is a useful way to remember the order of operations:\n",
    "<ol>\n",
    "<li><b>P</b>arentheses\n",
    "<li><b>E</b>xponentiation\n",
    "<li><b>M</b>ultiplication, <b>D</b>ivision\n",
    "<li><b>A</b>ddition and <b>S</b>ubstraction\n",
    "</ol>\n",
    "\n",
    "The table below shows the precedence of the operators we have learned so far:\n",
    "\n",
    "<table align=\"left\" class=\"table table-bordered\">\n",
    "<tr>\n",
    "<th style=\"text-align:center; width:25%\">Operator</th>\n",
    "<th style=\"text-align:center; width:35%\">Description</th>\n",
    "</tr>\n",
    "<tr>\n",
    "    <td style=\"text-align:center; vertical-align:middle;\"><code>**</code></td>\n",
    "<td>Exponent</td>\n",
    "</tr>\n",
    "<tr>\n",
    "    <td style=\"text-align:center; vertical-align:middle;\"><code>*</code>, <code>/</code>, <code>%</code>, <code>//</code></td>\n",
    "<td>Multiplication, division, modulo and floor division</td>\n",
    "</tr>\n",
    "<tr>\n",
    "    <td style=\"text-align:center; vertical-align:middle;\"><code>+</code>, <code>-</code></td>\n",
    "<td>Addition and subtraction</td>\n",
    "</tr>\n",
    "</table>\n",
    "\n",
    "<br/>\n",
    "\n",
    "Note that when more operators are introduced, we will add more rows to this table.\n",
    "\n",
    "### Operator Associativity\n",
    "\n",
    "When an expression contains two or more operators that have the same precedence, we determine the order of operations based on associativity. For most operators, associativity is from left to right. \n",
    "\n",
    "For example, consider the following expression:\n",
    "\n",
    "`5 - 4 + 2`\n",
    "\n",
    "Because subtraction (`-`) and addition (`+`) have the same precedence, the order of operations is from left to right:\n",
    "\n",
    "`((5 - 4) + 2)`\n",
    "\n",
    "However, the exponent operator (`**`) has right-to-left associativity.\n",
    "\n",
    "For example, run the following Python code:"
   ]
  },
  {
   "cell_type": "code",
   "execution_count": 9,
   "metadata": {},
   "outputs": [
    {
     "name": "stdout",
     "output_type": "stream",
     "text": [
      "512\n"
     ]
    }
   ],
   "source": [
    "print(2 ** 3 ** 2)"
   ]
  },
  {
   "cell_type": "markdown",
   "metadata": {},
   "source": [
    "You can see that we get 512, which is $2^{3^2}$, not $(2^3)^2$. So\n",
    "\n",
    "`2 ** 3 ** 2`\n",
    "\n",
    "should be computed as\n",
    "\n",
    "`(2 ** (3 ** 2))`\n",
    "\n",
    "In other words, the associativity is from right to left.\n",
    "\n",
    "To avoid any confusion, it's always a good idea to explicitly use parentheses when you have any doubt. So in the example above, it is better to explicitly write `(2 ** (3 ** 2))` instead of `2 ** 3 ** 2` in your code to avoid any confusion you may have."
   ]
  },
  {
   "cell_type": "markdown",
   "metadata": {},
   "source": [
    "## IV. Built-in Functions\n",
    "\n",
    "In the example code above, you may have noticed that we used `print(x)` to display the value of `x`. Here `print()` is a Python <b>built-in function</b>.\n",
    "\n",
    "Generally speaking, a <b>function</b> is a block of code that performs a specific task and can be re-used. We will have a separate notebook on functions, including how we define them and use them. In this notebook, we only briefly talk about built-in functions.\n",
    "\n",
    "Built-in functions are ready-to-use functions defined by Python. You do not need to remember all of them but you should be familiar with the frequently used ones.\n",
    "\n",
    "### <code>print()</code>\n",
    "\n",
    "One of such frequently used built-in functions is `print()`. Take a look at the code below for some example code using `print()`:"
   ]
  },
  {
   "cell_type": "code",
   "execution_count": 10,
   "metadata": {},
   "outputs": [
    {
     "name": "stdout",
     "output_type": "stream",
     "text": [
      "1.0\n",
      "0.9\n",
      "2.9\n",
      "0.9 2.0\n",
      "0.9 2.0 SMU\n"
     ]
    }
   ],
   "source": [
    "print(1.0)\n",
    "\n",
    "x = 0.9\n",
    "y = 2.0\n",
    "print(x)\n",
    "print(x + y)\n",
    "print(x, y)\n",
    "\n",
    "s = \"SMU\"\n",
    "print(x, y, s)"
   ]
  },
  {
   "cell_type": "markdown",
   "metadata": {},
   "source": [
    "We can see that we can use `print()` to directly print out a value (such as `1.0`), to print out the value of a variable (such as `x`), to print out the value of an expression (such as `x + y`), or to print out the values of several variables or expressions (separated by commas).\n",
    "\n",
    "Using a function is also called <b>calling</b> a function.\n",
    "\n",
    "### <code>input()</code>\n",
    "\n",
    "There is hardly any program without any user input. In most cases the input comes from the keyboard. \n",
    "\n",
    "For this purpose, Python provides the built-in function `input()`. When the `input()` function is called, the program pauses until the user has entered some input followed by hidding the return key on the keyboard. Usually, when calling the `input()` function, we include a <b>prompt string</b>, which will be printed on the screen to prompt the user.\n",
    "\n",
    "Let's have a look at the following example. Run the cell below to observe what happens."
   ]
  },
  {
   "cell_type": "code",
   "execution_count": 11,
   "metadata": {},
   "outputs": [
    {
     "name": "stdout",
     "output_type": "stream",
     "text": [
      "What's your name? ok\n",
      "Your age? 88\n",
      "\n",
      "Hello, ok\n",
      "You are 88 years old.\n"
     ]
    }
   ],
   "source": [
    "name = input(\"What's your name? \")\n",
    "age = input(\"Your age? \")\n",
    "\n",
    "print()\n",
    "print(\"Hello,\", name)\n",
    "print(\"You are\", age, \"years old.\")"
   ]
  },
  {
   "cell_type": "markdown",
   "metadata": {},
   "source": [
    "You should see that the prompt message `\"What's your name?\"` is displayed on the screen followed by a text box for you to enter something. After you enter your name and hit the return key, you will see the next prompt message `\"Your age?\"` displayed on the screen followed by a text box.\n",
    "\n",
    "You can also see that after you enter your name and age, the information you have entered will be reflected in the messages printed out. This is because the text you have entered is <b>returned</b> by the `input()` function and assigned to the variable `name` or the variable `age`.\n",
    "\n",
    "Note that the input from a user is always captured as a string. So in the example above, the variable age stores a `str` type of value. This can be verified by the following code:"
   ]
  },
  {
   "cell_type": "code",
   "execution_count": 12,
   "metadata": {},
   "outputs": [
    {
     "ename": "TypeError",
     "evalue": "can only concatenate str (not \"int\") to str",
     "output_type": "error",
     "traceback": [
      "\u001b[1;31m---------------------------------------------------------------------------\u001b[0m",
      "\u001b[1;31mTypeError\u001b[0m                                 Traceback (most recent call last)",
      "Input \u001b[1;32mIn [12]\u001b[0m, in \u001b[0;36m<cell line: 1>\u001b[1;34m()\u001b[0m\n\u001b[1;32m----> 1\u001b[0m \u001b[38;5;28mprint\u001b[39m(\u001b[43mage\u001b[49m\u001b[43m \u001b[49m\u001b[38;5;241;43m+\u001b[39;49m\u001b[43m \u001b[49m\u001b[38;5;241;43m1\u001b[39;49m)\n",
      "\u001b[1;31mTypeError\u001b[0m: can only concatenate str (not \"int\") to str"
     ]
    }
   ],
   "source": [
    "print(age + 1)"
   ]
  },
  {
   "cell_type": "markdown",
   "metadata": {},
   "source": [
    "When you execute the code above, you will get a `TypeError`. This is because `age` is a string, which cannot be added to a number.\n",
    "\n",
    "To force `age` to become a number, you can use another built-in function called `int()` to perform type conversion, as shown below."
   ]
  },
  {
   "cell_type": "code",
   "execution_count": 13,
   "metadata": {},
   "outputs": [
    {
     "name": "stdout",
     "output_type": "stream",
     "text": [
      "89\n"
     ]
    }
   ],
   "source": [
    "print(int(age) + 1)"
   ]
  },
  {
   "cell_type": "markdown",
   "metadata": {},
   "source": [
    "We can see that `int(age)` converts the value of `age` from a `str` to an `int`. It can then be added with `1`. Note that `int(age)` creates a new int value but it does not directly change `age`. The `age` variable remains to be a `str`."
   ]
  },
  {
   "cell_type": "markdown",
   "metadata": {},
   "source": [
    "### <code>type()</code>\n",
    "\n",
    "Another useful built-in function is `type()`, which allows you to check the type of a variable or expression. See the example below:"
   ]
  },
  {
   "cell_type": "code",
   "execution_count": null,
   "metadata": {},
   "outputs": [],
   "source": [
    "print(type(1))\n",
    "print(type(2.0))\n",
    "print(type(\"abc\"))"
   ]
  },
  {
   "cell_type": "markdown",
   "metadata": {},
   "source": [
    "Let's use `type()` to check the data type of the variable `age` above:"
   ]
  },
  {
   "cell_type": "code",
   "execution_count": null,
   "metadata": {},
   "outputs": [],
   "source": [
    "print(type(age))"
   ]
  },
  {
   "cell_type": "markdown",
   "metadata": {
    "collapsed": true
   },
   "source": [
    "You should see that the type of `age` is `str`."
   ]
  },
  {
   "cell_type": "markdown",
   "metadata": {},
   "source": [
    "### <code>int()</code>, <code>float()</code> and <code>str()</code>"
   ]
  },
  {
   "cell_type": "markdown",
   "metadata": {},
   "source": [
    "You have seen that we can use the built-in function `int()` to convert a non-`int` type of value into an `int`. There is also a built-in function `float()` that converts a non-`float` type of value to a `float`."
   ]
  },
  {
   "cell_type": "code",
   "execution_count": null,
   "metadata": {},
   "outputs": [],
   "source": [
    "a = \"3.14\"\n",
    "b = float(a)\n",
    "print(a, type(a))\n",
    "print(b, type(b))"
   ]
  },
  {
   "cell_type": "markdown",
   "metadata": {},
   "source": [
    "If you run the cell above, you will see that `a` is a `str` while `b` is a `float`.\n",
    "\n",
    "On the other hand, the built-in function `str()` can convert a non-string value into a string."
   ]
  },
  {
   "cell_type": "code",
   "execution_count": null,
   "metadata": {},
   "outputs": [],
   "source": [
    "a = 99.99\n",
    "b = str(a)\n",
    "\n",
    "print(a, type(a))\n",
    "print(b, type(b))"
   ]
  },
  {
   "cell_type": "markdown",
   "metadata": {},
   "source": [
    "When you try to convert a `float` type of value to an `int`, you will get the integral part of the number, as shown in the example below:"
   ]
  },
  {
   "cell_type": "code",
   "execution_count": null,
   "metadata": {},
   "outputs": [],
   "source": [
    "a = 9.8\n",
    "b = int(a)\n",
    "print(b, type(b))"
   ]
  },
  {
   "cell_type": "markdown",
   "metadata": {},
   "source": [
    "You may be wondering what other built-in functions there are in Python. While it is not necessary for you to memorize all the built-in functions of Python, you may want to take a look at them at https://docs.python.org/3/library/functions.html."
   ]
  },
  {
   "cell_type": "markdown",
   "metadata": {},
   "source": [
    "<img align=\"left\" src='https://drive.google.com/uc?export=view&id=0B08uY8vosNfobDBuOXVXQWVxMFE' style=\"width: 60px; height: 60px;\"><br />Let's do an exercise !"
   ]
  },
  {
   "cell_type": "markdown",
   "metadata": {},
   "source": [
    "In the cell below, can you write code that prompts the user for his/her given name and surname separately, and then display his/her full name? Subsequently, can you prompt the user for the year he/she was born, and then compute and display his/her age?"
   ]
  },
  {
   "cell_type": "code",
   "execution_count": 14,
   "metadata": {},
   "outputs": [
    {
     "name": "stdout",
     "output_type": "stream",
     "text": [
      "I want your name: apple\n",
      "Now your surname: soup\n",
      "apple soup\n",
      "Give me your year born: 2000\n",
      "22\n"
     ]
    }
   ],
   "source": [
    "# Write your code below:\n",
    "from datetime import date\n",
    "\n",
    "name = input(\"I want your name: \")\n",
    "surname = input(\"Now your surname: \")\n",
    "print(name, surname)\n",
    "\n",
    "born_year = int(input(\"Give me your year born: \"))\n",
    "print(date.today().year - born_year)"
   ]
  },
  {
   "cell_type": "markdown",
   "metadata": {},
   "source": [
    "## V. Comments\n",
    "\n",
    "Almost all programming languages allow you to add <b>comments</b> to your code. Comments are not executed by the computer. They are purely for humans to read. They are added to provide explanations of the code and improve the readability of the code.\n",
    "\n",
    "In Python, a line that starts with a `#` symbol is a comment. Run the cell below to observe what happens:"
   ]
  },
  {
   "cell_type": "code",
   "execution_count": 15,
   "metadata": {},
   "outputs": [
    {
     "name": "stdout",
     "output_type": "stream",
     "text": [
      "My height:  1.75\n"
     ]
    },
    {
     "ename": "NameError",
     "evalue": "name 'my_weight' is not defined",
     "output_type": "error",
     "traceback": [
      "\u001b[1;31m---------------------------------------------------------------------------\u001b[0m",
      "\u001b[1;31mNameError\u001b[0m                                 Traceback (most recent call last)",
      "Input \u001b[1;32mIn [15]\u001b[0m, in \u001b[0;36m<cell line: 8>\u001b[1;34m()\u001b[0m\n\u001b[0;32m      4\u001b[0m \u001b[38;5;66;03m# This line is a comment. The following line is also a comment.\u001b[39;00m\n\u001b[0;32m      5\u001b[0m \u001b[38;5;66;03m# my_weight = 60.0\u001b[39;00m\n\u001b[0;32m      7\u001b[0m \u001b[38;5;28mprint\u001b[39m(\u001b[38;5;124m\"\u001b[39m\u001b[38;5;124mMy height: \u001b[39m\u001b[38;5;124m\"\u001b[39m, my_height)\n\u001b[1;32m----> 8\u001b[0m \u001b[38;5;28mprint\u001b[39m(\u001b[38;5;124m\"\u001b[39m\u001b[38;5;124mMy weight: \u001b[39m\u001b[38;5;124m\"\u001b[39m, \u001b[43mmy_weight\u001b[49m)\n",
      "\u001b[1;31mNameError\u001b[0m: name 'my_weight' is not defined"
     ]
    }
   ],
   "source": [
    "# This line is a comment. The following line is code.\n",
    "my_height = 1.75\n",
    "\n",
    "# This line is a comment. The following line is also a comment.\n",
    "# my_weight = 60.0\n",
    "\n",
    "print(\"My height: \", my_height)\n",
    "print(\"My weight: \", my_weight)"
   ]
  },
  {
   "cell_type": "markdown",
   "metadata": {},
   "source": [
    "You can see that although `my_height` could be displayed, the computer could not find the variable `my_weight` and therefore an error occurs. This is because the declaration of `my_weight` is in a comment, which is ignored by the computer."
   ]
  },
  {
   "cell_type": "markdown",
   "metadata": {},
   "source": [
    "## VI. Naming Rules and Conventions\n",
    "\n",
    "We have played with variables a lot. You may have noticed that so far all the variable names we use are in lowercase, and if there are multiple words in a variable name, they are separated by an underscore. \n",
    "\n",
    "There are indeed rules you need to follow to name a variable. \n",
    "\n",
    "<ul>\n",
    "    <li>Python keywords cannot be used as variable names. You can find the list of Python keywords in the table below.</li>\n",
    "    <li>A variable name cannot contain any space.</li>\n",
    "    <li>The first character of a variable name must be a letter or an underscore character (i.e., <code>_</code>), and the remaining characters must be a letter, a digit, or an underscore character.</li>\n",
    "</ul>\n",
    "\n",
    "| Keywords | | | | | | | | | |\n",
    "| :---: | :---: | :---: | :---: | :---: | :---: | :---: | :---: | :---: | :---: |\n",
    "| False | class | finally | is | return | None | continue | for | lambda | try |\n",
    "| True | def | from | nonlocal | while | and | del | global | not | with |\n",
    "| as | elif | if | or | yield | assert | else | import | pass | break | \n",
    "| except | in  | raise | | | | | | | |\n",
    "\n",
    "Also note that Python is case-sensitive. `SMU` and `smu` are treated as two different names.\n",
    "\n",
    "Besides the rules above, we generally should also follow some naming conventions.\n",
    "\n",
    "<ul>\n",
    "    <li>A variable name should be meaningful and represent what it stores. Names such as <code>score</code>, <code>age</code> and <code>price</code> are good but names such as <code>s</code>, <code>a</code> and <code>p</code> are not good. Usually variable names are nouns.</li>\n",
    "    <li>Use lowercase letters to name variables. If a variable name contains multiple words, use underscore characters to join the words. E.g., <code>home_address</code>, <code>first_name</code>, <code>conversion_rate</code>.</li>\n",
    "</ul>"
   ]
  },
  {
   "cell_type": "code",
   "execution_count": null,
   "metadata": {},
   "outputs": [],
   "source": []
  }
 ],
 "metadata": {
  "kernelspec": {
   "display_name": "Python 3 (ipykernel)",
   "language": "python",
   "name": "python3"
  },
  "language_info": {
   "codemirror_mode": {
    "name": "ipython",
    "version": 3
   },
   "file_extension": ".py",
   "mimetype": "text/x-python",
   "name": "python",
   "nbconvert_exporter": "python",
   "pygments_lexer": "ipython3",
   "version": "3.9.12"
  }
 },
 "nbformat": 4,
 "nbformat_minor": 2
}
