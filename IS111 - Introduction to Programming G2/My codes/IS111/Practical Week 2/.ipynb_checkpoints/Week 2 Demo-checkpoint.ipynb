{
 "cells": [
  {
   "cell_type": "markdown",
   "id": "ab1d06b8",
   "metadata": {},
   "source": [
    "<h3>Variable naming rules</h3>"
   ]
  },
  {
   "cell_type": "markdown",
   "id": "10cd6a79",
   "metadata": {},
   "source": [
    "<ol>\n",
    "  <li>The convention to use snake_casing.</li>\n",
    "  <li>CONSTANTS must be all caps.</li>\n",
    "  <li>Variable names can either start with numbers, words, or _.</li>\n",
    "</ol>"
   ]
  },
  {
   "cell_type": "markdown",
   "id": "80b305af",
   "metadata": {},
   "source": [
    "<h3>Comments</h3>"
   ]
  },
  {
   "cell_type": "code",
   "execution_count": 1,
   "id": "018526ce",
   "metadata": {},
   "outputs": [],
   "source": [
    "# To explain the code"
   ]
  },
  {
   "cell_type": "markdown",
   "id": "507b2ac2",
   "metadata": {},
   "source": [
    "<h3>Function definition</h3>"
   ]
  },
  {
   "cell_type": "code",
   "execution_count": 2,
   "id": "f93d042e",
   "metadata": {},
   "outputs": [],
   "source": [
    "def do_something():\n",
    "    print(3)\n",
    "    print(\"abc\")\n",
    "    \n",
    "def do_something_else():\n",
    "    print(\"xyz\")\n",
    "    print(-3)"
   ]
  },
  {
   "cell_type": "markdown",
   "id": "e1e15675",
   "metadata": {},
   "source": [
    "<h3>Function Call</h3>"
   ]
  },
  {
   "cell_type": "code",
   "execution_count": 3,
   "id": "8bb80745",
   "metadata": {},
   "outputs": [
    {
     "name": "stdout",
     "output_type": "stream",
     "text": [
      "3\n",
      "abc\n",
      "xyz\n",
      "-3\n"
     ]
    }
   ],
   "source": [
    "do_something()\n",
    "do_something_else()"
   ]
  },
  {
   "cell_type": "code",
   "execution_count": null,
   "id": "397cc0c0",
   "metadata": {},
   "outputs": [],
   "source": []
  }
 ],
 "metadata": {
  "kernelspec": {
   "display_name": "Python 3 (ipykernel)",
   "language": "python",
   "name": "python3"
  },
  "language_info": {
   "codemirror_mode": {
    "name": "ipython",
    "version": 3
   },
   "file_extension": ".py",
   "mimetype": "text/x-python",
   "name": "python",
   "nbconvert_exporter": "python",
   "pygments_lexer": "ipython3",
   "version": "3.9.12"
  }
 },
 "nbformat": 4,
 "nbformat_minor": 5
}
