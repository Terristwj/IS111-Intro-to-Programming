{
 "cells": [
  {
   "cell_type": "markdown",
   "id": "dfe540a9",
   "metadata": {},
   "source": [
    "In Python, a string can be “multiplied by” an integer, which gives a new string that repeats the original string multiple times. Try the following code to understand how this works:"
   ]
  },
  {
   "cell_type": "code",
   "execution_count": null,
   "id": "35e4cda6",
   "metadata": {},
   "outputs": [],
   "source": [
    "print('abc' * 5)\n",
    "print('%' * 10)\n",
    "print('a' * 0)\n",
    "print('b' * (-2))"
   ]
  },
  {
   "cell_type": "markdown",
   "id": "ac5304f7",
   "metadata": {},
   "source": [
    "'\\n' is a single character that represents a line break. When you print '\\n', it doesn’t display anything to the screen but moves the cursor to the next line. Try the following code to understand how it works:"
   ]
  },
  {
   "cell_type": "code",
   "execution_count": null,
   "id": "01227b4e",
   "metadata": {},
   "outputs": [],
   "source": [
    "print('12345\\n12345')"
   ]
  },
  {
   "cell_type": "markdown",
   "id": "06451e6d",
   "metadata": {},
   "source": [
    "<h2>Q2 [***] Square</h2>"
   ]
  },
  {
   "cell_type": "code",
   "execution_count": 7,
   "id": "a7d06787",
   "metadata": {
    "scrolled": true
   },
   "outputs": [
    {
     "name": "stdout",
     "output_type": "stream",
     "text": [
      "1111111111\n",
      "1        1\n",
      "1        1\n",
      "1        1\n",
      "1        1\n",
      "1        1\n",
      "1        1\n",
      "1        1\n",
      "1        1\n",
      "1111111111\n"
     ]
    }
   ],
   "source": [
    "# Symbol is always a string, size is always >=1\n",
    "def print_square(symbol, size):\n",
    "    str_conc_1 = symbol * size\n",
    "    str_conc_2 = symbol + \" \" * (size-2) + symbol\n",
    "    print(str_conc_1)\n",
    "    \n",
    "    index = 0\n",
    "    while index < size-2:\n",
    "        print(str_conc_2)\n",
    "        index += 1\n",
    "    \n",
    "    if size != 1:\n",
    "        print(str_conc_1)\n",
    "\n",
    "print_square(\"1\", 10)"
   ]
  },
  {
   "cell_type": "code",
   "execution_count": null,
   "id": "531dad65",
   "metadata": {},
   "outputs": [],
   "source": []
  }
 ],
 "metadata": {
  "kernelspec": {
   "display_name": "Python 3 (ipykernel)",
   "language": "python",
   "name": "python3"
  },
  "language_info": {
   "codemirror_mode": {
    "name": "ipython",
    "version": 3
   },
   "file_extension": ".py",
   "mimetype": "text/x-python",
   "name": "python",
   "nbconvert_exporter": "python",
   "pygments_lexer": "ipython3",
   "version": "3.9.12"
  }
 },
 "nbformat": 4,
 "nbformat_minor": 5
}
