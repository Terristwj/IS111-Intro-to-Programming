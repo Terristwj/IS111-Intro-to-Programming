{
 "cells": [
  {
   "cell_type": "markdown",
   "id": "86cc93f4",
   "metadata": {},
   "source": [
    "<h3>Variable naming rules</h3>"
   ]
  },
  {
   "cell_type": "markdown",
   "id": "e339d31a",
   "metadata": {},
   "source": [
    "<ol>\n",
    "  <li>The convention to use snake_casing.</li>\n",
    "  <li>CONSTANTS must be all caps.</li>\n",
    "  <li>Variable names can either start with numbers, words, or _.</li>\n",
    "</ol>"
   ]
  },
  {
   "cell_type": "markdown",
   "id": "faff667f",
   "metadata": {},
   "source": [
    "<h3>Comments</h3>"
   ]
  },
  {
   "cell_type": "code",
   "execution_count": 1,
   "id": "15e2b97c",
   "metadata": {},
   "outputs": [],
   "source": [
    "# To explain the code"
   ]
  },
  {
   "cell_type": "markdown",
   "id": "a9bc5f48",
   "metadata": {},
   "source": [
    "<h3>Function definition</h3>"
   ]
  },
  {
   "cell_type": "code",
   "execution_count": 2,
   "id": "d925c8e9",
   "metadata": {},
   "outputs": [],
   "source": [
    "def do_something():\n",
    "    print(3)\n",
    "    print(\"abc\")\n",
    "    \n",
    "def do_something_else():\n",
    "    print(\"xyz\")\n",
    "    print(-3)"
   ]
  },
  {
   "cell_type": "markdown",
   "id": "e6182750",
   "metadata": {},
   "source": [
    "<h3>Function call</h3>"
   ]
  },
  {
   "cell_type": "code",
   "execution_count": 3,
   "id": "066881a8",
   "metadata": {},
   "outputs": [
    {
     "name": "stdout",
     "output_type": "stream",
     "text": [
      "3\n",
      "abc\n",
      "xyz\n",
      "-3\n"
     ]
    }
   ],
   "source": [
    "do_something()\n",
    "do_something_else()"
   ]
  },
  {
   "cell_type": "markdown",
   "id": "4c9cb655",
   "metadata": {},
   "source": [
    "<h3>Return statement</h3>"
   ]
  },
  {
   "cell_type": "code",
   "execution_count": 6,
   "id": "b1b93293",
   "metadata": {},
   "outputs": [
    {
     "name": "stdout",
     "output_type": "stream",
     "text": [
      "John Doe\n"
     ]
    }
   ],
   "source": [
    "def get_something():\n",
    "    name = \"John Doe\"\n",
    "    return name\n",
    "\n",
    "my_name = return_something()\n",
    "print(my_name)"
   ]
  },
  {
   "cell_type": "markdown",
   "id": "0ea46797",
   "metadata": {},
   "source": [
    "<h3>Flow of execution and scope of variables</h3>"
   ]
  },
  {
   "cell_type": "code",
   "execution_count": 1,
   "id": "c626a8bb",
   "metadata": {},
   "outputs": [
    {
     "name": "stdout",
     "output_type": "stream",
     "text": [
      "5 2 12\n"
     ]
    }
   ],
   "source": [
    "def add_numbers(a, b):\n",
    "    a += 1\n",
    "    b += 4\n",
    "    return a + b\n",
    "\n",
    "a = 5\n",
    "b = 2\n",
    "c = add_numbers(a, b)\n",
    "print(a, b, c)\n",
    "\n",
    "# 1. Compilers read code from up to down\n",
    "# 2. Variables will remain in the scope of where they were initialized"
   ]
  },
  {
   "cell_type": "code",
   "execution_count": null,
   "id": "71858b74",
   "metadata": {},
   "outputs": [],
   "source": []
  }
 ],
 "metadata": {
  "kernelspec": {
   "display_name": "Python 3 (ipykernel)",
   "language": "python",
   "name": "python3"
  },
  "language_info": {
   "codemirror_mode": {
    "name": "ipython",
    "version": 3
   },
   "file_extension": ".py",
   "mimetype": "text/x-python",
   "name": "python",
   "nbconvert_exporter": "python",
   "pygments_lexer": "ipython3",
   "version": "3.9.12"
  }
 },
 "nbformat": 4,
 "nbformat_minor": 5
}
