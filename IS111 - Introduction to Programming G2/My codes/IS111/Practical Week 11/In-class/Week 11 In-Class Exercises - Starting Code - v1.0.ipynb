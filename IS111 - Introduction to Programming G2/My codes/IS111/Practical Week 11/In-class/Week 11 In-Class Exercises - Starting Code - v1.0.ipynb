{
 "cells": [
  {
   "cell_type": "markdown",
   "metadata": {},
   "source": [
    "<table class=\"table table-bordered\">\n",
    "    <tr>\n",
    "        <th style=\"text-align:center; width:35%\"><img src='https://drive.google.com/uc?export=view&id=1zIB3Nw_z8N2SJSSdd2yWQIsDS0MGPYKm' style=\"width: 300px; height: 90px; \"></th>\n",
    "        <th style=\"text-align:center;\"><h3>IS111 - In-Class Exercises</h3><h3>Week 11</h3></th>\n",
    "    </tr>\n",
    "</table>"
   ]
  },
  {
   "cell_type": "markdown",
   "metadata": {},
   "source": [
    "### Q1:  [ &bigstar; ]  Looking up a Value inside a Dictionary"
   ]
  },
  {
   "cell_type": "code",
   "execution_count": 4,
   "metadata": {},
   "outputs": [
    {
     "name": "stdout",
     "output_type": "stream",
     "text": [
      "Do you want to search for the author of a book? [Y/N]Y\n",
      "Please enter a book title:Animal Farm and 1984\n",
      "The author of the book is George Orwell\n",
      "\n",
      "Do you want to continue? [Y/N]Y\n",
      "Please enter a book title:Da Vinci\n",
      "Not found!\n",
      "\n",
      "Do you want to continue? [Y/N]Y\n",
      "Please enter a book title:The Da Vinci Code\n",
      "The author of the book is Dan Brown\n",
      "\n",
      "Do you want to continue? [Y/N]N\n",
      "Good-bye!\n"
     ]
    }
   ],
   "source": [
    "# This dictionary is given.\n",
    "\n",
    "book_author_dict = {\"Harry Potter and the Sorcerer's Stone\":'J.K. Rowling', \n",
    "               \"Turtles All the Way Down\":'John Green',\n",
    "               \"Animal Farm and 1984\":'George Orwell',\n",
    "               \"The Da Vinci Code\":'Dan Brown',\n",
    "               \"Harry Potter and the Goblet of Fire\":'J.K. Rowling',\n",
    "               \"Origin\":'Dan Brown'}\n",
    "\n",
    "#--------------------------------------------------------------------------\n",
    "# Avoid using for loop, even tho it is correct answer\n",
    "\n",
    "\n",
    "# Put your code here\n",
    "to_search = input(\"Do you want to search for the author of a book? [Y/N]\")\n",
    "while(to_search == \"Y\"):\n",
    "    title = input(\"Please enter a book title:\")\n",
    "    if title in book_author_dict:\n",
    "        print(\"The author of the book is \" + book_author_dict[title])\n",
    "    else:\n",
    "        print(\"Not found!\")\n",
    "        \n",
    "    print()\n",
    "    to_search = input(\"Do you want to continue? [Y/N]\")\n",
    "    \n",
    "print(\"Good-bye!\")"
   ]
  },
  {
   "cell_type": "markdown",
   "metadata": {
    "collapsed": true
   },
   "source": [
    "### Q2"
   ]
  },
  {
   "cell_type": "markdown",
   "metadata": {
    "collapsed": true
   },
   "source": [
    "#### Part (a) [ &bigstar; ] - Displaying content of Dictionary"
   ]
  },
  {
   "cell_type": "code",
   "execution_count": 12,
   "metadata": {},
   "outputs": [],
   "source": [
    "def display_all_gpas(gpa_dict):\n",
    "    # Add code below to implement this function\n",
    "    print(\"Student Name\\tStudent GPA\")\n",
    "    print(\"-\"*12+\"\\t\"+\"-\"*11)\n",
    "    for key in gpa_dict:\n",
    "        print(key + \"\\t\" + str(gpa_dict[key]))\n"
   ]
  },
  {
   "cell_type": "code",
   "execution_count": 13,
   "metadata": {},
   "outputs": [
    {
     "name": "stdout",
     "output_type": "stream",
     "text": [
      "Student Name\tStudent GPA\n",
      "------------\t-----------\n",
      "George Leung\t3.4\n",
      "Eric Wong\t3.9\n",
      "Michelle Lee\t3.1\n"
     ]
    }
   ],
   "source": [
    "# This is the testing code.\n",
    "\n",
    "# The following dictionary is given.\n",
    "gpa_dict = {'George Leung':3.4, 'Eric Wong':3.9, 'Michelle Lee': 3.1}\n",
    "\n",
    "# Add code below to call the function you've defined to display gpa_dict above:\n",
    "display_all_gpas(gpa_dict)"
   ]
  },
  {
   "cell_type": "markdown",
   "metadata": {},
   "source": [
    "#### Part (b) [ &bigstar;&bigstar; ] - Updating a Dictionary"
   ]
  },
  {
   "cell_type": "code",
   "execution_count": 16,
   "metadata": {},
   "outputs": [
    {
     "name": "stdout",
     "output_type": "stream",
     "text": [
      "Current GPA information:\n",
      "\n",
      "Student Name\tStudent GPA\n",
      "------------\t-----------\n",
      "George Leung\t3.4\n",
      "Eric Wong\t3.9\n",
      "Michelle Lee\t3.1\n",
      "\n",
      "Whose GPA do you want to change?Wong Eric\n",
      "Sorry! This student doesn't exist.\n",
      "\n",
      "Whose GPA do you want to change?Eric Wong\n",
      "What's the new GPA? 3.8\n",
      "Thanks! GPA has changed.\n",
      "\n",
      "The new GPA information:\n",
      "\n",
      "Student Name\tStudent GPA\n",
      "------------\t-----------\n",
      "George Leung\t3.4\n",
      "Eric Wong\t3.8\n",
      "Michelle Lee\t3.1\n"
     ]
    }
   ],
   "source": [
    "# The following dictionary is given.\n",
    "gpa_dict = {'George Leung':3.4, 'Eric Wong':3.9, 'Michelle Lee':3.1}\n",
    "\n",
    "#-------------------------------------------------------------------\n",
    "\n",
    "# Put your code here\n",
    "# Remember to call the function in Part (a) to help you with Part (b).\n",
    "print(\"Current GPA information:\\n\")\n",
    "display_all_gpas(gpa_dict)\n",
    "print()\n",
    "\n",
    "name = input(\"Whose GPA do you want to change?\")\n",
    "while(name not in gpa_dict):\n",
    "    print(\"Sorry! This student doesn't exist.\\n\")\n",
    "    name = input(\"Whose GPA do you want to change?\")\n",
    "\n",
    "gpa = input(\"What's the new GPA? \")\n",
    "gpa_dict[name] = float(gpa)\n",
    "print(\"Thanks! GPA has changed.\\n\")\n",
    "\n",
    "print(\"The new GPA information:\\n\")\n",
    "display_all_gpas(gpa_dict)\n"
   ]
  },
  {
   "cell_type": "markdown",
   "metadata": {},
   "source": [
    "#### Part (c) [ &bigstar;&bigstar; ] - Adding a new element in a Dictionary"
   ]
  },
  {
   "cell_type": "code",
   "execution_count": 18,
   "metadata": {},
   "outputs": [
    {
     "name": "stdout",
     "output_type": "stream",
     "text": [
      "Current GPA information:\n",
      "\n",
      "Student Name\tStudent GPA\n",
      "------------\t-----------\n",
      "George Leung\t3.4\n",
      "Eric Wong\t3.9\n",
      "Michelle Lee\t3.1\n",
      "\n",
      "Whose GPA do you want to add?Eric Wong\n",
      "Sorry! This student already exists.\n",
      "\n",
      "Whose GPA do you want to add?Michelle Lee\n",
      "Sorry! This student already exists.\n",
      "\n",
      "Whose GPA do you want to add?Peter Liu\n",
      "What's the GPA of Peter Liu? 3.7\n",
      "Thanks GPA has been added.\n",
      "\n",
      "The new GPA information:\n",
      "\n",
      "Student Name\tStudent GPA\n",
      "------------\t-----------\n",
      "George Leung\t3.4\n",
      "Eric Wong\t3.9\n",
      "Michelle Lee\t3.1\n",
      "Peter Liu\t3.7\n"
     ]
    }
   ],
   "source": [
    "# The following dictionary is given.\n",
    "gpa_dict = {'George Leung':3.4, 'Eric Wong':3.9, 'Michelle Lee':3.1}\n",
    "\n",
    "#-------------------------------------------------------------------\n",
    "\n",
    "# Put your code here\n",
    "# Remember to call the function in Part (a) to help you with Part (c).\n",
    "print(\"Current GPA information:\\n\")\n",
    "display_all_gpas(gpa_dict)\n",
    "print()\n",
    "\n",
    "name = input(\"Whose GPA do you want to add? \")\n",
    "while(name in gpa_dict):\n",
    "    print(\"Sorry! This student already exists.\\n\")\n",
    "    name = input(\"Whose GPA do you want to add? \")\n",
    "\n",
    "gpa = input(\"What's the GPA of \" + name + \"? \")\n",
    "gpa_dict[name] = float(gpa)\n",
    "print(\"Thanks GPA has been added.\\n\")\n",
    "\n",
    "print(\"The new GPA information:\\n\")\n",
    "display_all_gpas(gpa_dict)"
   ]
  },
  {
   "cell_type": "markdown",
   "metadata": {},
   "source": [
    "### Q3"
   ]
  },
  {
   "cell_type": "markdown",
   "metadata": {},
   "source": [
    "#### Part (a) [ &bigstar;&bigstar; ] - Casting a list of tuples into a dictionary"
   ]
  },
  {
   "cell_type": "code",
   "execution_count": 19,
   "metadata": {},
   "outputs": [],
   "source": [
    "# Put your code here\n",
    "def convert_to_dict(tup_list):\n",
    "    my_dict = {}\n",
    "    for tup in tup_list:\n",
    "        my_dict[tup[0]] = tup[1]\n",
    "    return my_dict"
   ]
  },
  {
   "cell_type": "code",
   "execution_count": 20,
   "metadata": {},
   "outputs": [
    {
     "name": "stdout",
     "output_type": "stream",
     "text": [
      "\n",
      "Testcase 1\n",
      "----------\n",
      "Expected: {1: 'apple', 2: 'banana', 4: 'durian', 8: 'orange', 3: 'peach'}\n",
      "Actual:   {1: 'apple', 2: 'banana', 4: 'durian', 8: 'orange', 3: 'peach'}\n"
     ]
    }
   ],
   "source": [
    "# Test cases used to test your function\n",
    "\n",
    "print('\\nTestcase 1')\n",
    "print('-' * 10)\n",
    "print(\"Expected: {1: 'apple', 2: 'banana', 4: 'durian', 8: 'orange', 3: 'peach'}\")\n",
    "tup_list = [(1, 'apple'), (2, 'banana'), (4, 'durian'), (8, 'orange'), (3, 'peach')]\n",
    "result_dict = convert_to_dict(tup_list)\n",
    "print('Actual:   ' + str(result_dict))"
   ]
  },
  {
   "cell_type": "markdown",
   "metadata": {},
   "source": [
    "#### Part (b) [ &bigstar;&bigstar; ] - Reading a file and placing data into a Dictionary"
   ]
  },
  {
   "cell_type": "code",
   "execution_count": 25,
   "metadata": {},
   "outputs": [],
   "source": [
    "# Put your code here\n",
    "def read_into_dict(filename):\n",
    "    my_dict = {}\n",
    "    with open(filename) as f:\n",
    "        for line in f:\n",
    "            line = line.rstrip(\"\\n\")\n",
    "            cols = line.split(\"\\t\")\n",
    "            my_dict[cols[0]] = cols[1]\n",
    "    return my_dict\n"
   ]
  },
  {
   "cell_type": "code",
   "execution_count": 26,
   "metadata": {},
   "outputs": [
    {
     "name": "stdout",
     "output_type": "stream",
     "text": [
      "\n",
      "Testcase 1\n",
      "----------\n",
      "Expected: {'SMU': 'Singapore Management University', 'NUS': 'National University of Singapore', 'NTU': 'National University of Technology', 'SUTD': 'Singapore University of Technology and Design', 'SIM': 'Singapore Intitute of Management'}\n",
      "Actual:   {'SMU': 'Singapore Management University', 'NUS': 'National University of Singapore', 'NTU': 'National University of Technology', 'SUTD': 'Singapore University of Technology and Design', 'SIM': 'Singapore Intitute of Management'}\n"
     ]
    }
   ],
   "source": [
    "# Test cases used to test your function\n",
    "\n",
    "print('\\nTestcase 1')\n",
    "print('-' * 10)\n",
    "print(\"Expected: {'SMU': 'Singapore Management University', 'NUS': 'National University of Singapore', 'NTU': 'National University of Technology', 'SUTD': 'Singapore University of Technology and Design', 'SIM': 'Singapore Intitute of Management'}\")\n",
    "filename = 'acronyms.txt'\n",
    "result_dict = read_into_dict(filename)\n",
    "print('Actual:   ' + str(result_dict))"
   ]
  },
  {
   "cell_type": "markdown",
   "metadata": {},
   "source": [
    "#### Part (c) [ &bigstar;&bigstar; ] - Reversing a Dictionary"
   ]
  },
  {
   "cell_type": "code",
   "execution_count": 27,
   "metadata": {},
   "outputs": [],
   "source": [
    "# Put your code here\n",
    "def reverse_dict(my_dict):\n",
    "    new_dict = {}\n",
    "    for key in my_dict:\n",
    "        new_dict[my_dict[key]] = key\n",
    "    return new_dict"
   ]
  },
  {
   "cell_type": "code",
   "execution_count": 28,
   "metadata": {},
   "outputs": [
    {
     "name": "stdout",
     "output_type": "stream",
     "text": [
      "\n",
      "Testcase 1\n",
      "----------\n",
      "Expected: {'swimming': 'Monday', 'basketball': 'Tuesday', 'tennis': 'Wednesday', 'yoga': 'Thursday', 'gymnastics': 'Friday'}\n",
      "Actual:   {'swimming': 'Monday', 'basketball': 'Tuesday', 'tennis': 'Wednesday', 'yoga': 'Thursday', 'gymnastics': 'Friday'}\n"
     ]
    }
   ],
   "source": [
    "# Test cases used to test your function\n",
    "\n",
    "print('\\nTestcase 1')\n",
    "print('-' * 10)\n",
    "print(\"Expected: {'swimming': 'Monday', 'basketball': 'Tuesday', 'tennis': 'Wednesday', 'yoga': 'Thursday', 'gymnastics': 'Friday'}\")\n",
    "my_dict = {'Monday': 'swimming', 'Tuesday': 'basketball', 'Wednesday': 'tennis', 'Thursday': 'yoga', 'Friday': 'gymnastics'}\n",
    "result_dict = reverse_dict(my_dict)\n",
    "print('Actual:   ' + str(result_dict))"
   ]
  },
  {
   "cell_type": "markdown",
   "metadata": {},
   "source": [
    "### Q4"
   ]
  },
  {
   "cell_type": "markdown",
   "metadata": {},
   "source": [
    "#### Part (a) [ &bigstar;&bigstar; ]"
   ]
  },
  {
   "cell_type": "code",
   "execution_count": 29,
   "metadata": {},
   "outputs": [
    {
     "name": "stdout",
     "output_type": "stream",
     "text": [
      "Please enter an email ID:j.wong.2017\n",
      "The birthdate of this student is 03-09-1998\n",
      "\n",
      "Do you want to continue? [Y/N]:Y\n",
      "\n",
      "Please enter an email ID:abc\n",
      "This is not a valid email ID.\n",
      "\n",
      "Do you want to continue? [Y/N]:Y\n",
      "Please enter an email ID:eric.wong.2017\n",
      "The birthdate of this student is 12-15-1999\n",
      "\n",
      "Do you want to continue? [Y/N]:N\n",
      "Good-bye!\n"
     ]
    }
   ],
   "source": [
    "# Put your code here\n",
    "def do_action(my_dict):\n",
    "    email = input(\"Please enter an email ID:\")\n",
    "    if email in my_dict:\n",
    "        print(\"The birthdate of this student is\", my_dict[email][1])\n",
    "    else:\n",
    "        print(\"This is not a valid email ID.\")\n",
    "    print()\n",
    "\n",
    "def get_dict(file_name, my_dict):\n",
    "    with open(file_name) as f:\n",
    "        for line in f:\n",
    "            line = line.rstrip(\"\\n\")\n",
    "            cols = line.split(\"\\t\")\n",
    "            my_dict[cols[1]] = [cols[0], cols[2], cols[3]]\n",
    "    \n",
    "my_dict = {}\n",
    "file_name = \"students.txt\"\n",
    "get_dict(file_name, my_dict)\n",
    "do_action(my_dict)\n",
    "\n",
    "to_continue = input(\"Do you want to continue? [Y/N]:\")\n",
    "while to_continue == \"Y\":\n",
    "    print()\n",
    "    do_action(my_dict)\n",
    "    to_continue = input(\"Do you want to continue? [Y/N]:\")\n",
    "print(\"Good-bye!\")"
   ]
  },
  {
   "cell_type": "markdown",
   "metadata": {},
   "source": [
    "#### Part (b) [ &bigstar;&bigstar;&bigstar; ]"
   ]
  },
  {
   "cell_type": "code",
   "execution_count": 34,
   "metadata": {},
   "outputs": [
    {
     "name": "stdout",
     "output_type": "stream",
     "text": [
      "Please enter an email ID:j.wong.2017\n",
      "This student is Joe Wong, male, born on 03-09-1998.\n",
      "\n",
      "Do you want to continue? [Y/N]:Y\n",
      "\n",
      "Please enter an email ID:abc\n",
      "This is not a valid email ID.\n",
      "\n",
      "Do you want to continue? [Y/N]:N\n",
      "Good-bye!\n"
     ]
    }
   ],
   "source": [
    "# Put your code here\n",
    "def do_action(my_dict):\n",
    "    email = input(\"Please enter an email ID:\")\n",
    "    if email in my_dict:\n",
    "        if my_dict[email][2] == \"M\":\n",
    "            gender = \"male\"\n",
    "        else:\n",
    "            gender = \"female\"\n",
    "        print(\"This student is \" + my_dict[email][0] + \", \" + gender + \", born on \" + my_dict[email][1] + \".\")\n",
    "    else:\n",
    "        print(\"This is not a valid email ID.\")\n",
    "    print()\n",
    "\n",
    "def get_dict(file_name, my_dict):\n",
    "    with open(file_name) as f:\n",
    "        for line in f:\n",
    "            line = line.rstrip(\"\\n\")\n",
    "            cols = line.split(\"\\t\")\n",
    "            my_dict[cols[1]] = [cols[0], cols[2], cols[3]]\n",
    "    \n",
    "my_dict = {}\n",
    "file_name = \"students.txt\"\n",
    "get_dict(file_name, my_dict)\n",
    "do_action(my_dict)\n",
    "\n",
    "to_continue = input(\"Do you want to continue? [Y/N]:\")\n",
    "while to_continue == \"Y\":\n",
    "    print()\n",
    "    do_action(my_dict)\n",
    "    to_continue = input(\"Do you want to continue? [Y/N]:\")\n",
    "    \n",
    "print(\"Good-bye!\")"
   ]
  },
  {
   "cell_type": "markdown",
   "metadata": {},
   "source": [
    "### Q5: Contacts [ &bigstar;&bigstar;&bigstar; ]"
   ]
  },
  {
   "cell_type": "code",
   "execution_count": 41,
   "metadata": {},
   "outputs": [
    {
     "name": "stdout",
     "output_type": "stream",
     "text": [
      "Enter a person's name: Michelle Ong\n",
      "Michelle Ong cannot be found in our database.\n"
     ]
    }
   ],
   "source": [
    "# Put your code here\n",
    "file_name = \"contacts.txt\"\n",
    "my_dict = {}\n",
    "with open(file_name) as f:\n",
    "    for line in f:\n",
    "        line = line.rstrip(\"\\n\")\n",
    "        cols = line.split(\"|\")\n",
    "        if cols[0] not in my_dict:\n",
    "            my_dict[cols[0]] = [cols[1]]\n",
    "        else:\n",
    "            my_dict[cols[0]].append(cols[1])\n",
    "\n",
    "name = input(\"Enter a person's name: \")\n",
    "if name in my_dict:\n",
    "    print(name + \" has \" + str(len(my_dict[name])) + \" number(s):\")\n",
    "    for number in my_dict[name]:\n",
    "        print(\"\\t\" + number)\n",
    "else:\n",
    "    print(name + \" cannot be found in our database.\")"
   ]
  },
  {
   "cell_type": "code",
   "execution_count": null,
   "metadata": {},
   "outputs": [],
   "source": []
  },
  {
   "cell_type": "code",
   "execution_count": null,
   "metadata": {},
   "outputs": [],
   "source": []
  }
 ],
 "metadata": {
  "kernelspec": {
   "display_name": "Python 3 (ipykernel)",
   "language": "python",
   "name": "python3"
  },
  "language_info": {
   "codemirror_mode": {
    "name": "ipython",
    "version": 3
   },
   "file_extension": ".py",
   "mimetype": "text/x-python",
   "name": "python",
   "nbconvert_exporter": "python",
   "pygments_lexer": "ipython3",
   "version": "3.9.12"
  }
 },
 "nbformat": 4,
 "nbformat_minor": 2
}
