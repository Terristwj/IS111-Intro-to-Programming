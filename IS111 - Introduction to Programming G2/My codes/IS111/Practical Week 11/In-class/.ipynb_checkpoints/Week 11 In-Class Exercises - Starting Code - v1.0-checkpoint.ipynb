{
 "cells": [
  {
   "cell_type": "markdown",
   "metadata": {},
   "source": [
    "<table class=\"table table-bordered\">\n",
    "    <tr>\n",
    "        <th style=\"text-align:center; width:35%\"><img src='https://drive.google.com/uc?export=view&id=1zIB3Nw_z8N2SJSSdd2yWQIsDS0MGPYKm' style=\"width: 300px; height: 90px; \"></th>\n",
    "        <th style=\"text-align:center;\"><h3>IS111 - In-Class Exercises</h3><h3>Week 11</h3></th>\n",
    "    </tr>\n",
    "</table>"
   ]
  },
  {
   "cell_type": "markdown",
   "metadata": {},
   "source": [
    "### Q1:  [ &bigstar; ]  Looking up a Value inside a Dictionary"
   ]
  },
  {
   "cell_type": "code",
   "execution_count": 4,
   "metadata": {},
   "outputs": [
    {
     "name": "stdout",
     "output_type": "stream",
     "text": [
      "Do you want to search for the author of a book? [Y/N]Y\n",
      "Please enter a book title:Animal Farm and 1984\n",
      "The author of the book is George Orwell\n",
      "\n",
      "Do you want to continue? [Y/N]Y\n",
      "Please enter a book title:Da Vinci\n",
      "Not found!\n",
      "\n",
      "Do you want to continue? [Y/N]Y\n",
      "Please enter a book title:The Da Vinci Code\n",
      "The author of the book is Dan Brown\n",
      "\n",
      "Do you want to continue? [Y/N]N\n",
      "Good-bye!\n"
     ]
    }
   ],
   "source": [
    "# This dictionary is given.\n",
    "\n",
    "book_author_dict = {\"Harry Potter and the Sorcerer's Stone\":'J.K. Rowling', \n",
    "               \"Turtles All the Way Down\":'John Green',\n",
    "               \"Animal Farm and 1984\":'George Orwell',\n",
    "               \"The Da Vinci Code\":'Dan Brown',\n",
    "               \"Harry Potter and the Goblet of Fire\":'J.K. Rowling',\n",
    "               \"Origin\":'Dan Brown'}\n",
    "\n",
    "#--------------------------------------------------------------------------\n",
    "# Avoid using for loop, even tho it is correct answer\n",
    "\n",
    "\n",
    "# Put your code here\n",
    "to_search = input(\"Do you want to search for the author of a book? [Y/N]\")\n",
    "while(to_search == \"Y\"):\n",
    "    title = input(\"Please enter a book title:\")\n",
    "    if title in book_author_dict:\n",
    "        print(\"The author of the book is \" + book_author_dict[title])\n",
    "    else:\n",
    "        print(\"Not found!\")\n",
    "        \n",
    "    print()\n",
    "    to_search = input(\"Do you want to continue? [Y/N]\")\n",
    "    \n",
    "print(\"Good-bye!\")"
   ]
  },
  {
   "cell_type": "markdown",
   "metadata": {
    "collapsed": true
   },
   "source": [
    "### Q2"
   ]
  },
  {
   "cell_type": "markdown",
   "metadata": {
    "collapsed": true
   },
   "source": [
    "#### Part (a) [ &bigstar; ] - Displaying content of Dictionary"
   ]
  },
  {
   "cell_type": "code",
   "execution_count": null,
   "metadata": {},
   "outputs": [],
   "source": [
    "def display_all_gpas(gpa_dict):\n",
    "    # Add code below to implement this function\n",
    "\n",
    "\n"
   ]
  },
  {
   "cell_type": "code",
   "execution_count": null,
   "metadata": {},
   "outputs": [],
   "source": [
    "# This is the testing code.\n",
    "\n",
    "# The following dictionary is given.\n",
    "gpa_dict = {'George Leung':3.4, 'Eric Wong':3.9, 'Michelle Lee': 3.1}\n",
    "\n",
    "# Add code below to call the function you've defined to display gpa_dict above:\n"
   ]
  },
  {
   "cell_type": "markdown",
   "metadata": {},
   "source": [
    "#### Part (b) [ &bigstar;&bigstar; ] - Updating a Dictionary"
   ]
  },
  {
   "cell_type": "code",
   "execution_count": null,
   "metadata": {},
   "outputs": [],
   "source": [
    "# The following dictionary is given.\n",
    "gpa_dict = {'George Leung':3.4, 'Eric Wong':3.9, 'Michelle Lee':3.1}\n",
    "\n",
    "#-------------------------------------------------------------------\n",
    "\n",
    "# Put your code here\n",
    "# Remember to call the function in Part (a) to help you with Part (b).\n",
    "\n"
   ]
  },
  {
   "cell_type": "markdown",
   "metadata": {},
   "source": [
    "#### Part (c) [ &bigstar;&bigstar; ] - Adding a new element in a Dictionary"
   ]
  },
  {
   "cell_type": "code",
   "execution_count": null,
   "metadata": {},
   "outputs": [],
   "source": [
    "# The following dictionary is given.\n",
    "gpa_dict = {'George Leung':3.4, 'Eric Wong':3.9, 'Michelle Lee':3.1}\n",
    "\n",
    "#-------------------------------------------------------------------\n",
    "\n",
    "# Put your code here\n",
    "# Remember to call the function in Part (a) to help you with Part (c).\n",
    "\n"
   ]
  },
  {
   "cell_type": "markdown",
   "metadata": {},
   "source": [
    "### Q3"
   ]
  },
  {
   "cell_type": "markdown",
   "metadata": {},
   "source": [
    "#### Part (a) [ &bigstar;&bigstar; ] - Casting a list of tuples into a dictionary"
   ]
  },
  {
   "cell_type": "code",
   "execution_count": null,
   "metadata": {},
   "outputs": [],
   "source": [
    "# Put your code here\n",
    "\n",
    "\n"
   ]
  },
  {
   "cell_type": "code",
   "execution_count": null,
   "metadata": {},
   "outputs": [],
   "source": [
    "# Test cases used to test your function\n",
    "\n",
    "print('\\nTestcase 1')\n",
    "print('-' * 10)\n",
    "print(\"Expected: {1: 'apple', 2: 'banana', 4: 'durian', 8: 'orange', 3: 'peach'}\")\n",
    "tup_list = [(1, 'apple'), (2, 'banana'), (4, 'durian'), (8, 'orange'), (3, 'peach')]\n",
    "result_dict = convert_to_dict(tup_list)\n",
    "print('Actual:   ' + str(result_dict))"
   ]
  },
  {
   "cell_type": "markdown",
   "metadata": {},
   "source": [
    "#### Part (b) [ &bigstar;&bigstar; ] - Reading a file and placing data into a Dictionary"
   ]
  },
  {
   "cell_type": "code",
   "execution_count": null,
   "metadata": {},
   "outputs": [],
   "source": [
    "# Put your code here\n",
    "\n",
    "\n"
   ]
  },
  {
   "cell_type": "code",
   "execution_count": null,
   "metadata": {},
   "outputs": [],
   "source": [
    "# Test cases used to test your function\n",
    "\n",
    "print('\\nTestcase 1')\n",
    "print('-' * 10)\n",
    "print(\"Expected: {'SMU': 'Singapore Management University', 'NUS': 'National University of Singapore', 'NTU': 'National University of Technology', 'SUTD': 'Singapore University of Technology and Design', 'SIM': 'Singapore Intitute of Management'}\")\n",
    "filename = 'acronyms.txt'\n",
    "result_dict = read_into_dict(filename)\n",
    "print('Actual:   ' + str(result_dict))"
   ]
  },
  {
   "cell_type": "markdown",
   "metadata": {},
   "source": [
    "#### Part (c) [ &bigstar;&bigstar; ] - Reversing a Dictionary"
   ]
  },
  {
   "cell_type": "code",
   "execution_count": null,
   "metadata": {},
   "outputs": [],
   "source": [
    "# Put your code here\n",
    "\n",
    "\n"
   ]
  },
  {
   "cell_type": "code",
   "execution_count": null,
   "metadata": {},
   "outputs": [],
   "source": [
    "# Test cases used to test your function\n",
    "\n",
    "print('\\nTestcase 1')\n",
    "print('-' * 10)\n",
    "print(\"Expected: {'swimming': 'Monday', 'basketball': 'Tuesday', 'tennis': 'Wednesday', 'yoga': 'Thursday', 'gymnastics': 'Friday'}\")\n",
    "my_dict = {'Monday': 'swimming', 'Tuesday': 'basketball', 'Wednesday': 'tennis', 'Thursday': 'yoga', 'Friday': 'gymnastics'}\n",
    "result_dict = reverse_dict(my_dict)\n",
    "print('Actual:   ' + str(result_dict))"
   ]
  },
  {
   "cell_type": "markdown",
   "metadata": {},
   "source": [
    "### Q4"
   ]
  },
  {
   "cell_type": "markdown",
   "metadata": {},
   "source": [
    "#### Part (a) [ &bigstar;&bigstar; ]"
   ]
  },
  {
   "cell_type": "code",
   "execution_count": null,
   "metadata": {},
   "outputs": [],
   "source": [
    "# Put your code here\n",
    "\n",
    "\n"
   ]
  },
  {
   "cell_type": "markdown",
   "metadata": {},
   "source": [
    "#### Part (b) [ &bigstar;&bigstar;&bigstar; ]"
   ]
  },
  {
   "cell_type": "code",
   "execution_count": null,
   "metadata": {},
   "outputs": [],
   "source": [
    "# Put your code here\n",
    "\n",
    "\n"
   ]
  },
  {
   "cell_type": "markdown",
   "metadata": {},
   "source": [
    "### Q5: Contacts [ &bigstar;&bigstar;&bigstar; ]"
   ]
  },
  {
   "cell_type": "code",
   "execution_count": null,
   "metadata": {},
   "outputs": [],
   "source": [
    "# Put your code here\n",
    "\n",
    "\n"
   ]
  },
  {
   "cell_type": "code",
   "execution_count": null,
   "metadata": {},
   "outputs": [],
   "source": []
  }
 ],
 "metadata": {
  "kernelspec": {
   "display_name": "Python 3 (ipykernel)",
   "language": "python",
   "name": "python3"
  },
  "language_info": {
   "codemirror_mode": {
    "name": "ipython",
    "version": 3
   },
   "file_extension": ".py",
   "mimetype": "text/x-python",
   "name": "python",
   "nbconvert_exporter": "python",
   "pygments_lexer": "ipython3",
   "version": "3.9.12"
  }
 },
 "nbformat": 4,
 "nbformat_minor": 2
}
