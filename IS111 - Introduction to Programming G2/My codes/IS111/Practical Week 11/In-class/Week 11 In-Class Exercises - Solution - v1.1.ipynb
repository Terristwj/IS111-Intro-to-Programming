{
 "cells": [
  {
   "cell_type": "markdown",
   "metadata": {},
   "source": [
    "<table class=\"table table-bordered\">\n",
    "    <tr>\n",
    "        <th style=\"text-align:center; width:35%\"><img src='https://drive.google.com/uc?export=view&id=1zIB3Nw_z8N2SJSSdd2yWQIsDS0MGPYKm' style=\"width: 300px; height: 90px; \"></th>\n",
    "        <th style=\"text-align:center;\"><h3>IS111 - In-Class Exercises Solutions</h3><h3>Week 11</h3></th>\n",
    "    </tr>\n",
    "</table>"
   ]
  },
  {
   "cell_type": "markdown",
   "metadata": {},
   "source": [
    "### Q1:  [ &bigstar; ]  Looking up a Value inside a Dictionary"
   ]
  },
  {
   "cell_type": "code",
   "execution_count": null,
   "metadata": {},
   "outputs": [],
   "source": [
    "# This dictionary is given.\n",
    "book_author_dict = {\"Harry Potter and the Sorcerer's Stone\":'J.K. Rowling', \n",
    "               \"Turtles All the Way Down\":'John Green',\n",
    "               \"Animal Farm and 1984\":'George Orwell',\n",
    "               \"The Da Vinci Code\":'Dan Brown',\n",
    "               \"Harry Potter and the Goblet of Fire\":'J.K. Rowling',\n",
    "               \"Origin\":'Dan Brown'}\n",
    "\n",
    "#--------------------------------------------------------------------------\n",
    "\n",
    "# SOLUTION - partial\n",
    "\n",
    "choice = input('Do you want to search for the author of a book? [Y|N]')\n",
    "\n",
    "while choice == 'Y':\n",
    "    book_title = input('Please enter a book title :')\n",
    "    \n",
    "    # logic to print the answer or the error message\n",
    "    \n",
    "    choice = input('\\nDo you want to continue? [Y|N]') \n",
    "\n",
    "print('Good-bye!')"
   ]
  },
  {
   "cell_type": "code",
   "execution_count": null,
   "metadata": {},
   "outputs": [],
   "source": [
    "# This dictionary is given.\n",
    "book_author_dict = {\"Harry Potter and the Sorcerer's Stone\":'J.K. Rowling', \n",
    "               \"Turtles All the Way Down\":'John Green',\n",
    "               \"Animal Farm and 1984\":'George Orwell',\n",
    "               \"The Da Vinci Code\":'Dan Brown',\n",
    "               \"Harry Potter and the Goblet of Fire\":'J.K. Rowling',\n",
    "               \"Origin\":'Dan Brown'}\n",
    "\n",
    "#--------------------------------------------------------------------------\n",
    "\n",
    "# SOLUTION\n",
    "\n",
    "choice = input('Do you want to search for the author of a book? [Y|N]')\n",
    "\n",
    "while choice == 'Y':\n",
    "    book_title = input('Please enter a book title :')\n",
    "    \n",
    "    # logic to print the answer or the error message\n",
    "    if book_title in book_author_dict:\n",
    "        author = book_author_dict[book_title]\n",
    "        print('The author of the book is ' + author)\n",
    "    else:\n",
    "        print('Not found!')\n",
    "        \n",
    "    choice = input('\\nDo you want to continue? [Y|N]') \n",
    "\n",
    "print('Good-bye!')"
   ]
  },
  {
   "cell_type": "markdown",
   "metadata": {
    "collapsed": true
   },
   "source": [
    "### Q2"
   ]
  },
  {
   "cell_type": "markdown",
   "metadata": {
    "collapsed": true
   },
   "source": [
    "#### Part (a) [ &bigstar; ] - Displaying content of Dictionary"
   ]
  },
  {
   "cell_type": "code",
   "execution_count": null,
   "metadata": {},
   "outputs": [],
   "source": [
    "# SOLUTION - partial\n",
    "\n",
    "def display_all_gpas(gpa_dict):\n",
    "    print('Student Name\\tStudent GPA')\n",
    "    print('------------\\t-----------')\n",
    "\n",
    "    # display content of gpa_dict"
   ]
  },
  {
   "cell_type": "code",
   "execution_count": null,
   "metadata": {},
   "outputs": [],
   "source": [
    "# SOLUTION\n",
    "\n",
    "def display_all_gpas(gpa_dict):\n",
    "    print('\\nStudent Name\\tStudent GPA')\n",
    "    print('-------------\\t-----------')\n",
    "    for key in gpa_dict:\n",
    "        print(key + '\\t' + str(gpa_dict[key])) "
   ]
  },
  {
   "cell_type": "code",
   "execution_count": null,
   "metadata": {},
   "outputs": [],
   "source": [
    "gpa_dict = {'George Leung':3.4, 'Eric Wong':3.9, 'Michelle Lee': 3.1}\n",
    "display_all_gpas(gpa_dict)"
   ]
  },
  {
   "cell_type": "markdown",
   "metadata": {},
   "source": [
    "#### Note:\n",
    "\n",
    "- You should place the function definition at the very top.\n",
    "- Some students do the following, which is wrong:</br>\n",
    "\n",
    "`print(display_all_gpas(gpa_dict))`</br>\n",
    "\n",
    "Go back to revisit the definition of the function. You can see that this function doesn't return anything but it prints some information already."
   ]
  },
  {
   "cell_type": "markdown",
   "metadata": {},
   "source": [
    "#### Part (b) [ &bigstar;&bigstar; ] - Updating a Dictionary"
   ]
  },
  {
   "cell_type": "markdown",
   "metadata": {},
   "source": [
    "#### Note:\n",
    "\n",
    "- Reuse the function written already in Part (a).\n",
    "- Don't copy the function definition again. Just call it."
   ]
  },
  {
   "cell_type": "code",
   "execution_count": null,
   "metadata": {},
   "outputs": [],
   "source": [
    "# The following dictionary is given.\n",
    "gpa_dict = {'George Leung':3.4, 'Eric Wong':3.9, 'Michelle Lee':3.1}\n",
    "#-------------------------------------------------------------------\n",
    "\n",
    "# SOLUTION\n",
    "\n",
    "# Display content of current dictionary\n",
    "print('Current GPA information:')\n",
    "display_all_gpas(gpa_dict)\n",
    "\n",
    "name = input('\\nWhose PGA do you want to change? ')\n",
    "\n",
    "# Keep prompting if name doesn't exist in the dictionary\n",
    "while name not in gpa_dict:\n",
    "    print('Sorry! This student doesn’t exist.')\n",
    "    name = input('\\nWhose GPA do you want to change? ')\n",
    "\n",
    "# update the dictionary\n",
    "new_gpa = float(input(\"What's the new GPA? \"))\n",
    "gpa_dict[name] = new_gpa\n",
    "\n",
    "# Display content of modified dictionary\n",
    "print('Thanks! GPA has changed.')\n",
    "print('\\nThe new GPA information:')\n",
    "display_all_gpas(gpa_dict)"
   ]
  },
  {
   "cell_type": "markdown",
   "metadata": {},
   "source": [
    "#### Part (c) [ &bigstar;&bigstar; ] - Adding a new element in a Dictionary"
   ]
  },
  {
   "cell_type": "code",
   "execution_count": null,
   "metadata": {},
   "outputs": [],
   "source": [
    "# The following dictionary is given.\n",
    "gpa_dict = {'George Leung':3.4, 'Eric Wong':3.9, 'Michelle Lee':3.1}\n",
    "\n",
    "#-------------------------------------------------------------------\n",
    "\n",
    "# SOLUTION\n",
    "\n",
    "# Display content of current dictionary\n",
    "print('Current GPA information:')\n",
    "display_all_gpas(gpa_dict)\n",
    "\n",
    "name = input('\\nWhose PGA do you want to add? ')\n",
    "\n",
    "# keep prompting if name already exists in the dictionary\n",
    "while name in gpa_dict:\n",
    "    print('Sorry! This student already exists.')\n",
    "    name = input('\\nWhose GPA do you want to add? ')\n",
    "\n",
    "# update the dictionary with new input\n",
    "new_gpa = float(input(\"What's the GPA of \" + name + \"? \"))\n",
    "gpa_dict[name] = new_gpa\n",
    "\n",
    "# Display content of updated dictionary\n",
    "print('Thanks! GPA has been added.')\n",
    "print('\\nThe new GPA information:')\n",
    "display_all_gpas(gpa_dict)"
   ]
  },
  {
   "cell_type": "markdown",
   "metadata": {},
   "source": [
    "### Q3"
   ]
  },
  {
   "cell_type": "markdown",
   "metadata": {},
   "source": [
    "#### Part (a) [ &bigstar;&bigstar; ] - Casting a list of tuples into a dictionary"
   ]
  },
  {
   "cell_type": "code",
   "execution_count": null,
   "metadata": {},
   "outputs": [],
   "source": [
    "# SOLUTION - 1\n",
    "\n",
    "def convert_to_dict(tup_list):\n",
    "    dict_to_return = {}\n",
    "    for tup in tup_list:\n",
    "        dict_to_return[tup[0]] = tup[1]\n",
    "    return dict_to_return"
   ]
  },
  {
   "cell_type": "code",
   "execution_count": null,
   "metadata": {},
   "outputs": [],
   "source": [
    "# Test cases used to test your function\n",
    "\n",
    "print('\\nTestcase 1')\n",
    "print('-' * 10)\n",
    "print(\"Expected: {1: 'apple', 2: 'banana', 4: 'durian', 8: 'orange', 3: 'peach'}\")\n",
    "tup_list = [(1, 'apple'), (2, 'banana'), (4, 'durian'), (8, 'orange'), (3, 'peach')]\n",
    "result_dict = convert_to_dict(tup_list)\n",
    "print('Actual:   ' + str(result_dict))"
   ]
  },
  {
   "cell_type": "code",
   "execution_count": null,
   "metadata": {},
   "outputs": [],
   "source": [
    "# SOLUTION - 2\n",
    "# you can directly cast the list of tuples into a dictionary\n",
    "def convert_to_dict(tup_list):\n",
    "    return dict(tup_list)"
   ]
  },
  {
   "cell_type": "markdown",
   "metadata": {},
   "source": [
    "#### Note:\n",
    "\n",
    "- The code above will take the first element of the tuple as a key and the second as the value"
   ]
  },
  {
   "cell_type": "code",
   "execution_count": null,
   "metadata": {},
   "outputs": [],
   "source": [
    "# Test cases used to test your function\n",
    "\n",
    "print('\\nTestcase 1')\n",
    "print('-' * 10)\n",
    "print(\"Expected: {1: 'apple', 2: 'banana', 4: 'durian', 8: 'orange', 3: 'peach'}\")\n",
    "tup_list = [(1, 'apple'), (2, 'banana'), (4, 'durian'), (8, 'orange'), (3, 'peach')]\n",
    "result_dict = convert_to_dict(tup_list)\n",
    "print('Actual:   ' + str(result_dict))"
   ]
  },
  {
   "cell_type": "markdown",
   "metadata": {},
   "source": [
    "#### Part (b) [ &bigstar;&bigstar; ] - Reading a file and placing data into a Dictionary"
   ]
  },
  {
   "cell_type": "code",
   "execution_count": null,
   "metadata": {},
   "outputs": [],
   "source": [
    "# SOLUTION\n",
    "\n",
    "def read_into_dict(filename):\n",
    "    dict_to_return = {}\n",
    "    with open(filename, 'r') as my_file:\n",
    "        for line in my_file:\n",
    "            line = line.rstrip('\\n')\n",
    "            columns = line.split('\\t')\n",
    "            key = columns[0]\n",
    "            value = columns[1]\n",
    "            dict_to_return[key] = value\n",
    "    return dict_to_return"
   ]
  },
  {
   "cell_type": "code",
   "execution_count": null,
   "metadata": {},
   "outputs": [],
   "source": [
    "# Test cases used to test your function\n",
    "\n",
    "print('\\nTestcase 1')\n",
    "print('-' * 10)\n",
    "print(\"Expected: {'SMU': 'Singapore Management University', 'NUS': 'National University of Singapore', 'NTU': 'National University of Technology', 'SUTD': 'Singapore University of Technology and Design', 'SIM': 'Singapore Intitute of Management'}\")\n",
    "filename = 'acronyms.txt'\n",
    "result_dict = read_into_dict(filename)\n",
    "print('Actual:   ' + str(result_dict))"
   ]
  },
  {
   "cell_type": "markdown",
   "metadata": {},
   "source": [
    "#### Part (c) [ &bigstar;&bigstar; ] - Reversing a Dictionary"
   ]
  },
  {
   "cell_type": "code",
   "execution_count": null,
   "metadata": {},
   "outputs": [],
   "source": [
    "# SOLUTION\n",
    "\n",
    "def reverse_dict(my_dict):\n",
    "    dict_to_return = {}\n",
    "    for key in my_dict:\n",
    "        value = my_dict[key]\n",
    "        dict_to_return[value] = key\n",
    "    return dict_to_return"
   ]
  },
  {
   "cell_type": "markdown",
   "metadata": {},
   "source": [
    "#### Note:\n",
    "\n",
    "- You can do the above only if you are sure that there is a one-to-one relationship between the key and the value. \n",
    "- For example, the university uses your email id as the key to identify a student but not your name as the key because names are not unique. So mappings from email IDs to names cannot be reversed because there may be duplicate names."
   ]
  },
  {
   "cell_type": "code",
   "execution_count": null,
   "metadata": {},
   "outputs": [],
   "source": [
    "# Test cases used to test your function\n",
    "\n",
    "print('\\nTestcase 1')\n",
    "print('-' * 10)\n",
    "print(\"Expected: {'swimming': 'Monday', 'basketball': 'Tuesday', 'tennis': 'Wednesday', 'yoga': 'Thursday', 'gymnastics': 'Friday'}\")\n",
    "my_dict = {'Monday': 'swimming', 'Tuesday': 'basketball', 'Wednesday': 'tennis', 'Thursday': 'yoga', 'Friday': 'gymnastics'}\n",
    "result_dict = reverse_dict(my_dict)\n",
    "print('Actual:   ' + str(result_dict))"
   ]
  },
  {
   "cell_type": "markdown",
   "metadata": {},
   "source": [
    "### Q4"
   ]
  },
  {
   "cell_type": "markdown",
   "metadata": {},
   "source": [
    "#### Part (a) [ &bigstar;&bigstar; ]"
   ]
  },
  {
   "cell_type": "code",
   "execution_count": null,
   "metadata": {},
   "outputs": [],
   "source": [
    "# SOLUTION 1\n",
    "\n",
    "def read_student_info_into_dict(file_name):\n",
    "    # This function reads the file into a dictionary, \n",
    "    # where the keys are email IDs and values are birth dates.\n",
    "    student_dict = {}\n",
    "    with open(file_name, 'r') as my_file:   \n",
    "        for line in my_file:\n",
    "            line = line.rstrip('\\n')\n",
    "            columns = line.split('\\t')\n",
    "            email_id = columns[1]\n",
    "            date = columns[2]\n",
    "            student_dict[email_id] = date\n",
    "    return student_dict\n",
    "\n",
    "def process_request(student_dict):\n",
    "    email_id = input('Please enter an email ID :')\n",
    "    if email_id not in student_dict:\n",
    "        print('This is not a valid email ID.')\n",
    "    else:\n",
    "        value = student_dict[email_id]\n",
    "        print('The birthdate of this student is ' + value)\n",
    "\n",
    "student_dict = read_student_info_into_dict('students.txt')\n",
    "process_request(student_dict)\n",
    "choice = input('\\nDo you want to continue? [Y|N] :')\n",
    "while choice == 'Y':\n",
    "    process_request(student_dict)\n",
    "    choice = input('\\nDo you want to continue? [Y|N] :')\n",
    "\n",
    "print('Good-bye!')    "
   ]
  },
  {
   "cell_type": "code",
   "execution_count": null,
   "metadata": {},
   "outputs": [],
   "source": [
    "# SOLUTION 2\n",
    "\n",
    "def read_student_info_into_dict(file_name):\n",
    "    # This function reads the file into a dictionary, \n",
    "    # where the keys are email IDs and values are birth dates.\n",
    "    student_dict = {}\n",
    "    with open(file_name, 'r') as my_file:   \n",
    "        for line in my_file:\n",
    "            line = line.rstrip('\\n')\n",
    "            columns = line.split('\\t')\n",
    "            email_id = columns[1]\n",
    "            date = columns[2]\n",
    "            student_dict[email_id] = date\n",
    "    return student_dict\n",
    "\n",
    "def process_request(student_dict):\n",
    "    email_id = input('Please enter an email ID :')\n",
    "    if email_id not in student_dict:\n",
    "        print('This is not a valid email ID.')\n",
    "    else:\n",
    "        value = student_dict[email_id]\n",
    "        print('The birthdate of this student is ' + value)\n",
    "\n",
    "student_dict = read_student_info_into_dict('students.txt')\n",
    "        \n",
    "choice = 'Y'\n",
    "while choice == 'Y':\n",
    "    process_request(student_dict)\n",
    "    choice = input('\\nDo you want to continue? [Y|N] :')\n",
    "\n",
    "print('Good-bye!')    "
   ]
  },
  {
   "cell_type": "markdown",
   "metadata": {},
   "source": [
    "#### Note:\n",
    "\n",
    "- In this exercise we don't tell you what is a good key. You have to figure this out yourself.\n",
    "- Look at the sample output: it shows that the email is the key and date of birth is the value."
   ]
  },
  {
   "cell_type": "markdown",
   "metadata": {},
   "source": [
    "#### Part (b) [ &bigstar;&bigstar;&bigstar; ]"
   ]
  },
  {
   "cell_type": "code",
   "execution_count": null,
   "metadata": {},
   "outputs": [],
   "source": [
    "# SOLUTION\n",
    "\n",
    "def read_student_info_into_dict(file_name):\n",
    "    # This function reads the file into a dictionary, \n",
    "    # where the keys are email IDs and values are tuples containing name, \n",
    "    # birth date and gender.\n",
    "    student_dict = {}\n",
    "    with open(file_name, 'r') as my_file:   \n",
    "        for line in my_file:\n",
    "            line = line.rstrip('\\n')\n",
    "            columns = line.split('\\t')\n",
    "            name = columns[0]\n",
    "            email_id = columns[1]\n",
    "            date = columns[2]\n",
    "            gender = columns[3]\n",
    "            student_dict[email_id] = (name, date, gender)\n",
    "    return student_dict\n",
    "\n",
    "def process_request(student_dict):\n",
    "    email_id = input('\\nPlease enter an email ID :')\n",
    "    \n",
    "    if email_id not in student_dict:\n",
    "        print('This is not a valid email ID.')\n",
    "    else:\n",
    "        tup = student_dict[email_id]\n",
    "        name = tup[0]\n",
    "        date = tup[1]\n",
    "        gender_letter = tup[2]\n",
    "        \n",
    "        # The following code will also work:\n",
    "        # name, date, gender_letter = student_dict[email_id]   \n",
    "        \n",
    "        # process gender_str\n",
    "        if gender_letter == 'M':\n",
    "            gender_str = 'male' \n",
    "        else:\n",
    "            gender_str = 'female'\n",
    "        \n",
    "        print('This student is ' + name + ', ' + gender_str + ' born on ' + date + '.')\n",
    "\n",
    "\n",
    "student_dict = read_student_info_into_dict('students.txt')\n",
    "\n",
    "choice = 'Y'\n",
    "while choice == 'Y':\n",
    "    process_request(student_dict)\n",
    "    choice = input('\\nDo you want to continue? [Y|N] :')\n",
    "\n",
    "print('Good-bye!')  "
   ]
  },
  {
   "cell_type": "markdown",
   "metadata": {},
   "source": [
    "### Q5: Contacts [ &bigstar;&bigstar;&bigstar; ]"
   ]
  },
  {
   "cell_type": "code",
   "execution_count": null,
   "metadata": {},
   "outputs": [],
   "source": [
    "# SOLUTION\n",
    "\n",
    "def read_into_dict(file_name):\n",
    "\n",
    "    phone_dict = {}\n",
    "\n",
    "    # read the file into a dictionary {name:number,...}\n",
    "    with open(file_name, 'r') as in_file:\n",
    "        for line in in_file:\n",
    "            line = line.rstrip('\\n')\n",
    "            columns = line.split('|')\n",
    "            name = columns[0]\n",
    "            phone_number = columns[1]\n",
    "\n",
    "            # populate the phone_dict\n",
    "            if name not in phone_dict:\n",
    "                phone_dict[name] = [phone_number]\n",
    "            else:\n",
    "                # retrieve the existing list and append the new number\n",
    "                existing_numbers = phone_dict[name]\n",
    "                existing_numbers.append(phone_number)\n",
    "                # phone_dict[name] = existing_numbers   # no need for this line. draw memory state diagram to understand why.\n",
    "    \n",
    "    return phone_dict\n",
    "\n",
    "def process_request(phone_dict):\n",
    "    name = input(\"Enter person's name:\")\n",
    "    if name not in phone_dict:\n",
    "        print(name + ' cannot be found in our database.')\n",
    "    else:\n",
    "        numbers = phone_dict[name]\n",
    "        print(name + ' has ' + str(len(numbers)) + ' numbers(s):')\n",
    "        for number in numbers:\n",
    "            print('\\t' + number)\n",
    "            \n",
    "phone_dict = read_into_dict('contacts.txt')\n",
    "process_request(phone_dict)"
   ]
  },
  {
   "cell_type": "code",
   "execution_count": null,
   "metadata": {},
   "outputs": [],
   "source": []
  }
 ],
 "metadata": {
  "kernelspec": {
   "display_name": "Python 3 (ipykernel)",
   "language": "python",
   "name": "python3"
  },
  "language_info": {
   "codemirror_mode": {
    "name": "ipython",
    "version": 3
   },
   "file_extension": ".py",
   "mimetype": "text/x-python",
   "name": "python",
   "nbconvert_exporter": "python",
   "pygments_lexer": "ipython3",
   "version": "3.9.12"
  }
 },
 "nbformat": 4,
 "nbformat_minor": 2
}
