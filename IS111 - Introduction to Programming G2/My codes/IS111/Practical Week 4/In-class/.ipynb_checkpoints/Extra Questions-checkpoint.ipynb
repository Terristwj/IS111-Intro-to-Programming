{
 "cells": [
  {
   "cell_type": "markdown",
   "id": "81aaa6d3",
   "metadata": {},
   "source": [
    "# Q1: Print Patterns (a)"
   ]
  },
  {
   "cell_type": "code",
   "execution_count": 13,
   "id": "77516843",
   "metadata": {},
   "outputs": [
    {
     "name": "stdout",
     "output_type": "stream",
     "text": [
      "Enter a postive odd number >= 5: 5\n",
      "*****\n",
      "* * *\n",
      "*****\n",
      "* * *\n",
      "*****\n"
     ]
    }
   ],
   "source": [
    "# Always n >= 5\n",
    "def print_square_1(n):\n",
    "    col = 5\n",
    "    col_counter = 1\n",
    "    \n",
    "    while col_counter <= n:\n",
    "        if col_counter == 1 or col_counter == n or col_counter == n//2 + 1:\n",
    "            for i in range(n):\n",
    "                print('*', end='')\n",
    "        else:\n",
    "            print('*', end='')\n",
    "            for i in range(2):\n",
    "                for i in range((n-3)//2):\n",
    "                    print(' ', end='')\n",
    "                print('*', end='')\n",
    "        col_counter += 1\n",
    "        print()\n",
    "    \n",
    "\n",
    "num = 0\n",
    "while(not (num>=5 and num%2)):\n",
    "    num = int(input(\"Enter a postive odd number >= 5: \"))\n",
    "\n",
    "print_square_1(num)"
   ]
  },
  {
   "cell_type": "markdown",
   "id": "d1a2d9f6",
   "metadata": {},
   "source": [
    "# Q1: Print Patterns (b)"
   ]
  },
  {
   "cell_type": "code",
   "execution_count": null,
   "id": "3e8e1b00",
   "metadata": {},
   "outputs": [],
   "source": [
    "# Always n >= 5\n",
    "def print_square_2(n):\n",
    "    col = 5\n",
    "    col_counter = 1\n",
    "    \n",
    "    while col_counter <= n:\n",
    "        if col_counter == 1 or col_counter == n or col_counter == n//2 + 1:\n",
    "            for i in range(n):\n",
    "                print('*', end='')\n",
    "        else:\n",
    "            print('*', end='')\n",
    "            for i in range(2):\n",
    "                for i in range((n-3)//2):\n",
    "                    print(' ', end='')\n",
    "                print('*', end='')\n",
    "        col_counter += 1\n",
    "        print()\n",
    "    \n",
    "\n",
    "num = 0\n",
    "while(not (num>=5 and num%2)):\n",
    "    num = int(input(\"Enter a postive odd number >= 5: \"))\n",
    "\n",
    "print_square_2(num)"
   ]
  }
 ],
 "metadata": {
  "kernelspec": {
   "display_name": "Python 3 (ipykernel)",
   "language": "python",
   "name": "python3"
  },
  "language_info": {
   "codemirror_mode": {
    "name": "ipython",
    "version": 3
   },
   "file_extension": ".py",
   "mimetype": "text/x-python",
   "name": "python",
   "nbconvert_exporter": "python",
   "pygments_lexer": "ipython3",
   "version": "3.9.12"
  }
 },
 "nbformat": 4,
 "nbformat_minor": 5
}
