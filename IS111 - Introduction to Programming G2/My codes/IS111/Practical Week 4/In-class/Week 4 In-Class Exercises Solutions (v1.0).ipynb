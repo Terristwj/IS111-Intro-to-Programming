{
 "cells": [
  {
   "cell_type": "markdown",
   "metadata": {},
   "source": [
    "<table class=\"table table-bordered\">\n",
    "    <tr>\n",
    "        <th style=\"text-align:center; width:35%\"><img src='https://drive.google.com/uc?export=view&id=1zIB3Nw_z8N2SJSSdd2yWQIsDS0MGPYKm' style=\"width: 300px; height: 90px; \"></th>\n",
    "        <th style=\"text-align:center;\"><h3>IS111 - In-Class Exercises</h3><h3>Week 4 - More on Conditions, Strings and for-Loops <br /><br />(Solutions)</h3></th>\n",
    "    </tr>\n",
    "</table>"
   ]
  },
  {
   "cell_type": "markdown",
   "metadata": {},
   "source": [
    "### Q1: Print a Message with Separators"
   ]
  },
  {
   "cell_type": "markdown",
   "metadata": {},
   "source": [
    "#### Part I [ &#9733; ]"
   ]
  },
  {
   "cell_type": "code",
   "execution_count": null,
   "metadata": {},
   "outputs": [],
   "source": [
    "# Write your code below\n",
    "\n",
    "message = input('Enter a message :')\n",
    "\n",
    "for ch in message:\n",
    "    print(ch + ' ', end='')"
   ]
  },
  {
   "cell_type": "markdown",
   "metadata": {},
   "source": [
    "#### Part II [ &#9733;&#9733; ]"
   ]
  },
  {
   "cell_type": "code",
   "execution_count": null,
   "metadata": {},
   "outputs": [],
   "source": [
    "# Write your code below\n",
    "\n",
    "message = input('Enter a message :')\n",
    "length = len(message)\n",
    "\n",
    "for i in range(length - 1):\n",
    "    print(message[i] + '-', end='')\n",
    "print(message[length - 1])\n"
   ]
  },
  {
   "cell_type": "markdown",
   "metadata": {},
   "source": [
    "#### Part III [ &#9733;&#9733; ]"
   ]
  },
  {
   "cell_type": "code",
   "execution_count": null,
   "metadata": {},
   "outputs": [],
   "source": [
    "# Write your code below\n",
    "\n",
    "def print_message_with_separators(msg, sep):\n",
    "    length = len(msg)\n",
    "\n",
    "    for i in range(length - 1):\n",
    "        print(msg[i] + sep, end='')\n",
    "    print(msg[length - 1])\n"
   ]
  },
  {
   "cell_type": "code",
   "execution_count": null,
   "metadata": {},
   "outputs": [],
   "source": [
    "# Testing code provided\n",
    "# do not modify the code below. Use it to test your function\n",
    "\n",
    "message = input('Enter a message :')\n",
    "separator = input('Enter a separator :')\n",
    "print_message_with_separators(message, separator)"
   ]
  },
  {
   "cell_type": "markdown",
   "metadata": {},
   "source": [
    "### Q2: De Morgan’s Law [ &#9733;&#9733; ]"
   ]
  },
  {
   "cell_type": "markdown",
   "metadata": {},
   "source": [
    "####  Solution\n",
    "\n",
    "<b>not ( not ( a and not b ) or ( b or not a ) ) </b>= <br />\n",
    "not ( not ( a and not b ) ) and not ( b or not a) = <br />\n",
    "not ( not a or b ) and (not b and a) = <br />\n",
    "a and not b and not b and a = <br />\n",
    "<b>a and not b</b>"
   ]
  },
  {
   "cell_type": "markdown",
   "metadata": {},
   "source": [
    "### Q3: Display Numbers [ &#9733;&#9733; ]"
   ]
  },
  {
   "cell_type": "code",
   "execution_count": null,
   "metadata": {},
   "outputs": [],
   "source": [
    "# Write your code below\n",
    "\n",
    "def display_numbers(m, n):\n",
    "    for i in range(m, n+1):\n",
    "        if i % 3 == 0 and i % 5 == 0:\n",
    "            print('# ', end='')\n",
    "        elif i % 3 == 0:\n",
    "            print('- ', end='')\n",
    "        elif i % 5 == 0:\n",
    "            print('* ', end='')\n",
    "        else:\n",
    "            print(str(i) + ' ', end='')\n",
    "    \n",
    "\n"
   ]
  },
  {
   "cell_type": "code",
   "execution_count": null,
   "metadata": {},
   "outputs": [],
   "source": [
    "# Testing code provided\n",
    "# do not modify the code below. Use it to test your function\n",
    "\n",
    "m = int(input('Enter first number :'))\n",
    "n = int(input('Enter second number :'))\n",
    "display_numbers(m, n)"
   ]
  },
  {
   "cell_type": "markdown",
   "metadata": {},
   "source": [
    "### Q4: Compute Sum [ &#9733;&#9733; ]\n",
    "\n",
    "Please use Notepad++ to work on this question."
   ]
  },
  {
   "cell_type": "markdown",
   "metadata": {},
   "source": [
    "### Q5: Palindrome [ &#9733;&#9733;&#9733;  ]\n",
    "\n",
    "Please use Notepad++ to work on this question."
   ]
  },
  {
   "cell_type": "markdown",
   "metadata": {},
   "source": [
    "### Q6: Buying Books [ &#9733;&#9733;&#9733; ]\n",
    "\n",
    "Please use Notepad++ to work on this question."
   ]
  }
 ],
 "metadata": {
  "kernelspec": {
   "display_name": "Python 3",
   "language": "python",
   "name": "python3"
  },
  "language_info": {
   "codemirror_mode": {
    "name": "ipython",
    "version": 3
   },
   "file_extension": ".py",
   "mimetype": "text/x-python",
   "name": "python",
   "nbconvert_exporter": "python",
   "pygments_lexer": "ipython3",
   "version": "3.8.8"
  }
 },
 "nbformat": 4,
 "nbformat_minor": 2
}
