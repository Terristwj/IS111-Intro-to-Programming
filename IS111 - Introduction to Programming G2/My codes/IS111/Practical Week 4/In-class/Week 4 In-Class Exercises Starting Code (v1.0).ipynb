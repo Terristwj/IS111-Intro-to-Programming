{
 "cells": [
  {
   "cell_type": "markdown",
   "metadata": {},
   "source": [
    "<table class=\"table table-bordered\">\n",
    "    <tr>\n",
    "        <th style=\"text-align:center; width:35%\"><img src='https://drive.google.com/uc?export=view&id=1zIB3Nw_z8N2SJSSdd2yWQIsDS0MGPYKm' style=\"width: 300px; height: 90px; \"></th>\n",
    "        <th style=\"text-align:center;\"><h3>IS111 - In-Class Exercises</h3><h3>Week 4 - More on Conditions, Strings and for-Loops <br /><br /> (Starting Code)</h3></th>\n",
    "    </tr>\n",
    "</table>"
   ]
  },
  {
   "cell_type": "markdown",
   "metadata": {},
   "source": [
    "### Q1: Print a Message with Separators"
   ]
  },
  {
   "cell_type": "markdown",
   "metadata": {},
   "source": [
    "#### Part I [ &#9733; ]"
   ]
  },
  {
   "cell_type": "code",
   "execution_count": 9,
   "metadata": {},
   "outputs": [
    {
     "name": "stdout",
     "output_type": "stream",
     "text": [
      "Enter a message :Hello!\n",
      "H e l l o ! "
     ]
    }
   ],
   "source": [
    "# Write your code below\n",
    "msg = input(\"Enter a message :\")\n",
    "for index in range(0, len(msg)):\n",
    "    print(msg[index], end=\" \")"
   ]
  },
  {
   "cell_type": "markdown",
   "metadata": {},
   "source": [
    "#### Part II [ &#9733;&#9733; ]"
   ]
  },
  {
   "cell_type": "code",
   "execution_count": 14,
   "metadata": {},
   "outputs": [
    {
     "name": "stdout",
     "output_type": "stream",
     "text": [
      "Enter a message :Python is fun!\n",
      "P-y-t-h-o-n- -i-s- -f-u-n-!\n"
     ]
    }
   ],
   "source": [
    "# Write your code below\n",
    "msg = input(\"Enter a message :\")\n",
    "for index in range(0, len(msg)):\n",
    "    if index != len(msg)-1:\n",
    "        print(msg[index], end=\"-\")\n",
    "    else:\n",
    "        print(msg[index])"
   ]
  },
  {
   "cell_type": "markdown",
   "metadata": {},
   "source": [
    "#### Part III [ &#9733;&#9733; ]"
   ]
  },
  {
   "cell_type": "code",
   "execution_count": 18,
   "metadata": {},
   "outputs": [],
   "source": [
    "# Write your code below\n",
    "def print_message_with_separators(msg, separator):\n",
    "    for index in range(0, len(msg)):\n",
    "        if index != len(msg)-1:\n",
    "            print(msg[index], end = separator)\n",
    "        else:\n",
    "            print(msg[index])\n"
   ]
  },
  {
   "cell_type": "code",
   "execution_count": 20,
   "metadata": {},
   "outputs": [
    {
     "name": "stdout",
     "output_type": "stream",
     "text": [
      "Enter a message :Python\n",
      "Enter a separator :/\n",
      "P/y/t/h/o/n\n"
     ]
    }
   ],
   "source": [
    "# Testing code provided\n",
    "# do not modify the code below. Use it to test your function\n",
    "\n",
    "message = input('Enter a message :')\n",
    "separator = input('Enter a separator :')\n",
    "print_message_with_separators(message, separator)"
   ]
  },
  {
   "cell_type": "markdown",
   "metadata": {},
   "source": [
    "### Q3: Display Numbers [ &#9733;&#9733; ]"
   ]
  },
  {
   "cell_type": "code",
   "execution_count": 38,
   "metadata": {},
   "outputs": [],
   "source": [
    "# Write your code below\n",
    "def display_numbers(m, n):\n",
    "#     Always -> m <= n\n",
    "    for index in range (m, n+1):\n",
    "        if index != n+1:\n",
    "            if index % 3 == 0 and index % 5 == 0:\n",
    "                ch = \"#\"\n",
    "            elif index % 3 != 0 and index % 5 == 0:\n",
    "                ch = \"*\"\n",
    "            elif index % 3 == 0 and index % 5 != 0:\n",
    "                ch = \"-\"\n",
    "            else:\n",
    "                ch = index\n",
    "                \n",
    "            print(ch, end = ' ')\n",
    "        else:\n",
    "            print(index)\n"
   ]
  },
  {
   "cell_type": "code",
   "execution_count": 39,
   "metadata": {},
   "outputs": [
    {
     "name": "stdout",
     "output_type": "stream",
     "text": [
      "Enter first number :4\n",
      "Enter second number :16\n",
      "4 * - 7 8 - * 11 - 13 14 # 16 "
     ]
    }
   ],
   "source": [
    "# Testing code provided\n",
    "# do not modify the code below. Use it to test your function\n",
    "\n",
    "m = int(input('Enter first number :'))\n",
    "n = int(input('Enter second number :'))\n",
    "display_numbers(m, n)"
   ]
  },
  {
   "cell_type": "markdown",
   "metadata": {},
   "source": [
    "### Q4: Compute Sum [ &#9733;&#9733; ]\n",
    "\n",
    "Please use Notepad++ to work on this question."
   ]
  },
  {
   "cell_type": "markdown",
   "metadata": {},
   "source": [
    "### Q5: Palindrome [ &#9733;&#9733;&#9733;  ]\n",
    "\n",
    "Please use Notepad++ to work on this question."
   ]
  },
  {
   "cell_type": "markdown",
   "metadata": {},
   "source": [
    "### Q6: Buying Books [ &#9733;&#9733;&#9733; ]\n",
    "\n",
    "Please use Notepad++ to work on this question."
   ]
  }
 ],
 "metadata": {
  "kernelspec": {
   "display_name": "Python 3 (ipykernel)",
   "language": "python",
   "name": "python3"
  },
  "language_info": {
   "codemirror_mode": {
    "name": "ipython",
    "version": 3
   },
   "file_extension": ".py",
   "mimetype": "text/x-python",
   "name": "python",
   "nbconvert_exporter": "python",
   "pygments_lexer": "ipython3",
   "version": "3.9.12"
  }
 },
 "nbformat": 4,
 "nbformat_minor": 2
}
