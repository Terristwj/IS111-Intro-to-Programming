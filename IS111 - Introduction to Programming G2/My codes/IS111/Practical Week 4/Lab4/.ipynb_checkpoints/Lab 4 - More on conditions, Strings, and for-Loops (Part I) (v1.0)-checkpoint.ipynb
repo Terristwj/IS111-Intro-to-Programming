{
 "cells": [
  {
   "cell_type": "markdown",
   "metadata": {},
   "source": [
    "<table class=\"table table-bordered\">\n",
    "    <tr>\n",
    "        <th style=\"text-align:center; width:35%\"><img src='https://drive.google.com/uc?export=view&id=1zIB3Nw_z8N2SJSSdd2yWQIsDS0MGPYKm' style=\"width: 300px; height: 90px; \"></th>\n",
    "        <th style=\"text-align:center;\"><h3>IS111 - Lab 4</h3><h3>More on Conditions, Strings and for-Loops</h3></th>\n",
    "    </tr>\n",
    "</table>"
   ]
  },
  {
   "cell_type": "markdown",
   "metadata": {},
   "source": [
    "### Q1: Number of Days in a Month [ \\* ]\n",
    "\n",
    "Write a piece of Python code that prompts the user for a month number (1 for January, 2 for February, etc.) The program then displays the number of days in that month. You can ignore leap years and assume that February always has 28 days.\n",
    "\n",
    "You can assume that the user is always going to enter an integer value. If the value is outside of the range between 1 and 12, you should display an error message.\n",
    "\n",
    "Two sample runs of the code look as follows:"
   ]
  },
  {
   "cell_type": "markdown",
   "metadata": {},
   "source": [
    "<img align=\"left\" src='https://drive.google.com/uc?export=view&id=0B3N0YMArBdSBbjdBZTI1SXJ5OVk' style=\"width: 350px\">"
   ]
  },
  {
   "cell_type": "markdown",
   "metadata": {},
   "source": [
    "<img align=\"left\" src='https://drive.google.com/uc?export=view&id=0B3N0YMArBdSBRURXWGNuejBrMHc' style=\"width: 250px\">"
   ]
  },
  {
   "cell_type": "code",
   "execution_count": null,
   "metadata": {},
   "outputs": [],
   "source": [
    "# Write your code below:\n",
    "month = int(input(\"Enter month: \"))\n",
    "while month < 1 or month > 12:\n",
    "    print(\"Enter a number between 1 and 12 only!\")\n",
    "    print()\n",
    "    month = int(input(\"Enter month: \"))\n",
    "\n",
    "months = (\"31\", \"28\", \"31\", \"30\", \"31\", \"30\", \"31\", \"31\", \"30\", \"31\", \"30\", \"31\")\n",
    "print(\"There are\", months[month-1], \"in this month.\")\n",
    "\n"
   ]
  },
  {
   "cell_type": "markdown",
   "metadata": {},
   "source": [
    "### Q2: Jackpot [ \\* ]\n",
    "\n",
    "You are given a piece of code below that generates and displays three random numbers between 0 and 9 (both included). This is to simulate a Jackpot machine.\n",
    "\n",
    "Complete the program to display one of the following messages:\n",
    "\n",
    "<ul>\n",
    "<li><b>\"Try again!\"</b> if the three numbers are all different.</li>\n",
    "<li><b>\"Two of a kind!\"</b> if there are two numbers that are the same.</li>\n",
    "<li><b>\"Jackpot!\"</b> if all three numbers are the same.</li>\n",
    "</ul>\n",
    "\n",
    "Three sample runs of the code are shown below:"
   ]
  },
  {
   "cell_type": "markdown",
   "metadata": {},
   "source": [
    "<img align=\"left\" src='https://drive.google.com/uc?export=view&id=0B3N0YMArBdSBMnhZeV9zNF8xWjA' style=\"width: 160px\">"
   ]
  },
  {
   "cell_type": "markdown",
   "metadata": {},
   "source": [
    "<img align=\"left\" src='https://drive.google.com/uc?export=view&id=0B3N0YMArBdSBalAxaUVHWWw5cFE' style=\"width: 160px\">"
   ]
  },
  {
   "cell_type": "code",
   "execution_count": null,
   "metadata": {},
   "outputs": [],
   "source": [
    "# ################################################################################\n",
    "# The following code is provided to you.\n",
    "\n",
    "import random\n",
    "num1 = random.randrange(0, 10) \n",
    "num2 = random.randrange(0, 10)\n",
    "num3 = random.randrange(0, 10)\n",
    "\n",
    "print('*****************')\n",
    "print('**', num1, '**', num2, '**', num3,'**')\n",
    "print('*****************')\n",
    "\n",
    "# ################################################################################\n",
    "# Write your code here:\n",
    "if num1 == num2 and num1 == num3:\n",
    "    print(\"Jackpot!\")\n",
    "elif num1 == num2 or num1 == num3 or num2 == num3:\n",
    "    print(\"Two of a kind!\")\n",
    "else:\n",
    "    print(\"Try again!\")\n"
   ]
  },
  {
   "cell_type": "markdown",
   "metadata": {
    "collapsed": true
   },
   "source": [
    "### Q3: Mobile Plans [ \\*\\* ]\n",
    "\n",
    "A telco company offers the following postpaid mobile plans:\n",
    "\n",
    "| plan | monthly charge | outgoing calls (mins) | local SMS/MMS | local data |\n",
    "| --- | --- | --- | --- | --- |\n",
    "| Combo 1 | \\$25.50 | 80 | 300 | 100MB |\n",
    "| Combo 2 | \\$39.50 | 200 | 500 | 2GB |\n",
    "| Combo 3 | \\$59.50 | 300 | 1000 | 3GB |\n",
    "| Combo 4 | \\$79.50 | 400 | 1500 | 4GB |\n",
    "| Combo 5 | \\$109.50 | 800 | 2000 | 10GB |\n",
    "\n",
    "What's shown on each row is the montly charge of each plan and the maximum amount of usage covered by the plan.\n",
    "\n",
    "Prompt the user for his/her requirements and help him/her find the most cost-effective postpaid plan. The recommended plan should satisfy all his/her needs.\n",
    "\n",
    "Three sample runs of the program can be found below:"
   ]
  },
  {
   "cell_type": "markdown",
   "metadata": {},
   "source": [
    "<img align=\"left\" src='https://drive.google.com/uc?export=view&id=0B3N0YMArBdSBb0toZjltbGtBZkU' style=\"width: 500px\">"
   ]
  },
  {
   "cell_type": "markdown",
   "metadata": {},
   "source": [
    "<img align=\"left\" src='https://drive.google.com/uc?export=view&id=0B3N0YMArBdSBN1BBLU5ZUEZ2UUE' style=\"width: 500px\">"
   ]
  },
  {
   "cell_type": "markdown",
   "metadata": {},
   "source": [
    "<img align=\"left\" src='https://drive.google.com/uc?export=view&id=0B3N0YMArBdSBV0FEdUI5cjZ3eVk' style=\"width: 560px\">"
   ]
  },
  {
   "cell_type": "code",
   "execution_count": null,
   "metadata": {},
   "outputs": [],
   "source": [
    "# Write your code below:\n",
    "print(\"Please tell us your monthly usage requirements.\")\n",
    "print()\n",
    "min_calls = int(input(\"What's the minimum outgoing calls (in mins) you need? \"))\n",
    "min_msg = int(input(\"What's the minimum number of SMS/MMS you need? \"))\n",
    "min_data = float(input(\"What's the minimum amount of data (in GB) you need? \"))\n",
    "\n",
    "print_msg = \"We recommend Combo \"\n",
    "\n",
    "if min_calls <= 80 and min_msg <= 300 and min_data <= 0.1:\n",
    "    print_msg += \"1\"\n",
    "elif min_calls <= 200 and min_msg <= 500 and min_data <= 2:\n",
    "    print_msg += \"2\"\n",
    "elif min_calls <= 300 and min_msg <= 1000 and min_data <= 3:\n",
    "    print_msg += \"3\"\n",
    "elif min_calls <= 400 and min_msg <= 1500 and min_data <= 4:\n",
    "    print_msg += \"4\"\n",
    "elif min_calls <= 800 and min_msg <= 2000 and min_data <= 10:\n",
    "    print_msg += \"5\"\n",
    "else:\n",
    "    print_msg = \"Sorry! We dont have any plan that satisfies your requirements.\"\n",
    "\n",
    "print(print_msg)\n"
   ]
  },
  {
   "cell_type": "markdown",
   "metadata": {},
   "source": [
    "### Q4: Message Encryption\n",
    "\n",
    "#### Part I [ \\*\\* ]\n",
    "\n",
    "Write a program that encrypts a message as follows:\n",
    "\n",
    "- All the occurrences of letter 'a' in the message are replaced by 'e'\n",
    "- All the occurrences of letter 'e' in the message are replaced by 'i'\n",
    "- All the occurrences of letter 'i' in the message are replaced by 'o'\n",
    "- All the occurrences of letter 'o' in the messsge are replaced by 'u'\n",
    "- All the occurrences of letter 'u' in the messsge are replaced by 'a'\n",
    "\n",
    "For example, suppose the original message is\n",
    "\n",
    "    This is the original message used.\n",
    "\n",
    "Then the encrypted message becomes\n",
    "\n",
    "    Thos os thi urogonel missegi asid.\n",
    "\n",
    "A sample run of the program is shown below:"
   ]
  },
  {
   "cell_type": "markdown",
   "metadata": {},
   "source": [
    "### <img align=\"left\" src='https://drive.google.com/uc?export=view&id=0B3N0YMArBdSBZ2doZ3Z4T3NGYzA' style=\"width: 500px\">"
   ]
  },
  {
   "cell_type": "code",
   "execution_count": null,
   "metadata": {},
   "outputs": [],
   "source": [
    "# Write your code below:\n",
    "msg = input(\"What's the original message? \")\n",
    "new_msg = \"\"\n",
    "\n",
    "for ch in msg:\n",
    "    if ch == 'a':\n",
    "        new_msg += 'e'\n",
    "    elif ch == 'e':\n",
    "        new_msg += 'i'\n",
    "    elif ch == 'i':\n",
    "        new_msg += 'o'\n",
    "    elif ch == 'o':\n",
    "        new_msg += 'u'\n",
    "    elif ch == 'u':\n",
    "        new_msg += 'a'\n",
    "    else:\n",
    "        new_msg += ch\n",
    "        \n",
    "print(\"The encrypted message is '\" + new_msg + \"'\")\n"
   ]
  },
  {
   "cell_type": "markdown",
   "metadata": {},
   "source": [
    "#### Part II [ \\*\\* ]\n",
    "\n",
    "Can you modify the program above such that the message is not only encrypted as described above but also reversed character by character?\n",
    "\n",
    "For example, suppose the original message is\n",
    "\n",
    "    This is the original message used.\n",
    "\n",
    "Then the final output is the following:\n",
    "\n",
    "    .disa igessim lenogoru iht so sohT\n",
    "    \n",
    "A sample run of the modified program is as follows:"
   ]
  },
  {
   "cell_type": "markdown",
   "metadata": {},
   "source": [
    "<img align=\"left\" src='https://drive.google.com/uc?export=view&id=0B3N0YMArBdSBclhuYzNfTWs1ZE0' style=\"width: 700px\">"
   ]
  },
  {
   "cell_type": "code",
   "execution_count": null,
   "metadata": {},
   "outputs": [],
   "source": [
    "# Write your code below:\n",
    "# Write your code below:\n",
    "msg = input(\"What's the original message? \")[::-1]\n",
    "new_msg = \"\"\n",
    "\n",
    "for ch in msg:\n",
    "    if ch == 'a':\n",
    "        new_msg += 'e'\n",
    "    elif ch == 'e':\n",
    "        new_msg += 'i'\n",
    "    elif ch == 'i':\n",
    "        new_msg += 'o'\n",
    "    elif ch == 'o':\n",
    "        new_msg += 'u'\n",
    "    elif ch == 'u':\n",
    "        new_msg += 'a'\n",
    "    else:\n",
    "        new_msg += ch\n",
    "        \n",
    "print(\"The encrypted message is '\" + new_msg + \"'\")\n"
   ]
  },
  {
   "cell_type": "markdown",
   "metadata": {},
   "source": [
    "### Q5: Message Padding [ \\*\\*\\* ]"
   ]
  },
  {
   "cell_type": "markdown",
   "metadata": {},
   "source": [
    "Define a function called `pad_message`.\n",
    "\n",
    "The function takes in two parameters:\n",
    "\n",
    "    msg (type: str): This is a string representing a message.\n",
    "    width (type: int): This is a number indicating the final length of the returned padded message.\n",
    "\n",
    "The function <b>returns</b> a new string whose length is `width`, the second parameter. If the original message is shorter than `width`, then spaces are padded to the left of the message . If the original message is longer than `width`, then the original message is truncated on the right hand side to fit into the specified `width`.\n",
    "\n",
    "For example, if the message is `\"IS111 Lab 5\"`, which contains 11 characters, and if the specified width is `20`, then this function returns `\"         IS111 Lab 5\"`.\n",
    "If the message is the same but the specified width is `8`, then this function returns `\"IS111 La\"`, which consists of the first 8 characters of the original message."
   ]
  },
  {
   "cell_type": "code",
   "execution_count": null,
   "metadata": {},
   "outputs": [],
   "source": [
    "# Write your function definition below:\n",
    "def pad_message(msg, width):\n",
    "    if len(msg) < width:\n",
    "        return ' ' * (width - len(msg)) + msg\n",
    "    if len(msg) > width:\n",
    "        return msg[:width]\n",
    "    return msg"
   ]
  },
  {
   "cell_type": "markdown",
   "metadata": {},
   "source": [
    "Run the code below to see if you get the following expected output:\n",
    "\n",
    "\n",
    "             IS111 Lab 5\n",
    "    IS111 La\n",
    "\n",
    "                   hello\n",
    "      python programming\n",
    "    Hello World! I enjoy\n"
   ]
  },
  {
   "cell_type": "code",
   "execution_count": null,
   "metadata": {},
   "outputs": [],
   "source": [
    "# This is the test code provided to you.\n",
    "# DO NOT MODIFY THE CODE!\n",
    "\n",
    "print(pad_message(\"IS111 Lab 5\", 20))\n",
    "print(pad_message(\"IS111 Lab 5\", 8))\n",
    "print(pad_message(\"hello\", 20))\n",
    "print(pad_message(\"python programming\", 20))\n",
    "print(pad_message(\"Hello World! I enjoy programming in Python.\", 20))"
   ]
  },
  {
   "cell_type": "markdown",
   "metadata": {},
   "source": [
    "### Q6: Shopping Cart\n",
    "\n",
    "#### Part A [ \\*\\* ]\n",
    "\n",
    "Recall that in Lab 2 there was a question related to discounted items. In that exercise, you have implemented the following function:"
   ]
  },
  {
   "cell_type": "code",
   "execution_count": 1,
   "metadata": {},
   "outputs": [],
   "source": [
    "# This code is provided to you. DO NOT MODIFY THE CODE!\n",
    "def calculate_price_after_discount(unit_price, quantity, discount_rate):\n",
    "    \"\"\"\n",
    "    This function takes in the unit price, quantity and discount rate of an item.\n",
    "    It returns the total price after discount for the item.\n",
    "    Parameters:\n",
    "        - unit_price (float): The unit price of the item.\n",
    "        - quantity (int): The quantity of the item being purchased.\n",
    "        - discount_rate (float): The percentage of discount. E.g., if there's a 10% discount, \n",
    "                then discount_rate is set to 10.\n",
    "    Return:\n",
    "        - The total price of the item with the specified quantity after discount.\n",
    "    \"\"\"\n",
    "    return (unit_price * quantity * (1 - discount_rate/100))"
   ]
  },
  {
   "cell_type": "markdown",
   "metadata": {},
   "source": [
    "Now we will make use of the function above and write a program that helps a customer to check out her items in her shopping cart at a self-checkout counter in a supermarket.\n",
    "\n",
    "The program first asks the customer how many items the customer wants to check out. The program then prompts the user for the details of each item, including its unit price, its quantity being purchased, whether or not it has a discount, and how much the discount is if there's a discount.\n",
    "\n",
    "For example, suppose the customer's shopping cart contains the following items:\n",
    "\n",
    "description | unit_price | quantity | discount \n",
    "--- | --- | --- | ---\n",
    "milk | \\$5.95 | 2 | 10%\n",
    "rice | \\$6.50 | 1 | 5%\n",
    "eggs |  \\$2.40 | 2 | 0%\n",
    "kaya |  \\$3.95 | 3 | 15%\n",
    "\n",
    "The program will run as follows:"
   ]
  },
  {
   "cell_type": "markdown",
   "metadata": {},
   "source": [
    "<img align=\"left\" src='https://drive.google.com/uc?export=view&id=0B3N0YMArBdSBWHVWd2xNVEVwSW8' style=\"width: 500px\">"
   ]
  },
  {
   "cell_type": "markdown",
   "metadata": {},
   "source": [
    "<b>Note:</b>\n",
    "\n",
    "- You may wish to use `round(x, 2)` to round the number `x` to contain two decimal places after the decimal point when you display the final total amount.\n",
    "\n",
    "- The shopping cart may change and your program should be able to handle a different shopping cart. I.e., you should not hard code any information such as the number of items, unit prices, quantities, discount rates, etc."
   ]
  },
  {
   "cell_type": "code",
   "execution_count": 11,
   "metadata": {},
   "outputs": [
    {
     "name": "stdout",
     "output_type": "stream",
     "text": [
      "How many items do you want to check out? 4\n",
      "Enter the details of Item 1:\n",
      "\tWhat's this item? milk\n",
      "\tWhat's the unit price of this item? $5.95\n",
      "\tWhat's the quantity of this item? 2\n",
      "\tDoes this item have any discount? [yes|no] yes\n",
      "\tWhat's the percentage of discount (%)? 10\n",
      "Enter the details of Item 2:\n",
      "\tWhat's this item? rice\n",
      "\tWhat's the unit price of this item? $6.5\n",
      "\tWhat's the quantity of this item? 1\n",
      "\tDoes this item have any discount? [yes|no] yes\n",
      "\tWhat's the percentage of discount (%)? 5\n",
      "Enter the details of Item 3:\n",
      "\tWhat's this item? eggs\n",
      "\tWhat's the unit price of this item? $2.4\n",
      "\tWhat's the quantity of this item? 2\n",
      "\tDoes this item have any discount? [yes|no] no\n",
      "Enter the details of Item 4:\n",
      "\tWhat's this item? kaya\n",
      "\tWhat's the unit price of this item? $3.95\n",
      "\tWhat's the quantity of this item? 3\n",
      "\tDoes this item have any discount? [yes|no] yes\n",
      "\tWhat's the percentage of discount (%)? 15\n",
      "The total amount you have to pay is $31.76\n"
     ]
    }
   ],
   "source": [
    "# Write your solution below:\n",
    "num_items = int(input(\"How many items do you want to check out? \"))\n",
    "total_amount = 0\n",
    "for i in range(1, num_items+1):\n",
    "    print(\"Enter the details of Item \" + str(i) + \":\")\n",
    "    item = input(\"\\tWhat's this item? \")\n",
    "    unit_price = float(input(\"\\tWhat's the unit price of this item? $\"))\n",
    "    qty = int(input(\"\\tWhat's the quantity of this item? \"))\n",
    "    discount_percent = 0\n",
    "    if input(\"\\tDoes this item have any discount? [yes|no] \") == \"yes\":\n",
    "        discount_percent = int(input(\"\\tWhat's the percentage of discount (%)? \"))\n",
    "    total_amount += calculate_price_after_discount(unit_price, qty, discount_percent)\n",
    "    \n",
    "print(\"The total amount you have to pay is $\" + str(round(total_amount, 2)))"
   ]
  },
  {
   "cell_type": "markdown",
   "metadata": {},
   "source": [
    "#### Part B [ \\*\\*\\* ]\n",
    "\n",
    "Modify your code above to also display the total amount of savings the customer has got, i.e., the difference between the original total price and the total price after discount.\n",
    "\n",
    "<b>Note</b>:\n",
    "\n",
    "- You may wish to write a second version of the function we give you earlier (call it `calculate_price_after_discount2`) such that it returns both the price after discount and the savings.\n",
    "\n",
    "A sample run of the modified program can be found below:"
   ]
  },
  {
   "cell_type": "markdown",
   "metadata": {},
   "source": [
    "<img align=\"left\" src='https://drive.google.com/uc?export=view&id=0B3N0YMArBdSBdTNnNmIzSVhQZG8' style=\"width: 500px\">"
   ]
  },
  {
   "cell_type": "code",
   "execution_count": 12,
   "metadata": {},
   "outputs": [
    {
     "name": "stdout",
     "output_type": "stream",
     "text": [
      "How many items do you want to check out? 2\n",
      "Enter the details of Item 1:\n",
      "\tWhat's this item? milk\n",
      "\tWhat's the unit price of this item? $5.95\n",
      "\tWhat's the quantity of this item? 2\n",
      "\tDoes this item have any discount? [yes|no] yes\n",
      "\tWhat's the percentage of discount (%)? 10\n"
     ]
    },
    {
     "ename": "TypeError",
     "evalue": "'float' object is not subscriptable",
     "output_type": "error",
     "traceback": [
      "\u001b[1;31m---------------------------------------------------------------------------\u001b[0m",
      "\u001b[1;31mTypeError\u001b[0m                                 Traceback (most recent call last)",
      "Input \u001b[1;32mIn [12]\u001b[0m, in \u001b[0;36m<cell line: 9>\u001b[1;34m()\u001b[0m\n\u001b[0;32m     16\u001b[0m         discount_percent \u001b[38;5;241m=\u001b[39m \u001b[38;5;28mint\u001b[39m(\u001b[38;5;28minput\u001b[39m(\u001b[38;5;124m\"\u001b[39m\u001b[38;5;130;01m\\t\u001b[39;00m\u001b[38;5;124mWhat\u001b[39m\u001b[38;5;124m'\u001b[39m\u001b[38;5;124ms the percentage of discount (\u001b[39m\u001b[38;5;124m%\u001b[39m\u001b[38;5;124m)? \u001b[39m\u001b[38;5;124m\"\u001b[39m))\n\u001b[0;32m     17\u001b[0m     before_after_price \u001b[38;5;241m=\u001b[39m calculate_price_after_discount(unit_price, qty, discount_percent)\n\u001b[1;32m---> 18\u001b[0m     total_amount_before \u001b[38;5;241m+\u001b[39m\u001b[38;5;241m=\u001b[39m \u001b[43mbefore_after_price\u001b[49m\u001b[43m[\u001b[49m\u001b[38;5;241;43m0\u001b[39;49m\u001b[43m]\u001b[49m\n\u001b[0;32m     19\u001b[0m     total_amount_after \u001b[38;5;241m+\u001b[39m\u001b[38;5;241m=\u001b[39m before_after_price[\u001b[38;5;241m1\u001b[39m]\n\u001b[0;32m     21\u001b[0m \u001b[38;5;28mprint\u001b[39m(\u001b[38;5;124m\"\u001b[39m\u001b[38;5;124mThe total amount you have to pay is $\u001b[39m\u001b[38;5;124m\"\u001b[39m \u001b[38;5;241m+\u001b[39m \u001b[38;5;28mstr\u001b[39m(\u001b[38;5;28mround\u001b[39m(total_amount, \u001b[38;5;241m2\u001b[39m)))\n",
      "\u001b[1;31mTypeError\u001b[0m: 'float' object is not subscriptable"
     ]
    }
   ],
   "source": [
    "# Write your solution below:\n",
    "def calculate_price_after_discount2(unit_price, quantity, discount_rate):\n",
    "    return (unit_price * quantity, unit_price * quantity * (1 - discount_rate/100))\n",
    "    \n",
    "num_items = int(input(\"How many items do you want to check out? \"))\n",
    "total_amount_before = 0\n",
    "total_amount_after = 0\n",
    "\n",
    "for i in range(1, num_items+1):\n",
    "    print(\"Enter the details of Item \" + str(i) + \":\")\n",
    "    item = input(\"\\tWhat's this item? \")\n",
    "    unit_price = float(input(\"\\tWhat's the unit price of this item? $\"))\n",
    "    qty = int(input(\"\\tWhat's the quantity of this item? \"))\n",
    "    discount_percent = 0\n",
    "    if input(\"\\tDoes this item have any discount? [yes|no] \") == \"yes\":\n",
    "        discount_percent = int(input(\"\\tWhat's the percentage of discount (%)? \"))\n",
    "    before_after_price = calculate_price_after_discount2(unit_price, qty, discount_percent)\n",
    "    total_amount_before += before_after_price[0]\n",
    "    total_amount_after += before_after_price[1]\n",
    "    \n",
    "print(\"The total amount you have to pay is $\" + str(round(total_amount, 2)))\n",
    "print(\"You have saved $\" + str(round(total_amount_before - total_amount_after, 2)))"
   ]
  },
  {
   "cell_type": "code",
   "execution_count": null,
   "metadata": {},
   "outputs": [],
   "source": []
  }
 ],
 "metadata": {
  "kernelspec": {
   "display_name": "Python 3 (ipykernel)",
   "language": "python",
   "name": "python3"
  },
  "language_info": {
   "codemirror_mode": {
    "name": "ipython",
    "version": 3
   },
   "file_extension": ".py",
   "mimetype": "text/x-python",
   "name": "python",
   "nbconvert_exporter": "python",
   "pygments_lexer": "ipython3",
   "version": "3.9.12"
  }
 },
 "nbformat": 4,
 "nbformat_minor": 2
}
