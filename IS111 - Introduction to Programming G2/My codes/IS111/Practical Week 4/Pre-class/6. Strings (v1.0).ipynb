{
 "cells": [
  {
   "cell_type": "markdown",
   "metadata": {},
   "source": [
    "<table class=\"table table-bordered\">\n",
    "    <tr>\n",
    "        <th style=\"text-align:center; width:35%\"><img src='https://drive.google.com/uc?export=view&id=1zIB3Nw_z8N2SJSSdd2yWQIsDS0MGPYKm' style=\"width: 300px; height: 90px; \"></th>\n",
    "        <th style=\"text-align:center;\"><h3>IS111 - Notebook 6</h3><h2>Strings</h2></th>\n",
    "    </tr>\n",
    "</table>"
   ]
  },
  {
   "cell_type": "markdown",
   "metadata": {},
   "source": [
    "## Learning Outcomes\n",
    "\n",
    "At the end of this lesson, you should be able to:\n",
    "<ul>\n",
    "    <li> Access individual characters in strings using <code>[ ]</code>.</li>\n",
    "    <li> Understand what an <code>IndexError</code> is.</li>\n",
    "    <li> Understand that strings are immutable.</li>\n",
    "    <li> Extract substrings using slicing.</li>\n",
    "    <li> Use <code>in</code> to check if a character or a string is inside another string.</li>\n",
    "    <li> Use a <b>for-loop</b> to iterate through the characters inside a string.</li>\n",
    "    <li> Use the following string methods: <code>upper()</code>, <code>lower()</code>, <code>find()</code> and <code>split()</code>.</li>\n",
    "</ul>\n",
    "\n",
    "In this notebook we look at the `str` (string) data type in more detail.\n",
    "\n",
    "## I. Review of String Basics\n",
    "\n",
    "Recall that a string is a sequence of characters. We usually create strings simply by enclosing characters in single quotes or double quotes. We can concatenate two strings using the `+` operator.\n",
    "\n",
    "Below are some sample code to remind you of the basic usage of strings."
   ]
  },
  {
   "cell_type": "code",
   "execution_count": 2,
   "metadata": {},
   "outputs": [
    {
     "name": "stdout",
     "output_type": "stream",
     "text": [
      "Hello World!\n",
      "Fun with Python!\n",
      "Today is Ben's birthday.\n",
      "The title of the book is \"Peter Pan\".\n",
      "Hello World! Fun with Python!\n"
     ]
    }
   ],
   "source": [
    "s1 = 'Hello World!'\n",
    "s2 = \"Fun with Python!\"\n",
    "s3 = \"Today is Ben's birthday.\"\n",
    "s4 = 'The title of the book is \"Peter Pan\".'\n",
    "s5 = s1 + ' ' + s2\n",
    "\n",
    "print(s1)\n",
    "print(s2)\n",
    "print(s3)\n",
    "print(s4)\n",
    "print(s5)"
   ]
  },
  {
   "cell_type": "markdown",
   "metadata": {},
   "source": [
    "Also recall that we can use `==` and `!=` to compare whether two strings are the same or not. The sample code below shows some examples:"
   ]
  },
  {
   "cell_type": "code",
   "execution_count": 3,
   "metadata": {},
   "outputs": [
    {
     "name": "stdout",
     "output_type": "stream",
     "text": [
      "Do you want to play a game? (Please answer Yes or No.) Yes\n",
      "Let's start the game.\n"
     ]
    }
   ],
   "source": [
    "answer = input(\"Do you want to play a game? (Please answer Yes or No.) \")\n",
    "if answer == \"Yes\":\n",
    "    print(\"Let's start the game.\")\n",
    "else:\n",
    "    print(\"Good-bye!\")"
   ]
  },
  {
   "cell_type": "markdown",
   "metadata": {},
   "source": [
    "## II. Accessing Individual Characters of a String\n",
    "\n",
    "Previously we have seen that for tuples, which are also sequences, we can use square brackets `[ ]` to access individual elements inside.\n",
    "\n",
    "Strings are also sequences. Similarly, we can also use square brackets to access the individual characters inside a string.\n",
    "\n",
    "Upon creation, each character of a string is placed at an <b>index</b> starting from 0 and ending at the length of the string minus 1, as shown in the picture below for the string \"MY NAME IS\":"
   ]
  },
  {
   "cell_type": "markdown",
   "metadata": {},
   "source": [
    "<img align=\"left\" src='https://drive.google.com/uc?export=view&id=0B3N0YMArBdSBdUF2b2dkS1dMS0U' style=\"width: 1000px\">"
   ]
  },
  {
   "cell_type": "markdown",
   "metadata": {},
   "source": [
    "Based on the picture below, what do you think the following code will print?"
   ]
  },
  {
   "cell_type": "code",
   "execution_count": 4,
   "metadata": {},
   "outputs": [
    {
     "name": "stdout",
     "output_type": "stream",
     "text": [
      "N\n",
      "E\n"
     ]
    }
   ],
   "source": [
    "s = 'MY NAME IS'\n",
    "print(s[3])\n",
    "print(s[6])"
   ]
  },
  {
   "cell_type": "markdown",
   "metadata": {},
   "source": [
    "### Length of a String\n",
    "\n",
    "To find out the length of a string, we can use the `len()` built-in function from Python. For example, we can use the following code to get the length of the string `s` defined above:"
   ]
  },
  {
   "cell_type": "code",
   "execution_count": 5,
   "metadata": {},
   "outputs": [
    {
     "name": "stdout",
     "output_type": "stream",
     "text": [
      "10\n"
     ]
    }
   ],
   "source": [
    "l = len(s)\n",
    "print(l)"
   ]
  },
  {
   "cell_type": "markdown",
   "metadata": {},
   "source": [
    "### IndexError\n",
    "\n",
    "What if we use an index that is outside of the range of valid indices for a string?"
   ]
  },
  {
   "cell_type": "code",
   "execution_count": 6,
   "metadata": {},
   "outputs": [
    {
     "ename": "IndexError",
     "evalue": "string index out of range",
     "output_type": "error",
     "traceback": [
      "\u001b[1;31m---------------------------------------------------------------------------\u001b[0m",
      "\u001b[1;31mIndexError\u001b[0m                                Traceback (most recent call last)",
      "Input \u001b[1;32mIn [6]\u001b[0m, in \u001b[0;36m<cell line: 1>\u001b[1;34m()\u001b[0m\n\u001b[1;32m----> 1\u001b[0m \u001b[38;5;28mprint\u001b[39m(\u001b[43ms\u001b[49m\u001b[43m[\u001b[49m\u001b[38;5;241;43m10\u001b[39;49m\u001b[43m]\u001b[49m)\n",
      "\u001b[1;31mIndexError\u001b[0m: string index out of range"
     ]
    }
   ],
   "source": [
    "print(s[10])"
   ]
  },
  {
   "cell_type": "markdown",
   "metadata": {},
   "source": [
    "We can see that the code above generates an `IndexError`. This is because we try to access the character with index 10 within s, but the largest index for s is 9."
   ]
  },
  {
   "cell_type": "markdown",
   "metadata": {},
   "source": [
    "### Strings Are Immutable\n",
    "\n",
    "Similar to tuples, strings are also immutable, which means we cannot change any character inside a string.\n",
    "\n",
    "Run the following code and see what happens:"
   ]
  },
  {
   "cell_type": "code",
   "execution_count": 7,
   "metadata": {},
   "outputs": [
    {
     "ename": "TypeError",
     "evalue": "'str' object does not support item assignment",
     "output_type": "error",
     "traceback": [
      "\u001b[1;31m---------------------------------------------------------------------------\u001b[0m",
      "\u001b[1;31mTypeError\u001b[0m                                 Traceback (most recent call last)",
      "Input \u001b[1;32mIn [7]\u001b[0m, in \u001b[0;36m<cell line: 1>\u001b[1;34m()\u001b[0m\n\u001b[1;32m----> 1\u001b[0m s[\u001b[38;5;241m0\u001b[39m] \u001b[38;5;241m=\u001b[39m \u001b[38;5;124m'\u001b[39m\u001b[38;5;124mm\u001b[39m\u001b[38;5;124m'\u001b[39m\n",
      "\u001b[1;31mTypeError\u001b[0m: 'str' object does not support item assignment"
     ]
    }
   ],
   "source": [
    "s[0] = 'm'"
   ]
  },
  {
   "cell_type": "markdown",
   "metadata": {},
   "source": [
    "We can see the same error message that says `'str' object does not support item assignment`. This means elements inside a string (i.e., characters) cannot be modified."
   ]
  },
  {
   "cell_type": "markdown",
   "metadata": {},
   "source": [
    "## III. Slicing to Extract Substrings\n",
    "\n",
    "Besides accessing a single character from a string, we can also use a special operation called <b>slicing</b> to access a consecutive sequence of characters within a given string, or in other words, a substring of a given string. To do this, we simply need to specify the beginning and the end indices of the substring to be extracted.\n",
    "\n",
    "Specifically, we can use `[m:n]` on a string to return the part of the string from the <b>`m`'th character</b> to the <b>`n`'th character</b>, <u>including</u> the `m`'th character but <u>excluding</u> the `n`'th character.\n",
    "\n",
    "The following code shows some examples of slicing:"
   ]
  },
  {
   "cell_type": "code",
   "execution_count": 8,
   "metadata": {},
   "outputs": [
    {
     "name": "stdout",
     "output_type": "stream",
     "text": [
      "m\n",
      "ma\n",
      "ngo\n"
     ]
    }
   ],
   "source": [
    "fruit = \"mango\"\n",
    "\n",
    "substring1 = fruit[0:1]\n",
    "substring2 = fruit[0:2]\n",
    "substring3 = fruit[2:5]\n",
    "\n",
    "print(substring1)\n",
    "print(substring2)  \n",
    "print(substring3) "
   ]
  },
  {
   "cell_type": "markdown",
   "metadata": {},
   "source": [
    "### Step\n",
    "\n",
    "Besides the start and the end indicies (`m` and `n` in the description above), optionally, we can also provide a third number called a <b>step</b> to specify how many \"steps\" to skip ahead when extracting the characters.\n",
    "\n",
    "For example, by `s[0:10:2]`, we are extracting the characters inside the string `s` at positions `0`, `2`, `4`, `6` and `8`.\n",
    "By `s[0:10:3]`, we are extracting the characters inside the string `s` at positions `0`, `3`, `6` and `9`.\n",
    "\n",
    "Run the code below to understand how step works:"
   ]
  },
  {
   "cell_type": "code",
   "execution_count": 9,
   "metadata": {},
   "outputs": [
    {
     "name": "stdout",
     "output_type": "stream",
     "text": [
      "abcdefghij\n",
      "acegi\n",
      "adgj\n"
     ]
    }
   ],
   "source": [
    "s = 'abcdefghijklmn'\n",
    "\n",
    "print(s[0:10])\n",
    "print(s[0:10:2])\n",
    "print(s[0:10:3])"
   ]
  },
  {
   "cell_type": "markdown",
   "metadata": {},
   "source": [
    "### Negative step\n",
    "\n",
    "Step could be a negative integer. However, when you use a negative step value, your `m` and `n` (i.e., start and end indices) need to be reversed, that is, `m` should be greater than `n`, because you are traversing the string backwords. Again, character at position `m` is <u>included</u> but character at position `n` is <u>excluded</u>.\n",
    "\n",
    "See the example below:"
   ]
  },
  {
   "cell_type": "code",
   "execution_count": 9,
   "metadata": {},
   "outputs": [
    {
     "name": "stdout",
     "output_type": "stream",
     "text": [
      "gfedcb\n",
      "gec\n",
      "gfedcba\n"
     ]
    }
   ],
   "source": [
    "s = 'abcdefg'\n",
    "print(s[6:0:-1])\n",
    "print(s[6:0:-2])\n",
    "print(s[::-1])"
   ]
  },
  {
   "cell_type": "markdown",
   "metadata": {},
   "source": [
    "Note that if you want to <b>include</b> the character at position 0, you can leave out the value for `n` when using a negative step, as shown below:"
   ]
  },
  {
   "cell_type": "code",
   "execution_count": 19,
   "metadata": {},
   "outputs": [
    {
     "name": "stdout",
     "output_type": "stream",
     "text": [
      "gfedcba\n",
      "geca\n"
     ]
    }
   ],
   "source": [
    "s = 'abcdefg'\n",
    "\n",
    "print(s[6::-1])\n",
    "print(s[6::-2])"
   ]
  },
  {
   "cell_type": "markdown",
   "metadata": {},
   "source": [
    "## IV. Reverse a String\n",
    "\n",
    "The most common use of a negative step is to reverse a string. If we'd like to reverse a string, we can apply <b>[::-1]</b> to the string, as shown in the following code. By not providing the values of the start and the end indices, we use the default values of start and end, and in this case, slicing will take the entire string and skip backwords to extract the characters one by one."
   ]
  },
  {
   "cell_type": "code",
   "execution_count": 14,
   "metadata": {},
   "outputs": [
    {
     "name": "stdout",
     "output_type": "stream",
     "text": [
      "stressed\n",
      "desserts\n"
     ]
    }
   ],
   "source": [
    "word = \"stressed\"\n",
    "reversed_word = word[::-1]\n",
    "\n",
    "print(word)\n",
    "print(reversed_word)"
   ]
  },
  {
   "cell_type": "markdown",
   "metadata": {
    "collapsed": true
   },
   "source": [
    "## V. Use `in` to Check Existence of a Character or a Substring inside a String"
   ]
  },
  {
   "cell_type": "markdown",
   "metadata": {},
   "source": [
    "If we'd like to check if a character or a string appears in another string, we can do the following:"
   ]
  },
  {
   "cell_type": "code",
   "execution_count": 15,
   "metadata": {},
   "outputs": [
    {
     "name": "stdout",
     "output_type": "stream",
     "text": [
      "'a' is in the string.\n",
      "'ab' is in the string.\n"
     ]
    }
   ],
   "source": [
    "s = 'abcdefg'\n",
    "\n",
    "if ('a' in s):\n",
    "    print(\"'a' is in the string.\")\n",
    "\n",
    "if ('z' in s):\n",
    "    print(\"'z' is in the string.\")\n",
    "\n",
    "if ('ab' in s):\n",
    "    print(\"'ab' is in the string.\")\n",
    "\n",
    "if ('ac' in s):\n",
    "    print(\"'ac' is in the string.\")"
   ]
  },
  {
   "cell_type": "markdown",
   "metadata": {},
   "source": [
    "Here `in` is an operator that checks if the string on the left can be found in the string on the right."
   ]
  },
  {
   "cell_type": "markdown",
   "metadata": {},
   "source": [
    "## VI. Iterate through a String\n",
    "\n",
    "We are now going to learn a very useful kind of statements in Python: <b>for-loops</b>. We will start by using a for-loop to iterate through a string.\n",
    "\n",
    "Take a look at the following code and observe what it does:"
   ]
  },
  {
   "cell_type": "code",
   "execution_count": 16,
   "metadata": {},
   "outputs": [
    {
     "name": "stdout",
     "output_type": "stream",
     "text": [
      "current value of ch: S\n",
      "current value of ch: M\n",
      "current value of ch: U\n",
      "current value of ch:  \n",
      "current value of ch: S\n",
      "current value of ch: I\n",
      "current value of ch: S\n"
     ]
    }
   ],
   "source": [
    "my_str = \"SMU SIS\"\n",
    "for ch in my_str:\n",
    "    print(\"current value of ch: \" + ch)"
   ]
  },
  {
   "cell_type": "markdown",
   "metadata": {},
   "source": [
    "Basically, Line 2 above sets up a <b>for-loop</b> that goes through all the characters inside the string called `my_str` one by one, using the variable `ch` to store these characters. At any point of time, `ch` stores a particular character inside `my_str`. Line 3 is the <b>body</b> of the for-loop. It defines what is to be done with the current value of `ch`.\n",
    "\n",
    "You can see that although we have only a single line of `print()` statement in Line 3, the code has multiple lines of output. In other words, Line 3 is being executed <b>repeatedly</b>. This is the effect of a for-loop."
   ]
  },
  {
   "cell_type": "markdown",
   "metadata": {},
   "source": [
    "<img align=\"left\" src='https://drive.google.com/uc?export=view&id=0B08uY8vosNfobDBuOXVXQWVxMFE' style=\"width: 60px; height: 60px;\"><br />Let's do an exercise !"
   ]
  },
  {
   "cell_type": "markdown",
   "metadata": {},
   "source": [
    "Modify the for-loop below such that the characters inside `my_str` is printed out one by one, separated by spaces, but whenever the letter `'S'` is encountered, an asterisk (`*`) is used to replace it. So for the code below, when you run it, you should see\n",
    "\n",
    "`* M U   * I * `  \n",
    "\n",
    "as the output."
   ]
  },
  {
   "cell_type": "code",
   "execution_count": 17,
   "metadata": {},
   "outputs": [
    {
     "name": "stdout",
     "output_type": "stream",
     "text": [
      "S M U   S I S "
     ]
    }
   ],
   "source": [
    "my_str = \"SMU SIS\"\n",
    "for ch in my_str:\n",
    "    # Modify the code below to produce the output you see above.\n",
    "    print(ch, end=' ')"
   ]
  },
  {
   "cell_type": "markdown",
   "metadata": {},
   "source": [
    "## VII. String Methods\n",
    "\n",
    "There are many other pre-defined actions we can perform on strings. These are often in the form of string <b>methods</b>.\n",
    "\n",
    "Method is a concept very similar to function. We have introduced functions before. We know that a function defines a sequence of actions that collectively perform a task. Methods are similar to functions except that methods must be applied to a piece of data of a particular data type. For example, methods defined for the `str` data type have to be applied to a `str` value.\n",
    "\n",
    "The example code below shows how a method called `lower()` can be used:"
   ]
  },
  {
   "cell_type": "code",
   "execution_count": 18,
   "metadata": {},
   "outputs": [
    {
     "name": "stdout",
     "output_type": "stream",
     "text": [
      "Singapore Management University\n",
      "singapore management university\n"
     ]
    }
   ],
   "source": [
    "name = \"Singapore Management University\"\n",
    "name_in_lowercase = name.lower()\n",
    "\n",
    "print(name)\n",
    "print(name_in_lowercase)"
   ]
  },
  {
   "cell_type": "markdown",
   "metadata": {},
   "source": [
    "We can see that to call a method we need to use a dot (`.`) to connect the string that the method is applied to and the name of the method followed by a pair of parentheses. \n",
    "\n",
    "Methods can also take arguments, in the same way as functions taking arguments. Similarly, methods can return values just like functions.\n",
    "\n",
    "In the example above, the method `lower()` returns a new string that is the original string changed into lowercases.\n",
    "\n",
    "The table below shows a few commonly used useful methods for strings:\n",
    "\n",
    "<table class=\"table table-bordered\">\n",
    "<tr>\n",
    "<th style=\"text-align:center; width:10%\">Method</th>\n",
    "<th style=\"text-align:center; width:17%\">Usage</th>\n",
    "<th style=\"text-align:center; width:45%\">Description</th>\n",
    "<th style=\"text-align:center;\">Example</th>\n",
    "</tr>\n",
    "<tr>\n",
    "<td style=\"text-align:center;\"><b>upper</b></td>\n",
    "<td style=\"text-align:center;\">upper()</td>\n",
    "<td style=\"text-align:left;\">Returns a <b>copy</b> of the string with all its characters in uppercase.</td>\n",
    "<td>'Hello World'.upper()<br/>returns 'HELLO WORLD'</td>\n",
    "</tr>\n",
    "<tr>\n",
    "<td style=\"text-align:center;\"><b>lower</b></td>\n",
    "<td style=\"text-align:center;\">lower()</td>\n",
    "<td style=\"text-align:left;\">Returns a <b>copy</b> of the string with all its characters in lowercase.</td>\n",
    "<td>'Hello World'.lower()<br/>returns 'hello world'</td>\n",
    "</tr>\n",
    "<tr>\n",
    "<td style=\"text-align:center;\"><b>find</b></td>\n",
    "<td style=\"text-align:center;\">find(substr)</td>\n",
    "<td style=\"text-align:left;\">Returns the <b>lowest index</b> in the string where substring <b>substr</b> is found. Returns <b>-1</b> if <b>substr</b> is not found.</td>\n",
    "<td>'banana'.find('an')<br />\n",
    "returns 1<br /><br />\n",
    "'banana'.find('e')<br />\n",
    "returns -1\n",
    "</td>\n",
    "</tr>\n",
    "<tr>\n",
    "<td style=\"text-align:center;\"><b>split</b></td>\n",
    "<td style=\"text-align:center;\">split([sep])</td>\n",
    "<td style=\"text-align:left;\">Returns a list of the words in the string, using <b>sep</b> as the delimiter string. If the delimiter <b>sep</b> is not provided, then the delimiter by default is a space.</td>\n",
    "<td>'Rain is coming'.split()<br />\n",
    "returns ['Rain', 'is', 'coming']<br /><br />\n",
    "'one&#8727;two&#8727;three&#8727;four'.split('&#8727;')<br />\n",
    "returns ['one', 'two', 'three', 'four']</td>\n",
    "</tr>\n",
    "</table>\n"
   ]
  },
  {
   "cell_type": "markdown",
   "metadata": {},
   "source": [
    "Run the code below to observe how `find()` and `split()` work:"
   ]
  },
  {
   "cell_type": "code",
   "execution_count": 19,
   "metadata": {},
   "outputs": [
    {
     "name": "stdout",
     "output_type": "stream",
     "text": [
      "1\n"
     ]
    }
   ],
   "source": [
    "s = 'SMU SIS'\n",
    "index = s.find('M')\n",
    "print(index)"
   ]
  },
  {
   "cell_type": "markdown",
   "metadata": {},
   "source": [
    "We see that the code prints `1` because `M` appears at position `1` inside the string `s`."
   ]
  },
  {
   "cell_type": "code",
   "execution_count": 20,
   "metadata": {},
   "outputs": [
    {
     "name": "stdout",
     "output_type": "stream",
     "text": [
      "['SMU', 'School', 'of', 'Information', 'Systems']\n"
     ]
    }
   ],
   "source": [
    "s = 'SMU School of Information Systems'\n",
    "print(s.split())"
   ]
  },
  {
   "cell_type": "markdown",
   "metadata": {},
   "source": [
    "We see that `s.split()` above returns a <b>list</b> of strings. We will learn about lists in a later week."
   ]
  },
  {
   "cell_type": "markdown",
   "metadata": {},
   "source": [
    "### String Methods Do Not Modify Strings\n",
    "\n",
    "You can see that the methods `lower()` and `upper()` create copies of the original strings with the necessary changes. They cannot modify the original strings, because strings are immutable."
   ]
  },
  {
   "cell_type": "code",
   "execution_count": null,
   "metadata": {},
   "outputs": [],
   "source": []
  }
 ],
 "metadata": {
  "kernelspec": {
   "display_name": "Python 3 (ipykernel)",
   "language": "python",
   "name": "python3"
  },
  "language_info": {
   "codemirror_mode": {
    "name": "ipython",
    "version": 3
   },
   "file_extension": ".py",
   "mimetype": "text/x-python",
   "name": "python",
   "nbconvert_exporter": "python",
   "pygments_lexer": "ipython3",
   "version": "3.9.12"
  }
 },
 "nbformat": 4,
 "nbformat_minor": 2
}
