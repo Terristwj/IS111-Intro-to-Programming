{
 "cells": [
  {
   "cell_type": "markdown",
   "metadata": {},
   "source": [
    "### Q1: Input Validation"
   ]
  },
  {
   "cell_type": "markdown",
   "metadata": {},
   "source": [
    "#### a) [ &#9733; ]"
   ]
  },
  {
   "cell_type": "code",
   "execution_count": null,
   "metadata": {},
   "outputs": [],
   "source": [
    "# SOLUTION\n",
    "\n",
    "age = int(input(\"Enter your age (between 0 and 100, both inclusive): \"))\n",
    "\n",
    "while not (age >= 0 and age <= 100) :\n",
    "    print(\"Please enter a valid age!\")\n",
    "    age = int(input(\"Enter your age again: \"))\n",
    "\n",
    "print(\"Thanks!\")"
   ]
  },
  {
   "cell_type": "code",
   "execution_count": null,
   "metadata": {},
   "outputs": [],
   "source": [
    "# SOLUTION - after applying De Morgan's Law\n",
    "\n",
    "age = int(input(\"Enter your age (between 0 and 100, both inclusive): \"))\n",
    "\n",
    "while age < 0 or age > 100 :\n",
    "    print(\"Please enter a valid age!\")\n",
    "    age = int(input(\"Enter your age again: \"))\n",
    "\n",
    "print(\"Thanks!\")"
   ]
  },
  {
   "cell_type": "markdown",
   "metadata": {},
   "source": [
    "#### b) [ &#9733; ]"
   ]
  },
  {
   "cell_type": "code",
   "execution_count": null,
   "metadata": {},
   "outputs": [],
   "source": [
    "# SOLUTION 1\n",
    "\n",
    "answer = input(\"Are you a student? \")\n",
    "\n",
    "while not (answer=='YES' or answer=='Yes' or answer=='yes' or answer=='NO' or answer=='No' or answer=='no'):\n",
    "    print(\"Please enter a valid answer (YES, Yes, yes, NO, No or no).\")\n",
    "    answer = input(\"Are you a student? \")\n",
    "\n",
    "print(\"Got it!\")"
   ]
  },
  {
   "cell_type": "code",
   "execution_count": null,
   "metadata": {},
   "outputs": [],
   "source": [
    "# SOLUTION 2 - after applying De Morgan's Law\n",
    "\n",
    "answer = input(\"Are you a student? \")\n",
    "\n",
    "while answer!='YES' and answer!='Yes' and answer!='yes' and answer!='NO' and answer!='No' and answer!='no':\n",
    "    print(\"Please enter a valid answer (YES, Yes, yes, NO, No or no).\")\n",
    "    answer = input(\"Are you a student? \")\n",
    "\n",
    "print(\"Got it!\")"
   ]
  },
  {
   "cell_type": "code",
   "execution_count": null,
   "metadata": {},
   "outputs": [],
   "source": [
    "# SOLUTION 3\n",
    "\n",
    "answer = input(\"Are you a student? \")\n",
    "\n",
    "valid_answers = ['YES', 'Yes', 'yes', 'NO', 'No', 'no']\n",
    "\n",
    "while not (answer in valid_answers):\n",
    "    print(\"Please enter a valid answer (YES, Yes, yes, NO, No or no).\")\n",
    "    answer = input(\"Are you a student? \")\n",
    "\n",
    "print(\"Got it!\")"
   ]
  },
  {
   "cell_type": "markdown",
   "metadata": {},
   "source": [
    "#### c) [ &#9733;&#9733; ]"
   ]
  },
  {
   "cell_type": "code",
   "execution_count": null,
   "metadata": {},
   "outputs": [],
   "source": [
    "# SOLUTION - Partial\n",
    "\n",
    "def is_valid_name(name):\n",
    "    return True\n",
    "\n",
    "name = input(\"Enter your name: \")\n",
    "\n",
    "while not is_valid_name(name):  \n",
    "    print(\"Please enter a valid name!\")\n",
    "    name = input(\"Enter your name: \")\n",
    "    \n",
    "print(\"Thank you!\")"
   ]
  },
  {
   "cell_type": "code",
   "execution_count": null,
   "metadata": {},
   "outputs": [],
   "source": [
    "# Note: \n",
    "# Put the function definition on top of the file! \n",
    "# Don't put function definitions in the middle of the code"
   ]
  },
  {
   "cell_type": "code",
   "execution_count": null,
   "metadata": {},
   "outputs": [],
   "source": [
    "# SOLUTION 1\n",
    "\n",
    "def is_valid_name(name):\n",
    "    alphabet = 'abcdefghijklmnopqrstuvwxyz'    \n",
    "    for ch in name:\n",
    "        if not (ch == ' ' or ch.lower() in alphabet):\n",
    "            return False\n",
    "    return True\n",
    "\n",
    "name = input(\"Enter your name: \")\n",
    "\n",
    "while not is_valid_name(name):  \n",
    "    print(\"Please enter a valid name!\")\n",
    "    name = input(\"Enter your name: \")\n",
    "    \n",
    "print(\"Thank you!\")"
   ]
  },
  {
   "cell_type": "code",
   "execution_count": null,
   "metadata": {},
   "outputs": [],
   "source": [
    "# SOLUTION 2\n",
    "\n",
    "def is_valid_name(name): \n",
    "    for ch in name:\n",
    "        if not (ch == ' ' or ch.isalpha()):\n",
    "            return False\n",
    "    return True\n",
    "\n",
    "name = input(\"Enter your name: \")\n",
    "\n",
    "while not is_valid_name(name):  \n",
    "    print(\"Please enter a valid name!\")\n",
    "    name = input(\"Enter your name: \")\n",
    "    \n",
    "print(\"Thank you!\")"
   ]
  },
  {
   "cell_type": "code",
   "execution_count": null,
   "metadata": {},
   "outputs": [],
   "source": [
    "# Note: Generally, don't use isalpha() on a string unless you know what you're doing.\n",
    "# For this question, it is wrong to use name.isalpha() because if name contains a space, \n",
    "# then name.isalpha() returns False.\n",
    "\n",
    "name = 'George Washington'\n",
    "print(name.isalpha())"
   ]
  },
  {
   "cell_type": "markdown",
   "metadata": {},
   "source": [
    "### Q2: Integers [ &#9733;&#9733; ]"
   ]
  },
  {
   "cell_type": "code",
   "execution_count": null,
   "metadata": {},
   "outputs": [],
   "source": [
    "# SOLUTION - Partial 1\n",
    "\n",
    "num = int(input('Enter a number: '))\n",
    "\n",
    "# Store odd positive integers into a list.\n",
    "odd_num_list = []\n",
    "\n",
    "while not (num < 0):\n",
    "    if num % 2 == 1:\n",
    "        odd_num_list.append(num)\n",
    "    num = int(input('Enter a number: '))\n",
    "\n",
    "print('\\nThanks!')\n"
   ]
  },
  {
   "cell_type": "code",
   "execution_count": null,
   "metadata": {},
   "outputs": [],
   "source": [
    "# Be careful that the last negative number should not be included in the list, even if it is odd.\n",
    "# So be careful about when you prompt the user for a number and when you add the number to the list."
   ]
  },
  {
   "cell_type": "code",
   "execution_count": null,
   "metadata": {},
   "outputs": [],
   "source": [
    "# SOLUTION - Partial 2\n",
    "\n",
    "num = int(input('Enter a number: '))\n",
    "odd_num_list = []\n",
    "\n",
    "while not (num < 0):\n",
    "    if num % 2 == 1:\n",
    "        odd_num_list.append(num)\n",
    "    num = int(input('Enter a number: '))\n",
    "\n",
    "print('\\nThanks!')\n",
    "print('The odd positive integers you have entered are the following:')\n",
    "\n",
    "# Print the odd numbers\n",
    "for i in range(0, len(odd_num_list)):\n",
    "    print(str(odd_num_list[i]) + ', ', end='')\n"
   ]
  },
  {
   "cell_type": "code",
   "execution_count": null,
   "metadata": {},
   "outputs": [],
   "source": [
    "# SOLUTION - Final\n",
    "\n",
    "num = int(input('Enter a number: '))\n",
    "odd_num_list = []\n",
    "\n",
    "while not (num < 0):\n",
    "    if num % 2 == 1:\n",
    "        odd_num_list.append(num)\n",
    "    num = int(input('Enter a number: '))\n",
    "\n",
    "print('\\nThanks!')\n",
    "print('The odd positive integers you have entered are the following:')\n",
    "\n",
    "# Print the odd numbers \n",
    "# Also handle the special case when the list is empty\n",
    "if odd_num_list != []:\n",
    "    for i in range(0, len(odd_num_list)-1):\n",
    "        print(str(odd_num_list[i]) + ', ', end='')\n",
    "\n",
    "    print(odd_num_list[len(odd_num_list)-1])"
   ]
  },
  {
   "cell_type": "markdown",
   "metadata": {},
   "source": [
    "### Q3: Voucher [ &#9733;&#9733; ]"
   ]
  },
  {
   "cell_type": "code",
   "execution_count": null,
   "metadata": {},
   "outputs": [],
   "source": [
    "# SOLUTION 1 - Partial\n",
    "\n",
    "# We use the amount_left to determine whether to prompt the user for another book\n",
    "amount_left = 100.0\n",
    "\n",
    "price = float(input(\"Please pick a book. How much is it (in $)? \"))\n",
    "amount_left -= price\n",
    "\n",
    "while amount_left > 0:\n",
    "    print(\"You still have $\" + str(amount_left) + \" left.\")\n",
    "    price = float(input(\"Please pick another book. How much is it (in $)? \"))\n",
    "    amount_left -= price\n",
    "\n",
    "print(\"You are done!\")"
   ]
  },
  {
   "cell_type": "code",
   "execution_count": null,
   "metadata": {},
   "outputs": [],
   "source": [
    "# SOLUTION 1 - Final\n",
    "\n",
    "# We use the amount_left to determine whether to prompt the user for another book\n",
    "amount_left = 100.0\n",
    "\n",
    "price = float(input(\"Please pick a book. How much is it (in $)? \"))\n",
    "amount_left -= price\n",
    "\n",
    "while amount_left > 0:\n",
    "    print(\"You still have $\" + str(amount_left) + \" left.\")\n",
    "    price = float(input(\"Please pick another book. How much is it (in $)? \"))\n",
    "    amount_left -= price\n",
    "\n",
    "# The total price can be computed using amount_left\n",
    "total = 100.0 - amount_left\n",
    "    \n",
    "print()\n",
    "print(\"You are done!\")\n",
    "print(\"The total price is $\" + str(total))\n"
   ]
  },
  {
   "cell_type": "code",
   "execution_count": null,
   "metadata": {},
   "outputs": [],
   "source": [
    "# SOLUTION 2 - Final\n",
    "\n",
    "# We use the total_price to determine whether to prompt the user for another book\n",
    "total_price = 0.0\n",
    "\n",
    "price = float(input(\"Please pick a book. How much is it (in $)? \"))\n",
    "total_price += price\n",
    "\n",
    "while total_price < 100.0:\n",
    "    # The remaining amount can be calculated from the total price\n",
    "    amount_left = 100.0 - total_price\n",
    "    print(\"You still have $\" + str(amount_left) + \" left.\")\n",
    "    price = float(input(\"Please pick another book. How much is it (in $)? \"))\n",
    "    total_price += price\n",
    "    \n",
    "print()\n",
    "print(\"You are done!\")\n",
    "print(\"The total price is $\" + str(total_price))\n"
   ]
  },
  {
   "cell_type": "markdown",
   "metadata": {},
   "source": [
    "### Q4: Reset PIN"
   ]
  },
  {
   "cell_type": "markdown",
   "metadata": {},
   "source": [
    "### Part a) [ &#9733;&#9733; ]"
   ]
  },
  {
   "cell_type": "code",
   "execution_count": null,
   "metadata": {},
   "outputs": [],
   "source": [
    "# SOLUTION 1 - Partial\n",
    "\n",
    "def is_valid(pin1, pin2):\n",
    "    return True\n",
    "\n",
    "pin1 = input('Enter your new PIN: ')\n",
    "pin2 = input('Confirm your new PIN: ')\n",
    "\n",
    "while not (is_valid(pin1, pin2)):\n",
    "    print('Sorry! There is an error!')\n",
    "    pin1 = input('\\nEnter your new PIN: ')\n",
    "    pin2 = input('Confirm your new PIN: ')\n",
    "    \n",
    "print('\\nThanks! Your new PIN has been set!')\n"
   ]
  },
  {
   "cell_type": "code",
   "execution_count": null,
   "metadata": {},
   "outputs": [],
   "source": [
    "# SOLUTION 1 - Final\n",
    "\n",
    "def is_valid(pin1, pin2):\n",
    "    if pin1 != pin2:\n",
    "        return False\n",
    "    \n",
    "    if(len(pin1) != 6):\n",
    "        return False\n",
    "\n",
    "    for ch in pin1:\n",
    "        if ch not in '0123456789':\n",
    "            return False\n",
    "    return True\n",
    "\n",
    "pin1 = input('Enter your new PIN: ')\n",
    "pin2 = input('Confirm your new PIN: ')\n",
    "\n",
    "while not(is_valid(pin1, pin2)):\n",
    "    print('Sorry! There is an error!')\n",
    "    pin1 = input('\\nEnter your new PIN: ')\n",
    "    pin2 = input('Confirm your new PIN: ')\n",
    "    \n",
    "print('\\nThanks! Your new PIN has been set!')\n"
   ]
  },
  {
   "cell_type": "code",
   "execution_count": null,
   "metadata": {},
   "outputs": [],
   "source": [
    "# SOLUTION 2\n",
    "\n",
    "def is_valid(pin):\n",
    "    if(len(pin) != 6):\n",
    "        return False\n",
    "    for ch in pin:\n",
    "        if ch not in '0123456789':\n",
    "            return False\n",
    "    return True\n",
    "\n",
    "new_pin_1 = input('Enter your new PIN: ')\n",
    "new_pin_2 = input('Confirm your new PIN: ')\n",
    "\n",
    "while not(new_pin_1 == new_pin_2 and is_valid(new_pin_1)):\n",
    "    print('Sorry! There is an error!')\n",
    "    new_pin_1 = input('\\nEnter your new PIN: ')\n",
    "    new_pin_2 = input('Confirm your new PIN: ')\n",
    "    \n",
    "print('\\nThanks! Your new PIN has been set!')\n"
   ]
  },
  {
   "cell_type": "code",
   "execution_count": null,
   "metadata": {},
   "outputs": [],
   "source": [
    "# SOLUTION 3 - Simplification of SOLUTION 2\n",
    "\n",
    "def is_valid(pin):\n",
    "    if(len(pin) != 6):\n",
    "        return False  \n",
    "    # Note: the isdigit() method returns True if all the characters are digits, otherwise False.\n",
    "    return pin.isdigit()\n",
    "\n",
    "new_pin_1 = input('Enter your new PIN: ')\n",
    "new_pin_2 = input('Confirm your new PIN: ')\n",
    "\n",
    "while not(new_pin_1 == new_pin_2 and is_valid(new_pin_1)):\n",
    "    print('Sorry! There is an error!')\n",
    "    new_pin_1 = input('\\nEnter your new PIN: ')\n",
    "    new_pin_2 = input('Confirm your new PIN: ')\n",
    "    \n",
    "print('\\nThanks! Your new PIN has been set!')\n"
   ]
  },
  {
   "cell_type": "markdown",
   "metadata": {},
   "source": [
    "### Part b) [ &#9733;&#9733;&#9733; ]"
   ]
  },
  {
   "cell_type": "code",
   "execution_count": null,
   "metadata": {},
   "outputs": [],
   "source": [
    "# SOLUTION - Partial\n",
    "\n",
    "def is_valid(pin1, pin2): \n",
    "    return []\n",
    "\n",
    "def print_errors(error_messages):\n",
    "    pass\n",
    "\n",
    "new_pin_1 = input('Enter your new PIN: ')\n",
    "new_pin_2 = input('Confirm your new PIN: ')\n",
    "error_messages = is_valid(new_pin_1,new_pin_2)\n",
    "\n",
    "while not(len(error_messages) == 0):\n",
    "    print('Sorry! The following errors are detected:')\n",
    "    print_errors(error_messages)\n",
    "    \n",
    "    new_pin_1 = input('\\nEnter your new PIN: ')\n",
    "    new_pin_2 = input('Confirm your new PIN: ')\n",
    "    error_messages = is_valid(new_pin_1, new_pin_2)\n",
    "    \n",
    "print('\\nThanks! Your new PIN has been set!')\n"
   ]
  },
  {
   "cell_type": "code",
   "execution_count": null,
   "metadata": {},
   "outputs": [],
   "source": [
    "# SOLUTION - Final\n",
    "\n",
    "def is_valid(pin1, pin2): \n",
    "    all_error_messages = [\n",
    "        'The PIN number is too long.',\n",
    "        'The PIN number is too short.',\n",
    "        'The PIN number contains a non-digit character.',\n",
    "        'The second PIN doesn’t match the first PIN.'\n",
    "        ]\n",
    "    error_messages = []\n",
    "    if(len(pin1) > 6):\n",
    "        error_messages.append(all_error_messages[0])\n",
    "    if(len(pin1) < 6):\n",
    "        error_messages.append(all_error_messages[1])\n",
    "    if not pin1.isdigit():\n",
    "        error_messages.append(all_error_messages[2])\n",
    "    if(pin1 != pin2):\n",
    "        error_messages.append(all_error_messages[3])\n",
    "    return error_messages\n",
    "\n",
    "def print_errors(error_messages):\n",
    "    for error_msg in error_messages:\n",
    "        print('\\t- ' + error_msg)\n",
    "\n",
    "new_pin_1 = input('Enter your new PIN: ')\n",
    "new_pin_2 = input('Confirm your new PIN: ')\n",
    "error_messages = is_valid(new_pin_1,new_pin_2)\n",
    "\n",
    "while not(len(error_messages) == 0):\n",
    "    print('Sorry! The following errors are detected:')\n",
    "    print_errors(error_messages)\n",
    "    \n",
    "    new_pin_1 = input('\\nEnter your new PIN: ')\n",
    "    new_pin_2 = input('Confirm your new PIN: ')\n",
    "    error_messages = is_valid(new_pin_1, new_pin_2)\n",
    "    \n",
    "print('\\nThanks! Your new PIN has been set!')\n"
   ]
  },
  {
   "cell_type": "code",
   "execution_count": null,
   "metadata": {},
   "outputs": [],
   "source": []
  }
 ],
 "metadata": {
  "kernelspec": {
   "display_name": "Python 3 (ipykernel)",
   "language": "python",
   "name": "python3"
  },
  "language_info": {
   "codemirror_mode": {
    "name": "ipython",
    "version": 3
   },
   "file_extension": ".py",
   "mimetype": "text/x-python",
   "name": "python",
   "nbconvert_exporter": "python",
   "pygments_lexer": "ipython3",
   "version": "3.7.4"
  }
 },
 "nbformat": 4,
 "nbformat_minor": 2
}
