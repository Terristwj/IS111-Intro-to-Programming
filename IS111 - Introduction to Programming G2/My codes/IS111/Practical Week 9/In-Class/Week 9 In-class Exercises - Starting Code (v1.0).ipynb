{
 "cells": [
  {
   "cell_type": "markdown",
   "metadata": {},
   "source": [
    "<table class=\"table table-bordered\">\n",
    "    <tr>\n",
    "        <th style=\"text-align:center; width:35%\"><img src='https://drive.google.com/uc?export=view&id=1zIB3Nw_z8N2SJSSdd2yWQIsDS0MGPYKm' style=\"width: 300px; height: 90px; \"></th>\n",
    "        <th style=\"text-align:center;\"><h3>IS111 - In-Class Exercises Starting Code</h3><h3>Week 9</h3></th>\n",
    "    </tr>\n",
    "</table>"
   ]
  },
  {
   "cell_type": "markdown",
   "metadata": {},
   "source": [
    "### Q1: Input Validation"
   ]
  },
  {
   "cell_type": "markdown",
   "metadata": {},
   "source": [
    "#### a) [ &#9733; ]"
   ]
  },
  {
   "cell_type": "code",
   "execution_count": 1,
   "metadata": {},
   "outputs": [
    {
     "name": "stdout",
     "output_type": "stream",
     "text": [
      "Enter your age (between 0 and 100, both inclusive:-9\n",
      "Please enter a valide age!\n",
      "Enter your age (between 0 and 100, both inclusive:119\n",
      "Please enter a valide age!\n",
      "Enter your age (between 0 and 100, both inclusive:29\n",
      "Thanks!\n"
     ]
    }
   ],
   "source": [
    "# Put your code below\n",
    "age = int(input(\"Enter your age (between 0 and 100, both inclusive:\"))\n",
    "while age < 0 or age > 100:\n",
    "    print(\"Please enter a valide age!\")\n",
    "    age = int(input(\"Enter your age (between 0 and 100, both inclusive:\"))\n",
    "print(\"Thanks!\")\n"
   ]
  },
  {
   "cell_type": "markdown",
   "metadata": {},
   "source": [
    "#### b) [ &#9733; ]"
   ]
  },
  {
   "cell_type": "code",
   "execution_count": 4,
   "metadata": {},
   "outputs": [
    {
     "name": "stdout",
     "output_type": "stream",
     "text": [
      "Are you a student?yes!\n",
      "Please enter a valid answer (YES, Yes, yes, NO, No or no).\n",
      "Are you a student?YEs\n",
      "Please enter a valid answer (YES, Yes, yes, NO, No or no).\n",
      "Are you a student?Yes\n",
      "Got it!\n"
     ]
    }
   ],
   "source": [
    "# Put your code below\n",
    "valid_answers = [\"YES\", \"Yes\", \"yes\", \"NO\", \"No\"]\n",
    "\n",
    "student = input(\"Are you a student?\")\n",
    "while student not in valid_answers:\n",
    "    print(\"Please enter a valid answer (YES, Yes, yes, NO, No or no).\")\n",
    "    student = input(\"Are you a student?\")\n",
    "print(\"Got it!\")"
   ]
  },
  {
   "cell_type": "markdown",
   "metadata": {},
   "source": [
    "#### c) [ &#9733;&#9733; ]"
   ]
  },
  {
   "cell_type": "code",
   "execution_count": 13,
   "metadata": {},
   "outputs": [
    {
     "name": "stdout",
     "output_type": "stream",
     "text": [
      "Enter your name: John Smith!\n",
      "Please enter a valid name!\n",
      "Enter your name: John\n",
      "Thank you!\n"
     ]
    }
   ],
   "source": [
    "# Put your code below\n",
    "def is_valid(name, valid_char):\n",
    "    for ch in name:\n",
    "#         print(ch)\n",
    "#         print(ch not in valid_char)\n",
    "        if ch.lower() not in valid_char:\n",
    "            return False\n",
    "    return True\n",
    "\n",
    "valid_char = \"abcdefghijklmnopqrstuvwxyz \"\n",
    "name = input(\"Enter your name: \")\n",
    "\n",
    "# print(is_valid)\n",
    "while not is_valid(name, valid_char):\n",
    "    print(\"Please enter a valid name!\")\n",
    "    name = input(\"Enter your name: \")\n",
    "    \n",
    "print(\"Thank you!\")"
   ]
  },
  {
   "cell_type": "markdown",
   "metadata": {},
   "source": [
    "### Q2: Integers [ &#9733;&#9733; ]"
   ]
  },
  {
   "cell_type": "code",
   "execution_count": 34,
   "metadata": {},
   "outputs": [
    {
     "name": "stdout",
     "output_type": "stream",
     "text": [
      "Enter an integer:7\n",
      "Enter an integer:10\n",
      "Enter an integer:51\n",
      "Enter an integer:93\n",
      "Enter an integer:0\n",
      "Enter an integer:-9\n",
      "\n",
      "Thanks!\n",
      "The odd positive integers you have entered are the following:\n",
      "7, 51, 93\n"
     ]
    }
   ],
   "source": [
    "# Put your code below\n",
    "def is_odd_pos(mylist):\n",
    "    if number > 0 and number % 2 == 1:\n",
    "        odd_pos_list.append(number)\n",
    "\n",
    "odd_pos_list = []\n",
    "number = int(input(\"Enter an integer:\"))\n",
    "is_odd_pos(odd_pos_list)\n",
    "    \n",
    "\n",
    "while number>-1:\n",
    "    number = int(input(\"Enter an integer:\"))\n",
    "    is_odd_pos(odd_pos_list)\n",
    "\n",
    "print()\n",
    "print(\"Thanks!\")\n",
    "print(\"The odd positive integers you have entered are the following:\")\n",
    "for num in odd_pos_list:\n",
    "    if odd_pos_list[-1] != num:\n",
    "        print(num, end=\", \")\n",
    "    else:\n",
    "        print(num)"
   ]
  },
  {
   "cell_type": "markdown",
   "metadata": {},
   "source": [
    "### Q3: Voucher [ &#9733;&#9733; ]"
   ]
  },
  {
   "cell_type": "code",
   "execution_count": 23,
   "metadata": {},
   "outputs": [
    {
     "name": "stdout",
     "output_type": "stream",
     "text": [
      "Please pick a book. How much is it (in $)?10\n",
      "You still have $90.0 left.\n",
      "Please pick a book. How much is it (in $)?15.5\n",
      "You still have $74.5 left.\n",
      "Please pick a book. How much is it (in $)?53.5\n",
      "You still have $21.0 left.\n",
      "Please pick a book. How much is it (in $)?10\n",
      "You still have $11.0 left.\n",
      "Please pick a book. How much is it (in $)?12\n",
      "\n",
      "You are done!\n",
      "The total price is $101.0\n"
     ]
    }
   ],
   "source": [
    "# Put your code below\n",
    "wallet = 100.0\n",
    "total_spend = 0.0\n",
    "\n",
    "price = float(input(\"Please pick a book. How much is it (in $)?\"))\n",
    "wallet -= price\n",
    "total_spend += price\n",
    "\n",
    "while wallet > 0:\n",
    "    print(\"You still have $\" + str(wallet) + \" left.\")\n",
    "    price = float(input(\"Please pick a book. How much is it (in $)?\"))\n",
    "    wallet -= price\n",
    "    total_spend += price\n",
    "\n",
    "print()\n",
    "print(\"You are done!\")\n",
    "print(\"The total price is $\" + str(total_spend))"
   ]
  },
  {
   "cell_type": "markdown",
   "metadata": {},
   "source": [
    "### Q4: Reset PIN"
   ]
  },
  {
   "cell_type": "markdown",
   "metadata": {},
   "source": [
    "### a) [ &#9733;&#9733; ]"
   ]
  },
  {
   "cell_type": "code",
   "execution_count": 29,
   "metadata": {},
   "outputs": [
    {
     "name": "stdout",
     "output_type": "stream",
     "text": [
      "Enter your new PIN: 123456\n",
      "Confirm your new PIN: 12345\n",
      "Sorry! There is an error!\n",
      "\n",
      "Enter your new PIN: 1234567\n",
      "Confirm your new PIN: 1234567\n",
      "Sorry! There is an error!\n",
      "\n",
      "Enter your new PIN: 12345a\n",
      "Confirm your new PIN: 12345a\n",
      "Sorry! There is an error!\n",
      "\n",
      "Enter your new PIN: 123456\n",
      "Confirm your new PIN: 123456\n",
      "Thanks! Your new PIN has been set!\n"
     ]
    }
   ],
   "source": [
    "# Put your code below\n",
    "def is_valid_pin(pin, pin2):\n",
    "    if pin.isdigit() and len(pin) == 6 and pin == pin2:\n",
    "        return True\n",
    "    return False\n",
    "\n",
    "pin = input(\"Enter your new PIN: \")\n",
    "confirm_pin = input(\"Confirm your new PIN: \")\n",
    "\n",
    "if not is_valid_pin(pin, confirm_pin):\n",
    "    print(\"Sorry! There is an error!\")\n",
    "    print()\n",
    "\n",
    "while not is_valid_pin(pin, confirm_pin):\n",
    "    pin = input(\"Enter your new PIN: \")\n",
    "    confirm_pin = input(\"Confirm your new PIN: \")\n",
    "    if not is_valid_pin(pin, confirm_pin):\n",
    "        print(\"Sorry! There is an error!\")\n",
    "        print()\n",
    "\n",
    "print()\n",
    "print(\"Thanks! Your new PIN has been set!\")"
   ]
  },
  {
   "cell_type": "markdown",
   "metadata": {},
   "source": [
    "### b) [ &#9733;&#9733;&#9733; ]"
   ]
  },
  {
   "cell_type": "code",
   "execution_count": 33,
   "metadata": {},
   "outputs": [
    {
     "name": "stdout",
     "output_type": "stream",
     "text": [
      "Enter your new PIN: 345a\n",
      "Confirm your new PIN: 123456\n",
      "Sorry! There is an error!\n",
      "\t-The PIN number is too short.\n",
      "\t-The PIN number contains a non-digit character.\n",
      "\t-The second PIN doesn't match the first PIN.\n",
      "\n",
      "Enter your new PIN: 123456\n",
      "Confirm your new PIN: 123456\n",
      "\n",
      "Thanks! Your new PIN has been set!\n"
     ]
    }
   ],
   "source": [
    "# Put your code below\n",
    "def is_valid_pin(pin, pin2):\n",
    "    if pin.isdigit() and len(pin) == 6 and pin == pin2:\n",
    "        return True\n",
    "    return False\n",
    "\n",
    "def print_errors(pin, pin2):\n",
    "    print(\"Sorry! There is an error!\")\n",
    "    if len(pin) > 6:\n",
    "        print(\"\\t-The PIN number is too long.\")\n",
    "    if len(pin) < 6:\n",
    "        print(\"\\t-The PIN number is too short.\")\n",
    "    if not pin.isdigit():\n",
    "        print(\"\\t-The PIN number contains a non-digit character.\")\n",
    "    if pin != pin2:\n",
    "        print(\"\\t-The second PIN doesn't match the first PIN.\")\n",
    "    print()\n",
    "\n",
    "pin = input(\"Enter your new PIN: \")\n",
    "confirm_pin = input(\"Confirm your new PIN: \")\n",
    "\n",
    "if not is_valid_pin(pin, confirm_pin):\n",
    "    print_errors(pin, confirm_pin)\n",
    "\n",
    "while not is_valid_pin(pin, confirm_pin):\n",
    "    pin = input(\"Enter your new PIN: \")\n",
    "    confirm_pin = input(\"Confirm your new PIN: \")\n",
    "    if not is_valid_pin(pin, confirm_pin):\n",
    "        print_errors(pin, confirm_pin)\n",
    "\n",
    "print()\n",
    "print(\"Thanks! Your new PIN has been set!\")"
   ]
  },
  {
   "cell_type": "code",
   "execution_count": null,
   "metadata": {},
   "outputs": [],
   "source": []
  }
 ],
 "metadata": {
  "kernelspec": {
   "display_name": "Python 3 (ipykernel)",
   "language": "python",
   "name": "python3"
  },
  "language_info": {
   "codemirror_mode": {
    "name": "ipython",
    "version": 3
   },
   "file_extension": ".py",
   "mimetype": "text/x-python",
   "name": "python",
   "nbconvert_exporter": "python",
   "pygments_lexer": "ipython3",
   "version": "3.9.12"
  },
  "vscode": {
   "interpreter": {
    "hash": "2043299c89c8cd0b4d1a6f5cf4529bd58e6a4e0fe3181a25e0d328c821cdc5c5"
   }
  }
 },
 "nbformat": 4,
 "nbformat_minor": 2
}
