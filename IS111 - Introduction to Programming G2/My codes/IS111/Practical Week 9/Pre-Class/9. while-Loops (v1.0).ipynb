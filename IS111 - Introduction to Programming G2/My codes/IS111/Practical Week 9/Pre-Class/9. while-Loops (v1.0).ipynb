{
 "cells": [
  {
   "cell_type": "markdown",
   "metadata": {},
   "source": [
    "<table class=\"table table-bordered\">\n",
    "    <tr>\n",
    "        <th style=\"text-align:center; width:35%\"><img src='https://drive.google.com/uc?export=view&id=1zIB3Nw_z8N2SJSSdd2yWQIsDS0MGPYKm' style=\"width: 300px; height: 90px; \"></th>\n",
    "        <th style=\"text-align:center;\"><h3>IS111 - Notebook 9</h3><h2>while-Loops</h2></th>\n",
    "    </tr>\n",
    "</table>"
   ]
  },
  {
   "cell_type": "markdown",
   "metadata": {},
   "source": [
    "## Learning Outcomes\n",
    "\n",
    "At the end of this lesson, you should be able to:\n",
    "<ul>\n",
    "    <li>Understand the flow of execution of a <code>while</code>-loop and trace a <code>while</code>-loop.</li>\n",
    "    <li>Apply <code>while</code>-loops to solve problems where there are repetitions and the loop ends with a certain condition.</li>\n",
    "<li>Detect and avoid infinite loops.</li>\n",
    "</ul>"
   ]
  },
  {
   "cell_type": "markdown",
   "metadata": {},
   "source": [
    "We have seen how we can use a `for`-loop to go through a sequence of integers, to go through all the characters inside a string, and to go through all the elements inside a list. In all these cases, <b>we know exactly how many times</b> the loop is going to run.\n",
    "\n",
    "In some scenarios, we need to repeat an action <b>until a certain condition is satisfied</b>; we do not know how many times the loop is going to run before the loop ends.\n",
    "\n",
    "For example, when we prompt the user for a positive integer, we might want to verify that the user has indeed entered a positive integer, and if not, we would like to prompt the user again. This process repeats until the user has entered a positive integer.\n",
    "\n",
    "How can we write Python code to repeat this action of prompting the user again and again until the user's input number is positive? We can use a `while`-loop.\n",
    "\n",
    "## I. The `while` Statement\n",
    "\n",
    "A standard `while`-loop looks as follows:\n",
    "\n",
    "    while expression:\n",
    "        statement(s)\n",
    "\n",
    "The flow of execution of the while-loop above can be illustrated by the following flow chart:"
   ]
  },
  {
   "cell_type": "markdown",
   "metadata": {},
   "source": [
    "<img align=\"left\" src='https://drive.google.com/uc?export=view&id=0B08uY8vosNfoSnVPVVAxY2J6a0U' style=\"width: 290px; height: 250px;\">"
   ]
  },
  {
   "cell_type": "markdown",
   "metadata": {},
   "source": [
    "<ul>\n",
    "    <li>When we first enter the loop, the <code>expression</code>, which should have a <code>bool</code> value, is first evaluated, resulting in either <code>True</code> or <code>False</code>.\n",
    "<ul>\n",
    "<li>If the value is <code>True</code>, each statement in the the body of the <code>while</code>-loop is executed. After that, the flow of execution of the program returns to the first row of the <code>while</code>-loop, which means the <code>bool</code> expression is to be evaluated again.</li>\n",
    "    <li>If the value is <code>False</code>, the program <b>exits</b> the <code>while</code>-loop immediately, and the flow of execution moves to the next statement after the <code>while</code>-loop.</li>\n",
    "</ul>\n",
    "</li>\n",
    "</ul>"
   ]
  },
  {
   "cell_type": "markdown",
   "metadata": {},
   "source": [
    "## II. An Example"
   ]
  },
  {
   "cell_type": "markdown",
   "metadata": {},
   "source": [
    "Take the previous scenario as an example. The following code will keep prompting the user until the user enters a positive integer. (It is assumed that the user always enters an integer.)"
   ]
  },
  {
   "cell_type": "code",
   "execution_count": 1,
   "metadata": {},
   "outputs": [
    {
     "name": "stdout",
     "output_type": "stream",
     "text": [
      "Thanks! You've entered a valid number.\n"
     ]
    }
   ],
   "source": [
    "num = int(input(\"Enter a positive integer:\"))\n",
    "while num <= 0:\n",
    "    print(\"Error!\")\n",
    "    num = int(input(\"Enter a positive integer:\"))\n",
    "print(\"Thanks! You've entered a valid number.\")"
   ]
  },
  {
   "cell_type": "markdown",
   "metadata": {},
   "source": [
    "Try the following input values on the code above and observe the behaviors of the code:\n",
    "\n",
    "    Enter a positive integer:-9\n",
    "    Error!\n",
    "    Enter a positive integer:-4\n",
    "    Error! \n",
    "    Enter a positive integer:0\n",
    "    Error! \n",
    "    Enter a positive integer:6\n",
    "    Thanks! You've entered a valid number.\n",
    "\n",
    "We can see that the code in Line 3 and Line 4 above is repeated as long as the variable `num` is smaller than or equal to 0, i.e., when `num` is not a positive integer. Because of the code in Line 4, the variable `num` is updated before we go back to Line 2. When `num` becomes a positive integer, the condition in Line 2 becomes `False` and then we exit the loop.\n",
    "\n",
    "We can also see that we <b>cannot</b> use a `for`-loop to solve the problem above because <b>we do not know beforehand how many times</b> the code in Line 3 and Line 4 is to be executed."
   ]
  },
  {
   "cell_type": "markdown",
   "metadata": {},
   "source": [
    "<img align=\"left\" src='https://drive.google.com/uc?export=view&id=0B08uY8vosNfobDBuOXVXQWVxMFE' style=\"width: 60px; height: 60px;\"><br />Let's do an exercise !"
   ]
  },
  {
   "cell_type": "markdown",
   "metadata": {},
   "source": [
    "Use a `while`-loop to write a piece of code that prompts the user for a string. Keep prompting the user until the string entered by the user has between 3 and 8 characters, i.e., the length of the string is between 3 and 8.\n",
    "\n",
    "Here's a sample run of the code:\n",
    "\n",
    "    Enter a string:IS\n",
    "    The string must have between 3 and 8 characters.\n",
    "    Enter a string:Programming\n",
    "    The string must have between 3 and 8 characters.\n",
    "    Enter a string:Python\n",
    "    Great!\n",
    "\n",
    "Hint: \n",
    "\n",
    "<li> Identify the actions that are repeated. These actions should go into the body of the while-loop. For example, given the sample output above, we can see that the actions being repeated are (a) prompting the user to enter a string, and (b) displaying the error message \"The string must have between 3 and 8 characters.\"</li>\n",
    "\n",
    "<li> Identify the condition when the repetition stops. Given the example above, we can see that the repetition stops when the string is between 3 and 8 characters long.</li>\n",
    "\n",
    "<li> For the actions identified earlier, determine which one is to be done first inside the while-loop, i.e., which one is to be done immediately after we check the stopping condition and find that the stopping condition is not satisfied. For the examle above, we can see that immediately after we find that a string's length is not between 3 and 8, we should display the error message. Therefore, the sequence of the two actions (a) and (b) inside the while-loop should be (b) followed by (a).</li>\n",
    "\n",
    "The following psdueo code may be useful to you.\n",
    "\n",
    "<code>\n",
    "# while ( the string entered by the user is not between 3 and 8 characters long):\n",
    "#     display the error message\n",
    "#     prompt the user for a string again\n",
    "</code>\n",
    "\n",
    "You then also need to figure out the action(s) to be done before the while-loop and after the while-loop."
   ]
  },
  {
   "cell_type": "code",
   "execution_count": 3,
   "metadata": {},
   "outputs": [
    {
     "name": "stdout",
     "output_type": "stream",
     "text": [
      "The string must have between 3 and 8 characters.\n",
      "Great!\n"
     ]
    }
   ],
   "source": [
    "# Write your code here:\n",
    "string = input(\"Enter a string:\")\n",
    "while len(string) < 3 or len(string) > 8:\n",
    "    print(\"The string must have between 3 and 8 characters.\")\n",
    "    string = input(\"Enter a string:\")\n",
    "print(\"Great!\")\n"
   ]
  },
  {
   "cell_type": "markdown",
   "metadata": {},
   "source": [
    "## III. Infinite Loops\n",
    "\n",
    "<br /><img align=\"left\" src='https://drive.google.com/uc?export=view&id=0B08uY8vosNfoaXhScW13azZmTVk' style=\"width: 85px; height: 75px;\">"
   ]
  },
  {
   "cell_type": "markdown",
   "metadata": {
    "collapsed": true
   },
   "source": [
    "A common mistake when writing `while`-loops is to create an <b><font color = 'red'>infinite loop</font></b>. An infinite loop is one that never ends!\n",
    "\n",
    "In other words, the `bool` expression that controls the `while`-loop never becomes `False`.\n",
    "\n",
    "Let us revisit the previous example. Suppose our code looks like the following:"
   ]
  },
  {
   "cell_type": "code",
   "execution_count": null,
   "metadata": {},
   "outputs": [
    {
     "ename": "KeyboardInterrupt",
     "evalue": "Interrupted by user",
     "output_type": "error",
     "traceback": [
      "\u001b[1;31m---------------------------------------------------------------------------\u001b[0m",
      "\u001b[1;31mKeyboardInterrupt\u001b[0m                         Traceback (most recent call last)",
      "\u001b[1;32mc:\\Users\\Admin\\Desktop\\Jupyter Notebook Workspace\\Jupyter Notebooks\\IS111 - Introduction to Programming\\Practical Week 9\\Pre-Class\\9. while-Loops (v1.0).ipynb Cell 15\u001b[0m in \u001b[0;36m<cell line: 1>\u001b[1;34m()\u001b[0m\n\u001b[1;32m----> <a href='vscode-notebook-cell:/c%3A/Users/Admin/Desktop/Jupyter%20Notebook%20Workspace/Jupyter%20Notebooks/IS111%20-%20Introduction%20to%20Programming/Practical%20Week%209/Pre-Class/9.%20while-Loops%20%28v1.0%29.ipynb#X20sZmlsZQ%3D%3D?line=0'>1</a>\u001b[0m num_str \u001b[39m=\u001b[39m \u001b[39minput\u001b[39;49m(\u001b[39m\"\u001b[39;49m\u001b[39mEnter a positive integer:\u001b[39;49m\u001b[39m\"\u001b[39;49m)\n\u001b[0;32m      <a href='vscode-notebook-cell:/c%3A/Users/Admin/Desktop/Jupyter%20Notebook%20Workspace/Jupyter%20Notebooks/IS111%20-%20Introduction%20to%20Programming/Practical%20Week%209/Pre-Class/9.%20while-Loops%20%28v1.0%29.ipynb#X20sZmlsZQ%3D%3D?line=1'>2</a>\u001b[0m num \u001b[39m=\u001b[39m \u001b[39mint\u001b[39m(num_str)\n\u001b[0;32m      <a href='vscode-notebook-cell:/c%3A/Users/Admin/Desktop/Jupyter%20Notebook%20Workspace/Jupyter%20Notebooks/IS111%20-%20Introduction%20to%20Programming/Practical%20Week%209/Pre-Class/9.%20while-Loops%20%28v1.0%29.ipynb#X20sZmlsZQ%3D%3D?line=2'>3</a>\u001b[0m \u001b[39mwhile\u001b[39;00m num \u001b[39m<\u001b[39m\u001b[39m=\u001b[39m \u001b[39m0\u001b[39m:\n",
      "File \u001b[1;32mc:\\Users\\Admin\\anaconda3\\lib\\site-packages\\ipykernel\\kernelbase.py:1075\u001b[0m, in \u001b[0;36mKernel.raw_input\u001b[1;34m(self, prompt)\u001b[0m\n\u001b[0;32m   1071\u001b[0m \u001b[39mif\u001b[39;00m \u001b[39mnot\u001b[39;00m \u001b[39mself\u001b[39m\u001b[39m.\u001b[39m_allow_stdin:\n\u001b[0;32m   1072\u001b[0m     \u001b[39mraise\u001b[39;00m StdinNotImplementedError(\n\u001b[0;32m   1073\u001b[0m         \u001b[39m\"\u001b[39m\u001b[39mraw_input was called, but this frontend does not support input requests.\u001b[39m\u001b[39m\"\u001b[39m\n\u001b[0;32m   1074\u001b[0m     )\n\u001b[1;32m-> 1075\u001b[0m \u001b[39mreturn\u001b[39;00m \u001b[39mself\u001b[39;49m\u001b[39m.\u001b[39;49m_input_request(\n\u001b[0;32m   1076\u001b[0m     \u001b[39mstr\u001b[39;49m(prompt),\n\u001b[0;32m   1077\u001b[0m     \u001b[39mself\u001b[39;49m\u001b[39m.\u001b[39;49m_parent_ident[\u001b[39m\"\u001b[39;49m\u001b[39mshell\u001b[39;49m\u001b[39m\"\u001b[39;49m],\n\u001b[0;32m   1078\u001b[0m     \u001b[39mself\u001b[39;49m\u001b[39m.\u001b[39;49mget_parent(\u001b[39m\"\u001b[39;49m\u001b[39mshell\u001b[39;49m\u001b[39m\"\u001b[39;49m),\n\u001b[0;32m   1079\u001b[0m     password\u001b[39m=\u001b[39;49m\u001b[39mFalse\u001b[39;49;00m,\n\u001b[0;32m   1080\u001b[0m )\n",
      "File \u001b[1;32mc:\\Users\\Admin\\anaconda3\\lib\\site-packages\\ipykernel\\kernelbase.py:1120\u001b[0m, in \u001b[0;36mKernel._input_request\u001b[1;34m(self, prompt, ident, parent, password)\u001b[0m\n\u001b[0;32m   1117\u001b[0m             \u001b[39mbreak\u001b[39;00m\n\u001b[0;32m   1118\u001b[0m \u001b[39mexcept\u001b[39;00m \u001b[39mKeyboardInterrupt\u001b[39;00m:\n\u001b[0;32m   1119\u001b[0m     \u001b[39m# re-raise KeyboardInterrupt, to truncate traceback\u001b[39;00m\n\u001b[1;32m-> 1120\u001b[0m     \u001b[39mraise\u001b[39;00m \u001b[39mKeyboardInterrupt\u001b[39;00m(\u001b[39m\"\u001b[39m\u001b[39mInterrupted by user\u001b[39m\u001b[39m\"\u001b[39m) \u001b[39mfrom\u001b[39;00m \u001b[39mNone\u001b[39m\n\u001b[0;32m   1121\u001b[0m \u001b[39mexcept\u001b[39;00m \u001b[39mException\u001b[39;00m:\n\u001b[0;32m   1122\u001b[0m     \u001b[39mself\u001b[39m\u001b[39m.\u001b[39mlog\u001b[39m.\u001b[39mwarning(\u001b[39m\"\u001b[39m\u001b[39mInvalid Message:\u001b[39m\u001b[39m\"\u001b[39m, exc_info\u001b[39m=\u001b[39m\u001b[39mTrue\u001b[39;00m)\n",
      "\u001b[1;31mKeyboardInterrupt\u001b[0m: Interrupted by user"
     ]
    }
   ],
   "source": [
    "num_str = input(\"Enter a positive integer:\")\n",
    "num = int(num_str)\n",
    "while num <= 0:\n",
    "    print(\"Error!\")\n",
    "    num_str = input(\"Enter a positive integer:\")\n",
    "print(\"Thanks! You've entered a valid number.\")"
   ]
  },
  {
   "cell_type": "markdown",
   "metadata": {},
   "source": [
    "Try the following values on the code above and observe the behaviors of the code. Can you find a way to fix the problem?\n",
    "\n",
    "(To stop the infinite loop, you'll have to choose \"Restart & Clear Output\" under \"Kernel\".)\n",
    "\n",
    "    Enter a positive integer:-4\n",
    "    Error!\n",
    "    Enter a positive integer:3\n",
    "    Error!\n",
    "    Enter a positive integer:5\n",
    "    Error!\n",
    "    \n",
    "    \n",
    "Hint: For new inputs from the user, have they been properly converted to numbers?"
   ]
  },
  {
   "cell_type": "markdown",
   "metadata": {},
   "source": [
    "## IV. Working with Complex Conditions\n",
    "\n",
    "Oftentimes `while`-loops are used to check some complex conditions. For example, consider the following scenario: We want to prompt the user for an even number between 2 and 100 (both inclusive). We need to keep prompting the user until the user enters a valid number. How do we formulate the `bool` expression inside the `while` statement for this scenario?\n",
    "\n",
    "We can see that it may <b>not be easy</b> the specify <b>the condition under which we need to re-prompt the user</b>, i.e., the condition under which the input is <b>invalid</b>. On the other hand, it is <b>easier</b> to formulate <b>the condition under which the input is valid</b>. Let `num` represent the input number from the user. The condition under which `num` is considered valid is the following:\n",
    "\n",
    "    num >= 2 and num <= 100 and num % 2 == 0\n",
    "    \n",
    "So when we write our `while`-loop to check whether we need to re-prompt the user, we need to check whether the complex condition above is <b>not</b> `True`, i.e., whether the condition above is `False`. When the entire condition above is `False`, we need to re-prompt the user.\n",
    "\n",
    "Therefore, we can write our `while`-loop as follows:"
   ]
  },
  {
   "cell_type": "code",
   "execution_count": null,
   "metadata": {},
   "outputs": [],
   "source": [
    "num = int(input(\"Please enter a number: \"))\n",
    "while (not (num >= 2 and num <= 100 and num % 2 == 0 )):\n",
    "       num = int(input(\"Error! Please enter a number: \"))"
   ]
  },
  {
   "cell_type": "markdown",
   "metadata": {},
   "source": [
    "If we apply the De Morgan's law, the code above can be simplified as follows:"
   ]
  },
  {
   "cell_type": "code",
   "execution_count": null,
   "metadata": {},
   "outputs": [],
   "source": [
    "num = int(input(\"Please enter a number: \"))\n",
    "while (num < 2 or num > 100 or num % 2 != 0 ):\n",
    "       num = int(input(\"Error! Please enter a number: \"))"
   ]
  },
  {
   "cell_type": "markdown",
   "metadata": {},
   "source": [
    "Compare the two `while`-loops above, which are both correct solutions to the question. Which solution do you think is easier for you to come up with?"
   ]
  },
  {
   "cell_type": "markdown",
   "metadata": {},
   "source": [
    "In general, you may find it <b>easier</b> to first formulate the condition under which a `while`-loop needs to be <b>terminated</b>. Then you can simply add <b>not</b> in front of the entire complex condition to negate the condition, and place this negated condition inside the `while` statement as the `bool` expression to be checked. If you want, you can further apply De Morgan's law to simplify the condition."
   ]
  },
  {
   "cell_type": "markdown",
   "metadata": {},
   "source": [
    "<img align=\"left\" src='https://drive.google.com/uc?export=view&id=0B08uY8vosNfobDBuOXVXQWVxMFE' style=\"width: 60px; height: 60px;\"><br />Let's do an exercise !"
   ]
  },
  {
   "cell_type": "markdown",
   "metadata": {},
   "source": [
    "Use a `while`-loop to prompt the user for a string that satisfies the conditions below:\n",
    "\n",
    "(1) The string must start with either `'A'` or `'a'`.\n",
    "\n",
    "(2) The string must have at least 5 characters.\n",
    "\n",
    "(3) The string must end with either `'Z'` or `'z'`.\n",
    "\n",
    "A sample run of the code looks like the following:\n",
    "\n",
    "    Enter a string:123456\n",
    "    Error!\n",
    "    Enter a string:az\n",
    "    Error!\n",
    "    Enter a string:BCDEZ\n",
    "    Error!\n",
    "    Enter a string:ABCDz\n",
    "    Great!"
   ]
  },
  {
   "cell_type": "code",
   "execution_count": 15,
   "metadata": {},
   "outputs": [
    {
     "name": "stdout",
     "output_type": "stream",
     "text": [
      "2\n",
      "2\n",
      "Error!\n",
      "6\n",
      "Error!\n",
      "5\n",
      "Error!\n",
      "Great!\n"
     ]
    }
   ],
   "source": [
    "# Write your code here:\n",
    "string = input(\"Enter a string:\")\n",
    "while string[0] not in \"aA\" or string[-1] not in \"zZ\" or len(string) < 5:\n",
    "    print(\"Error!\")\n",
    "    string = input(\"Enter a string:\")\n",
    "print(\"Great!\")\n"
   ]
  },
  {
   "cell_type": "code",
   "execution_count": null,
   "metadata": {},
   "outputs": [],
   "source": []
  }
 ],
 "metadata": {
  "kernelspec": {
   "display_name": "Python 3.9.12 ('base')",
   "language": "python",
   "name": "python3"
  },
  "language_info": {
   "codemirror_mode": {
    "name": "ipython",
    "version": 3
   },
   "file_extension": ".py",
   "mimetype": "text/x-python",
   "name": "python",
   "nbconvert_exporter": "python",
   "pygments_lexer": "ipython3",
   "version": "3.9.12"
  },
  "vscode": {
   "interpreter": {
    "hash": "2043299c89c8cd0b4d1a6f5cf4529bd58e6a4e0fe3181a25e0d328c821cdc5c5"
   }
  }
 },
 "nbformat": 4,
 "nbformat_minor": 2
}
