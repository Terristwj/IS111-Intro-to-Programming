{
 "cells": [
  {
   "cell_type": "markdown",
   "metadata": {},
   "source": [
    "<table class=\"table table-bordered\">\n",
    "    <tr>\n",
    "        <th style=\"text-align:center; width:35%\"><img src='https://drive.google.com/uc?export=view&id=1zIB3Nw_z8N2SJSSdd2yWQIsDS0MGPYKm' style=\"width: 300px; height: 90px; \"></th>\n",
    "        <th style=\"text-align:center;\"><h2>IS111 - In-Class Exercises</h2><h2>Week 1</h2></th>\n",
    "    </tr>\n",
    "</table>"
   ]
  },
  {
   "cell_type": "markdown",
   "metadata": {},
   "source": [
    "### Q1: Operators\n",
    "\n",
    "Without running the code below, what do you think the output will be?"
   ]
  },
  {
   "cell_type": "code",
   "execution_count": null,
   "metadata": {},
   "outputs": [],
   "source": [
    "print(2 + 3 * 3 / 5 - 2 + 8 % 5)  # 2+5.4-2+3\n",
    "print(15 % 5 - 15 / 5)            # -3.0 -division gives decimal\n",
    "print(10 / 2.5 / 2 - 5)           # -3.0\n",
    "print(11 // 4 * 2)                # 4\n",
    "print((3 + 5) * 2 % 3)            # 1\n",
    "print(2 + 3 * 6 % 3 ** 2 - 1)     # 1\n",
    "\n",
    "print(\"abc\" + \" \" + \"def\")        # abc def\n",
    "print(\"abc\" + 123)                # error. An error as cannot str + int. Else abc123"
   ]
  },
  {
   "cell_type": "code",
   "execution_count": null,
   "metadata": {},
   "outputs": [],
   "source": []
  },
  {
   "cell_type": "markdown",
   "metadata": {},
   "source": [
    "### Q2: BMI Calculator\n",
    "\n",
    "You have probably heard about the body mass index or BMI. The definition of BMI from Wikipedia can be found below:\n",
    "\n",
    "\"The body mass index (BMI) or Quetelet index is a value derived from the mass (weight) and height of an individual. The BMI is defined as the body mass divided by the square of the body height, and is universally expressed in units of $\\text{kg}/\\text{m}^2$, resulting from mass in kilograms and height in metres.\"\n",
    "\n",
    "The formula to calculate BMI is also given below:\n",
    "\n",
    "$$\\text{BMI} = \\frac{\\text{mass}}{\\text{height}^2}$$\n",
    "\n",
    "Here mass is in kilograms and height is in metres.\n",
    "\n",
    "Write a piece of Python code that does the following:\n",
    "\n",
    "<ul>\n",
    "    <li>It prompts the user for his/her weight in kilograms.</li>\n",
    "    <li>It then prompts the user for his/her height in metres.</li>\n",
    "    <li>It calculates the BMI of this person and displays the BMI value to the screen.</li>\n",
    "</ul>\n",
    "\n",
    "A sample run of the code gives the following output:\n",
    "\n",
    "<img src=\"http://drive.google.com/uc?export=view&id=0B3N0YMArBdSBdHZqdnhDT2xzSEk\">"
   ]
  },
  {
   "cell_type": "code",
   "execution_count": 3,
   "metadata": {},
   "outputs": [
    {
     "name": "stdout",
     "output_type": "stream",
     "text": [
      "Enter weight in kg:70\n",
      "Enter height in m:1.7\n",
      "24.221453287197235\n"
     ]
    }
   ],
   "source": [
    "# Write your code below:\n",
    "weight = float(input(\"Enter weight in kg:\"))\n",
    "height = float(input(\"Enter height in m:\"))\n",
    "bmi = weight / height ** 2\n",
    "print(bmi)"
   ]
  },
  {
   "cell_type": "markdown",
   "metadata": {},
   "source": [
    "### Q3: Odd/Even Numbers\n",
    "\n",
    "Write a piece of Python code that does the following:\n",
    "\n",
    "<ul>\n",
    "    <li>It sequentially prompts the user for 4 integers.</li>\n",
    "    <li>It computes and displays the percentage of odd numbers and even numbers in these 4 integers.</li>\n",
    "</ul>\n",
    "\n",
    "You do not need to use any conditional statement like if-else, or any loop.\n",
    "\n",
    "For instance, if the 4 numbers are 1, 7, 4, 6, then the percentages of odd numbers and even numbers that will be displayed will be 50% and 50%, respectively. If the 4 numbers are 4, 2, 8, 5, then the percentages that will be displayed will be 75% and 25%, respectively.\n",
    "\n",
    "Hint: You may want to use the modulo-2 operation to determine if a number is odd or even.\n"
   ]
  },
  {
   "cell_type": "code",
   "execution_count": null,
   "metadata": {},
   "outputs": [],
   "source": [
    "# Write your code below:\n",
    "list_num = []\n",
    "list_num.append(input(\"Enter first number:\"))\n",
    "list_num.append(input(\"Enter second number:\"))\n",
    "list_num.append(input(\"Enter third number:\"))\n",
    "list_num.append(input(\"Enter fourth number:\"))\n",
    "\n",
    "num_of_even = 0\n",
    "num_of_odd = 0\n",
    "\n",
    "for num in list_num:\n",
    "    if int(num) % 2 == 0:\n",
    "        num_of_even += 1\n",
    "    else:\n",
    "        num_of_odd += 1\n",
    "print(\"Percentage of even: \" + str(num_of_even / (num_of_even + num_of_odd) * 100) + \"%\")\n",
    "print(\"Percentage of even: \" + str(num_of_odd / (num_of_even + num_of_odd) * 100) + \"%\")"
   ]
  },
  {
   "cell_type": "code",
   "execution_count": null,
   "metadata": {},
   "outputs": [],
   "source": []
  }
 ],
 "metadata": {
  "kernelspec": {
   "display_name": "Python 3 (ipykernel)",
   "language": "python",
   "name": "python3"
  },
  "language_info": {
   "codemirror_mode": {
    "name": "ipython",
    "version": 3
   },
   "file_extension": ".py",
   "mimetype": "text/x-python",
   "name": "python",
   "nbconvert_exporter": "python",
   "pygments_lexer": "ipython3",
   "version": "3.9.12"
  }
 },
 "nbformat": 4,
 "nbformat_minor": 2
}
