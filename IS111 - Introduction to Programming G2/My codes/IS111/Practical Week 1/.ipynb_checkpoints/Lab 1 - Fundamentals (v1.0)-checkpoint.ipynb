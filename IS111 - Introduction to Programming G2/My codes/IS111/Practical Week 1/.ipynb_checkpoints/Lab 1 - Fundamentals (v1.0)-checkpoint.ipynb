{
 "cells": [
  {
   "cell_type": "markdown",
   "metadata": {},
   "source": [
    "<table class=\"table table-bordered\">\n",
    "    <tr>\n",
    "        <th style=\"text-align:center; width:35%\"><img src='https://drive.google.com/uc?export=view&id=1zIB3Nw_z8N2SJSSdd2yWQIsDS0MGPYKm' style=\"width: 300px; height: 90px; \"></th>\n",
    "        <th style=\"text-align:center;\"><h3>IS111 - Lab 1</h3><h3>Fundamentals</h3></th>\n",
    "    </tr>\n",
    "</table>"
   ]
  },
  {
   "cell_type": "markdown",
   "metadata": {},
   "source": [
    "### Q1 [ \\* ]: Code Tracing\n",
    "\n",
    "Can you figure out what the following Python code produces <b>without running the code</b>?<br/>\n",
    "\n",
    "You may want to use a <b>sheet of paper</b> to note down the various <b>values</b> of the <b>variables</b> stored in memory as well as what is <b>displayed</b> on the <b>screen</b> (if applicable).\n",
    "\n",
    "Now run the code to <b>check</b> whether your guess is correct.\n"
   ]
  },
  {
   "cell_type": "code",
   "execution_count": 9,
   "metadata": {},
   "outputs": [
    {
     "name": "stdout",
     "output_type": "stream",
     "text": [
      "17\n",
      "-2\n",
      "4.5 20.5\n",
      "2.0\n",
      "2525\n",
      "Result4 = 1\n"
     ]
    }
   ],
   "source": [
    "# lab1_Q1\n",
    "\n",
    "# ###########################################\n",
    "# The code below is given. Guess the output.\n",
    "# ###########################################\n",
    "a = 5 \n",
    "b = 3\n",
    "c = 6\n",
    "d = \"25\"\n",
    "e = 2.0\n",
    "\n",
    "print(2 + a * b)           # 17\n",
    "print(c % a - b)           # -2\n",
    "\n",
    "result1 = (b + c) / 2           # 4.5\n",
    "result2 = int(d) - result1      # 20.5\n",
    "print(result1, result2)         # 4.5 20.5\n",
    "\n",
    "print(a // e)              # 2.0\n",
    "\n",
    "result3 = d * (c // b)     # '25' * 2\n",
    "print(result3)             # '2525'\n",
    "\n",
    "result4 = a // b           # 1\n",
    "print(\"Result4 = \" + str(result4))   # Result4 - 1\n",
    "\n",
    "# Prints:\n",
    "# 17\n",
    "# -2\n",
    "# 4.5 20.5\n",
    "# 2.0\n",
    "# 2525\n",
    "# Result4 - 1"
   ]
  },
  {
   "cell_type": "markdown",
   "metadata": {},
   "source": [
    "### Q2 [ \\* ]: Circles\n",
    "\n",
    "\n",
    "Write a piece of Python code that prompts the user for the <b>radius</b> of a circle (in cm). The program then calculates and displays the <b>circumference</b> and the <b>area</b> of the specified circle.\n",
    "\n",
    "The formulas of circumference and area of a circle are as follows (the value of <b>&pi;</b> being set to <b>3.14</b>):\n",
    "<ul>\n",
    "<li>circumference = 2 x &pi; x radius</li>\n",
    "<li>area = &pi; x radius<b><sup>2</sup></b></li>\n",
    "</ul>\n",
    "\n",
    "<b>Note</b>: <br />\n",
    "\n",
    "Generally the convention is that if a variable's <b>value</b> is <b>not supposed to be changed</b> in the program, then this variable is considered as a \"<b><font color = green>Constant</font></b>\". \n",
    "<br />\n",
    "Then to make people know that this variable is actually a constant, and that its value should not be changed later in the program, the name given to that variable follows the following convention: <b>all capital letters with underscores separating words</b>: <br />\n",
    "For Example <b><font color = green>PI</font></b>, <b><font color = green>INTEREST_RATE</font></b>, or <b><font color = green>MAX_SIZE</font></b>.<br />\n",
    "\n",
    "In this exercise, the variable &pi; has to be declared as a constant : <b>PI = 3.14</b>.<br />\n",
    "\n",
    "Your code should produce the following output:<br /><img align=\"left\" src='https://drive.google.com/uc?export=view&id=0B08uY8vosNfoOUdfZEtGYnM0eWs' style=\"width: 420px; height: 70px;\">\n",
    "\n"
   ]
  },
  {
   "cell_type": "code",
   "execution_count": 1,
   "metadata": {},
   "outputs": [
    {
     "name": "stdout",
     "output_type": "stream",
     "text": [
      "Please enter radius :4.5\n",
      "Area of circle of radius 4.5 cm is 63.585 sq cm\n",
      "Circumference of circle of radius 4.5 cm is 28.26 cm\n"
     ]
    }
   ],
   "source": [
    "# lab1_Q2\n",
    "\n",
    "# ###########################\n",
    "# Write your code below:\n",
    "# ###########################\n",
    "radius = float(input(\"Please enter radius :\"))\n",
    "PI = 3.14\n",
    "\n",
    "circumference = 2 * PI * radius\n",
    "area = PI * radius ** 2\n",
    "\n",
    "print(\"Area of circle of radius\", radius, \"cm is\", area, \"sq cm\")\n",
    "print(\"Circumference of circle of radius\", radius, \"cm is\", circumference, \"cm\")"
   ]
  },
  {
   "cell_type": "markdown",
   "metadata": {},
   "source": [
    "### Q3 [ \\* ]: Your Weight on a Different Planet\n",
    "\n",
    "You can probably recall from your science class that your <b>weight</b> on Earth depends on both your <b>mass</b> and the <b>gravity</b> of Earth. <br />Your weight would then be different on a different planet because the gravity changes.\n",
    "\n",
    "Because <b>weight = mass x gravity</b>, multiplying your weight on Earth by the numbers below will give you your weight on another planets.\n",
    "\n",
    "<table align=\"left\" class=\"table table-bordered\" style=\"width:40%\">\n",
    "<tr>\n",
    "<th style=\"text-align:center; width:15%\">Planet</th>\n",
    "<th style=\"text-align:center; width:20%\">Multiply the Earth Weight by</th>\n",
    "</tr>\n",
    "<tr>\n",
    "<td style=\"text-align:center;\">Mercury</td>\n",
    "<td style=\"text-align:center;\">0.38</td>\n",
    "</tr>\n",
    "<tr>\n",
    "<td style=\"text-align:center;\">Venus</td>\n",
    "<td style=\"text-align:center;\">0.91</td>\n",
    "</tr>\n",
    "<tr>\n",
    "<td style=\"text-align:center;\">Jupiter</td>\n",
    "<td style=\"text-align:center;\">2.34</td>\n",
    "</tr>\n",
    "</table>\n",
    "<br /><br /><br /><br /><br /><br /><br /><br /><br />\n",
    "\n",
    "Write a piece of Python code that prompts the user for his/her weight on Earth and calculates and displays his/her weight on various other planets.\n",
    "\n",
    "You can use the following link to double check the results from your code:\n",
    "https://www.livescience.com/33356-weight-on-planets-mars-moon.html\n"
   ]
  },
  {
   "cell_type": "code",
   "execution_count": 4,
   "metadata": {},
   "outputs": [
    {
     "name": "stdout",
     "output_type": "stream",
     "text": [
      "What is your weight on Earth? 75\n",
      "Your weight on mercury is 28.5\n",
      "Your weight on venus is 68.25\n",
      "Your weight on jupiter is 175.5\n"
     ]
    }
   ],
   "source": [
    "# lab1_Q3\n",
    "\n",
    "# ########################\n",
    "# Write your code below:\n",
    "# ########################\n",
    "weight = float(input(\"What is your weight on Earth? \"))\n",
    "gravity_mercury = 0.38\n",
    "gravity_venus = 0.91\n",
    "gravity_jupiter = 2.34\n",
    "\n",
    "print(\"Your weight on mercury is\", weight*gravity_mercury)\n",
    "print(\"Your weight on venus is\", weight*gravity_venus)\n",
    "print(\"Your weight on jupiter is\", weight*gravity_jupiter)"
   ]
  },
  {
   "cell_type": "markdown",
   "metadata": {},
   "source": [
    "### Q4 [ \\*\\* ]: Final Score Calculator\n",
    "\n",
    "Let's write some Python code that helps you calculate your final <b>cumulative score</b> for a course titled \"Introduction to University Life\".\n",
    "\n",
    "This course has several assessments. For each assessment, there is a <b>total score</b>, which is the maximum score you could achieve for that assessment. Each assessment counts towards a certain <b>percentage of the final cumulative score</b>. The final cumulative score is on a scale of <b>[0 - 100]</b>.\n",
    "\n",
    "The assessments of this course are shown below:\n",
    "\n",
    "<ul>\n",
    "<li>Assignments:\n",
    "    <ul>\n",
    "        <li>Assignment 1: (total score 10 marks), 10%</li>\n",
    "        <li>Assignment 2: (total score 10 marks), 10%</li>\n",
    "        <li>Assignment 3: (total score 10 marks), 10%</li>\n",
    "    </ul>\n",
    "</li>\n",
    "<li>Tests:\n",
    "    <ul>\n",
    "        <li>Test 1: (total score 30 marks), 15%</li>\n",
    "        <li>Test 2: (total score 40 marks), 20%</li>\n",
    "        <li>Exam: (total score 140 marks), 35%</li>\n",
    "    </ul>\n",
    "</li>\n",
    "</ul>\n",
    "\n",
    "For example, Test 1 is 30 marks in total and counts towards 15% of your final score. If your raw score for Test 1 is 20 marks, it is two thirds of the total score for Test 1 and it will contribute 10 marks (which is two thirds of 15) to your final cumulative score.\n",
    "\n",
    "Your code should produce the following sample output:<br /><img align=\"left\" src='https://drive.google.com/uc?export=view&id=0B08uY8vosNfodDdrN1hFVi1rdFE' style=\"width: 350px; height: 130px;\">"
   ]
  },
  {
   "cell_type": "code",
   "execution_count": 8,
   "metadata": {},
   "outputs": [
    {
     "name": "stdout",
     "output_type": "stream",
     "text": [
      "What's your score for Assignment 1? 8.5\n",
      "What's your score for Assignment 2? 7\n",
      "What's your score for Assignment 3? 5.5\n",
      "What's your score for Test 1? 24.5\n",
      "What's your score for Test 2? 28.5\n",
      "What's your score for the exam? 100.5\n",
      "Your final cumulative score is 72.625 / 100\n"
     ]
    }
   ],
   "source": [
    "# lab1_Q4\n",
    "\n",
    "# #########################\n",
    "# Write your code below:\n",
    "# #########################\n",
    "assignment1_score = float(input(\"What's your score for Assignment 1? \"))\n",
    "assignment2_score = float(input(\"What's your score for Assignment 2? \"))\n",
    "assignment3_score = float(input(\"What's your score for Assignment 3? \"))\n",
    "test1_score = float(input(\"What's your score for Test 1? \"))\n",
    "test2_score = float(input(\"What's your score for Test 2? \"))\n",
    "exam_score = float(input(\"What's your score for the exam? \"))\n",
    "\n",
    "total_score = assignment1_score + assignment2_score + assignment3_score + test1_score/2 + test2_score/2 + exam_score/140*35\n",
    "print(\"Your final cumulative score is\", total_score, \"/ 100\")"
   ]
  },
  {
   "cell_type": "markdown",
   "metadata": {},
   "source": [
    "\n",
    "### Q5 [ \\*\\* ]: Compound Interest Calculator\n",
    "\n",
    "You're now going to implement a calculator for <b>compound interest</b> with a <b>fixed annual interest rate of 0.5%</b>, compounded monthly.\n",
    "\n",
    "Take a look at the following page to understand how compound interest is calculated:\n",
    "<a href=\"http://www.thecalculatorsite.com/articles/finance/compound-interest-formula.php\">Compound Interest Formula - Explained</a>\n",
    "\n",
    "Your code should:\n",
    "<ul>\n",
    "    <li>Prompt the user for the amount of principal that's deposited.</li>\n",
    "    <li>Prompt the user for the deposit time (in years).</li>\n",
    "    <li>Calculate the amount of interest the user will earn at the end of the deposit period.</li>\n",
    "</ul>\n",
    "\n",
    "Your code should produce the following sample output:<br /><img align=\"left\" src='https://drive.google.com/uc?export=view&id=0B08uY8vosNfoalVPWHlnWnViaEU' style=\"width: 350px; height: 80px;\"> <br /><br /><br /><br /><br />\n",
    "\n",
    "<b>Note</b>: To round a real number x with n decimals after the decimal point, use the following function: <b>round(x, n)</b>."
   ]
  },
  {
   "cell_type": "code",
   "execution_count": 16,
   "metadata": {},
   "outputs": [
    {
     "name": "stdout",
     "output_type": "stream",
     "text": [
      "What's the amount of your principal? 50000\n",
      "How many years do you want to deposit the money? 3.5\n",
      "The interest you will earn is $882.52\n"
     ]
    }
   ],
   "source": [
    "# lab1_Q5\n",
    "\n",
    "# #################################\n",
    "# The code below is given!!!!\n",
    "# #################################\n",
    "# You are given the following constants:\n",
    "\n",
    "# Annual interest rate (which is fixed)\n",
    "ANNUAL_INTEREST_RATE = 0.005\n",
    "# Number of times the interest is compounded per year\n",
    "FREQUENCY_OF_COMPOUNDING = 12\n",
    "\n",
    "# #################################\n",
    "# Write your code below:\n",
    "# #################################\n",
    "principal = float(input(\"What's the amount of your principal? \"))\n",
    "time = float(input(\"How many years do you want to deposit the money? \"))\n",
    "\n",
    "interest = principal*(1 + ANNUAL_INTEREST_RATE/FREQUENCY_OF_COMPOUNDING)**(FREQUENCY_OF_COMPOUNDING*time) - principal\n",
    "print(\"The interest you will earn is $\" + str(round(interest, 2)))\n",
    "\n"
   ]
  },
  {
   "cell_type": "markdown",
   "metadata": {},
   "source": [
    "### Q6 [ \\*\\* ]: Currency\n",
    "\n",
    "\n",
    "If you visit the United States, you'll need to get familiar with their currency and the various <b>coins</b> and <b>notes</b> in circulation. Look at this link to find out more about their various coins and notes: \n",
    "http://www.immihelp.com/newcomer/usa-currency-coins.html\n",
    "\n",
    "Here's a list of common coins:\n",
    "<ul>\n",
    "<li>Penny - 1 cent</li>\n",
    "<li>Nickle - 5 cents</li>\n",
    "<li>Dime - 10 cents</li>\n",
    "<li>Quarter - 25 cents</li>\n",
    "</ul>\n",
    "\n",
    "And the commonly used notes are : \\\\$1, \\\\$5, \\\\$10 and \\\\$20 notes.\n",
    "\n",
    "Let's write some Python code that prompts the user for an amount to pay (in US$) and that helps him/her to know <b>how many coins or notes</b> he/she has to provide in each denomination, to provide the <b>exact change</b>. <br />\n",
    "Some starting code is already given to you (which takes care of the conversion precision from float to int - you can ignore ).\n",
    "\n",
    "Your code should produce the following sample output:<br /><img align=\"left\" src='https://drive.google.com/uc?export=view&id=0B08uY8vosNfoSHQ3NjZvd0YtQWc' style=\"width: 290px; height: 180px;\">"
   ]
  },
  {
   "cell_type": "code",
   "execution_count": 4,
   "metadata": {},
   "outputs": [
    {
     "name": "stdout",
     "output_type": "stream",
     "text": [
      "Enter payment amount (US$) :157.89\n",
      "You need to give:\n",
      "\t 7 ($20 notes)\n",
      "\t 1 ($10 notes)\n",
      "\t 1 ($5 notes)\n",
      "\t 2 ($1 notes)\n",
      "\t 3 (quater coins)\n",
      "\t 1 (dime coins)\n",
      "\t 0 (nickle coins)\n",
      "\tand 4 (penny coins)\n"
     ]
    }
   ],
   "source": [
    "# lab1_Q6\n",
    "\n",
    "# ################################\n",
    "# The code below is given!!!!\n",
    "# ################################\n",
    "\n",
    "amount = float(input(\"Enter payment amount (US$) :\"))\n",
    "amount_in_cents = int(round(amount * 100))\n",
    "\n",
    "# ################################\n",
    "# Write your code below:\n",
    "# ################################\n",
    "note_twenty = 0\n",
    "note_ten = 0\n",
    "note_five = 0\n",
    "note_one = 0\n",
    "\n",
    "coin_quarter = 0\n",
    "coin_dime = 0\n",
    "coin_nickle = 0\n",
    "coin_penny = 0\n",
    "\n",
    "note_twenty = amount_in_cents // 2000\n",
    "amount_in_cents = amount_in_cents % 2000\n",
    "\n",
    "note_ten = amount_in_cents // 1000\n",
    "amount_in_cents = amount_in_cents % 1000\n",
    "\n",
    "note_five = amount_in_cents // 500\n",
    "amount_in_cents = amount_in_cents % 500\n",
    "\n",
    "note_one = amount_in_cents // 100\n",
    "amount_in_cents = amount_in_cents % 100\n",
    "\n",
    "coin_quarter = amount_in_cents // 25\n",
    "amount_in_cents = amount_in_cents % 25\n",
    "\n",
    "coin_dime = amount_in_cents // 10\n",
    "amount_in_cents = amount_in_cents % 10\n",
    "\n",
    "coin_nickle = amount_in_cents // 5\n",
    "amount_in_cents = amount_in_cents % 5\n",
    "\n",
    "coin_penny = amount_in_cents // 1\n",
    "amount_in_cents = amount_in_cents % 1\n",
    "\n",
    "# while(amount_in_cents - 2000 >= 0):\n",
    "#     amount_in_cents -= 2000\n",
    "#     note_twenty += 1\n",
    "\n",
    "# while(amount_in_cents - 1000 >= 0):\n",
    "#     amount_in_cents -= 1000\n",
    "#     note_ten += 1\n",
    "    \n",
    "# while(amount_in_cents - 500 >= 0):\n",
    "#     amount_in_cents -= 500\n",
    "#     note_five += 1\n",
    "    \n",
    "# while(amount_in_cents - 100 >= 0):\n",
    "#     amount_in_cents -= 100\n",
    "#     note_one += 1\n",
    "\n",
    "# while(amount_in_cents - 25 >= 0):\n",
    "#     amount_in_cents -= 25\n",
    "#     coin_quarter += 1\n",
    "    \n",
    "# while(amount_in_cents - 10 >= 0):\n",
    "#     amount_in_cents -= 10\n",
    "#     coin_dime += 1\n",
    "    \n",
    "# while(amount_in_cents - 5 >= 0):\n",
    "#     amount_in_cents -= 5\n",
    "#     coin_nickle += 1\n",
    "    \n",
    "# while(amount_in_cents - 1 >= 0):\n",
    "#     amount_in_cents -= 1\n",
    "#     coin_penny += 1\n",
    "\n",
    "print(\"You need to give:\")\n",
    "if amount < 5:\n",
    "    print(\"\\t\", coin_penny, \"(penny coins)\")\n",
    "else:\n",
    "    print(\"\\t\", note_twenty, \"($20 notes)\")\n",
    "    print(\"\\t\", note_ten, \"($10 notes)\")\n",
    "    print(\"\\t\", note_five, \"($5 notes)\")\n",
    "    print(\"\\t\", note_one, \"($1 notes)\")\n",
    "    print(\"\\t\", coin_quarter, \"(quater coins)\")\n",
    "    print(\"\\t\", coin_dime, \"(dime coins)\")\n",
    "    print(\"\\t\", coin_nickle, \"(nickle coins)\")\n",
    "    print(\"\\tand\", coin_penny, \"(penny coins)\")"
   ]
  },
  {
   "cell_type": "code",
   "execution_count": null,
   "metadata": {},
   "outputs": [],
   "source": []
  }
 ],
 "metadata": {
  "kernelspec": {
   "display_name": "Python 3 (ipykernel)",
   "language": "python",
   "name": "python3"
  },
  "language_info": {
   "codemirror_mode": {
    "name": "ipython",
    "version": 3
   },
   "file_extension": ".py",
   "mimetype": "text/x-python",
   "name": "python",
   "nbconvert_exporter": "python",
   "pygments_lexer": "ipython3",
   "version": "3.9.12"
  }
 },
 "nbformat": 4,
 "nbformat_minor": 2
}
