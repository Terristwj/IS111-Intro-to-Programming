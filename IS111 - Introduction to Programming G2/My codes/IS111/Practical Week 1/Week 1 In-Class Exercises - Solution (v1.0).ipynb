{
 "cells": [
  {
   "cell_type": "markdown",
   "metadata": {},
   "source": [
    "<table class=\"table table-bordered\">\n",
    "    <tr>\n",
    "        <th style=\"text-align:center; width:35%\"><img src='https://drive.google.com/uc?export=view&id=1zIB3Nw_z8N2SJSSdd2yWQIsDS0MGPYKm' style=\"width: 300px; height: 90px; \"></th>\n",
    "        <th style=\"text-align:center;\"><h2>IS111 - In-Class Exercises</h2><h2>Week 1 (Solution)</h2></th>\n",
    "    </tr>\n",
    "</table>"
   ]
  },
  {
   "cell_type": "markdown",
   "metadata": {},
   "source": [
    "### Q1: Operators\n",
    "\n",
    "Without running the code below, what do you think the output will be?"
   ]
  },
  {
   "cell_type": "code",
   "execution_count": null,
   "metadata": {},
   "outputs": [],
   "source": [
    "print(2 + 3 * 3 / 5 - 2 + 8 % 5)\n",
    "print(15 % 5 - 15 / 5)\n",
    "print(10 / 2.5 / 2 - 5)\n",
    "print(11 // 4 * 2)\n",
    "print((3 + 5) * 2 % 3)\n",
    "print(2 + 3 * 6 % 3 ** 2 - 1)\n",
    "\n",
    "print(\"abc\" + \" \" + \"def\")\n",
    "print(\"abc\" + 123)"
   ]
  },
  {
   "cell_type": "markdown",
   "metadata": {},
   "source": [
    "### Q2: BMI Calculator\n",
    "\n",
    "You have probably heard about the body mass index or BMI. The definition of BMI from Wikipedia can be found below:\n",
    "\n",
    "\"The body mass index (BMI) or Quetelet index is a value derived from the mass (weight) and height of an individual. The BMI is defined as the body mass divided by the square of the body height, and is universally expressed in units of $\\text{kg}/\\text{m}^2$, resulting from mass in kilograms and height in metres.\"\n",
    "\n",
    "The formula to calculate BMI is also given below:\n",
    "\n",
    "$$\\text{BMI} = \\frac{\\text{mass}}{\\text{height}^2}$$\n",
    "\n",
    "Here mass is in kilograms and height is in metres.\n",
    "\n",
    "Write a piece of Python code that does the following:\n",
    "\n",
    "<ul>\n",
    "    <li>It prompts the user for his/her weight in kilograms.</li>\n",
    "    <li>It then prompts the user for his/her height in metres.</li>\n",
    "    <li>It calculates the BMI of this person and displays the BMI value to the screen.</li>\n",
    "</ul>\n",
    "\n",
    "A sample run of the code gives the following output:\n",
    "\n",
    "<img src=\"http://drive.google.com/uc?export=view&id=0B3N0YMArBdSBdHZqdnhDT2xzSEk\">"
   ]
  },
  {
   "cell_type": "code",
   "execution_count": null,
   "metadata": {},
   "outputs": [],
   "source": [
    "# Write your code below:\n",
    "\n",
    "weight = float(input(\"What's your weight (in kg)? \"))  # Use a variable to store the value. Use float() to convert the input from a string to a float.\n",
    "height = float(input(\"What's your height (in m)? \"))  # Variable can also be weight_in_kg (with underscores) to be more meaningful.\n",
    "bmi = weight / (height * height)   # Note the use of brackets.\n",
    "# bmi = weight / height ** 2  # An alternative solution.\n",
    "\n",
    "print(\"Your BMI is\", bmi)\n",
    "# print(\"Your BMI is \" + str(bmi))  # An alternative solution."
   ]
  },
  {
   "cell_type": "markdown",
   "metadata": {},
   "source": [
    "### Q3: Odd/Even Numbers\n",
    "\n",
    "Write a piece of Python code that does the following:\n",
    "\n",
    "<ul>\n",
    "    <li>It sequentially prompts the user for 4 integers.</li>\n",
    "    <li>It computes and displays the percentage of odd numbers and even numbers in these 4 integers.</li>\n",
    "</ul>\n",
    "\n",
    "You do not need to use any conditional statement like if-else, or any loop.\n",
    "\n",
    "For instance, if the 4 numbers are 1, 7, 4, 6, then the percentages of odd numbers and even numbers that will be displayed will be 50% and 50%, respectively. If the 4 numbers are 4, 2, 8, 5, then the percentages that will be displayed will be 75% and 25%, respectively.\n",
    "\n",
    "Hint: You may want to use the modulo-2 operation to determine if a number is odd or even.\n"
   ]
  },
  {
   "cell_type": "code",
   "execution_count": null,
   "metadata": {},
   "outputs": [],
   "source": [
    "# Write your code below:\n",
    "\n",
    "num_1 = int(input(\"Please enter the 1st number: \"))\n",
    "num_2 = int(input(\"Please enter the 2nd number: \"))\n",
    "num_3 = int(input(\"Please enter the 3rd number: \"))\n",
    "num_4 = int(input(\"Please enter the 4th number: \"))\n",
    "\n",
    "odd_percent = (num_1%2 + num_2%2 + num_3%2 + num_4%2)/4\n",
    "even_percent = 1 - odd_percent\n",
    "\n",
    "print(\"Percentage of odd numbers: \" + str(odd_percent*100) + \"%\" )\n",
    "print(\"Percentage of even numbers: \" + str(even_percent*100) + \"%\" )"
   ]
  },
  {
   "cell_type": "code",
   "execution_count": null,
   "metadata": {},
   "outputs": [],
   "source": []
  }
 ],
 "metadata": {
  "kernelspec": {
   "display_name": "Python 3 (ipykernel)",
   "language": "python",
   "name": "python3"
  },
  "language_info": {
   "codemirror_mode": {
    "name": "ipython",
    "version": 3
   },
   "file_extension": ".py",
   "mimetype": "text/x-python",
   "name": "python",
   "nbconvert_exporter": "python",
   "pygments_lexer": "ipython3",
   "version": "3.9.12"
  }
 },
 "nbformat": 4,
 "nbformat_minor": 2
}
