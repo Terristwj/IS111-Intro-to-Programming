{
 "cells": [
  {
   "cell_type": "code",
   "execution_count": 50,
   "id": "783afea3",
   "metadata": {},
   "outputs": [
    {
     "name": "stdout",
     "output_type": "stream",
     "text": [
      "6\n"
     ]
    }
   ],
   "source": [
    "# Create a function that performs factorial\n",
    "def compute_factorial(n):\n",
    "    if n > 1:\n",
    "        return n * compute_factorial(n-1)\n",
    "    else:\n",
    "        return 1\n",
    "\n",
    "print(compute_factorial(3))"
   ]
  },
  {
   "cell_type": "code",
   "execution_count": 56,
   "id": "4133c670",
   "metadata": {},
   "outputs": [
    {
     "name": "stdout",
     "output_type": "stream",
     "text": [
      "9\n"
     ]
    }
   ],
   "source": [
    "def get_num_digits(n):\n",
    "    quotient = n // 10\n",
    "    if quotient == 0:\n",
    "        return 1\n",
    "    return 1 + get_num_digits(quotient)\n",
    "\n",
    "print (get_num_digits(123456789))"
   ]
  },
  {
   "cell_type": "code",
   "execution_count": 7,
   "id": "571f7c45",
   "metadata": {},
   "outputs": [
    {
     "name": "stdout",
     "output_type": "stream",
     "text": [
      "1, 1, 2, 3, 5, 8, 13, 21, 34, 55\n"
     ]
    }
   ],
   "source": [
    "fiboList = []\n",
    "\n",
    "def display_fibonacci_numbers(n):\n",
    "    if n <= 1:\n",
    "        return n\n",
    "    else:\n",
    "        value = display_fibonacci_numbers(n-1) + display_fibonacci_numbers(n-2)\n",
    "        return value\n",
    "    \n",
    "def list_complier(n):\n",
    "    fiboList.append(display_fibonacci_numbers(n))\n",
    "    if n > 1:\n",
    "        list_complier(n-1)\n",
    "        \n",
    "list_complier(10)\n",
    "fiboList.sort()\n",
    "print(*fiboList, sep = \", \") "
   ]
  },
  {
   "cell_type": "code",
   "execution_count": null,
   "id": "385a1c4a",
   "metadata": {},
   "outputs": [],
   "source": []
  },
  {
   "cell_type": "code",
   "execution_count": null,
   "id": "b65cdda5",
   "metadata": {},
   "outputs": [],
   "source": []
  },
  {
   "cell_type": "code",
   "execution_count": null,
   "id": "b447c511",
   "metadata": {},
   "outputs": [],
   "source": []
  }
 ],
 "metadata": {
  "kernelspec": {
   "display_name": "Python 3 (ipykernel)",
   "language": "python",
   "name": "python3"
  },
  "language_info": {
   "codemirror_mode": {
    "name": "ipython",
    "version": 3
   },
   "file_extension": ".py",
   "mimetype": "text/x-python",
   "name": "python",
   "nbconvert_exporter": "python",
   "pygments_lexer": "ipython3",
   "version": "3.9.12"
  }
 },
 "nbformat": 4,
 "nbformat_minor": 5
}
