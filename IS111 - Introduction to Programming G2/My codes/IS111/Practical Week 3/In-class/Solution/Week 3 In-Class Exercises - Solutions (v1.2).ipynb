{
 "cells": [
  {
   "cell_type": "markdown",
   "metadata": {},
   "source": [
    "<table class=\"table table-bordered\">\n",
    "    <tr>\n",
    "        <th style=\"text-align:center; width:35%\"><img src='https://drive.google.com/uc?export=view&id=1zIB3Nw_z8N2SJSSdd2yWQIsDS0MGPYKm' style=\"width: 300px; height: 90px; \"></th>\n",
    "        <th style=\"text-align:center;\"><h3>IS111 - In-Class Exercises</h3><h3>Week 3</h3><h3>Conditions and Tuples</h3></th>\n",
    "    </tr>\n",
    "</table>"
   ]
  },
  {
   "cell_type": "markdown",
   "metadata": {},
   "source": [
    "### Q1 [ \\* ]: "
   ]
  },
  {
   "cell_type": "code",
   "execution_count": null,
   "metadata": {},
   "outputs": [],
   "source": [
    "# a = 20\n",
    "# b = 20\n",
    "# if a >= b:\n",
    "#     print(\"a >= b\")\n",
    "# if a <= b:\n",
    "#     print(\"a <= b\")"
   ]
  },
  {
   "cell_type": "code",
   "execution_count": null,
   "metadata": {},
   "outputs": [],
   "source": [
    "# a = 30\n",
    "# b = 30\n",
    "# if a >= b:\n",
    "#     print(\"a >= b\")\n",
    "# elif a <= b:\n",
    "#     print(\"a <= b\")"
   ]
  },
  {
   "cell_type": "code",
   "execution_count": null,
   "metadata": {},
   "outputs": [],
   "source": [
    "# c = \"IS111\"\n",
    "# d = \"is111\"\n",
    "# e = \"IS\" + \"111\"\n",
    "\n",
    "# print(c == d)\n",
    "# print(c == e)"
   ]
  },
  {
   "cell_type": "code",
   "execution_count": null,
   "metadata": {},
   "outputs": [],
   "source": [
    "# def test_if_else(condition1, condition2):\n",
    "#     if (condition1):\n",
    "#         print(\"Great!\")\n",
    "#         return True\n",
    "#     elif(condition2):\n",
    "#         print(\"Good!\")\n",
    "#         return True\n",
    "#     else:\n",
    "#         print(\"Okay\")\n",
    "#         return False\n",
    "\n",
    "# result = test_if_else(4 % 2 != 0, 3 // 2 == 1)\n",
    "# print(result)"
   ]
  },
  {
   "cell_type": "markdown",
   "metadata": {},
   "source": [
    "### Q3 [ \\* ]: Day of a Week"
   ]
  },
  {
   "cell_type": "markdown",
   "metadata": {},
   "source": [
    "#### a) define get_day_of_week"
   ]
  },
  {
   "cell_type": "code",
   "execution_count": null,
   "metadata": {},
   "outputs": [],
   "source": [
    "# Write your code below.\n",
    "\n",
    "\n",
    "# SOLUTION 1\n",
    "\n",
    "def get_day_of_week(n):\n",
    "    if n == 0:\n",
    "        return \"Sunday\"\n",
    "    elif n == 1:\n",
    "        return \"Monday\"\n",
    "    elif n == 2:\n",
    "        return \"Tuesday\"\n",
    "    elif n == 3:\n",
    "        return \"Wednesday\"\n",
    "    elif n == 4:\n",
    "        return \"Thursday\"\n",
    "    elif n == 5:\n",
    "        return \"Friday\"\n",
    "    elif n == 6:\n",
    "        return \"Saturday\""
   ]
  },
  {
   "cell_type": "code",
   "execution_count": null,
   "metadata": {},
   "outputs": [],
   "source": [
    "# SOLUTION 2\n",
    "\n",
    "def get_day_of_week(n):\n",
    "    # We use a tuple to record all the days of week.\n",
    "    days_of_week = (\"Sunday\", \"Monday\", \"Tuesday\", \"Wednesday\", \"Thursday\", \"Friday\", \"Saturday\")\n",
    "    \n",
    "    # Uncomment the code below to understand how the variable days_of_week looks like.\n",
    "    # print(type(days_of_week))\n",
    "    # print(days_of_week)\n",
    "    \n",
    "    return days_of_week[n]\n"
   ]
  },
  {
   "cell_type": "markdown",
   "metadata": {},
   "source": [
    "#### b) prompt the user and display day of a week"
   ]
  },
  {
   "cell_type": "code",
   "execution_count": null,
   "metadata": {},
   "outputs": [],
   "source": [
    "# Write your code below.\n",
    "\n",
    "\n",
    "# SOLUTION\n",
    "\n",
    "n = int(input('Enter a number indicating the day of the week [0 to 6]: '))\n",
    "if n < 0:\n",
    "    print('Your number should be at least 0.')\n",
    "elif n > 6:\n",
    "    print('Your number should be at most 6.')\n",
    "else:\n",
    "    print(get_day_of_week(n))"
   ]
  },
  {
   "cell_type": "markdown",
   "metadata": {},
   "source": [
    "### Q4 [ \\*\\* ]: Tax Calculator"
   ]
  },
  {
   "cell_type": "markdown",
   "metadata": {},
   "source": [
    "#### a) define calculate_income_tax"
   ]
  },
  {
   "cell_type": "code",
   "execution_count": null,
   "metadata": {},
   "outputs": [],
   "source": [
    "# Write your code below:\n",
    "\n",
    "# SOLUTION\n",
    "\n",
    "def calculate_income_tax(income):\n",
    "    if income <= 20000:\n",
    "        tax = 0\n",
    "    elif income <= 30000:\n",
    "        tax = 0 + (income - 20000) * 0.02\n",
    "    elif income <= 40000:\n",
    "        tax = 200 + (income - 30000) * 0.035\n",
    "    elif income <= 80000:\n",
    "        tax = 550 + (income - 40000) * 0.07\n",
    "    elif income <= 120000:\n",
    "        tax = 3350 + (income - 80000) * 0.115\n",
    "    elif income <= 160000:\n",
    "        tax = 7950 + (income - 120000) * 0.15\n",
    "    elif income <= 200000:\n",
    "        tax = 13950 + (income - 160000) * 0.18\n",
    "    elif income <= 240000:\n",
    "        tax = 21150 + (income - 200000) * 0.19\n",
    "    elif income <= 280000:\n",
    "        tax = 28750 + (income - 240000) * 0.195\n",
    "    elif income <= 320000:\n",
    "        tax = 36550 + (income - 280000) * 0.20\n",
    "    else:\n",
    "        tax = 44550 + (income - 320000) * 0.22\n",
    "    return tax"
   ]
  },
  {
   "cell_type": "markdown",
   "metadata": {},
   "source": [
    "#### b) call calculate_income_tax with user input"
   ]
  },
  {
   "cell_type": "code",
   "execution_count": null,
   "metadata": {},
   "outputs": [],
   "source": [
    "# Write your code below:\n",
    "\n",
    "# SOLUTION\n",
    "\n",
    "revenue = float(input('Enter your annual taxable income : '))\n",
    "print('Your total tax is $' + str(calculate_income_tax(revenue)))"
   ]
  },
  {
   "cell_type": "markdown",
   "metadata": {},
   "source": [
    "### Q5 [ \\*\\* ]: Evaluation of Expressions"
   ]
  },
  {
   "cell_type": "code",
   "execution_count": null,
   "metadata": {},
   "outputs": [],
   "source": [
    "# not True or (3 >= 3 or 9 < 4) and False\n",
    "# not True or 3 >= 3 or 9 < 4 and False\n",
    "# False == (False or not True) or not (2 * 4 % 3 == 1)"
   ]
  },
  {
   "cell_type": "markdown",
   "metadata": {},
   "source": [
    "### Q6 [ \\*\\* ]: Mooncakes"
   ]
  },
  {
   "cell_type": "markdown",
   "metadata": {},
   "source": [
    "#### a) define get_discount_rate"
   ]
  },
  {
   "cell_type": "code",
   "execution_count": null,
   "metadata": {},
   "outputs": [],
   "source": [
    "# Write your code below.\n",
    "\n",
    "# SOLUTION\n",
    "\n",
    "def get_discount_rate(num_boxes):\n",
    "    if num_boxes >= 5:\n",
    "        discount = 0.2\n",
    "    elif num_boxes >= 2:\n",
    "        discount = 0.1\n",
    "    else:\n",
    "        discount = 0.0\n",
    "    return discount    "
   ]
  },
  {
   "cell_type": "markdown",
   "metadata": {},
   "source": [
    "#### b) define calculate_total_amount"
   ]
  },
  {
   "cell_type": "code",
   "execution_count": null,
   "metadata": {},
   "outputs": [],
   "source": [
    "# Write your code below.\n",
    "\n",
    "# SOLUTION\n",
    "\n",
    "def calculate_total_amount(brand, num_boxes):\n",
    "    BRAND_1 = \"Tung Lok\"\n",
    "    BRAND_2 = \"Man Fu Yuan\"\n",
    "    PRICE_1 = 55.40\n",
    "    PRICE_2 = 59.60\n",
    "    \n",
    "    if brand == BRAND_1:\n",
    "        price = PRICE_1\n",
    "    else:\n",
    "        price = PRICE_2\n",
    "    \n",
    "    return price * num_boxes * (1 - get_discount_rate(num_boxes))"
   ]
  },
  {
   "cell_type": "markdown",
   "metadata": {},
   "source": [
    "#### c) the main program"
   ]
  },
  {
   "cell_type": "code",
   "execution_count": null,
   "metadata": {},
   "outputs": [],
   "source": [
    "# Write your code below.\n",
    "\n",
    "brand = input(\"Which brand do you want to buy? \")\n",
    "num_boxes = int(input(\"How many boxes do you want to buy? \"))\n",
    "\n",
    "print(\"You need to pay $\" + str(calculate_total_amount(brand, num_boxes)) )"
   ]
  },
  {
   "cell_type": "markdown",
   "metadata": {},
   "source": [
    "### Q7 [ \\*\\* ]: This exercise is to be done using Notepad++ and Anaconda Prompt."
   ]
  },
  {
   "cell_type": "code",
   "execution_count": null,
   "metadata": {},
   "outputs": [],
   "source": []
  }
 ],
 "metadata": {
  "kernelspec": {
   "display_name": "Python 3 (ipykernel)",
   "language": "python",
   "name": "python3"
  },
  "language_info": {
   "codemirror_mode": {
    "name": "ipython",
    "version": 3
   },
   "file_extension": ".py",
   "mimetype": "text/x-python",
   "name": "python",
   "nbconvert_exporter": "python",
   "pygments_lexer": "ipython3",
   "version": "3.7.4"
  }
 },
 "nbformat": 4,
 "nbformat_minor": 2
}
