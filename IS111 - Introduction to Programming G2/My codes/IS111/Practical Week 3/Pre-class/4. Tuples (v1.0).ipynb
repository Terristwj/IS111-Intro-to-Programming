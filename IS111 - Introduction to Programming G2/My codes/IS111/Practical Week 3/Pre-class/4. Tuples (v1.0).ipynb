{
 "cells": [
  {
   "cell_type": "markdown",
   "metadata": {},
   "source": [
    "<table class=\"table table-bordered\">\n",
    "    <tr>\n",
    "        <th style=\"text-align:center; width:35%\"><img src='https://drive.google.com/uc?export=view&id=1zIB3Nw_z8N2SJSSdd2yWQIsDS0MGPYKm' style=\"width: 300px; height: 90px; \"></th>\n",
    "        <th style=\"text-align:center;\"><h3>IS111 - Notebook 4</h3><h2>Tuples</h2></th>\n",
    "    </tr>\n",
    "</table>"
   ]
  },
  {
   "cell_type": "markdown",
   "metadata": {},
   "source": [
    "## Learning Outcomes\n",
    "\n",
    "At the end of this lesson, you should be able to:\n",
    "<ul>\n",
    "<li> Understand what is a tuple.</li>\n",
    "<li> Create a tuple.</li>\n",
    "<li> Access each element inside a tuple using [ ].</li>\n",
    "<li> Understand that tuples are immutable.</li>\n",
    "</ul>\n",
    "\n",
    "\n",
    "We often need to store a group of values together as a single entity. For example, instead of storing a person's full name as a single string, we often want to store his/her surname and given name as two separate strings, but these two strings need to be associated together. In another example, we may want to store the brand, model and price of a smart phone together. How can we make this happen?\n",
    "\n",
    "In Python, there is a data type called `tuple` that allows us to easiy store a group of values together. In this note book, we learn some basics of Python tuples.\n",
    "\n",
    "## I. Creating a Tuple\n",
    "\n",
    "Recall that a string is a sequence of characters. A `tuple` is another kind of a sequence. Generally speaking, we can think of a `tuple` as a sequence of elements of any type. See the following code for two example tuples:"
   ]
  },
  {
   "cell_type": "code",
   "execution_count": null,
   "metadata": {},
   "outputs": [],
   "source": [
    "name = (\"George\", \"Washington\")\n",
    "phone_info = (\"Samsung\", \"Galaxy Note 7\", 759.5)\n",
    "\n",
    "print(name)\n",
    "print(type(name))\n",
    "\n",
    "print(phone_info)\n",
    "print(type(phone_info))"
   ]
  },
  {
   "cell_type": "markdown",
   "metadata": {},
   "source": [
    "In the example above, the first tuple called `name` has two elements, both of which are strings. The second tuple called `phone_info` has three elements, which are two strings and a float. \n",
    "\n",
    "We can see that to create a tuple, we need to use a pair of parentheses and place the elements inside the parentheses, separated by commas. A tuple can be stored in a single variable. Also note that the elements of a tuple can be of different data types. For example, `phone_info` contains two strings and a number."
   ]
  },
  {
   "cell_type": "markdown",
   "metadata": {},
   "source": [
    "## II. Accessing the Elements of a Tuple\n",
    "\n",
    "We can access each individual element of a tuple by specifying its position in the tuple. In computer programming, a number indicating the position of an element in a sequence is called an <b>index</b>. Indices (or indexes) always start from 0 (rather than from 1).\n",
    "\n",
    "To access an element in a tuple, we use a pair of square brackets [ ] to indicate the index of the element we want to access.\n",
    "\n",
    "For example, given the two tuples defined above, what do you think the following code will print? Run the code to check whether your guess is correct."
   ]
  },
  {
   "cell_type": "code",
   "execution_count": null,
   "metadata": {},
   "outputs": [],
   "source": [
    "print(name[0])\n",
    "print(phone_info[2])"
   ]
  },
  {
   "cell_type": "markdown",
   "metadata": {},
   "source": [
    "### Tuples Are Immutable\n",
    "\n",
    "Although we could access the elements of a tuple one by one, these elements cannot be modified. \n",
    "\n",
    "Run the following code and see what happens:"
   ]
  },
  {
   "cell_type": "code",
   "execution_count": null,
   "metadata": {},
   "outputs": [],
   "source": [
    "my_major = (\"SMU\", \"SIS\", \"Information Systems\")\n",
    "print(my_major)\n",
    "\n",
    "my_major[2] = \"Smart-City Management & Technology\"\n",
    "print(my_major)"
   ]
  },
  {
   "cell_type": "markdown",
   "metadata": {},
   "source": [
    "We can see that we encounter a `TypeError` and it ways 'tuple' object does not support item assignment. This means we cannot change an item inside a tuple."
   ]
  },
  {
   "cell_type": "markdown",
   "metadata": {},
   "source": [
    "## III. Using Tuple as a Return Value in a Function\n",
    "\n",
    "Previously we have talked about user-defined functions. So far the functions we have seen either does not return any value or returns a single value. But sometimes we may want a function to return multiple values. In this case, we can first group these values into a tuple and then return the tuple as a single entity.\n",
    "\n",
    "Take a look at the following code and think of how it works. Run the code to see if you are right."
   ]
  },
  {
   "cell_type": "code",
   "execution_count": null,
   "metadata": {},
   "outputs": [],
   "source": [
    "def get_full_name():\n",
    "    surname = input(\"What's your surname? \")\n",
    "    given_name = input(\"What's your given name? \")\n",
    "    full_name = (given_name, surname)\n",
    "    return full_name\n",
    "\n",
    "name = get_full_name()\n",
    "print(\"Hello, \", name[0], \"!\")\n",
    "print(\"Your surname is\", name[1])"
   ]
  },
  {
   "cell_type": "markdown",
   "metadata": {
    "collapsed": true
   },
   "source": [
    "We can even simplify the code above by directly return the two values together, as shown in the following modified `get_full_name2` function:"
   ]
  },
  {
   "cell_type": "code",
   "execution_count": null,
   "metadata": {},
   "outputs": [],
   "source": [
    "def get_full_name2():\n",
    "    surname = input(\"What's your surname? \")\n",
    "    given_name = input(\"What's your given name? \")\n",
    "    return (given_name, surname)\n",
    "\n",
    "name = get_full_name()\n",
    "print(\"Hello, \", name[0], \"!\")\n",
    "print(\"Your surname is\", name[1])"
   ]
  },
  {
   "cell_type": "markdown",
   "metadata": {},
   "source": [
    "Note that even if we leave out the pair of parentheses in the return statement, the code would work the same, as shown below. Here Python would automatically combine the two values into a tuple and return it."
   ]
  },
  {
   "cell_type": "code",
   "execution_count": null,
   "metadata": {},
   "outputs": [],
   "source": [
    "def get_full_name3():\n",
    "    surname = input(\"What's your surname? \")\n",
    "    given_name = input(\"What's your given name? \")\n",
    "    return given_name, surname\n",
    "\n",
    "name = get_full_name()\n",
    "print(\"Hello, \", name[0], \"!\")\n",
    "print(\"Your surname is\", name[1])"
   ]
  },
  {
   "cell_type": "markdown",
   "metadata": {},
   "source": [
    "Finally, when a function returns a tuple that consists of $n$ elements, we could also use $n$ variables to capture the elements of the returned tuple, as shown below:"
   ]
  },
  {
   "cell_type": "code",
   "execution_count": null,
   "metadata": {},
   "outputs": [],
   "source": [
    "def get_user_info():\n",
    "    surname = input(\"What's your surname? \")\n",
    "    given_name = input(\"What's your given name? \")\n",
    "    age = int(input(\"What's your age? \"))\n",
    "    return (surname, given_name, age)\n",
    "\n",
    "(name1, name2, age) = get_user_info()\n",
    "print(name1)\n",
    "print(name2)\n",
    "print(age)"
   ]
  },
  {
   "cell_type": "markdown",
   "metadata": {},
   "source": [
    "<img align=\"left\" src='https://drive.google.com/uc?export=view&id=0B08uY8vosNfobDBuOXVXQWVxMFE' style=\"width: 60px; height: 60px;\"><br />Let's do an exercise !"
   ]
  },
  {
   "cell_type": "markdown",
   "metadata": {},
   "source": [
    "Define a function called `perform_integer_devision` that takes in two parameters, `m` and `n`. It returns a tuple that consists of two elements: the integer part of the quotient of `m` divided by `n`, and the remainder of `m` divided by `n`."
   ]
  },
  {
   "cell_type": "code",
   "execution_count": null,
   "metadata": {},
   "outputs": [],
   "source": [
    "def perform_integer_division(m, n):\n",
    "    # Modify the code below based on the description above.\n",
    "    return (, m % n)\n",
    "    \n",
    "    \n",
    "    return"
   ]
  },
  {
   "cell_type": "markdown",
   "metadata": {},
   "source": [
    "When the following code is run, the correct output should be `(3, 1)` and `(2, 5)`."
   ]
  },
  {
   "cell_type": "code",
   "execution_count": null,
   "metadata": {},
   "outputs": [],
   "source": [
    "print(perform_integer_division(10, 3))\n",
    "print(perform_integer_division(19, 7))"
   ]
  }
 ],
 "metadata": {
  "kernelspec": {
   "display_name": "Python 3 (ipykernel)",
   "language": "python",
   "name": "python3"
  },
  "language_info": {
   "codemirror_mode": {
    "name": "ipython",
    "version": 3
   },
   "file_extension": ".py",
   "mimetype": "text/x-python",
   "name": "python",
   "nbconvert_exporter": "python",
   "pygments_lexer": "ipython3",
   "version": "3.9.12"
  }
 },
 "nbformat": 4,
 "nbformat_minor": 2
}
