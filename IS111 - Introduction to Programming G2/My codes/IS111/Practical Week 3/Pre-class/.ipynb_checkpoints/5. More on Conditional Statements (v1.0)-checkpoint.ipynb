{
 "cells": [
  {
   "cell_type": "markdown",
   "metadata": {},
   "source": [
    "<table class=\"table table-bordered\">\n",
    "    <tr>\n",
    "        <th style=\"text-align:center; width:35%\"><img src='https://drive.google.com/uc?export=view&id=1zIB3Nw_z8N2SJSSdd2yWQIsDS0MGPYKm' style=\"width: 300px; height: 90px; \"></th>\n",
    "        <th style=\"text-align:center;\"><h3>IS111 - Notebook 5</h3><h2>More on Conditional Statements</h2></th>\n",
    "    </tr>\n",
    "</table>"
   ]
  },
  {
   "cell_type": "markdown",
   "metadata": {},
   "source": [
    "## Learning Outcomes\n",
    "\n",
    "At the end of this lesson, you should be able to:\n",
    "<ul>\n",
    "    <li> Understand and apply nested <code>if</code>/<code>else</code> statements to solve problems.</li>\n",
    "<li> Understand and apply logical operators to solve problems.</li>\n",
    "</ul>\n",
    "\n",
    "\n",
    "In this notebook, we will discuss some more complex conditional statements."
   ]
  },
  {
   "cell_type": "markdown",
   "metadata": {},
   "source": [
    "## I. Nested <code>if</code>/<code>else</code> Statements\n",
    "\n",
    "It is possible to place one if or <code>if</code>/<code>else</code> statement inside another <code>if</code> or <code>if</code>/<code>else</code> statement. These are called nested <code>if</code>/<code>else</code> statements.\n",
    "\n",
    "Recall the following code from the earlier notebook on conditions:"
   ]
  },
  {
   "cell_type": "code",
   "execution_count": null,
   "metadata": {},
   "outputs": [],
   "source": [
    "def find_grade(score):\n",
    "    if score >= 90:\n",
    "        return 'A'\n",
    "    elif score >= 80:\n",
    "        return 'B'\n",
    "    elif score >= 70:\n",
    "        return 'C'\n",
    "    else:\n",
    "        return 'D'"
   ]
  },
  {
   "cell_type": "markdown",
   "metadata": {},
   "source": [
    "The code above can also be implemented in the following way:"
   ]
  },
  {
   "cell_type": "code",
   "execution_count": null,
   "metadata": {},
   "outputs": [],
   "source": [
    "def find_grade2(score):\n",
    "    if score >= 90:\n",
    "        return 'A'\n",
    "    else:\n",
    "        if score >= 80:\n",
    "            return 'B'\n",
    "        else:\n",
    "            if score >= 70:\n",
    "                return 'C'\n",
    "            else:\n",
    "                return 'D'\n",
    "            \n",
    "print(find_grade2(85))\n",
    "print(find_grade2(63))"
   ]
  },
  {
   "cell_type": "markdown",
   "metadata": {},
   "source": [
    "<img align=\"left\" src='https://drive.google.com/uc?export=view&id=0B08uY8vosNfobDBuOXVXQWVxMFE' style=\"width: 60px; height: 60px;\"><br />Let's do an exercise !"
   ]
  },
  {
   "cell_type": "markdown",
   "metadata": {},
   "source": [
    "Can you complete the code below using nested if-else statement to implement yet another version of the function that behaves in the same way? "
   ]
  },
  {
   "cell_type": "code",
   "execution_count": null,
   "metadata": {},
   "outputs": [],
   "source": [
    "def find_grade3(score):\n",
    "    if score >= 80:\n",
    "        # add an if-else statement here to return either 'A' or 'B'\n",
    "        if score > 90:\n",
    "            print('A')\n",
    "        else:\n",
    "            print('B')\n",
    "    else:\n",
    "        # add another if-else statement here to return either 'C' or 'D'\n",
    "        if score >= 70\n",
    "        \n",
    "print(find_grade3(85))\n",
    "print(find_grade3(63))"
   ]
  },
  {
   "cell_type": "markdown",
   "metadata": {},
   "source": [
    "## II. Logical Operators\n",
    "\n",
    "We sometimes need to check more than one conditions in order to make a decision. Logical operators are designed to help us with this need.\n",
    "\n",
    "There are three logical operators, `and`, `or` and `not`. These operators are applied to Boolean values. In the table below, we explain these operators and give some examples. Assume that `a` is a variable whose value is `False`, and `b` is another variable whose value is `True`."
   ]
  },
  {
   "cell_type": "markdown",
   "metadata": {},
   "source": [
    "<table align=\"left\" class=\"table table-bordered\" style=\"width:90%\">\n",
    "<tr>\n",
    "<th style=\"text-align:center; width:10%\">Operator</th>\n",
    "<th style=\"text-align:center; width:55%\">Description</th>\n",
    "<th style=\"text-align:center\">Example</th>\n",
    "</tr>\n",
    "<tr>\n",
    "<td style=\"text-align:center; vertical-align:middle;\"><font face=\"courier new\">and</font></td>\n",
    "<td style=\"text-align:left\">If both operands are true, then the value of the expression is true. Otherwise it is false.</td>\n",
    "<td><font face=\"courier new\">a and b</font><br/>value: <font face=\"courier new\">False</font></td>\n",
    "</tr>\n",
    "<tr>\n",
    "<td style=\"text-align:center; vertical-align:middle;\"><font face=\"courier new\">or</font></td>\n",
    "<td style=\"text-align:left\">If at least one of the two operands is true, then the value of the expression is true. Otherwise it is false.</td>\n",
    "<td><font face=\"courier new\">a or b</font><br/>value: <font face=\"courier new\">True</font></td>\n",
    "</tr>\n",
    "<tr>\n",
    "<td style=\"text-align:center; vertical-align:middle;\"><font face=\"courier new\">not</font></td>\n",
    "<td style=\"text-align:left\">This operator takes a single operand. If the operand is true, the expression is false. Otherwise the expression is true.</td>\n",
    "<td><font face=\"courier new\">not a</font><br/>value: <font face=\"courier new\">True</font></td>\n",
    "</tr>\n",
    "</table>\n"
   ]
  },
  {
   "cell_type": "markdown",
   "metadata": {},
   "source": [
    "Note that these logical operators are used not just to connect variables of bool type but also other Boolean expressions. \n",
    "\n",
    "Take a look at the following example code. If the user enters `10` as age and `'M'` as gender, what do you think the output of the code will be? How about `10` as age and `'F'` as gender? Run the code to try it out."
   ]
  },
  {
   "cell_type": "code",
   "execution_count": null,
   "metadata": {},
   "outputs": [],
   "source": [
    "age = int(input(\"How old are you? \"))\n",
    "gender = input(\"What's your gender? (M|F) \")\n",
    "\n",
    "if age <= 12 and gender == 'M':\n",
    "    print(\"Hello boy!\")"
   ]
  },
  {
   "cell_type": "markdown",
   "metadata": {},
   "source": [
    "Think about how you could implement this code without using the logical operator `and`. One way is the following:"
   ]
  },
  {
   "cell_type": "code",
   "execution_count": null,
   "metadata": {},
   "outputs": [],
   "source": [
    "age = int(input(\"How old are you? \"))\n",
    "gender = input(\"What's your gender? (M|F) \")\n",
    "\n",
    "if age <= 12:\n",
    "    if gender == 'M':\n",
    "        print(\"Hello boy!\")"
   ]
  },
  {
   "cell_type": "markdown",
   "metadata": {
    "collapsed": true
   },
   "source": [
    "Although the code above also works, we can see that using the `and` operator makes the code more compact and easier to understand."
   ]
  },
  {
   "cell_type": "markdown",
   "metadata": {
    "collapsed": true
   },
   "source": [
    "### Precedence Table\n",
    "\n",
    "With the new operators we have learned, let's look at the following precedence table with more operators. Precedence goes down when we move down the table.\n",
    "\n",
    "<table align=\"left\" class=\"table table-bordered\">\n",
    "<tr>\n",
    "<th style=\"text-align:center; width:25%\">Operator</th>\n",
    "<th style=\"text-align:center; width:35%\">Description</th>\n",
    "</tr>\n",
    "<tr>\n",
    "<td style=\"text-align:center; vertical-align:middle;\">&#8727;&#8727;</td>\n",
    "<td>Exponent</td>\n",
    "</tr>\n",
    "<tr>\n",
    "<td style=\"text-align:center; vertical-align:middle;\">&#8727;, /, %, //</td>\n",
    "<td>Multiplication, division, modulo and floor division</td>\n",
    "</tr>\n",
    "<tr>\n",
    "<td style=\"text-align:center; vertical-align:middle;\">+, -</td>\n",
    "<td>Addition and subtraction</td>\n",
    "</tr>\n",
    "<tr>\n",
    "<td style=\"text-align:center; vertical-align:middle;\">==, !=, &lt;, &lt;=, >, >=</td>\n",
    "<td>Relational Operators</td>\n",
    "</tr>\n",
    "<tr>\n",
    "<td style=\"text-align:center; vertical-align:middle;\">not</td>\n",
    "<td>Boolean NOT</td>\n",
    "</tr>\n",
    "<tr>\n",
    "<td style=\"text-align:center; vertical-align:middle;\">and</td>\n",
    "<td>Boolean AND</td>\n",
    "</tr>\n",
    "<tr>\n",
    "<td style=\"text-align:center; vertical-align:middle;\">or</td>\n",
    "<td>Boolean OR</td>\n",
    "</tr>\n",
    "</table>\n"
   ]
  },
  {
   "cell_type": "markdown",
   "metadata": {},
   "source": [
    "<img align=\"left\" src='https://drive.google.com/uc?export=view&id=0B08uY8vosNfobDBuOXVXQWVxMFE' style=\"width: 60px; height: 60px;\"><br />Let's do an exercise !"
   ]
  },
  {
   "cell_type": "markdown",
   "metadata": {},
   "source": [
    "Can you figure out the values of the expression below without running the code?"
   ]
  },
  {
   "cell_type": "code",
   "execution_count": null,
   "metadata": {},
   "outputs": [],
   "source": [
    "print(10 > 12 or 10 < 15)\n",
    "print(not 10 > 12 and 10 < 15 )\n",
    "print(not (10 != 10 or 15 > 10))"
   ]
  },
  {
   "cell_type": "markdown",
   "metadata": {},
   "source": [
    "### De Morgan's Law\n",
    "\n",
    "If we look at the last expression above, we can see that it's quite complicated. We can simplify the expression using <b>De Morgan's Law</b>.\n",
    "\n",
    "The De Morgan's Law states that\n",
    "<ul>\n",
    "<li>not (A and B) is equivalent to (not A or not B)</li>\n",
    "<li>not (A or B) is equivalent to (not A and not B)</li>\n",
    "</ul>\n",
    "\n",
    "For example, compare the following two `print()` statements:"
   ]
  },
  {
   "cell_type": "code",
   "execution_count": null,
   "metadata": {},
   "outputs": [],
   "source": [
    "a = True\n",
    "b = True\n",
    "\n",
    "print(not (a and b))\n",
    "print(not a or not b)"
   ]
  },
  {
   "cell_type": "markdown",
   "metadata": {},
   "source": [
    "You can modify the values of `a` and `b` above and see whether the two `print()` statements are always the same."
   ]
  },
  {
   "cell_type": "markdown",
   "metadata": {},
   "source": [
    "<img align=\"left\" src='https://drive.google.com/uc?export=view&id=0B08uY8vosNfobDBuOXVXQWVxMFE' style=\"width: 60px; height: 60px;\"><br />Let's do an exercise !"
   ]
  },
  {
   "cell_type": "markdown",
   "metadata": {},
   "source": [
    "Can you simplify the following expression?"
   ]
  },
  {
   "cell_type": "code",
   "execution_count": null,
   "metadata": {},
   "outputs": [],
   "source": [
    "print(not (10 != 10 or 15 > 10))\n",
    "\n",
    "# Enter your simplified expression below:\n"
   ]
  }
 ],
 "metadata": {
  "kernelspec": {
   "display_name": "Python 3 (ipykernel)",
   "language": "python",
   "name": "python3"
  },
  "language_info": {
   "codemirror_mode": {
    "name": "ipython",
    "version": 3
   },
   "file_extension": ".py",
   "mimetype": "text/x-python",
   "name": "python",
   "nbconvert_exporter": "python",
   "pygments_lexer": "ipython3",
   "version": "3.9.12"
  }
 },
 "nbformat": 4,
 "nbformat_minor": 2
}
