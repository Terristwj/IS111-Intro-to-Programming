{
 "cells": [
  {
   "cell_type": "markdown",
   "metadata": {},
   "source": [
    "<table class=\"table table-bordered\">\n",
    "    <tr>\n",
    "        <th style=\"text-align:center; width:35%\"><img src='https://drive.google.com/uc?export=view&id=1zIB3Nw_z8N2SJSSdd2yWQIsDS0MGPYKm' style=\"width: 300px; height: 90px; \"></th>\n",
    "        <th style=\"text-align:center;\"><h3>IS111 - Notebook 3</h3><h2>Conditional Statements</h2></th>\n",
    "    </tr>\n",
    "</table>"
   ]
  },
  {
   "cell_type": "markdown",
   "metadata": {},
   "source": [
    "## Learning Outcomes\n",
    "\n",
    "At the end of this lesson, you should be able to:\n",
    "<ul>\n",
    "    <li> Use values and variables of the <code>bool</code> type appropriately.</li>\n",
    "<li> Understand and use the relational operators correctly.</li>\n",
    "    <li> Understand and apply <code>if</code>/<code>else</code> statements to solve problems.</li>\n",
    "</ul>\n",
    "\n",
    "<br />In our daily lives, there are always decisions to be made. For example, when buying a smart phone, we may decide between two models based on their prices and our budget. \n",
    "\n",
    "When we need to implement the logic behind these decisions in programming, we often need to check whether a condition is satisfied and then perform different actions (i.e., execute different segments of code) based on the condition. For example, if the price of phone model A is lower than the price of phone model B, then we will purchase A; otherwise, we will purchase B. In this case, we need to compare the prices of the two phone models and then pick only one of the two actions, namely, to purchase A and to purchase B.\n",
    "\n",
    "In this notebook, we learn this kind of <b>conditional statements</b> in Python. We start with a new data type called `bool` and operators that involve <b>Boolean</b> values. We then introduce how we can use `if` and `else` to write conditional statements."
   ]
  },
  {
   "cell_type": "markdown",
   "metadata": {
    "collapsed": true
   },
   "source": [
    "## I. bool\n",
    "\n",
    "In Python, there is a data type called `bool` (which stands for <b>Boolean</b>). There are only two possible values for this data type: `True` and `False`.\n",
    "\n",
    "The code below shows two variables of `bool` type."
   ]
  },
  {
   "cell_type": "code",
   "execution_count": null,
   "metadata": {},
   "outputs": [],
   "source": [
    "on_loan = True\n",
    "available = False\n",
    "print(on_loan, available)\n",
    "print(type(on_loan), type(available))"
   ]
  },
  {
   "cell_type": "markdown",
   "metadata": {},
   "source": [
    "Note that `True` and `False` both have to be capitalized. Also note that they are not strings, so do not put them inside quotes. They are two <b>keywords</b> in Python. "
   ]
  },
  {
   "cell_type": "markdown",
   "metadata": {},
   "source": [
    "## II. Relational Operators\n",
    "\n",
    "There are Python expressions whose values are Boolean. Let us now look at relational operators.\n",
    "\n",
    "These operators <b>compare</b> the values on the two sides of them and decide the relation between the two values. The result of the comparison is a Boolean value.\n",
    "\n",
    "The following table summarizes these operators. In the examples, the variable `a` holds `10` and the variable `b` holds `20`.\n",
    "\n",
    "<table class=\"table table-bordered\">\n",
    "<tr>\n",
    "<th style=\"text-align:center; width:10%\">Operator</th>\n",
    "<th style=\"text-align:center; width:15%\">Operation</th>\n",
    "<th style=\"text-align:center; width:55%\">Description</th>\n",
    "<th style=\"text-align:center;\">Example</th>\n",
    "</tr>\n",
    "<tr>\n",
    "<td style=\"text-align:center;\">==</td>\n",
    "<td style=\"text-align:center;\">Equality</td>\n",
    "<td style=\"text-align:left\">If the values of two operands are equal, then the condition becomes true.</td>\n",
    "<td> (a == b) is False.</td>\n",
    "</tr>\n",
    "<tr>\n",
    "<td style=\"text-align:center;\">!=</td>\n",
    "<td style=\"text-align:center;\">Non-equality</td>\n",
    "<td style=\"text-align:left\">If values of two operands are not equal, then condition becomes true.</td>\n",
    "<td> (a != b) is True.</td>\n",
    "</tr>\n",
    "<tr>\n",
    "<td style=\"text-align:center;\">&gt;</td>\n",
    "<td style=\"text-align:center;\">Greater than</td>\n",
    "<td style=\"text-align:left\">If the value of the left operand is greater than the value of the right operand, then the condition becomes true.</td>\n",
    "<td> (a &gt; b) is False.</td>\n",
    "</tr>\n",
    "<tr>\n",
    "<td style=\"text-align:center;\">&lt;</td>\n",
    "<td style=\"text-align:center;\">Smaller than</td>\n",
    "<td style=\"text-align:left\">If the value of the left operand is less than the value of the right operand, then the condition becomes true.</td>\n",
    "<td> (a &lt; b) is True.</td>\n",
    "</tr>\n",
    "<tr>\n",
    "<td style=\"text-align:center;\">&gt;=</td>\n",
    "<td style=\"text-align:center;\">Greater than or equal to</td>\n",
    "<td style=\"text-align:left\">If the value of the left operand is greater than or equal to the value of the right operand, then the condition becomes true.</td>\n",
    "<td> (a &gt;= b) is False. </td>\n",
    "</tr>\n",
    "<tr>\n",
    "<td style=\"text-align:center;\">&lt;=</td>\n",
    "<td style=\"text-align:center;\">Smaller than or equal to</td>\n",
    "<td style=\"text-align:left\">If the value of the left operand is less than or equal to the value of the right operand, then the condition becomes true.</td>\n",
    "<td> (a &lt;= b) is True. </td>\n",
    "</tr>\n",
    "</table>\n",
    "\n",
    "To test these operators, you can try the following code or write your own code:"
   ]
  },
  {
   "cell_type": "code",
   "execution_count": null,
   "metadata": {},
   "outputs": [],
   "source": [
    "print(3 > 12)     \n",
    "print(3 >= 12)\n",
    "print(3 == 12)\n",
    "print(3 != 12)"
   ]
  },
  {
   "cell_type": "markdown",
   "metadata": {},
   "source": [
    "### String Comparison\n",
    "\n",
    "Besides numbers, oftentimes we also need to compare two strings to see whether they are the same. For example, a program may ask the user to use \"Yes\" and \"No\" to answer a question, and after receiving the user's input, the program will need to check whether the input is \"Yes\" or \"No\". \n",
    "\n",
    "We can use `==` and `!=` to compare two strings. See the following code for an example:"
   ]
  },
  {
   "cell_type": "code",
   "execution_count": null,
   "metadata": {},
   "outputs": [],
   "source": [
    "answer = input(\"Do you want to play a game? (Please answer Yes or No.) \")\n",
    "print(answer == \"Yes\")"
   ]
  },
  {
   "cell_type": "markdown",
   "metadata": {},
   "source": [
    "## III. if Statement\n",
    "\n",
    "We are now ready to learn conditional statements using `if`. The standard `if` statement follows the syntax below:\n",
    "\n",
    "<br/>\n",
    "<font face=\"courier new\">if expression:</font>\n",
    "<br/>\n",
    "<font face=\"courier new\">&nbsp;&nbsp;&nbsp;&nbsp;action</font>\n",
    "<br/>\n",
    "\n",
    "Here <b>expression</b> is a Python expression that has a Boolean value, and <b>action</b> is one or multiple lines of code that performs some action.\n",
    "\n",
    "An `if`-statement can be explained using the following flow chart:"
   ]
  },
  {
   "cell_type": "markdown",
   "metadata": {},
   "source": [
    "<img align=\"center\" src='https://drive.google.com/uc?export=view&id=0B08uY8vosNfobzJaUG5OcndJM00' style=\"width: 180px; height: 250px;\">"
   ]
  },
  {
   "cell_type": "markdown",
   "metadata": {},
   "source": [
    "<ul>\n",
    "<li>The Expression must be a <b>Boolean expression</b> (meaning that it returns a Boolean value).</li>\n",
    "    <li>If the Expression is <code>True</code>, then the Action is executed. Otherwise the Action is skipped.\n",
    "Afterwards, the execution continues at the next statement.</li>\n",
    "    <li>The Action is either a single statement or a sequence of statements.</li>\n",
    "    <li>The Action statement(s) need to be <b>indented</b> by the same number of spaces. Usually 4 spaces are used.</li>\n",
    "</ul>\n",
    "\n",
    "Let's look at an example. Without running the code, can you guess what the output will be? Now run the code and check whether the output is what you have expected."
   ]
  },
  {
   "cell_type": "code",
   "execution_count": null,
   "metadata": {},
   "outputs": [],
   "source": [
    "score = 12\n",
    "\n",
    "if score >= 10:\n",
    "    print('You win!')\n",
    "print('Play again?')"
   ]
  },
  {
   "cell_type": "markdown",
   "metadata": {},
   "source": [
    "Now modify the code above so that the variable `score` is assigned a value of `8`. Run the code again to see output. "
   ]
  },
  {
   "cell_type": "markdown",
   "metadata": {},
   "source": [
    "Note that it is very important to remember to indent <b>all</b> the code inside the `if`-statement. Take a look at the following two if-statements. Can you tell their difference? Run the code to observe the difference of the output."
   ]
  },
  {
   "cell_type": "code",
   "execution_count": null,
   "metadata": {},
   "outputs": [],
   "source": [
    "score = 5\n",
    "\n",
    "if score >= 10:\n",
    "    print('You')\n",
    "    print('Win!')\n",
    "    \n",
    "print('Play again?')"
   ]
  },
  {
   "cell_type": "code",
   "execution_count": null,
   "metadata": {},
   "outputs": [],
   "source": [
    "score = 5\n",
    "\n",
    "if score >=10:\n",
    "    print('You')\n",
    "print('Win!')\n",
    "\n",
    "print('Play again?')"
   ]
  },
  {
   "cell_type": "markdown",
   "metadata": {},
   "source": [
    "## IV. if-else Statement\n",
    "\n",
    "Sometimes we need to perform Action 1 when a condition is satisfied and perform Action 2 when the condition is not satisfied. In this case, we can use an `if`-`else` statement.\n",
    "\n",
    "The syntax of an `if`-`else` statement is as follows:\n",
    "\n",
    "<br/>\n",
    "<font face=\"courier new\">if expression:</font>\n",
    "<br/>\n",
    "<font face=\"courier new\">&nbsp;&nbsp;&nbsp;&nbsp;action 1</font>\n",
    "<br/>\n",
    "<font face=\"courier new\">else:</font>\n",
    "<br/>\n",
    "<font face=\"courier new\">&nbsp;&nbsp;&nbsp;&nbsp;action 2</font>\n",
    "<br/>\n",
    "\n",
    "An if-else statement can be explained by the following flow chart:"
   ]
  },
  {
   "cell_type": "markdown",
   "metadata": {},
   "source": [
    "<img align=\"left\" src='https://drive.google.com/uc?export=view&id=0B08uY8vosNfoMklvc1libnJZazA' style=\"width: 260px; height: 260px;\">"
   ]
  },
  {
   "cell_type": "markdown",
   "metadata": {},
   "source": [
    "<ul>\n",
    "<li>If Expression is `True`, then <b>Action 1</b> is executed, and afterwards, the execution continues at the next statement.</li>\n",
    "<li>If Expression is `False`, then <b>Action 2</b> is executed, and afterwards, the execution continues at the next statement.</li>\n",
    "<li>For both Action 1 and Action 2, it can be a single statement or a sequence of statements, and it must be <b>indented</b> by a fixed number of spaces.</li>\n",
    "</ul>\n",
    "\n",
    "Let's look at the following function, which uses an `if`-`else` statement to decide its return value."
   ]
  },
  {
   "cell_type": "code",
   "execution_count": null,
   "metadata": {},
   "outputs": [],
   "source": [
    "def is_even(number):\n",
    "    remainder = number % 2\n",
    "    if remainder == 0:\n",
    "        return True\n",
    "    else:\n",
    "        return False"
   ]
  },
  {
   "cell_type": "markdown",
   "metadata": {},
   "source": [
    "We can see that the function returns either `True` or `False`, depending on whether the remainder of dividing the parameter `number` by `2` is `0` or not.\n",
    "\n",
    "What do you think `is_even(4)` returns? <br />How about `is_even(9)`? <br />Run the following code to check your answers:"
   ]
  },
  {
   "cell_type": "code",
   "execution_count": null,
   "metadata": {},
   "outputs": [],
   "source": [
    "print(is_even(4))\n",
    "print(is_even(9))"
   ]
  },
  {
   "cell_type": "markdown",
   "metadata": {},
   "source": [
    "## V. if-elif Statements\n",
    "\n",
    "Previously we have learned if-else statements, which checks a condition and performs one of two actions based on that condition.\n",
    "\n",
    "Sometimes we may have more than two possible actions to choose from. For example, when we map a score between 0 and 100 to a letter grade (A, B, C or D), we have four options to choose from. In such scenarios, we can use `if`-`elif` statements.\n",
    "\n",
    "The syntax of `if`-`elif` statements is as follows:\n",
    "\n",
    "<br/>\n",
    "<font face=\"courier new\">if expression_1:</font>\n",
    "<br/>\n",
    "<font face=\"courier new\">&nbsp;&nbsp;&nbsp;&nbsp;action_1</font>\n",
    "<br/>\n",
    "<font face=\"courier new\">elif expression_2:</font>\n",
    "<br/>\n",
    "<font face=\"courier new\">&nbsp;&nbsp;&nbsp;&nbsp;action_2</font>\n",
    "<br/>\n",
    "<font face=\"courier new\">elif expression_3:</font>\n",
    "<br/>\n",
    "<font face=\"courier new\">&nbsp;&nbsp;&nbsp;&nbsp;action_3</font>\n",
    "<br/>\n",
    "<font face=\"courier new\">...</font>\n",
    "<font face=\"courier new\">else:</font>\n",
    "<br/>\n",
    "<font face=\"courier new\">&nbsp;&nbsp;&nbsp;&nbsp;default_action</font>\n",
    "<br/>\n",
    "\n",
    "The following flow chart explains how if-elif statements work:"
   ]
  },
  {
   "cell_type": "markdown",
   "metadata": {},
   "source": [
    "<img align=\"left\" src='https://drive.google.com/uc?export=view&id=0B08uY8vosNfobHMyTUNkU3Mwb2s' style=\"width: 370px; height: 330px;\">"
   ]
  },
  {
   "cell_type": "markdown",
   "metadata": {},
   "source": [
    "<ul>\n",
    "<li>The expression Exp 1 is first evaluated.</li>\n",
    "    <li>If Exp 1 is <code>True</code>, then Action 1 is executed. Afterwards, the execution continues to Next Action. Note that the Boolean expressions Expr 2 and Exp 3 are not evaluated in this case.</li>\n",
    "    <li>If Exp 1 is <code>False</code>, then Exp 2 is evaluated.\n",
    "    <ul>\n",
    "    <li>If Exp 2 is <code>True</code>, then Action 2 is exectued. Afterwards, the execution continues to Next Action. Note that Exp 3 is then not evaluated.</li>\n",
    "    <li>If Exp 2 is <code>False</code>, then Exp 3 is evaluated.\n",
    "        <ul>\n",
    "        <li>If Exp 3 is <code>True</code>, then Action 3 is executed. Afterwards, the execution continues to Next Action.</li>\n",
    "        <li>If Exp 3 is <code>False</code>, then Action 4 is executed. After words, the execution continues to Next Action.</li>\n",
    "        </ul>\n",
    "    </li>\n",
    "    </ul>\n",
    "</li>\n",
    "<li>Again, all the actions may contain a single statement or multiple statements. It is very import to note the code needs to be correctly indented with different levels of indentation.</li>\n",
    "</ul>\n",
    "\n",
    "The following code is a function that uses <code>if</code>-<code>elif</code> statement:"
   ]
  },
  {
   "cell_type": "code",
   "execution_count": null,
   "metadata": {},
   "outputs": [],
   "source": [
    "def find_grade(score):\n",
    "    if score >= 90:\n",
    "        return 'A'\n",
    "    elif score >= 80:\n",
    "        return 'B'\n",
    "    elif score >= 70:\n",
    "        return 'C'\n",
    "    else:\n",
    "        return 'D'"
   ]
  },
  {
   "cell_type": "markdown",
   "metadata": {},
   "source": [
    "Based on the code above, what do you think is the value of `find_grade(85)`? What about `find_grade(63)`? Run the code below to verify it."
   ]
  },
  {
   "cell_type": "code",
   "execution_count": null,
   "metadata": {},
   "outputs": [],
   "source": [
    "print(find_grade(85))\n",
    "print(find_grade(63))"
   ]
  },
  {
   "cell_type": "markdown",
   "metadata": {},
   "source": [
    "<img align=\"left\" src='https://drive.google.com/uc?export=view&id=0B08uY8vosNfobDBuOXVXQWVxMFE' style=\"width: 60px; height: 60px;\"><br />Let's do an exercise !"
   ]
  },
  {
   "cell_type": "markdown",
   "metadata": {},
   "source": [
    "Prompt the user for a number. (Assume the user is going to enter an integer.) \n",
    "\n",
    "Use the random module to generate a random number between 1 (inclusive) and 10 (exclusive).\n",
    "\n",
    "If the user's input number is greater than the random number generated, display `\"You win!\"`. If the input number is smaller than the random number generated, display `\"You lose!\"`. If the two numbers are the same, display `\"It's a draw!\"`. "
   ]
  },
  {
   "cell_type": "code",
   "execution_count": 10,
   "metadata": {},
   "outputs": [
    {
     "name": "stdout",
     "output_type": "stream",
     "text": [
      "Enter a random number between 1 (inclusive) and 10 (exclusive): 5\n",
      "\n",
      "AI picked: 3\n",
      "You win!\n"
     ]
    }
   ],
   "source": [
    "import random\n",
    "\n",
    "num = int(input(\"Enter a random number between 1 (inclusive) and 10 (exclusive): \"))\n",
    "print()\n",
    "ran_num = random.randint(1,10)\n",
    "print(\"AI picked:\", ran_num)\n",
    "\n",
    "if num < ran_num:\n",
    "    print(\"You lose!\")\n",
    "elif num > ran_num:\n",
    "    print(\"You win!\")\n",
    "else:\n",
    "    print(\"It's a draw!\")"
   ]
  },
  {
   "cell_type": "code",
   "execution_count": null,
   "metadata": {},
   "outputs": [],
   "source": []
  },
  {
   "cell_type": "code",
   "execution_count": null,
   "metadata": {},
   "outputs": [],
   "source": []
  }
 ],
 "metadata": {
  "kernelspec": {
   "display_name": "Python 3 (ipykernel)",
   "language": "python",
   "name": "python3"
  },
  "language_info": {
   "codemirror_mode": {
    "name": "ipython",
    "version": 3
   },
   "file_extension": ".py",
   "mimetype": "text/x-python",
   "name": "python",
   "nbconvert_exporter": "python",
   "pygments_lexer": "ipython3",
   "version": "3.9.12"
  }
 },
 "nbformat": 4,
 "nbformat_minor": 2
}
