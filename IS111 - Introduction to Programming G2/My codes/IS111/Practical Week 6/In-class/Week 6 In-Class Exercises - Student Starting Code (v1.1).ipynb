{
 "cells": [
  {
   "cell_type": "markdown",
   "metadata": {},
   "source": [
    "<table class=\"table table-bordered\">\n",
    "    <tr>\n",
    "        <th style=\"text-align:center; width:35%\"><img src='https://drive.google.com/uc?export=view&id=1zIB3Nw_z8N2SJSSdd2yWQIsDS0MGPYKm' style=\"width: 300px; height: 90px; \"></th>\n",
    "        <th style=\"text-align:center;\"><h3>IS111 - In-Class Exercises</h3><h3>Week 6</h3></th>\n",
    "    </tr>\n",
    "</table>"
   ]
  },
  {
   "cell_type": "markdown",
   "metadata": {},
   "source": [
    "## Q1: Combine Content in Brackets\n",
    "\n",
    "### Part (a)"
   ]
  },
  {
   "cell_type": "code",
   "execution_count": 8,
   "metadata": {},
   "outputs": [],
   "source": [
    "# Write your code below\n",
    "def combine_content_in_brackets(str_list):\n",
    "    full_string = \"\"\n",
    "    for string in str_list:\n",
    "        full_string += string[string.find(\"(\") + 1 : string.find(\")\")]\n",
    "    return full_string"
   ]
  },
  {
   "cell_type": "code",
   "execution_count": 12,
   "metadata": {},
   "outputs": [
    {
     "name": "stdout",
     "output_type": "stream",
     "text": [
      "Test Case 1\n",
      "===========\n",
      "Expected: abc$#%-\n",
      "Actual  : abc$#%-\n",
      "\n",
      "Test Case 2\n",
      "===========\n",
      "Expected: A**\n",
      "Actual  : A**\n",
      "\n",
      "Test Case 3\n",
      "===========\n",
      "Expected: 1\n",
      "Actual  : 1\n",
      "\n",
      "Test Case 3\n",
      "===========\n",
      "Expected: \n",
      "Actual  : \n"
     ]
    }
   ],
   "source": [
    "print('Test Case 1')\n",
    "result = combine_content_in_brackets(['12(abc)34', '&($#%)xy', '(-)'])\n",
    "print('===========')\n",
    "print('Expected: abc$#%-')\n",
    "print('Actual  :', result)\n",
    "\n",
    "print('\\nTest Case 2')\n",
    "result = combine_content_in_brackets(['(A)[B]', '{#}(**)'])\n",
    "print('===========')\n",
    "print('Expected: A**')\n",
    "print('Actual  :', result)\n",
    "\n",
    "print('\\nTest Case 3')\n",
    "result = combine_content_in_brackets(['<<()>>', ' (1) '])\n",
    "print('===========')\n",
    "print('Expected: 1')\n",
    "print('Actual  :', result)\n",
    "\n",
    "print('\\nTest Case 3')\n",
    "result = combine_content_in_brackets([])\n",
    "print('===========')\n",
    "print('Expected: ')\n",
    "print('Actual  :', result)"
   ]
  },
  {
   "cell_type": "markdown",
   "metadata": {},
   "source": [
    "### Part (b)"
   ]
  },
  {
   "cell_type": "code",
   "execution_count": 15,
   "metadata": {},
   "outputs": [],
   "source": [
    "# Write your code below\n",
    "def add_numbers_in_brackets(str_list):\n",
    "    sum = 0\n",
    "    for string in str_list:\n",
    "        sum += int(string[string.find(\"(\") + 1 : string.find(\")\")])\n",
    "    return sum"
   ]
  },
  {
   "cell_type": "code",
   "execution_count": 19,
   "metadata": {},
   "outputs": [
    {
     "name": "stdout",
     "output_type": "stream",
     "text": [
      "Test Case 1\n",
      "===========\n",
      "Expected: 46\n",
      "Actual  : 46\n",
      "\n",
      "Test Case 2\n",
      "===========\n",
      "Expected: 11\n",
      "Actual  : 11\n",
      "\n",
      "Test Case 3\n",
      "===========\n",
      "Expected: 0\n",
      "Actual  : 0\n"
     ]
    }
   ],
   "source": [
    "print('Test Case 1')\n",
    "result = add_numbers_in_brackets(['1(15)3', '&(22)xy', '(9)'])\n",
    "print('===========')\n",
    "print('Expected: 46')\n",
    "print('Actual  :', result)\n",
    "\n",
    "\n",
    "print('\\nTest Case 2')\n",
    "result = add_numbers_in_brackets(['(8)[10]', '{#}(3)']) \n",
    "print('===========')\n",
    "print('Expected: 11')\n",
    "print('Actual  :', result)\n",
    "\n",
    "\n",
    "print('\\nTest Case 3')\n",
    "result = add_numbers_in_brackets([]) \n",
    "print('===========')\n",
    "print('Expected: 0')\n",
    "print('Actual  :', result)"
   ]
  },
  {
   "cell_type": "markdown",
   "metadata": {},
   "source": [
    "## Q2: List of Numbers"
   ]
  },
  {
   "cell_type": "markdown",
   "metadata": {},
   "source": [
    "### Part (a) [&bigstar;&bigstar;]"
   ]
  },
  {
   "cell_type": "code",
   "execution_count": 39,
   "metadata": {},
   "outputs": [],
   "source": [
    "# Write your code below\n",
    "def get_larger_values(float_list):\n",
    "    avg = 0\n",
    "    for num in float_list:\n",
    "        avg += num\n",
    "    avg = avg / len(float_list)\n",
    "\n",
    "    num_list = []\n",
    "    for num in float_list:\n",
    "        if num > avg:\n",
    "            num_list.append(num)\n",
    "    return num_list\n"
   ]
  },
  {
   "cell_type": "code",
   "execution_count": 43,
   "metadata": {},
   "outputs": [
    {
     "name": "stdout",
     "output_type": "stream",
     "text": [
      "Test Case 1\n",
      "===========\n",
      "Expected: [3.5, 5.5]\n",
      "Actual:   [3.5, 5.5]\n",
      "\n",
      "Test Case 2\n",
      "===========\n",
      "Expected: [3.5]\n",
      "Actual:   [3.5]\n"
     ]
    }
   ],
   "source": [
    "print('Test Case 1')\n",
    "print('===========')\n",
    "print('Expected: [3.5, 5.5]')\n",
    "num_list = [2.5,3.5,5.5,1.0]\n",
    "result = get_larger_values(num_list)\n",
    "print('Actual:   ' + str(result))\n",
    "\n",
    "print('\\nTest Case 2')\n",
    "print('===========')\n",
    "print('Expected: [3.5]')\n",
    "num_list = [2.5,3.5,3]\n",
    "result = get_larger_values(num_list)\n",
    "print('Actual:   ' + str(result))\n"
   ]
  },
  {
   "cell_type": "markdown",
   "metadata": {},
   "source": [
    "### Part (b) [&bigstar;&bigstar;]"
   ]
  },
  {
   "cell_type": "code",
   "execution_count": 72,
   "metadata": {},
   "outputs": [],
   "source": [
    "# Write your code below\n",
    "def merge_list(num_list1, num_list2):\n",
    "    back_of_list = []\n",
    "    if len(num_list1) > len(num_list2):\n",
    "        smaller_interation = len(num_list2)\n",
    "        for i in range(len(num_list2), len(num_list1)):\n",
    "            back_of_list.append(num_list1[i])\n",
    "    else:\n",
    "        smaller_interation = len(num_list1)\n",
    "        for i in range(len(num_list1), len(num_list2)):\n",
    "            back_of_list.append(num_list2[i])\n",
    "    \n",
    "    num_list = []\n",
    "    for i in range(smaller_interation):\n",
    "        num_list.append(num_list1[i])\n",
    "        num_list.append(num_list2[i])\n",
    "\n",
    "    num_list += back_of_list\n",
    "    return num_list\n"
   ]
  },
  {
   "cell_type": "code",
   "execution_count": 76,
   "metadata": {},
   "outputs": [
    {
     "name": "stdout",
     "output_type": "stream",
     "text": [
      "Test Case 1\n",
      "===========\n",
      "Expected output: [1, 9, 3, 5, 10, 2, 15, 4, 7, 12]\n",
      "Actual output  : [1, 9, 3, 5, 10, 2, 15, 4, 7, 12]\n",
      "\n",
      "Test Case 2\n",
      "===========\n",
      "Expected output: [1, 9, 3, 5, 10, 2, 10, 20, 30]\n",
      "Actual output  : [1, 9, 3, 5, 10, 2, 10, 20, 30]\n",
      "\n",
      "Test Case 3\n",
      "===========\n",
      "Expected output: [1, 10, 2, 20, 3, 30]\n",
      "Actual output  : [1, 10, 2, 20, 3, 30]\n"
     ]
    }
   ],
   "source": [
    "print('Test Case 1')\n",
    "print('===========')\n",
    "print('Expected output: [1, 9, 3, 5, 10, 2, 15, 4, 7, 12]')\n",
    "print('Actual output  : ' + str(merge_list([1, 3, 10, 15, 4, 7, 12], [9, 5, 2])))\n",
    "\n",
    "print('\\nTest Case 2')\n",
    "print('===========')\n",
    "print('Expected output: [1, 9, 3, 5, 10, 2, 10, 20, 30]')\n",
    "print('Actual output  : ' + str(merge_list([1, 3, 10], [9, 5, 2, 10, 20, 30])))\n",
    "\n",
    "print('\\nTest Case 3')\n",
    "print('===========')\n",
    "print('Expected output: [1, 10, 2, 20, 3, 30]')\n",
    "print('Actual output  : ' + str(merge_list([1, 2, 3], [10, 20, 30])))\n",
    "\n"
   ]
  },
  {
   "cell_type": "markdown",
   "metadata": {},
   "source": [
    "### Part (c) [&bigstar;&bigstar;]"
   ]
  },
  {
   "cell_type": "code",
   "execution_count": 79,
   "metadata": {},
   "outputs": [],
   "source": [
    "# Write your code below\n",
    "def get_divisible_pairs(int_list_1, int_list_2):\n",
    "    if int_list_1 and int_list_2:\n",
    "        tuple_list = []\n",
    "        for num in int_list_1:\n",
    "            for div in int_list_2:\n",
    "                if num % div == 0:\n",
    "                    tuple_list.append((num, div))\n",
    "        return tuple_list\n",
    "    return None\n"
   ]
  },
  {
   "cell_type": "code",
   "execution_count": 81,
   "metadata": {},
   "outputs": [
    {
     "name": "stdout",
     "output_type": "stream",
     "text": [
      "Test Case 1\n",
      "===========\n",
      "Expected output: [(9, 3), (15, 3), (15, 5), (12, 2), (12, 3)]\n",
      "Actual output  : [(9, 3), (15, 3), (15, 5), (12, 2), (12, 3)]\n",
      "\n",
      "Test Case 2\n",
      "===========\n",
      "Expected output: [(10, 10), (100, 10), (100, 20), (100, 50)]\n",
      "Actual output  : [(10, 10), (100, 10), (100, 20), (100, 50)]\n"
     ]
    }
   ],
   "source": [
    "print('Test Case 1')\n",
    "print('===========')\n",
    "print('Expected output: [(9, 3), (15, 3), (15, 5), (12, 2), (12, 3)]')\n",
    "print('Actual output  : ' + str(get_divisible_pairs([9, 15, 12], [2, 3, 5])))\n",
    "\n",
    "print('\\nTest Case 2')\n",
    "print('===========')\n",
    "print('Expected output: [(10, 10), (100, 10), (100, 20), (100, 50)]')\n",
    "print('Actual output  : ' + str(get_divisible_pairs([10, 100], [10, 20, 40, 50])))\n"
   ]
  },
  {
   "cell_type": "code",
   "execution_count": null,
   "metadata": {},
   "outputs": [],
   "source": []
  }
 ],
 "metadata": {
  "kernelspec": {
   "display_name": "Python 3.9.12 ('base')",
   "language": "python",
   "name": "python3"
  },
  "language_info": {
   "codemirror_mode": {
    "name": "ipython",
    "version": 3
   },
   "file_extension": ".py",
   "mimetype": "text/x-python",
   "name": "python",
   "nbconvert_exporter": "python",
   "pygments_lexer": "ipython3",
   "version": "3.9.12"
  },
  "vscode": {
   "interpreter": {
    "hash": "2043299c89c8cd0b4d1a6f5cf4529bd58e6a4e0fe3181a25e0d328c821cdc5c5"
   }
  }
 },
 "nbformat": 4,
 "nbformat_minor": 2
}
