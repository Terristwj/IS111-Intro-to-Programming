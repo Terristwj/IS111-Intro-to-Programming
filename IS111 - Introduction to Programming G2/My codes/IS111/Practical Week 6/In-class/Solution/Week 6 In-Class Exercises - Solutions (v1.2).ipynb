{
 "cells": [
  {
   "cell_type": "markdown",
   "metadata": {},
   "source": [
    "<table class=\"table table-bordered\">\n",
    "    <tr>\n",
    "        <th style=\"text-align:center; width:35%\"><img src='https://drive.google.com/uc?export=view&id=1zIB3Nw_z8N2SJSSdd2yWQIsDS0MGPYKm' style=\"width: 300px; height: 90px; \"></th>\n",
    "        <th style=\"text-align:center;\"><h3>IS111 - In-Class Exercises Solutions</h3><h3>Week 6</h3></th>\n",
    "    </tr>\n",
    "</table>"
   ]
  },
  {
   "cell_type": "markdown",
   "metadata": {},
   "source": [
    "## Q1: Combine Content in Brackets\n",
    "\n",
    "### Part (a)"
   ]
  },
  {
   "cell_type": "code",
   "execution_count": null,
   "metadata": {},
   "outputs": [],
   "source": [
    "# Sol 1:\n",
    "\n",
    "def extract_content(my_str):\n",
    "    # This function takes in a string and returns the substring\n",
    "    # within () from the given string.\n",
    "    start_index = my_str.find('(') + 1\n",
    "    end_index = my_str.find(')')\n",
    "    content = my_str[start_index:end_index]    \n",
    "    return content\n",
    "\n",
    "def combine_content_in_brackets(str_list):\n",
    "    result = ''\n",
    "    for a_str in str_list:\n",
    "        content = extract_content(a_str)\n",
    "        result += content\n",
    "    return result"
   ]
  },
  {
   "cell_type": "code",
   "execution_count": null,
   "metadata": {},
   "outputs": [],
   "source": [
    "# Sol 2:\n",
    "\n",
    "def combine_content_in_brackets(str_list):\n",
    "    result = ''\n",
    "    for a_str in str_list:\n",
    "        start_index = a_str.find('(') + 1\n",
    "        end_index = a_str.find(')')\n",
    "        content = a_str[start_index:end_index]\n",
    "        result += content\n",
    "    return result"
   ]
  },
  {
   "cell_type": "code",
   "execution_count": null,
   "metadata": {},
   "outputs": [],
   "source": [
    "print('Test Case 1')\n",
    "result = combine_content_in_brackets(['12(abc)34', '&($#%)xy', '(-)'])\n",
    "print('===========')\n",
    "print('Expected: abc$#%-')\n",
    "print('Actual  :', result)\n",
    "\n",
    "print('\\nTest Case 2')\n",
    "result = combine_content_in_brackets(['(A)[B]', '{#}(**)'])\n",
    "print('===========')\n",
    "print('Expected: A**')\n",
    "print('Actual  :', result)\n",
    "\n",
    "print('\\nTest Case 3')\n",
    "result = combine_content_in_brackets(['<<()>>', ' (1) '])\n",
    "print('===========')\n",
    "print('Expected: 1')\n",
    "print('Actual  :', result)\n",
    "\n",
    "print('\\nTest Case 3')\n",
    "result = combine_content_in_brackets([])\n",
    "print('===========')\n",
    "print('Expected: ')\n",
    "print('Actual  :', result)"
   ]
  },
  {
   "cell_type": "markdown",
   "metadata": {},
   "source": [
    "### Part (b)"
   ]
  },
  {
   "cell_type": "code",
   "execution_count": null,
   "metadata": {},
   "outputs": [],
   "source": [
    "# Sol 1\n",
    "\n",
    "def extract_number(my_str):\n",
    "    # This function takes in a string and returns the integer found within\n",
    "    # () in the given string.\n",
    "    start_index = my_str.find('(') + 1\n",
    "    end_index = my_str.find(')')\n",
    "    number = int(my_str[start_index:end_index])\n",
    "    return number\n",
    "\n",
    "def add_numbers_in_brackets(str_list):\n",
    "    result = 0\n",
    "    for a_str in str_list:\n",
    "        number = extract_number(a_str)\n",
    "        result += number\n",
    "    return result"
   ]
  },
  {
   "cell_type": "code",
   "execution_count": null,
   "metadata": {},
   "outputs": [],
   "source": [
    "# Sol 2\n",
    "\n",
    "def add_numbers_in_brackets(str_list):\n",
    "    result = 0\n",
    "    for a_str in str_list:\n",
    "        start_index = a_str.find('(') + 1\n",
    "        end_index = a_str.find(')')\n",
    "        number = int(a_str[start_index:end_index])\n",
    "        result += number\n",
    "    return result"
   ]
  },
  {
   "cell_type": "code",
   "execution_count": null,
   "metadata": {},
   "outputs": [],
   "source": [
    "print('Test Case 1')\n",
    "result = add_numbers_in_brackets(['1(15)3', '&(22)xy', '(9)'])\n",
    "print('===========')\n",
    "print('Expected: 46')\n",
    "print('Actual  :', result)\n",
    "\n",
    "\n",
    "print('\\nTest Case 2')\n",
    "result = add_numbers_in_brackets(['(8)[10]', '{#}(3)']) \n",
    "print('===========')\n",
    "print('Expected: 11')\n",
    "print('Actual  :', result)\n",
    "\n",
    "\n",
    "print('\\nTest Case 3')\n",
    "result = add_numbers_in_brackets([]) \n",
    "print('===========')\n",
    "print('Expected: 0')\n",
    "print('Actual  :', result)"
   ]
  },
  {
   "cell_type": "markdown",
   "metadata": {},
   "source": [
    "## Q2: List of Numbers"
   ]
  },
  {
   "cell_type": "markdown",
   "metadata": {},
   "source": [
    "### Part (a) [&bigstar;&bigstar;]"
   ]
  },
  {
   "cell_type": "code",
   "execution_count": null,
   "metadata": {},
   "outputs": [],
   "source": [
    "# Solution\n",
    "def find_average(float_list):\n",
    "    float_sum = 0\n",
    "    for f in float_list:\n",
    "        float_sum += f \n",
    "    return float_sum / len(float_list)\n",
    "\n",
    "def get_larger_values(float_list):\n",
    "    \n",
    "    # find the average of the list\n",
    "    avg = find_average(float_list)\n",
    "    \n",
    "    # initialise the list to return\n",
    "    list_to_return = []\n",
    "    \n",
    "    # iterate through the list and compare each float number to the average.\n",
    "    # if larger than the average, append the number to the list to return.\n",
    "    for f in float_list:\n",
    "        if f > avg:\n",
    "            list_to_return.append(f)\n",
    "    \n",
    "    return list_to_return\n",
    "    "
   ]
  },
  {
   "cell_type": "code",
   "execution_count": null,
   "metadata": {},
   "outputs": [],
   "source": [
    "print('Test Case 1')\n",
    "print('===========')\n",
    "print('Expected: [3.5, 5.5]')\n",
    "num_list = [2.5,3.5,5.5,1.0]\n",
    "result = get_larger_values(num_list)\n",
    "print('Actual:   ' + str(result))\n",
    "\n",
    "print('\\nTest Case 2')\n",
    "print('===========')\n",
    "print('Expected: [3.5]')\n",
    "num_list = [2.5,3.5,3]\n",
    "result = get_larger_values(num_list)\n",
    "print('Actual:   ' + str(result))\n"
   ]
  },
  {
   "cell_type": "markdown",
   "metadata": {},
   "source": [
    "### Part (b) [&bigstar;&bigstar;]"
   ]
  },
  {
   "cell_type": "code",
   "execution_count": null,
   "metadata": {},
   "outputs": [],
   "source": [
    "# Solution 1\n",
    "def merge_list(list1, list2):\n",
    "    \n",
    "    # initialise a list to return\n",
    "    list_to_return = []\n",
    "    \n",
    "    # find out which list is longer and which list is shorter\n",
    "    longer_list = list1\n",
    "    shorter_list = list2\n",
    "    if len(list1) < len(list2):\n",
    "        longer_list = list2\n",
    "        shorter_list = list1\n",
    "        \n",
    "    # append the elements alternatively in both lists until we reach the length of the shorter list\n",
    "    for i in range(len(shorter_list)):\n",
    "        list_to_return.append(list1[i])\n",
    "        list_to_return.append(list2[i])\n",
    "        \n",
    "    # append the rest of the elements that remain in the longer list\n",
    "    for i in range(len(shorter_list), len(longer_list)):\n",
    "        list_to_return.append(longer_list[i])\n",
    "    \n",
    "    # Alternatively, we can do the following:\n",
    "    # list_to_return = list_to_return + longer_list[len(shorter_list):len(longer_list)]\n",
    "    \n",
    "    return list_to_return    \n"
   ]
  },
  {
   "cell_type": "code",
   "execution_count": null,
   "metadata": {},
   "outputs": [],
   "source": [
    "print('Test Case 1')\n",
    "print('===========')\n",
    "print('Expected output: [1, 9, 3, 5, 10, 2, 15, 4, 7, 12]')\n",
    "print('Actual output  : ' + str(merge_list([1, 3, 10, 15, 4, 7, 12], [9, 5, 2])))\n",
    "\n",
    "print('\\nTest Case 2')\n",
    "print('===========')\n",
    "print('Expected output: [1, 9, 3, 5, 10, 2, 10, 20, 30]')\n",
    "print('Actual output  : ' + str(merge_list([1, 3, 10], [9, 5, 2, 10, 20, 30])))\n",
    "\n",
    "print('\\nTest Case 3')\n",
    "print('===========')\n",
    "print('Expected output: [1, 10, 2, 20, 3, 30]')\n",
    "print('Actual output  : ' + str(merge_list([1, 2, 3], [10, 20, 30])))\n"
   ]
  },
  {
   "cell_type": "code",
   "execution_count": null,
   "metadata": {},
   "outputs": [],
   "source": [
    "# Solution 2\n",
    "def merge_list(list1, list2):\n",
    "    \n",
    "    # initialise a list to return\n",
    "    list_to_return = []\n",
    "    \n",
    "    # get the length of the longer list\n",
    "    longer_length = len(list1)\n",
    "    if len(list2) > longer_length:\n",
    "        longer_length = len(list2)\n",
    "        \n",
    "    # append the elements alternatively in both lists as long as the index is valid\n",
    "    for i in range(longer_length):\n",
    "        \n",
    "        if i < len(list1):\n",
    "            list_to_return.append(list1[i])\n",
    "        \n",
    "        if i < len(list2):\n",
    "            list_to_return.append(list2[i])\n",
    "        \n",
    "    return list_to_return    \n"
   ]
  },
  {
   "cell_type": "code",
   "execution_count": null,
   "metadata": {},
   "outputs": [],
   "source": [
    "print('Test Case 1')\n",
    "print('===========')\n",
    "print('Expected output: [1, 9, 3, 5, 10, 2, 15, 4, 7, 12]')\n",
    "print('Actual output  : ' + str(merge_list([1, 3, 10, 15, 4, 7, 12], [9, 5, 2])))\n",
    "\n",
    "print('\\nTest Case 2')\n",
    "print('===========')\n",
    "print('Expected output: [1, 9, 3, 5, 10, 2, 10, 20, 30]')\n",
    "print('Actual output  : ' + str(merge_list([1, 3, 10], [9, 5, 2, 10, 20, 30])))\n",
    "\n",
    "print('\\nTest Case 3')\n",
    "print('===========')\n",
    "print('Expected output: [1, 10, 2, 20, 3, 30]')\n",
    "print('Actual output  : ' + str(merge_list([1, 2, 3], [10, 20, 30])))\n"
   ]
  },
  {
   "cell_type": "markdown",
   "metadata": {},
   "source": [
    "### Part (c) [&bigstar;&bigstar;]"
   ]
  },
  {
   "cell_type": "code",
   "execution_count": null,
   "metadata": {},
   "outputs": [],
   "source": [
    "# Write your code below\n",
    "\n",
    "def get_divisible_pairs(int_list_1, int_list_2):\n",
    "    result_list = []\n",
    "    for n1 in int_list_1:\n",
    "        for n2 in int_list_2:\n",
    "            if n1 % n2 == 0:\n",
    "                result_list.append((n1, n2))\n",
    "    return result_list"
   ]
  },
  {
   "cell_type": "code",
   "execution_count": null,
   "metadata": {},
   "outputs": [],
   "source": [
    "print('Test Case 1')\n",
    "print('===========')\n",
    "print('Expected output: [(9, 3), (15, 3), (15, 5), (12, 2), (12, 3)]')\n",
    "print('Actual output  : ' + str(get_divisible_pairs([9, 15, 12], [2, 3, 5])))\n",
    "\n",
    "print('\\nTest Case 2')\n",
    "print('===========')\n",
    "print('Expected output: [(10, 10), (100, 10), (100, 20), (100, 50)]')\n",
    "print('Actual output  : ' + str(get_divisible_pairs([10, 100], [10, 20, 40, 50])))\n"
   ]
  },
  {
   "cell_type": "code",
   "execution_count": null,
   "metadata": {},
   "outputs": [],
   "source": []
  }
 ],
 "metadata": {
  "kernelspec": {
   "display_name": "Python 3 (ipykernel)",
   "language": "python",
   "name": "python3"
  },
  "language_info": {
   "codemirror_mode": {
    "name": "ipython",
    "version": 3
   },
   "file_extension": ".py",
   "mimetype": "text/x-python",
   "name": "python",
   "nbconvert_exporter": "python",
   "pygments_lexer": "ipython3",
   "version": "3.7.4"
  }
 },
 "nbformat": 4,
 "nbformat_minor": 2
}
