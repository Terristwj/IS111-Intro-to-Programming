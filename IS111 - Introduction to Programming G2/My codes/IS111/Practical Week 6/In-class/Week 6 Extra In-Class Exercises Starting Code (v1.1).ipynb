{
 "cells": [
  {
   "cell_type": "markdown",
   "metadata": {},
   "source": [
    "<table class=\"table table-bordered\">\n",
    "    <tr>\n",
    "        <th style=\"text-align:center; width:35%\"><img src='https://drive.google.com/uc?export=view&id=1zIB3Nw_z8N2SJSSdd2yWQIsDS0MGPYKm' style=\"width: 300px; height: 90px; \"></th>\n",
    "        <th style=\"text-align:center;\"><h3>IS111 - Extra In-Class Exercises Starting Code</h3><h3>Week 6</h3></th>\n",
    "    </tr>\n",
    "</table>"
   ]
  },
  {
   "cell_type": "markdown",
   "metadata": {},
   "source": [
    "### Q1: Books [&bigstar;&bigstar;]"
   ]
  },
  {
   "cell_type": "markdown",
   "metadata": {},
   "source": [
    "#### Part (a)"
   ]
  },
  {
   "cell_type": "code",
   "execution_count": 1,
   "metadata": {},
   "outputs": [],
   "source": [
    "# Write your code here\n",
    "def get_unique_titles(book_list):\n",
    "    book_titles = []\n",
    "    for book in book_list:\n",
    "        if not book[0] in book_titles:\n",
    "            book_titles.append(book[0])\n",
    "    return book_titles\n"
   ]
  },
  {
   "cell_type": "code",
   "execution_count": 2,
   "metadata": {},
   "outputs": [
    {
     "name": "stdout",
     "output_type": "stream",
     "text": [
      "Testcase 1\n",
      "==========\n",
      "Expected: ['Intro to Programming', 'Intro to Python']\n",
      "Actual:   ['Intro to Programming', 'Intro to Python']\n",
      "\n",
      "Testcase 2\n",
      "==========\n",
      "Expected: []\n",
      "Actual:   []\n"
     ]
    }
   ],
   "source": [
    "print('Testcase 1')\n",
    "print('=' * 10)\n",
    "print(\"Expected: ['Intro to Programming', 'Intro to Python']\")\n",
    "books_list = [(\"Intro to Programming\", \"Ed-2\", \"paperback\", 2), (\"Intro to Python\", \"Ed-1\", \"paperback\", 5), (\"Intro to Programming\", \"Ed-3\", \"hardcover\", 4)]\n",
    "print('Actual:   ' + str(get_unique_titles(books_list)))\n",
    "\n",
    "print('\\nTestcase 2')\n",
    "print('=' * 10)\n",
    "print(\"Expected: []\")\n",
    "books_list = []\n",
    "print('Actual:   ' + str(get_unique_titles(books_list)))"
   ]
  },
  {
   "cell_type": "markdown",
   "metadata": {},
   "source": [
    "#### Part (b)"
   ]
  },
  {
   "cell_type": "code",
   "execution_count": 21,
   "metadata": {},
   "outputs": [],
   "source": [
    "# Write your code here\n",
    "def get_titles_and_counts(book_list):\n",
    "    book_titles = []\n",
    "    for book in book_list:\n",
    "        if not book[0] in book_titles:\n",
    "            book_titles.append(book[0])\n",
    "    \n",
    "    book_count = []\n",
    "    for book_title in book_titles:\n",
    "        book_num = 0\n",
    "\n",
    "        for i in range(len(book_list)):\n",
    "            if book_list[i][0] == book_title:\n",
    "                book_num += book_list[i][3]\n",
    "\n",
    "        book_tuple = (book_title, book_num)\n",
    "        book_count.append(book_tuple)\n",
    "    return book_count\n"
   ]
  },
  {
   "cell_type": "code",
   "execution_count": 22,
   "metadata": {},
   "outputs": [
    {
     "name": "stdout",
     "output_type": "stream",
     "text": [
      "Testcase 1\n",
      "==========\n",
      "Expected: [('Intro to Programming', 6), ('Intro to Python', 8)]\n",
      "Actual:   [('Intro to Programming', 6), ('Intro to Python', 8)]\n",
      "\n",
      "Testcase 2\n",
      "==========\n",
      "Expected: []\n",
      "Actual:   []\n"
     ]
    }
   ],
   "source": [
    "print('Testcase 1')\n",
    "print('=' * 10)\n",
    "print(\"Expected: [('Intro to Programming', 6), ('Intro to Python', 8)]\")\n",
    "books_list = ([(\"Intro to Programming\", \"Ed-2\", \"paperback\", 2), (\"Intro to Python\", \"Ed-1\", \"paperback\", 5), (\"Intro to Programming\", \"Ed-3\", \"hardcover\", 4), (\"Intro to Python\", \"Ed-3\", \"hardcover\", 3)])\n",
    "print('Actual:   ' + str(get_titles_and_counts(books_list)))\n",
    "\n",
    "print('\\nTestcase 2')\n",
    "print('=' * 10)\n",
    "print(\"Expected: []\")\n",
    "books_list = []\n",
    "print('Actual:   ' + str(get_titles_and_counts(books_list)))"
   ]
  },
  {
   "cell_type": "code",
   "execution_count": null,
   "metadata": {},
   "outputs": [],
   "source": []
  }
 ],
 "metadata": {
  "kernelspec": {
   "display_name": "Python 3.9.12 ('base')",
   "language": "python",
   "name": "python3"
  },
  "language_info": {
   "codemirror_mode": {
    "name": "ipython",
    "version": 3
   },
   "file_extension": ".py",
   "mimetype": "text/x-python",
   "name": "python",
   "nbconvert_exporter": "python",
   "pygments_lexer": "ipython3",
   "version": "3.9.12"
  },
  "vscode": {
   "interpreter": {
    "hash": "2043299c89c8cd0b4d1a6f5cf4529bd58e6a4e0fe3181a25e0d328c821cdc5c5"
   }
  }
 },
 "nbformat": 4,
 "nbformat_minor": 2
}
