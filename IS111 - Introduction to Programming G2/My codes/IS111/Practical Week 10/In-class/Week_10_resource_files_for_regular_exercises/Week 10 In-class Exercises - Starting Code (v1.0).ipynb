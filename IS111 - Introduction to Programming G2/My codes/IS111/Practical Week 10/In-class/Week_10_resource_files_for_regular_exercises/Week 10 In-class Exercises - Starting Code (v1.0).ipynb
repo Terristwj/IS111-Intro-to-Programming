{
 "cells": [
  {
   "cell_type": "markdown",
   "metadata": {},
   "source": [
    "<table class=\"table table-bordered\">\n",
    "    <tr>\n",
    "        <th style=\"text-align:center; width:35%\"><img src='https://drive.google.com/uc?export=view&id=1zIB3Nw_z8N2SJSSdd2yWQIsDS0MGPYKm' style=\"width: 300px; height: 90px; \"></th>\n",
    "        <th style=\"text-align:center;\"><h3>IS111 - In-Class Exercises</h3><h3>Week 10</h3></th>\n",
    "    </tr>\n",
    "</table>"
   ]
  },
  {
   "cell_type": "markdown",
   "metadata": {},
   "source": [
    "### Q1: Numbers in Files [ &#9733; ]"
   ]
  },
  {
   "cell_type": "markdown",
   "metadata": {},
   "source": [
    "#### a)"
   ]
  },
  {
   "cell_type": "code",
   "execution_count": 15,
   "metadata": {},
   "outputs": [],
   "source": [
    "# Put your code below\n",
    "def sum_up(input_file_name):\n",
    "    with open(input_file_name, 'r') as f:\n",
    "        total_sum = 0\n",
    "        for line in f:\n",
    "            line = line.rstrip(\"\\n\")\n",
    "            total_sum += float(line)\n",
    "    return total_sum\n"
   ]
  },
  {
   "cell_type": "code",
   "execution_count": 16,
   "metadata": {},
   "outputs": [
    {
     "name": "stdout",
     "output_type": "stream",
     "text": [
      "Test case 1\n",
      "===========\n",
      "Expected:  55.4\n",
      "Actual:    55.4\n",
      "\n",
      "Test case 2\n",
      "===========\n",
      "Expected:  55.0\n",
      "Actual:    55.0\n"
     ]
    }
   ],
   "source": [
    "print('Test case 1')\n",
    "print('===========')\n",
    "your_sum = sum_up('q1-1.txt')\n",
    "print('Expected: ',55.4)\n",
    "print('Actual:   ',round(your_sum,1))\n",
    "\n",
    "print('\\nTest case 2')\n",
    "print('===========')\n",
    "your_sum = sum_up('q1-2.txt')\n",
    "print('Expected: ',55.0)\n",
    "print('Actual:   ',round(your_sum,1))\n"
   ]
  },
  {
   "cell_type": "markdown",
   "metadata": {},
   "source": [
    "#### b)"
   ]
  },
  {
   "cell_type": "code",
   "execution_count": 19,
   "metadata": {},
   "outputs": [],
   "source": [
    "# Put your code below\n",
    "def create_num_file(output_file_name, n):\n",
    "    with open(output_file_name, 'w') as f:\n",
    "        for i in range(0, n+1, 2):\n",
    "            f.write(str(i) + \"\\n\")"
   ]
  },
  {
   "cell_type": "code",
   "execution_count": 20,
   "metadata": {},
   "outputs": [
    {
     "name": "stdout",
     "output_type": "stream",
     "text": [
      "Test case 1\n",
      "===========\n",
      "File name: q1-output1.txt\n",
      "\n",
      "Test case 2\n",
      "===========\n",
      "File name: q1-output2.txt\n"
     ]
    }
   ],
   "source": [
    "print('Test case 1')\n",
    "print('===========')\n",
    "print('File name: q1-output1.txt')\n",
    "create_num_file('q1-output1.txt',10)\n",
    "# check that the file 'q1-output1.txt' contains the expected numbers\n",
    "\n",
    "print('\\nTest case 2')\n",
    "print('===========')\n",
    "print('File name: q1-output2.txt')\n",
    "create_num_file('q1-output2.txt',15)\n",
    "# check that the file 'q1-output2.txt' contains the expected numbers\n"
   ]
  },
  {
   "cell_type": "markdown",
   "metadata": {},
   "source": [
    "### Q2: Books [ &#9733;&#9733; ]"
   ]
  },
  {
   "cell_type": "markdown",
   "metadata": {},
   "source": [
    "#### Part (a)"
   ]
  },
  {
   "cell_type": "code",
   "execution_count": 12,
   "metadata": {},
   "outputs": [],
   "source": [
    "# Put your code below\n",
    "def get_books_cheaper_than(input_file, price_limit, output_file):\n",
    "    with open(input_file, 'r') as f1:\n",
    "        with open(output_file, 'w') as f2:\n",
    "            for line in f1:\n",
    "                line = line.rstrip(\"\\n\")\n",
    "                if line.split(\"\\t\")[2]:\n",
    "                    if float(line.split(\"\\t\")[2][1:]) < price_limit:\n",
    "                        f2.write(line + \"\\n\")"
   ]
  },
  {
   "cell_type": "code",
   "execution_count": 13,
   "metadata": {},
   "outputs": [
    {
     "name": "stdout",
     "output_type": "stream",
     "text": [
      "\n",
      "Testcase 1\n",
      "----------\n",
      "Expected: \n",
      "Turtles All the Way Down\tJohn Green\t$11.99\n",
      "Animal Farm and 1984\tGeorge Orwell\t$7.50\n",
      "Inception: A Dark Paranormal Romance (The Marked Book 1)\tBianca Scardoni\t$13.09\n",
      "\n",
      "Actual:   Open the file books-1-output.txt and verify it contains the expected books listed above.\n"
     ]
    }
   ],
   "source": [
    "# Test cases used to test your function\n",
    "\n",
    "print('\\nTestcase 1')\n",
    "print('-' * 10)\n",
    "print(\"Expected: \" + '\\nTurtles All the Way Down\\tJohn Green\\t$11.99\\n' + \n",
    "      'Animal Farm and 1984\\tGeorge Orwell\\t$7.50\\n' + \n",
    "      'Inception: A Dark Paranormal Romance (The Marked Book 1)\\tBianca Scardoni\\t$13.09\\n')\n",
    "input_file = 'books-1.txt'\n",
    "output_file = 'books-1-output.txt'\n",
    "price_limit = 15.0\n",
    "get_books_cheaper_than(input_file, price_limit, output_file)\n",
    "result = 'Open the file books-1-output.txt and verify it contains the expected books listed above.'\n",
    "print('Actual:   ' + str(result))\n"
   ]
  },
  {
   "cell_type": "code",
   "execution_count": 14,
   "metadata": {},
   "outputs": [
    {
     "name": "stdout",
     "output_type": "stream",
     "text": [
      "\n",
      "Testcase 2\n",
      "----------\n",
      "Expected: Empty file\n",
      "Actual:   Open the file books-2-output.txt and verify it is empty.\n"
     ]
    }
   ],
   "source": [
    "print('\\nTestcase 2')\n",
    "print('-' * 10)\n",
    "print(\"Expected: Empty file\")\n",
    "input_file = 'books-2.txt'\n",
    "output_file = 'books-2-output.txt'\n",
    "price_limit = 7.0\n",
    "get_books_cheaper_than(input_file, price_limit, output_file)\n",
    "result = 'Open the file books-2-output.txt and verify it is empty.'\n",
    "print('Actual:   ' + str(result))"
   ]
  },
  {
   "cell_type": "markdown",
   "metadata": {},
   "source": [
    "#### Part (b)"
   ]
  },
  {
   "cell_type": "code",
   "execution_count": 5,
   "metadata": {},
   "outputs": [],
   "source": [
    "# Put your code below\n",
    "def check_same_author(filename):\n",
    "    with open(filename, 'r') as f:\n",
    "        author = \"\"\n",
    "        for line in f:\n",
    "            line = line.rstrip(\"\\n\")\n",
    "            if not author:\n",
    "                author = line.split(\"\\t\")[1]\n",
    "            else:\n",
    "                if author != line.split(\"\\t\")[1]:\n",
    "                    return False\n",
    "    return True\n"
   ]
  },
  {
   "cell_type": "code",
   "execution_count": 6,
   "metadata": {},
   "outputs": [
    {
     "name": "stdout",
     "output_type": "stream",
     "text": [
      "\n",
      "Testcase 1\n",
      "----------\n",
      "Expected: False\n",
      "Actual:   False\n",
      "\n",
      "Testcase 2\n",
      "----------\n",
      "Expected: True\n",
      "Actual:   True\n",
      "\n",
      "Testcase 3\n",
      "----------\n",
      "Expected: False\n",
      "Actual:   False\n"
     ]
    }
   ],
   "source": [
    "# Test cases used to test your function\n",
    "\n",
    "print('\\nTestcase 1')\n",
    "print('-' * 10)\n",
    "print(\"Expected: False\")\n",
    "filename = 'books-1.txt'\n",
    "result = check_same_author(filename)\n",
    "print('Actual:   ' + str(result))\n",
    "\n",
    "print('\\nTestcase 2')\n",
    "print('-' * 10)\n",
    "print(\"Expected: True\")\n",
    "filename = 'books-2.txt'\n",
    "result = check_same_author(filename)\n",
    "print('Actual:   ' + str(result))\n",
    "\n",
    "print('\\nTestcase 3')\n",
    "print('-' * 10)\n",
    "print(\"Expected: False\")\n",
    "filename = 'books-3.txt'\n",
    "result = check_same_author(filename)\n",
    "print('Actual:   ' + str(result))\n"
   ]
  },
  {
   "cell_type": "markdown",
   "metadata": {},
   "source": [
    "### Q3: Phone Book"
   ]
  },
  {
   "cell_type": "markdown",
   "metadata": {},
   "source": [
    "#### Part a) [ &#9733;&#9733; ]"
   ]
  },
  {
   "cell_type": "code",
   "execution_count": 24,
   "metadata": {},
   "outputs": [
    {
     "name": "stdout",
     "output_type": "stream",
     "text": [
      "George Leung\t98987676\n",
      "Michelle Lee\t(+65)67894321\n",
      "Eric Wong\t+65 91234567\n",
      "Michelle Lee\t(+65)88776655\n"
     ]
    }
   ],
   "source": [
    "# Put your code below\n",
    "def print_number(line):\n",
    "    text = \"\"\n",
    "    for string in line.split(\"|\"):\n",
    "        text += string + \"\\t\"\n",
    "    print(text.strip(\"\\t\"))\n",
    "\n",
    "\n",
    "with open(\"phone_book.txt\", 'r') as f:\n",
    "    for line in f:\n",
    "        line = line.rstrip(\"\\n\")\n",
    "        number = line.split(\"|\")[1]\n",
    "        \n",
    "        if \"+\" in number:\n",
    "            if \"+65 \" in number or \"(+65)\" in number:\n",
    "                print_number(line)\n",
    "#             index1 = number.find(\"+\")\n",
    "#             if \")\" in number:\n",
    "#                 index2 = number.find(\")\")\n",
    "#             else:\n",
    "#                 index2 = number.find(\" \")\n",
    "            \n",
    "#             code = number[index1:index2]\n",
    "# #             print(code)\n",
    "            \n",
    "#             if code == \"+65\":\n",
    "#                 print_number(line)\n",
    "        else:\n",
    "            print_number(line)"
   ]
  },
  {
   "cell_type": "markdown",
   "metadata": {},
   "source": [
    "#### Part b) [ &#9733;&#9733;&#9733;]"
   ]
  },
  {
   "cell_type": "code",
   "execution_count": 16,
   "metadata": {},
   "outputs": [],
   "source": [
    "# Put your code below\n",
    "names = []\n",
    "with open(\"phone_book.txt\", 'r') as f1:\n",
    "    for line in f1:\n",
    "        line = line.rstrip(\"\\n\")\n",
    "        name = line.split(\"|\")[0]\n",
    "        if name not in names:\n",
    "            names.append(name)\n",
    "#     print(names)\n",
    "    \n",
    "with open(\"phone_book_reorganized.txt\", 'w') as f2:\n",
    "    for name in names:\n",
    "        f2.write(name+\"\\n\")\n",
    "#         print(name)\n",
    "\n",
    "        with open(\"phone_book.txt\", 'r') as f1:\n",
    "            for line in f1:\n",
    "                line = line.rstrip(\"\\n\")\n",
    "                ref_name = line.split(\"|\")[0]\n",
    "\n",
    "#                 print(name, ref_name)\n",
    "                if ref_name == name:\n",
    "    #                     print(line.split(\"|\")[1])\n",
    "                    f2.write(line.split(\"|\")[1]+\"\\n\")\n",
    "\n",
    "            f2.write(\"\\n\")\n",
    "        "
   ]
  },
  {
   "cell_type": "markdown",
   "metadata": {},
   "source": [
    "### Q4: News"
   ]
  },
  {
   "cell_type": "markdown",
   "metadata": {},
   "source": [
    "#### Part a) [ &#9733;&#9733; ]"
   ]
  },
  {
   "cell_type": "code",
   "execution_count": 19,
   "metadata": {},
   "outputs": [
    {
     "name": "stdout",
     "output_type": "stream",
     "text": [
      "Enter a keyword or a keyphrase:covid cases\n",
      "1. Record 2,478 new COVID cases in Singapore, 2 unvaccinated deaths\n",
      "2. Singapore's total COVID cases exceed 100,000 with 2,356 new infections, 4 more deaths\n",
      "3. Large number of COVID cases putting 'significant strain' on healthcare system: MOH\n"
     ]
    }
   ],
   "source": [
    "# Put your code below\n",
    "keyword = input(\"Enter a keyword or a keyphrase:\")\n",
    "keyword = keyword.lower()\n",
    "\n",
    "count = 1\n",
    "with open(\"news.txt\", 'r') as f:\n",
    "    for line in f:\n",
    "        line = line.rstrip(\"\\n\")\n",
    "        if keyword in line.lower():\n",
    "            print(str(count) + \". \" + line)\n",
    "            count += 1"
   ]
  },
  {
   "cell_type": "markdown",
   "metadata": {},
   "source": [
    "#### Part b) [ &#9733;&#9733;&#9733; ]"
   ]
  },
  {
   "cell_type": "code",
   "execution_count": 23,
   "metadata": {},
   "outputs": [
    {
     "name": "stdout",
     "output_type": "stream",
     "text": [
      "Do you want to search our news database? [Y|N] :Y\n",
      "Enter a keyword or a keyphrase:malaysia\n",
      "\n",
      "There is no matching headline!\n",
      "\n",
      "Do you want to search again? [Y|N] :Y\n",
      "Enter a keyword or a keyphrase:jail\n",
      "\n",
      "There are 1 matching headlines:\n",
      "1. NSF who left home twice while on MC jailed 18 weeks\n",
      "\n",
      "Do you want to search again? [Y|N] :Y\n",
      "Enter a keyword or a keyphrase:covid cases\n",
      "\n",
      "There are 3 matching headlines:\n",
      "1. Record 2,478 new COVID cases in Singapore, 2 unvaccinated deaths\n",
      "2. Singapore's total COVID cases exceed 100,000 with 2,356 new infections, 4 more deaths\n",
      "3. Large number of COVID cases putting 'significant strain' on healthcare system: MOH\n",
      "\n",
      "Do you want to search again? [Y|N] :N\n",
      "Good-bye!\n"
     ]
    }
   ],
   "source": [
    "# Put your code below\n",
    "search = input(\"Do you want to search our news database? [Y|N] :\")\n",
    "while search == \"Y\":\n",
    "    keyword = input(\"Enter a keyword or a keyphrase:\")\n",
    "    keyword = keyword.lower()\n",
    "    print()\n",
    "    \n",
    "    count = 1\n",
    "    \n",
    "    statements = []\n",
    "    with open(\"news.txt\", 'r') as f:\n",
    "        for line in f:\n",
    "            line = line.rstrip(\"\\n\")\n",
    "            if keyword in line.lower():\n",
    "                statements.append(str(count) + \". \" + line)\n",
    "                count += 1\n",
    "                \n",
    "    if count == 1:\n",
    "        print(\"There is no matching headline!\")\n",
    "    else:\n",
    "        print(\"There are \" + str(count-1) + \" matching headlines:\")\n",
    "        for statement in statements:\n",
    "            print(statement)\n",
    "    print()            \n",
    "    \n",
    "    search = input(\"Do you want to search again? [Y|N] :\")\n",
    "\n",
    "print(\"Good-bye!\")"
   ]
  },
  {
   "cell_type": "code",
   "execution_count": null,
   "metadata": {},
   "outputs": [],
   "source": []
  },
  {
   "cell_type": "code",
   "execution_count": null,
   "metadata": {},
   "outputs": [],
   "source": []
  }
 ],
 "metadata": {
  "kernelspec": {
   "display_name": "Python 3 (ipykernel)",
   "language": "python",
   "name": "python3"
  },
  "language_info": {
   "codemirror_mode": {
    "name": "ipython",
    "version": 3
   },
   "file_extension": ".py",
   "mimetype": "text/x-python",
   "name": "python",
   "nbconvert_exporter": "python",
   "pygments_lexer": "ipython3",
   "version": "3.9.12"
  }
 },
 "nbformat": 4,
 "nbformat_minor": 2
}
