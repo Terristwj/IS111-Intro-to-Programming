{
 "cells": [
  {
   "cell_type": "markdown",
   "metadata": {},
   "source": [
    "<table class=\"table table-bordered\">\n",
    "    <tr>\n",
    "        <th style=\"text-align:center; width:35%\"><img src='https://drive.google.com/uc?export=view&id=1zIB3Nw_z8N2SJSSdd2yWQIsDS0MGPYKm' style=\"width: 300px; height: 90px; \"></th>\n",
    "        <th style=\"text-align:center;\"><h3>IS111 - In-Class Exercises Solutions</h3><h3>Week 10</h3></th>\n",
    "    </tr>\n",
    "</table>"
   ]
  },
  {
   "cell_type": "markdown",
   "metadata": {},
   "source": [
    "### Q1: Numbers in Files [ &#9733; ]"
   ]
  },
  {
   "cell_type": "markdown",
   "metadata": {},
   "source": [
    "#### a)"
   ]
  },
  {
   "cell_type": "code",
   "execution_count": null,
   "metadata": {},
   "outputs": [],
   "source": [
    "# SOLUTION\n",
    "\n",
    "def sum_up(input_file_name):\n",
    "    my_sum = 0\n",
    "    with open(input_file_name, 'r') as my_file:\n",
    "        for line in my_file:\n",
    "            line = line.rstrip('\\n')\n",
    "            my_sum += float(line)\n",
    "            \n",
    "    return my_sum"
   ]
  },
  {
   "cell_type": "code",
   "execution_count": null,
   "metadata": {},
   "outputs": [],
   "source": [
    "print('Test case 1')\n",
    "print('===========')\n",
    "your_sum = sum_up('q1-1.txt')\n",
    "print('Expected: ', 55.4)\n",
    "print('Actual:   ', round(your_sum, 1))\n",
    "\n",
    "print('\\nTest case 2')\n",
    "print('===========')\n",
    "your_sum = sum_up('q1-2.txt')\n",
    "print('Expected: ', 55.0)\n",
    "print('Actual:   ', round(your_sum, 1))\n"
   ]
  },
  {
   "cell_type": "markdown",
   "metadata": {},
   "source": [
    "#### b)"
   ]
  },
  {
   "cell_type": "code",
   "execution_count": null,
   "metadata": {},
   "outputs": [],
   "source": [
    "# SOLUTION 1\n",
    "\n",
    "def create_num_file(output_file_name, n):\n",
    "    with open(output_file_name, 'w') as my_file:\n",
    "        for i in range(0, n+1, 2):\n",
    "            my_file.write(str(i) + '\\n')"
   ]
  },
  {
   "cell_type": "code",
   "execution_count": null,
   "metadata": {},
   "outputs": [],
   "source": [
    "# SOLUTION 2\n",
    "\n",
    "def create_num_file(output_file_name, n):\n",
    "    with open(output_file_name, 'w') as my_file:\n",
    "        for i in range(0, n+1):\n",
    "            if i%2 == 0:\n",
    "                my_file.write(str(i) + '\\n')"
   ]
  },
  {
   "cell_type": "code",
   "execution_count": null,
   "metadata": {},
   "outputs": [],
   "source": [
    "print('Test case 1')\n",
    "print('===========')\n",
    "print('File name: q1-output1.txt')\n",
    "create_num_file('q1-output1.txt',10)\n",
    "# check that the file 'q1-output1.txt' contains the expected numbers\n",
    "\n",
    "print('\\nTest case 2')\n",
    "print('===========')\n",
    "print('File name: q1-output2.txt')\n",
    "create_num_file('q1-output2.txt',15)\n",
    "# check that the file 'q1-output2.txt' contains the expected numbers\n"
   ]
  },
  {
   "cell_type": "markdown",
   "metadata": {},
   "source": [
    "\n",
    "### Q2: Books [ &#9733;&#9733; ]"
   ]
  },
  {
   "cell_type": "markdown",
   "metadata": {},
   "source": [
    "#### Part (a)"
   ]
  },
  {
   "cell_type": "code",
   "execution_count": null,
   "metadata": {},
   "outputs": [],
   "source": [
    "# SOLUTION 1 - store the relevant data from the file in a list for later processing\n",
    "\n",
    "def get_books_cheaper_than(input_file_name, price_limit, output_file_name):\n",
    "    result_list = []\n",
    "    \n",
    "    # read the input file\n",
    "    with open(input_file_name,'r') as in_file:\n",
    "        for line in in_file:\n",
    "            # remove the new line character\n",
    "            line = line.rstrip('\\n')\n",
    "            # split the line into multiple columns\n",
    "            columns = line.split('\\t')\n",
    "            # extract the price string\n",
    "            price_str = columns[2]\n",
    "            if price_str != '':\n",
    "                # remove the '$' if the price is given\n",
    "                price = float(price_str[1:])\n",
    "                # check if the book's price satisfies the condition\n",
    "                if price < price_limit:\n",
    "                    result_list.append(line)\n",
    "    \n",
    "    # write to the output file\n",
    "    with open(output_file_name, 'w') as out_file:\n",
    "        for line in result_list:\n",
    "            out_file.write(line + '\\n')\n"
   ]
  },
  {
   "cell_type": "code",
   "execution_count": null,
   "metadata": {},
   "outputs": [],
   "source": [
    "# Test cases used to test your function\n",
    "\n",
    "print('\\nTestcase 1')\n",
    "print('-' * 10)\n",
    "print(\"Expected: \" + '\\nTurtles All the Way Down\\tJohn Green\\t$11.99\\n' + \n",
    "      'Animal Farm and 1984\\tGeorge Orwell\\t$7.50\\n' + \n",
    "      'Inception: A Dark Paranormal Romance (The Marked Book 1)\\tBianca Scardoni\\t$13.09\\n')\n",
    "input_file = 'books-1.txt'\n",
    "output_file = 'books-1-output.txt'\n",
    "price_limit = 15.0\n",
    "get_books_cheaper_than(input_file, price_limit, output_file)\n",
    "result = 'Open the file books-1-output.txt and verify it contains the expected books listed above.'\n",
    "print('Actual:   ' + str(result))\n"
   ]
  },
  {
   "cell_type": "code",
   "execution_count": null,
   "metadata": {},
   "outputs": [],
   "source": [
    "print('\\nTestcase 2')\n",
    "print('-' * 10)\n",
    "print(\"Expected: Empty file\")\n",
    "input_file = 'books-2.txt'\n",
    "output_file = 'books-2-output.txt'\n",
    "price_limit = 7.0\n",
    "get_books_cheaper_than(input_file, price_limit, output_file)\n",
    "result = 'Open the file books-2-output.txt and verify it is empty.'\n",
    "print('Actual:   ' + str(result))"
   ]
  },
  {
   "cell_type": "code",
   "execution_count": null,
   "metadata": {},
   "outputs": [],
   "source": [
    "# SOLUTION 2 - write directly into the output file\n",
    "\n",
    "def get_books_cheaper_than(input_file_name, price_limit, output_file_name):\n",
    "    with open(output_file_name, 'w') as out_file:\n",
    "        with open(input_file_name,'r') as in_file:\n",
    "            for line in in_file:\n",
    "                line = line.rstrip('\\n')\n",
    "                columns = line.split('\\t')\n",
    "                price_str = columns[2]\n",
    "                if price_str != '':\n",
    "                    price = float(price_str[1:])\n",
    "                    if price < price_limit:\n",
    "                        out_file.write(line + '\\n')"
   ]
  },
  {
   "cell_type": "code",
   "execution_count": null,
   "metadata": {},
   "outputs": [],
   "source": [
    "# Test cases used to test your function\n",
    "\n",
    "print('\\nTestcase 1')\n",
    "print('-' * 10)\n",
    "print(\"Expected: \" + '\\nTurtles All the Way Down\\tJohn Green\\t$11.99\\n' + \n",
    "      'Animal Farm and 1984\\tGeorge Orwell\\t$7.50\\n' + \n",
    "      'Inception: A Dark Paranormal Romance (The Marked Book 1)\\tBianca Scardoni\\t$13.09\\n')\n",
    "input_file = 'books-1.txt'\n",
    "output_file = 'books-1-output.txt'\n",
    "price_limit = 15.0\n",
    "get_books_cheaper_than(input_file, price_limit, output_file)\n",
    "result = 'Open the file books-1-output.txt and verify it contains the expected books listed above.'\n",
    "print('Actual:   ' + str(result))\n"
   ]
  },
  {
   "cell_type": "code",
   "execution_count": null,
   "metadata": {},
   "outputs": [],
   "source": [
    "print('\\nTestcase 2')\n",
    "print('-' * 10)\n",
    "print(\"Expected: Empty file\")\n",
    "input_file = 'books-2.txt'\n",
    "output_file = 'books-2-output.txt'\n",
    "price_limit = 7.0\n",
    "get_books_cheaper_than(input_file, price_limit, output_file)\n",
    "result = 'Open the file books-2-output.txt and verify it is empty.'\n",
    "print('Actual:   ' + str(result))"
   ]
  },
  {
   "cell_type": "markdown",
   "metadata": {},
   "source": [
    "#### Part (b)"
   ]
  },
  {
   "cell_type": "code",
   "execution_count": null,
   "metadata": {},
   "outputs": [],
   "source": [
    "# SOLUTION 1 - use a list to store the unique authors\n",
    "\n",
    "def check_same_author(file_name):\n",
    "    unique_author_list = []\n",
    "    \n",
    "    # Read the file and extract all the authors\n",
    "    with open(file_name, 'r') as my_file:\n",
    "        for line in my_file:     \n",
    "            line = line.rstrip('\\n')\n",
    "            columns = line.split('\\t')\n",
    "            author = columns[1]\n",
    "            if author not in unique_author_list:\n",
    "                unique_author_list.append(author)\n",
    "    \n",
    "    # Check if there's only one unique author\n",
    "    if len(unique_author_list) == 1:\n",
    "        return True\n",
    "    else:\n",
    "        return False"
   ]
  },
  {
   "cell_type": "code",
   "execution_count": null,
   "metadata": {},
   "outputs": [],
   "source": [
    "# SOLUTION 2 - use a list to store all the authors\n",
    "\n",
    "def check_same_author(file_name):\n",
    "    author_list = []\n",
    "    \n",
    "    # Read the file and extract all the authors\n",
    "    with open(file_name, 'r') as my_file:\n",
    "        for line in my_file:     \n",
    "            line = line.rstrip('\\n')\n",
    "            columns = line.split('\\t')\n",
    "            author = columns[1]\n",
    "            author_list.append(author)\n",
    "    \n",
    "    # extract the author in first line\n",
    "    first_author = author_list[0]\n",
    "    \n",
    "    # checking author of the other lines\n",
    "    for cur_author in author_list:\n",
    "        if cur_author != first_author:\n",
    "            return False\n",
    "    return True"
   ]
  },
  {
   "cell_type": "code",
   "execution_count": null,
   "metadata": {},
   "outputs": [],
   "source": [
    "# Test cases used to test your function\n",
    "\n",
    "print('\\nTestcase 1')\n",
    "print('-' * 10)\n",
    "print(\"Expected: False\")\n",
    "filename = 'books-1.txt'\n",
    "result = check_same_author(filename)\n",
    "print('Actual:   ' + str(result))\n",
    "\n",
    "print('\\nTestcase 2')\n",
    "print('-' * 10)\n",
    "print(\"Expected: True\")\n",
    "filename = 'books-2.txt'\n",
    "result = check_same_author(filename)\n",
    "print('Actual:   ' + str(result))\n",
    "\n",
    "print('\\nTestcase 3')\n",
    "print('-' * 10)\n",
    "print(\"Expected: False\")\n",
    "filename = 'books-3.txt'\n",
    "result = check_same_author(filename)\n",
    "print('Actual:   ' + str(result))\n"
   ]
  },
  {
   "cell_type": "markdown",
   "metadata": {},
   "source": [
    "### Q3: Phone Book"
   ]
  },
  {
   "cell_type": "markdown",
   "metadata": {},
   "source": [
    "#### Part a) [ &#9733;&#9733; ]"
   ]
  },
  {
   "cell_type": "code",
   "execution_count": null,
   "metadata": {},
   "outputs": [],
   "source": [
    "# SOLUTION 1\n",
    "\n",
    "def is_singapore_number(number_str):\n",
    "    # We assume that number_str is always a valid phone number as described in the question.\n",
    "    if '+' not in number_str:\n",
    "        return True\n",
    "    if number_str[0:4] == '+65 ' or number_str[0:5] == '(+65)':\n",
    "        return True\n",
    "    return False\n",
    "\n",
    "with open('phone_book.txt','r') as my_file:\n",
    "    for line in my_file:\n",
    "        line = line.rstrip('\\n')\n",
    "        columns = line.split('|')\n",
    "        name = columns[0]\n",
    "        phone_no = columns[1]\n",
    "        if is_singapore_number(phone_no):\n",
    "            print(name + '\\t' + phone_no)\n",
    "            "
   ]
  },
  {
   "cell_type": "code",
   "execution_count": null,
   "metadata": {},
   "outputs": [],
   "source": [
    "# SOLUTION 2\n",
    "\n",
    "with open('phone_book.txt', 'r') as my_file:\n",
    "    for line in my_file:\n",
    "        line = line.rstrip('\\n')\n",
    "        columns = line.split('|')\n",
    "        # This solution exploits the fact that all numbers in the file are in the format specified \n",
    "        # in the problem description. So all Singapore numbers must either contain '+65' or has no '+'\n",
    "        # inside the string.\n",
    "        if '+' not in line or '+65 ' in line or '(+65)' in line:\n",
    "            print(columns[0] + '\\t' + columns[1])\n",
    "            "
   ]
  },
  {
   "cell_type": "markdown",
   "metadata": {},
   "source": [
    "#### Part b) [ &#9733;&#9733;&#9733;]"
   ]
  },
  {
   "cell_type": "code",
   "execution_count": null,
   "metadata": {},
   "outputs": [],
   "source": [
    "# SOLUTION 1\n",
    "\n",
    "unique_names = []\n",
    "\n",
    "with open('phone_book.txt', 'r') as in_file:\n",
    "    for line in in_file:\n",
    "        line = line.rstrip('\\n')\n",
    "        columns = line.split('|')\n",
    "        name = columns[0]\n",
    "        \n",
    "        # create a list of unique names\n",
    "        if name not in unique_names:\n",
    "            unique_names.append(name)\n",
    "\n",
    "# writing to the file\n",
    "with open('phone_book_reorganized.txt', 'w') as out_file:\n",
    "    for name in unique_names:\n",
    "        out_file.write(name + '\\n')\n",
    "        # find all the phone numbers of that person from the file\n",
    "        with open('phone_book.txt', 'r') as in_file:\n",
    "            for line in in_file:\n",
    "                line = line.rstrip('\\n')\n",
    "                columns = line.split('|')\n",
    "                a_name = columns[0]\n",
    "                a_number = columns[1]\n",
    "\n",
    "                if a_name == name:\n",
    "                    out_file.write(a_number + '\\n')\n",
    "        \n",
    "        # add a blank line\n",
    "        out_file.write('\\n')    \n",
    "        "
   ]
  },
  {
   "cell_type": "code",
   "execution_count": null,
   "metadata": {},
   "outputs": [],
   "source": [
    "# SOLUTION 2\n",
    "\n",
    "phone_book = []\n",
    "unique_names = []\n",
    "\n",
    "# read the file into a list of tuples [(name, number),...]\n",
    "with open('phone_book.txt', 'r') as in_file:\n",
    "    for line in in_file:\n",
    "        line = line.rstrip('\\n')\n",
    "        columns = line.split('|')\n",
    "        name = columns[0]\n",
    "        phone_number = columns[1]\n",
    "        \n",
    "        # populate the phone_book (a list of tuples)\n",
    "        phone_book.append( (name, phone_number) )\n",
    "        \n",
    "        # create a list of unique names\n",
    "        if name not in unique_names:\n",
    "            unique_names.append(name)\n",
    "\n",
    "# writing to the file\n",
    "with open('phone_book_reorganized.txt', 'w') as out_file:\n",
    "    for name in unique_names:\n",
    "        out_file.write(name + '\\n')\n",
    "        # find all the phone numbers of that person from the list\n",
    "        for tup in phone_book:\n",
    "            if tup[0] == name:\n",
    "                out_file.write(tup[1] + '\\n')\n",
    "        # add a blank line\n",
    "        out_file.write('\\n')    \n",
    "        "
   ]
  },
  {
   "cell_type": "markdown",
   "metadata": {},
   "source": [
    "### Q4: News"
   ]
  },
  {
   "cell_type": "markdown",
   "metadata": {},
   "source": [
    "#### Part a) [ &#9733;&#9733; ]"
   ]
  },
  {
   "cell_type": "code",
   "execution_count": null,
   "metadata": {
    "scrolled": true
   },
   "outputs": [],
   "source": [
    "# SOLUTION 1 - storing the matching headlines in a list\n",
    "\n",
    "keyphrase = input('Enter a keyphrase :')\n",
    "print()\n",
    "\n",
    "matching_headlines = []\n",
    "with open('news.txt','r') as my_file:\n",
    "    for line in my_file:\n",
    "        line = line.rstrip('\\n')\n",
    "        if keyphrase.lower() in line.lower():\n",
    "            matching_headlines.append(line)\n",
    "\n",
    "# printing result\n",
    "for i in range (len(matching_headlines)):\n",
    "    print(str(i+1) + '. ' + matching_headlines[i])\n",
    "    "
   ]
  },
  {
   "cell_type": "code",
   "execution_count": null,
   "metadata": {},
   "outputs": [],
   "source": [
    "# SOLUTION 2 - with no list but using an index to count the number of matching line\n",
    "\n",
    "keyphrase = input('Please enter a keyword or a keyphrase :')\n",
    "print()\n",
    "\n",
    "with open('news.txt', 'r') as my_file:\n",
    "    index = 0\n",
    "    for line in my_file:\n",
    "        line = line.rstrip('\\n')\n",
    "        if keyphrase.lower() in line.lower():\n",
    "            print(str(index+1) + '. ' + line)\n",
    "            index += 1\n",
    "            "
   ]
  },
  {
   "cell_type": "markdown",
   "metadata": {},
   "source": [
    "#### Part b) [ &#9733;&#9733;&#9733; ]"
   ]
  },
  {
   "cell_type": "code",
   "execution_count": null,
   "metadata": {},
   "outputs": [],
   "source": [
    "# SOLUTION - partial\n",
    "\n",
    "def retrieve_matching(header_list, keyphrase):\n",
    "    pass\n",
    "\n",
    "\n",
    "def display_matching_list(matching_list):\n",
    "    pass\n",
    "            \n",
    "    \n",
    "def read_file(filename):\n",
    "    pass\n",
    "\n",
    "\n",
    "# reading the file into a list of strings (list of lines)\n",
    "headline_list = read_file('news.txt')\n",
    "\n",
    "# keep prompting the user to search for news\n",
    "choice = input('Do you want to search our news database? [Y|N] :')\n",
    "\n",
    "while choice == 'Y':\n",
    "    keyphrase = input('Please enter a keyword or a keyphrase :')\n",
    "    matching_list = retrieve_matching(headline_list, keyphrase)\n",
    "    display_matching_list(matching_list)\n",
    "    \n",
    "    choice = input('\\nDo you want to search again? [Y|N] :')\n",
    "    \n",
    "print('Good-bye!')\n",
    "    "
   ]
  },
  {
   "cell_type": "code",
   "execution_count": null,
   "metadata": {},
   "outputs": [],
   "source": [
    "# SOLUTION - final\n",
    "\n",
    "def retrieve_matching(headline_list, keyphrase):\n",
    "    matching_list = []\n",
    "    for line in headline_list:\n",
    "        if keyphrase.lower() in line.lower():\n",
    "            matching_list.append(line)\n",
    "    return matching_list\n",
    "\n",
    "\n",
    "def display_matching_list(matching_list):\n",
    "    if len(matching_list) == 0:\n",
    "        print('\\nThere is no matching headline!')\n",
    "    else:\n",
    "        print('\\nThere are ' + str(len(matching_list)) + ' matching headlines:')\n",
    "        for index in range(len(matching_list)):\n",
    "            print(str(index+1) + '. ' + matching_list[index])\n",
    "            \n",
    "    \n",
    "def read_file(filename):\n",
    "    # reading the file into a list of lines (strings)\n",
    "    headline_list = []\n",
    "    with open(filename, 'r') as my_file:\n",
    "        for line in my_file:\n",
    "            line = line.rstrip('\\n')\n",
    "            headline_list.append(line)\n",
    "    return headline_list\n",
    "\n",
    "\n",
    "# continuously prompting the user to search for news\n",
    "choice = input('Do you want to search our news database? [Y|N] :')\n",
    "headline_list = read_file('news.txt')\n",
    "\n",
    "while choice == 'Y':\n",
    "    keyphrase = input('Please enter a keyword or a keyphrase :')\n",
    "    matching_list = retrieve_matching(headline_list, keyphrase)\n",
    "    display_matching_list(matching_list)\n",
    "    \n",
    "    choice = input('\\nDo you want to search again? [Y|N] :')\n",
    "    \n",
    "print('Good-bye!')\n",
    "    "
   ]
  },
  {
   "cell_type": "code",
   "execution_count": null,
   "metadata": {},
   "outputs": [],
   "source": []
  }
 ],
 "metadata": {
  "kernelspec": {
   "display_name": "Python 3 (ipykernel)",
   "language": "python",
   "name": "python3"
  },
  "language_info": {
   "codemirror_mode": {
    "name": "ipython",
    "version": 3
   },
   "file_extension": ".py",
   "mimetype": "text/x-python",
   "name": "python",
   "nbconvert_exporter": "python",
   "pygments_lexer": "ipython3",
   "version": "3.7.4"
  }
 },
 "nbformat": 4,
 "nbformat_minor": 2
}
