{
 "cells": [
  {
   "cell_type": "markdown",
   "metadata": {},
   "source": [
    "<table class=\"table table-bordered\">\n",
    "    <tr>\n",
    "        <th style=\"text-align:center; width:35%\"><img src='https://drive.google.com/uc?export=view&id=1zIB3Nw_z8N2SJSSdd2yWQIsDS0MGPYKm' style=\"width: 300px; height: 90px; \"></th>\n",
    "        <th style=\"text-align:center;\"><h3>IS111 - Notebook 10</h3><h2>File Handling</h2></th>\n",
    "    </tr>\n",
    "</table>"
   ]
  },
  {
   "cell_type": "markdown",
   "metadata": {},
   "source": [
    "## Learning Outcomes\n",
    "\n",
    "After going through this notebook, you should be able to \n",
    "\n",
    "- Use `with open(...) as ...` to <b>open a text file</b> either for <b>reading</b> or for <b>writing</b>. \n",
    "- <b>Read</b> the content from a text file line by line.\n",
    "- Use `rstrip('\\n')` to <b>get rid of the newline character</b> at the end of a line from a text file.\n",
    "- Use `split()` appropriately to <b>process a text file with multiple columns</b>.\n",
    "- <b>Write</b> to a text file line by line."
   ]
  },
  {
   "cell_type": "markdown",
   "metadata": {},
   "source": [
    "## I. Introduction\n",
    "\n",
    "While a program is running, its <b>data</b> is <b>stored</b> in <b>RAM</b> (Random Access Memory). RAM is fast and not expensive but it is <b>volatile</b>, which means that when the program ends or the computer shuts down, data stored in RAM <b>disappears</b>!\n",
    "\n",
    "To avoid that, you have to <b>store data in non-volatile storage</b> such as hard disks, USB drives, etc. One way to store data in non-volatile storage is to store data in <b>files</b>.\n",
    "\n",
    "In this notebook, we explain the basic operations you can perform with files using Python. The most basic tasks involved in file manipulation are <b>reading data</b> from files and <b>writing data</b> to files. \n"
   ]
  },
  {
   "cell_type": "markdown",
   "metadata": {},
   "source": [
    "## II. Opening a File for Reading\n",
    "\n",
    "Before we can read from a file, we need to first <b>open</b> the file. And when we are done with reading from this file, we need to <b>close</b> the file. Assume that we have a file called ```presidents.txt``` in the same directory as this notebok. One way to open this file for reading and later close it is as follows:"
   ]
  },
  {
   "cell_type": "code",
   "execution_count": null,
   "metadata": {},
   "outputs": [],
   "source": [
    "my_file = open('presidents.txt', 'r')\n",
    "\n",
    "# Some code here to read the content of this file\n",
    "\n",
    "my_file.close()"
   ]
  },
  {
   "cell_type": "markdown",
   "metadata": {},
   "source": [
    "If we open a file as shown in Line 1 above, we will need to remember to close it as shown in Line 5 above.\n",
    "\n",
    "Another __preferred__ way of opening a file for reading is as follows:"
   ]
  },
  {
   "cell_type": "code",
   "execution_count": null,
   "metadata": {},
   "outputs": [],
   "source": [
    "with open('presidents.txt', 'r') as my_file:\n",
    "    # Some code here to read the content of this file\n",
    "    pass"
   ]
  },
  {
   "cell_type": "markdown",
   "metadata": {},
   "source": [
    "This second way of opening a file using the ```with open(...) as...``` syntax saves us the trouble of closing the file after we finish processing it.\n",
    "\n",
    "Now let us take a closer look at the ```open()``` function. This function is used to open a file. Typically this function takes in two parameters: the name of the file to be opened, and the mode to open the file. Two commonly used modes are ```'r'``` for reading and ```'w'``` for writing. For example, the code above opens the file ```presidents.txt``` for reading. Subsequently we can only read from this file but we cannot write to this file.\n",
    "\n",
    "We can also see in the code above that a variable called ```my_file``` is introduced in Line 1. This variable ```my_file``` will be used later to access the file."
   ]
  },
  {
   "cell_type": "markdown",
   "metadata": {},
   "source": [
    "### Opening a file that does not exist for reading\n",
    "\n",
    "If we try to open a file that does not exist for reading, we will get a ```FileNotFoundError```. Run the following code and observe the outcome:"
   ]
  },
  {
   "cell_type": "code",
   "execution_count": null,
   "metadata": {},
   "outputs": [],
   "source": [
    "with open('a-non-existing-file.txt', 'r') as my_file:\n",
    "    pass"
   ]
  },
  {
   "cell_type": "markdown",
   "metadata": {},
   "source": [
    "## II. Reading from an Opened File\n",
    "\n",
    "Once a file is open for reading, and assume that this is a text file, we can use the following syntax to read the content of the file line by line:"
   ]
  },
  {
   "cell_type": "code",
   "execution_count": null,
   "metadata": {},
   "outputs": [],
   "source": [
    "with open('presidents.txt', 'r') as my_file:\n",
    "    for line in my_file:\n",
    "        print(line)"
   ]
  },
  {
   "cell_type": "markdown",
   "metadata": {},
   "source": [
    "We can see that the code in Line 2 above is a `for`-loop that goes through all the lines of the file ```my_file```, one at a time. Here we use the variable ```line``` to store a single line of content from ```my_file```.\n",
    "\n",
    "To verify that the file ```presidents.txt``` indeed contains the names of four U.S. presidents and their terms of office, we can open the text file ```presidents.txt``` directly to inspect its content. "
   ]
  },
  {
   "cell_type": "markdown",
   "metadata": {},
   "source": [
    "### Removing the newline character\n",
    "\n",
    "Let us now take a closer look at the code that reads the content of a text file line by line. Run the following code:"
   ]
  },
  {
   "cell_type": "code",
   "execution_count": null,
   "metadata": {},
   "outputs": [],
   "source": [
    "with open('presidents.txt', 'r') as my_file:\n",
    "    for line in my_file:\n",
    "        print(\"Content: [\" + line + \"]\")"
   ]
  },
  {
   "cell_type": "markdown",
   "metadata": {},
   "source": [
    "We can see that in the output of the code above, all the closing square brackets (```]```) are at the beginning of a new line. Why does this happen?\n",
    "\n",
    "This because the string ```line``` contains a <b>newline character</b> at the end. The newline character is a special character that indicates line breaks. It is represented by ```'\\n'```. Run the following code to understand a newline character:"
   ]
  },
  {
   "cell_type": "code",
   "execution_count": null,
   "metadata": {},
   "outputs": [],
   "source": [
    "print(\"This is one line.\\nThis is another line.\\nThis is a third line.\\n\")"
   ]
  },
  {
   "cell_type": "markdown",
   "metadata": {},
   "source": [
    "When we read from a file line by line, each line contains a newline character at the very end. Usually we want to get rid of this newline character. To do so, we can use a method called ```rstrip()``` from the string class and pass in ```'\\n'``` as an argument to this method, as shown below:"
   ]
  },
  {
   "cell_type": "code",
   "execution_count": null,
   "metadata": {},
   "outputs": [],
   "source": [
    "with open('presidents.txt', 'r') as my_file:\n",
    "    for line in my_file:\n",
    "        line = line.rstrip('\\n')\n",
    "        print(\"Content: [\" + line + \"]\")"
   ]
  },
  {
   "cell_type": "markdown",
   "metadata": {},
   "source": [
    "Take a look at Line 3 of the code above. The ```rstrip()``` method removes occurrences of the specified character at the end of a string. If that character occurs multiple times at the end of the string, all occurrences will be removed.\n",
    "\n",
    "For example, run the following code to observe what ```rstrip()``` does when ```'\\n'``` is passed in as its argument:"
   ]
  },
  {
   "cell_type": "code",
   "execution_count": null,
   "metadata": {},
   "outputs": [],
   "source": [
    "my_str = 'This is line 1.\\nThis is line 2.\\n\\n'\n",
    "my_new_str = my_str.rstrip('\\n')\n",
    "\n",
    "print('Before rstrip(): [' + my_str + ']')\n",
    "print('After rstrip(): [' + my_new_str + ']')"
   ]
  },
  {
   "cell_type": "markdown",
   "metadata": {},
   "source": [
    "You can see that the two newline characters at the end of ```my_str``` are both removed after ```rstrip()``` is called, but the newline character in the middle of ```my_str``` is untouched.\n",
    "\n",
    "It is important to note that strings are immutable. Calling the ```rstrip()``` method __returns__ a new string, but the original string is not modified."
   ]
  },
  {
   "cell_type": "markdown",
   "metadata": {},
   "source": [
    "<img align=\"left\" src='https://drive.google.com/uc?export=view&id=0B08uY8vosNfobDBuOXVXQWVxMFE' style=\"width: 60px; height: 60px;\"><br />Let's do an exercise !"
   ]
  },
  {
   "cell_type": "markdown",
   "metadata": {},
   "source": [
    "You are given a file called ```movies.txt```. Open the file, read it line by line, and display only those movies that were produced in 2000 (i.e., only those lines that contain ```'(2000)'``` as a substring).\n",
    "\n",
    "Your code should produce the following output:\n",
    "\n",
    "```\n",
    "Requiem for a Dream (2000)\n",
    "Memento (2000)\n",
    "Amores Perros (2000)\n",
    "Snatch (2000)\n",
    "```"
   ]
  },
  {
   "cell_type": "code",
   "execution_count": 14,
   "metadata": {},
   "outputs": [
    {
     "name": "stdout",
     "output_type": "stream",
     "text": [
      "Requiem for a Dream (2000)\n",
      "Memento (2000)\n",
      "Amores Perros (2000)\n",
      "Snatch (2000)\n"
     ]
    }
   ],
   "source": [
    "# Write your code here:\n",
    "with open(\"movies.txt\", \"r\") as f:\n",
    "    for line in f:\n",
    "        line = line.rstrip(\"\\n\")\n",
    "        if line[-5:-1] == \"2000\":\n",
    "            print(line)\n",
    "\n"
   ]
  },
  {
   "cell_type": "markdown",
   "metadata": {},
   "source": [
    "## III. Reading a File with Several Columns\n",
    "\n",
    "Oftentimes when we use a file to store data, each line of the file represents a single record (e.g., a student, a book, a movie). A single record may contain multiple pieces of information, and we may want to store them in different columns.\n",
    "\n",
    "For example, the file ```presidents.txt``` stores the information of several U.S. presidents. For each president, we store the president's name and his term of office, separated by a tab character (```'\\t'```), which can be seen as two columns.\n",
    "\n",
    "When we read the information from a file containing multiple columns, we usually need to separate these columns so that we can easily retrieve the different pieces of information. The easiest way is to use the ```split()``` method to split a line into multiple columns.\n",
    "\n",
    "For example, the code below retrieves the name and term of office of each president inside the file ```presidents.txt```."
   ]
  },
  {
   "cell_type": "code",
   "execution_count": 7,
   "metadata": {},
   "outputs": [
    {
     "name": "stdout",
     "output_type": "stream",
     "text": [
      "Name: Joe Biden, Term of Office: 2021 - \n",
      "Name: Donald Trump, Term of Office: 2017 - 2021\n",
      "Name: Barack Obama, Term of Office: 2009 - 2017\n",
      "Name: George W. Bush, Term of Office: 2001 - 2009\n",
      "Name: Bill Clinton, Term of Office: 1993 - 2001\n"
     ]
    }
   ],
   "source": [
    "with open('presidents.txt', 'r') as my_file:\n",
    "    for line in my_file:\n",
    "        line = line.rstrip('\\n')\n",
    "        columns = line.split('\\t')\n",
    "        name = columns[0]\n",
    "        term = columns[1]\n",
    "        print(\"Name: \" + name + \", Term of Office: \" + term)"
   ]
  },
  {
   "cell_type": "markdown",
   "metadata": {},
   "source": [
    "In the next example, we have a CSV (comma-separated values) file called ```patients.csv```. Each line of the file contains the name, weight and height of a patient.\n",
    "\n",
    "The code below opens the file, retrieves the information and prints out only the name of each patient:"
   ]
  },
  {
   "cell_type": "code",
   "execution_count": 15,
   "metadata": {},
   "outputs": [
    {
     "name": "stdout",
     "output_type": "stream",
     "text": [
      "Patient Name: Michael Lim\n",
      "Patient Name: Nicholas Wong\n",
      "Patient Name: Jerry Liu\n"
     ]
    }
   ],
   "source": [
    "with open('patients.csv', 'r') as my_file:\n",
    "    for line in my_file:\n",
    "        line = line.rstrip('\\n')\n",
    "        columns = line.split(',')\n",
    "        name = columns[0]\n",
    "        print(\"Patient Name: \" + name)"
   ]
  },
  {
   "cell_type": "markdown",
   "metadata": {},
   "source": [
    "<img align=\"left\" src='https://drive.google.com/uc?export=view&id=0B08uY8vosNfobDBuOXVXQWVxMFE' style=\"width: 60px; height: 60px;\"><br />Let's do an exercise !"
   ]
  },
  {
   "cell_type": "markdown",
   "metadata": {},
   "source": [
    "Can you modify the code above to open ```patients.csv``` and calculate each patient's BMI value? Your code should generate the following output:\n",
    "\n",
    "```\n",
    "Patient Name: Michael Lim, BMI: 23.251459068069035\n",
    "Patient Name: Nicholas Wong, BMI: 24.72555658151226\n",
    "Patient Name: Jerry Liu, BMI: 23.570415879017013\n",
    "```\n",
    "\n",
    "Hint: (1) You can open the file ```patients.csv``` using Notepad++ to observe how the data inside looks like. (2) After extracting the height and weight from the file, you need to convert these strings into numbers before you can calculate the BMI. "
   ]
  },
  {
   "cell_type": "code",
   "execution_count": null,
   "metadata": {},
   "outputs": [],
   "source": [
    "# Write your code here:\n",
    "with open('patients.csv', 'r') as my_file:\n",
    "    for line in my_file:\n",
    "        line = line.rstrip('\\n')\n",
    "        columns = line.split(',')\n",
    "        name = columns[0]\n",
    "        weight = columns[1]\n",
    "        height = columns[2]\n",
    "        \n",
    "        print(\"Patient Name: \" + name + \", BMI: \" + str())\n",
    "\n"
   ]
  },
  {
   "cell_type": "markdown",
   "metadata": {},
   "source": [
    "## IV. Writing to a File\n",
    "\n",
    "Besides reading from a file, we often also want to write data to a file. We can use the mode ```'w'``` to open a file for writing. \n",
    "\n",
    "Run the code below and check your current folder to see if a file ```hello_world.txt``` has been created:"
   ]
  },
  {
   "cell_type": "code",
   "execution_count": null,
   "metadata": {},
   "outputs": [],
   "source": [
    "with open('hello_world.txt', 'w') as output_file:\n",
    "    output_file.write(\"Hello World!\")"
   ]
  },
  {
   "cell_type": "markdown",
   "metadata": {},
   "source": [
    "We can see that to write to a file that has been open, we can use the ```write()``` method. This method takes in a string as its argument, and that string will be written to the corresponding file.\n",
    "\n",
    "Note that if the file opened already has some content inside, then opening the file in ```'w'``` mode and writing to it will <b>overwrite</b> the old content.\n",
    "\n",
    "Run the code below and check the content of ```hello_world.txt``` again:"
   ]
  },
  {
   "cell_type": "code",
   "execution_count": null,
   "metadata": {},
   "outputs": [],
   "source": [
    "with open('hello_world.txt', 'w') as output_file:\n",
    "    output_file.write(\"This line will replace the old text.\")"
   ]
  },
  {
   "cell_type": "markdown",
   "metadata": {},
   "source": [
    "### Writing multiple lines to a file\n",
    "\n",
    "We can also write multiple lines to a file. However, we need to remember to end each line with a newline character ```'\\n'```.\n",
    "\n",
    "Compare the two files generated by the code below:"
   ]
  },
  {
   "cell_type": "code",
   "execution_count": null,
   "metadata": {},
   "outputs": [],
   "source": [
    "with open('output-1.txt', 'w') as output_file:\n",
    "    for num in range(1, 11):\n",
    "        output_file.write(\"Line \" + str(num))\n",
    "\n",
    "with open('output-2.txt', 'w') as output_file:\n",
    "    for num in range(1, 11):\n",
    "        output_file.write(\"Line \" + str(num) + '\\n')"
   ]
  },
  {
   "cell_type": "markdown",
   "metadata": {},
   "source": [
    "<img align=\"left\" src='https://drive.google.com/uc?export=view&id=0B08uY8vosNfobDBuOXVXQWVxMFE' style=\"width: 60px; height: 60px;\"><br />Let's do an exercise !"
   ]
  },
  {
   "cell_type": "markdown",
   "metadata": {},
   "source": [
    "Can you modify your previous code that calculates the BMI values of the patients in ```patients.csv``` such that the computed results are written to a text file called ```patients_bmi.txt```?\n",
    "\n",
    "The generated file ```patients_bmi.txt``` should contain the following data:\n",
    "\n",
    "```\n",
    "Michael Lim, 23.251459068069035\n",
    "Nicholas Wong, 24.72555658151226\n",
    "Jerry Liu, 23.570415879017013\n",
    "```\n",
    "\n",
    "Hint: You can have nested ```with open(...)``` to open an input file and an output file at the same time. Alternatively, you can first store everyone's BMI value into a list while processing the input file. Then after you close the input file, you can open the output file, retrieve the information of each person's BMI from the list one by one and write the information into the output file line by line."
   ]
  },
  {
   "cell_type": "code",
   "execution_count": null,
   "metadata": {},
   "outputs": [],
   "source": [
    "# Write your code here:\n",
    "\n",
    "\n"
   ]
  },
  {
   "cell_type": "code",
   "execution_count": null,
   "metadata": {},
   "outputs": [],
   "source": []
  }
 ],
 "metadata": {
  "kernelspec": {
   "display_name": "Python 3 (ipykernel)",
   "language": "python",
   "name": "python3"
  },
  "language_info": {
   "codemirror_mode": {
    "name": "ipython",
    "version": 3
   },
   "file_extension": ".py",
   "mimetype": "text/x-python",
   "name": "python",
   "nbconvert_exporter": "python",
   "pygments_lexer": "ipython3",
   "version": "3.9.12"
  }
 },
 "nbformat": 4,
 "nbformat_minor": 2
}
