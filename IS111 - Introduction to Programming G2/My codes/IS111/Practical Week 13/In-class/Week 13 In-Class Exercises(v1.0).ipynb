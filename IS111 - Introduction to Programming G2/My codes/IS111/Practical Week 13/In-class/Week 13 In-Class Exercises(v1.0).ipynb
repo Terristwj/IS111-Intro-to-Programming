{
 "cells": [
  {
   "cell_type": "markdown",
   "metadata": {},
   "source": [
    "<table class=\"table table-bordered\">\n",
    "    <tr>\n",
    "        <th style=\"text-align:center; width:35%\"><img src='https://drive.google.com/uc?export=view&id=1zIB3Nw_z8N2SJSSdd2yWQIsDS0MGPYKm' style=\"width: 300px; height: 90px; \"></th>\n",
    "        <th style=\"text-align:center;\"><h3>IS111 - In-Class Exercises</h3><h3>Week 13</h3></th>\n",
    "    </tr>\n",
    "</table>"
   ]
  },
  {
   "cell_type": "markdown",
   "metadata": {},
   "source": [
    "### Q1: Count Strings [ &bigstar;&bigstar; ] "
   ]
  },
  {
   "cell_type": "code",
   "execution_count": 2,
   "metadata": {},
   "outputs": [
    {
     "name": "stdout",
     "output_type": "stream",
     "text": [
      "Enter a string > si\n",
      "Enter a string > ma\n",
      "Enter a string > sc\n",
      "Enter a string > sc\n",
      "Enter a string > \n",
      "\n",
      "You've entered\n",
      "\t3 strings starting with 'S' or 's'\n",
      "\t1 strings starting with 'M' or 'm'\n"
     ]
    }
   ],
   "source": [
    "# Write your code below\n",
    "# list_inputs = []\n",
    "# user_input = input(\"Enter a string > \")\n",
    "\n",
    "# while user_input:\n",
    "#     list_inputs.append(user_input)\n",
    "#     user_input = input(\"Enter a string > \")\n",
    "\n",
    "# starting_items = {}\n",
    "# for a_input in list_inputs:\n",
    "#     key = a_input[0]\n",
    "#     if key.lower() in starting_items:\n",
    "#         starting_items[key] += 1\n",
    "#     else:\n",
    "#         starting_items[key] = 1\n",
    "        \n",
    "# print()\n",
    "# print(\"You've entered\")\n",
    "# for key in starting_items:\n",
    "#     number_items = starting_items[key]\n",
    "#     if key.isalpha():\n",
    "#         print(\"\\t\" + str(number_items) + \" strings starting with '\" + key.upper() + \"' or '\" + key.lower() + \"'\")\n",
    "#     else:\n",
    "#         print(\"\\t\" + str(number_items) + \" strings starting with '\" + key + \"'\")\n",
    "        \n",
    "# Can be done without list\n",
    "list_inputs = {}\n",
    "user_input = input(\"Enter a string > \")\n",
    "\n",
    "while user_input:\n",
    "    key = user_input[0]\n",
    "    if key.lower() in list_inputs:\n",
    "        list_inputs[key] += 1\n",
    "    else:\n",
    "        list_inputs[key] = 1\n",
    "        \n",
    "    user_input = input(\"Enter a string > \")\n",
    "        \n",
    "print()\n",
    "print(\"You've entered\")\n",
    "for key in list_inputs:\n",
    "    number_items = list_inputs[key]\n",
    "    if key.isalpha():\n",
    "        print(\"\\t\" + str(number_items) + \" strings starting with '\" + key.upper() + \"' or '\" + key.lower() + \"'\")\n",
    "    else:\n",
    "        print(\"\\t\" + str(number_items) + \" strings starting with '\" + key + \"'\")"
   ]
  },
  {
   "cell_type": "markdown",
   "metadata": {},
   "source": [
    "### Q2: Count Emails  [ &bigstar;&bigstar; ] "
   ]
  },
  {
   "cell_type": "code",
   "execution_count": 112,
   "metadata": {},
   "outputs": [],
   "source": [
    "# Write your code below\n",
    "# def get_send_time(time_hour, time_minutes, time_seconds):\n",
    "#     if time_seconds[-2:] == \"PM\":\n",
    "#         if time_hour[0] == \"0\":\n",
    "#             time_hour = int(time_hour[1])\n",
    "#         else:\n",
    "#             time_hour = int(time_hour[:2])\n",
    "\n",
    "#         if time_hour < 12:\n",
    "#             send_time = str(time_hour + 12) + time_minutes\n",
    "#         else:\n",
    "#             send_time = str(time_hour) + time_minutes\n",
    "#     else:\n",
    "#         send_time = time_hour + time_minutes\n",
    "    \n",
    "#     return send_time\n",
    "\n",
    "# def count_emails(file_name, start_time, end_time, sender):\n",
    "#     counter = 0\n",
    "#     with open(file_name) as f:\n",
    "#         for line in f:\n",
    "#             line = line.rstrip(\"\\n\")\n",
    "#             cols = line.split(\"\\t\")\n",
    "            \n",
    "#             time_parts = cols[0].split(\":\")\n",
    "#             time_hour = time_parts[0]\n",
    "#             time_minutes = time_parts[1]\n",
    "#             time_seconds = time_parts[2]\n",
    "            \n",
    "# #             hhmm\n",
    "#             send_time = get_send_time(time_hour, time_minutes, time_seconds)\n",
    "#             send_time_hh = int(send_time[:2])\n",
    "#             send_time_mm = int(send_time[2:])\n",
    "            \n",
    "# #             print(send_time_hh, send_time_mm)\n",
    "# #             print(send_time_hh >= start_time[0], send_time_hh < end_time[0], cols[1] == sender)\n",
    "# #             print(send_time_hh == end_time[0], send_time_mm <= end_time[1], cols[1] == sender)\n",
    "            \n",
    "#             if cols[1] == sender:\n",
    "#                 if send_time_hh >= start_time[0] and send_time_hh < end_time[0]:\n",
    "#                     counter += 1\n",
    "#                 elif send_time_hh == end_time[0] and send_time_mm <= end_time[1]:\n",
    "#                     if time_seconds[-1] == \"M\":\n",
    "#                         if time_seconds[:-2] == \"00\":\n",
    "#                             counter += 1\n",
    "#                     else:\n",
    "#                         if time_seconds == \"00\":\n",
    "#                             counter += 1\n",
    "            \n",
    "#     return counter\n",
    "\n",
    "def format_timestamp(timestamp):\n",
    "    time = timestamp.split(\":\")\n",
    "    mm = int(time[1])\n",
    "    \n",
    "    if time[2][-1] == \"M\":\n",
    "        ss = int(time[2][:-2])\n",
    "        if time[2][2:] == \"PM\" and int(time[0]) < 12:\n",
    "            hh = int(time[0]) + 12\n",
    "        else:\n",
    "            hh = int(time[0])\n",
    "    else:\n",
    "        hh = int(time[0])\n",
    "        ss = int(time[2])\n",
    "        \n",
    "    return hh * 60 * 60 + mm * 60 + ss\n",
    "\n",
    "def count_emails(file_name, start_time, end_time, sender):\n",
    "    start_time_seconds = start_time[0] * 60 * 60 + start_time[1] * 60\n",
    "    end_time_seconds = end_time[0] * 60 * 60 + end_time[1] * 60\n",
    "    counter = 0\n",
    "    with open(file_name) as f:\n",
    "        for line in f:\n",
    "            line = line.rstrip(\"\\n\")\n",
    "            cols = line.split(\"\\t\")\n",
    "            \n",
    "            my_timestamp = format_timestamp(cols[0])\n",
    "            my_sender = cols[1]\n",
    "            \n",
    "            if sender == my_sender:\n",
    "                if my_timestamp >= start_time_seconds and my_timestamp <= end_time_seconds:\n",
    "                    counter += 1\n",
    "    return counter"
   ]
  },
  {
   "cell_type": "code",
   "execution_count": 113,
   "metadata": {},
   "outputs": [
    {
     "name": "stdout",
     "output_type": "stream",
     "text": [
      "\n",
      "Testcase 1\n",
      "----------\n",
      "Expected: 3\n",
      "Actual:   3\n",
      "\n",
      "Testcase 2\n",
      "----------\n",
      "Expected: 2\n",
      "Actual:   2\n"
     ]
    }
   ],
   "source": [
    "# Test cases to test your code\n",
    "\n",
    "print('\\nTestcase 1')\n",
    "print('-' * 10)\n",
    "count = count_emails('emails-1.txt', (12, 30), (14, 0), 'joe@abc.com')\n",
    "print(\"Expected: 3\")\n",
    "print('Actual:   ' + str(count))\n",
    "\n",
    "print('\\nTestcase 2')\n",
    "print('-' * 10)\n",
    "count = count_emails('emails-2.txt', (11, 0), (14, 0), 'joe@abc.com')\n",
    "print(\"Expected: 2\")\n",
    "print('Actual:   ' + str(count))"
   ]
  },
  {
   "cell_type": "code",
   "execution_count": null,
   "metadata": {},
   "outputs": [],
   "source": []
  },
  {
   "cell_type": "code",
   "execution_count": null,
   "metadata": {},
   "outputs": [],
   "source": []
  }
 ],
 "metadata": {
  "kernelspec": {
   "display_name": "Python 3 (ipykernel)",
   "language": "python",
   "name": "python3"
  },
  "language_info": {
   "codemirror_mode": {
    "name": "ipython",
    "version": 3
   },
   "file_extension": ".py",
   "mimetype": "text/x-python",
   "name": "python",
   "nbconvert_exporter": "python",
   "pygments_lexer": "ipython3",
   "version": "3.9.12"
  }
 },
 "nbformat": 4,
 "nbformat_minor": 2
}
