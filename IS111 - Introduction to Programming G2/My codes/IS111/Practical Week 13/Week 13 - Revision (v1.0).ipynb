{
 "cells": [
  {
   "cell_type": "markdown",
   "metadata": {},
   "source": [
    "<table class=\"table table-bordered\">\n",
    "    <tr>\n",
    "        <th style=\"text-align:center; width:35%\"><img src='https://drive.google.com/uc?export=view&id=1zIB3Nw_z8N2SJSSdd2yWQIsDS0MGPYKm' style=\"width: 300px; height: 90px; \"></th>\n",
    "        <th style=\"text-align:center;\"><h3>IS111 - Revision</h3><h3>Week 13</h3></th>\n",
    "    </tr>\n",
    "</table>"
   ]
  },
  {
   "cell_type": "markdown",
   "metadata": {},
   "source": [
    "### 1. Which variables below are not valid (i.e., will cause an error)?"
   ]
  },
  {
   "cell_type": "markdown",
   "metadata": {},
   "source": [
    "<table align=\"left\" class=\"table table-bordered\" style=\"width:40%\">\n",
    "<tr>\n",
    "<th style=\"text-align:center; width:20%\">No</th>\n",
    "<th style=\"text-align:center; width:50%\">name</th>\n",
    "<th style=\"text-align:center;\">valid?</th>\n",
    "</tr>\n",
    "<tr><td style=\"text-align:center; \">a.</td><td>interest-rate</td><td></td></tr>\n",
    "<tr><td style=\"text-align:center; \">b.</td><td>apple&#95;tv&#95;123</td><td></td></tr>\n",
    "<tr><td style=\"text-align:center; \">c.</td><td>COUNTER</td><td></td></tr>\n",
    "<tr><td style=\"text-align:center; \">d.</td><td>4&#95;you</td><td></td></tr>\n",
    "<tr><td style=\"text-align:center; \">e.</td><td>&#95;account&#95;balance</td><td></td></tr>\n",
    "<!-- <tr><td style=\"text-align:center; \">f.</td><td>fruit.apple</td><td></td></tr> -->\n",
    "<!-- <tr><td style=\"text-align:center; \">g.</td><td>I&#95;love&#95;programming!</td><td></td></tr> -->\n",
    "<!-- <tr><td style=\"text-align:center; \">h.</td><td>gold&#95;is&#95;expensive&#95;&#36;</td><td></td></tr> -->\n",
    "</table>"
   ]
  },
  {
   "cell_type": "markdown",
   "metadata": {},
   "source": [
    "### 2. Evaluate the following expressions:"
   ]
  },
  {
   "cell_type": "markdown",
   "metadata": {},
   "source": [
    "<table align=\"left\" class=\"table table-bordered\" style=\"width:50%\">\n",
    "<tr>\n",
    "<th style=\"text-align:center; width:5%\">#</th>\n",
    "<th style=\"text-align:center; width:30%\">Expression to evaluate</th>\n",
    "<th style=\"text-align:center; width:10%\">Result</th>\n",
    "</tr>\n",
    "<tr><td style=\"text-align:center; \">a.</td><td>print (15 // 7 + 15 % 4)</td><td></td></tr>\n",
    "<tr><td style=\"text-align:center; \">b.</td><td>print (16 / 4)</td><td></td></tr>\n",
    "<tr><td style=\"text-align:center; \">c.</td><td>print (3 > 5 or not 9 - 5 != 4)</td><td></td></tr>\n",
    "<tr><td style=\"text-align:center; \">d.</td><td>print (19 // 3 &#8727;&#8727; 2 &#8727; 2)</td><td></td></tr>\n",
    "<tr><td style=\"text-align:center; \">e.</td><td>print(2 &#8727;&#8727; 2 &#8727;&#8727; 3)</td><td></td></tr>\n",
    "<tr><td style=\"text-align:center; \">e.</td><td>print(int('10' + '2'), str(10 + 2))</td><td></td></tr>\n",
    "</table>"
   ]
  },
  {
   "cell_type": "code",
   "execution_count": null,
   "metadata": {},
   "outputs": [],
   "source": [
    "# a.\n",
    "print (15 // 7 + 15 % 4)"
   ]
  },
  {
   "cell_type": "code",
   "execution_count": null,
   "metadata": {},
   "outputs": [],
   "source": [
    "# b.\n",
    "print (16 / 4)"
   ]
  },
  {
   "cell_type": "code",
   "execution_count": null,
   "metadata": {},
   "outputs": [],
   "source": [
    "# c.\n",
    "print (3 > 5 or not 9 - 5 != 4)"
   ]
  },
  {
   "cell_type": "code",
   "execution_count": null,
   "metadata": {},
   "outputs": [],
   "source": [
    "# d.\n",
    "print (19 // 3 ** 2 * 2)"
   ]
  },
  {
   "cell_type": "code",
   "execution_count": null,
   "metadata": {},
   "outputs": [],
   "source": [
    "# e.\n",
    "print(2 ** 2 ** 3)"
   ]
  },
  {
   "cell_type": "code",
   "execution_count": null,
   "metadata": {},
   "outputs": [],
   "source": [
    "# Compare the following with e. above.\n",
    "print((2 ** 2) ** 3)"
   ]
  },
  {
   "cell_type": "code",
   "execution_count": null,
   "metadata": {},
   "outputs": [],
   "source": [
    "# f.\n",
    "print(int('10' + '2'), str(10 + 2))"
   ]
  },
  {
   "cell_type": "markdown",
   "metadata": {},
   "source": [
    "### 3. What is the output of the following code?"
   ]
  },
  {
   "cell_type": "markdown",
   "metadata": {},
   "source": [
    "#### a)"
   ]
  },
  {
   "cell_type": "code",
   "execution_count": null,
   "metadata": {},
   "outputs": [],
   "source": [
    "list1 = []\n",
    "for n in range(1, 15):\n",
    "    if n % 5 == 0 or n % 3 == 0:\n",
    "        list1.append(n)\n",
    "print(list1)"
   ]
  },
  {
   "cell_type": "markdown",
   "metadata": {},
   "source": [
    "#### b)"
   ]
  },
  {
   "cell_type": "code",
   "execution_count": null,
   "metadata": {},
   "outputs": [],
   "source": [
    "list1 = [1, 3, 5, 7, 9]\n",
    "list2 = [2, 4, 6, 8]\n",
    "\n",
    "my_list = list1[1:4] + [len(list1)] + list2[len(list2)-3:] \n",
    "my_list.append(len(list2))\n",
    "my_list.append(list1[1:2])\n",
    "print(my_list)  "
   ]
  },
  {
   "cell_type": "markdown",
   "metadata": {},
   "source": [
    "#### c)"
   ]
  },
  {
   "cell_type": "code",
   "execution_count": null,
   "metadata": {},
   "outputs": [],
   "source": [
    "def mystery1(my_list, word):\n",
    "    for i in range(len(my_list)):\n",
    "        if word in my_list[i]:\n",
    "            my_list[i] = '*'\n",
    "\n",
    "str_list = ['apple', 'banana', 'durian', 'mango', 'pear']\n",
    "mystery1(str_list, 'p')\n",
    "print(str_list)"
   ]
  },
  {
   "cell_type": "markdown",
   "metadata": {},
   "source": [
    "#### d)"
   ]
  },
  {
   "cell_type": "code",
   "execution_count": null,
   "metadata": {},
   "outputs": [],
   "source": [
    "def mystery2(my_list, word):\n",
    "    for item in my_list:\n",
    "        if word in item:\n",
    "            item = '*'\n",
    "    \n",
    "str_list = ['apple', 'banana', 'durian', 'mango', 'pear']\n",
    "mystery2(str_list, 'p')\n",
    "print(str_list)"
   ]
  },
  {
   "cell_type": "markdown",
   "metadata": {},
   "source": [
    "#### e)"
   ]
  },
  {
   "cell_type": "code",
   "execution_count": 1,
   "metadata": {},
   "outputs": [
    {
     "name": "stdout",
     "output_type": "stream",
     "text": [
      "[99, 2, 3]\n",
      "{1: 0, 0: 99}\n"
     ]
    },
    {
     "ename": "TypeError",
     "evalue": "'str' object does not support item assignment",
     "output_type": "error",
     "traceback": [
      "\u001b[1;31m---------------------------------------------------------------------------\u001b[0m",
      "\u001b[1;31mTypeError\u001b[0m                                 Traceback (most recent call last)",
      "Input \u001b[1;32mIn [1]\u001b[0m, in \u001b[0;36m<cell line: 13>\u001b[1;34m()\u001b[0m\n\u001b[0;32m     10\u001b[0m \u001b[38;5;28mprint\u001b[39m(my_dict)\n\u001b[0;32m     12\u001b[0m my_str \u001b[38;5;241m=\u001b[39m \u001b[38;5;124m'\u001b[39m\u001b[38;5;124m123\u001b[39m\u001b[38;5;124m'\u001b[39m\n\u001b[1;32m---> 13\u001b[0m \u001b[43mmodify_1\u001b[49m\u001b[43m(\u001b[49m\u001b[43mmy_str\u001b[49m\u001b[43m,\u001b[49m\u001b[43m \u001b[49m\u001b[38;5;124;43m'\u001b[39;49m\u001b[38;5;124;43m9\u001b[39;49m\u001b[38;5;124;43m'\u001b[39;49m\u001b[43m)\u001b[49m\n\u001b[0;32m     14\u001b[0m \u001b[38;5;28mprint\u001b[39m(my_str)\n",
      "Input \u001b[1;32mIn [1]\u001b[0m, in \u001b[0;36mmodify_1\u001b[1;34m(x, y)\u001b[0m\n\u001b[0;32m      1\u001b[0m \u001b[38;5;28;01mdef\u001b[39;00m \u001b[38;5;21mmodify_1\u001b[39m(x, y):\n\u001b[1;32m----> 2\u001b[0m     x[\u001b[38;5;241m0\u001b[39m] \u001b[38;5;241m=\u001b[39m y\n",
      "\u001b[1;31mTypeError\u001b[0m: 'str' object does not support item assignment"
     ]
    }
   ],
   "source": [
    "def modify_1(x, y):\n",
    "    x[0] = y\n",
    "\n",
    "my_list = [1, 2, 3]\n",
    "modify_1(my_list, 99)\n",
    "print(my_list)\n",
    "    \n",
    "my_dict = {1:0, 0:1}\n",
    "modify_1(my_dict, 99)\n",
    "print(my_dict)\n",
    "\n",
    "my_str = '123'\n",
    "modify_1(my_str, '9')\n",
    "print(my_str)"
   ]
  },
  {
   "cell_type": "markdown",
   "metadata": {},
   "source": [
    "#### f)"
   ]
  },
  {
   "cell_type": "code",
   "execution_count": null,
   "metadata": {},
   "outputs": [],
   "source": [
    "def modify_2(x, y):\n",
    "    x.append(y)\n",
    "\n",
    "def modify_3(x, y):\n",
    "    x = x + [y]\n",
    "    \n",
    "\n",
    "my_list = [1, 2, 3]\n",
    "modify_2(my_list, 99)\n",
    "print(my_list)\n",
    "\n",
    "my_list = [1, 2, 3]\n",
    "modify_3(my_list, 99)\n",
    "print(my_list)"
   ]
  },
  {
   "cell_type": "markdown",
   "metadata": {},
   "source": [
    "### 4. Vowels\n",
    "\n",
    "Write a program that prompts the user for a string and displays the string where all the vowels ('a', 'e', 'i', 'o', 'u') (case insensitive) have been replaced by *.\n",
    "\n",
    "```\n",
    "Enter a sentence :Mississippi River Meets Ohio River\n",
    "New sentence     :M*ss*ss*pp* R*v*r M**ts *h** R*v*r\n",
    "```"
   ]
  },
  {
   "cell_type": "code",
   "execution_count": null,
   "metadata": {},
   "outputs": [],
   "source": [
    "# Write your code here\n",
    "\n"
   ]
  },
  {
   "cell_type": "markdown",
   "metadata": {},
   "source": [
    "### 5. Digits\n",
    "\n",
    "Define a function called `display_chars_after_digits`. The function takes in a string `my_str` as its parameter. The function prints those non-digit characters that appear immediately after a segment of digits in `my_str`.\n",
    "\n",
    "E.g., \n",
    "\n",
    "- `display_chars_after_digits('1a2b3c')` prints `abc`\n",
    "- `display_chars_after_digits('123ABC456')` prints `A`\n",
    "- `display_chars_after_digits('abc12ABC0& 35.9-6.30=29.6')` prints `A&.-.=.`"
   ]
  },
  {
   "cell_type": "code",
   "execution_count": null,
   "metadata": {},
   "outputs": [],
   "source": [
    "# Write your code here\n",
    "\n"
   ]
  },
  {
   "cell_type": "code",
   "execution_count": null,
   "metadata": {},
   "outputs": [],
   "source": [
    "# prints abc\n",
    "display_chars_after_digits('1a2b3c')"
   ]
  },
  {
   "cell_type": "code",
   "execution_count": null,
   "metadata": {},
   "outputs": [],
   "source": [
    "# prints A\n",
    "display_chars_after_digits('123ABC456')"
   ]
  },
  {
   "cell_type": "code",
   "execution_count": null,
   "metadata": {},
   "outputs": [],
   "source": [
    "# prints A&.-.=.\n",
    "display_chars_after_digits('abc12ABC0& 35.9-6.30=29.6')"
   ]
  },
  {
   "cell_type": "markdown",
   "metadata": {},
   "source": [
    "### 6. Rectangles\n",
    "\n",
    "#### (a)\n",
    "\n",
    "Define a function called `get_total_area`. The function takes in a parameter called `rect_list`. It is a list of tuples, where each tuple contains two integers, representing the width and length of a rectangle. The function returns the total area of all the rectangles in the list. Note that the area of a rectangle is equal to its width multiplied by its length.\n",
    "\n",
    "E.g., `get_total_area([(1, 2), (4, 5), (2, 9)])` returns 40 (because the area of the first rectangle is 2, the area of the second rectangle is 20 and the area of the third rectangle is 18)."
   ]
  },
  {
   "cell_type": "code",
   "execution_count": null,
   "metadata": {},
   "outputs": [],
   "source": [
    "# Write your code here\n"
   ]
  },
  {
   "cell_type": "code",
   "execution_count": null,
   "metadata": {},
   "outputs": [],
   "source": [
    "# prints 40\n",
    "print(get_total_area([(1, 2), (4, 5), (2, 9)]))"
   ]
  },
  {
   "cell_type": "markdown",
   "metadata": {},
   "source": [
    "#### (b)\n",
    "\n",
    "Define a function called `get_largest_rectangle`. The function takes in the same parameter as the one above. It returns a tuple containing three integers: the first two are the width and length of the rectangle that has the largest area in `rect_list`, the third integer is its area. \n",
    "\n",
    "If there are two rectangles sharing the same size (i.e., same area), the function should return the first such rectangle in `rect_list`.\n",
    "\n",
    "E.g., `get_largest_rectangle([(1, 2), (4, 5), (2, 9), (10, 2)])` returns `(4, 5, 20)`. This is because the rectangle `(4, 5)` has the largest area of 20 among the rectangles. Although the last rectangle `(10, 2)` also has an area of 20, it appears after `(4, 5)` and therefore is not returned.\n",
    "\n",
    "You can assume that the list `rect_list` contains at least one element."
   ]
  },
  {
   "cell_type": "code",
   "execution_count": null,
   "metadata": {},
   "outputs": [],
   "source": [
    "# Write your code here\n"
   ]
  },
  {
   "cell_type": "code",
   "execution_count": null,
   "metadata": {},
   "outputs": [],
   "source": [
    "# The code below should print the tuple (4, 5, 20)\n",
    "print(get_largest_rectangle([(1, 2), (4, 5), (2, 9), (10, 2)]))"
   ]
  },
  {
   "cell_type": "markdown",
   "metadata": {},
   "source": [
    "### 7. User Input\n",
    "\n",
    "Write some code that prompts the user for two integer numbers `num1` and `num2` and stops prompting the user when \n",
    "\n",
    "(1) `num1` is a multiple of 3 and `num2` is a multiple of 5,\n",
    "\n",
    "__or__ \n",
    "\n",
    "(2) when the sum of the two numbers is a multiple of 7.\n",
    "\n",
    "For example:\n",
    "\n",
    "```\n",
    "first number : 4\n",
    "second number : 5\n",
    "Not valid!\n",
    "\n",
    "first number : 6\n",
    "second number : 6\n",
    "Not valid!\n",
    "\n",
    "first number : 6\n",
    "second number : 10\n",
    "Bye!\n",
    "```\n",
    "\n",
    "Another example run:\n",
    "```\n",
    "first number : 17\n",
    "second number : 4\n",
    "Bye!\n",
    "```"
   ]
  },
  {
   "cell_type": "code",
   "execution_count": null,
   "metadata": {},
   "outputs": [],
   "source": [
    "# Write your code here\n"
   ]
  },
  {
   "cell_type": "markdown",
   "metadata": {},
   "source": [
    "### 8. Segmentation\n",
    "Define a function called ```segment``` that takes in a string called ```text``` as its parameter.\n",
    "\n",
    "```text``` contains segments of texts separated by one of the following characters: ```|-=```.\n",
    "\n",
    "You can assume that `text` doesn't start with or end with one of these separators, e.g., you won't have `'|abc='` as `text`.\n",
    "\n",
    "For example, ```text``` may be ```'a b c|def-123 aaa=|(abc)'``` .\n",
    "\n",
    "The segments inside the string are:\n",
    "\n",
    "```\n",
    "'a b c' ,  'def' , '123 aaa' , '' , '(abc)'\n",
    "```\n",
    "\n",
    "The function segments the input string and returns all the segments together with the separaters as a list.\n",
    "\n",
    "For example, given the input string above, the function returns the following list:\n",
    "\n",
    "```\n",
    "['a b c', '|', 'def', '-', '123 aaa', '=', '', '|', '(abc)']\n",
    "```"
   ]
  },
  {
   "cell_type": "code",
   "execution_count": null,
   "metadata": {},
   "outputs": [],
   "source": [
    "# Write your code here\n",
    "\n"
   ]
  },
  {
   "cell_type": "code",
   "execution_count": null,
   "metadata": {},
   "outputs": [],
   "source": [
    "print(segment('a b c|def-123 aaa=|(abc)'))"
   ]
  },
  {
   "cell_type": "markdown",
   "metadata": {},
   "source": [
    "## <font color = 'green'>Additional Questions</font>"
   ]
  },
  {
   "cell_type": "markdown",
   "metadata": {},
   "source": [
    "### 9. What is the output of the following code?"
   ]
  },
  {
   "cell_type": "markdown",
   "metadata": {},
   "source": [
    "#### a)"
   ]
  },
  {
   "cell_type": "code",
   "execution_count": null,
   "metadata": {},
   "outputs": [],
   "source": [
    "list2 = []\n",
    "for n in range(2, 20):\n",
    "    if n % 2 == 0 and n % 7 == 0:\n",
    "        list2.append(n)\n",
    "print(list2)"
   ]
  },
  {
   "cell_type": "markdown",
   "metadata": {},
   "source": [
    "#### b)"
   ]
  },
  {
   "cell_type": "code",
   "execution_count": null,
   "metadata": {},
   "outputs": [],
   "source": [
    "my_list = [3, 5, 7, 5, 4, 6, 8, 4]\n",
    "\n",
    "your_list = []\n",
    "for n in my_list:\n",
    "    if n not in your_list:\n",
    "        your_list.append(n)\n",
    "print(your_list)"
   ]
  },
  {
   "cell_type": "markdown",
   "metadata": {},
   "source": [
    "#### c)"
   ]
  },
  {
   "cell_type": "code",
   "execution_count": null,
   "metadata": {},
   "outputs": [],
   "source": [
    "def mystery1(a, b, c):\n",
    "    a = b + c\n",
    "    d = 2 * a\n",
    "    print(d)\n",
    "    return a + b / c\n",
    "\n",
    "c = 2\n",
    "b = 3\n",
    "a = 4\n",
    "d = mystery1(a, b, c)\n",
    "print(d)"
   ]
  },
  {
   "cell_type": "markdown",
   "metadata": {},
   "source": [
    "#### d)"
   ]
  },
  {
   "cell_type": "code",
   "execution_count": null,
   "metadata": {},
   "outputs": [],
   "source": [
    "def mystery2(s1, s2):\n",
    "    s = s1[1:len(s1)] + s2[0:3]\n",
    "    to_return = s.split('o')\n",
    "    return to_return\n",
    "    \n",
    "str1 = 'hello'\n",
    "str2 = 'world'\n",
    "unknown = mystery2(str1, str2)\n",
    "print(unknown)"
   ]
  },
  {
   "cell_type": "markdown",
   "metadata": {},
   "source": [
    "#### e) "
   ]
  },
  {
   "cell_type": "code",
   "execution_count": null,
   "metadata": {},
   "outputs": [],
   "source": [
    "def mystery5(x, y=10, z='SMU'):\n",
    "    print(x + y)\n",
    "    print(z + ' Student Association')"
   ]
  },
  {
   "cell_type": "code",
   "execution_count": null,
   "metadata": {},
   "outputs": [],
   "source": [
    "mystery5(3)"
   ]
  },
  {
   "cell_type": "code",
   "execution_count": null,
   "metadata": {},
   "outputs": [],
   "source": [
    "mystery5(3, 2)"
   ]
  },
  {
   "cell_type": "code",
   "execution_count": null,
   "metadata": {},
   "outputs": [],
   "source": [
    "mystery5(3, 2, 'SUTD')"
   ]
  },
  {
   "cell_type": "code",
   "execution_count": null,
   "metadata": {},
   "outputs": [],
   "source": [
    "mystery5(3, z='NTU')"
   ]
  },
  {
   "cell_type": "code",
   "execution_count": null,
   "metadata": {},
   "outputs": [],
   "source": [
    "mystery5(3, y=5, z='NUS')"
   ]
  },
  {
   "cell_type": "code",
   "execution_count": null,
   "metadata": {},
   "outputs": [],
   "source": [
    "mystery5(3, 'NUS') "
   ]
  },
  {
   "cell_type": "markdown",
   "metadata": {},
   "source": [
    "#### f)"
   ]
  },
  {
   "cell_type": "code",
   "execution_count": null,
   "metadata": {},
   "outputs": [],
   "source": [
    "name_1 = 'Good morning!'\n",
    "name_2 = 'Good evening!'\n",
    "\n",
    "print (name_1[0] + name_1[5] + name_1[len(name_1) - 1])\n",
    "\n",
    "print (name_1[0:4], name_2[5:])\n",
    "\n",
    "substr = name_2[5:9] + 't'\n",
    "print(substr)\n",
    "print(substr[::-1])"
   ]
  },
  {
   "cell_type": "markdown",
   "metadata": {},
   "source": [
    "### 10. \n",
    "Given the Python code below, what will be the output of the code for the following values of n?"
   ]
  },
  {
   "cell_type": "code",
   "execution_count": null,
   "metadata": {},
   "outputs": [],
   "source": [
    "if n <= 5:\n",
    "    print('Morning')\n",
    "else: \n",
    "    if n > 20:\n",
    "        print('Afternoon')\n",
    "    elif n < 10:\n",
    "        print('Evening')\n",
    "    elif n > 8:\n",
    "        print('Night')\n",
    "    else:\n",
    "        print('Day')"
   ]
  },
  {
   "cell_type": "markdown",
   "metadata": {},
   "source": [
    "<table align=\"left\" class=\"table table-bordered\" style=\"width:40%\">\n",
    "<tr>\n",
    "<th style=\"text-align:center; width:5%\">No</th>\n",
    "<th style=\"text-align:center; width:5%\">Value of a</th>\n",
    "<th style=\"text-align:center; width:10%\">Output</th>\n",
    "</tr>\n",
    "<tr><td style=\"text-align:center; \">a.</td><td>n = 2</td><td></td></tr>\n",
    "<tr><td style=\"text-align:center; \">b.</td><td>n = 7</td><td></td></tr>\n",
    "<tr><td style=\"text-align:center; \">c.</td><td>n = 9</td><td></td></tr>\n",
    "<tr><td style=\"text-align:center; \">d.</td><td>n = 18</td><td></td></tr>\n",
    "</table>\n",
    "\n",
    "#### <br /><br /><br /><br /><br /><br /><br /><br /><br /><br /><br /><br /><br />Which value of n will print 'Day' on the screen?"
   ]
  },
  {
   "cell_type": "markdown",
   "metadata": {},
   "source": [
    "### 11. \n",
    "\n",
    "#### (a)\n",
    "\n",
    "Write a program that prompts the user for a positive integer. The program prints out the odd integers between 1 and the number (both inclusive).\n",
    "\n",
    "\n",
    "```\n",
    "Enter a number :10\n",
    "1 3 5 7 9 \n",
    "```\n",
    "\n",
    "```\n",
    "Enter a number :5\n",
    "1 3 5\n",
    "```"
   ]
  },
  {
   "cell_type": "code",
   "execution_count": null,
   "metadata": {},
   "outputs": [],
   "source": [
    "# Write your code here\n",
    "\n"
   ]
  },
  {
   "cell_type": "markdown",
   "metadata": {},
   "source": [
    "#### (b) \n",
    "\n",
    "Write a program that prompts the user for a positive integer. Call this number $n$. The program then displays all the even numbers between 0 and 2$n$ (both inclusive).\n",
    "\n",
    "```\n",
    "Enter a number :10\n",
    "0 2 4 6 8 10 12 14 16 18 20 \n",
    "```\n",
    "\n",
    "Other sample run:\n",
    "\n",
    "```\n",
    "Enter a number :15\n",
    "0 2 4 6 8 10 12 14 16 18 20 22 24 26 28 30 \n",
    "```"
   ]
  },
  {
   "cell_type": "code",
   "execution_count": null,
   "metadata": {},
   "outputs": [],
   "source": [
    "# Write your code here\n",
    "\n"
   ]
  },
  {
   "cell_type": "markdown",
   "metadata": {},
   "source": [
    "### 12."
   ]
  },
  {
   "cell_type": "markdown",
   "metadata": {},
   "source": [
    "Observe the output below and write a program that prompts the user for a positive integer and prints out a sequence of numbers as shown below:\n",
    "\n",
    "Sample run 1:\n",
    "\n",
    "```\n",
    "Enter a number :10\n",
    "0 4 8 12 16 20 \n",
    "```\n",
    "Sample run 2:\n",
    "\n",
    "```\n",
    "Enter a number :35\n",
    "0 4 8 12 16 20 24 28 32 36 40 44 48 52 56 60 64 68 \n",
    "```"
   ]
  },
  {
   "cell_type": "code",
   "execution_count": null,
   "metadata": {},
   "outputs": [],
   "source": [
    "# Write your code here\n",
    "\n"
   ]
  },
  {
   "cell_type": "markdown",
   "metadata": {},
   "source": [
    "### 13.\n",
    "\n",
    "Write a program that takes in a string and prints out the characters with odd indices. \n",
    "\n",
    "\n",
    "```\n",
    "Enter a sentence :Blue Lagoon\n",
    "position 1: l\n",
    "position 3: e\n",
    "position 5: L\n",
    "position 7: g\n",
    "position 9: o\n",
    "\n",
    "total: 5 characters at odd positions\n",
    "```\n"
   ]
  },
  {
   "cell_type": "code",
   "execution_count": null,
   "metadata": {},
   "outputs": [],
   "source": [
    "# Write your code here\n",
    "\n"
   ]
  },
  {
   "cell_type": "markdown",
   "metadata": {},
   "source": [
    "### 14."
   ]
  },
  {
   "cell_type": "markdown",
   "metadata": {},
   "source": [
    "Define a function ```get_total_length()``` that takes in a list of strings as its parameter. The function returns the total length of all the strings in the list.\n",
    "\n",
    "E.g. ```get_total_length(['123', '00', 'abcde'])``` should return 10.\n"
   ]
  },
  {
   "cell_type": "code",
   "execution_count": null,
   "metadata": {},
   "outputs": [],
   "source": [
    "# write you code here\n",
    "\n"
   ]
  },
  {
   "cell_type": "code",
   "execution_count": null,
   "metadata": {},
   "outputs": [],
   "source": [
    "# prints 10\n",
    "print(get_total_length(['123', '00', 'abcde']))"
   ]
  },
  {
   "cell_type": "code",
   "execution_count": null,
   "metadata": {},
   "outputs": [],
   "source": []
  }
 ],
 "metadata": {
  "kernelspec": {
   "display_name": "Python 3 (ipykernel)",
   "language": "python",
   "name": "python3"
  },
  "language_info": {
   "codemirror_mode": {
    "name": "ipython",
    "version": 3
   },
   "file_extension": ".py",
   "mimetype": "text/x-python",
   "name": "python",
   "nbconvert_exporter": "python",
   "pygments_lexer": "ipython3",
   "version": "3.9.12"
  }
 },
 "nbformat": 4,
 "nbformat_minor": 2
}
