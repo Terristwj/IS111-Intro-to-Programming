{
 "cells": [
  {
   "cell_type": "markdown",
   "metadata": {},
   "source": [
    "<table class=\"table table-bordered\">\n",
    "    <tr>\n",
    "        <th style=\"text-align:center; width:35%\"><img src='https://dl.dropbox.com/s/qtzukmzqavebjd2/icon_smu.jpg' style=\"width: 300px; height: 90px; \"></th>\n",
    "        <th style=\"text-align:center;\"><h3>IS111 - In-Class Exercises</h3><h3>Week 5 - Starting Code</h3></th>\n",
    "    </tr>\n",
    "</table>"
   ]
  },
  {
   "cell_type": "markdown",
   "metadata": {},
   "source": [
    "### Q1: Code Tracing [ &#9733; &#9733; ]"
   ]
  },
  {
   "cell_type": "code",
   "execution_count": null,
   "metadata": {},
   "outputs": [],
   "source": [
    "# def modify_list(my_list):\n",
    "#     for index in range(len(my_list)):\n",
    "#         x = my_list[index]\n",
    "#         if (len(x) > 5):\n",
    "#             my_list[index] = x[0:5]\n",
    "\n",
    "# str_list = [\"IS111\", \"Python\", \"Programming\", \"List\"]\n",
    "\n",
    "# modify_list(str_list)\n",
    "# print(str_list)"
   ]
  },
  {
   "cell_type": "code",
   "execution_count": null,
   "metadata": {},
   "outputs": [],
   "source": [
    "# def modify_list(my_list):\n",
    "#     for element in my_list:\n",
    "#         if len(element) > 5:\n",
    "#             element = element[0:5]\n",
    "\n",
    "# str_list = [\"IS111\", \"Python\", \"Programming\", \"List\"]\n",
    "\n",
    "# modify_list(str_list)\n",
    "# print(str_list)\n"
   ]
  },
  {
   "cell_type": "markdown",
   "metadata": {},
   "source": [
    "### Q2: Email Extractor [ &#9733; &#9733; ]\n",
    "#### Part I"
   ]
  },
  {
   "cell_type": "code",
   "execution_count": null,
   "metadata": {},
   "outputs": [],
   "source": [
    "# Write your code below\n",
    "# *********************\n",
    "\n",
    "\n",
    "   "
   ]
  },
  {
   "cell_type": "code",
   "execution_count": null,
   "metadata": {},
   "outputs": [],
   "source": [
    "# This code is given to test your code\n",
    "\n",
    "print(extract_email_id(\"jerry.lee@sis.smu.edu.sg\"))\n",
    "print(extract_email_id(\"alan_wong.com\"))\n",
    "print(extract_email_id(\"\"))\n",
    "print(extract_email_id(\"alan_wong@gmail.com\"))\n"
   ]
  },
  {
   "cell_type": "markdown",
   "metadata": {},
   "source": [
    "  #### Part II"
   ]
  },
  {
   "cell_type": "code",
   "execution_count": null,
   "metadata": {},
   "outputs": [],
   "source": [
    "# Write your code below\n",
    "# *********************\n",
    "\n",
    "\n"
   ]
  },
  {
   "cell_type": "code",
   "execution_count": null,
   "metadata": {},
   "outputs": [],
   "source": [
    "# This code is given to test your code\n",
    "\n",
    "extract_multiple_email_ids(\"jerry.lee@sis.smu.edu.sg;alan_wong@gmail.com;george_tan@yahoo.com\")\n",
    "extract_multiple_email_ids(\"\")\n",
    "extract_multiple_email_ids(\"jerry.lee@sis.smu.edu.sg\")"
   ]
  },
  {
   "cell_type": "markdown",
   "metadata": {},
   "source": [
    "### Q3: Check Username [ &#9733;&#9733;&#9733; ]"
   ]
  },
  {
   "cell_type": "code",
   "execution_count": null,
   "metadata": {},
   "outputs": [],
   "source": [
    "# Write your code below\n",
    "# *********************\n",
    "\n",
    "\n"
   ]
  },
  {
   "cell_type": "code",
   "execution_count": null,
   "metadata": {},
   "outputs": [],
   "source": [
    "# This code is given to test your code\n",
    "\n",
    "username_list = ['abcdefgh','abcdefghi','ab$cd','ab_cd','ab-cd','ab:cd','','ab cd','abcDef','abc8ef']\n",
    "for username in username_list:\n",
    "    print(\"The username '\" + username +\"' is valid : \" + str(is_valid_username(username)))"
   ]
  },
  {
   "cell_type": "markdown",
   "metadata": {},
   "source": [
    "### Q4: List of Strings\n",
    "#### a) [ &#9733;&#9733; ]"
   ]
  },
  {
   "cell_type": "code",
   "execution_count": null,
   "metadata": {},
   "outputs": [],
   "source": [
    "# Write your code below\n",
    "# *********************\n",
    "\n",
    "\n"
   ]
  },
  {
   "cell_type": "code",
   "execution_count": null,
   "metadata": {},
   "outputs": [],
   "source": [
    "# Code provided to test your function\n",
    "\n",
    "print(get_avg_len([\"C\", \"Java\", \"Python\", \"PHP\"]))\n",
    "print(get_avg_len([]))"
   ]
  },
  {
   "cell_type": "markdown",
   "metadata": {},
   "source": [
    "#### b) [ &#9733;&#9733; ]"
   ]
  },
  {
   "cell_type": "code",
   "execution_count": null,
   "metadata": {},
   "outputs": [],
   "source": [
    "# Write your code below\n",
    "# *********************\n",
    "\n",
    "\n"
   ]
  },
  {
   "cell_type": "code",
   "execution_count": null,
   "metadata": {},
   "outputs": [],
   "source": [
    "# Code provided to test your function\n",
    "\n",
    "print(get_longest_str([\"C\", \"Java\", \"Python\", \"PHP\"]))\n",
    "print(get_longest_str([]))\n",
    "print(get_longest_str([\"C\", \"Java\", \"HTML\", \"PHP\"])) \n"
   ]
  },
  {
   "cell_type": "markdown",
   "metadata": {},
   "source": [
    "#### c) [ &#9733;&#9733;&#9733; ]"
   ]
  },
  {
   "cell_type": "code",
   "execution_count": null,
   "metadata": {},
   "outputs": [],
   "source": [
    "# Write your code below\n",
    "# *********************\n",
    "\n",
    "\n"
   ]
  },
  {
   "cell_type": "code",
   "execution_count": null,
   "metadata": {},
   "outputs": [],
   "source": [
    "# Code provided to test your code\n",
    "\n",
    "my_list1 = [\"tommy.goh@sis.smu.edu.sg\",\"alan_wong@gmail.com\"]\n",
    "print(concatenate_emails(my_list1))\n",
    "my_list2 = []\n",
    "print(concatenate_emails(my_list2))\n",
    "my_list3 = [\"IS111\", \"a @ b\", \"jerry.lee@sis.smu.edu.sg\", \"@@@\", \"alan_wong@gmail.com\", \"Python\", \"george_tan@yahoo.com\"]\n",
    "print(concatenate_emails(my_list3))\n"
   ]
  },
  {
   "cell_type": "markdown",
   "metadata": {},
   "source": [
    "#### d) [ &#9733;&#9733;&#9733; ]"
   ]
  },
  {
   "cell_type": "code",
   "execution_count": null,
   "metadata": {},
   "outputs": [],
   "source": [
    "# Write your code below\n",
    "# *********************\n",
    "\n",
    "\n"
   ]
  },
  {
   "cell_type": "code",
   "execution_count": null,
   "metadata": {},
   "outputs": [],
   "source": [
    "# Code provided to test your code\n",
    "\n",
    "print(check_hashtags([\"#singapore\", \"#music\", \"#travel\"]))\n",
    "print(check_hashtags([]))\n",
    "print(check_hashtags([\"#singapore\", \"#music album\", \"#travel\"]))\n",
    "print(check_hashtags([\"singapore\", \"#music\", \"#travel\"]))"
   ]
  },
  {
   "cell_type": "code",
   "execution_count": null,
   "metadata": {},
   "outputs": [],
   "source": []
  }
 ],
 "metadata": {
  "kernelspec": {
   "display_name": "Python 3",
   "language": "python",
   "name": "python3"
  },
  "language_info": {
   "codemirror_mode": {
    "name": "ipython",
    "version": 3
   },
   "file_extension": ".py",
   "mimetype": "text/x-python",
   "name": "python",
   "nbconvert_exporter": "python",
   "pygments_lexer": "ipython3",
   "version": "3.8.3"
  }
 },
 "nbformat": 4,
 "nbformat_minor": 2
}
