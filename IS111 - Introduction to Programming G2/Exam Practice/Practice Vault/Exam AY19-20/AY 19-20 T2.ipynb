{
 "cells": [
  {
   "cell_type": "code",
   "execution_count": null,
   "id": "7f5bc251",
   "metadata": {},
   "outputs": [],
   "source": [
    "D\n",
    "C\n",
    "A\n",
    "A\n",
    "B\n",
    "B\n",
    "D*\n",
    "A"
   ]
  },
  {
   "cell_type": "code",
   "execution_count": null,
   "id": "25a3a783",
   "metadata": {},
   "outputs": [],
   "source": [
    "#1A\n",
    "word = 'long string'\n",
    "word_len =len(word)\n",
    "count = 0\n",
    "while count < word_len:\n",
    "    print(word[count])\n",
    "    count += 1\n",
    "    "
   ]
  },
  {
   "cell_type": "code",
   "execution_count": null,
   "id": "d642f09d",
   "metadata": {},
   "outputs": [],
   "source": [
    "#c\n",
    "\n",
    "num = 100\n",
    "\n",
    "while num != -1 and num > -1:\n",
    "    print(num)\n",
    "    num += -2"
   ]
  },
  {
   "cell_type": "code",
   "execution_count": null,
   "id": "2639d95e",
   "metadata": {},
   "outputs": [],
   "source": [
    "#d \n",
    "(count >= target) and (some_found == False or count >= 100) and (all_found == True)"
   ]
  },
  {
   "cell_type": "code",
   "execution_count": null,
   "id": "50370521",
   "metadata": {},
   "outputs": [],
   "source": [
    "#2\n",
    "x = int(input('Enter x:')) \n",
    "y = int(input('Enter y:'))\n",
    "z = int(input('Enter z:'))\n",
    "\n",
    "result = (x ** y) ** z\n",
    "print(result)"
   ]
  },
  {
   "cell_type": "code",
   "execution_count": null,
   "id": "ed8c0928",
   "metadata": {},
   "outputs": [],
   "source": [
    "#3a\n",
    "def extract_substrings(digit_str,substr_len):\n",
    "    list_to_return = []\n",
    "    \n",
    "    for i in range(len(digit_str) - substr_len + 1):\n",
    "        list_to_return.append(digit_str[i:i+ substr_len])\n",
    "        \n",
    "    return list_to_return\n"
   ]
  },
  {
   "cell_type": "code",
   "execution_count": null,
   "id": "aed711b3",
   "metadata": {},
   "outputs": [],
   "source": [
    "#3b\n",
    "def add_substring_numbers(digit_str):\n",
    "    sum = 0\n",
    "    for i in range(1, len(digit_str) + 1):\n",
    "        hold = extract_substrings(digit_str,i)\n",
    "        for num in hold:\n",
    "            sum += int(num)\n",
    "    return sum\n",
    "\n"
   ]
  },
  {
   "cell_type": "code",
   "execution_count": null,
   "id": "d9e7652f",
   "metadata": {},
   "outputs": [],
   "source": [
    "#4\n",
    "\n",
    "                        \n",
    "def get_close_contacts(case_list, contact_network, degree_separation):\n",
    "    final = []\n",
    "    \n",
    "    for person in case_list:\n",
    "        #filter if person is not in contact network\n",
    "        if person not in contact_network:\n",
    "            return final\n",
    "        name_list = contact_network[person]\n",
    "        \n",
    "        for name in name_list:\n",
    "            if name not in case_list and name not in final:\n",
    "                final.append(name)\n",
    "        degree_separation = degree_separation-1\n",
    "        while degree_separation > 0:\n",
    "            for name in name_list:\n",
    "                name_list2 = contact_network[name]\n",
    "                for name in name_list2:\n",
    "                    if name not in case_list and name not in final:\n",
    "                        final.append(name)\n",
    "            degree_separation = degree_separation-1\n",
    "    return final\n",
    "\n",
    "contact_network = {'Joseph C.': ['Too-Fang K.', 'Ben S.'],\n",
    "'Too-Fang K.': ['Joseph C.', 'Ben S.', 'Kenny E.'],\n",
    "'Paul L.': ['Kenny E.', 'Stern B.', 'Wei Geng X.'],\n",
    "'Nancy C.': ['Kenny E.'],\n",
    "'Jacob T.': ['Kenny E.'],\n",
    "'Abby R.': ['Kenny E.'],\n",
    "'Stern B.': ['Paul L.', 'Irene N.', 'Ralph J.'],\n",
    "'Wei Geng X.': ['Paul L.', 'Ralph J.'],\n",
    "'Irene N.': ['Stern B.', 'Ben S.'],\n",
    "'Ben S.': ['Too-Fang K.', 'Joseph C.', 'Irene N.'],\n",
    "'Kenny E.': ['Nancy C.', 'Abby R.', 'Jacob T.', 'Paul L.', 'Too-Fang K.'],\n",
    "'Ralph J.': ['Stern B.', 'Wei Geng X.']}                \n",
    "print(get_close_contacts(['Irene N.', 'Ben S.'], contact_network, 2))\n",
    "                \n"
   ]
  },
  {
   "cell_type": "code",
   "execution_count": null,
   "id": "c09f1a93",
   "metadata": {},
   "outputs": [],
   "source": [
    "#5\n",
    "\n",
    "def get_dictionary(family_dictionary_str):\n",
    "    dict_to_return = {}\n",
    "    parent_name = ''\n",
    "    child_name =''\n",
    "    \n",
    "    in_str = False\n",
    "    in_list = False\n",
    "    "
   ]
  }
 ],
 "metadata": {
  "kernelspec": {
   "display_name": "Python 3",
   "language": "python",
   "name": "python3"
  },
  "language_info": {
   "codemirror_mode": {
    "name": "ipython",
    "version": 3
   },
   "file_extension": ".py",
   "mimetype": "text/x-python",
   "name": "python",
   "nbconvert_exporter": "python",
   "pygments_lexer": "ipython3",
   "version": "3.8.8"
  }
 },
 "nbformat": 4,
 "nbformat_minor": 5
}
