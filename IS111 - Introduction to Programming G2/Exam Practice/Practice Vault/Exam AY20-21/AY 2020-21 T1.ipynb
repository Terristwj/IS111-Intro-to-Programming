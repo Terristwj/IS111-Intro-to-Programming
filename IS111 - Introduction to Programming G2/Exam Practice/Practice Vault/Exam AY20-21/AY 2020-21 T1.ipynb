{
 "cells": [
  {
   "cell_type": "code",
   "execution_count": null,
   "id": "5d2a269c",
   "metadata": {},
   "outputs": [],
   "source": [
    "E\n",
    "B\n",
    "B\n",
    "A\n",
    "C*\n",
    "E*\n",
    "E*\n",
    "A\n",
    "C*\n",
    "C"
   ]
  },
  {
   "cell_type": "code",
   "execution_count": null,
   "id": "cbb0a5a8",
   "metadata": {},
   "outputs": [],
   "source": [
    "#1\n",
    "\n",
    "def print_digits(string):\n",
    "    legal = '1234567890'\n",
    "    final = ''\n",
    "    for ch in string:\n",
    "        if ch not in legal:\n",
    "            final += '#'\n",
    "        else:\n",
    "            final += ch\n",
    "    \n",
    "    print(final)\n",
    "\n",
    "print('--')\n",
    "print_digits('12a4eu$')\n",
    "print_digits('')\n",
    "print_digits('#90=')\n",
    "print('--')        "
   ]
  },
  {
   "cell_type": "code",
   "execution_count": null,
   "id": "fe8cb41f",
   "metadata": {},
   "outputs": [],
   "source": [
    "#2\n",
    "\n",
    "def count_decimal_places(num_value):\n",
    "    final = 0\n",
    "    if '.' in num_value:\n",
    "        x = num_value.split('.')\n",
    "        final =len(x[1])\n",
    "        return final\n",
    "    else:\n",
    "        return final\n",
    "\n",
    "print(count_decimal_places('100'))\n",
    "print(count_decimal_places('11.1234'))\n",
    "print(count_decimal_places('3.0'))\n",
    "print(count_decimal_places('3.12345678908'))\n",
    "print(count_decimal_places('3.'))"
   ]
  },
  {
   "cell_type": "code",
   "execution_count": 2,
   "id": "11bfbbbf",
   "metadata": {},
   "outputs": [
    {
     "name": "stdout",
     "output_type": "stream",
     "text": [
      "1\n",
      "-1\n",
      "0\n",
      "-1\n",
      "1\n"
     ]
    }
   ],
   "source": [
    "#3a\n",
    "\n",
    "def fraction_compare(fraction_1,fraction_2):\n",
    "    num = (fraction_1[0] * fraction_2[1]) - (fraction_1[1] * fraction_2[0])\n",
    "    denom = (fraction_1[1] * fraction_2[1])\n",
    "    #positive result\n",
    "    if (num>0 and denom>0) or (num< 0 and denom < 0):\n",
    "        return 1\n",
    "\n",
    "    #negative result\n",
    "    elif (num<0 and denom >0) or (num>0 and denom <0):\n",
    "        return -1\n",
    "\n",
    "    else:\n",
    "        return 0\n",
    "    \n",
    "print(fraction_compare((3, 4), (1, 2))) # 3/4 > 1/2\n",
    "print(fraction_compare((1, 4), (6, 7))) # 1/4 < 6/7\n",
    "print(fraction_compare((1, 6), (1, 6))) # same value\n",
    "print(fraction_compare((-3, 4), (-1, 2))) # -3/4 < -1/2\n",
    "print(fraction_compare((1, -2), (-9, 4))) # -1/2 > -9/4"
   ]
  },
  {
   "cell_type": "code",
   "execution_count": 15,
   "id": "2b9d8e6b",
   "metadata": {},
   "outputs": [
    {
     "name": "stdout",
     "output_type": "stream",
     "text": [
      "(7, 8)\n",
      "(1, 4)\n",
      "[]\n"
     ]
    }
   ],
   "source": [
    "#3b\n",
    "def get_largest_fraction(fractions):\n",
    "    if len(fractions) == 0:\n",
    "        return []\n",
    "    if len(fractions) == 1:\n",
    "        return fractions[0]\n",
    "    hold = []\n",
    "    for i in range(len(fractions)):\n",
    "        result = fraction_compare(fractions[i], (0,1))\n",
    "        if result == 1:\n",
    "            hold.append(fractions[i])\n",
    "    high = 0\n",
    "    i = 0\n",
    "    for idx in range(len(hold)):\n",
    "        if (hold[idx][0]/hold[idx][1]) > high:\n",
    "            high = hold[idx][0]/hold[idx][1]\n",
    "            i = idx \n",
    "    return hold[i]    \n",
    "            \n",
    "print(get_largest_fraction([(1, 4), (1, 2), (7, 8), (3, 4)]))\n",
    "print(get_largest_fraction([(1, 4)]))\n",
    "print(get_largest_fraction([]))    "
   ]
  },
  {
   "cell_type": "code",
   "execution_count": 63,
   "id": "2a99bda9",
   "metadata": {},
   "outputs": [],
   "source": [
    "#4a\n",
    "def is_compatible(donor,recipient):\n",
    "    blood_dict = {'O-':['AB+','AB-','A+','A-','B+','B-','O+','O-'],\n",
    "                 'O+':['AB+','A+','B+','O+'],\n",
    "                 'B-':['AB+','AB-','B+','B-'],\n",
    "                 'B+':['AB+','B+'],\n",
    "                 'A-':['AB+','AB-','A+','A-'],\n",
    "                 'A+':['AB+','A+'],\n",
    "                 'AB-':['AB+','AB-'],\n",
    "                 'AB+':['AB+']}\n",
    "    if recipient in blood_dict[donor]:\n",
    "        return True\n",
    "    else:\n",
    "        return False\n",
    "\n",
    "#is_compatible('A+', 'AB+')\n",
    "#is_compatible('A+', 'A+')\n",
    "#is_compatible('A+', 'AB-') "
   ]
  },
  {
   "cell_type": "code",
   "execution_count": 65,
   "id": "3bfe5254",
   "metadata": {},
   "outputs": [
    {
     "name": "stdout",
     "output_type": "stream",
     "text": [
      "[('apple', 'A+'), ('orange', 'O+')]\n",
      "----\n",
      "[]\n",
      "----\n",
      "[]\n"
     ]
    }
   ],
   "source": [
    "#4b\n",
    "def get_donors(willing_donors,recipient):\n",
    "    final = []\n",
    "    for donor in willing_donors:\n",
    "        if is_compatible(donor[1],recipient):\n",
    "            final.append(donor)\n",
    "    return final\n",
    "\n",
    "\n",
    "'''donor_list = [('apple','A+'), ('orange', 'O+'), ('pear', 'AB-')]\n",
    "print(get_donors(donor_list, 'A+'))\n",
    "print('----')\n",
    "donor_list = [('apple','A+'), ('orange', 'A-'), ('pear', 'AB-')]\n",
    "print(get_donors(donor_list, 'O+'))\n",
    "print('----')\n",
    "print(get_donors([], 'A+'))'''    "
   ]
  },
  {
   "cell_type": "code",
   "execution_count": 66,
   "id": "4559876b",
   "metadata": {},
   "outputs": [
    {
     "name": "stdout",
     "output_type": "stream",
     "text": [
      "blue\n",
      "white\n",
      "cyan\n",
      "yellow\n",
      "golden\n",
      "pink\n",
      "5\n"
     ]
    }
   ],
   "source": [
    "#5 \n",
    "def do_something(my_list):\n",
    "    print(my_list[len(my_list) // 2])\n",
    "    my_list[len(my_list) - 1] = 'golden'\n",
    "    if len(my_list) > 4:\n",
    "        return True\n",
    "    return False\n",
    "\n",
    "my_list = ['blue', 'white', 'red']\n",
    "index = 1\n",
    "while my_list[index] != 'golden':\n",
    "    if index < 3:\n",
    "        print(my_list[0])\n",
    "        my_list = my_list[index:]\n",
    "        my_list.append('cyan')\n",
    "        my_list.append('pink')\n",
    "    elif do_something(my_list):\n",
    "        print(my_list[1])\n",
    "    else:\n",
    "        my_list = my_list + ['yellow', 'orange']\n",
    "        print(my_list[index + 1])\n",
    "    index += 1\n",
    "print(index)\n"
   ]
  },
  {
   "cell_type": "code",
   "execution_count": 76,
   "id": "5f16b297",
   "metadata": {},
   "outputs": [
    {
     "data": {
      "text/plain": [
       "['joe', 'eric']"
      ]
     },
     "execution_count": 76,
     "metadata": {},
     "output_type": "execute_result"
    }
   ],
   "source": [
    "#6\n",
    "\n",
    "def get_social_people(meetups,m,n):\n",
    "    meet_dict = {}\n",
    "    for meet in meetups:\n",
    "        if (meet[2] * -1) <= n:\n",
    "            if meet[0] not in meet_dict:\n",
    "                meet_dict[meet[0]]=[meet[1]]\n",
    "                \n",
    "           #if meet[1] not in meet_dict:\n",
    "                meet_dict[meet[1]]=[meet[0]]\n",
    "            else:\n",
    "                meet_dict[meet[0]].append(meet[1])\n",
    "               #meet_dict[meet[1]].append(meet[0])\n",
    "    final = []\n",
    "    for key in meet_dict.keys():\n",
    "        if len(meet_dict[key]) >=m:\n",
    "            final.append(key)\n",
    "    return final\n",
    "\n",
    "get_social_people([('joe','eric',-1), ('joe', 'eric', -2), ('tim','eric',-2),\n",
    "('eric','jack',-3), ('jack','george',-7), ('jack','cindy',-2), ('jack','eric',-4)], 2,\n",
    "3)\n",
    "\n",
    "                        "
   ]
  },
  {
   "cell_type": "code",
   "execution_count": null,
   "id": "e1dac06c",
   "metadata": {},
   "outputs": [],
   "source": []
  },
  {
   "cell_type": "code",
   "execution_count": null,
   "id": "44f0ee74",
   "metadata": {},
   "outputs": [],
   "source": []
  },
  {
   "cell_type": "code",
   "execution_count": null,
   "id": "ca79b314",
   "metadata": {},
   "outputs": [],
   "source": []
  },
  {
   "cell_type": "code",
   "execution_count": null,
   "id": "d3bd1be9",
   "metadata": {},
   "outputs": [],
   "source": []
  },
  {
   "cell_type": "code",
   "execution_count": null,
   "id": "ea2662e8",
   "metadata": {},
   "outputs": [],
   "source": []
  },
  {
   "cell_type": "code",
   "execution_count": null,
   "id": "0158f784",
   "metadata": {},
   "outputs": [],
   "source": []
  },
  {
   "cell_type": "code",
   "execution_count": null,
   "id": "4854109e",
   "metadata": {},
   "outputs": [],
   "source": []
  },
  {
   "cell_type": "code",
   "execution_count": null,
   "id": "e0dd9545",
   "metadata": {},
   "outputs": [],
   "source": []
  },
  {
   "cell_type": "code",
   "execution_count": null,
   "id": "fc28fb5d",
   "metadata": {},
   "outputs": [],
   "source": []
  },
  {
   "cell_type": "code",
   "execution_count": null,
   "id": "6e13c536",
   "metadata": {},
   "outputs": [],
   "source": []
  },
  {
   "cell_type": "code",
   "execution_count": null,
   "id": "a13f115a",
   "metadata": {},
   "outputs": [],
   "source": []
  },
  {
   "cell_type": "code",
   "execution_count": null,
   "id": "ec52107e",
   "metadata": {},
   "outputs": [],
   "source": []
  },
  {
   "cell_type": "code",
   "execution_count": null,
   "id": "f2993f15",
   "metadata": {},
   "outputs": [],
   "source": []
  },
  {
   "cell_type": "code",
   "execution_count": null,
   "id": "a49641d2",
   "metadata": {},
   "outputs": [],
   "source": []
  },
  {
   "cell_type": "code",
   "execution_count": null,
   "id": "95c0bfee",
   "metadata": {},
   "outputs": [],
   "source": []
  }
 ],
 "metadata": {
  "kernelspec": {
   "display_name": "Python 3",
   "language": "python",
   "name": "python3"
  },
  "language_info": {
   "codemirror_mode": {
    "name": "ipython",
    "version": 3
   },
   "file_extension": ".py",
   "mimetype": "text/x-python",
   "name": "python",
   "nbconvert_exporter": "python",
   "pygments_lexer": "ipython3",
   "version": "3.8.8"
  }
 },
 "nbformat": 4,
 "nbformat_minor": 5
}
