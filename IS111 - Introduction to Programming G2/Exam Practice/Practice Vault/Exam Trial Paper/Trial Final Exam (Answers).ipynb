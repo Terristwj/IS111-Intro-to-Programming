{
 "cells": [
  {
   "cell_type": "code",
   "execution_count": 35,
   "metadata": {},
   "outputs": [
    {
     "name": "stdout",
     "output_type": "stream",
     "text": [
      "Beautiful\n",
      "['better']\n",
      "ugly\n",
      "\n",
      "['Beautiful']\n",
      "['better', 'than']\n",
      "['ugly']\n",
      "\n",
      "['Beautiful', 'is']\n",
      "['better', 'than']\n",
      "['ylgu']\n",
      "\n",
      "['Beautiful']\n",
      "['better', 'than']\n",
      "ylgu\n"
     ]
    }
   ],
   "source": [
    "# Q1\n",
    "sentence = 'Beautiful is better than ugly'.split(' ')\n",
    "\n",
    "# A\n",
    "print(sentence[0])\n",
    "print(sentence[2:3])\n",
    "print(sentence[4])\n",
    "print()\n",
    "# B\n",
    "print(sentence[0:1])\n",
    "print(sentence[2:4])\n",
    "print(sentence[4:5])\n",
    "print()\n",
    "# D\n",
    "print([sentence[0],sentence[1]])\n",
    "print(sentence[2:4])\n",
    "print([sentence[4][::-1]])\n",
    "print()\n",
    "# E\n",
    "print(sentence[0:1])\n",
    "print(sentence[2:4])\n",
    "print(sentence[4][::-1])"
   ]
  },
  {
   "cell_type": "code",
   "execution_count": 36,
   "metadata": {},
   "outputs": [
    {
     "name": "stdout",
     "output_type": "stream",
     "text": [
      "is\n",
      "['than']\n"
     ]
    },
    {
     "ename": "IndexError",
     "evalue": "list index out of range",
     "output_type": "error",
     "traceback": [
      "\u001b[1;31m---------------------------------------------------------------------------\u001b[0m",
      "\u001b[1;31mIndexError\u001b[0m                                Traceback (most recent call last)",
      "\u001b[1;32m<ipython-input-36-b7440b082372>\u001b[0m in \u001b[0;36m<module>\u001b[1;34m()\u001b[0m\n\u001b[0;32m      5\u001b[0m \u001b[0mprint\u001b[0m\u001b[1;33m(\u001b[0m\u001b[0msentence\u001b[0m\u001b[1;33m[\u001b[0m\u001b[1;36m1\u001b[0m\u001b[1;33m]\u001b[0m\u001b[1;33m)\u001b[0m\u001b[1;33m\u001b[0m\u001b[0m\n\u001b[0;32m      6\u001b[0m \u001b[0mprint\u001b[0m\u001b[1;33m(\u001b[0m\u001b[0msentence\u001b[0m\u001b[1;33m[\u001b[0m\u001b[1;36m3\u001b[0m\u001b[1;33m:\u001b[0m\u001b[1;36m4\u001b[0m\u001b[1;33m]\u001b[0m\u001b[1;33m)\u001b[0m\u001b[1;33m\u001b[0m\u001b[0m\n\u001b[1;32m----> 7\u001b[1;33m \u001b[0mprint\u001b[0m\u001b[1;33m(\u001b[0m\u001b[0msentence\u001b[0m\u001b[1;33m[\u001b[0m\u001b[1;36m5\u001b[0m\u001b[1;33m]\u001b[0m\u001b[1;33m[\u001b[0m\u001b[1;33m:\u001b[0m\u001b[1;33m:\u001b[0m\u001b[1;33m-\u001b[0m\u001b[1;36m1\u001b[0m\u001b[1;33m]\u001b[0m\u001b[1;33m)\u001b[0m\u001b[1;33m\u001b[0m\u001b[0m\n\u001b[0m",
      "\u001b[1;31mIndexError\u001b[0m: list index out of range"
     ]
    }
   ],
   "source": [
    "# Q1\n",
    "sentence = 'Beautiful is better than ugly'.split(' ')\n",
    "\n",
    "# C, wrong answer\n",
    "print(sentence[1])\n",
    "print(sentence[3:4])\n",
    "print(sentence[5][::-1])"
   ]
  },
  {
   "cell_type": "code",
   "execution_count": 37,
   "metadata": {},
   "outputs": [
    {
     "name": "stdout",
     "output_type": "stream",
     "text": [
      "{'apple': 4, 'orange': 2, 'durian': 3, 'coconut': 6}\n"
     ]
    }
   ],
   "source": [
    "# Q2\n",
    "x = {'apple':1, 'orange':2, 'durian':3}\n",
    "x['apple'] = 4\n",
    "x['coconut'] = 6\n",
    "print(x)"
   ]
  },
  {
   "cell_type": "code",
   "execution_count": 1,
   "metadata": {},
   "outputs": [
    {
     "name": "stdout",
     "output_type": "stream",
     "text": [
      "Yes\n"
     ]
    }
   ],
   "source": [
    "# Q3\n",
    "value = 59\n",
    "\n",
    "if value < 70:\n",
    "    if value < 30:\n",
    "        print(\"No\")\n",
    "    elif value < 60:\n",
    "        print(\"Yes\")"
   ]
  },
  {
   "cell_type": "code",
   "execution_count": 39,
   "metadata": {},
   "outputs": [
    {
     "name": "stdout",
     "output_type": "stream",
     "text": [
      "apple\n",
      "apple\n",
      "apple\n",
      "apple\n"
     ]
    }
   ],
   "source": [
    "# Q4\n",
    "for i in range(1, 5):\n",
    "    print(\"apple\")"
   ]
  },
  {
   "cell_type": "code",
   "execution_count": 40,
   "metadata": {},
   "outputs": [
    {
     "name": "stdout",
     "output_type": "stream",
     "text": [
      "3\n",
      "4\n",
      "5\n",
      "7\n",
      "True\n"
     ]
    }
   ],
   "source": [
    "# Q5\n",
    "flag = False\n",
    "\n",
    "x = 2\n",
    "while x <= 6:\n",
    "    x += 1\n",
    "    if x % 2 == 0 and x % 3 == 0:\n",
    "        flag = not flag\n",
    "    else:\n",
    "        print(x)\n",
    "\n",
    "print(flag)"
   ]
  },
  {
   "cell_type": "code",
   "execution_count": 41,
   "metadata": {},
   "outputs": [
    {
     "name": "stdout",
     "output_type": "stream",
     "text": [
      "1 0\n",
      "2 1\n",
      "3 2\n",
      "4 1\n",
      "5 2\n"
     ]
    }
   ],
   "source": [
    "# Q6\n",
    "a = 1\n",
    "while 17 % a != 5:\n",
    "    print(str(a)+ \" \" + str(17 % a))\n",
    "    a += 1"
   ]
  },
  {
   "cell_type": "code",
   "execution_count": 42,
   "metadata": {},
   "outputs": [
    {
     "name": "stdout",
     "output_type": "stream",
     "text": [
      "orange\n",
      "2\n",
      "1\n"
     ]
    }
   ],
   "source": [
    "# Q7\n",
    "y = 3\n",
    "x = 2\n",
    "x = 1\n",
    "y = x\n",
    "\n",
    "if x > 1:\n",
    "    print(\"apple\")\n",
    "elif x < 4:\n",
    "    print(\"orange\")\n",
    "else:\n",
    "    print(\"grape\")\n",
    "\n",
    "print(x + 1)\n",
    "print(y)"
   ]
  },
  {
   "cell_type": "code",
   "execution_count": 43,
   "metadata": {},
   "outputs": [
    {
     "name": "stdout",
     "output_type": "stream",
     "text": [
      "3\n",
      "1\n",
      "1\n",
      "5\n",
      "15\n"
     ]
    }
   ],
   "source": [
    "# Q8\n",
    "x = [[1],[2,3],[4,5,6]]\n",
    "\n",
    "print(len(x))\n",
    "print(len(x[0]))\n",
    "\n",
    "for i in range(len(x)):\n",
    "    sum = 0\n",
    "    for j in range(len(x[i])):\n",
    "        sum += x[i][j]\n",
    "    print(sum)"
   ]
  },
  {
   "cell_type": "code",
   "execution_count": 44,
   "metadata": {},
   "outputs": [
    {
     "name": "stdout",
     "output_type": "stream",
     "text": [
      "0.25\n"
     ]
    }
   ],
   "source": [
    "# Q9\n",
    "y = 8\n",
    "x = 2 % 5\n",
    "print(x / y)"
   ]
  },
  {
   "cell_type": "code",
   "execution_count": 45,
   "metadata": {},
   "outputs": [
    {
     "name": "stdout",
     "output_type": "stream",
     "text": [
      "orange\n"
     ]
    }
   ],
   "source": [
    "# Q10\n",
    "def test_one(x):\n",
    "    x -= 1\n",
    "    return x > 4\n",
    "\n",
    "def test_two(x):\n",
    "    print(x)\n",
    "    return x <= 8\n",
    "\n",
    "x = 5\n",
    "\n",
    "if test_one(x) and test_two(x):\n",
    "    print(\"apple\")\n",
    "elif x >= 5:\n",
    "    print(\"orange\")"
   ]
  },
  {
   "cell_type": "code",
   "execution_count": 46,
   "metadata": {},
   "outputs": [
    {
     "name": "stdout",
     "output_type": "stream",
     "text": [
      "[5, 8]\n",
      "[6, 7]\n"
     ]
    }
   ],
   "source": [
    "# Q11\n",
    "def perform_magic(first, second):\n",
    "    third = first[0]\n",
    "    first[0][0] = 5\n",
    "    \n",
    "    second.append(third)\n",
    "    second[1][1] = 8\n",
    "    second.append([6,7])\n",
    "\n",
    "first = [[3,4]]\n",
    "second = [[1,2]]\n",
    "\n",
    "perform_magic(first, second)\n",
    "\n",
    "print(first[0])\n",
    "print(second[2])"
   ]
  },
  {
   "cell_type": "code",
   "execution_count": 47,
   "metadata": {},
   "outputs": [
    {
     "name": "stdout",
     "output_type": "stream",
     "text": [
      "pear orange apple\n",
      "ORANGE PAPAYA APPLE\n",
      "orange papaya apple\n",
      "APPLE ORANGE PEAR\n"
     ]
    }
   ],
   "source": [
    "# Q12\n",
    "def caps_display(fruit1, fruit2, fruit3):\n",
    "    print(fruit1.upper(), fruit2.upper(), fruit3.upper())\n",
    "\n",
    "def display(fruit1, fruit2, fruit3):\n",
    "    print(fruit1 + \" \" + fruit2 + \" \" + fruit3)\n",
    "    fruit1 = fruit2\n",
    "    fruit2 = \"papaya\"\n",
    "    caps_display(fruit1, fruit2, fruit3)\n",
    "    print(fruit1 + \" \" + fruit2 + \" \" + fruit3)\n",
    "\n",
    "fruit1 = \"apple\"\n",
    "fruit2 = \"orange\"\n",
    "fruit3 = \"pear\"\n",
    "\n",
    "# Note the order of the variables\n",
    "display(fruit3, fruit2, fruit1)\n",
    "caps_display(fruit1, fruit2, fruit3)"
   ]
  },
  {
   "cell_type": "code",
   "execution_count": 48,
   "metadata": {},
   "outputs": [
    {
     "name": "stdout",
     "output_type": "stream",
     "text": [
      "***1***\n",
      "2*****3\n",
      "***4***\n",
      "5*****6\n",
      "***7***\n",
      "8*****9\n",
      "***10***\n",
      "11*****12\n",
      "***13***\n"
     ]
    }
   ],
   "source": [
    "# Q13 choice 1, correct answer\n",
    "def hopscotch(x):\n",
    "    count = 0\n",
    "    i = 0\n",
    "    while count < x * 2 + 1:\n",
    "        i += 1\n",
    "        if count % 2 == 0:\n",
    "            print('***' + str(i) + '***')\n",
    "        else:\n",
    "            print(str(i) + '*****', end='')\n",
    "            i += 1\n",
    "            print(str(i))\n",
    "        count += 1\n",
    "\n",
    "hopscotch(4)"
   ]
  },
  {
   "cell_type": "code",
   "execution_count": 49,
   "metadata": {},
   "outputs": [
    {
     "name": "stdout",
     "output_type": "stream",
     "text": [
      "***1***\n",
      "2*****3\n",
      "***4***\n",
      "5*****6\n",
      "***7***\n",
      "8*****9\n",
      "***10***\n"
     ]
    }
   ],
   "source": [
    "# Q13 choice 2, wrong answer\n",
    "def hopscotch(hops):\n",
    "    print('***1***');\n",
    "    for i in range(1, hops):\n",
    "        print(str(3 * i - 1) + '*****' + str(3 * i))\n",
    "        print('***' + str(3 * i + 1) + '***')\n",
    "        \n",
    "hopscotch(4)"
   ]
  },
  {
   "cell_type": "code",
   "execution_count": 50,
   "metadata": {},
   "outputs": [
    {
     "name": "stdout",
     "output_type": "stream",
     "text": [
      "***1***\n",
      "2*****3\n",
      "***4***\n",
      "5*****6\n",
      "***7***\n",
      "8*****9\n",
      "***10***\n"
     ]
    }
   ],
   "source": [
    "# Q13 choice 3, wrong answer\n",
    "def hopscotch(hops):\n",
    "    num = 1\n",
    "    print('***' + str(num) + '***')\n",
    "    num += 1\n",
    "    for i in range(1, hops):\n",
    "        print(str(num) + '*****' + str(num + 1))\n",
    "        print('***' + str(num + 2) + '***')\n",
    "        num += 3\n",
    "\n",
    "hopscotch(4)"
   ]
  },
  {
   "cell_type": "markdown",
   "metadata": {},
   "source": [
    "# Section B"
   ]
  },
  {
   "cell_type": "code",
   "execution_count": 51,
   "metadata": {},
   "outputs": [
    {
     "name": "stdout",
     "output_type": "stream",
     "text": [
      "['apple', 'orange', 'pear', 'durian', 'banana']\n"
     ]
    }
   ],
   "source": [
    "# Q1\n",
    "def extract_unique_words(fruits):\n",
    "    output_list = []\n",
    "    \n",
    "    for fruit in fruits:\n",
    "        if fruit not in output_list:\n",
    "            output_list.append(fruit)\n",
    "    \n",
    "    return output_list\n",
    "\n",
    "fruits = ['apple', 'orange', 'pear', 'apple', 'durian', 'apple', 'banana']\n",
    "\n",
    "answers = extract_unique_words(fruits)\n",
    "print(answers)"
   ]
  },
  {
   "cell_type": "code",
   "execution_count": 52,
   "metadata": {},
   "outputs": [
    {
     "name": "stdout",
     "output_type": "stream",
     "text": [
      "Enter a number >12\n",
      "The sum has yet to exceed 30.\n",
      "\n",
      "Enter a number >18\n",
      "The sum has yet to exceed 30.\n",
      "\n",
      "Enter a number >1\n",
      "The sum is 31!\n"
     ]
    }
   ],
   "source": [
    "# Q2\n",
    "input_num = int(input(\"Enter a number >\"))\n",
    "\n",
    "sum = input_num\n",
    "while sum < 31:\n",
    "    print(\"The sum has yet to exceed 30.\\n\")\n",
    "    input_num = int(input(\"Enter a number >\"))\n",
    "    sum += input_num\n",
    "print(\"The sum is \" + str(sum) + \"!\")"
   ]
  },
  {
   "cell_type": "code",
   "execution_count": 2,
   "metadata": {},
   "outputs": [
    {
     "name": "stdout",
     "output_type": "stream",
     "text": [
      "Nov 13 2013\n",
      "Dec 9 2013\n"
     ]
    }
   ],
   "source": [
    "# Q3\n",
    "def convert_date(date):\n",
    "    edit_date = date.split('-')\n",
    "    day = edit_date[0]\n",
    "    month = edit_date[1]\n",
    "    year = edit_date[2]\n",
    "    output_str = month + ' ' + day + ' ' + year\n",
    "    return output_str\n",
    "\n",
    "print(convert_date('13-Nov-2013'))\n",
    "print(convert_date('9-Dec-2013'))"
   ]
  },
  {
   "cell_type": "code",
   "execution_count": 54,
   "metadata": {},
   "outputs": [
    {
     "name": "stdout",
     "output_type": "stream",
     "text": [
      "17\n",
      "225\n",
      "13\n",
      "11\n",
      "81\n",
      "7\n",
      "5\n",
      "9\n",
      "1\n"
     ]
    }
   ],
   "source": [
    "# Q4\n",
    "i = 18\n",
    "while i > 0:\n",
    "    if i % 2 == 0:\n",
    "        print(i - 1)\n",
    "        i -= 3\n",
    "    elif i % 3 == 0:\n",
    "        print(i * i)\n",
    "        i -= 1\n",
    "    else:\n",
    "        i += 1"
   ]
  },
  {
   "cell_type": "code",
   "execution_count": 34,
   "metadata": {},
   "outputs": [
    {
     "name": "stdout",
     "output_type": "stream",
     "text": [
      "Enter num >154\n",
      "154 is not cheerful.\n"
     ]
    }
   ],
   "source": [
    "# Q5\n",
    "input_num = int(input('Enter num >'))\n",
    "\n",
    "while input_num <= 0 or input_num > 200:\n",
    "    print(str(input_num) + ' is invalid.\\n')\n",
    "    input_num = int(input('Enter num >'))\n",
    "\n",
    "odd_digits = ['1', '3', '5', '7', '9']\n",
    "sum_odd = 0\n",
    "input_str = str(input_num)\n",
    "for ch in input_str:\n",
    "    if ch in odd_digits:\n",
    "        sum_odd += int(ch)\n",
    "\n",
    "if sum_odd == 0 or input_num % sum_odd != 0:\n",
    "    print(input_str + ' is not cheerful.')\n",
    "elif input_num % sum_odd == 0:\n",
    "    print(input_str + ' is cheerful.')"
   ]
  },
  {
   "cell_type": "code",
   "execution_count": 55,
   "metadata": {},
   "outputs": [
    {
     "name": "stdout",
     "output_type": "stream",
     "text": [
      "Enter string 1 >apple\n",
      "Enter string 2 >apple\n",
      "Enter string 3 >apple\n",
      "1 unique\n"
     ]
    }
   ],
   "source": [
    "## Q6\n",
    "def num_unique(value1, value2, value3):\n",
    "    input_list = [value1, value2, value3]\n",
    "    count = 0\n",
    "    output_list = []\n",
    "    for each_value in input_list:\n",
    "        if each_value not in output_list:\n",
    "            output_list.append(each_value)\n",
    "            count += 1\n",
    "    \n",
    "    return count\n",
    "\n",
    "# prompt for 3 numbers\n",
    "value1 = input('Enter string 1 >')\n",
    "value2 = input('Enter string 2 >')\n",
    "value3 = input('Enter string 3 >')\n",
    "\n",
    "result = num_unique(value1, value2, value3)\n",
    "print(result, 'unique')"
   ]
  },
  {
   "cell_type": "code",
   "execution_count": 10,
   "metadata": {},
   "outputs": [
    {
     "name": "stdout",
     "output_type": "stream",
     "text": [
      "Welcome to Guessing Game!\n",
      "\n",
      "Your guess (0 - 99)? 30\n",
      "Your guess is too high\n",
      "Your guess (0 - 99)? 20\n",
      "Your guess is too high\n",
      "Your guess (0 - 99)? 10\n",
      "Your guess is too low\n",
      "Your guess (0 - 99)? 12\n",
      "Your guess is too low\n",
      "Your guess (0 - 99)? 15\n",
      "Your guess is too low\n",
      "Your guess (0 - 99)? 18\n",
      "Your guess is too high\n",
      "Your guess (0 - 99)? 16\n",
      "Your guess is too low\n",
      "Your guess (0 - 99)? 17\n",
      "Your guess is too high\n",
      "Bingo!\n",
      "You got it right in 8 tries.\n",
      "Another game (Y or N)? Y\n",
      "\n",
      "Your guess (0 - 99)? 30\n",
      "Your guess is too low\n",
      "Your guess (0 - 99)? 50\n",
      "Your guess is too low\n",
      "Your guess (0 - 99)? 70\n",
      "Your guess is too high\n",
      "Your guess (0 - 99)? 60\n",
      "Your guess is too high\n",
      "Your guess (0 - 99)? 55\n",
      "Your guess is too high\n",
      "Your guess (0 - 99)? 54\n",
      "Your guess is too high\n",
      "Your guess (0 - 99)? 43\n",
      "Your guess is too low\n",
      "Your guess (0 - 99)? 53\n",
      "Your guess is too high\n",
      "Your guess (0 - 99)? 52\n",
      "Your guess is too high\n",
      "Your guess (0 - 99)? 510\n",
      "Your guess is too high\n",
      "Your guess (0 - 99)? 51\n",
      "Your guess is too high\n",
      "Bingo!\n",
      "You got it right in 11 tries.\n",
      "Another game (Y or N)? N\n",
      "Your average guess per game is 9.5\n"
     ]
    }
   ],
   "source": [
    "# Q7\n",
    "import random\n",
    "\n",
    "total_guess = 0\n",
    "num_games = 0\n",
    "reply = \"Y\"\n",
    "\n",
    "print(\"Welcome to Guessing Game!\\n\")\n",
    "\n",
    "while reply == \"Y\":\n",
    "    num_guesses = 0\n",
    "    # pick a random number from 0 - 99 inclusive\n",
    "    number = random.randint(1, 99)\n",
    "    \n",
    "    # make it different from number so that it goes into loop\n",
    "    guess = number + 1\n",
    "    \n",
    "    while guess != number:\n",
    "        guess = int(input(\"Your guess (0 - 99)? \"))\n",
    "        \n",
    "        num_guesses += 1\n",
    "        \n",
    "        if guess < number:\n",
    "            print(\"Your guess is too low\")\n",
    "        else:\n",
    "            print(\"Your guess is too high\")\n",
    "        \n",
    "    print(\"Bingo!\")\n",
    "    \n",
    "    # collect the statistics to calculate average guess per game\n",
    "    total_guess += num_guesses\n",
    "    num_games += 1\n",
    "    print(\"You got it right in \" + str(num_guesses) + \" tries.\")\n",
    "    \n",
    "    reply = input(\"Another game (Y or N)? \")\n",
    "    if reply == \"Y\":\n",
    "        print()\n",
    "\n",
    "while reply != \"Y\" and reply != \"N\":\n",
    "    print(\"Invalid response\")\n",
    "average_guess = total_guess / num_games\n",
    "print(\"Your average guess per game is\", str(average_guess))"
   ]
  },
  {
   "cell_type": "code",
   "execution_count": null,
   "metadata": {
    "collapsed": true
   },
   "outputs": [],
   "source": []
  }
 ],
 "metadata": {
  "kernelspec": {
   "display_name": "Python 3",
   "language": "python",
   "name": "python3"
  },
  "language_info": {
   "codemirror_mode": {
    "name": "ipython",
    "version": 3
   },
   "file_extension": ".py",
   "mimetype": "text/x-python",
   "name": "python",
   "nbconvert_exporter": "python",
   "pygments_lexer": "ipython3",
   "version": "3.8.8"
  }
 },
 "nbformat": 4,
 "nbformat_minor": 2
}
