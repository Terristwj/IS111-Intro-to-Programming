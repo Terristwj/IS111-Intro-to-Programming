{
 "cells": [
  {
   "cell_type": "markdown",
   "metadata": {},
   "source": [
    "<table class=\"table table-bordered\">\n",
    "    <tr>\n",
    "        <th style=\"text-align:center; width:35%\"><img src='https://drive.google.com/uc?export=view&id=1zIB3Nw_z8N2SJSSdd2yWQIsDS0MGPYKm' style=\"width: 300px; height: 90px; \"></th>\n",
    "        <th style=\"text-align:center;\"><h3>IS111 - Revision Solutions</h3><h3>Week 13</h3></th>\n",
    "    </tr>\n",
    "</table>"
   ]
  },
  {
   "cell_type": "markdown",
   "metadata": {},
   "source": [
    "### 1. Which variables below are not valid (i.e., will cause an error)?"
   ]
  },
  {
   "cell_type": "markdown",
   "metadata": {},
   "source": [
    "<table align=\"left\" class=\"table table-bordered\" style=\"width:40%\">\n",
    "<tr>\n",
    "<th style=\"text-align:center; width:20%\">No</th>\n",
    "<th style=\"text-align:center; width:50%\">name</th>\n",
    "<th style=\"text-align:center;\">valid?</th>\n",
    "</tr>\n",
    "<tr><td style=\"text-align:center; \">a.</td><td>interest-rate</td><td></td></tr>\n",
    "<tr><td style=\"text-align:center; \">b.</td><td>apple&#95;tv&#95;123</td><td></td></tr>\n",
    "<tr><td style=\"text-align:center; \">c.</td><td>COUNTER</td><td></td></tr>\n",
    "<tr><td style=\"text-align:center; \">d.</td><td>4&#95;you</td><td></td></tr>\n",
    "<tr><td style=\"text-align:center; \">e.</td><td>&#95;account&#95;balance</td><td></td></tr>\n",
    "<!-- <tr><td style=\"text-align:center; \">f.</td><td>fruit.apple</td><td></td></tr> -->\n",
    "<!-- <tr><td style=\"text-align:center; \">g.</td><td>I&#95;love&#95;programming!</td><td></td></tr> -->\n",
    "<!-- <tr><td style=\"text-align:center; \">h.</td><td>gold&#95;is&#95;expensive&#95;&#36;</td><td></td></tr> -->\n",
    "</table>"
   ]
  },
  {
   "cell_type": "code",
   "execution_count": 1,
   "metadata": {},
   "outputs": [
    {
     "ename": "SyntaxError",
     "evalue": "cannot assign to operator (636284498.py, line 1)",
     "output_type": "error",
     "traceback": [
      "\u001b[1;36m  Input \u001b[1;32mIn [1]\u001b[1;36m\u001b[0m\n\u001b[1;33m    interest-rate = 2\u001b[0m\n\u001b[1;37m    ^\u001b[0m\n\u001b[1;31mSyntaxError\u001b[0m\u001b[1;31m:\u001b[0m cannot assign to operator\n"
     ]
    }
   ],
   "source": [
    "interest-rate = 2"
   ]
  },
  {
   "cell_type": "code",
   "execution_count": 2,
   "metadata": {},
   "outputs": [],
   "source": [
    "apple_tv_123 = \"yes\""
   ]
  },
  {
   "cell_type": "code",
   "execution_count": 3,
   "metadata": {},
   "outputs": [],
   "source": [
    "COUNTER = 5"
   ]
  },
  {
   "cell_type": "code",
   "execution_count": 4,
   "metadata": {},
   "outputs": [
    {
     "ename": "SyntaxError",
     "evalue": "invalid decimal literal (2542613920.py, line 1)",
     "output_type": "error",
     "traceback": [
      "\u001b[1;36m  Input \u001b[1;32mIn [4]\u001b[1;36m\u001b[0m\n\u001b[1;33m    4_you = True\u001b[0m\n\u001b[1;37m     ^\u001b[0m\n\u001b[1;31mSyntaxError\u001b[0m\u001b[1;31m:\u001b[0m invalid decimal literal\n"
     ]
    }
   ],
   "source": [
    "4_you = True"
   ]
  },
  {
   "cell_type": "code",
   "execution_count": 5,
   "metadata": {},
   "outputs": [],
   "source": [
    "_account_balance = 15.5"
   ]
  },
  {
   "cell_type": "markdown",
   "metadata": {},
   "source": [
    "### 2. Evaluate the following expressions:"
   ]
  },
  {
   "cell_type": "markdown",
   "metadata": {},
   "source": [
    "<table align=\"left\" class=\"table table-bordered\" style=\"width:50%\">\n",
    "<tr>\n",
    "<th style=\"text-align:center; width:5%\">#</th>\n",
    "<th style=\"text-align:center; width:30%\">Expression to evaluate</th>\n",
    "<th style=\"text-align:center; width:10%\">Result</th>\n",
    "</tr>\n",
    "<tr><td style=\"text-align:center; \">a.</td><td>print (15 // 7 + 15 % 4)</td><td></td></tr>\n",
    "<tr><td style=\"text-align:center; \">b.</td><td>print (16 / 4)</td><td></td></tr>\n",
    "<tr><td style=\"text-align:center; \">c.</td><td>print (3 > 5 or not 9 - 5 != 4)</td><td></td></tr>\n",
    "<tr><td style=\"text-align:center; \">d.</td><td>print (19 // 3 &#8727;&#8727; 2 &#8727; 2)</td><td></td></tr>\n",
    "<tr><td style=\"text-align:center; \">e.</td><td>print(2 &#8727;&#8727; 2 &#8727;&#8727; 3)</td><td></td></tr>\n",
    "<tr><td style=\"text-align:center; \">e.</td><td>print(int('10' + '2'), str(10 + 2))</td><td></td></tr>\n",
    "</table>"
   ]
  },
  {
   "cell_type": "code",
   "execution_count": 6,
   "metadata": {},
   "outputs": [
    {
     "name": "stdout",
     "output_type": "stream",
     "text": [
      "5\n"
     ]
    }
   ],
   "source": [
    "# a.\n",
    "print (15 // 7 + 15 % 4)"
   ]
  },
  {
   "cell_type": "code",
   "execution_count": 7,
   "metadata": {},
   "outputs": [
    {
     "name": "stdout",
     "output_type": "stream",
     "text": [
      "4.0\n"
     ]
    }
   ],
   "source": [
    "# b.\n",
    "print (16 / 4)"
   ]
  },
  {
   "cell_type": "code",
   "execution_count": 8,
   "metadata": {},
   "outputs": [
    {
     "name": "stdout",
     "output_type": "stream",
     "text": [
      "True\n"
     ]
    }
   ],
   "source": [
    "# c.\n",
    "print (3 > 5 or not 9 - 5 != 4)"
   ]
  },
  {
   "cell_type": "code",
   "execution_count": 9,
   "metadata": {},
   "outputs": [
    {
     "name": "stdout",
     "output_type": "stream",
     "text": [
      "4\n"
     ]
    }
   ],
   "source": [
    "# d.\n",
    "print (19 // 3 ** 2 * 2)"
   ]
  },
  {
   "cell_type": "code",
   "execution_count": 10,
   "metadata": {},
   "outputs": [
    {
     "name": "stdout",
     "output_type": "stream",
     "text": [
      "256\n"
     ]
    }
   ],
   "source": [
    "# e.\n",
    "print(2 ** 2 ** 3)"
   ]
  },
  {
   "cell_type": "code",
   "execution_count": 11,
   "metadata": {},
   "outputs": [
    {
     "name": "stdout",
     "output_type": "stream",
     "text": [
      "64\n"
     ]
    }
   ],
   "source": [
    "# Compare the following with e. above.\n",
    "print((2 ** 2) ** 3)"
   ]
  },
  {
   "cell_type": "code",
   "execution_count": 12,
   "metadata": {},
   "outputs": [
    {
     "name": "stdout",
     "output_type": "stream",
     "text": [
      "102 12\n"
     ]
    }
   ],
   "source": [
    "# f.\n",
    "print(int('10' + '2'), str(10 + 2))"
   ]
  },
  {
   "cell_type": "markdown",
   "metadata": {},
   "source": [
    "### 3. What is the output of the following code?"
   ]
  },
  {
   "cell_type": "markdown",
   "metadata": {},
   "source": [
    "#### a)"
   ]
  },
  {
   "cell_type": "code",
   "execution_count": 13,
   "metadata": {},
   "outputs": [
    {
     "name": "stdout",
     "output_type": "stream",
     "text": [
      "[3, 5, 6, 9, 10, 12]\n"
     ]
    }
   ],
   "source": [
    "list1 = []\n",
    "for n in range(1, 15):\n",
    "    if n % 5 == 0 or n % 3 == 0:\n",
    "        list1.append(n)\n",
    "print(list1)"
   ]
  },
  {
   "cell_type": "markdown",
   "metadata": {},
   "source": [
    "#### b)"
   ]
  },
  {
   "cell_type": "code",
   "execution_count": 14,
   "metadata": {},
   "outputs": [
    {
     "name": "stdout",
     "output_type": "stream",
     "text": [
      "[3, 5, 7, 5, 4, 6, 8, 4, [3]]\n"
     ]
    }
   ],
   "source": [
    "list1 = [1, 3, 5, 7, 9]\n",
    "list2 = [2, 4, 6, 8]\n",
    "\n",
    "my_list = list1[1:4] + [len(list1)] + list2[len(list2)-3:] # [3, 5, 7] + [5] + [4, 6, 8] = [3, 5, 7, 5, 4, 6, 8]\n",
    "my_list.append(len(list2)) # + [4]\n",
    "my_list.append(list1[1:2]) # + [[3]]\n",
    "print(my_list)  # [3, 5, 7, 5, 4, 6, 8, 4, [3]]"
   ]
  },
  {
   "cell_type": "markdown",
   "metadata": {},
   "source": [
    "#### c)"
   ]
  },
  {
   "cell_type": "code",
   "execution_count": 15,
   "metadata": {},
   "outputs": [
    {
     "name": "stdout",
     "output_type": "stream",
     "text": [
      "['*', 'banana', 'durian', 'mango', '*']\n"
     ]
    }
   ],
   "source": [
    "def mystery1(my_list, word):\n",
    "    for i in range(len(my_list)):\n",
    "        if word in my_list[i]:\n",
    "            my_list[i] = '*'\n",
    "\n",
    "str_list = ['apple', 'banana', 'durian', 'mango', 'pear']\n",
    "mystery1(str_list, 'p')\n",
    "print(str_list)"
   ]
  },
  {
   "cell_type": "markdown",
   "metadata": {},
   "source": [
    "#### d)"
   ]
  },
  {
   "cell_type": "code",
   "execution_count": 18,
   "metadata": {},
   "outputs": [
    {
     "name": "stdout",
     "output_type": "stream",
     "text": [
      "['apple', 'banana', 'durian', 'mango', 'pear']\n"
     ]
    }
   ],
   "source": [
    "def mystery2(my_list, word):\n",
    "    for item in my_list:\n",
    "        if word in item:\n",
    "            item = '*'\n",
    "    \n",
    "str_list = ['apple', 'banana', 'durian', 'mango', 'pear']\n",
    "mystery2(str_list, 'p')\n",
    "print(str_list)"
   ]
  },
  {
   "cell_type": "markdown",
   "metadata": {},
   "source": [
    "#### e)"
   ]
  },
  {
   "cell_type": "code",
   "execution_count": 20,
   "metadata": {},
   "outputs": [
    {
     "name": "stdout",
     "output_type": "stream",
     "text": [
      "[99, 2, 3]\n",
      "{1: 0, 0: 99}\n"
     ]
    },
    {
     "ename": "TypeError",
     "evalue": "'str' object does not support item assignment",
     "output_type": "error",
     "traceback": [
      "\u001b[1;31m---------------------------------------------------------------------------\u001b[0m",
      "\u001b[1;31mTypeError\u001b[0m                                 Traceback (most recent call last)",
      "Input \u001b[1;32mIn [20]\u001b[0m, in \u001b[0;36m<cell line: 13>\u001b[1;34m()\u001b[0m\n\u001b[0;32m     10\u001b[0m \u001b[38;5;28mprint\u001b[39m(my_dict) \u001b[38;5;66;03m# [1:0, 0:99]\u001b[39;00m\n\u001b[0;32m     12\u001b[0m my_str \u001b[38;5;241m=\u001b[39m \u001b[38;5;124m'\u001b[39m\u001b[38;5;124m123\u001b[39m\u001b[38;5;124m'\u001b[39m\n\u001b[1;32m---> 13\u001b[0m \u001b[43mmodify_1\u001b[49m\u001b[43m(\u001b[49m\u001b[43mmy_str\u001b[49m\u001b[43m,\u001b[49m\u001b[43m \u001b[49m\u001b[38;5;124;43m'\u001b[39;49m\u001b[38;5;124;43m9\u001b[39;49m\u001b[38;5;124;43m'\u001b[39;49m\u001b[43m)\u001b[49m\n\u001b[0;32m     14\u001b[0m \u001b[38;5;28mprint\u001b[39m(my_str)\n",
      "Input \u001b[1;32mIn [20]\u001b[0m, in \u001b[0;36mmodify_1\u001b[1;34m(x, y)\u001b[0m\n\u001b[0;32m      1\u001b[0m \u001b[38;5;28;01mdef\u001b[39;00m \u001b[38;5;21mmodify_1\u001b[39m(x, y):\n\u001b[1;32m----> 2\u001b[0m     x[\u001b[38;5;241m0\u001b[39m] \u001b[38;5;241m=\u001b[39m y\n",
      "\u001b[1;31mTypeError\u001b[0m: 'str' object does not support item assignment"
     ]
    }
   ],
   "source": [
    "def modify_1(x, y):\n",
    "    x[0] = y\n",
    "\n",
    "my_list = [1, 2, 3]\n",
    "modify_1(my_list, 99)\n",
    "print(my_list) # [99, 2, 3]\n",
    "    \n",
    "my_dict = {1:0, 0:1}\n",
    "modify_1(my_dict, 99)\n",
    "print(my_dict) # [1:0, 0:99]\n",
    "\n",
    "my_str = '123'\n",
    "modify_1(my_str, '9')\n",
    "print(my_str) # error - immutable"
   ]
  },
  {
   "cell_type": "markdown",
   "metadata": {},
   "source": [
    "#### f)"
   ]
  },
  {
   "cell_type": "code",
   "execution_count": 36,
   "metadata": {},
   "outputs": [
    {
     "name": "stdout",
     "output_type": "stream",
     "text": [
      "[1, 2, 3, 99]\n",
      "[1, 2, 3]\n",
      "[1, 2, 3, 99]\n"
     ]
    }
   ],
   "source": [
    "def modify_2(x, y):\n",
    "    x.append(y)\n",
    "\n",
    "def modify_3(x, y):\n",
    "    x = x + [y]\n",
    "    \n",
    "def modify_4(x, y):\n",
    "    x += [y]\n",
    "\n",
    "my_list = [1, 2, 3]\n",
    "modify_2(my_list, 99)\n",
    "print(my_list) # [1, 2, 3, 99]\n",
    "\n",
    "my_list = [1, 2, 3]\n",
    "modify_3(my_list, 99)\n",
    "print(my_list) # [1, 2, 3]\n",
    "\n",
    "my_list = [1, 2, 3]\n",
    "modify_4(my_list, 99)\n",
    "print(my_list) # [1, 2, 3, 99]"
   ]
  },
  {
   "cell_type": "markdown",
   "metadata": {},
   "source": [
    "### 4. Vowels\n",
    "\n",
    "Write a program that prompts the user for a string and displays the string where all the vowels ('a', 'e', 'i', 'o', 'u') (case insensitive) have been replaced by *.\n",
    "\n",
    "```\n",
    "Enter a sentence :Mississippi River Meets Ohio River\n",
    "New sentence     :M*ss*ss*pp* R*v*r M**ts *h** R*v*r\n",
    "```"
   ]
  },
  {
   "cell_type": "code",
   "execution_count": 38,
   "metadata": {},
   "outputs": [
    {
     "name": "stdout",
     "output_type": "stream",
     "text": [
      "Enter a setence\t:Mississippi River Meets Ohio River\n",
      "New sentence\t:M*ss*ss*pp* R*v*r M**ts *h** R*v*r\n"
     ]
    }
   ],
   "source": [
    "# Write your code here\n",
    "sentence = input('Enter a setence\\t:')\n",
    "vowels = 'aeiou'\n",
    "new_sentence = ''\n",
    "for ch in sentence:\n",
    "    if ch.lower() not in vowels:\n",
    "        new_sentence += ch\n",
    "    else:\n",
    "        new_sentence += '*'\n",
    "print('New sentence\\t:' + new_sentence)"
   ]
  },
  {
   "cell_type": "code",
   "execution_count": null,
   "metadata": {},
   "outputs": [],
   "source": [
    "# Solution\n",
    "\n",
    "sentence = input('Enter a sentence :')\n",
    "\n",
    "vowel = 'aeiou'\n",
    "final_str = ''\n",
    "for ch in sentence:\n",
    "    if ch.lower() in vowel:\n",
    "        final_str += '*'\n",
    "    else:\n",
    "        final_str += ch\n",
    "        \n",
    "print('Here is the sentence after hiding the vowels :' + final_str)"
   ]
  },
  {
   "cell_type": "markdown",
   "metadata": {},
   "source": [
    "### 5. Digits\n",
    "\n",
    "Define a function called `display_chars_after_digits`. The function takes in a string `my_str` as its parameter. The function prints those non-digit characters that appear immediately after a segment of digits in `my_str`.\n",
    "\n",
    "E.g., \n",
    "\n",
    "- `display_chars_after_digits('1a2b3c')` prints `abc`\n",
    "- `display_chars_after_digits('123ABC456')` prints `A`\n",
    "- `display_chars_after_digits('abc12ABC0& 35.9-6.30=29.6')` prints `A&.-.=.`"
   ]
  },
  {
   "cell_type": "code",
   "execution_count": 42,
   "metadata": {},
   "outputs": [
    {
     "name": "stdout",
     "output_type": "stream",
     "text": [
      "abc\n",
      "A\n",
      "A&.-.=.\n"
     ]
    }
   ],
   "source": [
    "# Write your code here\n",
    "def display_chars_after_digits(my_str):\n",
    "    non_numeric = ''\n",
    "    for i in range(1, len(my_str)):\n",
    "        if not my_str[i].isnumeric():\n",
    "            if my_str[i-1].isnumeric():\n",
    "                non_numeric += my_str[i]\n",
    "    print(non_numeric)\n",
    "    \n",
    "display_chars_after_digits('1a2b3c')\n",
    "display_chars_after_digits('123ABC456')\n",
    "display_chars_after_digits('abc12ABC0& 35.9-6.30=29.6')"
   ]
  },
  {
   "cell_type": "code",
   "execution_count": null,
   "metadata": {},
   "outputs": [],
   "source": [
    "# Solution 1\n",
    "def display_chars_after_digits(my_str):\n",
    "    \n",
    "    DIGITS = '0123456789'\n",
    "    \n",
    "    for index in range(1, len(my_str)):\n",
    "        ch = my_str[index]\n",
    "        prev_ch = my_str[index-1] # Note that since index starts from 1, index-1 is always valid.\n",
    "        \n",
    "        if ch not in DIGITS and prev_ch in DIGITS:\n",
    "            print(ch, end='')"
   ]
  },
  {
   "cell_type": "code",
   "execution_count": null,
   "metadata": {},
   "outputs": [],
   "source": [
    "# Solution 2\n",
    "def display_chars_after_digits(my_str):\n",
    "    \n",
    "    # initialisation\n",
    "    str_to_return = ''\n",
    "    in_digit_seq = False\n",
    "    \n",
    "    for ch in my_str:\n",
    "        if ch.isdigit():\n",
    "            in_digit_seq = True\n",
    "        else:\n",
    "            if in_digit_seq == True:\n",
    "                in_digit_seq = False\n",
    "                str_to_return += ch\n",
    "                \n",
    "    print(str_to_return)   "
   ]
  },
  {
   "cell_type": "code",
   "execution_count": null,
   "metadata": {},
   "outputs": [],
   "source": [
    "# prints abc\n",
    "display_chars_after_digits('1a2b3c')"
   ]
  },
  {
   "cell_type": "code",
   "execution_count": null,
   "metadata": {},
   "outputs": [],
   "source": [
    "# prints A\n",
    "display_chars_after_digits('123ABC456')"
   ]
  },
  {
   "cell_type": "code",
   "execution_count": null,
   "metadata": {},
   "outputs": [],
   "source": [
    "# prints A&.-.=.\n",
    "display_chars_after_digits('abc12ABC0& 35.9-6.30=29.6')"
   ]
  },
  {
   "cell_type": "markdown",
   "metadata": {},
   "source": [
    "### 6. Rectangles\n",
    "\n",
    "#### (a)\n",
    "\n",
    "Define a function called `get_total_area`. The function takes in a parameter called `rect_list`. It is a list of tuples, where each tuple contains two integers, representing the width and length of a rectangle. The function returns the total area of all the rectangles in the list. Note that the area of a rectangle is equal to its width multiplied by its length.\n",
    "\n",
    "E.g., `get_total_area([(1, 2), (4, 5), (2, 9)])` returns 40 (because the area of the first rectangle is 2, the area of the second rectangle is 20 and the area of the third rectangle is 18)."
   ]
  },
  {
   "cell_type": "code",
   "execution_count": 43,
   "metadata": {},
   "outputs": [],
   "source": [
    "# Write your code here\n",
    "def get_total_area(rect_list):\n",
    "    my_total_area = 0\n",
    "    for rect in rect_list:\n",
    "        my_total_area += rect[0] * rect[1]\n",
    "    return my_total_area"
   ]
  },
  {
   "cell_type": "code",
   "execution_count": null,
   "metadata": {},
   "outputs": [],
   "source": [
    "# Solution\n",
    "def get_total_area(rect_list):\n",
    "    \n",
    "    # initialisation\n",
    "    tot_area = 0\n",
    "    for tup in rect_list:\n",
    "        w = tup[0]\n",
    "        l = tup[1]\n",
    "        tot_area += (w * l)\n",
    "    return tot_area"
   ]
  },
  {
   "cell_type": "code",
   "execution_count": 44,
   "metadata": {},
   "outputs": [
    {
     "name": "stdout",
     "output_type": "stream",
     "text": [
      "40\n"
     ]
    }
   ],
   "source": [
    "# prints 40\n",
    "print(get_total_area([(1, 2), (4, 5), (2, 9)]))"
   ]
  },
  {
   "cell_type": "markdown",
   "metadata": {},
   "source": [
    "#### (b)\n",
    "\n",
    "Define a function called `get_largest_rectangle`. The function takes in the same parameter as the one above. It returns a tuple containing three integers: the first two are the width and length of the rectangle that has the largest area in `rect_list`, the third integer is its area. \n",
    "\n",
    "If there are two rectangles sharing the same size (i.e., same area), the function should return the first such rectangle in `rect_list`.\n",
    "\n",
    "E.g., `get_largest_rectangle([(1, 2), (4, 5), (2, 9), (10, 2)])` returns `(4, 5, 20)`. This is because the rectangle `(4, 5)` has the largest area of 20 among the rectangles. Although the last rectangle `(10, 2)` also has an area of 20, it appears after `(4, 5)` and therefore is not returned.\n",
    "\n",
    "You can assume that the list `rect_list` contains at least one element."
   ]
  },
  {
   "cell_type": "code",
   "execution_count": 45,
   "metadata": {},
   "outputs": [],
   "source": [
    "# Write your code here\n",
    "def get_largest_rectangle(rect_list):\n",
    "    largest_rect = rect_list[0]\n",
    "    largest_area = largest_rect[0] * largest_rect[1]\n",
    "    for i in range(1, len(rect_list)):\n",
    "        area = rect_list[i][0] * rect_list[i][1]\n",
    "        if area > largest_area:\n",
    "            largest_rect = rect_list[i]\n",
    "            largest_area = area\n",
    "    return_tuple = (largest_rect[0], largest_rect[1], largest_area)\n",
    "    return return_tuple"
   ]
  },
  {
   "cell_type": "code",
   "execution_count": null,
   "metadata": {},
   "outputs": [],
   "source": [
    "# Solution\n",
    "def get_largest_rectangle(rect_list):\n",
    "    \n",
    "    # Write your code here\n",
    "    # initialisation \n",
    "    max_area = 0\n",
    "    max_rect = None\n",
    "    \n",
    "    for tup in rect_list:\n",
    "        w = tup[0]\n",
    "        l = tup[1]\n",
    "        area = w * l\n",
    "        if area > max_area:\n",
    "            max_area = area\n",
    "            max_rect = tup\n",
    "            \n",
    "    return (max_rect[0], max_rect[1], max_area)    "
   ]
  },
  {
   "cell_type": "code",
   "execution_count": 46,
   "metadata": {},
   "outputs": [
    {
     "name": "stdout",
     "output_type": "stream",
     "text": [
      "(4, 5, 20)\n"
     ]
    }
   ],
   "source": [
    "# The code below should print the tuple (4, 5, 20)\n",
    "print(get_largest_rectangle([(1, 2), (4, 5), (2, 9), (10, 2)]))"
   ]
  },
  {
   "cell_type": "markdown",
   "metadata": {},
   "source": [
    "### 7. User Input\n",
    "\n",
    "Write some code that prompts the user for two integer numbers `num1` and `num2` and stops prompting the user when \n",
    "\n",
    "(1) `num1` is a multiple of 3 and `num2` is a multiple of 5,\n",
    "\n",
    "__or__ \n",
    "\n",
    "(2) when the sum of the two numbers is a multiple of 7.\n",
    "\n",
    "For example:\n",
    "\n",
    "```\n",
    "first number : 4\n",
    "second number : 5\n",
    "Not valid!\n",
    "\n",
    "first number : 6\n",
    "second number : 6\n",
    "Not valid!\n",
    "\n",
    "first number : 6\n",
    "second number : 10\n",
    "Bye!\n",
    "```\n",
    "\n",
    "Another example run:\n",
    "```\n",
    "first number : 17\n",
    "second number : 4\n",
    "Bye!\n",
    "```"
   ]
  },
  {
   "cell_type": "code",
   "execution_count": 56,
   "metadata": {},
   "outputs": [
    {
     "name": "stdout",
     "output_type": "stream",
     "text": [
      "first number : 4\n",
      "second number : 5\n",
      "Not valid!\n",
      "\n",
      "first number : 6\n",
      "second number : 6\n",
      "Not valid!\n",
      "\n",
      "first number : 6\n",
      "second number : 10\n",
      "Bye!\n"
     ]
    }
   ],
   "source": [
    "# Write your code here\n",
    "num1 = int(input('first number : '))\n",
    "num2 = int(input('second number : '))\n",
    "is_multiple = num1 % 3 == 0 and num2 % 5 == 0\n",
    "is_sum = (num1 + num2) % 7 == 0\n",
    "\n",
    "while not (is_multiple or is_sum):\n",
    "    print(\"Not valid!\\n\")\n",
    "    num1 = int(input('first number : '))\n",
    "    num2 = int(input('second number : '))\n",
    "    is_multiple = num1 % 3 == 0 and num2 % 5 == 0\n",
    "    is_sum = (num1 + num2) % 7 == 0\n",
    "print(\"Bye!\")\n"
   ]
  },
  {
   "cell_type": "code",
   "execution_count": null,
   "metadata": {},
   "outputs": [],
   "source": [
    "# Solution - 1\n",
    "\n",
    "num1 = int(input(\"Please enter a first number : \"))\n",
    "num2 = int(input(\"Please enter a second number : \"))\n",
    "\n",
    "while not( (num1 % 3 == 0 and num2 % 5 == 0) or (num1+num2) % 7 == 0 ):\n",
    "    print(\"Not valid!\")\n",
    "    num1 = int(input(\"\\nPlease enter a first number : \"))\n",
    "    num2 = int(input(\"Please enter a second number : \"))\n",
    "\n",
    "print('Bye!')"
   ]
  },
  {
   "cell_type": "code",
   "execution_count": null,
   "metadata": {},
   "outputs": [],
   "source": [
    "# Solution - 2\n",
    "\n",
    "num1 = int(input(\"Please enter a first number : \"))\n",
    "num2 = int(input(\"Please enter a second number : \"))\n",
    "\n",
    "while (num1 % 3 != 0 or num2 % 5 != 0) and (num1+num2) % 7 != 0:   # and has higher precedence than or\n",
    "    print(\"Not valid!\")\n",
    "    num1 = int(input(\"\\nPlease enter a first number : \"))\n",
    "    num2 = int(input(\"Please enter a second number : \"))\n",
    "\n",
    "print('Bye!')"
   ]
  },
  {
   "cell_type": "markdown",
   "metadata": {},
   "source": [
    "### 8. Segmentation\n",
    "Define a function called ```segment``` that takes in a string called ```text``` as its parameter.\n",
    "\n",
    "```text``` contains segments of texts separated by one of the following characters: ```|-=```.\n",
    "\n",
    "You can assume that `text` doesn't start with or end with one of these separators, e.g., you won't have `'|abc='` as `text`.\n",
    "\n",
    "For example, ```text``` may be ```'a b c|def-123 aaa=|(abc)'``` .\n",
    "\n",
    "The segments inside the string are:\n",
    "\n",
    "```\n",
    "'a b c' ,  'def' , '123 aaa' , '' , '(abc)'\n",
    "```\n",
    "\n",
    "The function segments the input string and returns all the segments together with the separaters as a list.\n",
    "\n",
    "For example, given the input string above, the function returns the following list:\n",
    "\n",
    "```\n",
    "['a b c', '|', 'def', '-', '123 aaa', '=', '', '|', '(abc)']\n",
    "```"
   ]
  },
  {
   "cell_type": "code",
   "execution_count": 61,
   "metadata": {},
   "outputs": [],
   "source": [
    "# Write your code here\n",
    "def segment(text):\n",
    "    sep = '|-='\n",
    "    my_string = ''\n",
    "    seg_list = []\n",
    "    for ch in text:\n",
    "        if ch in sep:\n",
    "            seg_list.append(my_string)\n",
    "            seg_list.append(ch)\n",
    "            my_string = ''\n",
    "        else:\n",
    "            my_string += ch\n",
    "    seg_list.append(my_string)\n",
    "    return seg_list\n",
    "            "
   ]
  },
  {
   "cell_type": "code",
   "execution_count": null,
   "metadata": {},
   "outputs": [],
   "source": [
    "# Solution 1\n",
    "\n",
    "def segment(text):\n",
    "    \n",
    "    temp_result_list = [text]\n",
    "    separators = '|-='\n",
    "    \n",
    "    # use each separator to split the segments in temp_result_list\n",
    "    for separator in separators:\n",
    "        \n",
    "        new_result_list = []\n",
    "        \n",
    "        # split each segment in temp_result_list using separator\n",
    "        for segment in temp_result_list:\n",
    "            \n",
    "            new_segments = segment.split(separator)\n",
    "            new_segments_with_separator = []\n",
    "            for new_segment in new_segments:\n",
    "                new_segments_with_separator.append(new_segment)\n",
    "                new_segments_with_separator.append(separator)\n",
    "            \n",
    "            # exclude the last separator from new_segments_with_separator\n",
    "            new_segments_with_separator = new_segments_with_separator[0:len(new_segments_with_separator)-1]\n",
    "            \n",
    "            new_result_list += new_segments_with_separator\n",
    "            \n",
    "        temp_result_list = new_result_list\n",
    "    \n",
    "    return temp_result_list"
   ]
  },
  {
   "cell_type": "code",
   "execution_count": null,
   "metadata": {},
   "outputs": [],
   "source": [
    "# Solution 2\n",
    "\n",
    "def segment(text):\n",
    "    \n",
    "    # initialisation\n",
    "    segment = ''\n",
    "    result_list = []\n",
    "\n",
    "    for ch in text:\n",
    "        if ch in '|-=':\n",
    "            # we have reached the end of a segment\n",
    "            result_list.append(segment)\n",
    "            result_list.append(ch)\n",
    "            segment = ''\n",
    "        else:\n",
    "            segment += ch\n",
    "    # at the end, the last segment needs to be added to the list\n",
    "    result_list.append(segment)\n",
    "    \n",
    "    # return result_list\n",
    "    return result_list"
   ]
  },
  {
   "cell_type": "code",
   "execution_count": 62,
   "metadata": {},
   "outputs": [
    {
     "name": "stdout",
     "output_type": "stream",
     "text": [
      "['a b c', '|', 'def', '-', '123 aaa', '=', '', '|', '(abc)']\n"
     ]
    }
   ],
   "source": [
    "print(segment('a b c|def-123 aaa=|(abc)'))"
   ]
  },
  {
   "cell_type": "markdown",
   "metadata": {},
   "source": [
    "## <font color = 'green'>Additional Questions</font>"
   ]
  },
  {
   "cell_type": "markdown",
   "metadata": {},
   "source": [
    "### 9. What is the output of the following code?"
   ]
  },
  {
   "cell_type": "markdown",
   "metadata": {},
   "source": [
    "#### a)"
   ]
  },
  {
   "cell_type": "code",
   "execution_count": 63,
   "metadata": {},
   "outputs": [
    {
     "name": "stdout",
     "output_type": "stream",
     "text": [
      "[14]\n"
     ]
    }
   ],
   "source": [
    "list2 = []\n",
    "for n in range(2, 20):\n",
    "    if n % 2 == 0 and n % 7 == 0:\n",
    "        list2.append(n)\n",
    "print(list2) # [14]"
   ]
  },
  {
   "cell_type": "markdown",
   "metadata": {},
   "source": [
    "#### b)"
   ]
  },
  {
   "cell_type": "code",
   "execution_count": 64,
   "metadata": {},
   "outputs": [
    {
     "name": "stdout",
     "output_type": "stream",
     "text": [
      "[3, 5, 7, 4, 6, 8]\n"
     ]
    }
   ],
   "source": [
    "my_list = [3, 5, 7, 5, 4, 6, 8, 4]\n",
    "\n",
    "your_list = []\n",
    "for n in my_list:\n",
    "    if n not in your_list:\n",
    "        your_list.append(n)\n",
    "print(your_list) # [3, 5, 7, 4, 6, 8]"
   ]
  },
  {
   "cell_type": "markdown",
   "metadata": {},
   "source": [
    "#### c)"
   ]
  },
  {
   "cell_type": "code",
   "execution_count": 65,
   "metadata": {},
   "outputs": [
    {
     "name": "stdout",
     "output_type": "stream",
     "text": [
      "10\n",
      "6.5\n"
     ]
    }
   ],
   "source": [
    "def mystery1(a, b, c):\n",
    "    a = b + c # 5 = 3 + 2\n",
    "    d = 2 * a # 10 = 2 * 5\n",
    "    print(d) # 10\n",
    "    return a + b / c # 6.5\n",
    "\n",
    "c = 2\n",
    "b = 3\n",
    "a = 4\n",
    "d = mystery1(a, b, c)\n",
    "print(d) # 6.5"
   ]
  },
  {
   "cell_type": "markdown",
   "metadata": {},
   "source": [
    "#### d)"
   ]
  },
  {
   "cell_type": "code",
   "execution_count": 66,
   "metadata": {},
   "outputs": [
    {
     "name": "stdout",
     "output_type": "stream",
     "text": [
      "['ell', 'w', 'r']\n"
     ]
    }
   ],
   "source": [
    "def mystery2(s1, s2):\n",
    "    s = s1[1:len(s1)] + s2[0:3] # ellowor\n",
    "    to_return = s.split('o') #['ell', 'w', 'r']\n",
    "    return to_return\n",
    "    \n",
    "str1 = 'hello'\n",
    "str2 = 'world'\n",
    "unknown = mystery2(str1, str2)\n",
    "print(unknown)"
   ]
  },
  {
   "cell_type": "markdown",
   "metadata": {},
   "source": [
    "#### e) "
   ]
  },
  {
   "cell_type": "code",
   "execution_count": 68,
   "metadata": {},
   "outputs": [],
   "source": [
    "def mystery5(x, y=10, z='SMU'):\n",
    "    print(x + y)\n",
    "    print(z + ' Student Association')"
   ]
  },
  {
   "cell_type": "code",
   "execution_count": 69,
   "metadata": {},
   "outputs": [
    {
     "name": "stdout",
     "output_type": "stream",
     "text": [
      "13\n",
      "SMU Student Association\n"
     ]
    }
   ],
   "source": [
    "mystery5(3) # 13, SMU Student Association"
   ]
  },
  {
   "cell_type": "code",
   "execution_count": 70,
   "metadata": {},
   "outputs": [
    {
     "name": "stdout",
     "output_type": "stream",
     "text": [
      "5\n",
      "SMU Student Association\n"
     ]
    }
   ],
   "source": [
    "mystery5(3, 2) # 5, SMU Student Association"
   ]
  },
  {
   "cell_type": "code",
   "execution_count": 71,
   "metadata": {},
   "outputs": [
    {
     "name": "stdout",
     "output_type": "stream",
     "text": [
      "5\n",
      "SUTD Student Association\n"
     ]
    }
   ],
   "source": [
    "mystery5(3, 2, 'SUTD') # 5, SUTD Student Association"
   ]
  },
  {
   "cell_type": "code",
   "execution_count": 72,
   "metadata": {},
   "outputs": [
    {
     "name": "stdout",
     "output_type": "stream",
     "text": [
      "13\n",
      "NTU Student Association\n"
     ]
    }
   ],
   "source": [
    "mystery5(3, z='NTU') # 13, NTU Student Association"
   ]
  },
  {
   "cell_type": "code",
   "execution_count": 73,
   "metadata": {},
   "outputs": [
    {
     "name": "stdout",
     "output_type": "stream",
     "text": [
      "8\n",
      "NUS Student Association\n"
     ]
    }
   ],
   "source": [
    "mystery5(3, y=5, z='NUS') # 8, NUS Student Association"
   ]
  },
  {
   "cell_type": "code",
   "execution_count": 74,
   "metadata": {},
   "outputs": [
    {
     "ename": "TypeError",
     "evalue": "unsupported operand type(s) for +: 'int' and 'str'",
     "output_type": "error",
     "traceback": [
      "\u001b[1;31m---------------------------------------------------------------------------\u001b[0m",
      "\u001b[1;31mTypeError\u001b[0m                                 Traceback (most recent call last)",
      "Input \u001b[1;32mIn [74]\u001b[0m, in \u001b[0;36m<cell line: 1>\u001b[1;34m()\u001b[0m\n\u001b[1;32m----> 1\u001b[0m \u001b[43mmystery5\u001b[49m\u001b[43m(\u001b[49m\u001b[38;5;241;43m3\u001b[39;49m\u001b[43m,\u001b[49m\u001b[43m \u001b[49m\u001b[38;5;124;43m'\u001b[39;49m\u001b[38;5;124;43mNUS\u001b[39;49m\u001b[38;5;124;43m'\u001b[39;49m\u001b[43m)\u001b[49m\n",
      "Input \u001b[1;32mIn [68]\u001b[0m, in \u001b[0;36mmystery5\u001b[1;34m(x, y, z)\u001b[0m\n\u001b[0;32m      1\u001b[0m \u001b[38;5;28;01mdef\u001b[39;00m \u001b[38;5;21mmystery5\u001b[39m(x, y\u001b[38;5;241m=\u001b[39m\u001b[38;5;241m10\u001b[39m, z\u001b[38;5;241m=\u001b[39m\u001b[38;5;124m'\u001b[39m\u001b[38;5;124mSMU\u001b[39m\u001b[38;5;124m'\u001b[39m):\n\u001b[1;32m----> 2\u001b[0m     \u001b[38;5;28mprint\u001b[39m(\u001b[43mx\u001b[49m\u001b[43m \u001b[49m\u001b[38;5;241;43m+\u001b[39;49m\u001b[43m \u001b[49m\u001b[43my\u001b[49m)\n\u001b[0;32m      3\u001b[0m     \u001b[38;5;28mprint\u001b[39m(z \u001b[38;5;241m+\u001b[39m \u001b[38;5;124m'\u001b[39m\u001b[38;5;124m Student Association\u001b[39m\u001b[38;5;124m'\u001b[39m)\n",
      "\u001b[1;31mTypeError\u001b[0m: unsupported operand type(s) for +: 'int' and 'str'"
     ]
    }
   ],
   "source": [
    "mystery5(3, 'NUS') # error"
   ]
  },
  {
   "cell_type": "markdown",
   "metadata": {},
   "source": [
    "#### f)"
   ]
  },
  {
   "cell_type": "code",
   "execution_count": 75,
   "metadata": {},
   "outputs": [
    {
     "name": "stdout",
     "output_type": "stream",
     "text": [
      "Gm!\n",
      "Good evening!\n",
      "event\n",
      "tneve\n"
     ]
    }
   ],
   "source": [
    "name_1 = 'Good morning!'\n",
    "name_2 = 'Good evening!'\n",
    "\n",
    "print (name_1[0] + name_1[5] + name_1[len(name_1) - 1]) # G + m + !\n",
    "\n",
    "print (name_1[0:4], name_2[5:]) # Good evening!\n",
    "\n",
    "substr = name_2[5:9] + 't' # event\n",
    "print(substr) # event\n",
    "print(substr[::-1]) # tneve"
   ]
  },
  {
   "cell_type": "markdown",
   "metadata": {},
   "source": [
    "### 10. \n",
    "Given the Python code below, what will be the output of the code for the following values of n?"
   ]
  },
  {
   "cell_type": "code",
   "execution_count": 92,
   "metadata": {},
   "outputs": [
    {
     "ename": "TypeError",
     "evalue": "'<=' not supported between instances of 'NoneType' and 'int'",
     "output_type": "error",
     "traceback": [
      "\u001b[1;31m---------------------------------------------------------------------------\u001b[0m",
      "\u001b[1;31mTypeError\u001b[0m                                 Traceback (most recent call last)",
      "Input \u001b[1;32mIn [92]\u001b[0m, in \u001b[0;36m<cell line: 1>\u001b[1;34m()\u001b[0m\n\u001b[1;32m----> 1\u001b[0m \u001b[38;5;28;01mif\u001b[39;00m \u001b[43mn\u001b[49m\u001b[43m \u001b[49m\u001b[38;5;241;43m<\u001b[39;49m\u001b[38;5;241;43m=\u001b[39;49m\u001b[43m \u001b[49m\u001b[38;5;241;43m5\u001b[39;49m:\n\u001b[0;32m      2\u001b[0m     \u001b[38;5;28mprint\u001b[39m(\u001b[38;5;124m'\u001b[39m\u001b[38;5;124mMorning\u001b[39m\u001b[38;5;124m'\u001b[39m)\n\u001b[0;32m      3\u001b[0m \u001b[38;5;28;01melse\u001b[39;00m: \n",
      "\u001b[1;31mTypeError\u001b[0m: '<=' not supported between instances of 'NoneType' and 'int'"
     ]
    }
   ],
   "source": [
    "if n <= 5:\n",
    "    print('Morning')\n",
    "else: \n",
    "    if n > 20:\n",
    "        print('Afternoon')\n",
    "    elif n < 10:\n",
    "        print('Evening')\n",
    "    elif n > 8:\n",
    "        print('Night')\n",
    "    else:\n",
    "        print('Day')"
   ]
  },
  {
   "cell_type": "markdown",
   "metadata": {},
   "source": [
    "<table align=\"left\" class=\"table table-bordered\" style=\"width:40%\">\n",
    "<tr>\n",
    "<th style=\"text-align:center; width:5%\">No</th>\n",
    "<th style=\"text-align:center; width:5%\">Value of a</th>\n",
    "<th style=\"text-align:center; width:10%\">Output</th>\n",
    "</tr>\n",
    "<tr><td style=\"text-align:center; \">a.</td><td>n = 2</td><td></td></tr>\n",
    "<tr><td style=\"text-align:center; \">b.</td><td>n = 7</td><td></td></tr>\n",
    "<tr><td style=\"text-align:center; \">c.</td><td>n = 9</td><td></td></tr>\n",
    "<tr><td style=\"text-align:center; \">d.</td><td>n = 18</td><td></td></tr>\n",
    "</table>\n",
    "\n",
    "#### <br /><br /><br /><br /><br /><br /><br /><br /><br /><br /><br /><br /><br />Which value of n will print 'Day' on the screen?"
   ]
  },
  {
   "cell_type": "markdown",
   "metadata": {},
   "source": [
    "### 11. \n",
    "\n",
    "#### (a)\n",
    "\n",
    "Write a program that prompts the user for a positive integer. The program prints out the odd integers between 1 and the number (both inclusive).\n",
    "\n",
    "\n",
    "```\n",
    "Enter a number :10\n",
    "1 3 5 7 9 \n",
    "```\n",
    "\n",
    "```\n",
    "Enter a number :5\n",
    "1 3 5\n",
    "```"
   ]
  },
  {
   "cell_type": "code",
   "execution_count": 101,
   "metadata": {},
   "outputs": [
    {
     "name": "stdout",
     "output_type": "stream",
     "text": [
      "Enter a number :10\n",
      "1 3 5 7 9 "
     ]
    }
   ],
   "source": [
    "# Write your code here\n",
    "num = int(input('Enter a number :'))\n",
    "for i in range(num+1):\n",
    "    if i % 2 != 0:\n",
    "        print(i, end=' ')\n"
   ]
  },
  {
   "cell_type": "code",
   "execution_count": null,
   "metadata": {},
   "outputs": [],
   "source": [
    "# Solution 1\n",
    "\n",
    "num = int(input('Enter an integer number :'))\n",
    "\n",
    "output_str = ''\n",
    "for i in range(num + 1):\n",
    "    if i % 2 == 1:\n",
    "        output_str += str(i) + ' '\n",
    "output_str = output_str[0:len(output_str) - 1]\n",
    "print(output_str)"
   ]
  },
  {
   "cell_type": "code",
   "execution_count": 100,
   "metadata": {},
   "outputs": [
    {
     "name": "stdout",
     "output_type": "stream",
     "text": [
      "Enter an integer number :5\n",
      "1 3 5\n"
     ]
    }
   ],
   "source": [
    "# Solution 2\n",
    "\n",
    "num = int(input('Enter an integer number :'))\n",
    "for i in range(1, num, 2):\n",
    "    print(i, end = ' ')\n",
    "print(num)"
   ]
  },
  {
   "cell_type": "markdown",
   "metadata": {},
   "source": [
    "#### (b) \n",
    "\n",
    "Write a program that prompts the user for a positive integer. Call this number $n$. The program then displays all the even numbers between 0 and 2$n$ (both inclusive).\n",
    "\n",
    "```\n",
    "Enter a number :10\n",
    "0 2 4 6 8 10 12 14 16 18 20 \n",
    "```\n",
    "\n",
    "Other sample run:\n",
    "\n",
    "```\n",
    "Enter a number :15\n",
    "0 2 4 6 8 10 12 14 16 18 20 22 24 26 28 30 \n",
    "```"
   ]
  },
  {
   "cell_type": "code",
   "execution_count": 103,
   "metadata": {},
   "outputs": [
    {
     "name": "stdout",
     "output_type": "stream",
     "text": [
      "Enter a number :15\n",
      "0 2 4 6 8 10 12 14 16 18 20 22 24 26 28 30 "
     ]
    }
   ],
   "source": [
    "# Write your code here\n",
    "num = int(input('Enter a number :'))\n",
    "for i in range(num*2+1):\n",
    "    if i % 2 == 0:\n",
    "        print(i, end=' ')"
   ]
  },
  {
   "cell_type": "code",
   "execution_count": null,
   "metadata": {},
   "outputs": [],
   "source": [
    "# Solution 1\n",
    "\n",
    "num = int(input('Enter an integer number :'))\n",
    "for i in range(num):\n",
    "    print(i * 2, end = ' ')\n",
    "print(2*(num))"
   ]
  },
  {
   "cell_type": "code",
   "execution_count": null,
   "metadata": {},
   "outputs": [],
   "source": [
    "# Solution 2\n",
    "\n",
    "num = int(input('Enter an integer number :'))\n",
    "for i in range(2*num):\n",
    "    if i % 2 == 0:\n",
    "        print(i, end = ' ')\n",
    "print(2*num)"
   ]
  },
  {
   "cell_type": "code",
   "execution_count": null,
   "metadata": {},
   "outputs": [],
   "source": [
    "# Solution 3\n",
    "\n",
    "num = int(input('Enter an integer number :'))\n",
    "for i in range(0, 2*num, 2):\n",
    "    print(i, end = ' ')\n",
    "print(2*num)"
   ]
  },
  {
   "cell_type": "markdown",
   "metadata": {},
   "source": [
    "### 12."
   ]
  },
  {
   "cell_type": "markdown",
   "metadata": {},
   "source": [
    "Observe the output below and write a program that prompts the user for a positive integer and prints out a sequence of numbers as shown below:\n",
    "\n",
    "Sample run 1:\n",
    "\n",
    "```\n",
    "Enter a number :10\n",
    "0 4 8 12 16 20 \n",
    "```\n",
    "Sample run 2:\n",
    "\n",
    "```\n",
    "Enter a number :35\n",
    "0 4 8 12 16 20 24 28 32 36 40 44 48 52 56 60 64 68 \n",
    "```"
   ]
  },
  {
   "cell_type": "code",
   "execution_count": 105,
   "metadata": {},
   "outputs": [
    {
     "name": "stdout",
     "output_type": "stream",
     "text": [
      "Enter a number :35\n",
      "0 4 8 12 16 20 24 28 32 36 40 44 48 52 56 60 64 68 "
     ]
    }
   ],
   "source": [
    "# Write your code here\n",
    "num = int(input('Enter a number :'))\n",
    "for i in range(num*2+1):\n",
    "    if i % 4 == 0:\n",
    "        print(i, end=' ')"
   ]
  },
  {
   "cell_type": "code",
   "execution_count": null,
   "metadata": {},
   "outputs": [],
   "source": [
    "# Solution 1\n",
    "\n",
    "num = int(input(\"Enter a number :\"))\n",
    "for i in range(0, num * 2 + 1):\n",
    "    if i % 4 == 0:\n",
    "        print(str(i) + ' ', end='')"
   ]
  },
  {
   "cell_type": "code",
   "execution_count": null,
   "metadata": {},
   "outputs": [],
   "source": [
    "# Solution 2\n",
    "\n",
    "num = int(input(\"Enter a number :\"))\n",
    "\n",
    "n_to_be_printed = 0\n",
    "while n_to_be_printed // 2 <= num:\n",
    "    print(n_to_be_printed, end = ' ')\n",
    "    n_to_be_printed += 4"
   ]
  },
  {
   "cell_type": "markdown",
   "metadata": {},
   "source": [
    "### 13.\n",
    "\n",
    "Write a program that takes in a string and prints out the characters with odd indices. \n",
    "\n",
    "\n",
    "```\n",
    "Enter a sentence :Blue Lagoon\n",
    "position 1: l\n",
    "position 3: e\n",
    "position 5: L\n",
    "position 7: g\n",
    "position 9: o\n",
    "\n",
    "total: 5 characters at odd positions\n",
    "```\n"
   ]
  },
  {
   "cell_type": "code",
   "execution_count": 107,
   "metadata": {},
   "outputs": [
    {
     "name": "stdout",
     "output_type": "stream",
     "text": [
      "Enter a sentence :Blue Lagoon\n",
      "position 1: l\n",
      "position 3: e\n",
      "position 5: L\n",
      "position 7: g\n",
      "position 9: o\n",
      "\n",
      "total: 5 characters at odd positions\n"
     ]
    }
   ],
   "source": [
    "# Write your code here\n",
    "text = input('Enter a sentence :')\n",
    "counter = 0\n",
    "for i in range(len(text)):\n",
    "    if i % 2 != 0:\n",
    "        counter += 1\n",
    "        print('position ' + str(i) + ': ' + text[i])\n",
    "print('\\ntotal: ' + str(counter) + ' characters at odd positions')"
   ]
  },
  {
   "cell_type": "code",
   "execution_count": null,
   "metadata": {},
   "outputs": [],
   "source": [
    "# Solution\n",
    "\n",
    "sentence = input('Enter a sentence :')\n",
    "count = 0\n",
    "\n",
    "for i in range(len(sentence)):\n",
    "    if i % 2 == 1:\n",
    "        ch = sentence[i]\n",
    "        print('position ' + str(i) + ': ' + ch)\n",
    "        count += 1\n",
    "        \n",
    "print('\\ntotal:',count, 'characters at odd positions')"
   ]
  },
  {
   "cell_type": "markdown",
   "metadata": {},
   "source": [
    "### 14."
   ]
  },
  {
   "cell_type": "markdown",
   "metadata": {},
   "source": [
    "Define a function ```get_total_length()``` that takes in a list of strings as its parameter. The function returns the total length of all the strings in the list.\n",
    "\n",
    "E.g. ```get_total_length(['123', '00', 'abcde'])``` should return 10.\n"
   ]
  },
  {
   "cell_type": "code",
   "execution_count": 108,
   "metadata": {},
   "outputs": [],
   "source": [
    "# write you code here\n",
    "def get_total_length(text_list):\n",
    "    total_length = 0\n",
    "    for text in text_list:\n",
    "        total_length += len(text)\n",
    "    return total_length"
   ]
  },
  {
   "cell_type": "code",
   "execution_count": null,
   "metadata": {},
   "outputs": [],
   "source": [
    "# Solution 1\n",
    "\n",
    "def get_total_length(my_list):\n",
    "    total_str = ''\n",
    "    for s in my_list:\n",
    "        total_str += s\n",
    "    return len(total_str)   "
   ]
  },
  {
   "cell_type": "code",
   "execution_count": null,
   "metadata": {},
   "outputs": [],
   "source": [
    "# Solution 2\n",
    "\n",
    "def get_total_length(my_list):\n",
    "    count = 0\n",
    "    for s in my_list:\n",
    "        count += len(s)\n",
    "    return count       "
   ]
  },
  {
   "cell_type": "code",
   "execution_count": 109,
   "metadata": {},
   "outputs": [
    {
     "name": "stdout",
     "output_type": "stream",
     "text": [
      "10\n"
     ]
    }
   ],
   "source": [
    "# prints 10\n",
    "print(get_total_length(['123', '00', 'abcde']))"
   ]
  },
  {
   "cell_type": "code",
   "execution_count": null,
   "metadata": {},
   "outputs": [],
   "source": []
  }
 ],
 "metadata": {
  "kernelspec": {
   "display_name": "Python 3 (ipykernel)",
   "language": "python",
   "name": "python3"
  },
  "language_info": {
   "codemirror_mode": {
    "name": "ipython",
    "version": 3
   },
   "file_extension": ".py",
   "mimetype": "text/x-python",
   "name": "python",
   "nbconvert_exporter": "python",
   "pygments_lexer": "ipython3",
   "version": "3.9.12"
  }
 },
 "nbformat": 4,
 "nbformat_minor": 2
}
